{
 "cells": [
  {
   "cell_type": "markdown",
   "metadata": {},
   "source": [
    "### Approximate string matching with FuzzyWuzzy\n",
    "\n",
    "- FuzzyWuzzy is a python library uses Levenstein Distance to calculate the differences between sequences\n",
    "- following https://github.com/seatgeek/fuzzywuzzy\n",
    "- and https://towardsdatascience.com/natural-language-processing-for-fuzzy-string-matching-with-python-6632b7824c49"
   ]
  },
  {
   "cell_type": "code",
   "execution_count": 1,
   "metadata": {},
   "outputs": [
    {
     "name": "stderr",
     "output_type": "stream",
     "text": [
      "/Users/grace/workspace/keras/venv/lib/python3.6/site-packages/fuzzywuzzy/fuzz.py:11: UserWarning: Using slow pure-python SequenceMatcher. Install python-Levenshtein to remove this warning\n",
      "  warnings.warn('Using slow pure-python SequenceMatcher. Install python-Levenshtein to remove this warning')\n"
     ]
    }
   ],
   "source": [
    "import db_conn\n",
    "import pymysql\n",
    "import pandas as pd\n",
    "from fuzzywuzzy import fuzz"
   ]
  },
  {
   "cell_type": "code",
   "execution_count": 2,
   "metadata": {},
   "outputs": [
    {
     "data": {
      "text/plain": [
       "73"
      ]
     },
     "execution_count": 2,
     "metadata": {},
     "output_type": "execute_result"
    }
   ],
   "source": [
    "# ratio compare the entire string similarity in order\n",
    "fuzz.ratio('mesna', 'mesnex')\n",
    "# 73 = 73% similar"
   ]
  },
  {
   "cell_type": "code",
   "execution_count": 3,
   "metadata": {},
   "outputs": [
    {
     "data": {
      "text/plain": [
       "43"
      ]
     },
     "execution_count": 3,
     "metadata": {},
     "output_type": "execute_result"
    }
   ],
   "source": [
    "# partial_ratio compares partial string similarity\n",
    "fuzz.partial_ratio('I love computer science', 'computer programming is what I love the most')"
   ]
  },
  {
   "cell_type": "code",
   "execution_count": 4,
   "metadata": {},
   "outputs": [
    {
     "data": {
      "text/plain": [
       "57"
      ]
     },
     "execution_count": 4,
     "metadata": {},
     "output_type": "execute_result"
    }
   ],
   "source": [
    "# token_sort_ratio : ignores word order\n",
    "fuzz.token_sort_ratio('I love computer science', 'computer programming is what I love the most')"
   ]
  },
  {
   "cell_type": "code",
   "execution_count": 5,
   "metadata": {},
   "outputs": [
    {
     "data": {
      "text/plain": [
       "79"
      ]
     },
     "execution_count": 5,
     "metadata": {},
     "output_type": "execute_result"
    }
   ],
   "source": [
    "# token_set_ratio : ignores duplicate words\n",
    "fuzz.token_set_ratio('I love computer science', 'computer programming is what I love the most')"
   ]
  },
  {
   "cell_type": "code",
   "execution_count": 6,
   "metadata": {},
   "outputs": [
    {
     "data": {
      "text/plain": [
       "57"
      ]
     },
     "execution_count": 6,
     "metadata": {},
     "output_type": "execute_result"
    }
   ],
   "source": [
    "# token_set_ratio : ignores duplicate words\n",
    "fuzz.token_set_ratio('I love computer science', 'computer programming')"
   ]
  },
  {
   "cell_type": "code",
   "execution_count": 7,
   "metadata": {},
   "outputs": [],
   "source": [
    "conn = db_conn.CONN\n",
    "cursor = conn.cursor(pymysql.cursors.DictCursor)"
   ]
  },
  {
   "cell_type": "code",
   "execution_count": 8,
   "metadata": {},
   "outputs": [
    {
     "data": {
      "text/plain": [
       "24070"
      ]
     },
     "execution_count": 8,
     "metadata": {},
     "output_type": "execute_result"
    }
   ],
   "source": [
    "# get drug list from dictionary table\n",
    "cursor.execute('SELECT * FROM dict_collapsed_final')\n",
    "drugs = pd.DataFrame(cursor.fetchall())"
   ]
  },
  {
   "cell_type": "code",
   "execution_count": 9,
   "metadata": {},
   "outputs": [
    {
     "data": {
      "text/html": [
       "<div>\n",
       "<style scoped>\n",
       "    .dataframe tbody tr th:only-of-type {\n",
       "        vertical-align: middle;\n",
       "    }\n",
       "\n",
       "    .dataframe tbody tr th {\n",
       "        vertical-align: top;\n",
       "    }\n",
       "\n",
       "    .dataframe thead th {\n",
       "        text-align: right;\n",
       "    }\n",
       "</style>\n",
       "<table border=\"1\" class=\"dataframe\">\n",
       "  <thead>\n",
       "    <tr style=\"text-align: right;\">\n",
       "      <th></th>\n",
       "      <th>cui1</th>\n",
       "      <th>cui1_str</th>\n",
       "      <th>cui2</th>\n",
       "      <th>cui2_str</th>\n",
       "    </tr>\n",
       "  </thead>\n",
       "  <tbody>\n",
       "    <tr>\n",
       "      <th>0</th>\n",
       "      <td>C0000294</td>\n",
       "      <td>mesna</td>\n",
       "      <td>C0000294</td>\n",
       "      <td>mesna</td>\n",
       "    </tr>\n",
       "    <tr>\n",
       "      <th>1</th>\n",
       "      <td>C0000294</td>\n",
       "      <td>mesna</td>\n",
       "      <td>C0206008</td>\n",
       "      <td>coenzima m</td>\n",
       "    </tr>\n",
       "    <tr>\n",
       "      <th>2</th>\n",
       "      <td>C0000294</td>\n",
       "      <td>mesna</td>\n",
       "      <td>C0206008</td>\n",
       "      <td>coenzym m</td>\n",
       "    </tr>\n",
       "    <tr>\n",
       "      <th>3</th>\n",
       "      <td>C0000294</td>\n",
       "      <td>mesna</td>\n",
       "      <td>C0206008</td>\n",
       "      <td>coenzyme m</td>\n",
       "    </tr>\n",
       "    <tr>\n",
       "      <th>4</th>\n",
       "      <td>C0000294</td>\n",
       "      <td>mesna</td>\n",
       "      <td>C0206008</td>\n",
       "      <td>reduced com</td>\n",
       "    </tr>\n",
       "    <tr>\n",
       "      <th>5</th>\n",
       "      <td>C0000294</td>\n",
       "      <td>mesna</td>\n",
       "      <td>C0678115</td>\n",
       "      <td>uromitexan</td>\n",
       "    </tr>\n",
       "    <tr>\n",
       "      <th>6</th>\n",
       "      <td>C0000294</td>\n",
       "      <td>mesna</td>\n",
       "      <td>C0721681</td>\n",
       "      <td>mesnex</td>\n",
       "    </tr>\n",
       "    <tr>\n",
       "      <th>7</th>\n",
       "      <td>C0000294</td>\n",
       "      <td>mesna</td>\n",
       "      <td>C0733873</td>\n",
       "      <td>astad 7093</td>\n",
       "    </tr>\n",
       "    <tr>\n",
       "      <th>8</th>\n",
       "      <td>C0000294</td>\n",
       "      <td>mesna</td>\n",
       "      <td>C0733874</td>\n",
       "      <td>mistabron</td>\n",
       "    </tr>\n",
       "    <tr>\n",
       "      <th>9</th>\n",
       "      <td>C0000294</td>\n",
       "      <td>mesna</td>\n",
       "      <td>C0733874</td>\n",
       "      <td>mistabronco</td>\n",
       "    </tr>\n",
       "  </tbody>\n",
       "</table>\n",
       "</div>"
      ],
      "text/plain": [
       "       cui1 cui1_str      cui2     cui2_str\n",
       "0  C0000294    mesna  C0000294        mesna\n",
       "1  C0000294    mesna  C0206008   coenzima m\n",
       "2  C0000294    mesna  C0206008    coenzym m\n",
       "3  C0000294    mesna  C0206008   coenzyme m\n",
       "4  C0000294    mesna  C0206008  reduced com\n",
       "5  C0000294    mesna  C0678115   uromitexan\n",
       "6  C0000294    mesna  C0721681       mesnex\n",
       "7  C0000294    mesna  C0733873   astad 7093\n",
       "8  C0000294    mesna  C0733874    mistabron\n",
       "9  C0000294    mesna  C0733874  mistabronco"
      ]
     },
     "execution_count": 9,
     "metadata": {},
     "output_type": "execute_result"
    }
   ],
   "source": [
    "drugs.head(10)"
   ]
  },
  {
   "cell_type": "markdown",
   "metadata": {},
   "source": [
    "## cui1 와 cui2 string을 비교하기 = 연습으로"
   ]
  },
  {
   "cell_type": "markdown",
   "metadata": {},
   "source": [
    "## token_set_ratio"
   ]
  },
  {
   "cell_type": "code",
   "execution_count": 10,
   "metadata": {},
   "outputs": [],
   "source": [
    "drugs['fuzzy_perc'] = drugs.apply(lambda x: \\\n",
    "                                  fuzz.token_set_ratio(x['cui1_str'], x['cui2_str']),\\\n",
    "                                axis=1)"
   ]
  },
  {
   "cell_type": "code",
   "execution_count": 11,
   "metadata": {},
   "outputs": [
    {
     "data": {
      "text/html": [
       "<div>\n",
       "<style scoped>\n",
       "    .dataframe tbody tr th:only-of-type {\n",
       "        vertical-align: middle;\n",
       "    }\n",
       "\n",
       "    .dataframe tbody tr th {\n",
       "        vertical-align: top;\n",
       "    }\n",
       "\n",
       "    .dataframe thead th {\n",
       "        text-align: right;\n",
       "    }\n",
       "</style>\n",
       "<table border=\"1\" class=\"dataframe\">\n",
       "  <thead>\n",
       "    <tr style=\"text-align: right;\">\n",
       "      <th></th>\n",
       "      <th>cui1</th>\n",
       "      <th>cui1_str</th>\n",
       "      <th>cui2</th>\n",
       "      <th>cui2_str</th>\n",
       "      <th>fuzzy_perc</th>\n",
       "    </tr>\n",
       "  </thead>\n",
       "  <tbody>\n",
       "    <tr>\n",
       "      <th>0</th>\n",
       "      <td>C0000294</td>\n",
       "      <td>mesna</td>\n",
       "      <td>C0000294</td>\n",
       "      <td>mesna</td>\n",
       "      <td>100</td>\n",
       "    </tr>\n",
       "    <tr>\n",
       "      <th>1</th>\n",
       "      <td>C0000294</td>\n",
       "      <td>mesna</td>\n",
       "      <td>C0206008</td>\n",
       "      <td>coenzima m</td>\n",
       "      <td>27</td>\n",
       "    </tr>\n",
       "    <tr>\n",
       "      <th>2</th>\n",
       "      <td>C0000294</td>\n",
       "      <td>mesna</td>\n",
       "      <td>C0206008</td>\n",
       "      <td>coenzym m</td>\n",
       "      <td>14</td>\n",
       "    </tr>\n",
       "    <tr>\n",
       "      <th>3</th>\n",
       "      <td>C0000294</td>\n",
       "      <td>mesna</td>\n",
       "      <td>C0206008</td>\n",
       "      <td>coenzyme m</td>\n",
       "      <td>27</td>\n",
       "    </tr>\n",
       "    <tr>\n",
       "      <th>4</th>\n",
       "      <td>C0000294</td>\n",
       "      <td>mesna</td>\n",
       "      <td>C0206008</td>\n",
       "      <td>reduced com</td>\n",
       "      <td>25</td>\n",
       "    </tr>\n",
       "  </tbody>\n",
       "</table>\n",
       "</div>"
      ],
      "text/plain": [
       "       cui1 cui1_str      cui2     cui2_str  fuzzy_perc\n",
       "0  C0000294    mesna  C0000294        mesna         100\n",
       "1  C0000294    mesna  C0206008   coenzima m          27\n",
       "2  C0000294    mesna  C0206008    coenzym m          14\n",
       "3  C0000294    mesna  C0206008   coenzyme m          27\n",
       "4  C0000294    mesna  C0206008  reduced com          25"
      ]
     },
     "execution_count": 11,
     "metadata": {},
     "output_type": "execute_result"
    }
   ],
   "source": [
    "drugs.head()"
   ]
  },
  {
   "cell_type": "code",
   "execution_count": 12,
   "metadata": {},
   "outputs": [
    {
     "data": {
      "text/html": [
       "<div>\n",
       "<style scoped>\n",
       "    .dataframe tbody tr th:only-of-type {\n",
       "        vertical-align: middle;\n",
       "    }\n",
       "\n",
       "    .dataframe tbody tr th {\n",
       "        vertical-align: top;\n",
       "    }\n",
       "\n",
       "    .dataframe thead th {\n",
       "        text-align: right;\n",
       "    }\n",
       "</style>\n",
       "<table border=\"1\" class=\"dataframe\">\n",
       "  <thead>\n",
       "    <tr style=\"text-align: right;\">\n",
       "      <th></th>\n",
       "      <th>cui1</th>\n",
       "      <th>cui1_str</th>\n",
       "      <th>cui2</th>\n",
       "      <th>cui2_str</th>\n",
       "      <th>fuzzy_perc</th>\n",
       "    </tr>\n",
       "  </thead>\n",
       "  <tbody>\n",
       "    <tr>\n",
       "      <th>6</th>\n",
       "      <td>C0000294</td>\n",
       "      <td>mesna</td>\n",
       "      <td>C0721681</td>\n",
       "      <td>mesnex</td>\n",
       "      <td>73</td>\n",
       "    </tr>\n",
       "    <tr>\n",
       "      <th>14</th>\n",
       "      <td>C0000294</td>\n",
       "      <td>mesna</td>\n",
       "      <td>C0917779</td>\n",
       "      <td>mesnum</td>\n",
       "      <td>73</td>\n",
       "    </tr>\n",
       "    <tr>\n",
       "      <th>32</th>\n",
       "      <td>C0000477</td>\n",
       "      <td>fampridine</td>\n",
       "      <td>C0000477</td>\n",
       "      <td>4 aminopyridine</td>\n",
       "      <td>72</td>\n",
       "    </tr>\n",
       "    <tr>\n",
       "      <th>34</th>\n",
       "      <td>C0000477</td>\n",
       "      <td>fampridine</td>\n",
       "      <td>C0000477</td>\n",
       "      <td>dalfampridine</td>\n",
       "      <td>87</td>\n",
       "    </tr>\n",
       "    <tr>\n",
       "      <th>35</th>\n",
       "      <td>C0000477</td>\n",
       "      <td>fampridine</td>\n",
       "      <td>C0000477</td>\n",
       "      <td>fampridina</td>\n",
       "      <td>90</td>\n",
       "    </tr>\n",
       "    <tr>\n",
       "      <th>37</th>\n",
       "      <td>C0000477</td>\n",
       "      <td>fampridine</td>\n",
       "      <td>C0000477</td>\n",
       "      <td>fampridinum</td>\n",
       "      <td>86</td>\n",
       "    </tr>\n",
       "    <tr>\n",
       "      <th>45</th>\n",
       "      <td>C0000608</td>\n",
       "      <td>aminocaproic acid</td>\n",
       "      <td>C0000608</td>\n",
       "      <td>acide aminocaproque</td>\n",
       "      <td>83</td>\n",
       "    </tr>\n",
       "    <tr>\n",
       "      <th>48</th>\n",
       "      <td>C0000608</td>\n",
       "      <td>aminocaproic acid</td>\n",
       "      <td>C0000608</td>\n",
       "      <td>aminohexanoic acid</td>\n",
       "      <td>80</td>\n",
       "    </tr>\n",
       "    <tr>\n",
       "      <th>68</th>\n",
       "      <td>C0000618</td>\n",
       "      <td>mercaptopurine</td>\n",
       "      <td>C0000618</td>\n",
       "      <td>mercaptopurina</td>\n",
       "      <td>93</td>\n",
       "    </tr>\n",
       "    <tr>\n",
       "      <th>70</th>\n",
       "      <td>C0000618</td>\n",
       "      <td>mercaptopurine</td>\n",
       "      <td>C0000618</td>\n",
       "      <td>mercaptopurinum</td>\n",
       "      <td>90</td>\n",
       "    </tr>\n",
       "  </tbody>\n",
       "</table>\n",
       "</div>"
      ],
      "text/plain": [
       "        cui1           cui1_str      cui2             cui2_str  fuzzy_perc\n",
       "6   C0000294              mesna  C0721681               mesnex          73\n",
       "14  C0000294              mesna  C0917779               mesnum          73\n",
       "32  C0000477         fampridine  C0000477      4 aminopyridine          72\n",
       "34  C0000477         fampridine  C0000477        dalfampridine          87\n",
       "35  C0000477         fampridine  C0000477           fampridina          90\n",
       "37  C0000477         fampridine  C0000477          fampridinum          86\n",
       "45  C0000608  aminocaproic acid  C0000608  acide aminocaproque          83\n",
       "48  C0000608  aminocaproic acid  C0000608   aminohexanoic acid          80\n",
       "68  C0000618     mercaptopurine  C0000618       mercaptopurina          93\n",
       "70  C0000618     mercaptopurine  C0000618      mercaptopurinum          90"
      ]
     },
     "execution_count": 12,
     "metadata": {},
     "output_type": "execute_result"
    }
   ],
   "source": [
    "# 아예 같은 약물이 아닌, 일부 스펠링이 다른 경우 어느 정도의 약물을 같은 약물로 판단할 수 있을 것인가\n",
    "drugs[(drugs.fuzzy_perc>70) & (drugs.fuzzy_perc<100)][:10]"
   ]
  },
  {
   "cell_type": "code",
   "execution_count": 13,
   "metadata": {},
   "outputs": [
    {
     "data": {
      "text/html": [
       "<div>\n",
       "<style scoped>\n",
       "    .dataframe tbody tr th:only-of-type {\n",
       "        vertical-align: middle;\n",
       "    }\n",
       "\n",
       "    .dataframe tbody tr th {\n",
       "        vertical-align: top;\n",
       "    }\n",
       "\n",
       "    .dataframe thead th {\n",
       "        text-align: right;\n",
       "    }\n",
       "</style>\n",
       "<table border=\"1\" class=\"dataframe\">\n",
       "  <thead>\n",
       "    <tr style=\"text-align: right;\">\n",
       "      <th></th>\n",
       "      <th>cui1</th>\n",
       "      <th>cui1_str</th>\n",
       "      <th>cui2</th>\n",
       "      <th>cui2_str</th>\n",
       "      <th>fuzzy_perc</th>\n",
       "    </tr>\n",
       "  </thead>\n",
       "  <tbody>\n",
       "    <tr>\n",
       "      <th>1</th>\n",
       "      <td>C0000294</td>\n",
       "      <td>mesna</td>\n",
       "      <td>C0206008</td>\n",
       "      <td>coenzima m</td>\n",
       "      <td>27</td>\n",
       "    </tr>\n",
       "    <tr>\n",
       "      <th>2</th>\n",
       "      <td>C0000294</td>\n",
       "      <td>mesna</td>\n",
       "      <td>C0206008</td>\n",
       "      <td>coenzym m</td>\n",
       "      <td>14</td>\n",
       "    </tr>\n",
       "    <tr>\n",
       "      <th>3</th>\n",
       "      <td>C0000294</td>\n",
       "      <td>mesna</td>\n",
       "      <td>C0206008</td>\n",
       "      <td>coenzyme m</td>\n",
       "      <td>27</td>\n",
       "    </tr>\n",
       "    <tr>\n",
       "      <th>4</th>\n",
       "      <td>C0000294</td>\n",
       "      <td>mesna</td>\n",
       "      <td>C0206008</td>\n",
       "      <td>reduced com</td>\n",
       "      <td>25</td>\n",
       "    </tr>\n",
       "    <tr>\n",
       "      <th>5</th>\n",
       "      <td>C0000294</td>\n",
       "      <td>mesna</td>\n",
       "      <td>C0678115</td>\n",
       "      <td>uromitexan</td>\n",
       "      <td>40</td>\n",
       "    </tr>\n",
       "    <tr>\n",
       "      <th>7</th>\n",
       "      <td>C0000294</td>\n",
       "      <td>mesna</td>\n",
       "      <td>C0733873</td>\n",
       "      <td>astad 7093</td>\n",
       "      <td>27</td>\n",
       "    </tr>\n",
       "    <tr>\n",
       "      <th>8</th>\n",
       "      <td>C0000294</td>\n",
       "      <td>mesna</td>\n",
       "      <td>C0733874</td>\n",
       "      <td>mistabron</td>\n",
       "      <td>43</td>\n",
       "    </tr>\n",
       "    <tr>\n",
       "      <th>9</th>\n",
       "      <td>C0000294</td>\n",
       "      <td>mesna</td>\n",
       "      <td>C0733874</td>\n",
       "      <td>mistabronco</td>\n",
       "      <td>38</td>\n",
       "    </tr>\n",
       "    <tr>\n",
       "      <th>10</th>\n",
       "      <td>C0000294</td>\n",
       "      <td>mesna</td>\n",
       "      <td>C0733874</td>\n",
       "      <td>mucofluid</td>\n",
       "      <td>14</td>\n",
       "    </tr>\n",
       "    <tr>\n",
       "      <th>12</th>\n",
       "      <td>C0000294</td>\n",
       "      <td>mesna</td>\n",
       "      <td>C0733876</td>\n",
       "      <td>ucb 3983</td>\n",
       "      <td>0</td>\n",
       "    </tr>\n",
       "  </tbody>\n",
       "</table>\n",
       "</div>"
      ],
      "text/plain": [
       "        cui1 cui1_str      cui2     cui2_str  fuzzy_perc\n",
       "1   C0000294    mesna  C0206008   coenzima m          27\n",
       "2   C0000294    mesna  C0206008    coenzym m          14\n",
       "3   C0000294    mesna  C0206008   coenzyme m          27\n",
       "4   C0000294    mesna  C0206008  reduced com          25\n",
       "5   C0000294    mesna  C0678115   uromitexan          40\n",
       "7   C0000294    mesna  C0733873   astad 7093          27\n",
       "8   C0000294    mesna  C0733874    mistabron          43\n",
       "9   C0000294    mesna  C0733874  mistabronco          38\n",
       "10  C0000294    mesna  C0733874    mucofluid          14\n",
       "12  C0000294    mesna  C0733876     ucb 3983           0"
      ]
     },
     "execution_count": 13,
     "metadata": {},
     "output_type": "execute_result"
    }
   ],
   "source": [
    "drugs[(drugs.fuzzy_perc<50)][:10]"
   ]
  },
  {
   "cell_type": "code",
   "execution_count": 14,
   "metadata": {},
   "outputs": [],
   "source": [
    "# sample table -> sentence file\n",
    "sents = []\n",
    "with open('./new_sample_data_m.txt', 'r') as file:\n",
    "    for line in file.readlines():\n",
    "        if(line.find('***')<0):\n",
    "            sents.append(line.strip('\\n'))"
   ]
  },
  {
   "cell_type": "code",
   "execution_count": 15,
   "metadata": {},
   "outputs": [
    {
     "data": {
      "text/plain": [
       "['Adverse event ,  Adverse event : Cardiovascular',\n",
       " 'Adverse event ,  Cardiovascular , Omapatrilat (n=289) : 20 (7%)',\n",
       " 'Adverse event ,  Cardiovascular , Lisinopril (n=284) : 34 (12%)',\n",
       " 'Adverse event ,  Cardiovascular , p : 0·04',\n",
       " 'Adverse event ,  Adverse event : Cardiovascular , Heart failure',\n",
       " 'Adverse event ,  Cardiovascular , Omapatrilat (n=289) : 2 (10%)',\n",
       " 'Adverse event ,  Cardiovascular , Lisinopril (n=284) : 9 (26%)',\n",
       " 'Adverse event ,  Adverse event : Cardiovascular , Ischaemic',\n",
       " 'Adverse event ,  Cardiovascular , Omapatrilat (n=289) : 7 (35%)',\n",
       " 'Adverse event ,  Cardiovascular , Lisinopril (n=284) : 12 (4%)']"
      ]
     },
     "execution_count": 15,
     "metadata": {},
     "output_type": "execute_result"
    }
   ],
   "source": [
    "sents[:10]"
   ]
  },
  {
   "cell_type": "code",
   "execution_count": 16,
   "metadata": {},
   "outputs": [],
   "source": [
    "similarity_gtl_80 = []\n",
    "for d in drugs.cui1_str.unique():\n",
    "    for sen in sents:\n",
    "        fuzz_ratio = fuzz.token_set_ratio(d, sen)\n",
    "        if fuzz_ratio >= 80:\n",
    "            similarity_gtl_80.append({'drug':d, 'sen':sen, 'ratio':fuzz_ratio})"
   ]
  },
  {
   "cell_type": "code",
   "execution_count": 17,
   "metadata": {},
   "outputs": [],
   "source": [
    "df_sim_gtl_80 = pd.DataFrame(similarity_gtl_80)"
   ]
  },
  {
   "cell_type": "code",
   "execution_count": 18,
   "metadata": {},
   "outputs": [
    {
     "data": {
      "text/plain": [
       "(792, 3)"
      ]
     },
     "execution_count": 18,
     "metadata": {},
     "output_type": "execute_result"
    }
   ],
   "source": [
    "df_sim_gtl_80.shape"
   ]
  },
  {
   "cell_type": "code",
   "execution_count": 19,
   "metadata": {},
   "outputs": [
    {
     "data": {
      "text/html": [
       "<div>\n",
       "<style scoped>\n",
       "    .dataframe tbody tr th:only-of-type {\n",
       "        vertical-align: middle;\n",
       "    }\n",
       "\n",
       "    .dataframe tbody tr th {\n",
       "        vertical-align: top;\n",
       "    }\n",
       "\n",
       "    .dataframe thead th {\n",
       "        text-align: right;\n",
       "    }\n",
       "</style>\n",
       "<table border=\"1\" class=\"dataframe\">\n",
       "  <thead>\n",
       "    <tr style=\"text-align: right;\">\n",
       "      <th></th>\n",
       "      <th>drug</th>\n",
       "      <th>ratio</th>\n",
       "      <th>sen</th>\n",
       "    </tr>\n",
       "  </thead>\n",
       "  <tbody>\n",
       "    <tr>\n",
       "      <th>0</th>\n",
       "      <td>salbutamol</td>\n",
       "      <td>100</td>\n",
       "      <td>forced expiratory volume in 1 s (L) Measured a...</td>\n",
       "    </tr>\n",
       "    <tr>\n",
       "      <th>1</th>\n",
       "      <td>salbutamol</td>\n",
       "      <td>100</td>\n",
       "      <td>forced expiratory volume in 1 s (L) Measured a...</td>\n",
       "    </tr>\n",
       "    <tr>\n",
       "      <th>2</th>\n",
       "      <td>salbutamol</td>\n",
       "      <td>100</td>\n",
       "      <td>forced expiratory volume in 1 s percentage pre...</td>\n",
       "    </tr>\n",
       "    <tr>\n",
       "      <th>3</th>\n",
       "      <td>salbutamol</td>\n",
       "      <td>100</td>\n",
       "      <td>forced expiratory volume in 1 s percentage pre...</td>\n",
       "    </tr>\n",
       "    <tr>\n",
       "      <th>4</th>\n",
       "      <td>salbutamol</td>\n",
       "      <td>100</td>\n",
       "      <td>forced expiratory volume in 1 s percentage pre...</td>\n",
       "    </tr>\n",
       "  </tbody>\n",
       "</table>\n",
       "</div>"
      ],
      "text/plain": [
       "         drug  ratio                                                sen\n",
       "0  salbutamol    100  forced expiratory volume in 1 s (L) Measured a...\n",
       "1  salbutamol    100  forced expiratory volume in 1 s (L) Measured a...\n",
       "2  salbutamol    100  forced expiratory volume in 1 s percentage pre...\n",
       "3  salbutamol    100  forced expiratory volume in 1 s percentage pre...\n",
       "4  salbutamol    100  forced expiratory volume in 1 s percentage pre..."
      ]
     },
     "execution_count": 19,
     "metadata": {},
     "output_type": "execute_result"
    }
   ],
   "source": [
    "df_sim_gtl_80.head()"
   ]
  },
  {
   "cell_type": "code",
   "execution_count": 21,
   "metadata": {},
   "outputs": [
    {
     "data": {
      "text/html": [
       "<div>\n",
       "<style scoped>\n",
       "    .dataframe tbody tr th:only-of-type {\n",
       "        vertical-align: middle;\n",
       "    }\n",
       "\n",
       "    .dataframe tbody tr th {\n",
       "        vertical-align: top;\n",
       "    }\n",
       "\n",
       "    .dataframe thead th {\n",
       "        text-align: right;\n",
       "    }\n",
       "</style>\n",
       "<table border=\"1\" class=\"dataframe\">\n",
       "  <thead>\n",
       "    <tr style=\"text-align: right;\">\n",
       "      <th></th>\n",
       "      <th>drug</th>\n",
       "      <th>ratio</th>\n",
       "      <th>sen</th>\n",
       "    </tr>\n",
       "  </thead>\n",
       "  <tbody>\n",
       "  </tbody>\n",
       "</table>\n",
       "</div>"
      ],
      "text/plain": [
       "Empty DataFrame\n",
       "Columns: [drug, ratio, sen]\n",
       "Index: []"
      ]
     },
     "execution_count": 21,
     "metadata": {},
     "output_type": "execute_result"
    }
   ],
   "source": [
    "pd.set_option('display.max_colwidth', -1)\n",
    "df_sim_gtl_80[df_sim_gtl_80.ratio<100]"
   ]
  },
  {
   "cell_type": "code",
   "execution_count": 22,
   "metadata": {},
   "outputs": [
    {
     "data": {
      "text/html": [
       "<div>\n",
       "<style scoped>\n",
       "    .dataframe tbody tr th:only-of-type {\n",
       "        vertical-align: middle;\n",
       "    }\n",
       "\n",
       "    .dataframe tbody tr th {\n",
       "        vertical-align: top;\n",
       "    }\n",
       "\n",
       "    .dataframe thead th {\n",
       "        text-align: right;\n",
       "    }\n",
       "</style>\n",
       "<table border=\"1\" class=\"dataframe\">\n",
       "  <thead>\n",
       "    <tr style=\"text-align: right;\">\n",
       "      <th></th>\n",
       "      <th>cui1</th>\n",
       "      <th>cui1_str</th>\n",
       "      <th>cui2</th>\n",
       "      <th>cui2_str</th>\n",
       "      <th>fuzzy_perc</th>\n",
       "    </tr>\n",
       "  </thead>\n",
       "  <tbody>\n",
       "    <tr>\n",
       "      <th>20289</th>\n",
       "      <td>C0149368</td>\n",
       "      <td>zinc acetate</td>\n",
       "      <td>C0149368</td>\n",
       "      <td>ccris 3346</td>\n",
       "      <td>18</td>\n",
       "    </tr>\n",
       "    <tr>\n",
       "      <th>20290</th>\n",
       "      <td>C0149368</td>\n",
       "      <td>zinc acetate</td>\n",
       "      <td>C0149368</td>\n",
       "      <td>zinc acetate</td>\n",
       "      <td>100</td>\n",
       "    </tr>\n",
       "    <tr>\n",
       "      <th>20291</th>\n",
       "      <td>C0149368</td>\n",
       "      <td>zinc acetate</td>\n",
       "      <td>C0728966</td>\n",
       "      <td>galzin</td>\n",
       "      <td>44</td>\n",
       "    </tr>\n",
       "    <tr>\n",
       "      <th>20292</th>\n",
       "      <td>C0149368</td>\n",
       "      <td>zinc acetate</td>\n",
       "      <td>C2343333</td>\n",
       "      <td>zinx</td>\n",
       "      <td>38</td>\n",
       "    </tr>\n",
       "    <tr>\n",
       "      <th>20293</th>\n",
       "      <td>C0149368</td>\n",
       "      <td>zinc acetate</td>\n",
       "      <td>C2962315</td>\n",
       "      <td>peleverus</td>\n",
       "      <td>19</td>\n",
       "    </tr>\n",
       "  </tbody>\n",
       "</table>\n",
       "</div>"
      ],
      "text/plain": [
       "           cui1      cui1_str      cui2      cui2_str  fuzzy_perc\n",
       "20289  C0149368  zinc acetate  C0149368  ccris 3346    18        \n",
       "20290  C0149368  zinc acetate  C0149368  zinc acetate  100       \n",
       "20291  C0149368  zinc acetate  C0728966  galzin        44        \n",
       "20292  C0149368  zinc acetate  C2343333  zinx          38        \n",
       "20293  C0149368  zinc acetate  C2962315  peleverus     19        "
      ]
     },
     "execution_count": 22,
     "metadata": {},
     "output_type": "execute_result"
    }
   ],
   "source": [
    "drugs.loc[(drugs.cui1_str=='zinc acetate') | (drugs.cui2_str=='zinc acetate')]"
   ]
  },
  {
   "cell_type": "code",
   "execution_count": 23,
   "metadata": {},
   "outputs": [
    {
     "data": {
      "text/html": [
       "<div>\n",
       "<style scoped>\n",
       "    .dataframe tbody tr th:only-of-type {\n",
       "        vertical-align: middle;\n",
       "    }\n",
       "\n",
       "    .dataframe tbody tr th {\n",
       "        vertical-align: top;\n",
       "    }\n",
       "\n",
       "    .dataframe thead th {\n",
       "        text-align: right;\n",
       "    }\n",
       "</style>\n",
       "<table border=\"1\" class=\"dataframe\">\n",
       "  <thead>\n",
       "    <tr style=\"text-align: right;\">\n",
       "      <th></th>\n",
       "      <th>cui1</th>\n",
       "      <th>cui1_str</th>\n",
       "      <th>cui2</th>\n",
       "      <th>cui2_str</th>\n",
       "      <th>fuzzy_perc</th>\n",
       "    </tr>\n",
       "  </thead>\n",
       "  <tbody>\n",
       "    <tr>\n",
       "      <th>21993</th>\n",
       "      <td>C0754011</td>\n",
       "      <td>abiraterone</td>\n",
       "      <td>C2607886</td>\n",
       "      <td>abiraterone acetate</td>\n",
       "      <td>100</td>\n",
       "    </tr>\n",
       "  </tbody>\n",
       "</table>\n",
       "</div>"
      ],
      "text/plain": [
       "           cui1     cui1_str      cui2             cui2_str  fuzzy_perc\n",
       "21993  C0754011  abiraterone  C2607886  abiraterone acetate  100       "
      ]
     },
     "execution_count": 23,
     "metadata": {},
     "output_type": "execute_result"
    }
   ],
   "source": [
    "drugs.loc[(drugs.cui1_str=='abiraterone acetate') | (drugs.cui2_str=='abiraterone acetate')]"
   ]
  },
  {
   "cell_type": "markdown",
   "metadata": {},
   "source": [
    "## extract"
   ]
  },
  {
   "cell_type": "code",
   "execution_count": 24,
   "metadata": {},
   "outputs": [],
   "source": [
    "from fuzzywuzzy import process"
   ]
  },
  {
   "cell_type": "code",
   "execution_count": 25,
   "metadata": {},
   "outputs": [
    {
     "data": {
      "text/plain": [
       "[('I love computer science', 100),\n",
       " ('COMPUTER SCIENCE', 100),\n",
       " ('computer programming', 67)]"
      ]
     },
     "execution_count": 25,
     "metadata": {},
     "output_type": "execute_result"
    }
   ],
   "source": [
    "choices = ['I love computer science', 'COMPUTER SCIENCE', 'computer programming', 'programming IT']\n",
    "process.extract('computer science', choices, limit=3, scorer=fuzz.token_set_ratio)"
   ]
  },
  {
   "cell_type": "code",
   "execution_count": 26,
   "metadata": {},
   "outputs": [],
   "source": [
    "similarity_gtl_80_extract = []\n",
    "for d in drugs.cui1_str.unique():\n",
    "    sens = process.extract(d, sents, limit=3, scorer=fuzz.token_set_ratio)\n",
    "    if len(sens) >=0 :\n",
    "        similarity_gtl_80_extract.append({d:sens})"
   ]
  },
  {
   "cell_type": "code",
   "execution_count": 47,
   "metadata": {},
   "outputs": [],
   "source": [
    "pairs = []\n",
    "for pair in similarity_gtl_80_extract:\n",
    "    d = list(pair.keys())[0]\n",
    "    above_80 = list(map(lambda x: {'drug':d, 'sen':x[0], 'perc':x[1]}, filter(lambda x: x[1] > 80, pair[d])))\n",
    "    if len(above_80)>0:\n",
    "        pairs.extend(above_80)"
   ]
  },
  {
   "cell_type": "code",
   "execution_count": 50,
   "metadata": {},
   "outputs": [
    {
     "data": {
      "text/html": [
       "<div>\n",
       "<style scoped>\n",
       "    .dataframe tbody tr th:only-of-type {\n",
       "        vertical-align: middle;\n",
       "    }\n",
       "\n",
       "    .dataframe tbody tr th {\n",
       "        vertical-align: top;\n",
       "    }\n",
       "\n",
       "    .dataframe thead th {\n",
       "        text-align: right;\n",
       "    }\n",
       "</style>\n",
       "<table border=\"1\" class=\"dataframe\">\n",
       "  <thead>\n",
       "    <tr style=\"text-align: right;\">\n",
       "      <th></th>\n",
       "      <th>drug</th>\n",
       "      <th>perc</th>\n",
       "      <th>sen</th>\n",
       "    </tr>\n",
       "  </thead>\n",
       "  <tbody>\n",
       "    <tr>\n",
       "      <th>0</th>\n",
       "      <td>salbutamol</td>\n",
       "      <td>100</td>\n",
       "      <td>forced expiratory volume in 1 s (L) Measured after salbutamol was administered. , beclometasone dipropionate / formoterol fumarate / glycopyrronium bromide (N=687) : 1·11 (0·32)</td>\n",
       "    </tr>\n",
       "    <tr>\n",
       "      <th>1</th>\n",
       "      <td>salbutamol</td>\n",
       "      <td>100</td>\n",
       "      <td>forced expiratory volume in 1 s (L) Measured after salbutamol was administered. , beclometasone dipropionate / formoterol fumarate (N=680) : 1·10 (0·33)</td>\n",
       "    </tr>\n",
       "    <tr>\n",
       "      <th>2</th>\n",
       "      <td>salbutamol</td>\n",
       "      <td>100</td>\n",
       "      <td>forced expiratory volume in 1 s percentage predicted Measured after salbutamol was administered. , beclometasone dipropionate / formoterol fumarate / glycopyrronium bromide (N=687) : 36·9 (8·4)</td>\n",
       "    </tr>\n",
       "    <tr>\n",
       "      <th>3</th>\n",
       "      <td>azathioprine</td>\n",
       "      <td>100</td>\n",
       "      <td>Reduction in disease activity (SASSAD) Adjusted for minimisation variables , Azathioprine (n=41) : 12·0</td>\n",
       "    </tr>\n",
       "    <tr>\n",
       "      <th>4</th>\n",
       "      <td>azathioprine</td>\n",
       "      <td>100</td>\n",
       "      <td>Reduction in % body area involved Adjusted for minimisation variables , Azathioprine (n=41) : 25·8</td>\n",
       "    </tr>\n",
       "  </tbody>\n",
       "</table>\n",
       "</div>"
      ],
      "text/plain": [
       "           drug  perc  \\\n",
       "0  salbutamol    100    \n",
       "1  salbutamol    100    \n",
       "2  salbutamol    100    \n",
       "3  azathioprine  100    \n",
       "4  azathioprine  100    \n",
       "\n",
       "                                                                                                                                                                                                 sen  \n",
       "0  forced expiratory volume in 1 s (L) Measured after salbutamol was administered. , beclometasone dipropionate / formoterol fumarate / glycopyrronium bromide (N=687) : 1·11 (0·32)                  \n",
       "1  forced expiratory volume in 1 s (L) Measured after salbutamol was administered. , beclometasone dipropionate / formoterol fumarate (N=680) : 1·10 (0·33)                                           \n",
       "2  forced expiratory volume in 1 s percentage predicted Measured after salbutamol was administered. , beclometasone dipropionate / formoterol fumarate / glycopyrronium bromide (N=687) : 36·9 (8·4)  \n",
       "3  Reduction in disease activity (SASSAD) Adjusted for minimisation variables , Azathioprine (n=41) : 12·0                                                                                            \n",
       "4  Reduction in % body area involved Adjusted for minimisation variables , Azathioprine (n=41) : 25·8                                                                                                 "
      ]
     },
     "execution_count": 50,
     "metadata": {},
     "output_type": "execute_result"
    }
   ],
   "source": [
    "pd.DataFrame(pairs).head()"
   ]
  },
  {
   "cell_type": "code",
   "execution_count": null,
   "metadata": {},
   "outputs": [],
   "source": []
  }
 ],
 "metadata": {
  "kernelspec": {
   "display_name": "Python 3",
   "language": "python",
   "name": "python3"
  },
  "language_info": {
   "codemirror_mode": {
    "name": "ipython",
    "version": 3
   },
   "file_extension": ".py",
   "mimetype": "text/x-python",
   "name": "python",
   "nbconvert_exporter": "python",
   "pygments_lexer": "ipython3",
   "version": "3.6.4"
  }
 },
 "nbformat": 4,
 "nbformat_minor": 2
}
