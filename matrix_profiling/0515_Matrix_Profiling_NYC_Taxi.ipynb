{
 "cells": [
  {
   "cell_type": "markdown",
   "metadata": {},
   "source": [
    "References\n",
    "- https://github.com/wooheaven/Python-Study/blob/master/06_MatrixProfile/02_matrixprofile-ts/02_Matrix_Profile_NYC_Taxi.ipynb"
   ]
  },
  {
   "cell_type": "code",
   "execution_count": 1,
   "metadata": {},
   "outputs": [],
   "source": [
    "# !pip install matrixprofile-ts"
   ]
  },
  {
   "cell_type": "code",
   "execution_count": 2,
   "metadata": {},
   "outputs": [],
   "source": [
    "from matrixprofile import *\n",
    "from matrixprofile.discords import discords\n",
    "import pandas as pd\n",
    "import numpy as np\n",
    "from matplotlib import pyplot as plt"
   ]
  },
  {
   "cell_type": "markdown",
   "metadata": {},
   "source": [
    "## NYC Taxi dataset"
   ]
  },
  {
   "cell_type": "code",
   "execution_count": 3,
   "metadata": {},
   "outputs": [
    {
     "data": {
      "text/html": [
       "<div>\n",
       "<style scoped>\n",
       "    .dataframe tbody tr th:only-of-type {\n",
       "        vertical-align: middle;\n",
       "    }\n",
       "\n",
       "    .dataframe tbody tr th {\n",
       "        vertical-align: top;\n",
       "    }\n",
       "\n",
       "    .dataframe thead th {\n",
       "        text-align: right;\n",
       "    }\n",
       "</style>\n",
       "<table border=\"1\" class=\"dataframe\">\n",
       "  <thead>\n",
       "    <tr style=\"text-align: right;\">\n",
       "      <th></th>\n",
       "      <th>timestamp</th>\n",
       "      <th>value</th>\n",
       "    </tr>\n",
       "  </thead>\n",
       "  <tbody>\n",
       "    <tr>\n",
       "      <th>0</th>\n",
       "      <td>2015-09-01 13:45:00</td>\n",
       "      <td>3.06</td>\n",
       "    </tr>\n",
       "    <tr>\n",
       "      <th>1</th>\n",
       "      <td>2015-09-01 13:50:00</td>\n",
       "      <td>6.44</td>\n",
       "    </tr>\n",
       "    <tr>\n",
       "      <th>2</th>\n",
       "      <td>2015-09-01 13:55:00</td>\n",
       "      <td>5.17</td>\n",
       "    </tr>\n",
       "    <tr>\n",
       "      <th>3</th>\n",
       "      <td>2015-09-01 14:00:00</td>\n",
       "      <td>3.83</td>\n",
       "    </tr>\n",
       "    <tr>\n",
       "      <th>4</th>\n",
       "      <td>2015-09-01 14:05:00</td>\n",
       "      <td>4.50</td>\n",
       "    </tr>\n",
       "  </tbody>\n",
       "</table>\n",
       "</div>"
      ],
      "text/plain": [
       "             timestamp  value\n",
       "0  2015-09-01 13:45:00   3.06\n",
       "1  2015-09-01 13:50:00   6.44\n",
       "2  2015-09-01 13:55:00   5.17\n",
       "3  2015-09-01 14:00:00   3.83\n",
       "4  2015-09-01 14:05:00   4.50"
      ]
     },
     "execution_count": 3,
     "metadata": {},
     "output_type": "execute_result"
    },
    {
     "data": {
      "text/html": [
       "<div>\n",
       "<style scoped>\n",
       "    .dataframe tbody tr th:only-of-type {\n",
       "        vertical-align: middle;\n",
       "    }\n",
       "\n",
       "    .dataframe tbody tr th {\n",
       "        vertical-align: top;\n",
       "    }\n",
       "\n",
       "    .dataframe thead th {\n",
       "        text-align: right;\n",
       "    }\n",
       "</style>\n",
       "<table border=\"1\" class=\"dataframe\">\n",
       "  <thead>\n",
       "    <tr style=\"text-align: right;\">\n",
       "      <th></th>\n",
       "      <th>timestamp</th>\n",
       "      <th>value</th>\n",
       "    </tr>\n",
       "  </thead>\n",
       "  <tbody>\n",
       "    <tr>\n",
       "      <th>0</th>\n",
       "      <td>2015-09-01 13:45:00</td>\n",
       "      <td>3.06</td>\n",
       "    </tr>\n",
       "    <tr>\n",
       "      <th>1</th>\n",
       "      <td>2015-09-01 13:50:00</td>\n",
       "      <td>6.44</td>\n",
       "    </tr>\n",
       "    <tr>\n",
       "      <th>2</th>\n",
       "      <td>2015-09-01 13:55:00</td>\n",
       "      <td>5.17</td>\n",
       "    </tr>\n",
       "    <tr>\n",
       "      <th>3</th>\n",
       "      <td>2015-09-01 14:00:00</td>\n",
       "      <td>3.83</td>\n",
       "    </tr>\n",
       "    <tr>\n",
       "      <th>4</th>\n",
       "      <td>2015-09-01 14:05:00</td>\n",
       "      <td>4.50</td>\n",
       "    </tr>\n",
       "  </tbody>\n",
       "</table>\n",
       "</div>"
      ],
      "text/plain": [
       "            timestamp  value\n",
       "0 2015-09-01 13:45:00   3.06\n",
       "1 2015-09-01 13:50:00   6.44\n",
       "2 2015-09-01 13:55:00   5.17\n",
       "3 2015-09-01 14:00:00   3.83\n",
       "4 2015-09-01 14:05:00   4.50"
      ]
     },
     "execution_count": 3,
     "metadata": {},
     "output_type": "execute_result"
    }
   ],
   "source": [
    "df_oc = pd.read_csv('./data/realTraffic/occupancy_6005.csv')\n",
    "df_oc.head()\n",
    "df_oc['timestamp'] = pd.to_datetime(df_oc['timestamp'])\n",
    "df_oc['value'] = pd.to_numeric(df_oc['value'])\n",
    "df_oc.head()"
   ]
  },
  {
   "cell_type": "code",
   "execution_count": 4,
   "metadata": {},
   "outputs": [
    {
     "data": {
      "text/html": [
       "<div>\n",
       "<style scoped>\n",
       "    .dataframe tbody tr th:only-of-type {\n",
       "        vertical-align: middle;\n",
       "    }\n",
       "\n",
       "    .dataframe tbody tr th {\n",
       "        vertical-align: top;\n",
       "    }\n",
       "\n",
       "    .dataframe thead th {\n",
       "        text-align: right;\n",
       "    }\n",
       "</style>\n",
       "<table border=\"1\" class=\"dataframe\">\n",
       "  <thead>\n",
       "    <tr style=\"text-align: right;\">\n",
       "      <th></th>\n",
       "      <th>value</th>\n",
       "    </tr>\n",
       "    <tr>\n",
       "      <th>timestamp</th>\n",
       "      <th></th>\n",
       "    </tr>\n",
       "  </thead>\n",
       "  <tbody>\n",
       "    <tr>\n",
       "      <th>2015-09-01 13:45:00</th>\n",
       "      <td>3.06</td>\n",
       "    </tr>\n",
       "    <tr>\n",
       "      <th>2015-09-01 13:50:00</th>\n",
       "      <td>6.44</td>\n",
       "    </tr>\n",
       "    <tr>\n",
       "      <th>2015-09-01 13:55:00</th>\n",
       "      <td>5.17</td>\n",
       "    </tr>\n",
       "    <tr>\n",
       "      <th>2015-09-01 14:00:00</th>\n",
       "      <td>3.83</td>\n",
       "    </tr>\n",
       "    <tr>\n",
       "      <th>2015-09-01 14:05:00</th>\n",
       "      <td>4.50</td>\n",
       "    </tr>\n",
       "  </tbody>\n",
       "</table>\n",
       "</div>"
      ],
      "text/plain": [
       "                     value\n",
       "timestamp                 \n",
       "2015-09-01 13:45:00   3.06\n",
       "2015-09-01 13:50:00   6.44\n",
       "2015-09-01 13:55:00   5.17\n",
       "2015-09-01 14:00:00   3.83\n",
       "2015-09-01 14:05:00   4.50"
      ]
     },
     "execution_count": 4,
     "metadata": {},
     "output_type": "execute_result"
    }
   ],
   "source": [
    "df_oc = df_oc.set_index('timestamp').sort_index()\n",
    "df_oc.head()"
   ]
  },
  {
   "cell_type": "code",
   "execution_count": 5,
   "metadata": {},
   "outputs": [
    {
     "data": {
      "text/plain": [
       "value    float64\n",
       "dtype: object"
      ]
     },
     "execution_count": 5,
     "metadata": {},
     "output_type": "execute_result"
    }
   ],
   "source": [
    "df_oc.dtypes"
   ]
  },
  {
   "cell_type": "code",
   "execution_count": 6,
   "metadata": {},
   "outputs": [
    {
     "data": {
      "text/plain": [
       "2380"
      ]
     },
     "execution_count": 6,
     "metadata": {},
     "output_type": "execute_result"
    }
   ],
   "source": [
    "#total data\n",
    "df_oc.__len__()"
   ]
  },
  {
   "cell_type": "code",
   "execution_count": 7,
   "metadata": {},
   "outputs": [
    {
     "data": {
      "text/plain": [
       "value    10698.45\n",
       "dtype: float64"
      ]
     },
     "execution_count": 7,
     "metadata": {},
     "output_type": "execute_result"
    }
   ],
   "source": [
    "# sum passenger count\n",
    "df_oc.sum()"
   ]
  },
  {
   "cell_type": "markdown",
   "metadata": {},
   "source": [
    "### Resample Data to 1H"
   ]
  },
  {
   "cell_type": "code",
   "execution_count": 8,
   "metadata": {},
   "outputs": [
    {
     "data": {
      "text/html": [
       "<div>\n",
       "<style scoped>\n",
       "    .dataframe tbody tr th:only-of-type {\n",
       "        vertical-align: middle;\n",
       "    }\n",
       "\n",
       "    .dataframe tbody tr th {\n",
       "        vertical-align: top;\n",
       "    }\n",
       "\n",
       "    .dataframe thead th {\n",
       "        text-align: right;\n",
       "    }\n",
       "</style>\n",
       "<table border=\"1\" class=\"dataframe\">\n",
       "  <thead>\n",
       "    <tr style=\"text-align: right;\">\n",
       "      <th></th>\n",
       "      <th>value</th>\n",
       "    </tr>\n",
       "    <tr>\n",
       "      <th>timestamp</th>\n",
       "      <th></th>\n",
       "    </tr>\n",
       "  </thead>\n",
       "  <tbody>\n",
       "    <tr>\n",
       "      <th>2015-09-01 13:00:00</th>\n",
       "      <td>14.67</td>\n",
       "    </tr>\n",
       "    <tr>\n",
       "      <th>2015-09-01 14:00:00</th>\n",
       "      <td>71.88</td>\n",
       "    </tr>\n",
       "    <tr>\n",
       "      <th>2015-09-01 15:00:00</th>\n",
       "      <td>1.67</td>\n",
       "    </tr>\n",
       "    <tr>\n",
       "      <th>2015-09-01 16:00:00</th>\n",
       "      <td>0.00</td>\n",
       "    </tr>\n",
       "    <tr>\n",
       "      <th>2015-09-01 17:00:00</th>\n",
       "      <td>32.49</td>\n",
       "    </tr>\n",
       "  </tbody>\n",
       "</table>\n",
       "</div>"
      ],
      "text/plain": [
       "                     value\n",
       "timestamp                 \n",
       "2015-09-01 13:00:00  14.67\n",
       "2015-09-01 14:00:00  71.88\n",
       "2015-09-01 15:00:00   1.67\n",
       "2015-09-01 16:00:00   0.00\n",
       "2015-09-01 17:00:00  32.49"
      ]
     },
     "execution_count": 8,
     "metadata": {},
     "output_type": "execute_result"
    }
   ],
   "source": [
    "df_re = df_oc.resample('1H').sum()\n",
    "df_re.head()"
   ]
  },
  {
   "cell_type": "code",
   "execution_count": 9,
   "metadata": {},
   "outputs": [
    {
     "data": {
      "text/plain": [
       "(388, 1)"
      ]
     },
     "execution_count": 9,
     "metadata": {},
     "output_type": "execute_result"
    }
   ],
   "source": [
    "df_re.shape"
   ]
  },
  {
   "cell_type": "code",
   "execution_count": 10,
   "metadata": {},
   "outputs": [
    {
     "data": {
      "text/plain": [
       "value   2015-09-15 06:55:00\n",
       "dtype: datetime64[ns]"
      ]
     },
     "execution_count": 10,
     "metadata": {},
     "output_type": "execute_result"
    }
   ],
   "source": [
    "df_oc.idxmax()"
   ]
  },
  {
   "cell_type": "markdown",
   "metadata": {},
   "source": [
    "### Matrix Profile"
   ]
  },
  {
   "cell_type": "code",
   "execution_count": 11,
   "metadata": {},
   "outputs": [],
   "source": [
    "s = df_oc.values.squeeze()\n",
    "# subsequence length to compute the matrix profile\n",
    "# data exists every 15 min\n",
    "# length of m\n",
    "m =  int(24*(60/15))"
   ]
  },
  {
   "cell_type": "code",
   "execution_count": 12,
   "metadata": {},
   "outputs": [],
   "source": [
    "profile = matrixProfile.stomp(s, m)"
   ]
  },
  {
   "cell_type": "code",
   "execution_count": 13,
   "metadata": {},
   "outputs": [],
   "source": [
    "df_oc['profile'] = np.append(profile[0], np.zeros(m-1)+np.nan)"
   ]
  },
  {
   "cell_type": "code",
   "execution_count": 14,
   "metadata": {},
   "outputs": [],
   "source": [
    "df_oc['profile_index'] = np.append(profile[1], np.zeros(m-1) + np.nan)"
   ]
  },
  {
   "cell_type": "code",
   "execution_count": 15,
   "metadata": {},
   "outputs": [
    {
     "data": {
      "text/html": [
       "<div>\n",
       "<style scoped>\n",
       "    .dataframe tbody tr th:only-of-type {\n",
       "        vertical-align: middle;\n",
       "    }\n",
       "\n",
       "    .dataframe tbody tr th {\n",
       "        vertical-align: top;\n",
       "    }\n",
       "\n",
       "    .dataframe thead th {\n",
       "        text-align: right;\n",
       "    }\n",
       "</style>\n",
       "<table border=\"1\" class=\"dataframe\">\n",
       "  <thead>\n",
       "    <tr style=\"text-align: right;\">\n",
       "      <th></th>\n",
       "      <th>value</th>\n",
       "      <th>profile</th>\n",
       "      <th>profile_index</th>\n",
       "    </tr>\n",
       "    <tr>\n",
       "      <th>timestamp</th>\n",
       "      <th></th>\n",
       "      <th></th>\n",
       "      <th></th>\n",
       "    </tr>\n",
       "  </thead>\n",
       "  <tbody>\n",
       "    <tr>\n",
       "      <th>2015-09-01 13:45:00</th>\n",
       "      <td>3.06</td>\n",
       "      <td>6.317355</td>\n",
       "      <td>889.0</td>\n",
       "    </tr>\n",
       "    <tr>\n",
       "      <th>2015-09-01 13:50:00</th>\n",
       "      <td>6.44</td>\n",
       "      <td>6.220131</td>\n",
       "      <td>890.0</td>\n",
       "    </tr>\n",
       "    <tr>\n",
       "      <th>2015-09-01 13:55:00</th>\n",
       "      <td>5.17</td>\n",
       "      <td>6.157656</td>\n",
       "      <td>891.0</td>\n",
       "    </tr>\n",
       "    <tr>\n",
       "      <th>2015-09-01 14:00:00</th>\n",
       "      <td>3.83</td>\n",
       "      <td>6.173078</td>\n",
       "      <td>892.0</td>\n",
       "    </tr>\n",
       "    <tr>\n",
       "      <th>2015-09-01 14:05:00</th>\n",
       "      <td>4.50</td>\n",
       "      <td>6.135467</td>\n",
       "      <td>893.0</td>\n",
       "    </tr>\n",
       "  </tbody>\n",
       "</table>\n",
       "</div>"
      ],
      "text/plain": [
       "                     value   profile  profile_index\n",
       "timestamp                                          \n",
       "2015-09-01 13:45:00   3.06  6.317355          889.0\n",
       "2015-09-01 13:50:00   6.44  6.220131          890.0\n",
       "2015-09-01 13:55:00   5.17  6.157656          891.0\n",
       "2015-09-01 14:00:00   3.83  6.173078          892.0\n",
       "2015-09-01 14:05:00   4.50  6.135467          893.0"
      ]
     },
     "execution_count": 15,
     "metadata": {},
     "output_type": "execute_result"
    }
   ],
   "source": [
    "df_oc.head()"
   ]
  },
  {
   "cell_type": "markdown",
   "metadata": {},
   "source": [
    "### Visualize"
   ]
  },
  {
   "cell_type": "code",
   "execution_count": 16,
   "metadata": {},
   "outputs": [
    {
     "data": {
      "text/plain": [
       "<matplotlib.axes._subplots.AxesSubplot at 0x1198cbcc0>"
      ]
     },
     "execution_count": 16,
     "metadata": {},
     "output_type": "execute_result"
    },
    {
     "data": {
      "text/plain": [
       "Text(0,0.5,'NYC Taxi Raw')"
      ]
     },
     "execution_count": 16,
     "metadata": {},
     "output_type": "execute_result"
    },
    {
     "data": {
      "text/plain": [
       "<matplotlib.axes._subplots.AxesSubplot at 0x119a66160>"
      ]
     },
     "execution_count": 16,
     "metadata": {},
     "output_type": "execute_result"
    },
    {
     "data": {
      "text/plain": [
       "Text(0,0.5,'Matrix Profile')"
      ]
     },
     "execution_count": 16,
     "metadata": {},
     "output_type": "execute_result"
    },
    {
     "data": {
      "text/plain": [
       "Text(0.5,0,'Time Series Index')"
      ]
     },
     "execution_count": 16,
     "metadata": {},
     "output_type": "execute_result"
    },
    {
     "data": {
      "image/png": "[encoded data removed]",
      "text/plain": [
       "<Figure size 1440x720 with 2 Axes>"
      ]
     },
     "metadata": {
      "needs_background": "light"
     },
     "output_type": "display_data"
    }
   ],
   "source": [
    "fig, (ax1, ax2) = plt.subplots(2, 1, sharex=True, figsize=(20, 10))\n",
    "df_oc['value'].plot(ax=ax1, kind='line', c='b')\n",
    "ax1.set_ylabel('NYC Taxi Raw', size=22)\n",
    "\n",
    "df_oc['profile'].plot(ax=ax2, kind='line', c='r')\n",
    "ax2.set_ylabel('Matrix Profile')\n",
    "ax2.set_xlabel('Time Series Index')\n"
   ]
  },
  {
   "cell_type": "code",
   "execution_count": 17,
   "metadata": {},
   "outputs": [
    {
     "data": {
      "text/html": [
       "<div>\n",
       "<style scoped>\n",
       "    .dataframe tbody tr th:only-of-type {\n",
       "        vertical-align: middle;\n",
       "    }\n",
       "\n",
       "    .dataframe tbody tr th {\n",
       "        vertical-align: top;\n",
       "    }\n",
       "\n",
       "    .dataframe thead th {\n",
       "        text-align: right;\n",
       "    }\n",
       "</style>\n",
       "<table border=\"1\" class=\"dataframe\">\n",
       "  <thead>\n",
       "    <tr style=\"text-align: right;\">\n",
       "      <th></th>\n",
       "      <th>value</th>\n",
       "      <th>profile</th>\n",
       "      <th>profile_index</th>\n",
       "    </tr>\n",
       "    <tr>\n",
       "      <th>timestamp</th>\n",
       "      <th></th>\n",
       "      <th></th>\n",
       "      <th></th>\n",
       "    </tr>\n",
       "  </thead>\n",
       "  <tbody>\n",
       "    <tr>\n",
       "      <th>2015-09-08 10:44:00</th>\n",
       "      <td>3.61</td>\n",
       "      <td>9.493299</td>\n",
       "      <td>1055.0</td>\n",
       "    </tr>\n",
       "    <tr>\n",
       "      <th>2015-09-08 10:49:00</th>\n",
       "      <td>1.44</td>\n",
       "      <td>9.332132</td>\n",
       "      <td>1056.0</td>\n",
       "    </tr>\n",
       "    <tr>\n",
       "      <th>2015-09-08 10:59:00</th>\n",
       "      <td>4.28</td>\n",
       "      <td>9.252697</td>\n",
       "      <td>1057.0</td>\n",
       "    </tr>\n",
       "    <tr>\n",
       "      <th>2015-09-08 11:04:00</th>\n",
       "      <td>6.28</td>\n",
       "      <td>9.163085</td>\n",
       "      <td>1058.0</td>\n",
       "    </tr>\n",
       "    <tr>\n",
       "      <th>2015-09-08 11:09:00</th>\n",
       "      <td>4.61</td>\n",
       "      <td>9.153763</td>\n",
       "      <td>1059.0</td>\n",
       "    </tr>\n",
       "    <tr>\n",
       "      <th>2015-09-08 11:14:00</th>\n",
       "      <td>5.28</td>\n",
       "      <td>9.935606</td>\n",
       "      <td>1060.0</td>\n",
       "    </tr>\n",
       "    <tr>\n",
       "      <th>2015-09-08 11:19:00</th>\n",
       "      <td>2.06</td>\n",
       "      <td>10.226418</td>\n",
       "      <td>1061.0</td>\n",
       "    </tr>\n",
       "    <tr>\n",
       "      <th>2015-09-08 11:29:00</th>\n",
       "      <td>7.50</td>\n",
       "      <td>10.326666</td>\n",
       "      <td>1062.0</td>\n",
       "    </tr>\n",
       "    <tr>\n",
       "      <th>2015-09-08 11:34:00</th>\n",
       "      <td>8.39</td>\n",
       "      <td>10.423692</td>\n",
       "      <td>870.0</td>\n",
       "    </tr>\n",
       "    <tr>\n",
       "      <th>2015-09-08 11:39:00</th>\n",
       "      <td>0.67</td>\n",
       "      <td>10.410876</td>\n",
       "      <td>871.0</td>\n",
       "    </tr>\n",
       "    <tr>\n",
       "      <th>...</th>\n",
       "      <td>...</td>\n",
       "      <td>...</td>\n",
       "      <td>...</td>\n",
       "    </tr>\n",
       "    <tr>\n",
       "      <th>2015-09-09 21:48:00</th>\n",
       "      <td>0.78</td>\n",
       "      <td>9.036045</td>\n",
       "      <td>1502.0</td>\n",
       "    </tr>\n",
       "    <tr>\n",
       "      <th>2015-09-09 22:03:00</th>\n",
       "      <td>0.61</td>\n",
       "      <td>9.148009</td>\n",
       "      <td>1503.0</td>\n",
       "    </tr>\n",
       "    <tr>\n",
       "      <th>2015-09-09 22:08:00</th>\n",
       "      <td>1.00</td>\n",
       "      <td>9.234142</td>\n",
       "      <td>1504.0</td>\n",
       "    </tr>\n",
       "    <tr>\n",
       "      <th>2015-09-09 22:13:00</th>\n",
       "      <td>0.78</td>\n",
       "      <td>9.312966</td>\n",
       "      <td>1505.0</td>\n",
       "    </tr>\n",
       "    <tr>\n",
       "      <th>2015-09-09 22:23:00</th>\n",
       "      <td>3.83</td>\n",
       "      <td>9.370843</td>\n",
       "      <td>1506.0</td>\n",
       "    </tr>\n",
       "    <tr>\n",
       "      <th>2015-09-09 22:28:00</th>\n",
       "      <td>1.28</td>\n",
       "      <td>9.440696</td>\n",
       "      <td>2235.0</td>\n",
       "    </tr>\n",
       "    <tr>\n",
       "      <th>2015-09-09 22:33:00</th>\n",
       "      <td>0.67</td>\n",
       "      <td>9.465556</td>\n",
       "      <td>1508.0</td>\n",
       "    </tr>\n",
       "    <tr>\n",
       "      <th>2015-09-09 22:38:00</th>\n",
       "      <td>1.06</td>\n",
       "      <td>9.543472</td>\n",
       "      <td>1509.0</td>\n",
       "    </tr>\n",
       "    <tr>\n",
       "      <th>2015-09-09 22:41:00</th>\n",
       "      <td>8.28</td>\n",
       "      <td>9.646639</td>\n",
       "      <td>1510.0</td>\n",
       "    </tr>\n",
       "    <tr>\n",
       "      <th>2015-09-09 22:46:00</th>\n",
       "      <td>2.83</td>\n",
       "      <td>9.400967</td>\n",
       "      <td>1511.0</td>\n",
       "    </tr>\n",
       "  </tbody>\n",
       "</table>\n",
       "<p>209 rows × 3 columns</p>\n",
       "</div>"
      ],
      "text/plain": [
       "                     value    profile  profile_index\n",
       "timestamp                                           \n",
       "2015-09-08 10:44:00   3.61   9.493299         1055.0\n",
       "2015-09-08 10:49:00   1.44   9.332132         1056.0\n",
       "2015-09-08 10:59:00   4.28   9.252697         1057.0\n",
       "2015-09-08 11:04:00   6.28   9.163085         1058.0\n",
       "2015-09-08 11:09:00   4.61   9.153763         1059.0\n",
       "2015-09-08 11:14:00   5.28   9.935606         1060.0\n",
       "2015-09-08 11:19:00   2.06  10.226418         1061.0\n",
       "2015-09-08 11:29:00   7.50  10.326666         1062.0\n",
       "2015-09-08 11:34:00   8.39  10.423692          870.0\n",
       "2015-09-08 11:39:00   0.67  10.410876          871.0\n",
       "...                    ...        ...            ...\n",
       "2015-09-09 21:48:00   0.78   9.036045         1502.0\n",
       "2015-09-09 22:03:00   0.61   9.148009         1503.0\n",
       "2015-09-09 22:08:00   1.00   9.234142         1504.0\n",
       "2015-09-09 22:13:00   0.78   9.312966         1505.0\n",
       "2015-09-09 22:23:00   3.83   9.370843         1506.0\n",
       "2015-09-09 22:28:00   1.28   9.440696         2235.0\n",
       "2015-09-09 22:33:00   0.67   9.465556         1508.0\n",
       "2015-09-09 22:38:00   1.06   9.543472         1509.0\n",
       "2015-09-09 22:41:00   8.28   9.646639         1510.0\n",
       "2015-09-09 22:46:00   2.83   9.400967         1511.0\n",
       "\n",
       "[209 rows x 3 columns]"
      ]
     },
     "execution_count": 17,
     "metadata": {},
     "output_type": "execute_result"
    }
   ],
   "source": [
    "df_oc['2015-09-05':'2015-09-09']\n",
    "# missing data"
   ]
  },
  {
   "cell_type": "code",
   "execution_count": 18,
   "metadata": {},
   "outputs": [],
   "source": [
    "# exclude upto 12 hours from left and right\n",
    "ex_zone = 12\n",
    "anoms = discords(df_oc['profile'], ex_zone, k=15)"
   ]
  },
  {
   "cell_type": "code",
   "execution_count": 19,
   "metadata": {},
   "outputs": [
    {
     "data": {
      "text/html": [
       "<div>\n",
       "<style scoped>\n",
       "    .dataframe tbody tr th:only-of-type {\n",
       "        vertical-align: middle;\n",
       "    }\n",
       "\n",
       "    .dataframe tbody tr th {\n",
       "        vertical-align: top;\n",
       "    }\n",
       "\n",
       "    .dataframe thead th {\n",
       "        text-align: right;\n",
       "    }\n",
       "</style>\n",
       "<table border=\"1\" class=\"dataframe\">\n",
       "  <thead>\n",
       "    <tr style=\"text-align: right;\">\n",
       "      <th></th>\n",
       "      <th>value</th>\n",
       "      <th>profile</th>\n",
       "      <th>profile_index</th>\n",
       "    </tr>\n",
       "    <tr>\n",
       "      <th>timestamp</th>\n",
       "      <th></th>\n",
       "      <th></th>\n",
       "      <th></th>\n",
       "    </tr>\n",
       "  </thead>\n",
       "  <tbody>\n",
       "    <tr>\n",
       "      <th>2015-09-14 09:33:00</th>\n",
       "      <td>5.83</td>\n",
       "      <td>11.903914</td>\n",
       "      <td>776.0</td>\n",
       "    </tr>\n",
       "    <tr>\n",
       "      <th>2015-09-04 09:42:00</th>\n",
       "      <td>2.17</td>\n",
       "      <td>11.724296</td>\n",
       "      <td>1573.0</td>\n",
       "    </tr>\n",
       "    <tr>\n",
       "      <th>2015-09-14 10:33:00</th>\n",
       "      <td>1.83</td>\n",
       "      <td>11.362130</td>\n",
       "      <td>698.0</td>\n",
       "    </tr>\n",
       "    <tr>\n",
       "      <th>2015-09-08 22:12:00</th>\n",
       "      <td>0.67</td>\n",
       "      <td>11.302731</td>\n",
       "      <td>1820.0</td>\n",
       "    </tr>\n",
       "    <tr>\n",
       "      <th>2015-09-16 09:29:00</th>\n",
       "      <td>3.61</td>\n",
       "      <td>11.280263</td>\n",
       "      <td>755.0</td>\n",
       "    </tr>\n",
       "    <tr>\n",
       "      <th>2015-09-04 08:02:00</th>\n",
       "      <td>7.72</td>\n",
       "      <td>11.231968</td>\n",
       "      <td>1538.0</td>\n",
       "    </tr>\n",
       "    <tr>\n",
       "      <th>2015-09-16 10:44:00</th>\n",
       "      <td>8.67</td>\n",
       "      <td>11.227347</td>\n",
       "      <td>1354.0</td>\n",
       "    </tr>\n",
       "    <tr>\n",
       "      <th>2015-09-04 18:07:00</th>\n",
       "      <td>5.56</td>\n",
       "      <td>11.187221</td>\n",
       "      <td>2154.0</td>\n",
       "    </tr>\n",
       "    <tr>\n",
       "      <th>2015-09-04 19:07:00</th>\n",
       "      <td>2.33</td>\n",
       "      <td>11.153116</td>\n",
       "      <td>1009.0</td>\n",
       "    </tr>\n",
       "    <tr>\n",
       "      <th>2015-09-02 09:20:00</th>\n",
       "      <td>1.06</td>\n",
       "      <td>11.086810</td>\n",
       "      <td>298.0</td>\n",
       "    </tr>\n",
       "    <tr>\n",
       "      <th>2015-09-13 10:41:00</th>\n",
       "      <td>5.39</td>\n",
       "      <td>10.907580</td>\n",
       "      <td>2063.0</td>\n",
       "    </tr>\n",
       "    <tr>\n",
       "      <th>2015-09-16 11:49:00</th>\n",
       "      <td>1.94</td>\n",
       "      <td>10.907580</td>\n",
       "      <td>1366.0</td>\n",
       "    </tr>\n",
       "    <tr>\n",
       "      <th>2015-09-08 17:31:00</th>\n",
       "      <td>5.83</td>\n",
       "      <td>10.826256</td>\n",
       "      <td>1310.0</td>\n",
       "    </tr>\n",
       "    <tr>\n",
       "      <th>2015-09-04 10:57:00</th>\n",
       "      <td>3.33</td>\n",
       "      <td>10.811080</td>\n",
       "      <td>1579.0</td>\n",
       "    </tr>\n",
       "    <tr>\n",
       "      <th>2015-09-10 09:08:00</th>\n",
       "      <td>3.61</td>\n",
       "      <td>10.807849</td>\n",
       "      <td>1463.0</td>\n",
       "    </tr>\n",
       "  </tbody>\n",
       "</table>\n",
       "</div>"
      ],
      "text/plain": [
       "                     value    profile  profile_index\n",
       "timestamp                                           \n",
       "2015-09-14 09:33:00   5.83  11.903914          776.0\n",
       "2015-09-04 09:42:00   2.17  11.724296         1573.0\n",
       "2015-09-14 10:33:00   1.83  11.362130          698.0\n",
       "2015-09-08 22:12:00   0.67  11.302731         1820.0\n",
       "2015-09-16 09:29:00   3.61  11.280263          755.0\n",
       "2015-09-04 08:02:00   7.72  11.231968         1538.0\n",
       "2015-09-16 10:44:00   8.67  11.227347         1354.0\n",
       "2015-09-04 18:07:00   5.56  11.187221         2154.0\n",
       "2015-09-04 19:07:00   2.33  11.153116         1009.0\n",
       "2015-09-02 09:20:00   1.06  11.086810          298.0\n",
       "2015-09-13 10:41:00   5.39  10.907580         2063.0\n",
       "2015-09-16 11:49:00   1.94  10.907580         1366.0\n",
       "2015-09-08 17:31:00   5.83  10.826256         1310.0\n",
       "2015-09-04 10:57:00   3.33  10.811080         1579.0\n",
       "2015-09-10 09:08:00   3.61  10.807849         1463.0"
      ]
     },
     "execution_count": 19,
     "metadata": {},
     "output_type": "execute_result"
    }
   ],
   "source": [
    "df_oc.iloc[anoms].sort_values(by='profile', ascending=False)"
   ]
  },
  {
   "cell_type": "code",
   "execution_count": null,
   "metadata": {},
   "outputs": [],
   "source": []
  }
 ],
 "metadata": {
  "kernelspec": {
   "display_name": "Python 3",
   "language": "python",
   "name": "python3"
  },
  "language_info": {
   "codemirror_mode": {
    "name": "ipython",
    "version": 3
   },
   "file_extension": ".py",
   "mimetype": "text/x-python",
   "name": "python",
   "nbconvert_exporter": "python",
   "pygments_lexer": "ipython3",
   "version": "3.7.0"
  }
 },
 "nbformat": 4,
 "nbformat_minor": 2
}
