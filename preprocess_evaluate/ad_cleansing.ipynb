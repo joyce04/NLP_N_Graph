{
 "cells": [
  {
   "cell_type": "code",
   "execution_count": 1,
   "metadata": {},
   "outputs": [],
   "source": [
    "# import db_conn\n",
    "import pandas as pd\n",
    "import re\n",
    "pd.options.display.max_columns = None"
   ]
  },
  {
   "cell_type": "code",
   "execution_count": 2,
   "metadata": {},
   "outputs": [],
   "source": [
    "# conn = db_conn.get_connection()"
   ]
  },
  {
   "cell_type": "markdown",
   "metadata": {},
   "source": [
    "## 1. 추출된 전체 부작용\n",
    "추출된 전체 부작용 중 식별이 가능한 UNIQUE한 약물만을 추려냈습니다."
   ]
  },
  {
   "cell_type": "code",
   "execution_count": 3,
   "metadata": {},
   "outputs": [],
   "source": [
    "def get_total_ads():\n",
    "    cur = conn.cursor()\n",
    "    cur.execute(\"\"\"\n",
    "    SELECT DISTINCT(TRIM(LOWER(d.tt_ad))) AS t_ad\n",
    "    FROM\n",
    "    (SELECT id, tt_ad\n",
    "    FROM article_table_sentences_m M,\n",
    "        UNNEST(STRING_TO_ARRAY(t_ad, ' , ')) AS tt_ad\n",
    "    WHERE (tt_ad='') is false) as d;\n",
    "    \"\"\")\n",
    "    return cur.fetchall()\n",
    "\n",
    "def get_ad_dictionary():\n",
    "    cur = conn.cursor()\n",
    "    cur.execute(\"\"\"\n",
    "    SELECT DISTINCT(TRIM(LOWER(llt_name))) AS t_ad\n",
    "    FROM meddra_llt_181022 M;\n",
    "    \"\"\")\n",
    "    return cur.fetchall()"
   ]
  },
  {
   "cell_type": "code",
   "execution_count": 4,
   "metadata": {},
   "outputs": [],
   "source": [
    "# ads = pd.DataFrame(get_total_ads())\n",
    "ads = pd.read_csv('./distinct_ads.tsv', sep='\\t')"
   ]
  },
  {
   "cell_type": "code",
   "execution_count": 5,
   "metadata": {},
   "outputs": [],
   "source": [
    "# ads.to_csv('./ads.csv', sep=',')"
   ]
  },
  {
   "cell_type": "code",
   "execution_count": 6,
   "metadata": {},
   "outputs": [],
   "source": [
    "ads.columns=['name']"
   ]
  },
  {
   "cell_type": "code",
   "execution_count": 7,
   "metadata": {},
   "outputs": [
    {
     "data": {
      "text/html": [
       "<div>\n",
       "<style scoped>\n",
       "    .dataframe tbody tr th:only-of-type {\n",
       "        vertical-align: middle;\n",
       "    }\n",
       "\n",
       "    .dataframe tbody tr th {\n",
       "        vertical-align: top;\n",
       "    }\n",
       "\n",
       "    .dataframe thead th {\n",
       "        text-align: right;\n",
       "    }\n",
       "</style>\n",
       "<table border=\"1\" class=\"dataframe\">\n",
       "  <thead>\n",
       "    <tr style=\"text-align: right;\">\n",
       "      <th></th>\n",
       "      <th>name</th>\n",
       "      <th>refined</th>\n",
       "    </tr>\n",
       "  </thead>\n",
       "  <tbody>\n",
       "    <tr>\n",
       "      <th>0</th>\n",
       "      <td>anuloaortic ectasia</td>\n",
       "      <td></td>\n",
       "    </tr>\n",
       "    <tr>\n",
       "      <th>1</th>\n",
       "      <td>mass-cavity</td>\n",
       "      <td></td>\n",
       "    </tr>\n",
       "    <tr>\n",
       "      <th>2</th>\n",
       "      <td>presyncope</td>\n",
       "      <td></td>\n",
       "    </tr>\n",
       "    <tr>\n",
       "      <th>3</th>\n",
       "      <td>seizure</td>\n",
       "      <td></td>\n",
       "    </tr>\n",
       "    <tr>\n",
       "      <th>4</th>\n",
       "      <td>aphthous ulcer</td>\n",
       "      <td></td>\n",
       "    </tr>\n",
       "  </tbody>\n",
       "</table>\n",
       "</div>"
      ],
      "text/plain": [
       "                  name refined\n",
       "0  anuloaortic ectasia        \n",
       "1          mass-cavity        \n",
       "2           presyncope        \n",
       "3              seizure        \n",
       "4       aphthous ulcer        "
      ]
     },
     "execution_count": 7,
     "metadata": {},
     "output_type": "execute_result"
    }
   ],
   "source": [
    "ads['refined'] = ''\n",
    "ads.head()"
   ]
  },
  {
   "cell_type": "markdown",
   "metadata": {},
   "source": [
    "#### 전처리 전 총 부작용의 수는 9282개 입니다"
   ]
  },
  {
   "cell_type": "code",
   "execution_count": 8,
   "metadata": {},
   "outputs": [
    {
     "data": {
      "text/plain": [
       "(9282, 2)"
      ]
     },
     "execution_count": 8,
     "metadata": {},
     "output_type": "execute_result"
    }
   ],
   "source": [
    "ads.shape"
   ]
  },
  {
   "cell_type": "markdown",
   "metadata": {},
   "source": [
    "### 2. 전처리"
   ]
  },
  {
   "cell_type": "markdown",
   "metadata": {},
   "source": [
    "#### A. dictionary를 참고하여, 정확히 일치하는 부작용 명은 전처리 없이 포함합니다."
   ]
  },
  {
   "cell_type": "code",
   "execution_count": 9,
   "metadata": {},
   "outputs": [],
   "source": [
    "# dictionary = get_ad_dictionary()\n",
    "dictionary = pd.read_csv('./dictionary_ads.tsv', sep='\\t')\n",
    "# dictionary = list(map(lambda x: str(x[0]).lower().replace('\"', ''), dictionary))"
   ]
  },
  {
   "cell_type": "code",
   "execution_count": 10,
   "metadata": {},
   "outputs": [
    {
     "data": {
      "text/plain": [
       "60939"
      ]
     },
     "execution_count": 10,
     "metadata": {},
     "output_type": "execute_result"
    }
   ],
   "source": [
    "len(dictionary)"
   ]
  },
  {
   "cell_type": "code",
   "execution_count": 11,
   "metadata": {},
   "outputs": [
    {
     "data": {
      "text/html": [
       "<div>\n",
       "<style scoped>\n",
       "    .dataframe tbody tr th:only-of-type {\n",
       "        vertical-align: middle;\n",
       "    }\n",
       "\n",
       "    .dataframe tbody tr th {\n",
       "        vertical-align: top;\n",
       "    }\n",
       "\n",
       "    .dataframe thead th {\n",
       "        text-align: right;\n",
       "    }\n",
       "</style>\n",
       "<table border=\"1\" class=\"dataframe\">\n",
       "  <thead>\n",
       "    <tr style=\"text-align: right;\">\n",
       "      <th></th>\n",
       "      <th>t_ad</th>\n",
       "    </tr>\n",
       "  </thead>\n",
       "  <tbody>\n",
       "    <tr>\n",
       "      <th>0</th>\n",
       "      <td>ventilation pneumonitis</td>\n",
       "    </tr>\n",
       "    <tr>\n",
       "      <th>1</th>\n",
       "      <td>11-beta-hydroxylase deficiency</td>\n",
       "    </tr>\n",
       "    <tr>\n",
       "      <th>2</th>\n",
       "      <td>11-oxysteroid activity incr</td>\n",
       "    </tr>\n",
       "    <tr>\n",
       "      <th>3</th>\n",
       "      <td>11-oxysteroid activity increased</td>\n",
       "    </tr>\n",
       "    <tr>\n",
       "      <th>4</th>\n",
       "      <td>17 ketosteroids urine abnormal</td>\n",
       "    </tr>\n",
       "    <tr>\n",
       "      <th>5</th>\n",
       "      <td>17 ketosteroids urine abnormal nos</td>\n",
       "    </tr>\n",
       "    <tr>\n",
       "      <th>6</th>\n",
       "      <td>17 ketosteroids urine decreased</td>\n",
       "    </tr>\n",
       "    <tr>\n",
       "      <th>7</th>\n",
       "      <td>17 ketosteroids urine high</td>\n",
       "    </tr>\n",
       "    <tr>\n",
       "      <th>8</th>\n",
       "      <td>17 ketosteroids urine increased</td>\n",
       "    </tr>\n",
       "    <tr>\n",
       "      <th>9</th>\n",
       "      <td>17 ketosteroids urine low</td>\n",
       "    </tr>\n",
       "  </tbody>\n",
       "</table>\n",
       "</div>"
      ],
      "text/plain": [
       "                                 t_ad\n",
       "0             ventilation pneumonitis\n",
       "1      11-beta-hydroxylase deficiency\n",
       "2         11-oxysteroid activity incr\n",
       "3    11-oxysteroid activity increased\n",
       "4      17 ketosteroids urine abnormal\n",
       "5  17 ketosteroids urine abnormal nos\n",
       "6     17 ketosteroids urine decreased\n",
       "7          17 ketosteroids urine high\n",
       "8     17 ketosteroids urine increased\n",
       "9           17 ketosteroids urine low"
      ]
     },
     "execution_count": 11,
     "metadata": {},
     "output_type": "execute_result"
    }
   ],
   "source": [
    "dictionary[:10]"
   ]
  },
  {
   "cell_type": "code",
   "execution_count": 13,
   "metadata": {},
   "outputs": [],
   "source": [
    "# ads.sort_values(by=['name'])[350:400]"
   ]
  },
  {
   "cell_type": "markdown",
   "metadata": {},
   "source": [
    "#### A. 부작용을 포함하고 있는 구절이 추출 된 경우, 부작용 외적인 단어들을 제거합니다"
   ]
  },
  {
   "cell_type": "code",
   "execution_count": 14,
   "metadata": {},
   "outputs": [],
   "source": [
    "replace_with_space = ['<70%', '%', 'values)', '(', ')', '-1987', '-1993', ':', '±', '↑', 'australia-new',\n",
    "                     'scale-7', 'c-statistics', '-defined', '-derived', '-like', 'like', 'non-beverage', 'beverage',\n",
    "                     'scale-0', '-days', 'fluorine-18-labelled', '-specific', 'co-variate', '-guided', '≥2°',\n",
    "                     '≥1', 'composting', 'daids', 'decentralised', 'dmards', 'forage', 'full-scale', 'glues',\n",
    "                     'granger', 'greyscale', 'grey-scale', 'hanging', 'harvesting', 'immersed', 'invariably',\n",
    "                     '-guidance', 'lifelon', 'mwaura', 'naito', 'nesting', 'nomad', 'nonsystemi', '≥60', 'primers',\n",
    "                     'prohibited', 'sanger', '-1993', '<50']\n",
    "\n",
    "replace_ends_with = ['-related']"
   ]
  },
  {
   "cell_type": "code",
   "execution_count": null,
   "metadata": {},
   "outputs": [],
   "source": [
    "rep = dict((re.escape(k), ' ') for k in replace_with_space)\n",
    "pattern = re.compile(\"|\".join(rep.keys()))\n",
    "\n",
    "for ind, row in ads.iterrows():\n",
    "    refined = pattern.sub(lambda m: rep[re.escape(m.group(0))], row['name'])\n",
    "    if refined.strip() == '':\n",
    "        ads.drop(ind, inplace=True)\n",
    "    elif row['name'].strip() != refined.strip():\n",
    "        ads.loc[ind]['refined'] = refined\n",
    "        print(row['name'])\n",
    "        print(ads.loc[ind]['refined'])\n",
    "    else:\n",
    "        print(row['name'])\n",
    "    print('===============================')\n",
    "    \n",
    "    for end in replace_ends_with:\n",
    "        if row['name'].endswith(end):\n",
    "            ads.loc[ind]['refined'] = row['name'].replace(end, '')\n",
    "\n",
    "ads = ads.reset_index(drop=True)"
   ]
  },
  {
   "cell_type": "markdown",
   "metadata": {},
   "source": [
    "#### 전처리와 약물이 아닌 레코드를 제거하면 9250개가 남습니다"
   ]
  },
  {
   "cell_type": "code",
   "execution_count": 16,
   "metadata": {},
   "outputs": [
    {
     "data": {
      "text/plain": [
       "(9250, 2)"
      ]
     },
     "execution_count": 16,
     "metadata": {},
     "output_type": "execute_result"
    }
   ],
   "source": [
    "ads.shape"
   ]
  },
  {
   "cell_type": "markdown",
   "metadata": {},
   "source": [
    "#### B. 약-부작용 관계를 나타는 것이 아닌 경우, 지웁니다"
   ]
  },
  {
   "cell_type": "code",
   "execution_count": 21,
   "metadata": {},
   "outputs": [],
   "source": [
    "non_drug_ad_rel = ['-free', 'free-', ' free ', 'variable', 'wrong drug administered', 'exercise-induced',\n",
    "                  'underdose', 'switch', 'massage', 'according', '-defining', 'arizona', 'controller', 'athletics',\n",
    "                  'atopics', 'average', 'bachelor', 'award', '—gasoline', 'cards', 'comer', 'consisting', 'consumer',\n",
    "                  'courage', 'covaria', 'coverage', 'dimers', 'distinguish', 'eavalues', 'emilia', 'multivaria',\n",
    "                  'nsaids', 'preexisting', 'reaches', 'recording', 'restaura', 'spain', 'standard', 'tactics',\n",
    "                  'tattoos', 'tasmania', 'telcagepant', 'testing', 'tragus', '<02'] #'non'\n",
    "\n",
    "rep = dict((re.escape(k), ' ') for k in non_drug_ad_rel)\n",
    "pattern = re.compile(\"|\".join(rep.keys()))"
   ]
  },
  {
   "cell_type": "code",
   "execution_count": 22,
   "metadata": {},
   "outputs": [
    {
     "name": "stdout",
     "output_type": "stream",
     "text": [
      "values<02\n",
      "===============================\n"
     ]
    }
   ],
   "source": [
    "for ind, row in ads.iterrows():\n",
    "    refined = pattern.sub(lambda m: rep[re.escape(m.group(0))], row['name'])\n",
    "    if row['name'].strip() != refined.strip():\n",
    "        print(row['name'])\n",
    "        ads.drop(ind, inplace=True)\n",
    "        print('===============================')\n",
    "\n",
    "ads = ads.reset_index(drop=True)"
   ]
  },
  {
   "cell_type": "markdown",
   "metadata": {},
   "source": [
    "#### 약-부작용 관계를 나타는 것이 아닌 레코드를 제거하면 9132 남습니다"
   ]
  },
  {
   "cell_type": "code",
   "execution_count": 23,
   "metadata": {},
   "outputs": [
    {
     "data": {
      "text/plain": [
       "(9132, 2)"
      ]
     },
     "execution_count": 23,
     "metadata": {},
     "output_type": "execute_result"
    }
   ],
   "source": [
    "ads.shape"
   ]
  },
  {
   "cell_type": "markdown",
   "metadata": {},
   "source": [
    "### 부작용용어 dictionary와 정확이 매칭하면 추가 전처리 없이 확정"
   ]
  },
  {
   "cell_type": "code",
   "execution_count": 24,
   "metadata": {},
   "outputs": [],
   "source": [
    "for ind, ad in ads.iterrows():\n",
    "#     print(ad['name'].strip())\n",
    "    name = ad['name'].strip()\n",
    "    exact_mathing = dictionary.loc[dictionary.t_ad==name]\n",
    "    \n",
    "    if len(exact_mathing)==0:\n",
    "        if name[0] in ['\"', '.', ':', '-', '(', ')']:\n",
    "            name = name[1:]\n",
    "        if name[len(name)-1] in ['\"', '.', ':', '-', '(', ')']:\n",
    "            name = name[:len(name)-1]\n",
    "#         print(name)\n",
    "            \n",
    "        exact_mathing = dictionary.loc[dictionary.t_ad==name]\n",
    "        \n",
    "    if len(exact_mathing)>0:\n",
    "        ads.loc[ind]['refined'] = name"
   ]
  },
  {
   "cell_type": "markdown",
   "metadata": {},
   "source": [
    "### 추가 전처리가 필요한 약물 갯수"
   ]
  },
  {
   "cell_type": "code",
   "execution_count": 25,
   "metadata": {},
   "outputs": [
    {
     "data": {
      "text/plain": [
       "2317"
      ]
     },
     "execution_count": 25,
     "metadata": {},
     "output_type": "execute_result"
    }
   ],
   "source": [
    "len(ads[(ads.refined=='')])#.sort_values(by=['name'])[2520:2540]"
   ]
  },
  {
   "cell_type": "code",
   "execution_count": 26,
   "metadata": {},
   "outputs": [],
   "source": [
    "def get_only_string(text):\n",
    "    try:\n",
    "        float(text)\n",
    "        return False\n",
    "    except ValueError:\n",
    "        return True\n",
    "    \n",
    "def remove_comparison(name, spliter):\n",
    "    arrs = list(filter(lambda x: get_only_string(x.strip().replace('%', '')) and x.strip(), name.split(spliter)))\n",
    "    if len(arrs)>0:\n",
    "        return arrs\n",
    "    else:\n",
    "        return None\n",
    "\n",
    "for ind, row in ads.loc[ads.name.str.find('<')>=0].iterrows():\n",
    "    processed = remove_comparison(row['name'], '<')\n",
    "    if processed is None:\n",
    "        ads.drop(ind, inplace=True)\n",
    "    else:\n",
    "        ads.loc[ind].refined = ''.join(processed)\n",
    "# comp_ads.refined = comp_ads.name.map(lambda x: remove_comparison(x))"
   ]
  },
  {
   "cell_type": "code",
   "execution_count": 27,
   "metadata": {},
   "outputs": [
    {
     "data": {
      "text/html": [
       "<div>\n",
       "<style scoped>\n",
       "    .dataframe tbody tr th:only-of-type {\n",
       "        vertical-align: middle;\n",
       "    }\n",
       "\n",
       "    .dataframe tbody tr th {\n",
       "        vertical-align: top;\n",
       "    }\n",
       "\n",
       "    .dataframe thead th {\n",
       "        text-align: right;\n",
       "    }\n",
       "</style>\n",
       "<table border=\"1\" class=\"dataframe\">\n",
       "  <thead>\n",
       "    <tr style=\"text-align: right;\">\n",
       "      <th></th>\n",
       "      <th>name</th>\n",
       "      <th>refined</th>\n",
       "    </tr>\n",
       "  </thead>\n",
       "  <tbody>\n",
       "    <tr>\n",
       "      <th>647</th>\n",
       "      <td>values&lt;0.2</td>\n",
       "      <td>values</td>\n",
       "    </tr>\n",
       "    <tr>\n",
       "      <th>757</th>\n",
       "      <td>stenosis&lt;50</td>\n",
       "      <td>stenosis</td>\n",
       "    </tr>\n",
       "    <tr>\n",
       "      <th>1113</th>\n",
       "      <td>&lt;asc-h</td>\n",
       "      <td>asc-h</td>\n",
       "    </tr>\n",
       "    <tr>\n",
       "      <th>2148</th>\n",
       "      <td>pressure&lt;80</td>\n",
       "      <td>pressure</td>\n",
       "    </tr>\n",
       "    <tr>\n",
       "      <th>2862</th>\n",
       "      <td>thrombocytopenia&lt;50</td>\n",
       "      <td>thrombocytopenia</td>\n",
       "    </tr>\n",
       "    <tr>\n",
       "      <th>3123</th>\n",
       "      <td>diabetes&lt;5</td>\n",
       "      <td>diabetes</td>\n",
       "    </tr>\n",
       "    <tr>\n",
       "      <th>3286</th>\n",
       "      <td>values&lt;15</td>\n",
       "      <td>values</td>\n",
       "    </tr>\n",
       "    <tr>\n",
       "      <th>4274</th>\n",
       "      <td>values&lt;00001</td>\n",
       "      <td>values</td>\n",
       "    </tr>\n",
       "    <tr>\n",
       "      <th>4596</th>\n",
       "      <td>binge drinking&lt;1</td>\n",
       "      <td>binge drinking</td>\n",
       "    </tr>\n",
       "    <tr>\n",
       "      <th>4715</th>\n",
       "      <td>stenosis&lt;70%</td>\n",
       "      <td>stenosis</td>\n",
       "    </tr>\n",
       "    <tr>\n",
       "      <th>5258</th>\n",
       "      <td>stemi&lt;12</td>\n",
       "      <td>stemi</td>\n",
       "    </tr>\n",
       "    <tr>\n",
       "      <th>5887</th>\n",
       "      <td>values&lt;25</td>\n",
       "      <td>values</td>\n",
       "    </tr>\n",
       "    <tr>\n",
       "      <th>6161</th>\n",
       "      <td>dyslipidemia&lt;5</td>\n",
       "      <td>dyslipidemia</td>\n",
       "    </tr>\n",
       "    <tr>\n",
       "      <th>6495</th>\n",
       "      <td>hypertension&lt;5</td>\n",
       "      <td>hypertension</td>\n",
       "    </tr>\n",
       "    <tr>\n",
       "      <th>7991</th>\n",
       "      <td>stemi&lt;6</td>\n",
       "      <td>stemi</td>\n",
       "    </tr>\n",
       "    <tr>\n",
       "      <th>8233</th>\n",
       "      <td>pneumonia&lt;1</td>\n",
       "      <td>pneumonia</td>\n",
       "    </tr>\n",
       "    <tr>\n",
       "      <th>8294</th>\n",
       "      <td>pre-term birth&lt;37</td>\n",
       "      <td>pre-term birth</td>\n",
       "    </tr>\n",
       "  </tbody>\n",
       "</table>\n",
       "</div>"
      ],
      "text/plain": [
       "                     name           refined\n",
       "647            values<0.2            values\n",
       "757           stenosis<50          stenosis\n",
       "1113               <asc-h             asc-h\n",
       "2148          pressure<80          pressure\n",
       "2862  thrombocytopenia<50  thrombocytopenia\n",
       "3123           diabetes<5          diabetes\n",
       "3286            values<15            values\n",
       "4274         values<00001            values\n",
       "4596     binge drinking<1    binge drinking\n",
       "4715         stenosis<70%          stenosis\n",
       "5258             stemi<12             stemi\n",
       "5887            values<25            values\n",
       "6161       dyslipidemia<5      dyslipidemia\n",
       "6495       hypertension<5      hypertension\n",
       "7991              stemi<6             stemi\n",
       "8233          pneumonia<1         pneumonia\n",
       "8294    pre-term birth<37    pre-term birth"
      ]
     },
     "execution_count": 27,
     "metadata": {},
     "output_type": "execute_result"
    }
   ],
   "source": [
    "ads.loc[ads.name.str.find('<')>=0]"
   ]
  },
  {
   "cell_type": "markdown",
   "metadata": {},
   "source": [
    "여러 부작용이 하나의 레코드에 담겨있는 경우, 분리하여 입력"
   ]
  },
  {
   "cell_type": "code",
   "execution_count": 28,
   "metadata": {},
   "outputs": [
    {
     "name": "stdout",
     "output_type": "stream",
     "text": [
      "transient ischaemic attack\n",
      "amaurosis\n",
      "retinal infarction\n",
      "transient\n",
      "healthy\n",
      "retinal\n",
      "amaurosis\n",
      "transient\n",
      "healthy\n",
      "amaurosis fugax\n"
     ]
    }
   ],
   "source": [
    "additional_ads = []\n",
    "\n",
    "for ind, row in ads.loc[ads.name.str.find('>')>=0].iterrows():\n",
    "    processed = remove_comparison(row['name'], '>')\n",
    "    if processed is None:\n",
    "        ads.drop(ind, inplace=True)\n",
    "    else:\n",
    "        ads.loc[ind].refined = processed[0]\n",
    "        for pro in processed[1:]:\n",
    "            print(pro)\n",
    "            additional_ads.append({'name':row['name'], 'refined':pro})\n",
    "\n",
    "ads = ads.append(pd.DataFrame(additional_ads))\n",
    "ads.drop_duplicates(inplace=True)"
   ]
  },
  {
   "cell_type": "code",
   "execution_count": 29,
   "metadata": {},
   "outputs": [
    {
     "data": {
      "text/plain": [
       "(9141, 2)"
      ]
     },
     "execution_count": 29,
     "metadata": {},
     "output_type": "execute_result"
    }
   ],
   "source": [
    "ads.shape"
   ]
  },
  {
   "cell_type": "markdown",
   "metadata": {},
   "source": [
    "### 앞 뒤의 -, . 제거"
   ]
  },
  {
   "cell_type": "code",
   "execution_count": 30,
   "metadata": {},
   "outputs": [],
   "source": [
    "remove_list = ['.', '-related', '-', ':', '+', '–', ';', '%', 'time', 'invariably', '||']\n",
    "def preprocess(name):\n",
    "    if name[0] in remove_list:\n",
    "        name = name[1:len(name)]\n",
    "    \n",
    "    if name[len(name)-1] in remove_list:\n",
    "        name = name[0:len(name)-1]\n",
    "    return name\n",
    "    \n",
    "ads.name = ads.name.map(lambda x: preprocess(x))"
   ]
  },
  {
   "cell_type": "code",
   "execution_count": 31,
   "metadata": {},
   "outputs": [
    {
     "data": {
      "text/html": [
       "<div>\n",
       "<style scoped>\n",
       "    .dataframe tbody tr th:only-of-type {\n",
       "        vertical-align: middle;\n",
       "    }\n",
       "\n",
       "    .dataframe tbody tr th {\n",
       "        vertical-align: top;\n",
       "    }\n",
       "\n",
       "    .dataframe thead th {\n",
       "        text-align: right;\n",
       "    }\n",
       "</style>\n",
       "<table border=\"1\" class=\"dataframe\">\n",
       "  <thead>\n",
       "    <tr style=\"text-align: right;\">\n",
       "      <th></th>\n",
       "      <th>name</th>\n",
       "      <th>refined</th>\n",
       "    </tr>\n",
       "  </thead>\n",
       "  <tbody>\n",
       "    <tr>\n",
       "      <th>6732</th>\n",
       "      <td>(arrhythmia)</td>\n",
       "      <td>arrhythmia</td>\n",
       "    </tr>\n",
       "    <tr>\n",
       "      <th>7444</th>\n",
       "      <td>(copd)</td>\n",
       "      <td>copd</td>\n",
       "    </tr>\n",
       "    <tr>\n",
       "      <th>3480</th>\n",
       "      <td>(lbbb)</td>\n",
       "      <td>lbbb</td>\n",
       "    </tr>\n",
       "    <tr>\n",
       "      <th>8763</th>\n",
       "      <td>(scale</td>\n",
       "      <td>scale</td>\n",
       "    </tr>\n",
       "    <tr>\n",
       "      <th>7985</th>\n",
       "      <td>(systemic</td>\n",
       "      <td>systemic</td>\n",
       "    </tr>\n",
       "  </tbody>\n",
       "</table>\n",
       "</div>"
      ],
      "text/plain": [
       "              name     refined\n",
       "6732  (arrhythmia)  arrhythmia\n",
       "7444        (copd)        copd\n",
       "3480        (lbbb)        lbbb\n",
       "8763        (scale       scale\n",
       "7985     (systemic    systemic"
      ]
     },
     "execution_count": 31,
     "metadata": {},
     "output_type": "execute_result"
    }
   ],
   "source": [
    "ads.sort_values(by='name').head()"
   ]
  },
  {
   "cell_type": "markdown",
   "metadata": {},
   "source": [
    "### 추가 전처리 필요없는 부작용들은  refined로 입력"
   ]
  },
  {
   "cell_type": "code",
   "execution_count": null,
   "metadata": {},
   "outputs": [],
   "source": [
    "remove_list.extend([')', '('])\n",
    "spe_chars = dict((re.escape(str(k)), ' ') for k in remove_list)\n",
    "sep_pattern = re.compile(\"|\".join(spe_chars.keys()))\n",
    "int_pattern = re.compile('[0-9]')\n",
    "\n",
    "for ind, row in ads.iterrows():\n",
    "    refined = sep_pattern.sub(lambda m: spe_chars[re.escape(m.group(0))], row['name'])\n",
    "    int_refined = int_pattern.search(row['name'])\n",
    "    \n",
    "    if refined.strip() == '':\n",
    "        ads.drop(ind, inplace=True)\n",
    "    elif row['name'].strip() == refined.strip() and int_refined is None:\n",
    "        ads.loc[ind]['refined'] = refined\n",
    "        print(row['name'])\n",
    "        print(ads.loc[ind]['refined'])\n",
    "    print('===============================')"
   ]
  },
  {
   "cell_type": "code",
   "execution_count": 33,
   "metadata": {},
   "outputs": [
    {
     "data": {
      "text/plain": [
       "(8388, 2)"
      ]
     },
     "execution_count": 33,
     "metadata": {},
     "output_type": "execute_result"
    }
   ],
   "source": [
    "ads.loc[ads.refined.str.len()>0].shape"
   ]
  },
  {
   "cell_type": "code",
   "execution_count": 34,
   "metadata": {},
   "outputs": [
    {
     "data": {
      "text/html": [
       "<div>\n",
       "<style scoped>\n",
       "    .dataframe tbody tr th:only-of-type {\n",
       "        vertical-align: middle;\n",
       "    }\n",
       "\n",
       "    .dataframe tbody tr th {\n",
       "        vertical-align: top;\n",
       "    }\n",
       "\n",
       "    .dataframe thead th {\n",
       "        text-align: right;\n",
       "    }\n",
       "</style>\n",
       "<table border=\"1\" class=\"dataframe\">\n",
       "  <thead>\n",
       "    <tr style=\"text-align: right;\">\n",
       "      <th></th>\n",
       "      <th>name</th>\n",
       "      <th>refined</th>\n",
       "    </tr>\n",
       "  </thead>\n",
       "  <tbody>\n",
       "    <tr>\n",
       "      <th>0</th>\n",
       "      <td>anuloaortic ectasia</td>\n",
       "      <td></td>\n",
       "    </tr>\n",
       "    <tr>\n",
       "      <th>1</th>\n",
       "      <td>mass-cavity</td>\n",
       "      <td></td>\n",
       "    </tr>\n",
       "    <tr>\n",
       "      <th>2</th>\n",
       "      <td>presyncope</td>\n",
       "      <td>presyncope</td>\n",
       "    </tr>\n",
       "    <tr>\n",
       "      <th>3</th>\n",
       "      <td>seizure</td>\n",
       "      <td>seizure</td>\n",
       "    </tr>\n",
       "    <tr>\n",
       "      <th>4</th>\n",
       "      <td>aphthous ulcer</td>\n",
       "      <td>aphthous ulcer</td>\n",
       "    </tr>\n",
       "    <tr>\n",
       "      <th>5</th>\n",
       "      <td>proliferative diabetic retinopathy</td>\n",
       "      <td>proliferative diabetic retinopathy</td>\n",
       "    </tr>\n",
       "    <tr>\n",
       "      <th>6</th>\n",
       "      <td>post-aids</td>\n",
       "      <td></td>\n",
       "    </tr>\n",
       "    <tr>\n",
       "      <th>7</th>\n",
       "      <td>shoulder pain</td>\n",
       "      <td>shoulder pain</td>\n",
       "    </tr>\n",
       "    <tr>\n",
       "      <th>8</th>\n",
       "      <td>granuloma</td>\n",
       "      <td>granuloma</td>\n",
       "    </tr>\n",
       "    <tr>\n",
       "      <th>9</th>\n",
       "      <td>gallbladder stones</td>\n",
       "      <td>gallbladder stones</td>\n",
       "    </tr>\n",
       "    <tr>\n",
       "      <th>...</th>\n",
       "      <td>...</td>\n",
       "      <td>...</td>\n",
       "    </tr>\n",
       "    <tr>\n",
       "      <th>9130</th>\n",
       "      <td>infarction&gt;transient ischaemic attack&gt;amaurosis</td>\n",
       "      <td>transient ischaemic attack</td>\n",
       "    </tr>\n",
       "    <tr>\n",
       "      <th>9131</th>\n",
       "      <td>infarction&gt;transient ischaemic attack&gt;amaurosis</td>\n",
       "      <td>amaurosis</td>\n",
       "    </tr>\n",
       "    <tr>\n",
       "      <th>9132</th>\n",
       "      <td>stroke&gt;retinal infarction&gt;transient</td>\n",
       "      <td>retinal infarction</td>\n",
       "    </tr>\n",
       "    <tr>\n",
       "      <th>9133</th>\n",
       "      <td>stroke&gt;retinal infarction&gt;transient</td>\n",
       "      <td>transient</td>\n",
       "    </tr>\n",
       "    <tr>\n",
       "      <th>9134</th>\n",
       "      <td>non-epileptic seizures&gt;healthy</td>\n",
       "      <td>healthy</td>\n",
       "    </tr>\n",
       "    <tr>\n",
       "      <th>9135</th>\n",
       "      <td>stroke&gt;retinal</td>\n",
       "      <td>retinal</td>\n",
       "    </tr>\n",
       "    <tr>\n",
       "      <th>9136</th>\n",
       "      <td>attack&gt;amaurosis</td>\n",
       "      <td>amaurosis</td>\n",
       "    </tr>\n",
       "    <tr>\n",
       "      <th>9137</th>\n",
       "      <td>infarction&gt;transient</td>\n",
       "      <td>transient</td>\n",
       "    </tr>\n",
       "    <tr>\n",
       "      <th>9138</th>\n",
       "      <td>seizures&gt;healthy</td>\n",
       "      <td>healthy</td>\n",
       "    </tr>\n",
       "    <tr>\n",
       "      <th>9139</th>\n",
       "      <td>attack&gt;amaurosis fugax</td>\n",
       "      <td>amaurosis fugax</td>\n",
       "    </tr>\n",
       "  </tbody>\n",
       "</table>\n",
       "<p>9140 rows × 2 columns</p>\n",
       "</div>"
      ],
      "text/plain": [
       "                                                 name  \\\n",
       "0                                 anuloaortic ectasia   \n",
       "1                                         mass-cavity   \n",
       "2                                          presyncope   \n",
       "3                                             seizure   \n",
       "4                                      aphthous ulcer   \n",
       "5                  proliferative diabetic retinopathy   \n",
       "6                                           post-aids   \n",
       "7                                       shoulder pain   \n",
       "8                                           granuloma   \n",
       "9                                  gallbladder stones   \n",
       "...                                               ...   \n",
       "9130  infarction>transient ischaemic attack>amaurosis   \n",
       "9131  infarction>transient ischaemic attack>amaurosis   \n",
       "9132              stroke>retinal infarction>transient   \n",
       "9133              stroke>retinal infarction>transient   \n",
       "9134                   non-epileptic seizures>healthy   \n",
       "9135                                   stroke>retinal   \n",
       "9136                                 attack>amaurosis   \n",
       "9137                             infarction>transient   \n",
       "9138                                 seizures>healthy   \n",
       "9139                           attack>amaurosis fugax   \n",
       "\n",
       "                                 refined  \n",
       "0                                         \n",
       "1                                         \n",
       "2                             presyncope  \n",
       "3                                seizure  \n",
       "4                         aphthous ulcer  \n",
       "5     proliferative diabetic retinopathy  \n",
       "6                                         \n",
       "7                          shoulder pain  \n",
       "8                              granuloma  \n",
       "9                     gallbladder stones  \n",
       "...                                  ...  \n",
       "9130          transient ischaemic attack  \n",
       "9131                           amaurosis  \n",
       "9132                  retinal infarction  \n",
       "9133                           transient  \n",
       "9134                             healthy  \n",
       "9135                             retinal  \n",
       "9136                           amaurosis  \n",
       "9137                           transient  \n",
       "9138                             healthy  \n",
       "9139                     amaurosis fugax  \n",
       "\n",
       "[9140 rows x 2 columns]"
      ]
     },
     "execution_count": 34,
     "metadata": {},
     "output_type": "execute_result"
    }
   ],
   "source": [
    "ads.reset_index(drop=True)"
   ]
  },
  {
   "cell_type": "markdown",
   "metadata": {},
   "source": [
    "## 정체된 목록입니다."
   ]
  },
  {
   "cell_type": "code",
   "execution_count": 35,
   "metadata": {},
   "outputs": [],
   "source": [
    "ads.loc[ads.refined.str.strip()!=''].to_csv('./refined_ads.csv', sep=',')"
   ]
  },
  {
   "cell_type": "markdown",
   "metadata": {},
   "source": [
    "## 선생님께 확인 요청을 드리고 싶은 부분"
   ]
  },
  {
   "cell_type": "code",
   "execution_count": 37,
   "metadata": {},
   "outputs": [
    {
     "data": {
      "text/plain": [
       "(690, 2)"
      ]
     },
     "execution_count": 37,
     "metadata": {},
     "output_type": "execute_result"
    }
   ],
   "source": [
    "# - 표시\n",
    "ads[(ads['refined']=='') & (ads['name'].str.find('-')>=0)].shape"
   ]
  },
  {
   "cell_type": "code",
   "execution_count": 38,
   "metadata": {},
   "outputs": [
    {
     "data": {
      "text/html": [
       "<div>\n",
       "<style scoped>\n",
       "    .dataframe tbody tr th:only-of-type {\n",
       "        vertical-align: middle;\n",
       "    }\n",
       "\n",
       "    .dataframe tbody tr th {\n",
       "        vertical-align: top;\n",
       "    }\n",
       "\n",
       "    .dataframe thead th {\n",
       "        text-align: right;\n",
       "    }\n",
       "</style>\n",
       "<table border=\"1\" class=\"dataframe\">\n",
       "  <thead>\n",
       "    <tr style=\"text-align: right;\">\n",
       "      <th></th>\n",
       "      <th>name</th>\n",
       "      <th>refined</th>\n",
       "    </tr>\n",
       "  </thead>\n",
       "  <tbody>\n",
       "    <tr>\n",
       "      <th>1</th>\n",
       "      <td>mass-cavity</td>\n",
       "      <td></td>\n",
       "    </tr>\n",
       "    <tr>\n",
       "      <th>6</th>\n",
       "      <td>post-aids</td>\n",
       "      <td></td>\n",
       "    </tr>\n",
       "    <tr>\n",
       "      <th>14</th>\n",
       "      <td>epispadias-classical</td>\n",
       "      <td></td>\n",
       "    </tr>\n",
       "    <tr>\n",
       "      <th>24</th>\n",
       "      <td>broncho-pneumonia</td>\n",
       "      <td></td>\n",
       "    </tr>\n",
       "    <tr>\n",
       "      <th>40</th>\n",
       "      <td>cardio-myopathy</td>\n",
       "      <td></td>\n",
       "    </tr>\n",
       "    <tr>\n",
       "      <th>50</th>\n",
       "      <td>hypertension-stroke</td>\n",
       "      <td></td>\n",
       "    </tr>\n",
       "    <tr>\n",
       "      <th>64</th>\n",
       "      <td>mgh-adhd</td>\n",
       "      <td></td>\n",
       "    </tr>\n",
       "    <tr>\n",
       "      <th>77</th>\n",
       "      <td>heat-shock</td>\n",
       "      <td></td>\n",
       "    </tr>\n",
       "    <tr>\n",
       "      <th>86</th>\n",
       "      <td>neoplasm-associated</td>\n",
       "      <td></td>\n",
       "    </tr>\n",
       "    <tr>\n",
       "      <th>114</th>\n",
       "      <td>neoangiogenesis-inflammation</td>\n",
       "      <td></td>\n",
       "    </tr>\n",
       "    <tr>\n",
       "      <th>...</th>\n",
       "      <td>...</td>\n",
       "      <td>...</td>\n",
       "    </tr>\n",
       "    <tr>\n",
       "      <th>8951</th>\n",
       "      <td>mismatch-hyperkinetic</td>\n",
       "      <td></td>\n",
       "    </tr>\n",
       "    <tr>\n",
       "      <th>8960</th>\n",
       "      <td>cough-other</td>\n",
       "      <td></td>\n",
       "    </tr>\n",
       "    <tr>\n",
       "      <th>8968</th>\n",
       "      <td>heart failure-preserved</td>\n",
       "      <td></td>\n",
       "    </tr>\n",
       "    <tr>\n",
       "      <th>8970</th>\n",
       "      <td>body-mass-index</td>\n",
       "      <td></td>\n",
       "    </tr>\n",
       "    <tr>\n",
       "      <th>8985</th>\n",
       "      <td>cardiomyopathy-1</td>\n",
       "      <td></td>\n",
       "    </tr>\n",
       "    <tr>\n",
       "      <th>8992</th>\n",
       "      <td>schizophrenia-spectrum</td>\n",
       "      <td></td>\n",
       "    </tr>\n",
       "    <tr>\n",
       "      <th>9043</th>\n",
       "      <td>18f-6-fluoro-l-dopa</td>\n",
       "      <td></td>\n",
       "    </tr>\n",
       "    <tr>\n",
       "      <th>9106</th>\n",
       "      <td>dementia-motor</td>\n",
       "      <td></td>\n",
       "    </tr>\n",
       "    <tr>\n",
       "      <th>9120</th>\n",
       "      <td>trabecular-apica</td>\n",
       "      <td></td>\n",
       "    </tr>\n",
       "    <tr>\n",
       "      <th>9126</th>\n",
       "      <td>left-atrial enlargement</td>\n",
       "      <td></td>\n",
       "    </tr>\n",
       "  </tbody>\n",
       "</table>\n",
       "<p>690 rows × 2 columns</p>\n",
       "</div>"
      ],
      "text/plain": [
       "                              name refined\n",
       "1                      mass-cavity        \n",
       "6                        post-aids        \n",
       "14            epispadias-classical        \n",
       "24               broncho-pneumonia        \n",
       "40                 cardio-myopathy        \n",
       "50             hypertension-stroke        \n",
       "64                        mgh-adhd        \n",
       "77                      heat-shock        \n",
       "86             neoplasm-associated        \n",
       "114   neoangiogenesis-inflammation        \n",
       "...                            ...     ...\n",
       "8951         mismatch-hyperkinetic        \n",
       "8960                   cough-other        \n",
       "8968       heart failure-preserved        \n",
       "8970               body-mass-index        \n",
       "8985              cardiomyopathy-1        \n",
       "8992        schizophrenia-spectrum        \n",
       "9043           18f-6-fluoro-l-dopa        \n",
       "9106                dementia-motor        \n",
       "9120              trabecular-apica        \n",
       "9126       left-atrial enlargement        \n",
       "\n",
       "[690 rows x 2 columns]"
      ]
     },
     "execution_count": 38,
     "metadata": {},
     "output_type": "execute_result"
    }
   ],
   "source": [
    "ads[(ads['refined']=='') & (ads['name'].str.find('-')>=0)]"
   ]
  },
  {
   "cell_type": "code",
   "execution_count": 41,
   "metadata": {},
   "outputs": [
    {
     "data": {
      "text/html": [
       "<div>\n",
       "<style scoped>\n",
       "    .dataframe tbody tr th:only-of-type {\n",
       "        vertical-align: middle;\n",
       "    }\n",
       "\n",
       "    .dataframe tbody tr th {\n",
       "        vertical-align: top;\n",
       "    }\n",
       "\n",
       "    .dataframe thead th {\n",
       "        text-align: right;\n",
       "    }\n",
       "</style>\n",
       "<table border=\"1\" class=\"dataframe\">\n",
       "  <thead>\n",
       "    <tr style=\"text-align: right;\">\n",
       "      <th></th>\n",
       "      <th>name</th>\n",
       "      <th>refined</th>\n",
       "    </tr>\n",
       "  </thead>\n",
       "  <tbody>\n",
       "    <tr>\n",
       "      <th>3749</th>\n",
       "      <td>riddle-nstemi</td>\n",
       "      <td></td>\n",
       "    </tr>\n",
       "    <tr>\n",
       "      <th>4024</th>\n",
       "      <td>nstemi</td>\n",
       "      <td>nstemi</td>\n",
       "    </tr>\n",
       "    <tr>\n",
       "      <th>6817</th>\n",
       "      <td>lipsia-nstemi</td>\n",
       "      <td></td>\n",
       "    </tr>\n",
       "    <tr>\n",
       "      <th>6845</th>\n",
       "      <td>nstemi</td>\n",
       "      <td>nstemi</td>\n",
       "    </tr>\n",
       "  </tbody>\n",
       "</table>\n",
       "</div>"
      ],
      "text/plain": [
       "               name refined\n",
       "3749  riddle-nstemi        \n",
       "4024         nstemi  nstemi\n",
       "6817  lipsia-nstemi        \n",
       "6845         nstemi  nstemi"
      ]
     },
     "execution_count": 41,
     "metadata": {},
     "output_type": "execute_result"
    }
   ],
   "source": [
    "ads[ads.name.str.find(\"nstemi\")>=0] "
   ]
  },
  {
   "cell_type": "markdown",
   "metadata": {},
   "source": [
    "### fluorodeoxyglucose 같은 용어들"
   ]
  },
  {
   "cell_type": "code",
   "execution_count": 42,
   "metadata": {},
   "outputs": [
    {
     "data": {
      "text/html": [
       "<div>\n",
       "<style scoped>\n",
       "    .dataframe tbody tr th:only-of-type {\n",
       "        vertical-align: middle;\n",
       "    }\n",
       "\n",
       "    .dataframe tbody tr th {\n",
       "        vertical-align: top;\n",
       "    }\n",
       "\n",
       "    .dataframe thead th {\n",
       "        text-align: right;\n",
       "    }\n",
       "</style>\n",
       "<table border=\"1\" class=\"dataframe\">\n",
       "  <thead>\n",
       "    <tr style=\"text-align: right;\">\n",
       "      <th></th>\n",
       "      <th>name</th>\n",
       "      <th>refined</th>\n",
       "    </tr>\n",
       "  </thead>\n",
       "  <tbody>\n",
       "    <tr>\n",
       "      <th>136</th>\n",
       "      <td>immunofluorometric</td>\n",
       "      <td>immunofluorometric</td>\n",
       "    </tr>\n",
       "    <tr>\n",
       "      <th>265</th>\n",
       "      <td>fluoroscopy</td>\n",
       "      <td>fluoroscopy</td>\n",
       "    </tr>\n",
       "    <tr>\n",
       "      <th>642</th>\n",
       "      <td>5-fluorouracil</td>\n",
       "      <td></td>\n",
       "    </tr>\n",
       "    <tr>\n",
       "      <th>867</th>\n",
       "      <td>videofluorography</td>\n",
       "      <td>videofluorography</td>\n",
       "    </tr>\n",
       "    <tr>\n",
       "      <th>1606</th>\n",
       "      <td>fluorouracil-based</td>\n",
       "      <td></td>\n",
       "    </tr>\n",
       "    <tr>\n",
       "      <th>1996</th>\n",
       "      <td>fluoropyrimidine</td>\n",
       "      <td>fluoropyrimidine</td>\n",
       "    </tr>\n",
       "    <tr>\n",
       "      <th>3017</th>\n",
       "      <td>fluorouracil</td>\n",
       "      <td>fluorouracil</td>\n",
       "    </tr>\n",
       "    <tr>\n",
       "      <th>3295</th>\n",
       "      <td>f-18-fluorodeoxyglucose</td>\n",
       "      <td></td>\n",
       "    </tr>\n",
       "    <tr>\n",
       "      <th>3683</th>\n",
       "      <td>fluorodeoxyglucose</td>\n",
       "      <td>fluorodeoxyglucose</td>\n",
       "    </tr>\n",
       "    <tr>\n",
       "      <th>3867</th>\n",
       "      <td>polytetrafluoroethylene</td>\n",
       "      <td>polytetrafluoroethylene</td>\n",
       "    </tr>\n",
       "    <tr>\n",
       "      <th>3939</th>\n",
       "      <td>18f-2-fluoro-2-deoxyglucose</td>\n",
       "      <td></td>\n",
       "    </tr>\n",
       "    <tr>\n",
       "      <th>4174</th>\n",
       "      <td>fluoroquinolone</td>\n",
       "      <td>fluoroquinolone</td>\n",
       "    </tr>\n",
       "    <tr>\n",
       "      <th>4384</th>\n",
       "      <td>fluoroscopic</td>\n",
       "      <td>fluoroscopic</td>\n",
       "    </tr>\n",
       "    <tr>\n",
       "      <th>5565</th>\n",
       "      <td>fluoropyrimidine-based</td>\n",
       "      <td></td>\n",
       "    </tr>\n",
       "    <tr>\n",
       "      <th>6264</th>\n",
       "      <td>fluoroquinolones</td>\n",
       "      <td>fluoroquinolones</td>\n",
       "    </tr>\n",
       "    <tr>\n",
       "      <th>6331</th>\n",
       "      <td>5-fluorouracil/leucovorin</td>\n",
       "      <td></td>\n",
       "    </tr>\n",
       "    <tr>\n",
       "      <th>6506</th>\n",
       "      <td>18fluorodeoxyglucose</td>\n",
       "      <td></td>\n",
       "    </tr>\n",
       "    <tr>\n",
       "      <th>7463</th>\n",
       "      <td>18f-fluorodeoxyglucose</td>\n",
       "      <td></td>\n",
       "    </tr>\n",
       "    <tr>\n",
       "      <th>9043</th>\n",
       "      <td>18f-6-fluoro-l-dopa</td>\n",
       "      <td></td>\n",
       "    </tr>\n",
       "  </tbody>\n",
       "</table>\n",
       "</div>"
      ],
      "text/plain": [
       "                             name                  refined\n",
       "136            immunofluorometric       immunofluorometric\n",
       "265                   fluoroscopy              fluoroscopy\n",
       "642                5-fluorouracil                         \n",
       "867             videofluorography        videofluorography\n",
       "1606           fluorouracil-based                         \n",
       "1996             fluoropyrimidine         fluoropyrimidine\n",
       "3017                 fluorouracil             fluorouracil\n",
       "3295      f-18-fluorodeoxyglucose                         \n",
       "3683           fluorodeoxyglucose       fluorodeoxyglucose\n",
       "3867      polytetrafluoroethylene  polytetrafluoroethylene\n",
       "3939  18f-2-fluoro-2-deoxyglucose                         \n",
       "4174              fluoroquinolone          fluoroquinolone\n",
       "4384                 fluoroscopic             fluoroscopic\n",
       "5565       fluoropyrimidine-based                         \n",
       "6264             fluoroquinolones         fluoroquinolones\n",
       "6331    5-fluorouracil/leucovorin                         \n",
       "6506         18fluorodeoxyglucose                         \n",
       "7463       18f-fluorodeoxyglucose                         \n",
       "9043          18f-6-fluoro-l-dopa                         "
      ]
     },
     "execution_count": 42,
     "metadata": {},
     "output_type": "execute_result"
    }
   ],
   "source": [
    "ads[ads.name.str.find('fluoro')>=0]"
   ]
  },
  {
   "cell_type": "markdown",
   "metadata": {},
   "source": [
    "### in situ 포함 부작용"
   ]
  },
  {
   "cell_type": "code",
   "execution_count": 43,
   "metadata": {},
   "outputs": [
    {
     "data": {
      "text/html": [
       "<div>\n",
       "<style scoped>\n",
       "    .dataframe tbody tr th:only-of-type {\n",
       "        vertical-align: middle;\n",
       "    }\n",
       "\n",
       "    .dataframe tbody tr th {\n",
       "        vertical-align: top;\n",
       "    }\n",
       "\n",
       "    .dataframe thead th {\n",
       "        text-align: right;\n",
       "    }\n",
       "</style>\n",
       "<table border=\"1\" class=\"dataframe\">\n",
       "  <thead>\n",
       "    <tr style=\"text-align: right;\">\n",
       "      <th></th>\n",
       "      <th>name</th>\n",
       "      <th>refined</th>\n",
       "    </tr>\n",
       "  </thead>\n",
       "  <tbody>\n",
       "    <tr>\n",
       "      <th>889</th>\n",
       "      <td>melanoma in situ</td>\n",
       "      <td>melanoma in situ</td>\n",
       "    </tr>\n",
       "    <tr>\n",
       "      <th>4296</th>\n",
       "      <td>adenocarcinoma in situ</td>\n",
       "      <td>adenocarcinoma in situ</td>\n",
       "    </tr>\n",
       "    <tr>\n",
       "      <th>4959</th>\n",
       "      <td>ductal carcinoma in situ</td>\n",
       "      <td>ductal carcinoma in situ</td>\n",
       "    </tr>\n",
       "    <tr>\n",
       "      <th>6620</th>\n",
       "      <td>in situ cancers</td>\n",
       "      <td>in situ cancers</td>\n",
       "    </tr>\n",
       "    <tr>\n",
       "      <th>7892</th>\n",
       "      <td>carcinoma in situ</td>\n",
       "      <td>carcinoma in situ</td>\n",
       "    </tr>\n",
       "  </tbody>\n",
       "</table>\n",
       "</div>"
      ],
      "text/plain": [
       "                          name                   refined\n",
       "889           melanoma in situ          melanoma in situ\n",
       "4296    adenocarcinoma in situ    adenocarcinoma in situ\n",
       "4959  ductal carcinoma in situ  ductal carcinoma in situ\n",
       "6620           in situ cancers           in situ cancers\n",
       "7892         carcinoma in situ         carcinoma in situ"
      ]
     },
     "execution_count": 43,
     "metadata": {},
     "output_type": "execute_result"
    }
   ],
   "source": [
    "ads[ads.name.str.find('in situ')>=0]"
   ]
  },
  {
   "cell_type": "markdown",
   "metadata": {},
   "source": [
    "- 추가적으로 정제하는데 어려움을 겪고 있는 부작용 용어가 757개 정도 됩니다. 한번 봐주시면서 어떤 접근 방식이 좋을 지 알려주시면 감사하겠습니다."
   ]
  },
  {
   "cell_type": "code",
   "execution_count": 44,
   "metadata": {},
   "outputs": [
    {
     "data": {
      "text/plain": [
       "(752, 2)"
      ]
     },
     "execution_count": 44,
     "metadata": {},
     "output_type": "execute_result"
    }
   ],
   "source": [
    "ads[ads['refined'] == ''].shape"
   ]
  },
  {
   "cell_type": "code",
   "execution_count": 45,
   "metadata": {},
   "outputs": [],
   "source": [
    "ads[ads['refined'] == ''].to_csv('./need_to_refined_ads.csv', sep=',')"
   ]
  },
  {
   "cell_type": "code",
   "execution_count": null,
   "metadata": {},
   "outputs": [],
   "source": []
  }
 ],
 "metadata": {
  "kernelspec": {
   "display_name": "Python 3",
   "language": "python",
   "name": "python3"
  },
  "language_info": {
   "codemirror_mode": {
    "name": "ipython",
    "version": 3
   },
   "file_extension": ".py",
   "mimetype": "text/x-python",
   "name": "python",
   "nbconvert_exporter": "python",
   "pygments_lexer": "ipython3",
   "version": "3.6.4"
  }
 },
 "nbformat": 4,
 "nbformat_minor": 2
}
