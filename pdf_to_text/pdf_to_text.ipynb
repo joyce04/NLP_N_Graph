{
 "cells": [
  {
   "cell_type": "code",
   "execution_count": null,
   "metadata": {},
   "outputs": [],
   "source": [
    "import tabula\n",
    "import textract\n",
    "import os\n",
    "import pandas as pd"
   ]
  },
  {
   "cell_type": "code",
   "execution_count": null,
   "metadata": {},
   "outputs": [],
   "source": [
    "PDF_file =‘/Users/grace/Downloads/TCSstyle1-1.pdf’\n",
    "player_statistic = textract.process(os.path.abspath(PDF_file))\n",
    "player_statistic = str(player_statistic)\n",
    "\n",
    "df = tabula.read_pdf(os.path.abspath(PDF_file), multiple_tables=True, pages=‘all’)\n",
    "type(df)\n",
    "\n",
    "sheet = 1\n",
    "for d in df:\n",
    "    print(‘Table>>>>>>>>>>>>>>’)\n",
    "    print(d)\n",
    "    d.to_excel(‘d_‘+str(sheet)+‘.xls’)\n",
    "    sheet += 1"
   ]
  },
  {
   "cell_type": "code",
   "execution_count": null,
   "metadata": {},
   "outputs": [],
   "source": []
  }
 ],
 "metadata": {
  "kernelspec": {
   "display_name": "Python 3",
   "language": "python",
   "name": "python3"
  },
  "language_info": {
   "codemirror_mode": {
    "name": "ipython",
    "version": 3
   },
   "file_extension": ".py",
   "mimetype": "text/x-python",
   "name": "python",
   "nbconvert_exporter": "python",
   "pygments_lexer": "ipython3",
   "version": "3.5.2"
  }
 },
 "nbformat": 4,
 "nbformat_minor": 2
}
