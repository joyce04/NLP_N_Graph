{
 "cells": [
  {
   "cell_type": "markdown",
   "metadata": {},
   "source": [
    "### Approximate string matching with FuzzyWuzzy\n",
    "\n",
    "- FuzzyWuzzy is a python library uses Levenstein Distance to calculate the differences between sequences\n",
    "- following https://github.com/seatgeek/fuzzywuzzy\n",
    "- and https://towardsdatascience.com/natural-language-processing-for-fuzzy-string-matching-with-python-6632b7824c49"
   ]
  },
  {
   "cell_type": "code",
   "execution_count": 1,
   "metadata": {},
   "outputs": [
    {
     "name": "stderr",
     "output_type": "stream",
     "text": [
      "/Users/grace/workspace/keras/venv/lib/python3.6/site-packages/fuzzywuzzy/fuzz.py:11: UserWarning: Using slow pure-python SequenceMatcher. Install python-Levenshtein to remove this warning\n",
      "  warnings.warn('Using slow pure-python SequenceMatcher. Install python-Levenshtein to remove this warning')\n"
     ]
    }
   ],
   "source": [
    "import db_conn\n",
    "import pymysql\n",
    "import pandas as pd\n",
    "from fuzzywuzzy import fuzz"
   ]
  },
  {
   "cell_type": "code",
   "execution_count": 2,
   "metadata": {},
   "outputs": [
    {
     "data": {
      "text/plain": [
       "73"
      ]
     },
     "execution_count": 2,
     "metadata": {},
     "output_type": "execute_result"
    }
   ],
   "source": [
    "# ratio compare the entire string similarity in order\n",
    "fuzz.ratio('mesna', 'mesnex')\n",
    "# 73 = 73% similar"
   ]
  },
  {
   "cell_type": "code",
   "execution_count": 3,
   "metadata": {},
   "outputs": [
    {
     "data": {
      "text/plain": [
       "43"
      ]
     },
     "execution_count": 3,
     "metadata": {},
     "output_type": "execute_result"
    }
   ],
   "source": [
    "# partial_ratio compares partial string similarity\n",
    "fuzz.partial_ratio('I love computer science', 'computer programming is what I love the most')"
   ]
  },
  {
   "cell_type": "code",
   "execution_count": 4,
   "metadata": {},
   "outputs": [
    {
     "data": {
      "text/plain": [
       "57"
      ]
     },
     "execution_count": 4,
     "metadata": {},
     "output_type": "execute_result"
    }
   ],
   "source": [
    "# token_sort_ratio : ignores word order\n",
    "fuzz.token_sort_ratio('I love computer science', 'computer programming is what I love the most')"
   ]
  },
  {
   "cell_type": "code",
   "execution_count": 5,
   "metadata": {},
   "outputs": [
    {
     "data": {
      "text/plain": [
       "79"
      ]
     },
     "execution_count": 5,
     "metadata": {},
     "output_type": "execute_result"
    }
   ],
   "source": [
    "# token_set_ratio : ignores duplicate words\n",
    "fuzz.token_set_ratio('I love computer science', 'computer programming is what I love the most')"
   ]
  },
  {
   "cell_type": "code",
   "execution_count": 6,
   "metadata": {},
   "outputs": [
    {
     "data": {
      "text/plain": [
       "57"
      ]
     },
     "execution_count": 6,
     "metadata": {},
     "output_type": "execute_result"
    }
   ],
   "source": [
    "# token_set_ratio : ignores duplicate words\n",
    "fuzz.token_set_ratio('I love computer science', 'computer programming')"
   ]
  },
  {
   "cell_type": "code",
   "execution_count": 7,
   "metadata": {},
   "outputs": [],
   "source": [
    "# if conn:\n",
    "# conn.close()\n",
    "conn = db_conn.CONN\n",
    "cursor = conn.cursor(pymysql.cursors.DictCursor)"
   ]
  },
  {
   "cell_type": "code",
   "execution_count": 8,
   "metadata": {},
   "outputs": [
    {
     "data": {
      "text/plain": [
       "24070"
      ]
     },
     "execution_count": 8,
     "metadata": {},
     "output_type": "execute_result"
    }
   ],
   "source": [
    "# get drug list from dictionary table\n",
    "cursor.execute('SELECT * FROM dict_collapsed_final')\n",
    "drugs = pd.DataFrame(cursor.fetchall())"
   ]
  },
  {
   "cell_type": "code",
   "execution_count": 9,
   "metadata": {},
   "outputs": [
    {
     "data": {
      "text/html": [
       "<div>\n",
       "<style scoped>\n",
       "    .dataframe tbody tr th:only-of-type {\n",
       "        vertical-align: middle;\n",
       "    }\n",
       "\n",
       "    .dataframe tbody tr th {\n",
       "        vertical-align: top;\n",
       "    }\n",
       "\n",
       "    .dataframe thead th {\n",
       "        text-align: right;\n",
       "    }\n",
       "</style>\n",
       "<table border=\"1\" class=\"dataframe\">\n",
       "  <thead>\n",
       "    <tr style=\"text-align: right;\">\n",
       "      <th></th>\n",
       "      <th>cui1</th>\n",
       "      <th>cui1_str</th>\n",
       "      <th>cui2</th>\n",
       "      <th>cui2_str</th>\n",
       "    </tr>\n",
       "  </thead>\n",
       "  <tbody>\n",
       "    <tr>\n",
       "      <th>0</th>\n",
       "      <td>C0000294</td>\n",
       "      <td>mesna</td>\n",
       "      <td>C0000294</td>\n",
       "      <td>mesna</td>\n",
       "    </tr>\n",
       "    <tr>\n",
       "      <th>1</th>\n",
       "      <td>C0000294</td>\n",
       "      <td>mesna</td>\n",
       "      <td>C0206008</td>\n",
       "      <td>coenzima m</td>\n",
       "    </tr>\n",
       "    <tr>\n",
       "      <th>2</th>\n",
       "      <td>C0000294</td>\n",
       "      <td>mesna</td>\n",
       "      <td>C0206008</td>\n",
       "      <td>coenzym m</td>\n",
       "    </tr>\n",
       "    <tr>\n",
       "      <th>3</th>\n",
       "      <td>C0000294</td>\n",
       "      <td>mesna</td>\n",
       "      <td>C0206008</td>\n",
       "      <td>coenzyme m</td>\n",
       "    </tr>\n",
       "    <tr>\n",
       "      <th>4</th>\n",
       "      <td>C0000294</td>\n",
       "      <td>mesna</td>\n",
       "      <td>C0206008</td>\n",
       "      <td>reduced com</td>\n",
       "    </tr>\n",
       "    <tr>\n",
       "      <th>5</th>\n",
       "      <td>C0000294</td>\n",
       "      <td>mesna</td>\n",
       "      <td>C0678115</td>\n",
       "      <td>uromitexan</td>\n",
       "    </tr>\n",
       "    <tr>\n",
       "      <th>6</th>\n",
       "      <td>C0000294</td>\n",
       "      <td>mesna</td>\n",
       "      <td>C0721681</td>\n",
       "      <td>mesnex</td>\n",
       "    </tr>\n",
       "    <tr>\n",
       "      <th>7</th>\n",
       "      <td>C0000294</td>\n",
       "      <td>mesna</td>\n",
       "      <td>C0733873</td>\n",
       "      <td>astad 7093</td>\n",
       "    </tr>\n",
       "    <tr>\n",
       "      <th>8</th>\n",
       "      <td>C0000294</td>\n",
       "      <td>mesna</td>\n",
       "      <td>C0733874</td>\n",
       "      <td>mistabron</td>\n",
       "    </tr>\n",
       "    <tr>\n",
       "      <th>9</th>\n",
       "      <td>C0000294</td>\n",
       "      <td>mesna</td>\n",
       "      <td>C0733874</td>\n",
       "      <td>mistabronco</td>\n",
       "    </tr>\n",
       "  </tbody>\n",
       "</table>\n",
       "</div>"
      ],
      "text/plain": [
       "       cui1 cui1_str      cui2     cui2_str\n",
       "0  C0000294    mesna  C0000294        mesna\n",
       "1  C0000294    mesna  C0206008   coenzima m\n",
       "2  C0000294    mesna  C0206008    coenzym m\n",
       "3  C0000294    mesna  C0206008   coenzyme m\n",
       "4  C0000294    mesna  C0206008  reduced com\n",
       "5  C0000294    mesna  C0678115   uromitexan\n",
       "6  C0000294    mesna  C0721681       mesnex\n",
       "7  C0000294    mesna  C0733873   astad 7093\n",
       "8  C0000294    mesna  C0733874    mistabron\n",
       "9  C0000294    mesna  C0733874  mistabronco"
      ]
     },
     "execution_count": 9,
     "metadata": {},
     "output_type": "execute_result"
    }
   ],
   "source": [
    "drugs.head(10)"
   ]
  },
  {
   "cell_type": "markdown",
   "metadata": {},
   "source": [
    "## cui1 와 cui2 string을 비교하기 = 연습으로"
   ]
  },
  {
   "cell_type": "markdown",
   "metadata": {},
   "source": [
    "## token_set_ratio"
   ]
  },
  {
   "cell_type": "code",
   "execution_count": null,
   "metadata": {},
   "outputs": [],
   "source": [
    "drugs['fuzzy_perc'] = drugs.apply(lambda x: \\\n",
    "                                  fuzz.token_set_ratio(x['cui1_str'], x['cui2_str']),\\\n",
    "                                axis=1)"
   ]
  },
  {
   "cell_type": "code",
   "execution_count": null,
   "metadata": {},
   "outputs": [],
   "source": [
    "drugs.head()"
   ]
  },
  {
   "cell_type": "code",
   "execution_count": null,
   "metadata": {},
   "outputs": [],
   "source": [
    "# 아예 같은 약물이 아닌, 일부 스펠링이 다른 경우 어느 정도의 약물을 같은 약물로 판단할 수 있을 것인가\n",
    "drugs[(drugs.fuzzy_perc>70) & (drugs.fuzzy_perc<100)][:10]"
   ]
  },
  {
   "cell_type": "code",
   "execution_count": null,
   "metadata": {},
   "outputs": [],
   "source": [
    "drugs[(drugs.fuzzy_perc<50)][:10]"
   ]
  },
  {
   "cell_type": "code",
   "execution_count": null,
   "metadata": {},
   "outputs": [],
   "source": [
    "# sample table -> sentence file\n",
    "sents = []\n",
    "with open('./new_sample_data_m.txt', 'r') as file:\n",
    "    for line in file.readlines():\n",
    "        if(line.find('***')<0):\n",
    "            sents.append(line.strip('\\n'))"
   ]
  },
  {
   "cell_type": "code",
   "execution_count": null,
   "metadata": {},
   "outputs": [],
   "source": [
    "sents[:10]"
   ]
  },
  {
   "cell_type": "code",
   "execution_count": null,
   "metadata": {},
   "outputs": [],
   "source": [
    "similarity_gtl_80 = []\n",
    "for d in drugs.cui1_str.unique():\n",
    "    for sen in sents:\n",
    "        fuzz_ratio = fuzz.token_set_ratio(d, sen)\n",
    "        if fuzz_ratio >= 80:\n",
    "            similarity_gtl_80.append({'drug':d, 'sen':sen, 'ratio':fuzz_ratio})"
   ]
  },
  {
   "cell_type": "code",
   "execution_count": null,
   "metadata": {},
   "outputs": [],
   "source": [
    "df_sim_gtl_80 = pd.DataFrame(similarity_gtl_80)"
   ]
  },
  {
   "cell_type": "code",
   "execution_count": null,
   "metadata": {},
   "outputs": [],
   "source": [
    "df_sim_gtl_80.shape"
   ]
  },
  {
   "cell_type": "code",
   "execution_count": null,
   "metadata": {},
   "outputs": [],
   "source": [
    "df_sim_gtl_80.head()"
   ]
  },
  {
   "cell_type": "code",
   "execution_count": null,
   "metadata": {},
   "outputs": [],
   "source": [
    "pd.set_option('display.max_colwidth', -1)\n",
    "df_sim_gtl_80[df_sim_gtl_80.ratio<100]"
   ]
  },
  {
   "cell_type": "code",
   "execution_count": null,
   "metadata": {},
   "outputs": [],
   "source": [
    "drugs.loc[(drugs.cui1_str=='zinc acetate') | (drugs.cui2_str=='zinc acetate')]"
   ]
  },
  {
   "cell_type": "code",
   "execution_count": null,
   "metadata": {},
   "outputs": [],
   "source": [
    "drugs.loc[(drugs.cui1_str=='abiraterone acetate') | (drugs.cui2_str=='abiraterone acetate')]"
   ]
  },
  {
   "cell_type": "code",
   "execution_count": null,
   "metadata": {},
   "outputs": [],
   "source": [
    "drugs.loc[(drugs.cui1_str.str.find('sipul')>=0) | (drugs.cui2_str.str.find('sipul')>=0)]"
   ]
  },
  {
   "cell_type": "markdown",
   "metadata": {},
   "source": [
    "## extract"
   ]
  },
  {
   "cell_type": "code",
   "execution_count": null,
   "metadata": {},
   "outputs": [],
   "source": [
    "from fuzzywuzzy import process"
   ]
  },
  {
   "cell_type": "code",
   "execution_count": null,
   "metadata": {},
   "outputs": [],
   "source": [
    "choices = ['I love computer science', 'COMPUTER SCIENCE', 'computer programming', 'programming IT']\n",
    "process.extract('computer science', choices, limit=3, scorer=fuzz.token_set_ratio)"
   ]
  },
  {
   "cell_type": "code",
   "execution_count": null,
   "metadata": {},
   "outputs": [],
   "source": [
    "similarity_gtl_80_extract = []\n",
    "for d in drugs.cui1_str.unique():\n",
    "    sens = process.extract(d, sents, limit=3, scorer=fuzz.token_set_ratio)\n",
    "    if len(sens) >=0 :\n",
    "        similarity_gtl_80_extract.append({d:sens})"
   ]
  },
  {
   "cell_type": "code",
   "execution_count": null,
   "metadata": {},
   "outputs": [],
   "source": [
    "pairs = []\n",
    "for pair in similarity_gtl_80_extract:\n",
    "    d = list(pair.keys())[0]\n",
    "    above_80 = list(map(lambda x: {'drug':d, 'sen':x[0], 'perc':x[1]}, filter(lambda x: x[1] > 80, pair[d])))\n",
    "    if len(above_80)>0:\n",
    "        pairs.extend(above_80)"
   ]
  },
  {
   "cell_type": "code",
   "execution_count": null,
   "metadata": {},
   "outputs": [],
   "source": [
    "pd.DataFrame(pairs).head()"
   ]
  },
  {
   "cell_type": "code",
   "execution_count": null,
   "metadata": {},
   "outputs": [],
   "source": []
  },
  {
   "cell_type": "code",
   "execution_count": 10,
   "metadata": {},
   "outputs": [],
   "source": [
    "tables_count = 6000\n",
    "retrieve_strip_html = \"\"\"select strip_tags(content) as c, table_title, id \n",
    "                        from research.article_tables \n",
    "                        order by id\n",
    "                        limit 1000 offset %s\"\"\""
   ]
  },
  {
   "cell_type": "code",
   "execution_count": 11,
   "metadata": {},
   "outputs": [
    {
     "name": "stdout",
     "output_type": "stream",
     "text": [
      "Pixiedust database opened successfully\n"
     ]
    },
    {
     "data": {
      "text/html": [
       "\n",
       "        <div style=\"margin:10px\">\n",
       "            <a href=\"https://github.com/ibm-watson-data-lab/pixiedust\" target=\"_new\">\n",
       "                <img src=\"https://github.com/ibm-watson-data-lab/pixiedust/raw/master/docs/_static/pd_icon32.png\" style=\"float:left;margin-right:10px\"/>\n",
       "            </a>\n",
       "            <span>Pixiedust version 1.1.11</span>\n",
       "        </div>\n",
       "        "
      ],
      "text/plain": [
       "<IPython.core.display.HTML object>"
      ]
     },
     "metadata": {},
     "output_type": "display_data"
    },
    {
     "data": {
      "text/html": [
       "<div>Warning: You are not running the latest version of PixieDust. Current is 1.1.11, Latest is 1.1.14</div>"
      ],
      "text/plain": [
       "<IPython.core.display.HTML object>"
      ]
     },
     "metadata": {},
     "output_type": "display_data"
    },
    {
     "data": {
      "text/html": [
       "\n",
       "                <div>Please copy and run the following command in a new cell to upgrade: <span style=\"background-color:#ececec;font-family:monospace;padding:0 5px\">!pip install --user --upgrade pixiedust</span></div>\n",
       "            "
      ],
      "text/plain": [
       "<IPython.core.display.HTML object>"
      ]
     },
     "metadata": {},
     "output_type": "display_data"
    },
    {
     "data": {
      "text/html": [
       "<div>Please restart kernel after upgrading.</div>"
      ],
      "text/plain": [
       "<IPython.core.display.HTML object>"
      ]
     },
     "metadata": {},
     "output_type": "display_data"
    }
   ],
   "source": [
    "import pixiedust"
   ]
  },
  {
   "cell_type": "code",
   "execution_count": null,
   "metadata": {
    "pixiedust": {
     "displayParams": {}
    }
   },
   "outputs": [],
   "source": [
    "#  %%pixie_debugger\n",
    "\n",
    "possible_drugs = []\n",
    "for c in range(70):\n",
    "    print(c*1000)\n",
    "    print(retrieve_strip_html % (c*1000))\n",
    "    cursor.execute(retrieve_strip_html % (c*1000))\n",
    "    result = list(cursor.fetchall())\n",
    "\n",
    "    for d in drugs.cui1_str.unique():#['sipuleucel-t']:#\n",
    "    #     cursor.execute(check_query % (\"'%\"+d[:-cut_len]+\"%'\", \"'%\"+d+\"%'\"))\n",
    "        fuzz_r = 0\n",
    "        for r in result:\n",
    "            rc = r['c'].replace('\\n', ' ')\n",
    "            fuzz_r = fuzz.partial_token_set_ratio(d, rc)\n",
    "            if fuzz_r >= 80 and fuzz_r<100:\n",
    "                print(d, r['table_title'])\n",
    "                words = list(filter(lambda x:x.strip() and len(x.strip())>5, rc.split(' ')))\n",
    "                best_words = process.extractBests(d, words, limit=2, scorer=fuzz.token_set_ratio)\n",
    "                p_drugs = list(filter(lambda x: x[1]>=70, best_words))\n",
    "                print('\\t' + str(p_drugs))\n",
    "                possible_drugs.extend(list(map(lambda x:{'drug':d, 'p_drug':x[0], 'id':r['id'], 'ratio':x[1]}, p_drugs)))"
   ]
  },
  {
   "cell_type": "code",
   "execution_count": null,
   "metadata": {},
   "outputs": [],
   "source": []
  }
 ],
 "metadata": {
  "kernelspec": {
   "display_name": "Python 3",
   "language": "python",
   "name": "python3"
  },
  "language_info": {
   "codemirror_mode": {
    "name": "ipython",
    "version": 3
   },
   "file_extension": ".py",
   "mimetype": "text/x-python",
   "name": "python",
   "nbconvert_exporter": "python",
   "pygments_lexer": "ipython3",
   "version": "3.6.4"
  }
 },
 "nbformat": 4,
 "nbformat_minor": 2
}
