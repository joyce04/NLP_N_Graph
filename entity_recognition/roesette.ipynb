{
 "cells": [
  {
   "cell_type": "code",
   "execution_count": 1,
   "metadata": {},
   "outputs": [],
   "source": [
    "from rosette.api import API"
   ]
  },
  {
   "cell_type": "code",
   "execution_count": 3,
   "metadata": {},
   "outputs": [
    {
     "name": "stdout",
     "output_type": "stream",
     "text": [
      "/ping:  {'message': 'Rosette API at your service', 'time': 1536292340622, 'responseHeaders': {'Content-Type': 'application/json', 'Date': 'Fri, 07 Sep 2018 03:52:20 GMT', 'Server': 'openresty', 'Strict-Transport-Security': 'max-age=63072000; includeSubDomains; preload', 'X-RosetteAPI-App-Id': '1409617920336', 'X-RosetteAPI-Concurrency': '2', 'X-RosetteAPI-Request-Id': '44f78e63e60c3804dc6ea44fbcff78a4', 'Content-Length': '62', 'Connection': 'keep-alive'}}\n"
     ]
    }
   ],
   "source": [
    "api = API(user_key=\"86ba3d85f24b12c4db6e8e80d3e31045\")\n",
    "result = api.ping()\n",
    "print(\"/ping: \", result)"
   ]
  },
  {
   "cell_type": "code",
   "execution_count": 6,
   "metadata": {},
   "outputs": [],
   "source": [
    "key='86ba3d85f24b12c4db6e8e80d3e31045'"
   ]
  },
  {
   "cell_type": "code",
   "execution_count": 5,
   "metadata": {},
   "outputs": [],
   "source": [
    "import argparse\n",
    "import json\n",
    "import os\n",
    "\n",
    "from rosette.api import API, DocumentParameters, RosetteException"
   ]
  },
  {
   "cell_type": "code",
   "execution_count": 9,
   "metadata": {},
   "outputs": [
    {
     "name": "stdout",
     "output_type": "stream",
     "text": [
      "b'{\\n  \"relationships\": [],\\n  \"responseHeaders\": {\\n    \"Connection\": \"keep-alive\",\\n    \"Content-Length\": \"20\",\\n    \"Content-Type\": \"application/json\",\\n    \"Date\": \"Fri, 07 Sep 2018 03:58:05 GMT\",\\n    \"Server\": \"openresty\",\\n    \"Strict-Transport-Security\": \"max-age=63072000; includeSubDomains; preload\",\\n    \"X-RosetteAPI-App-Id\": \"1409617920336\",\\n    \"X-RosetteAPI-Concurrency\": \"2\",\\n    \"X-RosetteAPI-ProcessedLanguage\": \"eng\",\\n    \"X-RosetteAPI-Request-Id\": \"5d97042bfc2feaa58b4466046fb62870\",\\n    \"X-RosetteAPI-Stats-RequestRelaxAccuracyMode\": \"precision\"\\n  }\\n}'\n"
     ]
    }
   ],
   "source": [
    "def run(key, alt_url='https://api.rosette.com/rest/v1/'):\n",
    "    \"\"\" Run the example \"\"\"\n",
    "    # Create an API instance\n",
    "    api = API(user_key=key, service_url=alt_url)\n",
    "    relationships_text_data = \" Table 2  Subjects With Drug-Related Treatment-Emergent Adverse Events in the Safety Population ⁎          Adverse Event Prasugrel (n = 29) Clopidogrel (n = 27)     Ecchymosis 0 1   Increased tendency to bruise 2 0   Epistaxis 2 0   Diarrhea 1 1   Diabetes mellitus 0 1   Insomnia 0 1     ⁎ Subjects may have experienced 1 or more event.\"\n",
    "    params = DocumentParameters()\n",
    "    params[\"content\"] = relationships_text_data\n",
    "    api.set_option('accuracyMode', 'PRECISION')\n",
    "    try:\n",
    "        return api.relationships(params)\n",
    "    except RosetteException as exception:\n",
    "        print(exception)\n",
    "\n",
    "\n",
    "# PARSER = argparse.ArgumentParser(formatter_class=argparse.ArgumentDefaultsHelpFormatter,\n",
    "#                                  description='Calls the ' +\n",
    "#                                  os.path.splitext(os.path.basename(__file__))[0] + ' endpoint')\n",
    "# PARSER.add_argument('-k', '--key', help='Rosette API Key', required=True)\n",
    "# PARSER.add_argument('-u', '--url', help=\"Alternative API URL\",\n",
    "#                     default='https://api.rosette.com/rest/v1/')\n",
    "\n",
    "RESULT = run(key)\n",
    "print(json.dumps(RESULT, indent=2, ensure_ascii=False, sort_keys=True).encode(\"utf8\"))\n"
   ]
  },
  {
   "cell_type": "code",
   "execution_count": null,
   "metadata": {},
   "outputs": [],
   "source": []
  }
 ],
 "metadata": {
  "kernelspec": {
   "display_name": "Python 3",
   "language": "python",
   "name": "python3"
  },
  "language_info": {
   "codemirror_mode": {
    "name": "ipython",
    "version": 3
   },
   "file_extension": ".py",
   "mimetype": "text/x-python",
   "name": "python",
   "nbconvert_exporter": "python",
   "pygments_lexer": "ipython3",
   "version": "3.6.4"
  }
 },
 "nbformat": 4,
 "nbformat_minor": 2
}
