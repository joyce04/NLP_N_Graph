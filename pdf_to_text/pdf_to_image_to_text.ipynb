{
 "cells": [
  {
   "cell_type": "code",
   "execution_count": 5,
   "metadata": {},
   "outputs": [],
   "source": [
    "# !pip install pdf2image --user"
   ]
  },
  {
   "cell_type": "code",
   "execution_count": 17,
   "metadata": {},
   "outputs": [],
   "source": [
    "from PIL import Image \n",
    "import pytesseract \n",
    "import sys \n",
    "from pdf2image import convert_from_path \n",
    "import os "
   ]
  },
  {
   "cell_type": "markdown",
   "metadata": {},
   "source": [
    "## Part #1 : Converting PDF to images "
   ]
  },
  {
   "cell_type": "code",
   "execution_count": 18,
   "metadata": {},
   "outputs": [],
   "source": [
    "# Path of the pdf \n",
    "# PDF_file = os.path.abspath(\"/home/grace/Documents/BioAI/1_Risk Benefit Assessment/RBstyle2-1.pdf\")\n",
    "PDF_file = os.path.abspath(\"/home/grace/Documents/BioAI/content/table_content.pdf\")\n",
    "  \n",
    "pages = convert_from_path(PDF_file, 400) \n",
    "  \n",
    "image_counter = 1\n",
    "for page in pages: \n",
    "  \n",
    "    filename = \"page_\"+str(image_counter)+\".jpg\"\n",
    "    page.save(filename, 'JPEG') \n",
    "    image_counter = image_counter + 1"
   ]
  },
  {
   "cell_type": "markdown",
   "metadata": {},
   "source": [
    "### Part #2 - Recognizing text from the images using OCR "
   ]
  },
  {
   "cell_type": "code",
   "execution_count": 19,
   "metadata": {},
   "outputs": [],
   "source": [
    "outfile = \"out_text2.txt\"\n",
    "  \n",
    "# Open the file in append mode\n",
    "f = open(outfile, \"a\")\n",
    "\n",
    "for i in range(1, image_counter): \n",
    "  \n",
    "    filename = \"page_\"+str(i)+\".jpg\"\n",
    "          \n",
    "    # pytesserct \n",
    "    text = str(((pytesseract.image_to_string(Image.open(filename))))) \n",
    "  \n",
    "    # In many PDFs, a 'hyphen' is added at line ending, if a word can't be written fully, . \n",
    "    text = text.replace('-\\n', '')     \n",
    "  \n",
    "    f.write(text) \n",
    "f.close() "
   ]
  },
  {
   "cell_type": "code",
   "execution_count": null,
   "metadata": {},
   "outputs": [],
   "source": []
  }
 ],
 "metadata": {
  "kernelspec": {
   "display_name": "Python 3",
   "language": "python",
   "name": "python3"
  },
  "language_info": {
   "codemirror_mode": {
    "name": "ipython",
    "version": 3
   },
   "file_extension": ".py",
   "mimetype": "text/x-python",
   "name": "python",
   "nbconvert_exporter": "python",
   "pygments_lexer": "ipython3",
   "version": "3.5.2"
  }
 },
 "nbformat": 4,
 "nbformat_minor": 2
}
