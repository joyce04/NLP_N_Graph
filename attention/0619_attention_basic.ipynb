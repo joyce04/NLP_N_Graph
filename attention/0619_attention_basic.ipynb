{
 "cells": [
  {
   "cell_type": "markdown",
   "metadata": {},
   "source": [
    "Ref\n",
    "- https://github.com/philipperemy/keras-attention-mechanism"
   ]
  },
  {
   "cell_type": "code",
   "execution_count": 1,
   "metadata": {},
   "outputs": [],
   "source": [
    "# can attention model figure out dependent variable\n",
    "# ex) v = vector with 32 values\n",
    "# v[1] == target & all other values are randomly chosen\n",
    "# can the model understand the importance of v[1]?"
   ]
  },
  {
   "cell_type": "code",
   "execution_count": 2,
   "metadata": {},
   "outputs": [
    {
     "name": "stderr",
     "output_type": "stream",
     "text": [
      "Using TensorFlow backend.\n"
     ]
    }
   ],
   "source": [
    "import numpy as np\n",
    "from keras import backend as K\n",
    "from keras.models import *\n",
    "from keras.layers import Input, Dense, multiply\n",
    "from keras.layers.recurrent import LSTM\n",
    "from keras.layers.core import *\n",
    "import matplotlib.pyplot as plt\n",
    "import pandas as pd"
   ]
  },
  {
   "cell_type": "code",
   "execution_count": 3,
   "metadata": {},
   "outputs": [],
   "source": [
    "data_c = 10000\n",
    "input_dims = 32\n",
    "attention_column = 7"
   ]
  },
  {
   "cell_type": "code",
   "execution_count": 4,
   "metadata": {},
   "outputs": [],
   "source": [
    "def get_activations(model, inputs, print_shape_only=False, layer_name=None):\n",
    "    activations = []\n",
    "#     inp =  model.input\n",
    "    if layer_name is None:\n",
    "        outputs = [layer.output for layer in model.layers]\n",
    "    else:\n",
    "        outputs = [layer.output for layer in model.layers if layer.name==layer_name]\n",
    "    \n",
    "    funcs = [K.function([model.input] + [K.learning_phase()], [out]) for out in outputs]\n",
    "    layer_outputs = [func([inputs, 1.])[0] for func in funcs]\n",
    "    for layer_activations in layer_outputs:\n",
    "        activations.append(layer_activations)\n",
    "        if print_shape_only:\n",
    "            print(layer_activations.shape)\n",
    "        else:\n",
    "            print(layer_activations)\n",
    "        return activations"
   ]
  },
  {
   "cell_type": "code",
   "execution_count": 5,
   "metadata": {},
   "outputs": [],
   "source": [
    "def generate_date(batch_size, input_size, attention_index):\n",
    "    train_x = np.random.standard_normal(size=(batch_size, input_size))\n",
    "    train_y = np.random.randint(low=0, high=2, size=(batch_size, 1))\n",
    "    train_x[:, attention_index] = train_y[:, 0]\n",
    "    return (train_x, train_y)\n",
    "\n",
    "train_x, train_y = generate_date(data_c, input_dims, attention_column)\n",
    "test_x, test_y = generate_date(1, input_dims, attention_column)"
   ]
  },
  {
   "cell_type": "markdown",
   "metadata": {},
   "source": [
    "### Dense- Attention"
   ]
  },
  {
   "cell_type": "code",
   "execution_count": 6,
   "metadata": {},
   "outputs": [],
   "source": [
    "def build_model():\n",
    "    # input layer\n",
    "    input_layer = Input(shape=(input_dims,))\n",
    "    \n",
    "    # attention layer\n",
    "    attention_prob = Dense(input_dims, activation='softmax', name='attention_vec')(input_layer)\n",
    "    attention_mul = multiply([input_layer, attention_prob])\n",
    "    \n",
    "    # fully connected layer\n",
    "    y = Dense(64)(attention_mul)\n",
    "    y = Dense(1, activation='sigmoid')(y)\n",
    "    \n",
    "    model = Model(input_layer, y)\n",
    "    return model"
   ]
  },
  {
   "cell_type": "code",
   "execution_count": 7,
   "metadata": {},
   "outputs": [
    {
     "name": "stdout",
     "output_type": "stream",
     "text": [
      "WARNING:tensorflow:From /home/madigun/.pyenv/versions/3.6.7/envs/grace_jupyter/lib/python3.6/site-packages/tensorflow/python/framework/op_def_library.py:263: colocate_with (from tensorflow.python.framework.ops) is deprecated and will be removed in a future version.\n",
      "Instructions for updating:\n",
      "Colocations handled automatically by placer.\n"
     ]
    }
   ],
   "source": [
    "model = build_model()\n",
    "model.compile(optimizer='adam', loss='binary_crossentropy', metrics=['accuracy'])"
   ]
  },
  {
   "cell_type": "code",
   "execution_count": 8,
   "metadata": {},
   "outputs": [
    {
     "name": "stdout",
     "output_type": "stream",
     "text": [
      "__________________________________________________________________________________________________\n",
      "Layer (type)                    Output Shape         Param #     Connected to                     \n",
      "==================================================================================================\n",
      "input_1 (InputLayer)            (None, 32)           0                                            \n",
      "__________________________________________________________________________________________________\n",
      "attention_vec (Dense)           (None, 32)           1056        input_1[0][0]                    \n",
      "__________________________________________________________________________________________________\n",
      "multiply_1 (Multiply)           (None, 32)           0           input_1[0][0]                    \n",
      "                                                                 attention_vec[0][0]              \n",
      "__________________________________________________________________________________________________\n",
      "dense_1 (Dense)                 (None, 64)           2112        multiply_1[0][0]                 \n",
      "__________________________________________________________________________________________________\n",
      "dense_2 (Dense)                 (None, 1)            65          dense_1[0][0]                    \n",
      "==================================================================================================\n",
      "Total params: 3,233\n",
      "Trainable params: 3,233\n",
      "Non-trainable params: 0\n",
      "__________________________________________________________________________________________________\n"
     ]
    }
   ],
   "source": [
    "model.summary()"
   ]
  },
  {
   "cell_type": "code",
   "execution_count": 9,
   "metadata": {},
   "outputs": [
    {
     "name": "stdout",
     "output_type": "stream",
     "text": [
      "WARNING:tensorflow:From /home/madigun/.pyenv/versions/3.6.7/envs/grace_jupyter/lib/python3.6/site-packages/tensorflow/python/ops/math_ops.py:3066: to_int32 (from tensorflow.python.ops.math_ops) is deprecated and will be removed in a future version.\n",
      "Instructions for updating:\n",
      "Use tf.cast instead.\n",
      "Train on 8000 samples, validate on 2000 samples\n",
      "Epoch 1/10\n",
      " - 0s - loss: 0.6680 - acc: 0.6839 - val_loss: 0.6252 - val_acc: 0.7510\n",
      "Epoch 2/10\n",
      " - 0s - loss: 0.5514 - acc: 0.7805 - val_loss: 0.4711 - val_acc: 0.8015\n",
      "Epoch 3/10\n",
      " - 0s - loss: 0.3825 - acc: 0.8449 - val_loss: 0.3083 - val_acc: 0.8760\n",
      "Epoch 4/10\n",
      " - 0s - loss: 0.2046 - acc: 0.9336 - val_loss: 0.1283 - val_acc: 0.9725\n",
      "Epoch 5/10\n",
      " - 0s - loss: 0.0602 - acc: 0.9938 - val_loss: 0.0279 - val_acc: 0.9980\n",
      "Epoch 6/10\n",
      " - 0s - loss: 0.0125 - acc: 1.0000 - val_loss: 0.0075 - val_acc: 1.0000\n",
      "Epoch 7/10\n",
      " - 0s - loss: 0.0043 - acc: 1.0000 - val_loss: 0.0034 - val_acc: 1.0000\n",
      "Epoch 8/10\n",
      " - 0s - loss: 0.0022 - acc: 1.0000 - val_loss: 0.0020 - val_acc: 1.0000\n",
      "Epoch 9/10\n",
      " - 0s - loss: 0.0014 - acc: 1.0000 - val_loss: 0.0013 - val_acc: 1.0000\n",
      "Epoch 10/10\n",
      " - 0s - loss: 9.5682e-04 - acc: 1.0000 - val_loss: 9.5755e-04 - val_acc: 1.0000\n"
     ]
    },
    {
     "data": {
      "text/plain": [
       "<keras.callbacks.History at 0x7fe0a5731780>"
      ]
     },
     "execution_count": 9,
     "metadata": {},
     "output_type": "execute_result"
    }
   ],
   "source": [
    "model.fit(train_x, train_y, epochs=10, batch_size=64, validation_split=0.2, verbose=2)"
   ]
  },
  {
   "cell_type": "code",
   "execution_count": 10,
   "metadata": {},
   "outputs": [],
   "source": [
    "result = model.evaluate(test_x, test_y, batch_size=64, verbose=0)"
   ]
  },
  {
   "cell_type": "code",
   "execution_count": 11,
   "metadata": {},
   "outputs": [
    {
     "data": {
      "text/plain": [
       "0.00041113165207207203"
      ]
     },
     "execution_count": 11,
     "metadata": {},
     "output_type": "execute_result"
    }
   ],
   "source": [
    "# loss\n",
    "result[0]"
   ]
  },
  {
   "cell_type": "code",
   "execution_count": 12,
   "metadata": {},
   "outputs": [
    {
     "data": {
      "text/plain": [
       "1.0"
      ]
     },
     "execution_count": 12,
     "metadata": {},
     "output_type": "execute_result"
    }
   ],
   "source": [
    "# accuracy\n",
    "result[1]"
   ]
  },
  {
   "cell_type": "code",
   "execution_count": 13,
   "metadata": {},
   "outputs": [
    {
     "data": {
      "text/plain": [
       "[<keras.engine.input_layer.InputLayer at 0x7fe0a57316d8>,\n",
       " <keras.layers.core.Dense at 0x7fe0a547d550>,\n",
       " <keras.layers.merge.Multiply at 0x7fe0a547d5c0>,\n",
       " <keras.layers.core.Dense at 0x7fe0a547d5f8>,\n",
       " <keras.layers.core.Dense at 0x7fe0a54a3be0>]"
      ]
     },
     "execution_count": 13,
     "metadata": {},
     "output_type": "execute_result"
    }
   ],
   "source": [
    "# get attention vector\n",
    "model.layers"
   ]
  },
  {
   "cell_type": "code",
   "execution_count": 14,
   "metadata": {},
   "outputs": [
    {
     "name": "stdout",
     "output_type": "stream",
     "text": [
      "(1, 32)\n"
     ]
    }
   ],
   "source": [
    "attention_vector = get_activations(model, test_x, print_shape_only=True, layer_name='attention_vec')[0].flatten()"
   ]
  },
  {
   "cell_type": "code",
   "execution_count": 15,
   "metadata": {},
   "outputs": [
    {
     "data": {
      "text/plain": [
       "array([0.02289751, 0.02096518, 0.01442362, 0.02884816, 0.0441886 ,\n",
       "       0.03433975, 0.0292863 , 0.19075838, 0.01404408, 0.01838223,\n",
       "       0.02153056, 0.03378483, 0.02276736, 0.03660168, 0.01472947,\n",
       "       0.03497808, 0.02677642, 0.02260434, 0.01876842, 0.02274726,\n",
       "       0.01601109, 0.02707124, 0.03869854, 0.02701417, 0.04836982,\n",
       "       0.04623525, 0.02058522, 0.02393275, 0.02748605, 0.00848371,\n",
       "       0.02176566, 0.02092426], dtype=float32)"
      ]
     },
     "execution_count": 15,
     "metadata": {},
     "output_type": "execute_result"
    }
   ],
   "source": [
    "attention_vector"
   ]
  },
  {
   "cell_type": "code",
   "execution_count": 16,
   "metadata": {},
   "outputs": [
    {
     "data": {
      "text/plain": [
       "<matplotlib.axes._subplots.AxesSubplot at 0x7fe0a4446588>"
      ]
     },
     "execution_count": 16,
     "metadata": {},
     "output_type": "execute_result"
    },
    {
     "data": {
      "image/png": "[encoded data removed]",
      "text/plain": [
       "<Figure size 720x432 with 1 Axes>"
      ]
     },
     "metadata": {
      "needs_background": "light"
     },
     "output_type": "display_data"
    }
   ],
   "source": [
    "pd.DataFrame(attention_vector, columns=['attention (%)']).plot(figsize=(10, 6), kind='bar', title='attention vector')\n",
    "# plt.show()"
   ]
  },
  {
   "cell_type": "markdown",
   "metadata": {},
   "source": [
    "### LSTM - Attention"
   ]
  },
  {
   "cell_type": "code",
   "execution_count": 17,
   "metadata": {},
   "outputs": [],
   "source": [
    "data_c = 300000\n",
    "input_dims = 2\n",
    "time_steps = 20\n",
    "# true = attention vector is shared across the input_dimensions\n",
    "SINGEL_ATTENTION_VECTOR = False\n",
    "\n",
    "APPLY_ATTENTION_BEFORE_LSTM = False"
   ]
  },
  {
   "cell_type": "code",
   "execution_count": 18,
   "metadata": {},
   "outputs": [],
   "source": [
    "def generate_recurrent_data(batch_size, time_steps, input_dims, attention_columns=10):\n",
    "    train_x = np.random.standard_normal(size=(batch_size, time_steps, input_dims))\n",
    "    train_y = np.random.randint(low=0, high=2, size=(batch_size, 1))\n",
    "    train_x[:, attention_column, :] = np.tile(train_y[:], (1, input_dims))\n",
    "    return train_x, train_y\n",
    "\n",
    "train_rx, train_ry = generate_recurrent_data(data_c, time_steps, input_dims)"
   ]
  },
  {
   "cell_type": "code",
   "execution_count": 20,
   "metadata": {},
   "outputs": [],
   "source": [
    "def attention_3d_block(time_steps, input_layer, single_attention_vector):\n",
    "    input_dim = int(input_layer.shape[2])\n",
    "    a = Permute((2, 1))(input_layer)\n",
    "    a = Reshape((input_dim, time_steps))(a)\n",
    "    a = Dense(time_steps, activation='softmax')(a)\n",
    "    if single_attention_vector:\n",
    "        a = Lambda(lambda x: K.mean(x, axis=1), name='dim_reduction')(a)\n",
    "        a = RepeatVector(input_dim)(a)\n",
    "    \n",
    "#     a_probs = Permute((2, 1), name='attention_vec')(a)\n",
    "    a_probs = Permute((2, 1))(a)\n",
    "    output_attention_mul = multiply([input_layer, a_probs], name='attention_vec')\n",
    "    return output_attention_mul\n",
    "    \n",
    "#     https://github.com/philipperemy/keras-attention-mechanism/blob/master/attention_lstm.py"
   ]
  },
  {
   "cell_type": "code",
   "execution_count": 21,
   "metadata": {},
   "outputs": [],
   "source": [
    "def model_atten_before_lstm(time_steps, input_dims):\n",
    "    input_layer = Input(shape=(time_steps, input_dims))\n",
    "    attention_mul = attention_3d_block(time_steps, input_layer, SINGEL_ATTENTION_VECTOR)\n",
    "    lstm_units = 32\n",
    "    attention_mul = LSTM(lstm_units, return_sequences=True)(input_layer)\n",
    "    output = Dense(1, activation='sigmoid')(attention_mul)\n",
    "    model = Model(input=[input_layer], output=output)\n",
    "    return model\n",
    "\n",
    "def model_atten_after_lstm(time_steps, input_dims):\n",
    "    input_layer = Input(shape=(time_steps, input_dims, ))\n",
    "    lstm_units = 32\n",
    "    lstm_out = LSTM(lstm_units, return_sequences=True)(input_layer)\n",
    "    attention_mul = attention_3d_block(time_steps, lstm_out, SINGEL_ATTENTION_VECTOR)\n",
    "    attention_mul  = Flatten()(attention_mul)\n",
    "    output = Dense(1, activation='sigmoid')(attention_mul)\n",
    "    model = Model(input=[input_layer], output=output)\n",
    "    return model"
   ]
  },
  {
   "cell_type": "code",
   "execution_count": 22,
   "metadata": {},
   "outputs": [
    {
     "name": "stderr",
     "output_type": "stream",
     "text": [
      "/home/madigun/.pyenv/versions/3.6.7/envs/grace_jupyter/lib/python3.6/site-packages/ipykernel_launcher.py:17: UserWarning: Update your `Model` call to the Keras 2 API: `Model(inputs=[<tf.Tenso..., outputs=Tensor(\"de...)`\n"
     ]
    }
   ],
   "source": [
    "if APPLY_ATTENTION_BEFORE_LSTM:\n",
    "    model = model_atten_before_lstm(time_steps, input_dims)\n",
    "else:\n",
    "    model = model_atten_after_lstm(time_steps, input_dims)\n",
    "    \n",
    "model.compile(optimizer='adam', loss='binary_crossentropy', metrics=['accuracy'])"
   ]
  },
  {
   "cell_type": "code",
   "execution_count": 23,
   "metadata": {},
   "outputs": [
    {
     "name": "stdout",
     "output_type": "stream",
     "text": [
      "__________________________________________________________________________________________________\n",
      "Layer (type)                    Output Shape         Param #     Connected to                     \n",
      "==================================================================================================\n",
      "input_2 (InputLayer)            (None, 20, 2)        0                                            \n",
      "__________________________________________________________________________________________________\n",
      "lstm_1 (LSTM)                   (None, 20, 32)       4480        input_2[0][0]                    \n",
      "__________________________________________________________________________________________________\n",
      "permute_1 (Permute)             (None, 32, 20)       0           lstm_1[0][0]                     \n",
      "__________________________________________________________________________________________________\n",
      "reshape_1 (Reshape)             (None, 32, 20)       0           permute_1[0][0]                  \n",
      "__________________________________________________________________________________________________\n",
      "dense_3 (Dense)                 (None, 32, 20)       420         reshape_1[0][0]                  \n",
      "__________________________________________________________________________________________________\n",
      "permute_2 (Permute)             (None, 20, 32)       0           dense_3[0][0]                    \n",
      "__________________________________________________________________________________________________\n",
      "attention_vec (Multiply)        (None, 20, 32)       0           lstm_1[0][0]                     \n",
      "                                                                 permute_2[0][0]                  \n",
      "__________________________________________________________________________________________________\n",
      "flatten_1 (Flatten)             (None, 640)          0           attention_vec[0][0]              \n",
      "__________________________________________________________________________________________________\n",
      "dense_4 (Dense)                 (None, 1)            641         flatten_1[0][0]                  \n",
      "==================================================================================================\n",
      "Total params: 5,541\n",
      "Trainable params: 5,541\n",
      "Non-trainable params: 0\n",
      "__________________________________________________________________________________________________\n"
     ]
    }
   ],
   "source": [
    "model.summary()"
   ]
  },
  {
   "cell_type": "code",
   "execution_count": 24,
   "metadata": {},
   "outputs": [
    {
     "name": "stdout",
     "output_type": "stream",
     "text": [
      "(1, 20, 32)\n",
      "attention =  [-5.3656389e-05 -5.0731783e-04 -6.4736779e-04 -4.8052781e-04\n",
      " -3.2855410e-04 -1.3153530e-03 -1.2844584e-03 -1.9654939e-03\n",
      " -2.3176959e-03 -1.4952979e-03 -1.0755355e-03 -1.0644926e-04\n",
      " -2.4605691e-04 -5.3038355e-04 -1.2090511e-03 -3.6297046e-04\n",
      " -1.7500823e-04 -5.9797452e-04 -1.5760114e-04  5.3326320e-04]\n",
      "(1, 20, 32)\n",
      "(1, 20, 32)\n",
      "(1, 20, 32)\n",
      "(1, 20, 32)\n",
      "(1, 20, 32)\n",
      "(1, 20, 32)\n",
      "(1, 20, 32)\n",
      "(1, 20, 32)\n",
      "(1, 20, 32)\n",
      "(1, 20, 32)\n",
      "(1, 20, 32)\n",
      "(1, 20, 32)\n",
      "(1, 20, 32)\n",
      "(1, 20, 32)\n",
      "(1, 20, 32)\n",
      "(1, 20, 32)\n",
      "(1, 20, 32)\n",
      "(1, 20, 32)\n",
      "(1, 20, 32)\n",
      "(1, 20, 32)\n",
      "(1, 20, 32)\n",
      "(1, 20, 32)\n",
      "(1, 20, 32)\n",
      "(1, 20, 32)\n",
      "(1, 20, 32)\n",
      "(1, 20, 32)\n",
      "(1, 20, 32)\n",
      "(1, 20, 32)\n",
      "(1, 20, 32)\n",
      "(1, 20, 32)\n",
      "(1, 20, 32)\n",
      "(1, 20, 32)\n",
      "(1, 20, 32)\n",
      "(1, 20, 32)\n",
      "(1, 20, 32)\n",
      "(1, 20, 32)\n",
      "(1, 20, 32)\n",
      "(1, 20, 32)\n",
      "(1, 20, 32)\n",
      "(1, 20, 32)\n",
      "(1, 20, 32)\n",
      "(1, 20, 32)\n",
      "(1, 20, 32)\n",
      "(1, 20, 32)\n",
      "(1, 20, 32)\n",
      "(1, 20, 32)\n",
      "(1, 20, 32)\n",
      "(1, 20, 32)\n",
      "(1, 20, 32)\n",
      "(1, 20, 32)\n",
      "attention =  [-2.63487163e-05  9.47667053e-04 -3.95709561e-04 -1.23677382e-04\n",
      " -1.10845431e-03 -9.52433504e-04  2.20146321e-04 -5.48583223e-04\n",
      " -9.63680795e-04 -1.53359352e-03 -1.27802021e-03 -1.02347089e-03\n",
      " -9.63760132e-04 -5.69723896e-04 -1.13796654e-04 -4.70518455e-04\n",
      " -3.02526314e-04  7.18963915e-04 -4.44305653e-04 -2.79835367e-04]\n",
      "(1, 20, 32)\n",
      "(1, 20, 32)\n",
      "(1, 20, 32)\n",
      "(1, 20, 32)\n",
      "(1, 20, 32)\n",
      "(1, 20, 32)\n",
      "(1, 20, 32)\n",
      "(1, 20, 32)\n",
      "(1, 20, 32)\n",
      "(1, 20, 32)\n",
      "(1, 20, 32)\n",
      "(1, 20, 32)\n",
      "(1, 20, 32)\n",
      "(1, 20, 32)\n",
      "(1, 20, 32)\n",
      "(1, 20, 32)\n",
      "(1, 20, 32)\n",
      "(1, 20, 32)\n",
      "(1, 20, 32)\n",
      "(1, 20, 32)\n",
      "(1, 20, 32)\n",
      "(1, 20, 32)\n",
      "(1, 20, 32)\n",
      "(1, 20, 32)\n",
      "(1, 20, 32)\n",
      "(1, 20, 32)\n",
      "(1, 20, 32)\n",
      "(1, 20, 32)\n",
      "(1, 20, 32)\n",
      "(1, 20, 32)\n",
      "(1, 20, 32)\n",
      "(1, 20, 32)\n",
      "(1, 20, 32)\n",
      "(1, 20, 32)\n",
      "(1, 20, 32)\n",
      "(1, 20, 32)\n",
      "(1, 20, 32)\n",
      "(1, 20, 32)\n",
      "(1, 20, 32)\n",
      "(1, 20, 32)\n",
      "(1, 20, 32)\n",
      "(1, 20, 32)\n",
      "(1, 20, 32)\n",
      "(1, 20, 32)\n",
      "(1, 20, 32)\n",
      "(1, 20, 32)\n",
      "(1, 20, 32)\n",
      "(1, 20, 32)\n",
      "(1, 20, 32)\n",
      "(1, 20, 32)\n",
      "attention =  [ 4.7391307e-04  2.7206476e-04 -3.4453077e-04 -9.3387091e-05\n",
      " -6.3172000e-04 -1.0783910e-03 -5.0503778e-04 -1.2128516e-03\n",
      " -1.2253958e-03 -1.2265772e-03 -8.6211844e-04 -4.6296115e-04\n",
      " -7.6261297e-04 -8.7994116e-04 -9.5900125e-04 -5.2751933e-04\n",
      " -1.0904575e-03 -5.4627570e-04 -4.5699900e-04 -4.0045637e-04]\n",
      "(1, 20, 32)\n",
      "(1, 20, 32)\n",
      "(1, 20, 32)\n",
      "(1, 20, 32)\n",
      "(1, 20, 32)\n",
      "(1, 20, 32)\n",
      "(1, 20, 32)\n",
      "(1, 20, 32)\n",
      "(1, 20, 32)\n",
      "(1, 20, 32)\n",
      "(1, 20, 32)\n",
      "(1, 20, 32)\n",
      "(1, 20, 32)\n",
      "(1, 20, 32)\n",
      "(1, 20, 32)\n",
      "(1, 20, 32)\n",
      "(1, 20, 32)\n",
      "(1, 20, 32)\n",
      "(1, 20, 32)\n",
      "(1, 20, 32)\n",
      "(1, 20, 32)\n",
      "(1, 20, 32)\n",
      "(1, 20, 32)\n",
      "(1, 20, 32)\n",
      "(1, 20, 32)\n",
      "(1, 20, 32)\n",
      "(1, 20, 32)\n",
      "(1, 20, 32)\n",
      "(1, 20, 32)\n",
      "(1, 20, 32)\n",
      "(1, 20, 32)\n",
      "(1, 20, 32)\n",
      "(1, 20, 32)\n",
      "(1, 20, 32)\n",
      "(1, 20, 32)\n",
      "(1, 20, 32)\n",
      "(1, 20, 32)\n",
      "(1, 20, 32)\n",
      "(1, 20, 32)\n",
      "(1, 20, 32)\n",
      "(1, 20, 32)\n",
      "(1, 20, 32)\n",
      "(1, 20, 32)\n",
      "(1, 20, 32)\n",
      "(1, 20, 32)\n",
      "(1, 20, 32)\n",
      "(1, 20, 32)\n",
      "(1, 20, 32)\n",
      "(1, 20, 32)\n",
      "(1, 20, 32)\n",
      "attention =  [-2.0825592e-04 -7.5948972e-04  5.8106598e-05  3.6290163e-04\n",
      "  8.4541598e-04  1.2096527e-03  2.2394027e-04 -4.5400916e-04\n",
      " -1.5305719e-04  3.1092661e-04  9.5281564e-04  6.9157308e-04\n",
      "  2.7765502e-04  4.2516779e-04  1.0594643e-03  2.0086828e-03\n",
      "  1.6536027e-03  1.6739494e-03  1.1817783e-03  1.4383006e-03]\n",
      "(1, 20, 32)\n",
      "(1, 20, 32)\n",
      "(1, 20, 32)\n",
      "(1, 20, 32)\n",
      "(1, 20, 32)\n",
      "(1, 20, 32)\n",
      "(1, 20, 32)\n",
      "(1, 20, 32)\n",
      "(1, 20, 32)\n",
      "(1, 20, 32)\n",
      "(1, 20, 32)\n",
      "(1, 20, 32)\n",
      "(1, 20, 32)\n",
      "(1, 20, 32)\n",
      "(1, 20, 32)\n",
      "(1, 20, 32)\n",
      "(1, 20, 32)\n",
      "(1, 20, 32)\n",
      "(1, 20, 32)\n",
      "(1, 20, 32)\n",
      "(1, 20, 32)\n",
      "(1, 20, 32)\n",
      "(1, 20, 32)\n",
      "(1, 20, 32)\n",
      "(1, 20, 32)\n",
      "(1, 20, 32)\n",
      "(1, 20, 32)\n",
      "(1, 20, 32)\n",
      "(1, 20, 32)\n",
      "(1, 20, 32)\n",
      "(1, 20, 32)\n",
      "(1, 20, 32)\n",
      "(1, 20, 32)\n",
      "(1, 20, 32)\n",
      "(1, 20, 32)\n",
      "(1, 20, 32)\n",
      "(1, 20, 32)\n",
      "(1, 20, 32)\n",
      "(1, 20, 32)\n",
      "(1, 20, 32)\n",
      "(1, 20, 32)\n",
      "(1, 20, 32)\n",
      "(1, 20, 32)\n",
      "(1, 20, 32)\n",
      "(1, 20, 32)\n",
      "(1, 20, 32)\n",
      "(1, 20, 32)\n",
      "(1, 20, 32)\n",
      "(1, 20, 32)\n",
      "(1, 20, 32)\n",
      "attention =  [-8.6943246e-04 -4.5908923e-04  2.0730328e-04  4.0878236e-04\n",
      "  6.5197317e-05  1.7917354e-04  2.2698470e-04 -4.8110436e-04\n",
      " -4.2209792e-04 -3.3575823e-05 -5.1011104e-04 -3.7905140e-04\n",
      " -7.5611417e-05 -4.6261528e-04 -3.5864097e-04 -4.1926795e-04\n",
      " -2.6437572e-05  3.6563078e-04 -2.3861168e-05  2.0699570e-04]\n",
      "(1, 20, 32)\n",
      "(1, 20, 32)\n",
      "(1, 20, 32)\n",
      "(1, 20, 32)\n",
      "(1, 20, 32)\n",
      "(1, 20, 32)\n",
      "(1, 20, 32)\n",
      "(1, 20, 32)\n",
      "(1, 20, 32)\n",
      "(1, 20, 32)\n",
      "(1, 20, 32)\n",
      "(1, 20, 32)\n",
      "(1, 20, 32)\n",
      "(1, 20, 32)\n",
      "(1, 20, 32)\n",
      "(1, 20, 32)\n",
      "(1, 20, 32)\n",
      "(1, 20, 32)\n",
      "(1, 20, 32)\n",
      "(1, 20, 32)\n",
      "(1, 20, 32)\n",
      "(1, 20, 32)\n",
      "(1, 20, 32)\n",
      "(1, 20, 32)\n",
      "(1, 20, 32)\n",
      "(1, 20, 32)\n",
      "(1, 20, 32)\n",
      "(1, 20, 32)\n",
      "(1, 20, 32)\n",
      "(1, 20, 32)\n",
      "(1, 20, 32)\n",
      "(1, 20, 32)\n",
      "(1, 20, 32)\n",
      "(1, 20, 32)\n",
      "(1, 20, 32)\n",
      "(1, 20, 32)\n",
      "(1, 20, 32)\n",
      "(1, 20, 32)\n",
      "(1, 20, 32)\n",
      "(1, 20, 32)\n",
      "(1, 20, 32)\n",
      "(1, 20, 32)\n",
      "(1, 20, 32)\n",
      "(1, 20, 32)\n",
      "(1, 20, 32)\n",
      "(1, 20, 32)\n",
      "(1, 20, 32)\n",
      "(1, 20, 32)\n",
      "(1, 20, 32)\n",
      "(1, 20, 32)\n",
      "attention =  [ 2.6117035e-04  4.9564021e-04  2.0189327e-07 -4.1059041e-04\n",
      "  3.2267248e-04  1.6221516e-04  3.3801212e-04  2.4890562e-04\n",
      " -5.9938594e-04 -1.0977655e-03 -1.0507518e-03 -2.6273588e-04\n",
      "  3.3248280e-04  1.1310383e-03  6.5926742e-04  9.2094869e-04\n",
      "  1.0246449e-03  3.0137054e-04 -2.5315006e-05 -6.2521454e-04]\n",
      "(1, 20, 32)\n",
      "(1, 20, 32)\n",
      "(1, 20, 32)\n",
      "(1, 20, 32)\n",
      "(1, 20, 32)\n",
      "(1, 20, 32)\n",
      "(1, 20, 32)\n",
      "(1, 20, 32)\n",
      "(1, 20, 32)\n",
      "(1, 20, 32)\n",
      "(1, 20, 32)\n",
      "(1, 20, 32)\n",
      "(1, 20, 32)\n",
      "(1, 20, 32)\n",
      "(1, 20, 32)\n",
      "(1, 20, 32)\n",
      "(1, 20, 32)\n",
      "(1, 20, 32)\n",
      "(1, 20, 32)\n",
      "(1, 20, 32)\n",
      "(1, 20, 32)\n",
      "(1, 20, 32)\n",
      "(1, 20, 32)\n",
      "(1, 20, 32)\n",
      "(1, 20, 32)\n",
      "(1, 20, 32)\n",
      "(1, 20, 32)\n",
      "(1, 20, 32)\n",
      "(1, 20, 32)\n",
      "(1, 20, 32)\n",
      "(1, 20, 32)\n",
      "(1, 20, 32)\n",
      "(1, 20, 32)\n",
      "(1, 20, 32)\n",
      "(1, 20, 32)\n",
      "(1, 20, 32)\n",
      "(1, 20, 32)\n",
      "(1, 20, 32)\n",
      "(1, 20, 32)\n",
      "(1, 20, 32)\n",
      "(1, 20, 32)\n",
      "(1, 20, 32)\n",
      "(1, 20, 32)\n",
      "(1, 20, 32)\n",
      "(1, 20, 32)\n",
      "(1, 20, 32)\n",
      "(1, 20, 32)\n",
      "(1, 20, 32)\n",
      "(1, 20, 32)\n"
     ]
    }
   ],
   "source": [
    "attention_vectors = []\n",
    "for i in range(300):\n",
    "    test_rx, test_ry = generate_recurrent_data(1, time_steps, input_dims)\n",
    "    attention_vector = np.mean(get_activations(model, test_rx, print_shape_only=True, layer_name='attention_vec')[0], axis=2).squeeze()\n",
    "    if i % 50 ==0:\n",
    "        print('attention = ', attention_vector)\n",
    "        assert(np.sum(attention_vector)-1.0) < 1e-5\n",
    "    attention_vectors.append(attention_vector)"
   ]
  },
  {
   "cell_type": "code",
   "execution_count": 26,
   "metadata": {},
   "outputs": [],
   "source": [
    "attention_vector_final = np.mean(np.array(attention_vectors), axis=0)"
   ]
  },
  {
   "cell_type": "code",
   "execution_count": 27,
   "metadata": {},
   "outputs": [
    {
     "data": {
      "text/plain": [
       "<matplotlib.axes._subplots.AxesSubplot at 0x7fe09c4ce710>"
      ]
     },
     "execution_count": 27,
     "metadata": {},
     "output_type": "execute_result"
    },
    {
     "data": {
      "image/png": "[encoded data removed]",
      "text/plain": [
       "<Figure size 432x288 with 1 Axes>"
      ]
     },
     "metadata": {
      "needs_background": "light"
     },
     "output_type": "display_data"
    }
   ],
   "source": [
    "pd.DataFrame(attention_vector_final, columns=['attention (%)']).plot(kind='bar',\n",
    "                                                                    title='Attention mechanism as a function of input dimensions')"
   ]
  },
  {
   "cell_type": "code",
   "execution_count": null,
   "metadata": {},
   "outputs": [],
   "source": [
    "# https://nlp.stanford.edu/projects/tacred/\n",
    "# tacred + keras + attention"
   ]
  }
 ],
 "metadata": {
  "kernelspec": {
   "display_name": "grace_python",
   "language": "python",
   "name": "grace_jupyter"
  },
  "language_info": {
   "codemirror_mode": {
    "name": "ipython",
    "version": 3
   },
   "file_extension": ".py",
   "mimetype": "text/x-python",
   "name": "python",
   "nbconvert_exporter": "python",
   "pygments_lexer": "ipython3",
   "version": "3.6.7"
  }
 },
 "nbformat": 4,
 "nbformat_minor": 2
}
