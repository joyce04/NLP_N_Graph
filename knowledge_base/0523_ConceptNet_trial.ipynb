{
 "cells": [
  {
   "cell_type": "code",
   "execution_count": 1,
   "metadata": {},
   "outputs": [
    {
     "name": "stderr",
     "output_type": "stream",
     "text": [
      "/home/grace/.local/lib/python3.5/site-packages/requests/__init__.py:91: RequestsDependencyWarning: urllib3 (1.23) or chardet (2.3.0) doesn't match a supported version!\n",
      "  RequestsDependencyWarning)\n"
     ]
    }
   ],
   "source": [
    "import requests\n",
    "import pprint"
   ]
  },
  {
   "cell_type": "markdown",
   "metadata": {},
   "source": [
    "### Look up\n",
    ": is for when you know the URI of an object in ConceptNet, and want to see a list of edges that include it."
   ]
  },
  {
   "cell_type": "code",
   "execution_count": 2,
   "metadata": {},
   "outputs": [
    {
     "data": {
      "text/plain": [
       "dict_keys(['@context', '@id', 'edges', 'view'])"
      ]
     },
     "execution_count": 2,
     "metadata": {},
     "output_type": "execute_result"
    }
   ],
   "source": [
    "obj = requests.get('http://api.conceptnet.io/c/en/example').json()\n",
    "obj.keys()"
   ]
  },
  {
   "cell_type": "code",
   "execution_count": 3,
   "metadata": {},
   "outputs": [
    {
     "data": {
      "text/plain": [
       "['http://api.conceptnet.io/ld/conceptnet5.7/context.ld.json']"
      ]
     },
     "execution_count": 3,
     "metadata": {},
     "output_type": "execute_result"
    }
   ],
   "source": [
    "obj['@context']\n",
    "# JSON-LD"
   ]
  },
  {
   "cell_type": "code",
   "execution_count": 4,
   "metadata": {},
   "outputs": [
    {
     "data": {
      "text/plain": [
       "{'@id': '/c/en/example?offset=0&limit=20',\n",
       " '@type': 'PartialCollectionView',\n",
       " 'comment': \"There are more results. Follow the 'nextPage' link for more.\",\n",
       " 'firstPage': '/c/en/example?offset=0&limit=20',\n",
       " 'nextPage': '/c/en/example?offset=20&limit=20',\n",
       " 'paginatedProperty': 'edges'}"
      ]
     },
     "execution_count": 4,
     "metadata": {},
     "output_type": "execute_result"
    }
   ],
   "source": [
    "obj['view']"
   ]
  },
  {
   "cell_type": "code",
   "execution_count": 5,
   "metadata": {},
   "outputs": [
    {
     "data": {
      "text/plain": [
       "20"
      ]
     },
     "execution_count": 5,
     "metadata": {},
     "output_type": "execute_result"
    }
   ],
   "source": [
    "len(obj['edges'])"
   ]
  },
  {
   "cell_type": "code",
   "execution_count": 6,
   "metadata": {},
   "outputs": [
    {
     "data": {
      "text/plain": [
       "{'@id': '/a/[/r/Synonym/,/c/ja/引合/n/jmdict/1/,/c/en/example/]',\n",
       " '@type': 'Edge',\n",
       " 'dataset': '/d/jmdict',\n",
       " 'end': {'@id': '/c/en/example',\n",
       "  '@type': 'Node',\n",
       "  'label': 'example',\n",
       "  'language': 'en',\n",
       "  'term': '/c/en/example'},\n",
       " 'license': 'cc:by-sa/4.0',\n",
       " 'rel': {'@id': '/r/Synonym', '@type': 'Relation', 'label': 'Synonym'},\n",
       " 'sources': [{'@id': '/s/resource/jmdict/1.07',\n",
       "   '@type': 'Source',\n",
       "   'contributor': '/s/resource/jmdict/1.07'}],\n",
       " 'start': {'@id': '/c/ja/引合/n/jmdict/1',\n",
       "  '@type': 'Node',\n",
       "  'label': '引合',\n",
       "  'language': 'ja',\n",
       "  'sense_label': 'n',\n",
       "  'term': '/c/ja/引合'},\n",
       " 'surfaceText': None,\n",
       " 'weight': 2.0}"
      ]
     },
     "execution_count": 6,
     "metadata": {},
     "output_type": "execute_result"
    }
   ],
   "source": [
    "obj['edges'][12]\n",
    "# weight = believable. typically 1.0 higer when the information comes from more sources or more reliable sources"
   ]
  },
  {
   "cell_type": "code",
   "execution_count": 7,
   "metadata": {},
   "outputs": [
    {
     "data": {
      "text/plain": [
       "18"
      ]
     },
     "execution_count": 7,
     "metadata": {},
     "output_type": "execute_result"
    }
   ],
   "source": [
    "obj = requests.get('http://api.conceptnet.io/c/en/adverse_effect').json()\n",
    "len(obj['edges'])"
   ]
  },
  {
   "cell_type": "code",
   "execution_count": 8,
   "metadata": {},
   "outputs": [
    {
     "name": "stdout",
     "output_type": "stream",
     "text": [
      "{'@id': '/a/[/r/Antonym/,/c/en/adverse_effect/n/,/c/en/desired_effect/]',\n",
      " '@type': 'Edge',\n",
      " 'dataset': '/d/wiktionary/en',\n",
      " 'end': {'@id': '/c/en/desired_effect',\n",
      "         '@type': 'Node',\n",
      "         'label': 'desired effect',\n",
      "         'language': 'en',\n",
      "         'term': '/c/en/desired_effect'},\n",
      " 'license': 'cc:by-sa/4.0',\n",
      " 'rel': {'@id': '/r/Antonym', '@type': 'Relation', 'label': 'Antonym'},\n",
      " 'sources': [{'@id': '/and/[/s/process/wikiparsec/2/,/s/resource/wiktionary/en/]',\n",
      "              '@type': 'Source',\n",
      "              'contributor': '/s/resource/wiktionary/en',\n",
      "              'process': '/s/process/wikiparsec/2'}],\n",
      " 'start': {'@id': '/c/en/adverse_effect/n',\n",
      "           '@type': 'Node',\n",
      "           'label': 'adverse effect',\n",
      "           'language': 'en',\n",
      "           'sense_label': 'n',\n",
      "           'term': '/c/en/adverse_effect'},\n",
      " 'surfaceText': None,\n",
      " 'weight': 1.0}\n",
      "{'@id': '/a/[/r/RelatedTo/,/c/en/adverse_effect/n/,/c/en/side_effect/]',\n",
      " '@type': 'Edge',\n",
      " 'dataset': '/d/wiktionary/en',\n",
      " 'end': {'@id': '/c/en/side_effect',\n",
      "         '@type': 'Node',\n",
      "         'label': 'side effect',\n",
      "         'language': 'en',\n",
      "         'term': '/c/en/side_effect'},\n",
      " 'license': 'cc:by-sa/4.0',\n",
      " 'rel': {'@id': '/r/RelatedTo', '@type': 'Relation', 'label': 'RelatedTo'},\n",
      " 'sources': [{'@id': '/and/[/s/process/wikiparsec/2/,/s/resource/wiktionary/en/]',\n",
      "              '@type': 'Source',\n",
      "              'contributor': '/s/resource/wiktionary/en',\n",
      "              'process': '/s/process/wikiparsec/2'}],\n",
      " 'start': {'@id': '/c/en/adverse_effect/n',\n",
      "           '@type': 'Node',\n",
      "           'label': 'adverse effect',\n",
      "           'language': 'en',\n",
      "           'sense_label': 'n',\n",
      "           'term': '/c/en/adverse_effect'},\n",
      " 'surfaceText': None,\n",
      " 'weight': 1.0}\n",
      "{'@id': '/a/[/r/RelatedTo/,/c/en/cure_is_worse_than_disease/,/c/en/adverse_effect/]',\n",
      " '@type': 'Edge',\n",
      " 'dataset': '/d/wiktionary/en',\n",
      " 'end': {'@id': '/c/en/adverse_effect',\n",
      "         '@type': 'Node',\n",
      "         'label': 'adverse effect',\n",
      "         'language': 'en',\n",
      "         'term': '/c/en/adverse_effect'},\n",
      " 'license': 'cc:by-sa/4.0',\n",
      " 'rel': {'@id': '/r/RelatedTo', '@type': 'Relation', 'label': 'RelatedTo'},\n",
      " 'sources': [{'@id': '/and/[/s/process/wikiparsec/2/,/s/resource/wiktionary/en/]',\n",
      "              '@type': 'Source',\n",
      "              'contributor': '/s/resource/wiktionary/en',\n",
      "              'process': '/s/process/wikiparsec/2'}],\n",
      " 'start': {'@id': '/c/en/cure_is_worse_than_disease',\n",
      "           '@type': 'Node',\n",
      "           'label': 'cure is worse than disease',\n",
      "           'language': 'en',\n",
      "           'term': '/c/en/cure_is_worse_than_disease'},\n",
      " 'surfaceText': None,\n",
      " 'weight': 1.0}\n",
      "{'@id': '/a/[/r/FormOf/,/c/en/adverse_effects/n/,/c/en/adverse_effect/]',\n",
      " '@type': 'Edge',\n",
      " 'dataset': '/d/wiktionary/en',\n",
      " 'end': {'@id': '/c/en/adverse_effect',\n",
      "         '@type': 'Node',\n",
      "         'label': 'adverse effect',\n",
      "         'language': 'en',\n",
      "         'term': '/c/en/adverse_effect'},\n",
      " 'license': 'cc:by-sa/4.0',\n",
      " 'rel': {'@id': '/r/FormOf', '@type': 'Relation', 'label': 'FormOf'},\n",
      " 'sources': [{'@id': '/and/[/s/process/wikiparsec/2/,/s/resource/wiktionary/en/]',\n",
      "              '@type': 'Source',\n",
      "              'contributor': '/s/resource/wiktionary/en',\n",
      "              'process': '/s/process/wikiparsec/2'}],\n",
      " 'start': {'@id': '/c/en/adverse_effects/n',\n",
      "           '@type': 'Node',\n",
      "           'label': 'adverse effects',\n",
      "           'language': 'en',\n",
      "           'sense_label': 'n',\n",
      "           'term': '/c/en/adverse_effects'},\n",
      " 'surfaceText': None,\n",
      " 'weight': 1.0}\n",
      "{'@id': '/a/[/r/RelatedTo/,/c/en/side_effect/n/,/c/en/adverse_effect/]',\n",
      " '@type': 'Edge',\n",
      " 'dataset': '/d/wiktionary/en',\n",
      " 'end': {'@id': '/c/en/adverse_effect',\n",
      "         '@type': 'Node',\n",
      "         'label': 'adverse effect',\n",
      "         'language': 'en',\n",
      "         'term': '/c/en/adverse_effect'},\n",
      " 'license': 'cc:by-sa/4.0',\n",
      " 'rel': {'@id': '/r/RelatedTo', '@type': 'Relation', 'label': 'RelatedTo'},\n",
      " 'sources': [{'@id': '/and/[/s/process/wikiparsec/2/,/s/resource/wiktionary/en/]',\n",
      "              '@type': 'Source',\n",
      "              'contributor': '/s/resource/wiktionary/en',\n",
      "              'process': '/s/process/wikiparsec/2'}],\n",
      " 'start': {'@id': '/c/en/side_effect/n',\n",
      "           '@type': 'Node',\n",
      "           'label': 'side effect',\n",
      "           'language': 'en',\n",
      "           'sense_label': 'n',\n",
      "           'term': '/c/en/side_effect'},\n",
      " 'surfaceText': None,\n",
      " 'weight': 1.0}\n"
     ]
    }
   ],
   "source": [
    "for edge in obj['edges']:\n",
    "    if len(list(filter(lambda x: x.find('/c/en/')>=0, edge['@id'].split(',')))) > 1:\n",
    "        pprint.pprint(edge)"
   ]
  },
  {
   "cell_type": "markdown",
   "metadata": {},
   "source": [
    "- start: a URI that the \"start\" or \"subject\" position must match.\n",
    "- end: a URI that the \"end\" or \"object\" position must match.\n",
    "- rel: a relation.\n",
    "- node: a URI that must match either the start or the end.\n",
    "- other: a URI that must match either the start or the end, and be different from node.\n",
    "- sources: a URI that must match one of the sources of the edge."
   ]
  },
  {
   "cell_type": "markdown",
   "metadata": {},
   "source": [
    "### Search\n",
    ": finds a list of edges that match certain criteria."
   ]
  },
  {
   "cell_type": "code",
   "execution_count": 9,
   "metadata": {},
   "outputs": [
    {
     "name": "stdout",
     "output_type": "stream",
     "text": [
      "/a/[/r/IsA/,/c/en/side_effect/n/wn/state/,/c/en/effect/n/wn/state/]\n",
      "/a/[/r/FormOf/,/c/en/side_effects/n/,/c/en/side_effect/]\n",
      "/a/[/r/IsA/,/c/en/hairy_tongue/n/wn/state/,/c/en/side_effect/n/wn/state/]\n",
      "/a/[/r/RelatedTo/,/c/en/side_effects/n/,/c/en/side_effect/]\n",
      "/a/[/r/FormOf/,/c/en/side_affect/n/,/c/en/side_effect/]\n",
      "/a/[/r/FormOf/,/c/en/site_effect/n/,/c/en/side_effect/]\n",
      "/a/[/r/Synonym/,/c/en/fallout/n/wn/phenomenon/,/c/en/side_effect/n/wn/phenomenon/]\n",
      "/a/[/r/IsA/,/c/en/side_effect/n/wn/phenomenon/,/c/en/consequence/n/wn/phenomenon/]\n",
      "/a/[/r/RelatedTo/,/c/en/parkinsonise/v/,/c/en/side_effect/]\n",
      "/a/[/r/RelatedTo/,/c/en/hyperideal/n/,/c/en/side_effect/]\n",
      "/a/[/r/RelatedTo/,/c/en/zalospirone/n/,/c/en/side_effect/]\n",
      "/a/[/r/Synonym/,/c/en/fallout/n/,/c/en/side_effect/]\n",
      "/a/[/r/RelatedTo/,/c/en/aptiganel/n/,/c/en/side_effect/]\n",
      "/a/[/r/RelatedTo/,/c/en/rabbit_syndrome/n/,/c/en/side_effect/]\n",
      "/a/[/r/RelatedTo/,/c/en/benzatropine/n/,/c/en/side_effect/]\n",
      "/a/[/r/RelatedTo/,/c/en/oculomucocutaneous_syndrome/n/,/c/en/side_effect/]\n",
      "/a/[/r/RelatedTo/,/c/en/tardive_dyskinesia/n/,/c/en/side_effect/]\n",
      "/a/[/r/RelatedTo/,/c/en/side_effect/n/,/c/en/state/]\n",
      "/a/[/r/HasContext/,/c/en/side_effect/n/,/c/en/medicine/]\n",
      "/a/[/r/RelatedTo/,/c/en/taranabant/n/,/c/en/side_effect/]\n",
      "/a/[/r/RelatedTo/,/c/en/methylnaltrexone/n/,/c/en/side_effect/]\n",
      "/a/[/r/RelatedTo/,/c/en/specificker/n/wikt/en_1/,/c/en/side_effect/]\n",
      "/a/[/r/RelatedTo/,/c/en/brallobarbital/n/,/c/en/side_effect/]\n",
      "/a/[/r/RelatedTo/,/c/en/side_effect/n/,/c/en/consequence/]\n",
      "/a/[/r/RelatedTo/,/c/en/spillover/n/,/c/en/side_effect/]\n",
      "/a/[/r/RelatedTo/,/c/en/steroidphobia/n/,/c/en/side_effect/]\n",
      "/a/[/r/RelatedTo/,/c/en/fallout/n/,/c/en/side_effect/]\n",
      "/a/[/r/RelatedTo/,/c/en/side_effect/n/,/c/en/adverse_effect/]\n",
      "/a/[/r/RelatedTo/,/c/en/side_effect/n/,/c/en/unintended/]\n",
      "/a/[/r/RelatedTo/,/c/en/methyprylon/n/,/c/en/side_effect/]\n",
      "/a/[/r/RelatedTo/,/c/en/sequence_point/n/,/c/en/side_effect/]\n",
      "/a/[/r/RelatedTo/,/c/en/pexelizumab/n/,/c/en/side_effect/]\n",
      "/a/[/r/RelatedTo/,/c/en/idiosyncratic_reaction/n/,/c/en/side_effect/]\n",
      "/a/[/r/RelatedTo/,/c/en/functional/a/,/c/en/side_effect/]\n",
      "/a/[/r/RelatedTo/,/c/en/side_effect/n/,/c/en/therapy/]\n",
      "/a/[/r/Synonym/,/c/en/side_effect/n/,/c/en/by_product/]\n",
      "/a/[/r/RelatedTo/,/c/en/moon_face/n/,/c/en/side_effect/]\n",
      "/a/[/r/RelatedTo/,/c/en/in_process/r/,/c/en/side_effect/]\n",
      "/a/[/r/RelatedTo/,/c/en/side_effect/n/,/c/en/intended/]\n",
      "/a/[/r/RelatedTo/,/c/en/side_effect/n/,/c/en/drug/]\n",
      "/a/[/r/RelatedTo/,/c/en/grepafloxacin/n/,/c/en/side_effect/]\n",
      "/a/[/r/RelatedTo/,/c/en/off_gas/n/,/c/en/side_effect/]\n",
      "/a/[/r/RelatedTo/,/c/en/side_effect/n/,/c/en/function/]\n",
      "/a/[/r/RelatedTo/,/c/en/haloprogin/n/,/c/en/side_effect/]\n",
      "/a/[/r/HasContext/,/c/en/side_effect/n/,/c/en/computing/]\n",
      "/a/[/r/RelatedTo/,/c/en/triflupromazine/n/,/c/en/side_effect/]\n",
      "/a/[/r/RelatedTo/,/c/en/levomepromazine/n/,/c/en/side_effect/]\n",
      "/a/[/r/RelatedTo/,/c/en/dexfenfluramine/n/,/c/en/side_effect/]\n",
      "/a/[/r/RelatedTo/,/c/en/side_effect/n/,/c/en/beneficial/]\n",
      "/a/[/r/RelatedTo/,/c/en/by_product/n/,/c/en/side_effect/]\n"
     ]
    }
   ],
   "source": [
    "obj = requests.get('http://api.conceptnet.io/query?node=/c/en/side_effect&other=/c/en').json()\n",
    "for edge in obj['edges']:\n",
    "    print(edge['@id'])"
   ]
  },
  {
   "cell_type": "code",
   "execution_count": 10,
   "metadata": {},
   "outputs": [
    {
     "data": {
      "text/plain": [
       "dict_keys(['@context', '@id', 'edges'])"
      ]
     },
     "execution_count": 10,
     "metadata": {},
     "output_type": "execute_result"
    }
   ],
   "source": [
    "# get external links\n",
    "obj = requests.get('http://api.conceptnet.io/query?node=/c/en/side_effect&rel=/r/ExternalURL&limit=1000').json()\n",
    "obj.keys()"
   ]
  },
  {
   "cell_type": "code",
   "execution_count": 11,
   "metadata": {},
   "outputs": [
    {
     "data": {
      "text/plain": [
       "['http://wordnet-rdf.princeton.edu/wn31/111437501-n',\n",
       " 'http://wordnet-rdf.princeton.edu/wn31/114335404-n',\n",
       " 'http://fr.wiktionary.org/wiki/side_effect',\n",
       " 'http://en.wiktionary.org/wiki/side_effect',\n",
       " 'http://en.wiktionary.org/wiki/side-effect']"
      ]
     },
     "execution_count": 11,
     "metadata": {},
     "output_type": "execute_result"
    }
   ],
   "source": [
    "[edge['end']['@id'] for edge in obj['edges']]"
   ]
  },
  {
   "cell_type": "markdown",
   "metadata": {},
   "source": [
    "### Association\n",
    ": is for finding concepts similar to a particular concept or a list of concepts."
   ]
  },
  {
   "cell_type": "markdown",
   "metadata": {},
   "source": [
    "### word embeddings"
   ]
  },
  {
   "cell_type": "code",
   "execution_count": 12,
   "metadata": {},
   "outputs": [
    {
     "data": {
      "text/plain": [
       "dict_keys(['@id', 'related'])"
      ]
     },
     "execution_count": 12,
     "metadata": {},
     "output_type": "execute_result"
    }
   ],
   "source": [
    "obj = requests.get('http://api.conceptnet.io/related/c/en/headache?filter=/c/en').json()\n",
    "obj.keys()"
   ]
  },
  {
   "cell_type": "code",
   "execution_count": 13,
   "metadata": {},
   "outputs": [
    {
     "data": {
      "text/plain": [
       "50"
      ]
     },
     "execution_count": 13,
     "metadata": {},
     "output_type": "execute_result"
    }
   ],
   "source": [
    "len(obj['related'])"
   ]
  },
  {
   "cell_type": "code",
   "execution_count": 14,
   "metadata": {},
   "outputs": [
    {
     "data": {
      "text/plain": [
       "[{'@id': '/c/en/headache', 'weight': 1.0},\n",
       " {'@id': '/c/en/migraine_headache', 'weight': 0.843},\n",
       " {'@id': '/c/en/headaches', 'weight': 0.794},\n",
       " {'@id': '/c/en/headachy', 'weight': 0.775},\n",
       " {'@id': '/c/en/migraine', 'weight': 0.713},\n",
       " {'@id': '/c/en/migraines', 'weight': 0.607},\n",
       " {'@id': '/c/en/backache', 'weight': 0.55},\n",
       " {'@id': '/c/en/stomachache', 'weight': 0.539},\n",
       " {'@id': '/c/en/stomach_ache', 'weight': 0.522},\n",
       " {'@id': '/c/en/dizziness', 'weight': 0.517}]"
      ]
     },
     "execution_count": 14,
     "metadata": {},
     "output_type": "execute_result"
    }
   ],
   "source": [
    "obj['related'][:10]"
   ]
  },
  {
   "cell_type": "markdown",
   "metadata": {},
   "source": [
    "### Relatedness of pair of terms"
   ]
  },
  {
   "cell_type": "code",
   "execution_count": 15,
   "metadata": {},
   "outputs": [
    {
     "data": {
      "text/plain": [
       "{'@context': ['http://api.conceptnet.io/ld/conceptnet5.7/context.ld.json'],\n",
       " '@id': '/relatedness?node1=/c/en/side_effect&node2=/c/en/headache',\n",
       " 'value': 0.164}"
      ]
     },
     "execution_count": 15,
     "metadata": {},
     "output_type": "execute_result"
    }
   ],
   "source": [
    "obj = requests.get('http://api.conceptnet.io/relatedness?node1=/c/en/side_effect&node2=/c/en/headache').json()\n",
    "obj"
   ]
  },
  {
   "cell_type": "code",
   "execution_count": 16,
   "metadata": {},
   "outputs": [
    {
     "data": {
      "text/plain": [
       "{'@context': ['http://api.conceptnet.io/ld/conceptnet5.7/context.ld.json'],\n",
       " '@id': '/relatedness?node1=/c/en/nausea&node2=/c/en/headache',\n",
       " 'value': 0.51}"
      ]
     },
     "execution_count": 16,
     "metadata": {},
     "output_type": "execute_result"
    }
   ],
   "source": [
    "obj = requests.get('http://api.conceptnet.io/relatedness?node1=/c/en/nausea&node2=/c/en/headache').json()\n",
    "obj"
   ]
  }
 ],
 "metadata": {
  "kernelspec": {
   "display_name": "Python 3",
   "language": "python",
   "name": "python3"
  },
  "language_info": {
   "codemirror_mode": {
    "name": "ipython",
    "version": 3
   },
   "file_extension": ".py",
   "mimetype": "text/x-python",
   "name": "python",
   "nbconvert_exporter": "python",
   "pygments_lexer": "ipython3",
   "version": "3.5.2"
  }
 },
 "nbformat": 4,
 "nbformat_minor": 2
}
