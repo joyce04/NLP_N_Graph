{
 "cells": [
  {
   "cell_type": "code",
   "execution_count": 2,
   "metadata": {},
   "outputs": [],
   "source": [
    "import os\n",
    "from xml.dom import minidom"
   ]
  },
  {
   "cell_type": "markdown",
   "metadata": {},
   "source": [
    "DATA SOURCE : http://www.geniaproject.org/genia-corpus/relation-corpus\n",
    "\n",
    "\n",
    "http://text-machine.cs.uml.edu/cliner/"
   ]
  },
  {
   "cell_type": "code",
   "execution_count": 13,
   "metadata": {},
   "outputs": [
    {
     "name": "stdout",
     "output_type": "stream",
     "text": [
      "2402\n",
      "800\n",
      "PMID-8709209.txt\n",
      "Various modes of basic helix-loop-helix protein-mediated regulation of murine leukemia virus transcription in lymphoid cell lines.  \n",
      "PMID-1946356.txt\n",
      "Negative regulation of human immunodeficiency virus type 1 expression in monocytes: role of the 65-kDa plus 50-kDa NF-kappa B dimer.  \n",
      "PMID-7543515.txt\n",
      "Costimulation of human CD4+ T cells with LFA-3 and B7 induce distinct effects on AP-1 and NF-kappa B transcription factors.  \n",
      "PMID-9075924.txt\n",
      "The T cell activation factor NF-ATc positively regulates HIV-1 replication and gene expression in T cells.  \n",
      "PMID-10477683.txt\n",
      "c-Maf induces monocytic differentiation and apoptosis in bipotent myeloid progenitors.  \n",
      "522\n",
      "260\n",
      "PMID-8751937.txt\n",
      "Activation of human monocytic cells by Treponema pallidum and Borrelia burgdorferi lipoproteins and synthetic lipopeptides proceeds via a pathway distinct from that of lipopolysaccharide but involves the transcriptional activator NF-kappa B.  \n",
      "PMID-8810619.txt\n",
      "Tyloxapol inhibits NF-kappa B and cytokine release, scavenges HOCI, and reduces viscosity of cystic fibrosis sputum.  \n",
      "PMID-2159372.txt\n",
      "Effects of 1 alpha, 25-dihydroxyvitamin D3 on the human chronic myelogenous leukemia cell line RWLeu-4.  \n",
      "PMID-7500028.txt\n",
      "Regulation of the balance of cytokine production and the signal transducer and activator of transcription (STAT) transcription factor activity by cytokines and inflammatory synovial fluids.  \n",
      "PMID-1670606.txt\n",
      "Activation of human CD4 T lymphocytes. Interaction of fibronectin with VLA-5 receptor on CD4 cells induces the AP-1 transcription factor.  \n"
     ]
    }
   ],
   "source": [
    "file_locs = ['/Users/grace/workspace/bio_dataset/BioNLP-ST_2011_Entity_Relations_training_data',\n",
    "#             '/Users/grace/workspace/bio_dataset/BioNLP-ST_2011_Entity_Relations_development_data',\n",
    "            '/Users/grace/workspace/bio_dataset/BioNLP-ST_2011_Entity_Relations_test_data']\n",
    "\n",
    "entities = []\n",
    "sents = []\n",
    "for file_loc in file_locs:\n",
    "    medlines = os.listdir(file_loc)\n",
    "    print(len(medlines))\n",
    "    medlines = list(filter(lambda x: x.endswith('.txt'), medlines))\n",
    "    print(len(medlines))\n",
    "\n",
    "    for med in medlines[:5]:\n",
    "        f = open(file_loc+'/'+med, 'r')\n",
    "#         print(med)\n",
    "        line = f.readline().replace('\\n', ' ')\n",
    "        sents.append(line)\n",
    "#         print(line)\n",
    "        f.close()\n",
    "    \n",
    "        \n",
    "#         doc = minidom.parse(file_loc+'/'+med)\n",
    "#         items = doc.getElementsByTagName('document')\n",
    "#         doc_id = items[0].attributes['id'].value\n",
    "\n",
    "#         for sent in doc.getElementsByTagName('sentence'):\n",
    "#             sent_id = sent.attributes['id'].value\n",
    "#             sent_text = sent.attributes['text'].value\n",
    "#             if sent_text.strip():\n",
    "#                 sents.append({'id':sent_id, 'sent':sent_text})\n",
    "\n",
    "#             for ent in sent.getElementsByTagName('entity'):\n",
    "#     #             ent_id = ent.attributes['id'].value\n",
    "#     #             ent_charOffset = ent.attributes['charOffset'].value\n",
    "#                 ent_type = ent.attributes['type'].value.strip()\n",
    "#                 ent_text = ent.attributes['text'].value.lower().strip()\n",
    "\n",
    "#     #             if ent_type in entities.keys():\n",
    "#     #                 entities[ent_type].append(ent_text)\n",
    "#     #             else:\n",
    "#                 entities.append({'type':ent_type, 'entity':ent_text})\n"
   ]
  },
  {
   "cell_type": "code",
   "execution_count": 53,
   "metadata": {},
   "outputs": [],
   "source": [
    "import pandas as pd"
   ]
  },
  {
   "cell_type": "code",
   "execution_count": 54,
   "metadata": {},
   "outputs": [
    {
     "name": "stdout",
     "output_type": "stream",
     "text": [
      "(14765, 2)\n",
      "(2430, 2)\n"
     ]
    }
   ],
   "source": [
    "# for key, ent in entities.items():\n",
    "#     print(key)\n",
    "#     entities[key] = list(set(ent))\n",
    "#     print(len(entities[key]))\n",
    "\n",
    "# entities\n",
    "\n",
    "ents = pd.DataFrame(entities)\n",
    "print(ents.shape)\n",
    "\n",
    "ents.drop_duplicates(inplace=True)\n",
    "print(ents.shape)\n",
    "ents.to_csv('./entity_dic_ddi.csv', sep=',', header=None, index=None)"
   ]
  },
  {
   "cell_type": "code",
   "execution_count": 55,
   "metadata": {},
   "outputs": [],
   "source": [
    "pd.DataFrame(sents).to_csv('./ddi_sent.csv', sep=',', index=None)\n",
    "pd.DataFrame(sents).to_csv('./ddi_sent_wo_header.csv', sep=',', header=None, index=None)"
   ]
  },
  {
   "cell_type": "code",
   "execution_count": 56,
   "metadata": {},
   "outputs": [
    {
     "data": {
      "text/html": [
       "<div>\n",
       "<style scoped>\n",
       "    .dataframe tbody tr th:only-of-type {\n",
       "        vertical-align: middle;\n",
       "    }\n",
       "\n",
       "    .dataframe tbody tr th {\n",
       "        vertical-align: top;\n",
       "    }\n",
       "\n",
       "    .dataframe thead th {\n",
       "        text-align: right;\n",
       "    }\n",
       "</style>\n",
       "<table border=\"1\" class=\"dataframe\">\n",
       "  <thead>\n",
       "    <tr style=\"text-align: right;\">\n",
       "      <th></th>\n",
       "      <th>id</th>\n",
       "      <th>sent</th>\n",
       "    </tr>\n",
       "  </thead>\n",
       "  <tbody>\n",
       "    <tr>\n",
       "      <th>0</th>\n",
       "      <td>DDI-MedLine.d69.s0</td>\n",
       "      <td>Differential regulation of tyrosine phosphoryl...</td>\n",
       "    </tr>\n",
       "    <tr>\n",
       "      <th>1</th>\n",
       "      <td>DDI-MedLine.d69.s1</td>\n",
       "      <td>The homodimeric disintegrin contortrostatin wa...</td>\n",
       "    </tr>\n",
       "    <tr>\n",
       "      <th>2</th>\n",
       "      <td>DDI-MedLine.d69.s2</td>\n",
       "      <td>It was observed that contortrostatin had a dra...</td>\n",
       "    </tr>\n",
       "    <tr>\n",
       "      <th>3</th>\n",
       "      <td>DDI-MedLine.d69.s3</td>\n",
       "      <td>Echistatin alone had no effect on tyrosine pho...</td>\n",
       "    </tr>\n",
       "    <tr>\n",
       "      <th>4</th>\n",
       "      <td>DDI-MedLine.d69.s4</td>\n",
       "      <td>Among the proteins that undergo tyrosine phosp...</td>\n",
       "    </tr>\n",
       "  </tbody>\n",
       "</table>\n",
       "</div>"
      ],
      "text/plain": [
       "                   id                                               sent\n",
       "0  DDI-MedLine.d69.s0  Differential regulation of tyrosine phosphoryl...\n",
       "1  DDI-MedLine.d69.s1  The homodimeric disintegrin contortrostatin wa...\n",
       "2  DDI-MedLine.d69.s2  It was observed that contortrostatin had a dra...\n",
       "3  DDI-MedLine.d69.s3  Echistatin alone had no effect on tyrosine pho...\n",
       "4  DDI-MedLine.d69.s4  Among the proteins that undergo tyrosine phosp..."
      ]
     },
     "execution_count": 56,
     "metadata": {},
     "output_type": "execute_result"
    }
   ],
   "source": [
    "pd.read_csv('./ddi_sent.csv', sep=',').head()"
   ]
  },
  {
   "cell_type": "code",
   "execution_count": 58,
   "metadata": {},
   "outputs": [
    {
     "data": {
      "text/html": [
       "<div>\n",
       "<style scoped>\n",
       "    .dataframe tbody tr th:only-of-type {\n",
       "        vertical-align: middle;\n",
       "    }\n",
       "\n",
       "    .dataframe tbody tr th {\n",
       "        vertical-align: top;\n",
       "    }\n",
       "\n",
       "    .dataframe thead th {\n",
       "        text-align: right;\n",
       "    }\n",
       "</style>\n",
       "<table border=\"1\" class=\"dataframe\">\n",
       "  <thead>\n",
       "    <tr style=\"text-align: right;\">\n",
       "      <th></th>\n",
       "      <th>id</th>\n",
       "      <th>sent</th>\n",
       "    </tr>\n",
       "  </thead>\n",
       "  <tbody>\n",
       "  </tbody>\n",
       "</table>\n",
       "</div>"
      ],
      "text/plain": [
       "Empty DataFrame\n",
       "Columns: [id, sent]\n",
       "Index: []"
      ]
     },
     "execution_count": 58,
     "metadata": {},
     "output_type": "execute_result"
    }
   ],
   "source": [
    "df_sent = pd.DataFrame(sents)\n",
    "df_sent.loc[df_sent.sent.isnull()]"
   ]
  },
  {
   "cell_type": "code",
   "execution_count": 59,
   "metadata": {},
   "outputs": [
    {
     "data": {
      "text/plain": [
       "(6905, 2)"
      ]
     },
     "execution_count": 59,
     "metadata": {},
     "output_type": "execute_result"
    }
   ],
   "source": [
    "df_sent.shape"
   ]
  },
  {
   "cell_type": "code",
   "execution_count": null,
   "metadata": {},
   "outputs": [],
   "source": []
  }
 ],
 "metadata": {
  "kernelspec": {
   "display_name": "Python 3",
   "language": "python",
   "name": "python3"
  },
  "language_info": {
   "codemirror_mode": {
    "name": "ipython",
    "version": 3
   },
   "file_extension": ".py",
   "mimetype": "text/x-python",
   "name": "python",
   "nbconvert_exporter": "python",
   "pygments_lexer": "ipython3",
   "version": "3.6.4"
  }
 },
 "nbformat": 4,
 "nbformat_minor": 2
}
