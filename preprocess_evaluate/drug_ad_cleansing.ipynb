{
 "cells": [
  {
   "cell_type": "code",
   "execution_count": 1,
   "metadata": {},
   "outputs": [
    {
     "name": "stderr",
     "output_type": "stream",
     "text": [
      "/home/grace/.local/lib/python3.5/site-packages/psycopg2/__init__.py:144: UserWarning: The psycopg2 wheel package will be renamed from release 2.8; in order to keep installing from binary please use \"pip install psycopg2-binary\" instead. For details see: <http://initd.org/psycopg/docs/install.html#binary-install-from-pypi>.\n",
      "  \"\"\")\n"
     ]
    }
   ],
   "source": [
    "import db_conn\n",
    "import pandas as pd\n",
    "import re"
   ]
  },
  {
   "cell_type": "code",
   "execution_count": 2,
   "metadata": {},
   "outputs": [],
   "source": [
    "conn = db_conn.get_connection()"
   ]
  },
  {
   "cell_type": "markdown",
   "metadata": {},
   "source": [
    "## 1. 추출된 전체 약물\n",
    "추출된 전체 약물 중 식별이 가능한 UNIQUE한 약물만을 추려냈습니다."
   ]
  },
  {
   "cell_type": "code",
   "execution_count": 3,
   "metadata": {},
   "outputs": [],
   "source": [
    "def get_total_drugs():\n",
    "    cur = conn.cursor()\n",
    "    cur.execute(\"\"\"\n",
    "    SELECT DISTINCT(TRIM(d.tt_drug)) AS t_d\n",
    "    FROM\n",
    "    (SELECT id, tt_drug\n",
    "    FROM article_table_sentences_m M,\n",
    "        UNNEST(STRING_TO_ARRAY(t_drug, ' , ')) AS tt_drug\n",
    "    WHERE (tt_drug='') is false) as d;\n",
    "    \"\"\")\n",
    "    return cur.fetchall()"
   ]
  },
  {
   "cell_type": "code",
   "execution_count": 8,
   "metadata": {},
   "outputs": [],
   "source": [
    "drugs = pd.DataFrame(get_total_drugs())"
   ]
  },
  {
   "cell_type": "code",
   "execution_count": 9,
   "metadata": {},
   "outputs": [],
   "source": [
    "drugs.to_csv('./drugs.csv', sep=',')"
   ]
  },
  {
   "cell_type": "code",
   "execution_count": null,
   "metadata": {},
   "outputs": [],
   "source": [
    "drugs.columns=['name']"
   ]
  },
  {
   "cell_type": "code",
   "execution_count": null,
   "metadata": {},
   "outputs": [],
   "source": [
    "drugs['refined'] = ''\n",
    "drugs.head()"
   ]
  },
  {
   "cell_type": "markdown",
   "metadata": {},
   "source": [
    "#### 전처리 전 총 약물의 수는 2323개 입니다"
   ]
  },
  {
   "cell_type": "code",
   "execution_count": null,
   "metadata": {},
   "outputs": [],
   "source": [
    "drugs.shape"
   ]
  },
  {
   "cell_type": "markdown",
   "metadata": {},
   "source": [
    "### 2. 전처리"
   ]
  },
  {
   "cell_type": "markdown",
   "metadata": {},
   "source": [
    "#### A. 약물을 포함하고 있는 구절이 추출 된 경우, 약물 외적인 단어들을 제거합니다"
   ]
  },
  {
   "cell_type": "code",
   "execution_count": null,
   "metadata": {},
   "outputs": [],
   "source": [
    "replace_with_space = ['-long-acting', '-treated', '-producing', '-high', '-involved-field', '-based', '-studies', '-non-susceptible',\\\n",
    "                      '-susceptible', '-dependent', '-inducible', '-independent', '-eligible', '-rescue', '-sensitive',\\\n",
    "                      'infarction-', '11c]-', '[99mtc]', '-avid', '-subcutaneous', '-coated', '-activatable', '-total', '-corrected', \\\n",
    "                      '-predicted', '-gated', '-redo-surgery', '-group', '-assigned', '-allocated', '-reduced', '-combination', \\\n",
    "                      '-standard', '-associated', '-ischemic', '-resistant', '-naive', '-sparing', 'concentration', \\\n",
    "                      'low-molecular-weight-', '-extended', '-prev', '-meter', '-stimulated', 'subtotal', '-labeled', '-matching',\\\n",
    "                      '-resistance;', '-maintenance', '-rate', '-tolerance', '-facilitated', '-replacement', '-to-renin', '-gits', \\\n",
    "                      '-right', '-or-2-h', '-treatment', '-boosting', '-resistance', '-continuation', '-rich', '-insensitive',\\\n",
    "                      '-impregnated', '-dispensation', '-pemetrexed', '-correctable', '-carry-on', '-oral', '-intravenous', '-bare-metal', '-dose',\\\n",
    "                      '-equivalent', '-induced', '-positive', '-related', '-stimulating', '-confirmed', '-controlled', '(',\\\n",
    "                      '-releasing', '-reuptake', '-eluting', '-containing', '-binding', 'vaccines', 'vaccine', 'change',\\\n",
    "                      # 약물 이름이 아닌 경우\n",
    "                      'food-borne', 'fast-food', 'food-coping', 'grass-pea-food', 'food-systems', 'food-bolus', 'food-specific', \\\n",
    "                      'food-frequency', 'non-food', 'blood plasma', 'medical air', 'tree pollen', 'grass pollen'\n",
    "                     ]"
   ]
  },
  {
   "cell_type": "code",
   "execution_count": null,
   "metadata": {},
   "outputs": [],
   "source": [
    "# .....'-the', 'on-', \n",
    "_replace_with_space = ['-receptor'\n",
    "                      'post-','-dose-dense', '–placebo', \\\n",
    "                      '-inhibiting', '-containing', '-related', '-like', '-boosted', '-binding', '8 × ', '-only', \\\n",
    "                      '-pulse', '-positive', '-confirmed', '-controlled', '-releasing', '-lowering', 'pre-', '≥110', \\\n",
    "                      '-independent', '≥5', 'secreting', 'mothers', 'bothersome', \"mothers'\", 'senegal']\n",
    "\n",
    "# '-dependent', , "
   ]
  },
  {
   "cell_type": "code",
   "execution_count": null,
   "metadata": {},
   "outputs": [],
   "source": [
    "rep = dict((re.escape(k), ' ') for k in replace_with_space)\n",
    "pattern = re.compile(\"|\".join(rep.keys()))\n",
    "\n",
    "for ind, row in drugs.iterrows():\n",
    "    refined = pattern.sub(lambda m: rep[re.escape(m.group(0))], row['name'])\n",
    "    if refined.strip() == '':\n",
    "        drugs.drop(ind, inplace=True)\n",
    "    elif row['name'].strip() != refined.strip():\n",
    "        drugs.loc[ind]['refined'] = refined\n",
    "        print(row['name'])\n",
    "        print(drugs.loc[ind]['refined'])\n",
    "    else:\n",
    "        print(row['name'])\n",
    "    print('===============================')\n",
    "\n",
    "drugs = drugs.reset_index(drop=True)"
   ]
  },
  {
   "cell_type": "markdown",
   "metadata": {},
   "source": [
    "#### 전처리와 약물이 아닌 레코드를 제거하면 2310개가 남습니다"
   ]
  },
  {
   "cell_type": "code",
   "execution_count": null,
   "metadata": {},
   "outputs": [],
   "source": [
    "drugs.shape"
   ]
  },
  {
   "cell_type": "markdown",
   "metadata": {},
   "source": [
    "#### B. 약-부작용 관계를 나타는 것이 아닌 경우, 지웁니다"
   ]
  },
  {
   "cell_type": "code",
   "execution_count": null,
   "metadata": {},
   "outputs": [],
   "source": [
    "non_drug_ad_rel = ['pseudo', 'placebo', 'negative', 'free', 'withdrawal', 'blocking', 'deficient', 'inhibiting']\n",
    "# 'no-', \n",
    "\n",
    "rep = dict((re.escape(k), ' ') for k in non_drug_ad_rel)\n",
    "pattern = re.compile(\"|\".join(rep.keys()))"
   ]
  },
  {
   "cell_type": "code",
   "execution_count": null,
   "metadata": {},
   "outputs": [],
   "source": [
    "for ind, row in drugs.iterrows():\n",
    "    refined = pattern.sub(lambda m: rep[re.escape(m.group(0))], row['name'])\n",
    "    if row['name'].strip() != refined.strip():\n",
    "        print(row['name'])\n",
    "        drugs.drop(ind, inplace=True)\n",
    "        print('===============================')\n",
    "\n",
    "drugs = drugs.reset_index(drop=True)"
   ]
  },
  {
   "cell_type": "code",
   "execution_count": null,
   "metadata": {},
   "outputs": [],
   "source": [
    "non-"
   ]
  },
  {
   "cell_type": "markdown",
   "metadata": {},
   "source": [
    "#### 약-부작용 관계를 나타는 것이 아닌 레코드를 제거하면 2290 남습니다"
   ]
  },
  {
   "cell_type": "code",
   "execution_count": null,
   "metadata": {},
   "outputs": [],
   "source": [
    "drugs.shape"
   ]
  },
  {
   "cell_type": "code",
   "execution_count": null,
   "metadata": {},
   "outputs": [],
   "source": [
    "drugs.loc[drugs.name.str.find('(')>=0]"
   ]
  },
  {
   "cell_type": "code",
   "execution_count": null,
   "metadata": {},
   "outputs": [],
   "source": [
    "drugs[drugs.refined==''].loc[drugs.name.str.find(' ')>=-1][350:400]\n",
    "\n",
    "# split :, =, —\n",
    "# 'factor', 'guar gum'\n",
    "\n",
    "# 'oxygenator', 'non-secretin', '<0.001', 'others', 'mothers', 'chemotherapy', '<3.2', 'daily+', '+late', '-refractory'\n",
    "# '—1688'"
   ]
  },
  {
   "cell_type": "code",
   "execution_count": null,
   "metadata": {},
   "outputs": [],
   "source": []
  },
  {
   "cell_type": "code",
   "execution_count": null,
   "metadata": {},
   "outputs": [],
   "source": [
    "drugs[drugs.refined=='']"
   ]
  },
  {
   "cell_type": "markdown",
   "metadata": {},
   "source": [
    "### D. 정제"
   ]
  },
  {
   "cell_type": "code",
   "execution_count": null,
   "metadata": {},
   "outputs": [],
   "source": [
    "ends_with = ['.', ':', '-']\n",
    "starts_with = ['-', '%']"
   ]
  },
  {
   "cell_type": "markdown",
   "metadata": {},
   "source": [
    "### 선생님께 확인 요청을 드리고 싶은 부분\n",
    "- 약물명 중에 '+'가 표기 되어있는 경우가 있는데, 이 경우 어떻게 약물명을 정제하면 좋을까요?"
   ]
  },
  {
   "cell_type": "code",
   "execution_count": null,
   "metadata": {},
   "outputs": [],
   "source": [
    "drugs.loc[drugs.name.str.find('+')>=0]"
   ]
  },
  {
   "cell_type": "code",
   "execution_count": null,
   "metadata": {},
   "outputs": [],
   "source": []
  }
 ],
 "metadata": {
  "kernelspec": {
   "display_name": "Python 3",
   "language": "python",
   "name": "python3"
  },
  "language_info": {
   "codemirror_mode": {
    "name": "ipython",
    "version": 3
   },
   "file_extension": ".py",
   "mimetype": "text/x-python",
   "name": "python",
   "nbconvert_exporter": "python",
   "pygments_lexer": "ipython3",
   "version": "3.5.2"
  }
 },
 "nbformat": 4,
 "nbformat_minor": 2
}
