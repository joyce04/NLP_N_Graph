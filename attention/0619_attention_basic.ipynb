{
 "cells": [
  {
   "cell_type": "markdown",
   "metadata": {},
   "source": [
    "Ref\n",
    "- https://github.com/philipperemy/keras-attention-mechanism"
   ]
  },
  {
   "cell_type": "code",
   "execution_count": 1,
   "metadata": {},
   "outputs": [],
   "source": [
    "# can attention model figure out dependent variable\n",
    "# ex) v = vector with 32 values\n",
    "# v[1] == target & all other values are randomly chosen\n",
    "# can the model understand the importance of v[1]?"
   ]
  },
  {
   "cell_type": "code",
   "execution_count": 2,
   "metadata": {},
   "outputs": [
    {
     "name": "stderr",
     "output_type": "stream",
     "text": [
      "Using TensorFlow backend.\n"
     ]
    }
   ],
   "source": [
    "import numpy as np\n",
    "from keras import backend as K\n",
    "from keras.models import *\n",
    "from keras.layers import Input, Dense, multiply\n",
    "from keras.layers.recurrent import LSTM\n",
    "from keras.layers.core import *\n",
    "import matplotlib.pyplot as plt\n",
    "import pandas as pd"
   ]
  },
  {
   "cell_type": "code",
   "execution_count": 3,
   "metadata": {},
   "outputs": [],
   "source": [
    "data_c = 10000\n",
    "input_dims = 32\n",
    "attention_column = 7"
   ]
  },
  {
   "cell_type": "code",
   "execution_count": 4,
   "metadata": {},
   "outputs": [],
   "source": [
    "def get_activations(model, inputs, print_shape_only=False, layer_name=None):\n",
    "    activations = []\n",
    "#     inp =  model.input\n",
    "    if layer_name is None:\n",
    "        outputs = [layer.output for layer in model.layers]\n",
    "    else:\n",
    "        outputs = [layer.output for layer in model.layers if layer.name==layer_name]\n",
    "#     print(model.layers)\n",
    "#     print(outputs)\n",
    "    funcs = [K.function([model.input] + [K.learning_phase()], [out]) for out in outputs]\n",
    "    layer_outputs = [func([inputs, 1.])[0] for func in funcs]\n",
    "    for layer_activations in layer_outputs:\n",
    "        activations.append(layer_activations)\n",
    "        if print_shape_only:\n",
    "            print(layer_activations.shape)\n",
    "        else:\n",
    "            print(layer_activations)\n",
    "    return activations"
   ]
  },
  {
   "cell_type": "code",
   "execution_count": 5,
   "metadata": {},
   "outputs": [],
   "source": [
    "def generate_date(batch_size, input_size, attention_index):\n",
    "    train_x = np.random.standard_normal(size=(batch_size, input_size))\n",
    "    train_y = np.random.randint(low=0, high=2, size=(batch_size, 1))\n",
    "    train_x[:, attention_index] = train_y[:, 0]\n",
    "    return (train_x, train_y)\n",
    "\n",
    "train_x, train_y = generate_date(data_c, input_dims, attention_column)\n",
    "test_x, test_y = generate_date(1, input_dims, attention_column)"
   ]
  },
  {
   "cell_type": "markdown",
   "metadata": {},
   "source": [
    "### Dense- Attention"
   ]
  },
  {
   "cell_type": "code",
   "execution_count": 6,
   "metadata": {},
   "outputs": [],
   "source": [
    "def build_model():\n",
    "    # input layer\n",
    "    input_layer = Input(shape=(input_dims,))\n",
    "    \n",
    "    # attention layer\n",
    "    attention_prob = Dense(input_dims, activation='softmax', name='attention_vec')(input_layer)\n",
    "    attention_mul = multiply([input_layer, attention_prob])\n",
    "    \n",
    "    # fully connected layer\n",
    "    y = Dense(64)(attention_mul)\n",
    "    y = Dense(1, activation='sigmoid')(y)\n",
    "    \n",
    "    model = Model(input_layer, y)\n",
    "    return model"
   ]
  },
  {
   "cell_type": "code",
   "execution_count": 7,
   "metadata": {},
   "outputs": [
    {
     "name": "stdout",
     "output_type": "stream",
     "text": [
      "WARNING:tensorflow:From /home/madigun/.pyenv/versions/3.6.7/envs/grace_jupyter/lib/python3.6/site-packages/tensorflow/python/framework/op_def_library.py:263: colocate_with (from tensorflow.python.framework.ops) is deprecated and will be removed in a future version.\n",
      "Instructions for updating:\n",
      "Colocations handled automatically by placer.\n"
     ]
    }
   ],
   "source": [
    "model = build_model()\n",
    "model.compile(optimizer='adam', loss='binary_crossentropy', metrics=['accuracy'])"
   ]
  },
  {
   "cell_type": "code",
   "execution_count": 8,
   "metadata": {},
   "outputs": [
    {
     "name": "stdout",
     "output_type": "stream",
     "text": [
      "__________________________________________________________________________________________________\n",
      "Layer (type)                    Output Shape         Param #     Connected to                     \n",
      "==================================================================================================\n",
      "input_1 (InputLayer)            (None, 32)           0                                            \n",
      "__________________________________________________________________________________________________\n",
      "attention_vec (Dense)           (None, 32)           1056        input_1[0][0]                    \n",
      "__________________________________________________________________________________________________\n",
      "multiply_1 (Multiply)           (None, 32)           0           input_1[0][0]                    \n",
      "                                                                 attention_vec[0][0]              \n",
      "__________________________________________________________________________________________________\n",
      "dense_1 (Dense)                 (None, 64)           2112        multiply_1[0][0]                 \n",
      "__________________________________________________________________________________________________\n",
      "dense_2 (Dense)                 (None, 1)            65          dense_1[0][0]                    \n",
      "==================================================================================================\n",
      "Total params: 3,233\n",
      "Trainable params: 3,233\n",
      "Non-trainable params: 0\n",
      "__________________________________________________________________________________________________\n"
     ]
    }
   ],
   "source": [
    "model.summary()"
   ]
  },
  {
   "cell_type": "code",
   "execution_count": 9,
   "metadata": {},
   "outputs": [
    {
     "name": "stdout",
     "output_type": "stream",
     "text": [
      "WARNING:tensorflow:From /home/madigun/.pyenv/versions/3.6.7/envs/grace_jupyter/lib/python3.6/site-packages/tensorflow/python/ops/math_ops.py:3066: to_int32 (from tensorflow.python.ops.math_ops) is deprecated and will be removed in a future version.\n",
      "Instructions for updating:\n",
      "Use tf.cast instead.\n",
      "Train on 8000 samples, validate on 2000 samples\n",
      "Epoch 1/10\n",
      " - 0s - loss: 0.6775 - acc: 0.6259 - val_loss: 0.6452 - val_acc: 0.7000\n",
      "Epoch 2/10\n",
      " - 0s - loss: 0.5721 - acc: 0.7490 - val_loss: 0.4913 - val_acc: 0.7860\n",
      "Epoch 3/10\n",
      " - 0s - loss: 0.4088 - acc: 0.8345 - val_loss: 0.3253 - val_acc: 0.8845\n",
      "Epoch 4/10\n",
      " - 0s - loss: 0.2351 - acc: 0.9237 - val_loss: 0.1567 - val_acc: 0.9550\n",
      "Epoch 5/10\n",
      " - 0s - loss: 0.0889 - acc: 0.9845 - val_loss: 0.0473 - val_acc: 0.9910\n",
      "Epoch 6/10\n",
      " - 0s - loss: 0.0224 - acc: 0.9988 - val_loss: 0.0135 - val_acc: 0.9995\n",
      "Epoch 7/10\n",
      " - 0s - loss: 0.0067 - acc: 1.0000 - val_loss: 0.0055 - val_acc: 1.0000\n",
      "Epoch 8/10\n",
      " - 0s - loss: 0.0031 - acc: 1.0000 - val_loss: 0.0030 - val_acc: 1.0000\n",
      "Epoch 9/10\n",
      " - 0s - loss: 0.0018 - acc: 1.0000 - val_loss: 0.0019 - val_acc: 1.0000\n",
      "Epoch 10/10\n",
      " - 0s - loss: 0.0012 - acc: 1.0000 - val_loss: 0.0013 - val_acc: 1.0000\n"
     ]
    },
    {
     "data": {
      "text/plain": [
       "<keras.callbacks.History at 0x7fbc80db4da0>"
      ]
     },
     "execution_count": 9,
     "metadata": {},
     "output_type": "execute_result"
    }
   ],
   "source": [
    "model.fit(train_x, train_y, epochs=10, batch_size=64, validation_split=0.2, verbose=2)"
   ]
  },
  {
   "cell_type": "code",
   "execution_count": 10,
   "metadata": {},
   "outputs": [],
   "source": [
    "result = model.evaluate(test_x, test_y, batch_size=64, verbose=0)"
   ]
  },
  {
   "cell_type": "code",
   "execution_count": 11,
   "metadata": {},
   "outputs": [
    {
     "data": {
      "text/plain": [
       "0.0004313574463594705"
      ]
     },
     "execution_count": 11,
     "metadata": {},
     "output_type": "execute_result"
    }
   ],
   "source": [
    "# loss\n",
    "result[0]"
   ]
  },
  {
   "cell_type": "code",
   "execution_count": 12,
   "metadata": {},
   "outputs": [
    {
     "data": {
      "text/plain": [
       "1.0"
      ]
     },
     "execution_count": 12,
     "metadata": {},
     "output_type": "execute_result"
    }
   ],
   "source": [
    "# accuracy\n",
    "result[1]"
   ]
  },
  {
   "cell_type": "code",
   "execution_count": 13,
   "metadata": {},
   "outputs": [
    {
     "data": {
      "text/plain": [
       "[<keras.engine.input_layer.InputLayer at 0x7fbc81bdaf98>,\n",
       " <keras.layers.core.Dense at 0x7fbc819286a0>,\n",
       " <keras.layers.merge.Multiply at 0x7fbc81928240>,\n",
       " <keras.layers.core.Dense at 0x7fbc819284a8>,\n",
       " <keras.layers.core.Dense at 0x7fbc8194db38>]"
      ]
     },
     "execution_count": 13,
     "metadata": {},
     "output_type": "execute_result"
    }
   ],
   "source": [
    "# get attention vector\n",
    "model.layers"
   ]
  },
  {
   "cell_type": "code",
   "execution_count": 14,
   "metadata": {},
   "outputs": [
    {
     "name": "stdout",
     "output_type": "stream",
     "text": [
      "(1, 32)\n"
     ]
    }
   ],
   "source": [
    "attention_vector = get_activations(model, test_x, print_shape_only=True, layer_name='attention_vec')[0].flatten()"
   ]
  },
  {
   "cell_type": "code",
   "execution_count": 15,
   "metadata": {},
   "outputs": [
    {
     "data": {
      "text/plain": [
       "array([0.01689882, 0.01737297, 0.03170816, 0.01617951, 0.04984336,\n",
       "       0.03372724, 0.02441747, 0.16139495, 0.02261229, 0.01316772,\n",
       "       0.03093454, 0.02138949, 0.03498478, 0.0280783 , 0.03912384,\n",
       "       0.02170597, 0.03091755, 0.01832805, 0.01956346, 0.01720782,\n",
       "       0.10320486, 0.03046456, 0.02861659, 0.02076909, 0.01330648,\n",
       "       0.01963806, 0.0172387 , 0.01316991, 0.02872724, 0.02870503,\n",
       "       0.01235922, 0.03424392], dtype=float32)"
      ]
     },
     "execution_count": 15,
     "metadata": {},
     "output_type": "execute_result"
    }
   ],
   "source": [
    "attention_vector"
   ]
  },
  {
   "cell_type": "code",
   "execution_count": 16,
   "metadata": {},
   "outputs": [
    {
     "data": {
      "text/plain": [
       "<matplotlib.axes._subplots.AxesSubplot at 0x7fbc8015ec50>"
      ]
     },
     "execution_count": 16,
     "metadata": {},
     "output_type": "execute_result"
    },
    {
     "data": {
      "image/png": "[encoded data removed]",
      "text/plain": [
       "<Figure size 720x432 with 1 Axes>"
      ]
     },
     "metadata": {
      "needs_background": "light"
     },
     "output_type": "display_data"
    }
   ],
   "source": [
    "pd.DataFrame(attention_vector, columns=['attention (%)']).plot(figsize=(10, 6), kind='bar', title='attention vector')\n",
    "# plt.show()"
   ]
  },
  {
   "cell_type": "markdown",
   "metadata": {},
   "source": [
    "### LSTM - Attention"
   ]
  },
  {
   "cell_type": "code",
   "execution_count": 17,
   "metadata": {},
   "outputs": [],
   "source": [
    "data_c = 300000\n",
    "input_dims = 2\n",
    "time_steps = 20\n",
    "# true = attention vector is shared across the input_dimensions\n",
    "SINGEL_ATTENTION_VECTOR = False\n",
    "\n",
    "# APPLY_ATTENTION_BEFORE_LSTM = False\n",
    "APPLY_ATTENTION_BEFORE_LSTM = True"
   ]
  },
  {
   "cell_type": "code",
   "execution_count": 18,
   "metadata": {},
   "outputs": [],
   "source": [
    "def generate_recurrent_data(batch_size, time_steps, input_dims, attention_column=10):\n",
    "    train_x = np.random.standard_normal(size=(batch_size, time_steps, input_dims))\n",
    "    train_y = np.random.randint(low=0, high=2, size=(batch_size, 1))\n",
    "    train_x[:, attention_column, :] = np.tile(train_y[:], (1, input_dims))\n",
    "    return train_x, train_y\n",
    "\n",
    "train_rx, train_ry = generate_recurrent_data(data_c, time_steps, input_dims)"
   ]
  },
  {
   "cell_type": "code",
   "execution_count": 19,
   "metadata": {},
   "outputs": [],
   "source": [
    "def attention_3d_block(time_steps, input_layer, single_attention_vector):\n",
    "    input_dim = int(input_layer.shape[2])\n",
    "    a = Permute((2, 1))(input_layer)\n",
    "    a = Reshape((input_dim, time_steps))(a)\n",
    "    a = Dense(time_steps, activation='softmax')(a)\n",
    "    if single_attention_vector:\n",
    "        a = Lambda(lambda x: K.mean(x, axis=1), name='dim_reduction')(a)\n",
    "        a = RepeatVector(input_dim)(a)\n",
    "    \n",
    "    a_probs = Permute((2, 1), name='attention_vec')(a)\n",
    "#     a_probs = Permute((2, 1))(a)\n",
    "    output_attention_mul = multiply([input_layer, a_probs], name='attention_mul')\n",
    "#     output_attention_mul = multiply([input_layer, a_probs])\n",
    "    return output_attention_mul\n",
    "    \n",
    "#     https://github.com/philipperemy/keras-attention-mechanism/blob/master/attention_lstm.py"
   ]
  },
  {
   "cell_type": "code",
   "execution_count": 20,
   "metadata": {},
   "outputs": [],
   "source": [
    "# apply on inputs\n",
    "def model_atten_before_lstm(time_steps, input_dims):\n",
    "    input_layer = Input(shape=(time_steps, input_dims))\n",
    "    attention_mul = attention_3d_block(time_steps, input_layer, SINGEL_ATTENTION_VECTOR)\n",
    "    lstm_units = 32\n",
    "    attention_mul = LSTM(lstm_units, return_sequences=True)(attention_mul)\n",
    "    output = Dense(1, activation='sigmoid')(attention_mul)\n",
    "    model = Model(input=[input_layer], output=output)\n",
    "    return model\n",
    "\n",
    "# apply on outputs\n",
    "def model_atten_after_lstm(time_steps, input_dims):\n",
    "    input_layer = Input(shape=(time_steps, input_dims, ))\n",
    "    lstm_units = 32\n",
    "    lstm_out = LSTM(lstm_units, return_sequences=True)(input_layer)\n",
    "    attention_mul = attention_3d_block(time_steps, lstm_out, SINGEL_ATTENTION_VECTOR)\n",
    "    attention_mul  = Flatten()(attention_mul)\n",
    "    output = Dense(1, activation='sigmoid')(attention_mul)\n",
    "    model = Model(input=[input_layer], output=output)\n",
    "    return model"
   ]
  },
  {
   "cell_type": "code",
   "execution_count": 21,
   "metadata": {},
   "outputs": [
    {
     "name": "stderr",
     "output_type": "stream",
     "text": [
      "/home/madigun/.pyenv/versions/3.6.7/envs/grace_jupyter/lib/python3.6/site-packages/ipykernel_launcher.py:8: UserWarning: Update your `Model` call to the Keras 2 API: `Model(inputs=[<tf.Tenso..., outputs=Tensor(\"de...)`\n",
      "  \n"
     ]
    }
   ],
   "source": [
    "if APPLY_ATTENTION_BEFORE_LSTM:\n",
    "    model = model_atten_before_lstm(time_steps, input_dims)\n",
    "else:\n",
    "    model = model_atten_after_lstm(time_steps, input_dims)\n",
    "    \n",
    "model.compile(optimizer='adam', loss='binary_crossentropy', metrics=['accuracy'])"
   ]
  },
  {
   "cell_type": "code",
   "execution_count": 22,
   "metadata": {},
   "outputs": [
    {
     "name": "stdout",
     "output_type": "stream",
     "text": [
      "__________________________________________________________________________________________________\n",
      "Layer (type)                    Output Shape         Param #     Connected to                     \n",
      "==================================================================================================\n",
      "input_2 (InputLayer)            (None, 20, 2)        0                                            \n",
      "__________________________________________________________________________________________________\n",
      "permute_1 (Permute)             (None, 2, 20)        0           input_2[0][0]                    \n",
      "__________________________________________________________________________________________________\n",
      "reshape_1 (Reshape)             (None, 2, 20)        0           permute_1[0][0]                  \n",
      "__________________________________________________________________________________________________\n",
      "dense_3 (Dense)                 (None, 2, 20)        420         reshape_1[0][0]                  \n",
      "__________________________________________________________________________________________________\n",
      "attention_vec (Permute)         (None, 20, 2)        0           dense_3[0][0]                    \n",
      "__________________________________________________________________________________________________\n",
      "attention_mul (Multiply)        (None, 20, 2)        0           input_2[0][0]                    \n",
      "                                                                 attention_vec[0][0]              \n",
      "__________________________________________________________________________________________________\n",
      "lstm_1 (LSTM)                   (None, 20, 32)       4480        attention_mul[0][0]              \n",
      "__________________________________________________________________________________________________\n",
      "dense_4 (Dense)                 (None, 20, 1)        33          lstm_1[0][0]                     \n",
      "==================================================================================================\n",
      "Total params: 4,933\n",
      "Trainable params: 4,933\n",
      "Non-trainable params: 0\n",
      "__________________________________________________________________________________________________\n"
     ]
    }
   ],
   "source": [
    "model.summary()"
   ]
  },
  {
   "cell_type": "code",
   "execution_count": 23,
   "metadata": {},
   "outputs": [
    {
     "name": "stdout",
     "output_type": "stream",
     "text": [
      "(1, 20, 2)\n",
      "attention =  [-0.05047991 -0.00162791 -0.037816   -0.01665853 -0.00303603 -0.06609426\n",
      " -0.01130904 -0.00931512 -0.00420064  0.02398755  0.05528329 -0.00245764\n",
      "  0.2958654   0.01233708  0.04457321 -0.01258763  0.07020381  0.01963383\n",
      " -0.01422871  0.00290396]\n",
      "(1, 20, 2)\n",
      "(1, 20, 2)\n",
      "(1, 20, 2)\n",
      "(1, 20, 2)\n",
      "(1, 20, 2)\n",
      "(1, 20, 2)\n",
      "(1, 20, 2)\n",
      "(1, 20, 2)\n",
      "(1, 20, 2)\n",
      "(1, 20, 2)\n",
      "(1, 20, 2)\n",
      "(1, 20, 2)\n",
      "(1, 20, 2)\n",
      "(1, 20, 2)\n",
      "(1, 20, 2)\n",
      "(1, 20, 2)\n",
      "(1, 20, 2)\n",
      "(1, 20, 2)\n",
      "(1, 20, 2)\n",
      "(1, 20, 2)\n",
      "(1, 20, 2)\n",
      "(1, 20, 2)\n",
      "(1, 20, 2)\n",
      "(1, 20, 2)\n",
      "(1, 20, 2)\n",
      "(1, 20, 2)\n",
      "(1, 20, 2)\n",
      "(1, 20, 2)\n",
      "(1, 20, 2)\n",
      "(1, 20, 2)\n",
      "(1, 20, 2)\n",
      "(1, 20, 2)\n",
      "(1, 20, 2)\n",
      "(1, 20, 2)\n",
      "(1, 20, 2)\n",
      "(1, 20, 2)\n",
      "(1, 20, 2)\n",
      "(1, 20, 2)\n",
      "(1, 20, 2)\n",
      "(1, 20, 2)\n",
      "(1, 20, 2)\n",
      "(1, 20, 2)\n",
      "(1, 20, 2)\n",
      "(1, 20, 2)\n",
      "(1, 20, 2)\n",
      "(1, 20, 2)\n",
      "(1, 20, 2)\n",
      "(1, 20, 2)\n",
      "(1, 20, 2)\n",
      "(1, 20, 2)\n",
      "attention =  [-0.03533969  0.0246401  -0.00700516 -0.00271032  0.04707222 -0.00416335\n",
      "  0.00270275  0.02283018  0.03365798  0.0570839   0.         -0.01785267\n",
      " -0.03114893 -0.0518785  -0.02901185 -0.02222406 -0.01563965  0.01455854\n",
      " -0.025893    0.01338897]\n",
      "(1, 20, 2)\n",
      "(1, 20, 2)\n",
      "(1, 20, 2)\n",
      "(1, 20, 2)\n",
      "(1, 20, 2)\n",
      "(1, 20, 2)\n",
      "(1, 20, 2)\n",
      "(1, 20, 2)\n",
      "(1, 20, 2)\n",
      "(1, 20, 2)\n",
      "(1, 20, 2)\n",
      "(1, 20, 2)\n",
      "(1, 20, 2)\n",
      "(1, 20, 2)\n",
      "(1, 20, 2)\n",
      "(1, 20, 2)\n",
      "(1, 20, 2)\n",
      "(1, 20, 2)\n",
      "(1, 20, 2)\n",
      "(1, 20, 2)\n",
      "(1, 20, 2)\n",
      "(1, 20, 2)\n",
      "(1, 20, 2)\n",
      "(1, 20, 2)\n",
      "(1, 20, 2)\n",
      "(1, 20, 2)\n",
      "(1, 20, 2)\n",
      "(1, 20, 2)\n",
      "(1, 20, 2)\n",
      "(1, 20, 2)\n",
      "(1, 20, 2)\n",
      "(1, 20, 2)\n",
      "(1, 20, 2)\n",
      "(1, 20, 2)\n",
      "(1, 20, 2)\n",
      "(1, 20, 2)\n",
      "(1, 20, 2)\n",
      "(1, 20, 2)\n",
      "(1, 20, 2)\n",
      "(1, 20, 2)\n",
      "(1, 20, 2)\n",
      "(1, 20, 2)\n",
      "(1, 20, 2)\n",
      "(1, 20, 2)\n",
      "(1, 20, 2)\n",
      "(1, 20, 2)\n",
      "(1, 20, 2)\n",
      "(1, 20, 2)\n",
      "(1, 20, 2)\n",
      "(1, 20, 2)\n",
      "attention =  [-0.01344921  0.00235358 -0.04176329 -0.1459367  -0.00947844  0.01427691\n",
      "  0.02516806 -0.0159712  -0.01055146 -0.06630018  0.          0.01721878\n",
      " -0.12676843  0.04387463 -0.01418864  0.0082344   0.00877747  0.00686299\n",
      " -0.01056548 -0.00725886]\n",
      "(1, 20, 2)\n",
      "(1, 20, 2)\n",
      "(1, 20, 2)\n",
      "(1, 20, 2)\n",
      "(1, 20, 2)\n",
      "(1, 20, 2)\n",
      "(1, 20, 2)\n",
      "(1, 20, 2)\n",
      "(1, 20, 2)\n",
      "(1, 20, 2)\n",
      "(1, 20, 2)\n",
      "(1, 20, 2)\n",
      "(1, 20, 2)\n",
      "(1, 20, 2)\n",
      "(1, 20, 2)\n",
      "(1, 20, 2)\n",
      "(1, 20, 2)\n",
      "(1, 20, 2)\n",
      "(1, 20, 2)\n",
      "(1, 20, 2)\n",
      "(1, 20, 2)\n",
      "(1, 20, 2)\n",
      "(1, 20, 2)\n",
      "(1, 20, 2)\n",
      "(1, 20, 2)\n",
      "(1, 20, 2)\n",
      "(1, 20, 2)\n",
      "(1, 20, 2)\n",
      "(1, 20, 2)\n",
      "(1, 20, 2)\n",
      "(1, 20, 2)\n",
      "(1, 20, 2)\n",
      "(1, 20, 2)\n",
      "(1, 20, 2)\n",
      "(1, 20, 2)\n",
      "(1, 20, 2)\n",
      "(1, 20, 2)\n",
      "(1, 20, 2)\n",
      "(1, 20, 2)\n",
      "(1, 20, 2)\n",
      "(1, 20, 2)\n",
      "(1, 20, 2)\n",
      "(1, 20, 2)\n",
      "(1, 20, 2)\n",
      "(1, 20, 2)\n",
      "(1, 20, 2)\n",
      "(1, 20, 2)\n",
      "(1, 20, 2)\n",
      "(1, 20, 2)\n",
      "(1, 20, 2)\n",
      "attention =  [-0.02289453 -0.0018416  -0.00984958 -0.00767971 -0.02473009 -0.01404429\n",
      " -0.02404571  0.02387759 -0.05266433 -0.01755241  0.         -0.01581258\n",
      " -0.02481593 -0.00894433 -0.01904716  0.02452868  0.02825245  0.00470702\n",
      "  0.0132734   0.0240137 ]\n",
      "(1, 20, 2)\n",
      "(1, 20, 2)\n",
      "(1, 20, 2)\n",
      "(1, 20, 2)\n",
      "(1, 20, 2)\n",
      "(1, 20, 2)\n",
      "(1, 20, 2)\n",
      "(1, 20, 2)\n",
      "(1, 20, 2)\n",
      "(1, 20, 2)\n",
      "(1, 20, 2)\n",
      "(1, 20, 2)\n",
      "(1, 20, 2)\n",
      "(1, 20, 2)\n",
      "(1, 20, 2)\n",
      "(1, 20, 2)\n",
      "(1, 20, 2)\n",
      "(1, 20, 2)\n",
      "(1, 20, 2)\n",
      "(1, 20, 2)\n",
      "(1, 20, 2)\n",
      "(1, 20, 2)\n",
      "(1, 20, 2)\n",
      "(1, 20, 2)\n",
      "(1, 20, 2)\n",
      "(1, 20, 2)\n",
      "(1, 20, 2)\n",
      "(1, 20, 2)\n",
      "(1, 20, 2)\n",
      "(1, 20, 2)\n",
      "(1, 20, 2)\n",
      "(1, 20, 2)\n",
      "(1, 20, 2)\n",
      "(1, 20, 2)\n",
      "(1, 20, 2)\n",
      "(1, 20, 2)\n",
      "(1, 20, 2)\n",
      "(1, 20, 2)\n",
      "(1, 20, 2)\n",
      "(1, 20, 2)\n",
      "(1, 20, 2)\n",
      "(1, 20, 2)\n",
      "(1, 20, 2)\n",
      "(1, 20, 2)\n",
      "(1, 20, 2)\n",
      "(1, 20, 2)\n",
      "(1, 20, 2)\n",
      "(1, 20, 2)\n",
      "(1, 20, 2)\n",
      "(1, 20, 2)\n",
      "attention =  [-0.09245759 -0.02437807  0.01357461 -0.02182626 -0.00358232  0.06120028\n",
      " -0.02756603  0.02418732  0.01696907  0.06232468  0.          0.00366089\n",
      " -0.03004107 -0.01199253  0.01349421  0.01643945  0.00181814 -0.0004367\n",
      " -0.0196473  -0.00114007]\n",
      "(1, 20, 2)\n",
      "(1, 20, 2)\n",
      "(1, 20, 2)\n",
      "(1, 20, 2)\n",
      "(1, 20, 2)\n",
      "(1, 20, 2)\n",
      "(1, 20, 2)\n",
      "(1, 20, 2)\n",
      "(1, 20, 2)\n",
      "(1, 20, 2)\n",
      "(1, 20, 2)\n",
      "(1, 20, 2)\n",
      "(1, 20, 2)\n",
      "(1, 20, 2)\n",
      "(1, 20, 2)\n",
      "(1, 20, 2)\n",
      "(1, 20, 2)\n",
      "(1, 20, 2)\n",
      "(1, 20, 2)\n",
      "(1, 20, 2)\n",
      "(1, 20, 2)\n",
      "(1, 20, 2)\n",
      "(1, 20, 2)\n",
      "(1, 20, 2)\n",
      "(1, 20, 2)\n",
      "(1, 20, 2)\n",
      "(1, 20, 2)\n",
      "(1, 20, 2)\n",
      "(1, 20, 2)\n",
      "(1, 20, 2)\n",
      "(1, 20, 2)\n",
      "(1, 20, 2)\n",
      "(1, 20, 2)\n",
      "(1, 20, 2)\n",
      "(1, 20, 2)\n",
      "(1, 20, 2)\n",
      "(1, 20, 2)\n",
      "(1, 20, 2)\n",
      "(1, 20, 2)\n",
      "(1, 20, 2)\n",
      "(1, 20, 2)\n",
      "(1, 20, 2)\n",
      "(1, 20, 2)\n",
      "(1, 20, 2)\n",
      "(1, 20, 2)\n",
      "(1, 20, 2)\n",
      "(1, 20, 2)\n",
      "(1, 20, 2)\n",
      "(1, 20, 2)\n",
      "(1, 20, 2)\n",
      "attention =  [-0.01810112  0.00211079  0.00089197  0.01151251 -0.03595388 -0.02263347\n",
      "  0.00171555 -0.00809218  0.01122199  0.04897642  0.          0.02785493\n",
      "  0.0367366  -0.04262277  0.00542244 -0.04414349 -0.0086218   0.00908662\n",
      "  0.0158181  -0.00608383]\n",
      "(1, 20, 2)\n",
      "(1, 20, 2)\n",
      "(1, 20, 2)\n",
      "(1, 20, 2)\n",
      "(1, 20, 2)\n",
      "(1, 20, 2)\n",
      "(1, 20, 2)\n",
      "(1, 20, 2)\n",
      "(1, 20, 2)\n",
      "(1, 20, 2)\n",
      "(1, 20, 2)\n",
      "(1, 20, 2)\n",
      "(1, 20, 2)\n",
      "(1, 20, 2)\n",
      "(1, 20, 2)\n",
      "(1, 20, 2)\n",
      "(1, 20, 2)\n",
      "(1, 20, 2)\n",
      "(1, 20, 2)\n",
      "(1, 20, 2)\n",
      "(1, 20, 2)\n",
      "(1, 20, 2)\n",
      "(1, 20, 2)\n",
      "(1, 20, 2)\n",
      "(1, 20, 2)\n",
      "(1, 20, 2)\n",
      "(1, 20, 2)\n",
      "(1, 20, 2)\n",
      "(1, 20, 2)\n",
      "(1, 20, 2)\n",
      "(1, 20, 2)\n",
      "(1, 20, 2)\n",
      "(1, 20, 2)\n",
      "(1, 20, 2)\n",
      "(1, 20, 2)\n",
      "(1, 20, 2)\n",
      "(1, 20, 2)\n",
      "(1, 20, 2)\n",
      "(1, 20, 2)\n",
      "(1, 20, 2)\n",
      "(1, 20, 2)\n",
      "(1, 20, 2)\n",
      "(1, 20, 2)\n",
      "(1, 20, 2)\n",
      "(1, 20, 2)\n",
      "(1, 20, 2)\n",
      "(1, 20, 2)\n",
      "(1, 20, 2)\n",
      "(1, 20, 2)\n"
     ]
    }
   ],
   "source": [
    "attention_vectors = []\n",
    "for i in range(300):\n",
    "    test_rx, test_ry = generate_recurrent_data(1, time_steps, input_dims)\n",
    "    attention_vector = np.mean(get_activations(model, test_rx, print_shape_only=True, layer_name='attention_mul')[0], axis=2).squeeze()\n",
    "    if i % 50 ==0:\n",
    "        print('attention = ', attention_vector)\n",
    "        assert(np.sum(attention_vector)-1.0) < 1e-5\n",
    "    attention_vectors.append(attention_vector)"
   ]
  },
  {
   "cell_type": "code",
   "execution_count": 29,
   "metadata": {},
   "outputs": [
    {
     "data": {
      "text/plain": [
       "array([-0.01180851,  0.00585801, -0.01409213, -0.02533209, -0.00676676,\n",
       "        0.00494408, -0.00210614,  0.00672438,  0.01409456,  0.00407073,\n",
       "        0.0303301 ,  0.0123538 , -0.01600493,  0.01308461,  0.00420127,\n",
       "       -0.00927497, -0.0078468 , -0.00122156, -0.01200515, -0.00425543],\n",
       "      dtype=float32)"
      ]
     },
     "execution_count": 29,
     "metadata": {},
     "output_type": "execute_result"
    }
   ],
   "source": [
    "attention_vector_final = np.mean(np.array(attention_vectors), axis=0)\n",
    "attention_vector_final"
   ]
  },
  {
   "cell_type": "code",
   "execution_count": 25,
   "metadata": {},
   "outputs": [
    {
     "data": {
      "text/plain": [
       "<matplotlib.axes._subplots.AxesSubplot at 0x7fbc780ae6d8>"
      ]
     },
     "execution_count": 25,
     "metadata": {},
     "output_type": "execute_result"
    },
    {
     "data": {
      "image/png": "[encoded data removed]",
      "text/plain": [
       "<Figure size 432x288 with 1 Axes>"
      ]
     },
     "metadata": {
      "needs_background": "light"
     },
     "output_type": "display_data"
    }
   ],
   "source": [
    "pd.DataFrame(attention_vector_final, columns=['attention (%)']).plot(kind='bar',\n",
    "                                                                    title='Attention mechanism as a function of input dimensions')"
   ]
  },
  {
   "cell_type": "code",
   "execution_count": 26,
   "metadata": {},
   "outputs": [],
   "source": []
  }
 ],
 "metadata": {
  "kernelspec": {
   "display_name": "grace_python",
   "language": "python",
   "name": "grace_jupyter"
  },
  "language_info": {
   "codemirror_mode": {
    "name": "ipython",
    "version": 3
   },
   "file_extension": ".py",
   "mimetype": "text/x-python",
   "name": "python",
   "nbconvert_exporter": "python",
   "pygments_lexer": "ipython3",
   "version": "3.6.7"
  }
 },
 "nbformat": 4,
 "nbformat_minor": 2
}
