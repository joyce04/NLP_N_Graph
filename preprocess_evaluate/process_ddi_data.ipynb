{
 "cells": [
  {
   "cell_type": "code",
   "execution_count": 2,
   "metadata": {},
   "outputs": [],
   "source": [
    "import os\n",
    "from xml.dom import minidom"
   ]
  },
  {
   "cell_type": "markdown",
   "metadata": {},
   "source": [
    "DATA SOURCE : https://www.cs.york.ac.uk/semeval-2013/task9/index.php%3Fid=data.html"
   ]
  },
  {
   "cell_type": "code",
   "execution_count": 3,
   "metadata": {},
   "outputs": [],
   "source": [
    "file_locs = ['/Users/grace/workspace/bio_dataset/semeval_task9_train_pair/Train/MedLine',\n",
    "            '/Users/grace/workspace/bio_dataset/semeval_task9_train_pair/Train/DrugBank']\n",
    "\n",
    "entities = []\n",
    "sents = []\n",
    "for file_loc in file_locs:\n",
    "    medlines = os.listdir(file_loc)\n",
    "\n",
    "    for med in medlines:\n",
    "        doc = minidom.parse(file_loc+'/'+med)\n",
    "        items = doc.getElementsByTagName('document')\n",
    "        doc_id = items[0].attributes['id'].value\n",
    "\n",
    "        for sent in doc.getElementsByTagName('sentence'):\n",
    "            sent_id = sent.attributes['id'].value\n",
    "            sent_text = sent.attributes['text'].value\n",
    "            if sent_text.strip():\n",
    "                sents.append({'id':sent_id, 'sent':sent_text})\n",
    "\n",
    "            for ent in sent.getElementsByTagName('entity'):\n",
    "    #             ent_id = ent.attributes['id'].value\n",
    "    #             ent_charOffset = ent.attributes['charOffset'].value\n",
    "                ent_type = ent.attributes['type'].value.strip()\n",
    "                ent_text = ent.attributes['text'].value.lower().strip()\n",
    "\n",
    "    #             if ent_type in entities.keys():\n",
    "    #                 entities[ent_type].append(ent_text)\n",
    "    #             else:\n",
    "                entities.append({'type':ent_type, 'entity':ent_text})\n"
   ]
  },
  {
   "cell_type": "code",
   "execution_count": 4,
   "metadata": {},
   "outputs": [],
   "source": [
    "import pandas as pd"
   ]
  },
  {
   "cell_type": "code",
   "execution_count": 5,
   "metadata": {},
   "outputs": [
    {
     "name": "stdout",
     "output_type": "stream",
     "text": [
      "(14765, 2)\n",
      "(2430, 2)\n"
     ]
    }
   ],
   "source": [
    "# for key, ent in entities.items():\n",
    "#     print(key)\n",
    "#     entities[key] = list(set(ent))\n",
    "#     print(len(entities[key]))\n",
    "\n",
    "# entities\n",
    "\n",
    "ents = pd.DataFrame(entities)\n",
    "print(ents.shape)\n",
    "\n",
    "ents.drop_duplicates(inplace=True)\n",
    "print(ents.shape)\n",
    "ents.to_csv('./entity_dic_ddi.csv', sep=',', header=None, index=None)"
   ]
  },
  {
   "cell_type": "code",
   "execution_count": 6,
   "metadata": {},
   "outputs": [],
   "source": [
    "pd.DataFrame(sents).to_csv('./ddi_sent.csv', sep=',', index=None)\n",
    "pd.DataFrame(sents).to_csv('./ddi_sent_wo_header.csv', sep=',', header=None, index=None)"
   ]
  },
  {
   "cell_type": "code",
   "execution_count": 7,
   "metadata": {},
   "outputs": [
    {
     "data": {
      "text/html": [
       "<div>\n",
       "<style scoped>\n",
       "    .dataframe tbody tr th:only-of-type {\n",
       "        vertical-align: middle;\n",
       "    }\n",
       "\n",
       "    .dataframe tbody tr th {\n",
       "        vertical-align: top;\n",
       "    }\n",
       "\n",
       "    .dataframe thead th {\n",
       "        text-align: right;\n",
       "    }\n",
       "</style>\n",
       "<table border=\"1\" class=\"dataframe\">\n",
       "  <thead>\n",
       "    <tr style=\"text-align: right;\">\n",
       "      <th></th>\n",
       "      <th>id</th>\n",
       "      <th>sent</th>\n",
       "    </tr>\n",
       "  </thead>\n",
       "  <tbody>\n",
       "    <tr>\n",
       "      <th>0</th>\n",
       "      <td>DDI-MedLine.d69.s0</td>\n",
       "      <td>Differential regulation of tyrosine phosphoryl...</td>\n",
       "    </tr>\n",
       "    <tr>\n",
       "      <th>1</th>\n",
       "      <td>DDI-MedLine.d69.s1</td>\n",
       "      <td>The homodimeric disintegrin contortrostatin wa...</td>\n",
       "    </tr>\n",
       "    <tr>\n",
       "      <th>2</th>\n",
       "      <td>DDI-MedLine.d69.s2</td>\n",
       "      <td>It was observed that contortrostatin had a dra...</td>\n",
       "    </tr>\n",
       "    <tr>\n",
       "      <th>3</th>\n",
       "      <td>DDI-MedLine.d69.s3</td>\n",
       "      <td>Echistatin alone had no effect on tyrosine pho...</td>\n",
       "    </tr>\n",
       "    <tr>\n",
       "      <th>4</th>\n",
       "      <td>DDI-MedLine.d69.s4</td>\n",
       "      <td>Among the proteins that undergo tyrosine phosp...</td>\n",
       "    </tr>\n",
       "  </tbody>\n",
       "</table>\n",
       "</div>"
      ],
      "text/plain": [
       "                   id                                               sent\n",
       "0  DDI-MedLine.d69.s0  Differential regulation of tyrosine phosphoryl...\n",
       "1  DDI-MedLine.d69.s1  The homodimeric disintegrin contortrostatin wa...\n",
       "2  DDI-MedLine.d69.s2  It was observed that contortrostatin had a dra...\n",
       "3  DDI-MedLine.d69.s3  Echistatin alone had no effect on tyrosine pho...\n",
       "4  DDI-MedLine.d69.s4  Among the proteins that undergo tyrosine phosp..."
      ]
     },
     "execution_count": 7,
     "metadata": {},
     "output_type": "execute_result"
    }
   ],
   "source": [
    "pd.read_csv('./ddi_sent.csv', sep=',').head()"
   ]
  },
  {
   "cell_type": "code",
   "execution_count": 8,
   "metadata": {},
   "outputs": [
    {
     "data": {
      "text/html": [
       "<div>\n",
       "<style scoped>\n",
       "    .dataframe tbody tr th:only-of-type {\n",
       "        vertical-align: middle;\n",
       "    }\n",
       "\n",
       "    .dataframe tbody tr th {\n",
       "        vertical-align: top;\n",
       "    }\n",
       "\n",
       "    .dataframe thead th {\n",
       "        text-align: right;\n",
       "    }\n",
       "</style>\n",
       "<table border=\"1\" class=\"dataframe\">\n",
       "  <thead>\n",
       "    <tr style=\"text-align: right;\">\n",
       "      <th></th>\n",
       "      <th>id</th>\n",
       "      <th>sent</th>\n",
       "    </tr>\n",
       "  </thead>\n",
       "  <tbody>\n",
       "  </tbody>\n",
       "</table>\n",
       "</div>"
      ],
      "text/plain": [
       "Empty DataFrame\n",
       "Columns: [id, sent]\n",
       "Index: []"
      ]
     },
     "execution_count": 8,
     "metadata": {},
     "output_type": "execute_result"
    }
   ],
   "source": [
    "df_sent = pd.DataFrame(sents)\n",
    "df_sent.loc[df_sent.sent.isnull()]"
   ]
  },
  {
   "cell_type": "code",
   "execution_count": 9,
   "metadata": {},
   "outputs": [
    {
     "data": {
      "text/plain": [
       "(6905, 2)"
      ]
     },
     "execution_count": 9,
     "metadata": {},
     "output_type": "execute_result"
    }
   ],
   "source": [
    "df_sent.shape"
   ]
  },
  {
   "cell_type": "code",
   "execution_count": null,
   "metadata": {},
   "outputs": [],
   "source": []
  }
 ],
 "metadata": {
  "kernelspec": {
   "display_name": "Python 3",
   "language": "python",
   "name": "python3"
  },
  "language_info": {
   "codemirror_mode": {
    "name": "ipython",
    "version": 3
   },
   "file_extension": ".py",
   "mimetype": "text/x-python",
   "name": "python",
   "nbconvert_exporter": "python",
   "pygments_lexer": "ipython3",
   "version": "3.6.4"
  }
 },
 "nbformat": 4,
 "nbformat_minor": 2
}
