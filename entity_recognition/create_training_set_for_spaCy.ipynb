{
 "cells": [
  {
   "cell_type": "markdown",
   "metadata": {},
   "source": [
    "Spacy for Entity Recognition\n",
    "\n",
    "References :\n",
    "- https://spacy.io/usage/visualizers\n",
    "- https://explosion.ai/blog/deep-learning-formula-nlp\n",
    "- https://spacy.io/usage/training#ner\n",
    "\n",
    "- video \n",
    "https://www.youtube.com/watch?v=l4scwf8KeIA\n",
    "- training \n",
    "https://towardsdatascience.com/a-review-of-named-entity-recognition-ner-using-automatic-summarization-of-resumes-5248a75de175"
   ]
  },
  {
   "cell_type": "markdown",
   "metadata": {},
   "source": [
    "## Creating training dataset\n",
    "\n",
    "- format\n",
    "    - (\"Uber blew through $1 million a week\", {'entities':[(0, 4, 'ORG')]}), "
   ]
  },
  {
   "cell_type": "markdown",
   "metadata": {},
   "source": [
    "### retrieve sample table data"
   ]
  },
  {
   "cell_type": "code",
   "execution_count": null,
   "metadata": {},
   "outputs": [],
   "source": [
    "import db_conn\n",
    "import pandas as pd"
   ]
  },
  {
   "cell_type": "code",
   "execution_count": null,
   "metadata": {},
   "outputs": [],
   "source": [
    "conn = db_conn.get_connection()\n",
    "cur = conn.cursor()"
   ]
  },
  {
   "cell_type": "code",
   "execution_count": null,
   "metadata": {},
   "outputs": [],
   "source": [
    "cur.execute(\"\"\"\n",
    "select lower(table_title) from article_tables;\n",
    "\"\"\")\n",
    "titles = cur.fetchall()"
   ]
  },
  {
   "cell_type": "code",
   "execution_count": null,
   "metadata": {},
   "outputs": [],
   "source": [
    "titles = list(map(lambda x: x[0], titles))\n",
    "len(titles)"
   ]
  },
  {
   "cell_type": "code",
   "execution_count": null,
   "metadata": {},
   "outputs": [],
   "source": [
    "titles[:5]"
   ]
  },
  {
   "cell_type": "markdown",
   "metadata": {},
   "source": [
    "## retrieve all drug names"
   ]
  },
  {
   "cell_type": "code",
   "execution_count": null,
   "metadata": {},
   "outputs": [],
   "source": [
    "cur.execute(\"\"\"\n",
    "SELECT distinct(lower(cui1_str)) FROM dict_collapsed_final;\n",
    "\"\"\")\n",
    "d1 = cur.fetchall()\n",
    "d1 = pd.DataFrame(d1)\n",
    "d1.head()"
   ]
  },
  {
   "cell_type": "code",
   "execution_count": null,
   "metadata": {},
   "outputs": [],
   "source": [
    "cur.execute(\"\"\"\n",
    "SELECT distinct(lower(cui2_str)) FROM dict_collapsed_final;\n",
    "\"\"\")\n",
    "d2 = cur.fetchall()\n",
    "d2 = pd.DataFrame(d2)\n",
    "d2.head()"
   ]
  },
  {
   "cell_type": "code",
   "execution_count": null,
   "metadata": {},
   "outputs": [],
   "source": [
    "drugs = d1.append(d2)\n",
    "drugs.columns = ['name']\n",
    "drugs.drop_duplicates(inplace=True)\n",
    "drugs.reset_index(drop=True)"
   ]
  },
  {
   "cell_type": "code",
   "execution_count": 9,
   "metadata": {},
   "outputs": [],
   "source": [
    "drugs.to_csv('./drug_dictionary.csv', sep=',', header=None)"
   ]
  },
  {
   "cell_type": "markdown",
   "metadata": {},
   "source": [
    "## retrieve all Side effects"
   ]
  },
  {
   "cell_type": "code",
   "execution_count": 10,
   "metadata": {},
   "outputs": [
    {
     "data": {
      "text/html": [
       "<div>\n",
       "<style scoped>\n",
       "    .dataframe tbody tr th:only-of-type {\n",
       "        vertical-align: middle;\n",
       "    }\n",
       "\n",
       "    .dataframe tbody tr th {\n",
       "        vertical-align: top;\n",
       "    }\n",
       "\n",
       "    .dataframe thead th {\n",
       "        text-align: right;\n",
       "    }\n",
       "</style>\n",
       "<table border=\"1\" class=\"dataframe\">\n",
       "  <thead>\n",
       "    <tr style=\"text-align: right;\">\n",
       "      <th></th>\n",
       "      <th>0</th>\n",
       "    </tr>\n",
       "  </thead>\n",
       "  <tbody>\n",
       "    <tr>\n",
       "      <th>0</th>\n",
       "      <td>\"ventilation\" pneumonitis</td>\n",
       "    </tr>\n",
       "    <tr>\n",
       "      <th>1</th>\n",
       "      <td>11-beta-hydroxylase deficiency</td>\n",
       "    </tr>\n",
       "    <tr>\n",
       "      <th>2</th>\n",
       "      <td>11-oxysteroid activity incr</td>\n",
       "    </tr>\n",
       "    <tr>\n",
       "      <th>3</th>\n",
       "      <td>11-oxysteroid activity increased</td>\n",
       "    </tr>\n",
       "    <tr>\n",
       "      <th>4</th>\n",
       "      <td>17 ketosteroids urine abnormal</td>\n",
       "    </tr>\n",
       "  </tbody>\n",
       "</table>\n",
       "</div>"
      ],
      "text/plain": [
       "                                  0\n",
       "0         \"ventilation\" pneumonitis\n",
       "1    11-beta-hydroxylase deficiency\n",
       "2       11-oxysteroid activity incr\n",
       "3  11-oxysteroid activity increased\n",
       "4    17 ketosteroids urine abnormal"
      ]
     },
     "execution_count": 10,
     "metadata": {},
     "output_type": "execute_result"
    }
   ],
   "source": [
    "cur.execute(\"\"\"\n",
    "SELECT distinct(lower(llt_name)) from meddra_llt_181022;\n",
    "\"\"\")\n",
    "sd = pd.DataFrame(cur.fetchall())\n",
    "sd.head()"
   ]
  },
  {
   "cell_type": "code",
   "execution_count": 11,
   "metadata": {},
   "outputs": [
    {
     "data": {
      "text/html": [
       "<div>\n",
       "<style scoped>\n",
       "    .dataframe tbody tr th:only-of-type {\n",
       "        vertical-align: middle;\n",
       "    }\n",
       "\n",
       "    .dataframe tbody tr th {\n",
       "        vertical-align: top;\n",
       "    }\n",
       "\n",
       "    .dataframe thead th {\n",
       "        text-align: right;\n",
       "    }\n",
       "</style>\n",
       "<table border=\"1\" class=\"dataframe\">\n",
       "  <thead>\n",
       "    <tr style=\"text-align: right;\">\n",
       "      <th></th>\n",
       "      <th>name</th>\n",
       "    </tr>\n",
       "  </thead>\n",
       "  <tbody>\n",
       "    <tr>\n",
       "      <th>0</th>\n",
       "      <td>\"ventilation\" pneumonitis</td>\n",
       "    </tr>\n",
       "    <tr>\n",
       "      <th>1</th>\n",
       "      <td>11-beta-hydroxylase deficiency</td>\n",
       "    </tr>\n",
       "    <tr>\n",
       "      <th>2</th>\n",
       "      <td>11-oxysteroid activity incr</td>\n",
       "    </tr>\n",
       "    <tr>\n",
       "      <th>3</th>\n",
       "      <td>11-oxysteroid activity increased</td>\n",
       "    </tr>\n",
       "    <tr>\n",
       "      <th>4</th>\n",
       "      <td>17 ketosteroids urine abnormal</td>\n",
       "    </tr>\n",
       "    <tr>\n",
       "      <th>5</th>\n",
       "      <td>17 ketosteroids urine abnormal nos</td>\n",
       "    </tr>\n",
       "    <tr>\n",
       "      <th>6</th>\n",
       "      <td>17 ketosteroids urine decreased</td>\n",
       "    </tr>\n",
       "    <tr>\n",
       "      <th>7</th>\n",
       "      <td>17 ketosteroids urine high</td>\n",
       "    </tr>\n",
       "    <tr>\n",
       "      <th>8</th>\n",
       "      <td>17 ketosteroids urine increased</td>\n",
       "    </tr>\n",
       "    <tr>\n",
       "      <th>9</th>\n",
       "      <td>17 ketosteroids urine low</td>\n",
       "    </tr>\n",
       "    <tr>\n",
       "      <th>10</th>\n",
       "      <td>17 ohcs increased</td>\n",
       "    </tr>\n",
       "    <tr>\n",
       "      <th>11</th>\n",
       "      <td>17,20-desmolase deficiency</td>\n",
       "    </tr>\n",
       "    <tr>\n",
       "      <th>12</th>\n",
       "      <td>17-alpha-hydroxylase deficiency</td>\n",
       "    </tr>\n",
       "    <tr>\n",
       "      <th>13</th>\n",
       "      <td>17-hydroxycorticosteroid activity increased</td>\n",
       "    </tr>\n",
       "    <tr>\n",
       "      <th>14</th>\n",
       "      <td>17-hydroxyprogesterone decreased</td>\n",
       "    </tr>\n",
       "    <tr>\n",
       "      <th>15</th>\n",
       "      <td>17-hydroxyprogesterone increased</td>\n",
       "    </tr>\n",
       "    <tr>\n",
       "      <th>16</th>\n",
       "      <td>17-hydroxysteroid activity incr</td>\n",
       "    </tr>\n",
       "    <tr>\n",
       "      <th>17</th>\n",
       "      <td>17-hydroxysteroid activity increased</td>\n",
       "    </tr>\n",
       "    <tr>\n",
       "      <th>18</th>\n",
       "      <td>18q minus syndrome</td>\n",
       "    </tr>\n",
       "    <tr>\n",
       "      <th>19</th>\n",
       "      <td>18q syndrome</td>\n",
       "    </tr>\n",
       "    <tr>\n",
       "      <th>20</th>\n",
       "      <td>1st degree heart block</td>\n",
       "    </tr>\n",
       "    <tr>\n",
       "      <th>21</th>\n",
       "      <td>1st degree vaginal prolapse</td>\n",
       "    </tr>\n",
       "    <tr>\n",
       "      <th>22</th>\n",
       "      <td>2',5'-oligoadenylate synthetase test decreased</td>\n",
       "    </tr>\n",
       "    <tr>\n",
       "      <th>23</th>\n",
       "      <td>2',5'-oligoadenylate synthetase test increased</td>\n",
       "    </tr>\n",
       "    <tr>\n",
       "      <th>24</th>\n",
       "      <td>2-5as activity increased</td>\n",
       "    </tr>\n",
       "    <tr>\n",
       "      <th>25</th>\n",
       "      <td>2-hydroxyglutaric aciduria</td>\n",
       "    </tr>\n",
       "    <tr>\n",
       "      <th>26</th>\n",
       "      <td>20,22-desmolase deficiency</td>\n",
       "    </tr>\n",
       "    <tr>\n",
       "      <th>27</th>\n",
       "      <td>21-hydroxylase deficiency</td>\n",
       "    </tr>\n",
       "    <tr>\n",
       "      <th>28</th>\n",
       "      <td>2nd degree heart block</td>\n",
       "    </tr>\n",
       "    <tr>\n",
       "      <th>29</th>\n",
       "      <td>2nd degree vaginal prolapse</td>\n",
       "    </tr>\n",
       "    <tr>\n",
       "      <th>...</th>\n",
       "      <td>...</td>\n",
       "    </tr>\n",
       "    <tr>\n",
       "      <th>60909</th>\n",
       "      <td>zinc increased</td>\n",
       "    </tr>\n",
       "    <tr>\n",
       "      <th>60910</th>\n",
       "      <td>zinc low</td>\n",
       "    </tr>\n",
       "    <tr>\n",
       "      <th>60911</th>\n",
       "      <td>zinc sulfate turbidity abnormal</td>\n",
       "    </tr>\n",
       "    <tr>\n",
       "      <th>60912</th>\n",
       "      <td>zinc sulfate turbidity decreased</td>\n",
       "    </tr>\n",
       "    <tr>\n",
       "      <th>60913</th>\n",
       "      <td>zinc sulfate turbidity increased</td>\n",
       "    </tr>\n",
       "    <tr>\n",
       "      <th>60914</th>\n",
       "      <td>zinc sulphate turbidity abnormal</td>\n",
       "    </tr>\n",
       "    <tr>\n",
       "      <th>60915</th>\n",
       "      <td>zinc sulphate turbidity abnormal nos</td>\n",
       "    </tr>\n",
       "    <tr>\n",
       "      <th>60916</th>\n",
       "      <td>zinc sulphate turbidity decreased</td>\n",
       "    </tr>\n",
       "    <tr>\n",
       "      <th>60917</th>\n",
       "      <td>zinc sulphate turbidity increased</td>\n",
       "    </tr>\n",
       "    <tr>\n",
       "      <th>60918</th>\n",
       "      <td>zn abnormal</td>\n",
       "    </tr>\n",
       "    <tr>\n",
       "      <th>60919</th>\n",
       "      <td>zn increased</td>\n",
       "    </tr>\n",
       "    <tr>\n",
       "      <th>60920</th>\n",
       "      <td>zn levels low</td>\n",
       "    </tr>\n",
       "    <tr>\n",
       "      <th>60921</th>\n",
       "      <td>zn++ low</td>\n",
       "    </tr>\n",
       "    <tr>\n",
       "      <th>60922</th>\n",
       "      <td>zollinger-ellison syndrome</td>\n",
       "    </tr>\n",
       "    <tr>\n",
       "      <th>60923</th>\n",
       "      <td>zona</td>\n",
       "    </tr>\n",
       "    <tr>\n",
       "      <th>60924</th>\n",
       "      <td>zonaesthesia</td>\n",
       "    </tr>\n",
       "    <tr>\n",
       "      <th>60925</th>\n",
       "      <td>zonesthesia</td>\n",
       "    </tr>\n",
       "    <tr>\n",
       "      <th>60926</th>\n",
       "      <td>zoon's balanitis</td>\n",
       "    </tr>\n",
       "    <tr>\n",
       "      <th>60927</th>\n",
       "      <td>zoonosis</td>\n",
       "    </tr>\n",
       "    <tr>\n",
       "      <th>60928</th>\n",
       "      <td>zoonotic bacterial infection</td>\n",
       "    </tr>\n",
       "    <tr>\n",
       "      <th>60929</th>\n",
       "      <td>zoonotic bacterial infection nos</td>\n",
       "    </tr>\n",
       "    <tr>\n",
       "      <th>60930</th>\n",
       "      <td>zoonotic infection nos</td>\n",
       "    </tr>\n",
       "    <tr>\n",
       "      <th>60931</th>\n",
       "      <td>zoophilia</td>\n",
       "    </tr>\n",
       "    <tr>\n",
       "      <th>60932</th>\n",
       "      <td>zygapophyseal joint arthritis</td>\n",
       "    </tr>\n",
       "    <tr>\n",
       "      <th>60933</th>\n",
       "      <td>zygomatic hyperplasia</td>\n",
       "    </tr>\n",
       "    <tr>\n",
       "      <th>60934</th>\n",
       "      <td>zygomatic hypoplasia</td>\n",
       "    </tr>\n",
       "    <tr>\n",
       "      <th>60935</th>\n",
       "      <td>zygomaticomaxillary complex fracture</td>\n",
       "    </tr>\n",
       "    <tr>\n",
       "      <th>60936</th>\n",
       "      <td>zygomycosis</td>\n",
       "    </tr>\n",
       "    <tr>\n",
       "      <th>60937</th>\n",
       "      <td>zygomycosis (phycomycosis or mucormycosis)</td>\n",
       "    </tr>\n",
       "    <tr>\n",
       "      <th>60938</th>\n",
       "      <td>zygomycosis nos</td>\n",
       "    </tr>\n",
       "  </tbody>\n",
       "</table>\n",
       "<p>60939 rows × 1 columns</p>\n",
       "</div>"
      ],
      "text/plain": [
       "                                                 name\n",
       "0                           \"ventilation\" pneumonitis\n",
       "1                      11-beta-hydroxylase deficiency\n",
       "2                         11-oxysteroid activity incr\n",
       "3                    11-oxysteroid activity increased\n",
       "4                      17 ketosteroids urine abnormal\n",
       "5                  17 ketosteroids urine abnormal nos\n",
       "6                     17 ketosteroids urine decreased\n",
       "7                          17 ketosteroids urine high\n",
       "8                     17 ketosteroids urine increased\n",
       "9                           17 ketosteroids urine low\n",
       "10                                  17 ohcs increased\n",
       "11                         17,20-desmolase deficiency\n",
       "12                    17-alpha-hydroxylase deficiency\n",
       "13        17-hydroxycorticosteroid activity increased\n",
       "14                   17-hydroxyprogesterone decreased\n",
       "15                   17-hydroxyprogesterone increased\n",
       "16                    17-hydroxysteroid activity incr\n",
       "17               17-hydroxysteroid activity increased\n",
       "18                                 18q minus syndrome\n",
       "19                                       18q syndrome\n",
       "20                             1st degree heart block\n",
       "21                        1st degree vaginal prolapse\n",
       "22     2',5'-oligoadenylate synthetase test decreased\n",
       "23     2',5'-oligoadenylate synthetase test increased\n",
       "24                           2-5as activity increased\n",
       "25                         2-hydroxyglutaric aciduria\n",
       "26                         20,22-desmolase deficiency\n",
       "27                          21-hydroxylase deficiency\n",
       "28                             2nd degree heart block\n",
       "29                        2nd degree vaginal prolapse\n",
       "...                                               ...\n",
       "60909                                  zinc increased\n",
       "60910                                        zinc low\n",
       "60911                 zinc sulfate turbidity abnormal\n",
       "60912                zinc sulfate turbidity decreased\n",
       "60913                zinc sulfate turbidity increased\n",
       "60914                zinc sulphate turbidity abnormal\n",
       "60915            zinc sulphate turbidity abnormal nos\n",
       "60916               zinc sulphate turbidity decreased\n",
       "60917               zinc sulphate turbidity increased\n",
       "60918                                     zn abnormal\n",
       "60919                                    zn increased\n",
       "60920                                   zn levels low\n",
       "60921                                        zn++ low\n",
       "60922                      zollinger-ellison syndrome\n",
       "60923                                            zona\n",
       "60924                                    zonaesthesia\n",
       "60925                                     zonesthesia\n",
       "60926                                zoon's balanitis\n",
       "60927                                        zoonosis\n",
       "60928                    zoonotic bacterial infection\n",
       "60929                zoonotic bacterial infection nos\n",
       "60930                          zoonotic infection nos\n",
       "60931                                       zoophilia\n",
       "60932                   zygapophyseal joint arthritis\n",
       "60933                           zygomatic hyperplasia\n",
       "60934                            zygomatic hypoplasia\n",
       "60935            zygomaticomaxillary complex fracture\n",
       "60936                                     zygomycosis\n",
       "60937      zygomycosis (phycomycosis or mucormycosis)\n",
       "60938                                 zygomycosis nos\n",
       "\n",
       "[60939 rows x 1 columns]"
      ]
     },
     "execution_count": 11,
     "metadata": {},
     "output_type": "execute_result"
    }
   ],
   "source": [
    "sd.columns = ['name']\n",
    "sd.drop_duplicates(inplace=True)\n",
    "sd.reset_index(drop=True)"
   ]
  },
  {
   "cell_type": "markdown",
   "metadata": {},
   "source": [
    "## find drug names"
   ]
  },
  {
   "cell_type": "code",
   "execution_count": 12,
   "metadata": {},
   "outputs": [],
   "source": [
    "from flashtext import KeywordProcessor"
   ]
  },
  {
   "cell_type": "code",
   "execution_count": 14,
   "metadata": {},
   "outputs": [],
   "source": [
    "drug_keyword_processor = KeywordProcessor(case_sensitive=False)\n",
    "for i, r in drugs.iterrows():\n",
    "    drug_keyword_processor.add_keyword(r['name'].strip())"
   ]
  },
  {
   "cell_type": "code",
   "execution_count": null,
   "metadata": {},
   "outputs": [],
   "source": [
    "ad_keyword_processor = KeywordProcessor(case_sensitive=False)\n",
    "for i, sd in sd.iterrows():\n",
    "    ad_keyword_processor.add_keyword(sd['name'].strip())\n",
    "#    keyword_processor.add_keyword(r['name'].strip())\n",
    "# for i, sd in sd.iterrows():\n",
    "#     keyword_processor.add_keyword(sd['name'].strip())\n",
    "#\n",
    "# keyword_processor.get_keywords()"
   ]
  },
  {
   "cell_type": "code",
   "execution_count": 15,
   "metadata": {},
   "outputs": [],
   "source": [
    "c_entities = []\n",
    "no_entities = []\n",
    "for ti in titles:\n",
    "    found = drug_keyword_processor.extract_keywords(ti.strip())\n",
    "    ad_found = ad_keyword_processor.extract_keywords(ti.strip())\n",
    "    ents = [] \n",
    "    for f in found:\n",
    "        if ti.find(f)>=0:\n",
    "            ents.append((ti.find(f), ti.find(f)+len(f), 'DRUG'))\n",
    "        \n",
    "    for f in ad_found:\n",
    "        if ti.find(f)>=0:\n",
    "            ents.append((ti.find(f), ti.find(f)+len(f), 'SIDE_EFFECT'))\n",
    "        \n",
    "    if len(ents)>0:\n",
    "        c_entities.append((ti, {'entities':ents}))\n",
    "    else:\n",
    "        no_entities.append((ti, {'entities':[]}))"
   ]
  },
  {
   "cell_type": "code",
   "execution_count": null,
   "metadata": {},
   "outputs": [],
   "source": [
    "len(c_entities)"
   ]
  },
  {
   "cell_type": "code",
   "execution_count": null,
   "metadata": {},
   "outputs": [],
   "source": [
    "len(no_entities)\n",
    "c_entities[:5]"
   ]
  },
  {
   "cell_type": "code",
   "execution_count": 16,
   "metadata": {},
   "outputs": [
    {
     "data": {
      "text/plain": [
       "[('table 3 comparisons of responses to graded dobutamine infusion, y versus o',\n",
       "  {'entities': [(43, 53, 'DRUG')]}),\n",
       " ('table univariate and multivariate analyses of baseline factors associated with progression-free survival and overall survival in patients treated with dabrafenib and trametinib',\n",
       "  {'entities': [(151, 161, 'DRUG'), (166, 176, 'DRUG')]})]"
      ]
     },
     "execution_count": 16,
     "metadata": {},
     "output_type": "execute_result"
    }
   ],
   "source": [
    "com_list = c_entities + no_entities[:len(c_entities)]"
   ]
  },
  {
   "cell_type": "markdown",
   "metadata": {},
   "source": [
    "Reference : https://spacy.io/usage/training#train-entity  \n",
    "\n",
    "- prediction is based on the examples the model has seen during training.\n",
    "- not memorizing -> why the training data should be representative of the data we want to process"
   ]
  },
  {
   "cell_type": "code",
   "execution_count": 17,
   "metadata": {},
   "outputs": [],
   "source": [
    "from __future__ import unicode_literals, print_function\n",
    "\n",
    "import plac\n",
    "import random\n",
    "from pathlib import Path\n",
    "import spacy\n",
    "from spacy.util import minibatch, compounding"
   ]
  },
  {
   "cell_type": "code",
   "execution_count": 18,
   "metadata": {},
   "outputs": [],
   "source": [
    "import spacy\n",
    "import random\n",
    "nlp = spacy.load('en')"
   ]
  },
  {
   "cell_type": "code",
   "execution_count": 19,
   "metadata": {},
   "outputs": [],
   "source": [
    "# nlp = spacy.load(model)  # load existing spaCy model\n",
    "# print(\"Loaded model '%s'\" % model)"
   ]
  },
  {
   "cell_type": "code",
   "execution_count": 20,
   "metadata": {},
   "outputs": [],
   "source": [
    "# Add entity recognizer to model if it's not in the pipeline\n",
    "# nlp.create_pipe works for built-ins that are registered with spaCy\n",
    "if 'ner' not in nlp.pipe_names:\n",
    "    ner = nlp.create_pipe('ner')\n",
    "    nlp.add_pipe(ner)\n",
    "# otherwise, get it, so we can add labels to it\n",
    "else:\n",
    "    ner = nlp.get_pipe('ner')"
   ]
  },
  {
   "cell_type": "code",
   "execution_count": 21,
   "metadata": {},
   "outputs": [],
   "source": [
    "ner.add_label('DRUG') \n",
    "ner.add_label('SIDE_EFFECT')\n",
    "# add new entity label to entity recognizer"
   ]
  },
  {
   "cell_type": "code",
   "execution_count": 22,
   "metadata": {},
   "outputs": [],
   "source": [
    "optimizer = nlp.entity.create_optimizer()"
   ]
  },
  {
   "cell_type": "code",
   "execution_count": 23,
   "metadata": {},
   "outputs": [],
   "source": [
    "# get names of other pipes to disable them during training\n",
    "other_pipes = [pipe for pipe in nlp.pipe_names if pipe != 'ner']"
   ]
  },
  {
   "cell_type": "code",
   "execution_count": 24,
   "metadata": {},
   "outputs": [],
   "source": [
    "with nlp.disable_pipes(*other_pipes):  # only train NER\n",
    "    for itn in range(10):\n",
    "        random.shuffle(com_list)\n",
    "        losses = {}\n",
    "        # batch up the examples using spaCy's minibatch\n",
    "        batches = minibatch(com_list, size=compounding(4., 32., 1.001))\n",
    "        for batch in batches:\n",
    "            texts, annotations = zip(*batch)\n",
    "            nlp.update(texts, annotations, sgd=optimizer, drop=0.1,#0.35,\n",
    "                       losses=losses)\n",
    "        print('Losses', losses)"
   ]
  },
  {
   "cell_type": "code",
   "execution_count": 25,
   "metadata": {},
   "outputs": [
    {
     "name": "stdout",
     "output_type": "stream",
     "text": [
      "Entities in 'comparisons of responses to graded dobutamine infusion, y versus o'\n",
      "DRUG dobutamine\n"
     ]
    }
   ],
   "source": [
    "# test the trained model\n",
    "no_entities[3500]"
   ]
  },
  {
   "cell_type": "code",
   "execution_count": null,
   "metadata": {},
   "outputs": [],
   "source": [
    "# test_text = 'comparisons of responses to graded dobutamine infusion, y versus o'\n",
    "test_text = 'Cosentyx, trade name Secukinumab, is a human antibody that binds to the protein interleukin (IL)-17A, and is marketed by Novartis for the treatment of psoriasis, ankylosing spondylitis, and psoriatic arthritis.'\n",
    "# test_text = no_entities[3500][0]\n",
    "doc = nlp(test_text)\n",
    "print(\"Entities in '%s'\" % test_text)\n",
    "for ent in doc.ents:\n",
    "    print(ent.label_, ent.text)"
   ]
  },
  {
   "cell_type": "code",
   "execution_count": null,
   "metadata": {},
   "outputs": [],
   "source": [
    "# save model to output directory\n",
    "\n",
    "# output_dir = Path('./')\n",
    "# if not output_dir.exists():\n",
    "#     output_dir.mkdir()\n",
    "# nlp.meta['name'] = new_model_name  # rename model\n",
    "# nlp.to_disk(output_dir)\n",
    "# print(\"Saved model to\", output_dir)\n",
    "\n",
    "# # test the saved model\n",
    "# print(\"Loading from\", output_dir)\n",
    "# nlp2 = spacy.load(output_dir)\n",
    "# doc2 = nlp2(test_text)\n",
    "# for ent in doc2.ents:\n",
    "#     print(ent.label_, ent.text)"
   ]
  },
  {
   "cell_type": "code",
   "execution_count": null,
   "metadata": {},
   "outputs": [],
   "source": []
  }
 ],
 "metadata": {
  "kernelspec": {
   "display_name": "Python 3",
   "language": "python",
   "name": "python3"
  },
  "language_info": {
   "codemirror_mode": {
    "name": "ipython",
    "version": 3
   },
   "file_extension": ".py",
   "mimetype": "text/x-python",
   "name": "python",
   "nbconvert_exporter": "python",
   "pygments_lexer": "ipython3",
   "version": "3.5.2"
  }
 },
 "nbformat": 4,
 "nbformat_minor": 2
}
