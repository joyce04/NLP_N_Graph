{
 "cells": [
  {
   "cell_type": "markdown",
   "metadata": {},
   "source": [
    "## Topic modeling\n",
    "\n",
    "- https://towardsdatascience.com/topic-modeling-and-latent-dirichlet-allocation-in-python-9bf156893c24\n",
    "- http://www.engear.net/wp/topic-modeling-gensimpython/\n",
    "- a type of statistical modeling for discovering the abstract \"topics\" that occur in a collection of documents."
   ]
  },
  {
   "cell_type": "markdown",
   "metadata": {},
   "source": [
    "### Latent Dirichlet Allocation\n",
    "- an example of topic model and used to classify text in a document to a particular topic\n",
    "- it builds a topic per document model and words per topic model, modeled as Dirichlet distributions"
   ]
  },
  {
   "cell_type": "code",
   "execution_count": 123,
   "metadata": {},
   "outputs": [
    {
     "data": {
      "text/html": [
       "<div>\n",
       "<style scoped>\n",
       "    .dataframe tbody tr th:only-of-type {\n",
       "        vertical-align: middle;\n",
       "    }\n",
       "\n",
       "    .dataframe tbody tr th {\n",
       "        vertical-align: top;\n",
       "    }\n",
       "\n",
       "    .dataframe thead th {\n",
       "        text-align: right;\n",
       "    }\n",
       "</style>\n",
       "<table border=\"1\" class=\"dataframe\">\n",
       "  <thead>\n",
       "    <tr style=\"text-align: right;\">\n",
       "      <th></th>\n",
       "      <th>id</th>\n",
       "      <th>title</th>\n",
       "    </tr>\n",
       "  </thead>\n",
       "  <tbody>\n",
       "    <tr>\n",
       "      <th>0</th>\n",
       "      <td>4105</td>\n",
       "      <td>Baseline characteristics</td>\n",
       "    </tr>\n",
       "    <tr>\n",
       "      <th>1</th>\n",
       "      <td>4106</td>\n",
       "      <td>Analysis of efficacy</td>\n",
       "    </tr>\n",
       "    <tr>\n",
       "      <th>2</th>\n",
       "      <td>4107</td>\n",
       "      <td>Comparisons of postoperative CA19-9 levels on ...</td>\n",
       "    </tr>\n",
       "    <tr>\n",
       "      <th>3</th>\n",
       "      <td>4108</td>\n",
       "      <td>Pattern of disease relapse</td>\n",
       "    </tr>\n",
       "    <tr>\n",
       "      <th>4</th>\n",
       "      <td>4109</td>\n",
       "      <td>Grade 1–5 adverse events with gemcitabine alon...</td>\n",
       "    </tr>\n",
       "  </tbody>\n",
       "</table>\n",
       "</div>"
      ],
      "text/plain": [
       "     id                                              title\n",
       "0  4105                           Baseline characteristics\n",
       "1  4106                               Analysis of efficacy\n",
       "2  4107  Comparisons of postoperative CA19-9 levels on ...\n",
       "3  4108                         Pattern of disease relapse\n",
       "4  4109  Grade 1–5 adverse events with gemcitabine alon..."
      ]
     },
     "execution_count": 123,
     "metadata": {},
     "output_type": "execute_result"
    }
   ],
   "source": [
    "import pandas as pd\n",
    "import numpy as np\n",
    "\n",
    "data = pd.read_csv('titles.csv', delimiter='\\t', error_bad_lines=True, header=None)\n",
    "data.columns = ['id', 'title']\n",
    "data.title = data.title.str.strip()\n",
    "documents = data\n",
    "documents['title'].replace('', np.nan, inplace=True)\n",
    "documents.dropna(subset=['title'], inplace=True)\n",
    "documents.head()"
   ]
  },
  {
   "cell_type": "markdown",
   "metadata": {},
   "source": [
    "#### Data Pre-processing\n",
    "- tokenization: split the text into sentences and the sentences into words. Lowercase the words and remove punctuation\n",
    "- words that have fewer than 3 characters are removed.\n",
    "- all stopwords are removed.\n",
    "- words are lemmatized(verbs in past and future tenses are changed into present)\n",
    "- words are stemmed(words are reduced to their root form)"
   ]
  },
  {
   "cell_type": "code",
   "execution_count": 5,
   "metadata": {},
   "outputs": [],
   "source": [
    "import gensim\n",
    "from gensim.utils import simple_preprocess\n",
    "from gensim.parsing.preprocessing import STOPWORDS\n",
    "from gensim.parsing.preprocessing import strip_numeric\n",
    "from nltk.stem import WordNetLemmatizer, SnowballStemmer\n",
    "from nltk.stem.porter import *"
   ]
  },
  {
   "cell_type": "code",
   "execution_count": 6,
   "metadata": {},
   "outputs": [
    {
     "name": "stdout",
     "output_type": "stream",
     "text": [
      "[nltk_data] Downloading package wordnet to /Users/grace/nltk_data...\n",
      "[nltk_data]   Unzipping corpora/wordnet.zip.\n"
     ]
    },
    {
     "data": {
      "text/plain": [
       "True"
      ]
     },
     "execution_count": 6,
     "metadata": {},
     "output_type": "execute_result"
    }
   ],
   "source": [
    "np.random.seed(2018)\n",
    "\n",
    "import nltk\n",
    "nltk.download('wordnet')"
   ]
  },
  {
   "cell_type": "code",
   "execution_count": 121,
   "metadata": {},
   "outputs": [],
   "source": [
    "stemmer = SnowballStemmer('english')\n",
    "stop_words = list(gensim.parsing.preprocessing.STOPWORDS)\n",
    "#can add custom stop words\n",
    "stop_words.extend(['table'])\n",
    "\n",
    "def lemmatize_stemming(text):\n",
    "    return stemmer.stem(WordNetLemmatizer().lemmatize(text, pos='v'))\n",
    "\n",
    "#글자길이가 3보다 작으면 제외\n",
    "def preprocess(text):\n",
    "    result = []\n",
    "#     deacc=True removes punctuations\n",
    "    for token in gensim.utils.simple_preprocess(text, deacc=True):\n",
    "        if token not in stop_words and len(token)>3:\n",
    "            result.append(lemmatize_stemming(strip_numeric(token)))\n",
    "    return result"
   ]
  },
  {
   "cell_type": "code",
   "execution_count": 122,
   "metadata": {},
   "outputs": [
    {
     "name": "stdout",
     "output_type": "stream",
     "text": [
      "original document\n",
      "['Patients’', 'Characteristics', 'and', 'Hospitalization', 'or', 'Clinic', 'Visits', 'During', 'Follow-Up']\n",
      "\n",
      "\n",
      " tokenized and lemmatized document: \n",
      "['patient', 'characterist', 'hospit', 'clinic', 'visit', 'follow']\n"
     ]
    }
   ],
   "source": [
    "#preview after preprocessing\n",
    "doc_sample = documents.loc[100].title\n",
    "\n",
    "print('original document')\n",
    "words = []\n",
    "for word in doc_sample.split(' '):\n",
    "    words.append(word)\n",
    "print(words)\n",
    "\n",
    "print('\\n\\n tokenized and lemmatized document: ')\n",
    "print(preprocess(doc_sample))"
   ]
  },
  {
   "cell_type": "code",
   "execution_count": 10,
   "metadata": {},
   "outputs": [
    {
     "data": {
      "text/plain": [
       "0                              [baselin, characterist]\n",
       "1                                  [analysi, efficaci]\n",
       "2    [comparison, postop, level, surviv, espac, con...\n",
       "3                            [pattern, diseas, relaps]\n",
       "4    [grade, advers, event, gemcitabin, gemcitabin,...\n",
       "5                              [baselin, characterist]\n",
       "6                          [treatment, zoledron, acid]\n",
       "7                               [treatment, docetaxel]\n",
       "8       [treatment, relaps, discret, treat, clinician]\n",
       "9    [worst, advers, event, grade, report, entir, t...\n",
       "Name: title, dtype: object"
      ]
     },
     "execution_count": 10,
     "metadata": {},
     "output_type": "execute_result"
    }
   ],
   "source": [
    "documents = documents.astype(str)\n",
    "#process the text, save the results as processed_docs\n",
    "processed_docs = documents.title.map(preprocess)\n",
    "processed_docs[:10]"
   ]
  },
  {
   "cell_type": "markdown",
   "metadata": {},
   "source": [
    "#### Bigram & Trigram\n",
    "- http://www.engear.net/wp/topic-modeling-gensimpython/\n",
    "- implement n-grams with Gensim Phrases\n",
    "- min_count : ignore all words and bigrams with total collected count lower than this value \n",
    "- threshold : represent a score threshold for forming the phrases (higher means fewer phrases)"
   ]
  },
  {
   "cell_type": "code",
   "execution_count": 124,
   "metadata": {},
   "outputs": [],
   "source": [
    "#bigram and trigram models\n",
    "bigram = gensim.models.Phrases(processed_docs, min_count=100, threshold=500)\n",
    "trigram = gensim.models.Phrases(bigram[processed_docs], threshold=500)\n",
    "\n",
    "#sentence clubbed as a trigram/bigram\n"
   ]
  },
  {
   "cell_type": "markdown",
   "metadata": {},
   "source": [
    "#### bag of words on the data set\n",
    "- create a dictionary from 'processed_docs' containing the number of times a word appears in the training set"
   ]
  },
  {
   "cell_type": "code",
   "execution_count": 11,
   "metadata": {},
   "outputs": [
    {
     "name": "stdout",
     "output_type": "stream",
     "text": [
      "0 baselin\n",
      "1 characterist\n",
      "2 analysi\n",
      "3 efficaci\n",
      "4 comparison\n",
      "5 conoko\n",
      "6 espac\n",
      "7 jaspac\n",
      "8 level\n",
      "9 postop\n",
      "10 surviv\n",
      "11 trial\n",
      "12 diseas\n",
      "13 pattern\n",
      "14 relaps\n",
      "15 advers\n",
      "16 capecitabin\n",
      "17 event\n",
      "18 gemcitabin\n",
      "19 grade\n",
      "20 plus\n"
     ]
    }
   ],
   "source": [
    "dictionary = gensim.corpora.Dictionary(processed_docs)\n",
    "\n",
    "count = 0\n",
    "for k, v in dictionary.iteritems():\n",
    "    print(k,v)\n",
    "    count += 1\n",
    "    if count > 20:\n",
    "        break"
   ]
  },
  {
   "cell_type": "code",
   "execution_count": 94,
   "metadata": {},
   "outputs": [],
   "source": [
    "# filter out tokens that appear in less than 0.1 documents \n",
    "# or more than 0.5 documents\n",
    "# after above, keep only the first 100000 most frequent tokens.\n",
    "\n",
    "dictionary.filter_extremes(no_below=0.1, no_above=0.5, keep_n=100000)"
   ]
  },
  {
   "cell_type": "code",
   "execution_count": 95,
   "metadata": {},
   "outputs": [
    {
     "data": {
      "text/plain": [
       "[(1, 1), (98, 1), (186, 1), (226, 1), (264, 1), (269, 1)]"
      ]
     },
     "execution_count": 95,
     "metadata": {},
     "output_type": "execute_result"
    }
   ],
   "source": [
    "# gensim doc2bow\n",
    "# for each document, create a dictionary reporting how many words and how many times those words appear\n",
    "# save to 'bow_corpus'\n",
    "\n",
    "bow_corpus = [dictionary.doc2bow(doc) for doc in processed_docs]\n",
    "bow_corpus[100]"
   ]
  },
  {
   "cell_type": "code",
   "execution_count": 96,
   "metadata": {},
   "outputs": [
    {
     "name": "stdout",
     "output_type": "stream",
     "text": [
      "Word 1 (\"characterist\") appears 1 times.\n",
      "Word 98 (\"patient\") appears 1 times.\n",
      "Word 186 (\"follow\") appears 1 times.\n",
      "Word 226 (\"clinic\") appears 1 times.\n",
      "Word 264 (\"hospit\") appears 1 times.\n",
      "Word 269 (\"visit\") appears 1 times.\n"
     ]
    }
   ],
   "source": [
    "# preview bag of words for sample processed document\n",
    "\n",
    "bow_doc_100 = bow_corpus[100]\n",
    "\n",
    "for i in range(len(bow_doc_100)):\n",
    "    print(\"Word {} (\\\"{}\\\") appears {} times.\".format(bow_doc_100[i][0],\n",
    "                                                     dictionary[bow_doc_100[i][0]],\n",
    "                                                     bow_doc_100[i][1]))"
   ]
  },
  {
   "cell_type": "markdown",
   "metadata": {},
   "source": [
    "#### TF-IDF\n",
    "- tf-idf model on bow_corpus\n",
    "- apply transformation to the entire corpus and call it 'corpus_tfidf'\n",
    "\n",
    "\n",
    "- tf = count(word, document) / len(document)\n",
    "- idf = log( len(collection) / count(document_containing_term, collection)\n",
    "- tf-idf = tf * idf"
   ]
  },
  {
   "cell_type": "code",
   "execution_count": 97,
   "metadata": {},
   "outputs": [
    {
     "name": "stdout",
     "output_type": "stream",
     "text": [
      "[(0, 0.7887988885712802), (1, 0.6146513754875305)]\n"
     ]
    }
   ],
   "source": [
    "from gensim import corpora, models\n",
    "\n",
    "tfidf = models.TfidfModel(bow_corpus)\n",
    "corpus_tfidf = tfidf[bow_corpus]\n",
    "\n",
    "from pprint import pprint\n",
    "\n",
    "for doc in corpus_tfidf:\n",
    "    pprint(doc)\n",
    "    break"
   ]
  },
  {
   "cell_type": "markdown",
   "metadata": {},
   "source": [
    "### LDA using bag of words\n",
    "\n",
    "- train LDA using gensim.models.LdaMulticore"
   ]
  },
  {
   "cell_type": "code",
   "execution_count": 98,
   "metadata": {},
   "outputs": [],
   "source": [
    "lda_model = gensim.models.LdaMulticore(bow_corpus, num_topics=5, id2word=dictionary, passes=2, workers=2)"
   ]
  },
  {
   "cell_type": "code",
   "execution_count": 99,
   "metadata": {},
   "outputs": [
    {
     "name": "stdout",
     "output_type": "stream",
     "text": [
      "Topic: 0 \n",
      "Words: 0.020*\"chang\" + 0.017*\"mean\" + 0.016*\"analysi\" + 0.015*\"measur\" + 0.013*\"valu\" + 0.013*\"result\" + 0.011*\"variabl\" + 0.011*\"baselin\" + 0.011*\"score\" + 0.011*\"data\"\n",
      "Topic: 1 \n",
      "Words: 0.150*\"characterist\" + 0.099*\"baselin\" + 0.078*\"patient\" + 0.040*\"clinic\" + 0.030*\"demograph\" + 0.026*\"studi\" + 0.015*\"leav\" + 0.014*\"popul\" + 0.014*\"ventricular\" + 0.012*\"group\"\n",
      "Topic: 2 \n",
      "Words: 0.033*\"risk\" + 0.019*\"factor\" + 0.019*\"multivari\" + 0.018*\"associ\" + 0.017*\"year\" + 0.017*\"death\" + 0.017*\"mortal\" + 0.016*\"analysi\" + 0.015*\"ratio\" + 0.015*\"model\"\n",
      "Topic: 3 \n",
      "Words: 0.046*\"treatment\" + 0.046*\"event\" + 0.038*\"advers\" + 0.037*\"outcom\" + 0.035*\"patient\" + 0.024*\"group\" + 0.016*\"cancer\" + 0.014*\"relat\" + 0.013*\"primari\" + 0.011*\"studi\"\n",
      "Topic: 4 \n",
      "Words: 0.027*\"patient\" + 0.020*\"treat\" + 0.017*\"respons\" + 0.016*\"intent\" + 0.016*\"popul\" + 0.014*\"coronari\" + 0.014*\"summari\" + 0.013*\"event\" + 0.013*\"myocardi\" + 0.012*\"infarct\"\n"
     ]
    }
   ],
   "source": [
    "for idx, topic in lda_model.print_topics(-1):\n",
    "    print('Topic: {} \\nWords: {}'.format(idx, topic))"
   ]
  },
  {
   "cell_type": "markdown",
   "metadata": {},
   "source": [
    "- run LDA using TF-IDF"
   ]
  },
  {
   "cell_type": "code",
   "execution_count": 100,
   "metadata": {},
   "outputs": [],
   "source": [
    "lda_model_tfidf = gensim.models.LdaMulticore(corpus_tfidf, num_topics=5, id2word=dictionary, passes=2, workers=2)"
   ]
  },
  {
   "cell_type": "code",
   "execution_count": 101,
   "metadata": {},
   "outputs": [
    {
     "name": "stdout",
     "output_type": "stream",
     "text": [
      "Topic: 0 Word: 0.010*\"patient\" + 0.010*\"data\" + 0.009*\"ventricular\" + 0.008*\"hemodynam\" + 0.007*\"leav\" + 0.006*\"mutat\" + 0.006*\"blood\" + 0.006*\"pressur\" + 0.006*\"function\" + 0.006*\"clinic\"\n",
      "Topic: 1 Word: 0.107*\"characterist\" + 0.098*\"baselin\" + 0.050*\"patient\" + 0.042*\"advers\" + 0.039*\"demograph\" + 0.037*\"event\" + 0.029*\"clinic\" + 0.025*\"popul\" + 0.025*\"studi\" + 0.019*\"treatment\"\n",
      "Topic: 2 Word: 0.011*\"risk\" + 0.007*\"factor\" + 0.006*\"subject\" + 0.006*\"year\" + 0.006*\"diabet\" + 0.006*\"associ\" + 0.005*\"studi\" + 0.005*\"women\" + 0.005*\"featur\" + 0.005*\"treatment\"\n",
      "Topic: 3 Word: 0.027*\"outcom\" + 0.015*\"secondari\" + 0.013*\"primari\" + 0.013*\"analysi\" + 0.012*\"surviv\" + 0.012*\"multivari\" + 0.011*\"treatment\" + 0.010*\"year\" + 0.010*\"respons\" + 0.010*\"mortal\"\n",
      "Topic: 4 Word: 0.008*\"coronari\" + 0.007*\"toxic\" + 0.007*\"arteri\" + 0.007*\"patient\" + 0.007*\"effect\" + 0.006*\"diseas\" + 0.006*\"treatment\" + 0.005*\"heart\" + 0.005*\"group\" + 0.004*\"vaccin\"\n"
     ]
    }
   ],
   "source": [
    "for idx, topic in lda_model_tfidf.print_topics(-1):\n",
    "    print('Topic: {} Word: {}'.format(idx, topic))"
   ]
  },
  {
   "cell_type": "markdown",
   "metadata": {},
   "source": [
    "#### performance evaluation by classifying sample document using LDA bag of words model"
   ]
  },
  {
   "cell_type": "code",
   "execution_count": 102,
   "metadata": {},
   "outputs": [
    {
     "data": {
      "text/html": [
       "<div>\n",
       "<style scoped>\n",
       "    .dataframe tbody tr th:only-of-type {\n",
       "        vertical-align: middle;\n",
       "    }\n",
       "\n",
       "    .dataframe tbody tr th {\n",
       "        vertical-align: top;\n",
       "    }\n",
       "\n",
       "    .dataframe thead th {\n",
       "        text-align: right;\n",
       "    }\n",
       "</style>\n",
       "<table border=\"1\" class=\"dataframe\">\n",
       "  <thead>\n",
       "    <tr style=\"text-align: right;\">\n",
       "      <th></th>\n",
       "      <th>id</th>\n",
       "      <th>title</th>\n",
       "    </tr>\n",
       "  </thead>\n",
       "  <tbody>\n",
       "    <tr>\n",
       "      <th>4</th>\n",
       "      <td>4109</td>\n",
       "      <td>Grade 1–5 adverse events with gemcitabine alon...</td>\n",
       "    </tr>\n",
       "    <tr>\n",
       "      <th>9</th>\n",
       "      <td>4115</td>\n",
       "      <td>Worst adverse event (grade) reported over enti...</td>\n",
       "    </tr>\n",
       "    <tr>\n",
       "      <th>28</th>\n",
       "      <td>4134</td>\n",
       "      <td>Serious adverse events related to hypotension</td>\n",
       "    </tr>\n",
       "    <tr>\n",
       "      <th>32</th>\n",
       "      <td>4138</td>\n",
       "      <td>Association of birthweight, conditional relati...</td>\n",
       "    </tr>\n",
       "    <tr>\n",
       "      <th>36</th>\n",
       "      <td>4142</td>\n",
       "      <td>Grade 3 or 4 adverse events</td>\n",
       "    </tr>\n",
       "    <tr>\n",
       "      <th>45</th>\n",
       "      <td>4151</td>\n",
       "      <td>Serious adverse events by treatment and body s...</td>\n",
       "    </tr>\n",
       "    <tr>\n",
       "      <th>234</th>\n",
       "      <td>4339</td>\n",
       "      <td>30-Day Clinical Outcomes: Clopidogrel Versus T...</td>\n",
       "    </tr>\n",
       "    <tr>\n",
       "      <th>331</th>\n",
       "      <td>4436</td>\n",
       "      <td>Clinical Events Data presented are number of p...</td>\n",
       "    </tr>\n",
       "    <tr>\n",
       "      <th>333</th>\n",
       "      <td>4438</td>\n",
       "      <td>Predictors for Occurrence of Major Adverse Car...</td>\n",
       "    </tr>\n",
       "    <tr>\n",
       "      <th>1516</th>\n",
       "      <td>5640</td>\n",
       "      <td>Mean Costs and Added Costs Added costs report ...</td>\n",
       "    </tr>\n",
       "  </tbody>\n",
       "</table>\n",
       "</div>"
      ],
      "text/plain": [
       "        id                                              title\n",
       "4     4109  Grade 1–5 adverse events with gemcitabine alon...\n",
       "9     4115  Worst adverse event (grade) reported over enti...\n",
       "28    4134      Serious adverse events related to hypotension\n",
       "32    4138  Association of birthweight, conditional relati...\n",
       "36    4142                        Grade 3 or 4 adverse events\n",
       "45    4151  Serious adverse events by treatment and body s...\n",
       "234   4339  30-Day Clinical Outcomes: Clopidogrel Versus T...\n",
       "331   4436  Clinical Events Data presented are number of p...\n",
       "333   4438  Predictors for Occurrence of Major Adverse Car...\n",
       "1516  5640  Mean Costs and Added Costs Added costs report ..."
      ]
     },
     "execution_count": 102,
     "metadata": {},
     "output_type": "execute_result"
    }
   ],
   "source": [
    "documents.loc[documents['title'].str.find('adverse')>=0][:10]"
   ]
  },
  {
   "cell_type": "code",
   "execution_count": 103,
   "metadata": {},
   "outputs": [
    {
     "data": {
      "text/plain": [
       "['advers', 'event', 'treatment', 'bodi', 'affect']"
      ]
     },
     "execution_count": 103,
     "metadata": {},
     "output_type": "execute_result"
    }
   ],
   "source": [
    "processed_docs[45]"
   ]
  },
  {
   "cell_type": "code",
   "execution_count": 104,
   "metadata": {},
   "outputs": [
    {
     "name": "stdout",
     "output_type": "stream",
     "text": [
      "\n",
      "Score: 0.7108096480369568\t \n",
      "Topic: 0.046*\"treatment\" + 0.046*\"event\" + 0.038*\"advers\" + 0.037*\"outcom\" + 0.035*\"patient\" + 0.024*\"group\" + 0.016*\"cancer\" + 0.014*\"relat\" + 0.013*\"primari\" + 0.011*\"studi\"\n",
      "\n",
      "Score: 0.18724565207958221\t \n",
      "Topic: 0.020*\"chang\" + 0.017*\"mean\" + 0.016*\"analysi\" + 0.015*\"measur\" + 0.013*\"valu\" + 0.013*\"result\" + 0.011*\"variabl\" + 0.011*\"baselin\" + 0.011*\"score\" + 0.011*\"data\"\n",
      "\n",
      "Score: 0.0342358835041523\t \n",
      "Topic: 0.033*\"risk\" + 0.019*\"factor\" + 0.019*\"multivari\" + 0.018*\"associ\" + 0.017*\"year\" + 0.017*\"death\" + 0.017*\"mortal\" + 0.016*\"analysi\" + 0.015*\"ratio\" + 0.015*\"model\"\n",
      "\n",
      "Score: 0.03405143693089485\t \n",
      "Topic: 0.027*\"patient\" + 0.020*\"treat\" + 0.017*\"respons\" + 0.016*\"intent\" + 0.016*\"popul\" + 0.014*\"coronari\" + 0.014*\"summari\" + 0.013*\"event\" + 0.013*\"myocardi\" + 0.012*\"infarct\"\n",
      "\n",
      "Score: 0.03365737572312355\t \n",
      "Topic: 0.150*\"characterist\" + 0.099*\"baselin\" + 0.078*\"patient\" + 0.040*\"clinic\" + 0.030*\"demograph\" + 0.026*\"studi\" + 0.015*\"leav\" + 0.014*\"popul\" + 0.014*\"ventricular\" + 0.012*\"group\"\n"
     ]
    }
   ],
   "source": [
    "for ind, score in sorted(lda_model[bow_corpus[45]], key=lambda x: -1*x[1]):\n",
    "    print('\\nScore: {}\\t \\nTopic: {}'.format(score, lda_model.print_topic(ind, 10)))"
   ]
  },
  {
   "cell_type": "markdown",
   "metadata": {},
   "source": [
    "#### performance evaluation by classifying sample document using LDA TF-IDF model"
   ]
  },
  {
   "cell_type": "code",
   "execution_count": 105,
   "metadata": {},
   "outputs": [
    {
     "name": "stdout",
     "output_type": "stream",
     "text": [
      "\n",
      "Score: 0.489359587430954\t \n",
      "Topic: 0.107*\"characterist\" + 0.098*\"baselin\" + 0.050*\"patient\" + 0.042*\"advers\" + 0.039*\"demograph\" + 0.037*\"event\" + 0.029*\"clinic\" + 0.025*\"popul\" + 0.025*\"studi\" + 0.019*\"treatment\"\n",
      "\n",
      "Score: 0.40757057070732117\t \n",
      "Topic: 0.008*\"coronari\" + 0.007*\"toxic\" + 0.007*\"arteri\" + 0.007*\"patient\" + 0.007*\"effect\" + 0.006*\"diseas\" + 0.006*\"treatment\" + 0.005*\"heart\" + 0.005*\"group\" + 0.004*\"vaccin\"\n",
      "\n",
      "Score: 0.0347069688141346\t \n",
      "Topic: 0.011*\"risk\" + 0.007*\"factor\" + 0.006*\"subject\" + 0.006*\"year\" + 0.006*\"diabet\" + 0.006*\"associ\" + 0.005*\"studi\" + 0.005*\"women\" + 0.005*\"featur\" + 0.005*\"treatment\"\n",
      "\n",
      "Score: 0.034323517233133316\t \n",
      "Topic: 0.010*\"patient\" + 0.010*\"data\" + 0.009*\"ventricular\" + 0.008*\"hemodynam\" + 0.007*\"leav\" + 0.006*\"mutat\" + 0.006*\"blood\" + 0.006*\"pressur\" + 0.006*\"function\" + 0.006*\"clinic\"\n",
      "\n",
      "Score: 0.034039393067359924\t \n",
      "Topic: 0.027*\"outcom\" + 0.015*\"secondari\" + 0.013*\"primari\" + 0.013*\"analysi\" + 0.012*\"surviv\" + 0.012*\"multivari\" + 0.011*\"treatment\" + 0.010*\"year\" + 0.010*\"respons\" + 0.010*\"mortal\"\n"
     ]
    }
   ],
   "source": [
    "for ind, score in sorted(lda_model_tfidf[bow_corpus[45]], key=lambda x: -1*x[1]):\n",
    "    print('\\nScore: {}\\t \\nTopic: {}'.format(score, lda_model_tfidf.print_topic(ind, 10)))"
   ]
  },
  {
   "cell_type": "code",
   "execution_count": 106,
   "metadata": {},
   "outputs": [],
   "source": [
    "import seaborn as sns\n",
    "import matplotlib.pyplot as plt"
   ]
  },
  {
   "cell_type": "code",
   "execution_count": 107,
   "metadata": {},
   "outputs": [
    {
     "data": {
      "text/plain": [
       "<matplotlib.axes._subplots.AxesSubplot at 0x11ce94470>"
      ]
     },
     "execution_count": 107,
     "metadata": {},
     "output_type": "execute_result"
    },
    {
     "data": {
      "text/plain": [
       "Text(0.5,1,'topic 1')"
      ]
     },
     "execution_count": 107,
     "metadata": {},
     "output_type": "execute_result"
    },
    {
     "data": {
      "text/plain": [
       "<matplotlib.axes._subplots.AxesSubplot at 0x11ce94470>"
      ]
     },
     "execution_count": 107,
     "metadata": {},
     "output_type": "execute_result"
    },
    {
     "data": {
      "text/plain": [
       "Text(0.5,0,'probability')"
      ]
     },
     "execution_count": 107,
     "metadata": {},
     "output_type": "execute_result"
    },
    {
     "data": {
      "text/plain": [
       "<matplotlib.axes._subplots.AxesSubplot at 0x11c572f60>"
      ]
     },
     "execution_count": 107,
     "metadata": {},
     "output_type": "execute_result"
    },
    {
     "data": {
      "text/plain": [
       "Text(0.5,1,'topic 2')"
      ]
     },
     "execution_count": 107,
     "metadata": {},
     "output_type": "execute_result"
    },
    {
     "data": {
      "text/plain": [
       "<matplotlib.axes._subplots.AxesSubplot at 0x11c572f60>"
      ]
     },
     "execution_count": 107,
     "metadata": {},
     "output_type": "execute_result"
    },
    {
     "data": {
      "text/plain": [
       "Text(0.5,0,'probability')"
      ]
     },
     "execution_count": 107,
     "metadata": {},
     "output_type": "execute_result"
    },
    {
     "data": {
      "text/plain": [
       "<matplotlib.axes._subplots.AxesSubplot at 0x115d13ba8>"
      ]
     },
     "execution_count": 107,
     "metadata": {},
     "output_type": "execute_result"
    },
    {
     "data": {
      "text/plain": [
       "Text(0.5,1,'topic 3')"
      ]
     },
     "execution_count": 107,
     "metadata": {},
     "output_type": "execute_result"
    },
    {
     "data": {
      "text/plain": [
       "<matplotlib.axes._subplots.AxesSubplot at 0x115d13ba8>"
      ]
     },
     "execution_count": 107,
     "metadata": {},
     "output_type": "execute_result"
    },
    {
     "data": {
      "text/plain": [
       "Text(0.5,0,'probability')"
      ]
     },
     "execution_count": 107,
     "metadata": {},
     "output_type": "execute_result"
    },
    {
     "data": {
      "text/plain": [
       "<matplotlib.axes._subplots.AxesSubplot at 0x1197e5e10>"
      ]
     },
     "execution_count": 107,
     "metadata": {},
     "output_type": "execute_result"
    },
    {
     "data": {
      "text/plain": [
       "Text(0.5,1,'topic 4')"
      ]
     },
     "execution_count": 107,
     "metadata": {},
     "output_type": "execute_result"
    },
    {
     "data": {
      "text/plain": [
       "<matplotlib.axes._subplots.AxesSubplot at 0x1197e5e10>"
      ]
     },
     "execution_count": 107,
     "metadata": {},
     "output_type": "execute_result"
    },
    {
     "data": {
      "text/plain": [
       "Text(0.5,0,'probability')"
      ]
     },
     "execution_count": 107,
     "metadata": {},
     "output_type": "execute_result"
    },
    {
     "data": {
      "text/plain": [
       "<matplotlib.axes._subplots.AxesSubplot at 0x11bff2ac8>"
      ]
     },
     "execution_count": 107,
     "metadata": {},
     "output_type": "execute_result"
    },
    {
     "data": {
      "text/plain": [
       "Text(0.5,1,'topic 5')"
      ]
     },
     "execution_count": 107,
     "metadata": {},
     "output_type": "execute_result"
    },
    {
     "data": {
      "text/plain": [
       "<matplotlib.axes._subplots.AxesSubplot at 0x11bff2ac8>"
      ]
     },
     "execution_count": 107,
     "metadata": {},
     "output_type": "execute_result"
    },
    {
     "data": {
      "text/plain": [
       "Text(0.5,0,'probability')"
      ]
     },
     "execution_count": 107,
     "metadata": {},
     "output_type": "execute_result"
    },
    {
     "ename": "IndexError",
     "evalue": "index 5 is out of bounds for axis 0 with size 5",
     "output_type": "error",
     "traceback": [
      "\u001b[0;31m---------------------------------------------------------------------------\u001b[0m",
      "\u001b[0;31mIndexError\u001b[0m                                Traceback (most recent call last)",
      "\u001b[0;32m<ipython-input-107-0e27352db89d>\u001b[0m in \u001b[0;36m<module>\u001b[0;34m()\u001b[0m\n\u001b[1;32m      2\u001b[0m \u001b[0;34m\u001b[0m\u001b[0m\n\u001b[1;32m      3\u001b[0m \u001b[0;32mfor\u001b[0m \u001b[0mi\u001b[0m \u001b[0;32min\u001b[0m \u001b[0mrange\u001b[0m\u001b[0;34m(\u001b[0m\u001b[0;36m9\u001b[0m\u001b[0;34m)\u001b[0m\u001b[0;34m:\u001b[0m\u001b[0;34m\u001b[0m\u001b[0m\n\u001b[0;32m----> 4\u001b[0;31m     \u001b[0mdf\u001b[0m\u001b[0;34m=\u001b[0m\u001b[0mpd\u001b[0m\u001b[0;34m.\u001b[0m\u001b[0mDataFrame\u001b[0m\u001b[0;34m(\u001b[0m\u001b[0mlda_model\u001b[0m\u001b[0;34m.\u001b[0m\u001b[0mshow_topic\u001b[0m\u001b[0;34m(\u001b[0m\u001b[0mi\u001b[0m\u001b[0;34m)\u001b[0m\u001b[0;34m,\u001b[0m \u001b[0mcolumns\u001b[0m\u001b[0;34m=\u001b[0m\u001b[0;34m[\u001b[0m\u001b[0;34m'term'\u001b[0m\u001b[0;34m,\u001b[0m\u001b[0;34m'prob'\u001b[0m\u001b[0;34m]\u001b[0m\u001b[0;34m)\u001b[0m\u001b[0;34m.\u001b[0m\u001b[0mset_index\u001b[0m\u001b[0;34m(\u001b[0m\u001b[0;34m'term'\u001b[0m\u001b[0;34m)\u001b[0m\u001b[0;34m\u001b[0m\u001b[0m\n\u001b[0m\u001b[1;32m      5\u001b[0m \u001b[0;34m\u001b[0m\u001b[0m\n\u001b[1;32m      6\u001b[0m     \u001b[0mplt\u001b[0m\u001b[0;34m.\u001b[0m\u001b[0msubplot\u001b[0m\u001b[0;34m(\u001b[0m\u001b[0;36m5\u001b[0m\u001b[0;34m,\u001b[0m\u001b[0;36m2\u001b[0m\u001b[0;34m,\u001b[0m\u001b[0mi\u001b[0m\u001b[0;34m+\u001b[0m\u001b[0;36m1\u001b[0m\u001b[0;34m)\u001b[0m\u001b[0;34m\u001b[0m\u001b[0m\n",
      "\u001b[0;32m~/workspace/keras/venv/lib/python3.6/site-packages/gensim/models/ldamodel.py\u001b[0m in \u001b[0;36mshow_topic\u001b[0;34m(self, topicid, topn)\u001b[0m\n\u001b[1;32m   1171\u001b[0m \u001b[0;34m\u001b[0m\u001b[0m\n\u001b[1;32m   1172\u001b[0m         \"\"\"\n\u001b[0;32m-> 1173\u001b[0;31m         \u001b[0;32mreturn\u001b[0m \u001b[0;34m[\u001b[0m\u001b[0;34m(\u001b[0m\u001b[0mself\u001b[0m\u001b[0;34m.\u001b[0m\u001b[0mid2word\u001b[0m\u001b[0;34m[\u001b[0m\u001b[0mid\u001b[0m\u001b[0;34m]\u001b[0m\u001b[0;34m,\u001b[0m \u001b[0mvalue\u001b[0m\u001b[0;34m)\u001b[0m \u001b[0;32mfor\u001b[0m \u001b[0mid\u001b[0m\u001b[0;34m,\u001b[0m \u001b[0mvalue\u001b[0m \u001b[0;32min\u001b[0m \u001b[0mself\u001b[0m\u001b[0;34m.\u001b[0m\u001b[0mget_topic_terms\u001b[0m\u001b[0;34m(\u001b[0m\u001b[0mtopicid\u001b[0m\u001b[0;34m,\u001b[0m \u001b[0mtopn\u001b[0m\u001b[0;34m)\u001b[0m\u001b[0;34m]\u001b[0m\u001b[0;34m\u001b[0m\u001b[0m\n\u001b[0m\u001b[1;32m   1174\u001b[0m \u001b[0;34m\u001b[0m\u001b[0m\n\u001b[1;32m   1175\u001b[0m     \u001b[0;32mdef\u001b[0m \u001b[0mget_topics\u001b[0m\u001b[0;34m(\u001b[0m\u001b[0mself\u001b[0m\u001b[0;34m)\u001b[0m\u001b[0;34m:\u001b[0m\u001b[0;34m\u001b[0m\u001b[0m\n",
      "\u001b[0;32m~/workspace/keras/venv/lib/python3.6/site-packages/gensim/models/ldamodel.py\u001b[0m in \u001b[0;36mget_topic_terms\u001b[0;34m(self, topicid, topn)\u001b[0m\n\u001b[1;32m   1203\u001b[0m \u001b[0;34m\u001b[0m\u001b[0m\n\u001b[1;32m   1204\u001b[0m         \"\"\"\n\u001b[0;32m-> 1205\u001b[0;31m         \u001b[0mtopic\u001b[0m \u001b[0;34m=\u001b[0m \u001b[0mself\u001b[0m\u001b[0;34m.\u001b[0m\u001b[0mget_topics\u001b[0m\u001b[0;34m(\u001b[0m\u001b[0;34m)\u001b[0m\u001b[0;34m[\u001b[0m\u001b[0mtopicid\u001b[0m\u001b[0;34m]\u001b[0m\u001b[0;34m\u001b[0m\u001b[0m\n\u001b[0m\u001b[1;32m   1206\u001b[0m         \u001b[0mtopic\u001b[0m \u001b[0;34m=\u001b[0m \u001b[0mtopic\u001b[0m \u001b[0;34m/\u001b[0m \u001b[0mtopic\u001b[0m\u001b[0;34m.\u001b[0m\u001b[0msum\u001b[0m\u001b[0;34m(\u001b[0m\u001b[0;34m)\u001b[0m  \u001b[0;31m# normalize to probability distribution\u001b[0m\u001b[0;34m\u001b[0m\u001b[0m\n\u001b[1;32m   1207\u001b[0m         \u001b[0mbestn\u001b[0m \u001b[0;34m=\u001b[0m \u001b[0mmatutils\u001b[0m\u001b[0;34m.\u001b[0m\u001b[0margsort\u001b[0m\u001b[0;34m(\u001b[0m\u001b[0mtopic\u001b[0m\u001b[0;34m,\u001b[0m \u001b[0mtopn\u001b[0m\u001b[0;34m,\u001b[0m \u001b[0mreverse\u001b[0m\u001b[0;34m=\u001b[0m\u001b[0;32mTrue\u001b[0m\u001b[0;34m)\u001b[0m\u001b[0;34m\u001b[0m\u001b[0m\n",
      "\u001b[0;31mIndexError\u001b[0m: index 5 is out of bounds for axis 0 with size 5"
     ]
    },
    {
     "data": {
      "image/png": "[encoded data removed]",
      "text/plain": [
       "<Figure size 1080x2160 with 5 Axes>"
      ]
     },
     "metadata": {},
     "output_type": "display_data"
    }
   ],
   "source": [
    "fiz=plt.figure(figsize=(15,30))\n",
    "\n",
    "for i in range(9):\n",
    "    df=pd.DataFrame(lda_model.show_topic(i), columns=['term','prob']).set_index('term')\n",
    "    \n",
    "    plt.subplot(5,2,i+1)\n",
    "    plt.title('topic '+str(i+1))\n",
    "    sns.barplot(x='prob', y=df.index, data=df, palette='Reds_d')\n",
    "    plt.xlabel('probability')\n",
    "    \n",
    "\n",
    "plt.show()"
   ]
  },
  {
   "cell_type": "code",
   "execution_count": null,
   "metadata": {},
   "outputs": [],
   "source": [
    "import pyLDAvis.gensim\n",
    "\n",
    "pyLDAvis.enable_notebook()"
   ]
  },
  {
   "cell_type": "code",
   "execution_count": null,
   "metadata": {},
   "outputs": [],
   "source": [
    "data = pyLDAvis.gensim.prepare(lda_model, bow_corpus, dictionary)\n",
    "data\n",
    "#each bubble = topic, the larger the bubble, the more prevalent is that topic\n",
    "#good topic = fairly big, non-overlapping bubbles scattered throughout the chart\n",
    "#model with too many topics = typically have many overlaps, small sized bubbles in one region of the chart\n",
    "\n",
    "#bar = salient keywords that form the selected topic"
   ]
  },
  {
   "cell_type": "code",
   "execution_count": null,
   "metadata": {},
   "outputs": [],
   "source": [
    "pyLDAvis.save_html(data, 'vis.html')"
   ]
  },
  {
   "cell_type": "code",
   "execution_count": null,
   "metadata": {},
   "outputs": [],
   "source": [
    "# https://github.com/JasonKessler/Scattertext-PyDatab"
   ]
  },
  {
   "cell_type": "markdown",
   "metadata": {},
   "source": [
    "#### Perplexity and Coherence score\n",
    "- model perplexity and topic coherence provide a convenient measure to judge how good a given topic model is"
   ]
  },
  {
   "cell_type": "code",
   "execution_count": 108,
   "metadata": {},
   "outputs": [
    {
     "name": "stdout",
     "output_type": "stream",
     "text": [
      "\n",
      "Perplexit:  -6.819606213414746\n"
     ]
    }
   ],
   "source": [
    "#compute perplexity : a measure of how good the model is\n",
    "# lower the better\n",
    "print('\\nPerplexit: ', lda_model.log_perplexity(bow_corpus))"
   ]
  },
  {
   "cell_type": "code",
   "execution_count": 109,
   "metadata": {},
   "outputs": [
    {
     "name": "stdout",
     "output_type": "stream",
     "text": [
      "\n",
      "Coherence Score:  0.392775332001609\n"
     ]
    }
   ],
   "source": [
    "from gensim.models import CoherenceModel\n",
    "\n",
    "#compute coherence score\n",
    "coherence_model_lda = CoherenceModel(model=lda_model, texts=processed_docs, dictionary=dictionary, coherence='c_v')\n",
    "coherence_lda = coherence_model_lda.get_coherence()\n",
    "print('\\nCoherence Score: ', coherence_lda)"
   ]
  },
  {
   "cell_type": "code",
   "execution_count": 110,
   "metadata": {},
   "outputs": [],
   "source": [
    "#is mallet better?\n",
    "# Download File: http://mallet.cs.umass.edu/dist/mallet-2.0.8.zip\n",
    "mallet_path = './mallet-2.0.8/bin/mallet'\n",
    "lda_mallet = gensim.models.wrappers.LdaMallet(mallet_path=mallet_path, corpus=bow_corpus, num_topics=10, id2word=dictionary)"
   ]
  },
  {
   "cell_type": "code",
   "execution_count": 111,
   "metadata": {},
   "outputs": [
    {
     "name": "stdout",
     "output_type": "stream",
     "text": [
      "[(0,\n",
      "  [('coronari', 0.07088727943849445),\n",
      "   ('patient', 0.054500713067307964),\n",
      "   ('diseas', 0.05357792008053466),\n",
      "   ('arteri', 0.046950588630071864),\n",
      "   ('myocardi', 0.035765219093425796),\n",
      "   ('data', 0.03501020664970219),\n",
      "   ('procedur', 0.034870389530494116),\n",
      "   ('infarct', 0.03185033975559968),\n",
      "   ('angiograph', 0.02720841139789156),\n",
      "   ('acut', 0.01602304186124549)]),\n",
      " (1,\n",
      "  [('year', 0.07177373507674815),\n",
      "   ('rat', 0.02930642410460489),\n",
      "   ('number', 0.023848777714610574),\n",
      "   ('estim', 0.021773735076748152),\n",
      "   ('women', 0.021119954519613418),\n",
      "   ('effect', 0.020807276861853324),\n",
      "   ('health', 0.01665719158612848),\n",
      "   ('status', 0.016515065378055714),\n",
      "   ('preval', 0.016287663445139284),\n",
      "   ('children', 0.014752700397953383)]),\n",
      " (2,\n",
      "  [('characterist', 0.34008362012571464),\n",
      "   ('baselin', 0.23527404078614295),\n",
      "   ('clinic', 0.11172103870986091),\n",
      "   ('patient', 0.09804033106743651),\n",
      "   ('demograph', 0.05859097243948918),\n",
      "   ('studi', 0.05190705082624648),\n",
      "   ('particip', 0.03421599021587645),\n",
      "   ('enrol', 0.007195881566597458),\n",
      "   ('biochem', 0.004920503996131858),\n",
      "   ('popul', 0.004550755140931198)]),\n",
      " (3,\n",
      "  [('death', 0.0485206083693753),\n",
      "   ('result', 0.03886804342222095),\n",
      "   ('valu', 0.037120843238908144),\n",
      "   ('score', 0.03460029215478475),\n",
      "   ('time', 0.034313865895225275),\n",
      "   ('cardiac', 0.032853091971471945),\n",
      "   ('differ', 0.029816973620141494),\n",
      "   ('caus', 0.026924068398590784),\n",
      "   ('test', 0.0266949273909432),\n",
      "   ('predict', 0.022312605619683214)]),\n",
      " (4,\n",
      "  [('leav', 0.04380150250851335),\n",
      "   ('heart', 0.04231978996074762),\n",
      "   ('ventricular', 0.040604122800176765),\n",
      "   ('blood', 0.02687878551560997),\n",
      "   ('pressur', 0.026852790558631625),\n",
      "   ('hemodynam', 0.02305752683979308),\n",
      "   ('rate', 0.0212118848943305),\n",
      "   ('index', 0.020432036184980115),\n",
      "   ('failur', 0.020224076529153343),\n",
      "   ('atrial', 0.018040500142972263)]),\n",
      " (5,\n",
      "  [('analysi', 0.07903615812854974),\n",
      "   ('mortal', 0.05063825001405837),\n",
      "   ('variabl', 0.04577405387167519),\n",
      "   ('multivari', 0.044396333577011754),\n",
      "   ('model', 0.04045998987797335),\n",
      "   ('ratio', 0.03823876736208739),\n",
      "   ('regress', 0.03787324973289096),\n",
      "   ('adjust', 0.0344992408480009),\n",
      "   ('associ', 0.033571388404656136),\n",
      "   ('predictor', 0.030337963223303156)]),\n",
      " (6,\n",
      "  [('risk', 0.08503401360544217),\n",
      "   ('relat', 0.055497412640269785),\n",
      "   ('factor', 0.0449154020582592),\n",
      "   ('accord', 0.03171696028838886),\n",
      "   ('incid', 0.029129600558171986),\n",
      "   ('associ', 0.020291877434734578),\n",
      "   ('type', 0.019099947671376242),\n",
      "   ('concentr', 0.017239374382231526),\n",
      "   ('stratifi', 0.016687016687016686),\n",
      "   ('individu', 0.01543694400837258)]),\n",
      " (7,\n",
      "  [('patient', 0.08820391227030232),\n",
      "   ('legend', 0.0456727919383521),\n",
      "   ('control', 0.04223473621813871),\n",
      "   ('respons', 0.030675755779490218),\n",
      "   ('trial', 0.03034973325429757),\n",
      "   ('cohort', 0.02860106698280972),\n",
      "   ('studi', 0.027119146413752224),\n",
      "   ('cancer', 0.026259632483698874),\n",
      "   ('comparison', 0.025815056312981623),\n",
      "   ('surviv', 0.024896265560165973)]),\n",
      " (8,\n",
      "  [('event', 0.1109266701613373),\n",
      "   ('treatment', 0.105014852350166),\n",
      "   ('group', 0.08352262799231172),\n",
      "   ('patient', 0.08014444638592813),\n",
      "   ('advers', 0.06208864814491234),\n",
      "   ('hospit', 0.033490593511561535),\n",
      "   ('therapi', 0.022424136525132508),\n",
      "   ('day', 0.01919156619488613),\n",
      "   ('medic', 0.018783854621701904),\n",
      "   ('dose', 0.018317898538062788)]),\n",
      " (9,\n",
      "  [('outcom', 0.09415729666855557),\n",
      "   ('popul', 0.06415341942795788),\n",
      "   ('follow', 0.05538489069164007),\n",
      "   ('month', 0.04941990515673),\n",
      "   ('chang', 0.04646723731694951),\n",
      "   ('studi', 0.03737063437621164),\n",
      "   ('measur', 0.036326761907602374),\n",
      "   ('treat', 0.0345074413194548),\n",
      "   ('group', 0.03230039667153807),\n",
      "   ('clinic', 0.030361776372692297)])]\n",
      "\n",
      "Coherence Score:  0.5059290499205129\n"
     ]
    }
   ],
   "source": [
    "#show topics\n",
    "pprint(lda_mallet.show_topics(formatted=False))\n",
    "\n",
    "#compute coherenece score\n",
    "coherence_lda_mallet = CoherenceModel(model=lda_mallet, texts=processed_docs, dictionary=dictionary, coherence='c_v')\n",
    "coherenece_lda_m = coherence_lda_mallet.get_coherence()\n",
    "print('\\nCoherence Score: ', coherenece_lda_m)"
   ]
  },
  {
   "cell_type": "markdown",
   "metadata": {},
   "source": [
    "#### Optimal number of topics\n",
    "- build many LDA models with different values of number of topics and pick the one that gives the highest coherence value\n",
    "- https://www.machinelearningplus.com/nlp/topic-modeling-gensim-python/#14computemodelperplexityandcoherencescore"
   ]
  },
  {
   "cell_type": "code",
   "execution_count": 112,
   "metadata": {},
   "outputs": [],
   "source": [
    "def compute_coherence_values(dictionary, corpus, texts, limit, start=2, step=3):\n",
    "    \"\"\"\n",
    "    compute c_v coherence for various number of topics\n",
    "    \n",
    "    parameters:\n",
    "    dictionary : gensim dictionary\n",
    "    corpus : gensim corpus\n",
    "    texts : list of input texts\n",
    "    limit : max number of topics\n",
    "    \n",
    "    returns:\n",
    "    model_list : list of LDA topic models\n",
    "    coherence_values : coherence value\n",
    "    \"\"\"\n",
    "    \n",
    "    coherenece_values = []\n",
    "    u_mass_coherenece_values = []\n",
    "    model_list = []\n",
    "    for num_topics in range(start, limit, step):\n",
    "        model = gensim.models.wrappers.LdaMallet(mallet_path, corpus=bow_corpus, \\\n",
    "                                                 num_topics=num_topics, id2word=dictionary)\n",
    "        model_list.append(model)\n",
    "        coherence_model = CoherenceModel(model=model, texts=texts, dictionary=dictionary, coherence='c_v')\n",
    "        u_mass_coherence_model = CoherenceModel(model=model, texts=texts, dictionary=dictionary, coherence='u_mass')\n",
    "        \n",
    "        coherenece_values.append(coherence_model.get_coherence())\n",
    "        u_mass_coherenece_values.append(u_mass_coherence_model.get_coherence())\n",
    "\n",
    "    return model_list, coherenece_values, u_mass_coherenece_values"
   ]
  },
  {
   "cell_type": "code",
   "execution_count": 113,
   "metadata": {},
   "outputs": [],
   "source": [
    "model_list, coherence_values, umass_co_val = compute_coherence_values(dictionary=dictionary, corpus=bow_corpus, \\\n",
    "                                                       texts=processed_docs, start=2, limit=15, step=1)"
   ]
  },
  {
   "cell_type": "code",
   "execution_count": 114,
   "metadata": {},
   "outputs": [
    {
     "data": {
      "text/plain": [
       "<Figure size 1080x720 with 0 Axes>"
      ]
     },
     "execution_count": 114,
     "metadata": {},
     "output_type": "execute_result"
    },
    {
     "data": {
      "text/plain": [
       "[<matplotlib.lines.Line2D at 0x108d128d0>]"
      ]
     },
     "execution_count": 114,
     "metadata": {},
     "output_type": "execute_result"
    },
    {
     "data": {
      "text/plain": [
       "Text(0.5,0,'Number of Topics')"
      ]
     },
     "execution_count": 114,
     "metadata": {},
     "output_type": "execute_result"
    },
    {
     "data": {
      "text/plain": [
       "Text(0,0.5,'Coherence score')"
      ]
     },
     "execution_count": 114,
     "metadata": {},
     "output_type": "execute_result"
    },
    {
     "data": {
      "text/plain": [
       "<matplotlib.legend.Legend at 0x11b060cc0>"
      ]
     },
     "execution_count": 114,
     "metadata": {},
     "output_type": "execute_result"
    },
    {
     "data": {
      "image/png": "[encoded data removed]",
      "text/plain": [
       "<Figure size 1080x720 with 1 Axes>"
      ]
     },
     "metadata": {},
     "output_type": "display_data"
    }
   ],
   "source": [
    "#graph\n",
    "plt.figure(figsize=(15,10))\n",
    "\n",
    "limit = 15; start=2; step=1;\n",
    "x = range(start, limit, step)\n",
    "plt.plot(x, coherence_values)\n",
    "plt.xlabel(\"Number of Topics\")\n",
    "plt.ylabel(\"Coherence score\")\n",
    "plt.legend((\"coherence_values\"), loc=\"best\")\n",
    "plt.show()"
   ]
  },
  {
   "cell_type": "code",
   "execution_count": 115,
   "metadata": {},
   "outputs": [
    {
     "data": {
      "text/plain": [
       "<Figure size 1080x720 with 0 Axes>"
      ]
     },
     "execution_count": 115,
     "metadata": {},
     "output_type": "execute_result"
    },
    {
     "data": {
      "text/plain": [
       "[<matplotlib.lines.Line2D at 0x121b6bf28>]"
      ]
     },
     "execution_count": 115,
     "metadata": {},
     "output_type": "execute_result"
    },
    {
     "data": {
      "text/plain": [
       "Text(0.5,0,'Number of Topics')"
      ]
     },
     "execution_count": 115,
     "metadata": {},
     "output_type": "execute_result"
    },
    {
     "data": {
      "text/plain": [
       "Text(0,0.5,'u mass Coherence score')"
      ]
     },
     "execution_count": 115,
     "metadata": {},
     "output_type": "execute_result"
    },
    {
     "data": {
      "text/plain": [
       "<matplotlib.legend.Legend at 0x11ba549e8>"
      ]
     },
     "execution_count": 115,
     "metadata": {},
     "output_type": "execute_result"
    },
    {
     "data": {
      "image/png": "[encoded data removed]",
      "text/plain": [
       "<Figure size 1080x720 with 1 Axes>"
      ]
     },
     "metadata": {},
     "output_type": "display_data"
    }
   ],
   "source": [
    "#graph\n",
    "plt.figure(figsize=(15,10))\n",
    "\n",
    "limit = 15; start=2; step=1;\n",
    "x = range(start, limit, step)\n",
    "plt.plot(x, umass_co_val)\n",
    "plt.xlabel(\"Number of Topics\")\n",
    "plt.ylabel(\"u mass Coherence score\")\n",
    "plt.legend((\"u mass coherence_values\"), loc=\"best\")\n",
    "plt.show()"
   ]
  },
  {
   "cell_type": "code",
   "execution_count": 116,
   "metadata": {},
   "outputs": [
    {
     "name": "stdout",
     "output_type": "stream",
     "text": [
      "Num Topics = 2  has Coherence Value of 0.3246\n",
      "Num Topics = 3  has Coherence Value of 0.4089\n",
      "Num Topics = 4  has Coherence Value of 0.438\n",
      "Num Topics = 5  has Coherence Value of 0.4786\n",
      "Num Topics = 6  has Coherence Value of 0.459\n",
      "Num Topics = 7  has Coherence Value of 0.4838\n",
      "Num Topics = 8  has Coherence Value of 0.5306\n",
      "Num Topics = 9  has Coherence Value of 0.487\n",
      "Num Topics = 10  has Coherence Value of 0.5351\n",
      "Num Topics = 11  has Coherence Value of 0.5325\n",
      "Num Topics = 12  has Coherence Value of 0.4786\n",
      "Num Topics = 13  has Coherence Value of 0.4835\n",
      "Num Topics = 14  has Coherence Value of 0.5254\n"
     ]
    }
   ],
   "source": [
    "# Print the coherence scores\n",
    "# one that maximizes the topic coherence\n",
    "for m, cv in zip(x, coherence_values):\n",
    "    print(\"Num Topics =\", m, \" has Coherence Value of\", round(cv, 4))"
   ]
  },
  {
   "cell_type": "code",
   "execution_count": 117,
   "metadata": {},
   "outputs": [
    {
     "name": "stdout",
     "output_type": "stream",
     "text": [
      "Num Topics = 2  has Coherence Value of -3.1984\n",
      "Num Topics = 3  has Coherence Value of -3.2056\n",
      "Num Topics = 4  has Coherence Value of -3.3243\n",
      "Num Topics = 5  has Coherence Value of -3.3911\n",
      "Num Topics = 6  has Coherence Value of -3.6763\n",
      "Num Topics = 7  has Coherence Value of -3.9799\n",
      "Num Topics = 8  has Coherence Value of -3.4962\n",
      "Num Topics = 9  has Coherence Value of -4.4445\n",
      "Num Topics = 10  has Coherence Value of -4.7704\n",
      "Num Topics = 11  has Coherence Value of -4.9713\n",
      "Num Topics = 12  has Coherence Value of -4.6144\n",
      "Num Topics = 13  has Coherence Value of -5.2381\n",
      "Num Topics = 14  has Coherence Value of -5.0482\n"
     ]
    }
   ],
   "source": [
    "# Print the coherence scores\n",
    "for m, um in zip(x, umass_co_val):\n",
    "    print(\"Num Topics =\", m, \" has Coherence Value of\", round(um, 4))"
   ]
  },
  {
   "cell_type": "code",
   "execution_count": null,
   "metadata": {},
   "outputs": [],
   "source": []
  }
 ],
 "metadata": {
  "anaconda-cloud": {},
  "kernelspec": {
   "display_name": "Python 3",
   "language": "python",
   "name": "python3"
  },
  "language_info": {
   "codemirror_mode": {
    "name": "ipython",
    "version": 3
   },
   "file_extension": ".py",
   "mimetype": "text/x-python",
   "name": "python",
   "nbconvert_exporter": "python",
   "pygments_lexer": "ipython3",
   "version": "3.6.4"
  }
 },
 "nbformat": 4,
 "nbformat_minor": 2
}
