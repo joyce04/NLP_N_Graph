{
 "cells": [
  {
   "cell_type": "code",
   "execution_count": 1,
   "metadata": {},
   "outputs": [],
   "source": [
    "import os\n",
    "from xml.dom import minidom\n",
    "import pandas as pd\n",
    "import numpy as np\n",
    "from pymongo import MongoClient\n",
    "import db_con_mongo"
   ]
  },
  {
   "cell_type": "markdown",
   "metadata": {},
   "source": [
    "DATA SOURCE : https://www.cs.york.ac.uk/semeval-2013/task9/index.php%3Fid=data.html"
   ]
  },
  {
   "cell_type": "code",
   "execution_count": 2,
   "metadata": {},
   "outputs": [],
   "source": [
    "file_locs = ['/home/grace/workspace/bio_dataset/semeval_task9_train_pair/Train/MedLine',\n",
    "            '/home/grace/workspace/bio_dataset/semeval_task9_train_pair/Train/DrugBank']\n",
    "\n",
    "entity_pairs = []\n",
    "sents = []\n",
    "for file_loc in file_locs:\n",
    "    medlines = os.listdir(file_loc)\n",
    "\n",
    "    file_attribs = []\n",
    "    for med in medlines:\n",
    "        doc = minidom.parse(file_loc+'/'+med)\n",
    "        items = doc.getElementsByTagName('document')\n",
    "        doc_id = items[0].attributes['id'].value\n",
    "\n",
    "        for sent in doc.getElementsByTagName('sentence'):\n",
    "            sent_id = sent.attributes['id'].value\n",
    "            sent_text = sent.attributes['text'].value\n",
    "            if sent_id=='DrugDDI.d124.s16':\n",
    "                print(sent_text)\n",
    "            \n",
    "            if sent_text.strip():\n",
    "                sents.append({'id':sent_id, 'sent':sent_text})\n",
    "\n",
    "            # entity(drug)의 갯수가 1보다 클때만\n",
    "            if len(sent.getElementsByTagName('pair')) > 0:\n",
    "                for pair_info in sent.getElementsByTagName('pair'):\n",
    "                    ddi = pair_info.attributes['ddi'].value\n",
    "                    e1 = pair_info.attributes['e1'].value\n",
    "                    e2 = pair_info.attributes['e2'].value\n",
    "                    \n",
    "                    for e in sent.getElementsByTagName('entity'):\n",
    "                        if e.attributes['id'].value==e1:\n",
    "                            e1_name = e.attributes['text'].value\n",
    "                        elif e.attributes['id'].value==e2:\n",
    "                            e2_name = e.attributes['text'].value\n",
    "                    \n",
    "                    if e1_name < e2_name:\n",
    "                        entity_pairs.append({'ddi':ddi, \n",
    "                                             'e1_id':e1, \n",
    "                                             'e1_name':e1_name,\n",
    "                                             'e2_id':e2, \n",
    "                                             'e2_name':e2_name})\n",
    "                    else:\n",
    "                        entity_pairs.append({'ddi':ddi, \n",
    "                                             'e1_id':e2, \n",
    "                                             'e1_name':e2_name,\n",
    "                                             'e2_id':e1, \n",
    "                                             'e2_name':e1_name})\n",
    "    #                 for ent in sent.getElementsByTagName('entity'):\n",
    "    #                     ent_id = ent.attributes['id'].value\n",
    "    #         #             ent_charOffset = ent.attributes['charOffset'].value\n",
    "    #                     ent_type = ent.attributes['type'].value.strip()\n",
    "    #                     ent_text = ent.attributes['text'].value.lower().strip()\n",
    "\n",
    "    #                     entities.append({'type':ent_type, 'entity':ent_text})\n",
    "    #                 entity_pairs.append(entities)"
   ]
  },
  {
   "cell_type": "code",
   "execution_count": 3,
   "metadata": {},
   "outputs": [
    {
     "name": "stdout",
     "output_type": "stream",
     "text": [
      "(27792, 5)\n",
      "(27792, 5)\n"
     ]
    }
   ],
   "source": [
    "ents = pd.DataFrame(entity_pairs)\n",
    "print(ents.shape)\n",
    "\n",
    "ents.drop_duplicates(inplace=True)\n",
    "print(ents.shape)\n",
    "# ents.to_csv('./entity_dic_ddi.csv', sep=',', header=None, index=None)"
   ]
  },
  {
   "cell_type": "code",
   "execution_count": 4,
   "metadata": {},
   "outputs": [
    {
     "data": {
      "text/html": [
       "<div>\n",
       "<style scoped>\n",
       "    .dataframe tbody tr th:only-of-type {\n",
       "        vertical-align: middle;\n",
       "    }\n",
       "\n",
       "    .dataframe tbody tr th {\n",
       "        vertical-align: top;\n",
       "    }\n",
       "\n",
       "    .dataframe thead th {\n",
       "        text-align: right;\n",
       "    }\n",
       "</style>\n",
       "<table border=\"1\" class=\"dataframe\">\n",
       "  <thead>\n",
       "    <tr style=\"text-align: right;\">\n",
       "      <th></th>\n",
       "      <th>ddi</th>\n",
       "      <th>e1_id</th>\n",
       "      <th>e1_name</th>\n",
       "      <th>e2_id</th>\n",
       "      <th>e2_name</th>\n",
       "    </tr>\n",
       "  </thead>\n",
       "  <tbody>\n",
       "    <tr>\n",
       "      <th>0</th>\n",
       "      <td>false</td>\n",
       "      <td>DDI-MedLine.d112.s0.e1</td>\n",
       "      <td>digoxin</td>\n",
       "      <td>DDI-MedLine.d112.s0.e0</td>\n",
       "      <td>dofetillide</td>\n",
       "    </tr>\n",
       "    <tr>\n",
       "      <th>1</th>\n",
       "      <td>false</td>\n",
       "      <td>DDI-MedLine.d112.s1.e1</td>\n",
       "      <td>digoxin</td>\n",
       "      <td>DDI-MedLine.d112.s1.e0</td>\n",
       "      <td>dofetilide</td>\n",
       "    </tr>\n",
       "    <tr>\n",
       "      <th>2</th>\n",
       "      <td>false</td>\n",
       "      <td>DDI-MedLine.d112.s2.e1</td>\n",
       "      <td>digoxin</td>\n",
       "      <td>DDI-MedLine.d112.s2.e0</td>\n",
       "      <td>dofetilide</td>\n",
       "    </tr>\n",
       "    <tr>\n",
       "      <th>3</th>\n",
       "      <td>false</td>\n",
       "      <td>DDI-MedLine.d112.s3.e1</td>\n",
       "      <td>digoxin</td>\n",
       "      <td>DDI-MedLine.d112.s3.e0</td>\n",
       "      <td>dofetilide</td>\n",
       "    </tr>\n",
       "    <tr>\n",
       "      <th>4</th>\n",
       "      <td>false</td>\n",
       "      <td>DDI-MedLine.d127.s6.e1</td>\n",
       "      <td>digoxin</td>\n",
       "      <td>DDI-MedLine.d127.s6.e0</td>\n",
       "      <td>thiazide diuretics</td>\n",
       "    </tr>\n",
       "  </tbody>\n",
       "</table>\n",
       "</div>"
      ],
      "text/plain": [
       "     ddi                   e1_id  e1_name                   e2_id  \\\n",
       "0  false  DDI-MedLine.d112.s0.e1  digoxin  DDI-MedLine.d112.s0.e0   \n",
       "1  false  DDI-MedLine.d112.s1.e1  digoxin  DDI-MedLine.d112.s1.e0   \n",
       "2  false  DDI-MedLine.d112.s2.e1  digoxin  DDI-MedLine.d112.s2.e0   \n",
       "3  false  DDI-MedLine.d112.s3.e1  digoxin  DDI-MedLine.d112.s3.e0   \n",
       "4  false  DDI-MedLine.d127.s6.e1  digoxin  DDI-MedLine.d127.s6.e0   \n",
       "\n",
       "              e2_name  \n",
       "0         dofetillide  \n",
       "1          dofetilide  \n",
       "2          dofetilide  \n",
       "3          dofetilide  \n",
       "4  thiazide diuretics  "
      ]
     },
     "execution_count": 4,
     "metadata": {},
     "output_type": "execute_result"
    }
   ],
   "source": [
    "ents.head()"
   ]
  },
  {
   "cell_type": "code",
   "execution_count": 5,
   "metadata": {},
   "outputs": [],
   "source": [
    "ents.ddi = np.where(ents.ddi=='true', True, False)"
   ]
  },
  {
   "cell_type": "code",
   "execution_count": 6,
   "metadata": {},
   "outputs": [
    {
     "data": {
      "text/plain": [
       "array([False,  True])"
      ]
     },
     "execution_count": 6,
     "metadata": {},
     "output_type": "execute_result"
    }
   ],
   "source": [
    "ents.ddi.unique()"
   ]
  },
  {
   "cell_type": "code",
   "execution_count": 7,
   "metadata": {},
   "outputs": [],
   "source": [
    "# ents.loc[ents.e2_id.str.find('DDI-DrugBank.d493.s0.e0')>=0]"
   ]
  },
  {
   "cell_type": "code",
   "execution_count": 8,
   "metadata": {},
   "outputs": [
    {
     "data": {
      "text/plain": [
       "(23772, 5)"
      ]
     },
     "execution_count": 8,
     "metadata": {},
     "output_type": "execute_result"
    }
   ],
   "source": [
    "ents.loc[ents.ddi==False].shape"
   ]
  },
  {
   "cell_type": "code",
   "execution_count": 9,
   "metadata": {},
   "outputs": [
    {
     "data": {
      "text/plain": [
       "(4020, 5)"
      ]
     },
     "execution_count": 9,
     "metadata": {},
     "output_type": "execute_result"
    }
   ],
   "source": [
    "ents.loc[ents.ddi==True].shape"
   ]
  },
  {
   "cell_type": "code",
   "execution_count": 10,
   "metadata": {},
   "outputs": [
    {
     "name": "stdout",
     "output_type": "stream",
     "text": [
      "         ddi                     e1_id              e1_name  \\\n",
      "2      False    DDI-MedLine.d112.s2.e1              digoxin   \n",
      "3      False    DDI-MedLine.d112.s3.e1              digoxin   \n",
      "11     False     DDI-MedLine.d74.s5.e1              glucose   \n",
      "12     False     DDI-MedLine.d74.s6.e0             Arginine   \n",
      "13     False     DDI-MedLine.d74.s6.e0             Arginine   \n",
      "14     False     DDI-MedLine.d74.s6.e1              glucose   \n",
      "15     False    DDI-MedLine.d74.s11.e1              glucose   \n",
      "18     False     DDI-MedLine.d38.s3.e1        d-amphetamine   \n",
      "20     False     DDI-MedLine.d38.s8.e1        d-amphetamine   \n",
      "25     False      DDI-MedLine.d8.s1.e1             KRM-1648   \n",
      "27      True      DDI-MedLine.d8.s6.e1             KRM-1648   \n",
      "33     False      DDI-MedLine.d8.s6.e1             KRM-1648   \n",
      "34     False      DDI-MedLine.d8.s6.e3            rifabutin   \n",
      "35      True      DDI-MedLine.d8.s6.e4            ofloxacin   \n",
      "36      True      DDI-MedLine.d8.s6.e4            ofloxacin   \n",
      "47     False     DDI-MedLine.d60.s2.e1          fluvoxamine   \n",
      "49     False     DDI-MedLine.d60.s2.e3                drugs   \n",
      "50     False     DDI-MedLine.d60.s3.e1            phenytoin   \n",
      "70     False     DDI-MedLine.d51.s4.e2                DPCPX   \n",
      "71     False     DDI-MedLine.d51.s4.e3            CGS 21680   \n",
      "72     False     DDI-MedLine.d51.s4.e4                  CPA   \n",
      "78     False     DDI-MedLine.d51.s4.e3            CGS 21680   \n",
      "115    False    DDI-MedLine.d120.s3.e1       amphotericin B   \n",
      "116    False    DDI-MedLine.d120.s3.e0              filipin   \n",
      "118    False    DDI-MedLine.d120.s4.e1       amphotericin B   \n",
      "119    False    DDI-MedLine.d120.s5.e1       amphotericin B   \n",
      "122    False     DDI-MedLine.d42.s4.e2               Viagra   \n",
      "127    False    DDI-MedLine.d42.s10.e1           sildenafil   \n",
      "131    False     DDI-MedLine.d23.s1.e0            digitalis   \n",
      "135    False     DDI-MedLine.d23.s1.e0            digitalis   \n",
      "...      ...                       ...                  ...   \n",
      "27687  False  DDI-DrugBank.d548.s21.e1             aluminum   \n",
      "27688  False  DDI-DrugBank.d548.s21.e1             aluminum   \n",
      "27689  False  DDI-DrugBank.d548.s21.e4           Duloxetine   \n",
      "27692  False  DDI-DrugBank.d548.s21.e3             antacids   \n",
      "27693  False  DDI-DrugBank.d548.s21.e4           Duloxetine   \n",
      "27696  False  DDI-DrugBank.d548.s21.e4           Duloxetine   \n",
      "27697  False  DDI-DrugBank.d548.s21.e3             antacids   \n",
      "27699  False  DDI-DrugBank.d548.s21.e4           Duloxetine   \n",
      "27700  False  DDI-DrugBank.d548.s21.e4           Duloxetine   \n",
      "27715  False    DDI-DrugBank.d63.s0.e2              Marplan   \n",
      "27716  False    DDI-DrugBank.d63.s0.e1        isocarboxazid   \n",
      "27717  False    DDI-DrugBank.d63.s0.e4               Nardil   \n",
      "27722  False    DDI-DrugBank.d63.s0.e1        isocarboxazid   \n",
      "27723  False   DDI-DrugBank.d63.s0.e10              Parnate   \n",
      "27725  False    DDI-DrugBank.d63.s0.e2              Marplan   \n",
      "27726  False    DDI-DrugBank.d63.s0.e2              Marplan   \n",
      "27731  False    DDI-DrugBank.d63.s0.e2              Marplan   \n",
      "27732  False    DDI-DrugBank.d63.s0.e2              Marplan   \n",
      "27734  False    DDI-DrugBank.d63.s0.e4               Nardil   \n",
      "27739  False    DDI-DrugBank.d63.s0.e3           phenelzine   \n",
      "27740  False   DDI-DrugBank.d63.s0.e10              Parnate   \n",
      "27746  False    DDI-DrugBank.d63.s0.e4               Nardil   \n",
      "27747  False    DDI-DrugBank.d63.s0.e4               Nardil   \n",
      "27767  False   DDI-DrugBank.d63.s0.e10              Parnate   \n",
      "27777  False    DDI-DrugBank.d22.s1.e2              digoxin   \n",
      "27778  False    DDI-DrugBank.d22.s1.e1  aminosalicylic acid   \n",
      "27783  False    DDI-DrugBank.d32.s3.e0           ceftibuten   \n",
      "27784  False    DDI-DrugBank.d32.s4.e0             Antacids   \n",
      "27789   True    DDI-DrugBank.d32.s7.e2           ceftibuten   \n",
      "27791  False   DDI-DrugBank.d32.s12.e1           ceftibuten   \n",
      "\n",
      "                          e2_id                    e2_name  \n",
      "2        DDI-MedLine.d112.s2.e0                 dofetilide  \n",
      "3        DDI-MedLine.d112.s3.e0                 dofetilide  \n",
      "11        DDI-MedLine.d74.s5.e2               theophylline  \n",
      "12        DDI-MedLine.d74.s6.e1                    glucose  \n",
      "13        DDI-MedLine.d74.s6.e2               theophylline  \n",
      "14        DDI-MedLine.d74.s6.e2               theophylline  \n",
      "15       DDI-MedLine.d74.s11.e0               theophylline  \n",
      "18        DDI-MedLine.d38.s3.e0             hydrocortisone  \n",
      "20        DDI-MedLine.d38.s8.e0             hydrocortisone  \n",
      "25         DDI-MedLine.d8.s1.e2                  ofloxacin  \n",
      "27         DDI-MedLine.d8.s6.e0                  ofloxacin  \n",
      "33         DDI-MedLine.d8.s6.e4                  ofloxacin  \n",
      "34         DDI-MedLine.d8.s6.e2                 rifampicin  \n",
      "35         DDI-MedLine.d8.s6.e2                 rifampicin  \n",
      "36         DDI-MedLine.d8.s6.e3                  rifabutin  \n",
      "47        DDI-MedLine.d60.s2.e2                  phenytoin  \n",
      "49        DDI-MedLine.d60.s2.e2                  phenytoin  \n",
      "50        DDI-MedLine.d60.s3.e0                  phenytoin  \n",
      "70        DDI-MedLine.d51.s4.e0               theophylline  \n",
      "71        DDI-MedLine.d51.s4.e0               theophylline  \n",
      "72        DDI-MedLine.d51.s4.e0               theophylline  \n",
      "78        DDI-MedLine.d51.s4.e4                        CPA  \n",
      "115      DDI-MedLine.d120.s3.e0                    filipin  \n",
      "116      DDI-MedLine.d120.s3.e2        polyene antibiotics  \n",
      "118      DDI-MedLine.d120.s4.e0                    filipin  \n",
      "119      DDI-MedLine.d120.s5.e0                    filipin  \n",
      "122       DDI-MedLine.d42.s4.e1                 sildenafil  \n",
      "127      DDI-MedLine.d42.s10.e0                 sildenafil  \n",
      "131       DDI-MedLine.d23.s1.e1                   ketamine  \n",
      "135       DDI-MedLine.d23.s1.e5                    ouabain  \n",
      "...                         ...                        ...  \n",
      "27687  DDI-DrugBank.d548.s21.e2                  magnesium  \n",
      "27688  DDI-DrugBank.d548.s21.e3                   antacids  \n",
      "27689  DDI-DrugBank.d548.s21.e1                   aluminum  \n",
      "27692  DDI-DrugBank.d548.s21.e2                  magnesium  \n",
      "27693  DDI-DrugBank.d548.s21.e2                  magnesium  \n",
      "27696  DDI-DrugBank.d548.s21.e3                   antacids  \n",
      "27697  DDI-DrugBank.d548.s21.e5                 famotidine  \n",
      "27699  DDI-DrugBank.d548.s21.e5                 famotidine  \n",
      "27700  DDI-DrugBank.d548.s21.e6                 duloxetine  \n",
      "27715    DDI-DrugBank.d63.s0.e1              isocarboxazid  \n",
      "27716    DDI-DrugBank.d63.s0.e3                 phenelzine  \n",
      "27717    DDI-DrugBank.d63.s0.e1              isocarboxazid  \n",
      "27722    DDI-DrugBank.d63.s0.e9            tranylcypromine  \n",
      "27723    DDI-DrugBank.d63.s0.e1              isocarboxazid  \n",
      "27725    DDI-DrugBank.d63.s0.e3                 phenelzine  \n",
      "27726    DDI-DrugBank.d63.s0.e4                     Nardil  \n",
      "27731    DDI-DrugBank.d63.s0.e9            tranylcypromine  \n",
      "27732   DDI-DrugBank.d63.s0.e10                    Parnate  \n",
      "27734    DDI-DrugBank.d63.s0.e3                 phenelzine  \n",
      "27739    DDI-DrugBank.d63.s0.e9            tranylcypromine  \n",
      "27740    DDI-DrugBank.d63.s0.e3                 phenelzine  \n",
      "27746    DDI-DrugBank.d63.s0.e9            tranylcypromine  \n",
      "27747   DDI-DrugBank.d63.s0.e10                    Parnate  \n",
      "27767    DDI-DrugBank.d63.s0.e9            tranylcypromine  \n",
      "27777    DDI-DrugBank.d22.s1.e0                    digoxin  \n",
      "27778    DDI-DrugBank.d22.s1.e2                    digoxin  \n",
      "27783    DDI-DrugBank.d32.s3.e1               theophylline  \n",
      "27784    DDI-DrugBank.d32.s4.e1  H 2 -receptor antagonists  \n",
      "27789    DDI-DrugBank.d32.s7.e0                 ranitidine  \n",
      "27791   DDI-DrugBank.d32.s12.e0                 ceftibuten  \n",
      "\n",
      "[8614 rows x 5 columns]\n"
     ]
    }
   ],
   "source": [
    "duplicated_ents = ents[ents.duplicated(subset=['e1_name', 'e2_name'])]\n",
    "print(duplicated_ents)"
   ]
  },
  {
   "cell_type": "code",
   "execution_count": 11,
   "metadata": {},
   "outputs": [],
   "source": [
    "ents['True_Pair_Exists'] = False\n",
    "ents.loc[ents.ddi==True, 'True_Pair_Exists'] = True"
   ]
  },
  {
   "cell_type": "code",
   "execution_count": 12,
   "metadata": {},
   "outputs": [],
   "source": [
    "# ents.loc[ents.ddi==True]\n",
    "# ents.loc[ents.ddi==False]"
   ]
  },
  {
   "cell_type": "code",
   "execution_count": 13,
   "metadata": {},
   "outputs": [
    {
     "data": {
      "text/html": [
       "<div>\n",
       "<style scoped>\n",
       "    .dataframe tbody tr th:only-of-type {\n",
       "        vertical-align: middle;\n",
       "    }\n",
       "\n",
       "    .dataframe tbody tr th {\n",
       "        vertical-align: top;\n",
       "    }\n",
       "\n",
       "    .dataframe thead th {\n",
       "        text-align: right;\n",
       "    }\n",
       "</style>\n",
       "<table border=\"1\" class=\"dataframe\">\n",
       "  <thead>\n",
       "    <tr style=\"text-align: right;\">\n",
       "      <th></th>\n",
       "      <th>ddi</th>\n",
       "      <th>e1_id</th>\n",
       "      <th>e1_name</th>\n",
       "      <th>e2_id</th>\n",
       "      <th>e2_name</th>\n",
       "      <th>True_Pair_Exists</th>\n",
       "    </tr>\n",
       "  </thead>\n",
       "  <tbody>\n",
       "    <tr>\n",
       "      <th>27</th>\n",
       "      <td>True</td>\n",
       "      <td>DDI-MedLine.d8.s6.e1</td>\n",
       "      <td>KRM-1648</td>\n",
       "      <td>DDI-MedLine.d8.s6.e0</td>\n",
       "      <td>ofloxacin</td>\n",
       "      <td>True</td>\n",
       "    </tr>\n",
       "    <tr>\n",
       "      <th>31</th>\n",
       "      <td>False</td>\n",
       "      <td>DDI-MedLine.d8.s6.e1</td>\n",
       "      <td>KRM-1648</td>\n",
       "      <td>DDI-MedLine.d8.s6.e2</td>\n",
       "      <td>rifampicin</td>\n",
       "      <td>False</td>\n",
       "    </tr>\n",
       "    <tr>\n",
       "      <th>32</th>\n",
       "      <td>False</td>\n",
       "      <td>DDI-MedLine.d8.s6.e1</td>\n",
       "      <td>KRM-1648</td>\n",
       "      <td>DDI-MedLine.d8.s6.e3</td>\n",
       "      <td>rifabutin</td>\n",
       "      <td>False</td>\n",
       "    </tr>\n",
       "    <tr>\n",
       "      <th>33</th>\n",
       "      <td>False</td>\n",
       "      <td>DDI-MedLine.d8.s6.e1</td>\n",
       "      <td>KRM-1648</td>\n",
       "      <td>DDI-MedLine.d8.s6.e4</td>\n",
       "      <td>ofloxacin</td>\n",
       "      <td>False</td>\n",
       "    </tr>\n",
       "  </tbody>\n",
       "</table>\n",
       "</div>"
      ],
      "text/plain": [
       "      ddi                 e1_id   e1_name                 e2_id     e2_name  \\\n",
       "27   True  DDI-MedLine.d8.s6.e1  KRM-1648  DDI-MedLine.d8.s6.e0   ofloxacin   \n",
       "31  False  DDI-MedLine.d8.s6.e1  KRM-1648  DDI-MedLine.d8.s6.e2  rifampicin   \n",
       "32  False  DDI-MedLine.d8.s6.e1  KRM-1648  DDI-MedLine.d8.s6.e3   rifabutin   \n",
       "33  False  DDI-MedLine.d8.s6.e1  KRM-1648  DDI-MedLine.d8.s6.e4   ofloxacin   \n",
       "\n",
       "    True_Pair_Exists  \n",
       "27              True  \n",
       "31             False  \n",
       "32             False  \n",
       "33             False  "
      ]
     },
     "execution_count": 13,
     "metadata": {},
     "output_type": "execute_result"
    }
   ],
   "source": [
    "# id로는 식별 불가\n",
    "ents.loc[(ents.e1_id=='DDI-MedLine.d8.s6.e1') | (ents.e2_id=='DDI-MedLine.d8.s6.e1')]"
   ]
  },
  {
   "cell_type": "code",
   "execution_count": 14,
   "metadata": {},
   "outputs": [],
   "source": [
    "for ind, en in ents.loc[ents.ddi==True].iterrows():\n",
    "#     print(en)\n",
    "    ents.loc[(ents.e1_name==en[2]) & (ents.e2_name==en[4]) & (ents.ddi==False), 'True_Pair_Exists'] = True\n",
    "    ents.loc[(ents.e1_name==en[4]) & (ents.e2_name==en[2]) & (ents.ddi==False), 'True_Pair_Exists'] = True"
   ]
  },
  {
   "cell_type": "code",
   "execution_count": 15,
   "metadata": {},
   "outputs": [
    {
     "data": {
      "text/html": [
       "<div>\n",
       "<style scoped>\n",
       "    .dataframe tbody tr th:only-of-type {\n",
       "        vertical-align: middle;\n",
       "    }\n",
       "\n",
       "    .dataframe tbody tr th {\n",
       "        vertical-align: top;\n",
       "    }\n",
       "\n",
       "    .dataframe thead th {\n",
       "        text-align: right;\n",
       "    }\n",
       "</style>\n",
       "<table border=\"1\" class=\"dataframe\">\n",
       "  <thead>\n",
       "    <tr style=\"text-align: right;\">\n",
       "      <th></th>\n",
       "      <th>ddi</th>\n",
       "      <th>e1_id</th>\n",
       "      <th>e1_name</th>\n",
       "      <th>e2_id</th>\n",
       "      <th>e2_name</th>\n",
       "      <th>True_Pair_Exists</th>\n",
       "    </tr>\n",
       "  </thead>\n",
       "  <tbody>\n",
       "    <tr>\n",
       "      <th>0</th>\n",
       "      <td>False</td>\n",
       "      <td>DDI-MedLine.d112.s0.e1</td>\n",
       "      <td>digoxin</td>\n",
       "      <td>DDI-MedLine.d112.s0.e0</td>\n",
       "      <td>dofetillide</td>\n",
       "      <td>False</td>\n",
       "    </tr>\n",
       "    <tr>\n",
       "      <th>1</th>\n",
       "      <td>False</td>\n",
       "      <td>DDI-MedLine.d112.s1.e1</td>\n",
       "      <td>digoxin</td>\n",
       "      <td>DDI-MedLine.d112.s1.e0</td>\n",
       "      <td>dofetilide</td>\n",
       "      <td>True</td>\n",
       "    </tr>\n",
       "    <tr>\n",
       "      <th>2</th>\n",
       "      <td>False</td>\n",
       "      <td>DDI-MedLine.d112.s2.e1</td>\n",
       "      <td>digoxin</td>\n",
       "      <td>DDI-MedLine.d112.s2.e0</td>\n",
       "      <td>dofetilide</td>\n",
       "      <td>True</td>\n",
       "    </tr>\n",
       "    <tr>\n",
       "      <th>3</th>\n",
       "      <td>False</td>\n",
       "      <td>DDI-MedLine.d112.s3.e1</td>\n",
       "      <td>digoxin</td>\n",
       "      <td>DDI-MedLine.d112.s3.e0</td>\n",
       "      <td>dofetilide</td>\n",
       "      <td>True</td>\n",
       "    </tr>\n",
       "    <tr>\n",
       "      <th>4</th>\n",
       "      <td>False</td>\n",
       "      <td>DDI-MedLine.d127.s6.e1</td>\n",
       "      <td>digoxin</td>\n",
       "      <td>DDI-MedLine.d127.s6.e0</td>\n",
       "      <td>thiazide diuretics</td>\n",
       "      <td>False</td>\n",
       "    </tr>\n",
       "  </tbody>\n",
       "</table>\n",
       "</div>"
      ],
      "text/plain": [
       "     ddi                   e1_id  e1_name                   e2_id  \\\n",
       "0  False  DDI-MedLine.d112.s0.e1  digoxin  DDI-MedLine.d112.s0.e0   \n",
       "1  False  DDI-MedLine.d112.s1.e1  digoxin  DDI-MedLine.d112.s1.e0   \n",
       "2  False  DDI-MedLine.d112.s2.e1  digoxin  DDI-MedLine.d112.s2.e0   \n",
       "3  False  DDI-MedLine.d112.s3.e1  digoxin  DDI-MedLine.d112.s3.e0   \n",
       "4  False  DDI-MedLine.d127.s6.e1  digoxin  DDI-MedLine.d127.s6.e0   \n",
       "\n",
       "              e2_name  True_Pair_Exists  \n",
       "0         dofetillide             False  \n",
       "1          dofetilide              True  \n",
       "2          dofetilide              True  \n",
       "3          dofetilide              True  \n",
       "4  thiazide diuretics             False  "
      ]
     },
     "execution_count": 15,
     "metadata": {},
     "output_type": "execute_result"
    }
   ],
   "source": [
    "ents.head()"
   ]
  },
  {
   "cell_type": "code",
   "execution_count": 16,
   "metadata": {},
   "outputs": [
    {
     "data": {
      "text/plain": [
       "(21798, 6)"
      ]
     },
     "execution_count": 16,
     "metadata": {},
     "output_type": "execute_result"
    }
   ],
   "source": [
    "ents.loc[ents.True_Pair_Exists==False].shape"
   ]
  },
  {
   "cell_type": "code",
   "execution_count": 17,
   "metadata": {},
   "outputs": [],
   "source": [
    "## MongoDB에 들어있는 DrugBank Data 확인하기"
   ]
  },
  {
   "cell_type": "code",
   "execution_count": 18,
   "metadata": {},
   "outputs": [
    {
     "name": "stdout",
     "output_type": "stream",
     "text": [
      "MongoClient(host=['morpheus.snu.ac.kr:27017'], document_class=dict, tz_aware=False, connect=True)\n"
     ]
    }
   ],
   "source": [
    "client = db_con_mongo.get_connection()\n",
    "print(client)"
   ]
  },
  {
   "cell_type": "code",
   "execution_count": 19,
   "metadata": {},
   "outputs": [
    {
     "name": "stdout",
     "output_type": "stream",
     "text": [
      "Database(MongoClient(host=['morpheus.snu.ac.kr:27017'], document_class=dict, tz_aware=False, connect=True), 'ddi')\n"
     ]
    }
   ],
   "source": [
    "print(client.ddi)\n",
    "ddi = client.ddi"
   ]
  },
  {
   "cell_type": "code",
   "execution_count": 20,
   "metadata": {},
   "outputs": [],
   "source": [
    "drugbank = ddi.get_collection('drugbank')"
   ]
  },
  {
   "cell_type": "code",
   "execution_count": 21,
   "metadata": {},
   "outputs": [
    {
     "name": "stderr",
     "output_type": "stream",
     "text": [
      "/home/grace/.local/lib/python3.5/site-packages/ipykernel_launcher.py:1: DeprecationWarning: count is deprecated. Use Collection.count_documents instead.\n",
      "  \"\"\"Entry point for launching an IPython kernel.\n"
     ]
    },
    {
     "name": "stdout",
     "output_type": "stream",
     "text": [
      "1914\n"
     ]
    }
   ],
   "source": [
    "cursor = drugbank.find({'$where': 'this.structured_drug_interactions.length > 1'}).count()\n",
    "total_docs = cursor\n",
    "print(cursor)"
   ]
  },
  {
   "cell_type": "code",
   "execution_count": 22,
   "metadata": {},
   "outputs": [],
   "source": [
    "drug_interactions = []\n",
    "\n",
    "limit_num = 100\n",
    "for i in range(int(total_docs/limit_num)+1):\n",
    "    cursor = drugbank.find({'$where': 'this.structured_drug_interactions.length > 1'}, \\\n",
    "                     {'term_names':1, 'title':1, \\\n",
    "                      'structured_drug_interactions.evidence_level':1,\\\n",
    "                      'structured_drug_interactions.affected_drug':1,\\\n",
    "                      'structured_drug_interactions.subject_drug':1,\\\n",
    "                     }).limit(limit_num).skip(limit_num*i)\n",
    "    retreived_list = [x for x in cursor]\n",
    "    for ret_l in retreived_list:\n",
    "        interactions = ret_l['structured_drug_interactions']\n",
    "\n",
    "        for interaction in interactions:\n",
    "            affected = interaction['affected_drug']['name'].lower()\n",
    "            subject = interaction['subject_drug']['name'].lower()\n",
    "            if affected < subject:\n",
    "                drug_interactions.append({'drug1':affected,\\\n",
    "                                          'drug2':subject,\\\n",
    "                    'evidence_level':interaction['evidence_level']})\n",
    "            else:\n",
    "                drug_interactions.append({'drug1':subject,\\\n",
    "                                          'drug2':affected,\\\n",
    "                    'evidence_level':interaction['evidence_level']})"
   ]
  },
  {
   "cell_type": "code",
   "execution_count": 23,
   "metadata": {},
   "outputs": [
    {
     "data": {
      "text/plain": [
       "1321468"
      ]
     },
     "execution_count": 23,
     "metadata": {},
     "output_type": "execute_result"
    }
   ],
   "source": [
    "len(drug_interactions)"
   ]
  },
  {
   "cell_type": "code",
   "execution_count": 24,
   "metadata": {},
   "outputs": [],
   "source": [
    "df_drug_interactions = pd.DataFrame(drug_interactions)"
   ]
  },
  {
   "cell_type": "code",
   "execution_count": 25,
   "metadata": {},
   "outputs": [],
   "source": [
    "df_drug_interactions.drop_duplicates(inplace=True)"
   ]
  },
  {
   "cell_type": "code",
   "execution_count": 26,
   "metadata": {},
   "outputs": [
    {
     "data": {
      "text/plain": [
       "(731194, 3)"
      ]
     },
     "execution_count": 26,
     "metadata": {},
     "output_type": "execute_result"
    }
   ],
   "source": [
    "df_drug_interactions.shape"
   ]
  },
  {
   "cell_type": "code",
   "execution_count": null,
   "metadata": {},
   "outputs": [],
   "source": [
    "for ind, en in ents.loc[ents.ddi==True].iterrows():\n",
    "#     print(en)\n",
    "    df_drug_interactions.loc[(df_drug_interactions.drug1==en[2]) & (df_drug_interactions.drug2==en[4]) & (ents.ddi==False), 'True_Pair_Exists'] = True\n",
    "    df_drug_interactions.loc[(df_drug_interactions.drug2==en[4]) & (df_drug_interactions.drug1==en[2]) & (ents.ddi==False), 'True_Pair_Exists'] = True"
   ]
  },
  {
   "cell_type": "code",
   "execution_count": null,
   "metadata": {},
   "outputs": [],
   "source": [
    "pd.DataFrame(sents).to_csv('./ddi_sent.csv', sep=',', index=None)\n",
    "pd.DataFrame(sents).to_csv('./ddi_sent_wo_header.csv', sep=',', header=None, index=None)"
   ]
  },
  {
   "cell_type": "code",
   "execution_count": null,
   "metadata": {},
   "outputs": [],
   "source": [
    "pd.read_csv('./ddi_sent.csv', sep=',').head()"
   ]
  },
  {
   "cell_type": "code",
   "execution_count": null,
   "metadata": {},
   "outputs": [],
   "source": [
    "df_sent = pd.DataFrame(sents)\n",
    "df_sent.loc[df_sent.sent.isnull()]"
   ]
  },
  {
   "cell_type": "code",
   "execution_count": null,
   "metadata": {},
   "outputs": [],
   "source": [
    "df_sent.shape"
   ]
  },
  {
   "cell_type": "code",
   "execution_count": null,
   "metadata": {},
   "outputs": [],
   "source": []
  }
 ],
 "metadata": {
  "kernelspec": {
   "display_name": "Python 3",
   "language": "python",
   "name": "python3"
  },
  "language_info": {
   "codemirror_mode": {
    "name": "ipython",
    "version": 3
   },
   "file_extension": ".py",
   "mimetype": "text/x-python",
   "name": "python",
   "nbconvert_exporter": "python",
   "pygments_lexer": "ipython3",
   "version": "3.5.2"
  }
 },
 "nbformat": 4,
 "nbformat_minor": 2
}
