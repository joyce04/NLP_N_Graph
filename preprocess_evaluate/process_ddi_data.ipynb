{
 "cells": [
  {
   "cell_type": "code",
   "execution_count": null,
   "metadata": {},
   "outputs": [],
   "source": [
    "import os\n",
    "from xml.dom import minidom\n",
    "import pandas as pd\n",
    "import numpy as np\n",
    "from pymongo import MongoClient\n",
    "import db_con_mongo"
   ]
  },
  {
   "cell_type": "markdown",
   "metadata": {},
   "source": [
    "DATA SOURCE : https://www.cs.york.ac.uk/semeval-2013/task9/index.php%3Fid=data.html"
   ]
  },
  {
   "cell_type": "code",
   "execution_count": null,
   "metadata": {},
   "outputs": [],
   "source": [
    "file_locs = ['/home/grace/workspace/bio_dataset/semeval_task9_train_pair/Train/MedLine',\n",
    "            '/home/grace/workspace/bio_dataset/semeval_task9_train_pair/Train/DrugBank']\n",
    "\n",
    "entity_pairs = []\n",
    "sents = []\n",
    "for file_loc in file_locs:\n",
    "    medlines = os.listdir(file_loc)\n",
    "\n",
    "    file_attribs = []\n",
    "    for med in medlines:\n",
    "        doc = minidom.parse(file_loc+'/'+med)\n",
    "        items = doc.getElementsByTagName('document')\n",
    "        doc_id = items[0].attributes['id'].value\n",
    "\n",
    "        for sent in doc.getElementsByTagName('sentence'):\n",
    "            sent_id = sent.attributes['id'].value\n",
    "            sent_text = sent.attributes['text'].value\n",
    "            if sent_text.strip():\n",
    "                sents.append({'id':sent_id, 'sent':sent_text})\n",
    "\n",
    "            # entity(drug)의 갯수가 1보다 클때만\n",
    "            if len(sent.getElementsByTagName('pair')) > 0:\n",
    "                for pair_info in sent.getElementsByTagName('pair'):\n",
    "                    ddi = pair_info.attributes['ddi'].value\n",
    "                    e1 = pair_info.attributes['e1'].value\n",
    "                    e2 = pair_info.attributes['e2'].value\n",
    "                    \n",
    "                    for e in sent.getElementsByTagName('entity'):\n",
    "                        if e.attributes['id'].value==e1:\n",
    "                            e1_name = e.attributes['text'].value\n",
    "                        elif e.attributes['id'].value==e2:\n",
    "                            e2_name = e.attributes['text'].value\n",
    "                    \n",
    "                    if e1_name < e2_name:\n",
    "                        entity_pairs.append({'ddi':ddi, \n",
    "                                             'e1_id':e1, \n",
    "                                             'e1_name':e1_name,\n",
    "                                             'e2_id':e2, \n",
    "                                             'e2_name':e2_name})\n",
    "                    else:\n",
    "                        entity_pairs.append({'ddi':ddi, \n",
    "                                             'e1_id':e2, \n",
    "                                             'e1_name':e2_name,\n",
    "                                             'e2_id':e1, \n",
    "                                             'e2_name':e1_name})\n",
    "    #                 for ent in sent.getElementsByTagName('entity'):\n",
    "    #                     ent_id = ent.attributes['id'].value\n",
    "    #         #             ent_charOffset = ent.attributes['charOffset'].value\n",
    "    #                     ent_type = ent.attributes['type'].value.strip()\n",
    "    #                     ent_text = ent.attributes['text'].value.lower().strip()\n",
    "\n",
    "    #                     entities.append({'type':ent_type, 'entity':ent_text})\n",
    "    #                 entity_pairs.append(entities)"
   ]
  },
  {
   "cell_type": "code",
   "execution_count": null,
   "metadata": {},
   "outputs": [],
   "source": [
    "ents = pd.DataFrame(entity_pairs)\n",
    "print(ents.shape)\n",
    "\n",
    "ents.drop_duplicates(inplace=True)\n",
    "print(ents.shape)\n",
    "# ents.to_csv('./entity_dic_ddi.csv', sep=',', header=None, index=None)"
   ]
  },
  {
   "cell_type": "code",
   "execution_count": null,
   "metadata": {},
   "outputs": [],
   "source": [
    "ents.head()"
   ]
  },
  {
   "cell_type": "code",
   "execution_count": null,
   "metadata": {},
   "outputs": [],
   "source": [
    "ents.ddi = np.where(ents.ddi=='true', True, False)"
   ]
  },
  {
   "cell_type": "code",
   "execution_count": null,
   "metadata": {},
   "outputs": [],
   "source": [
    "ents.ddi.unique()"
   ]
  },
  {
   "cell_type": "code",
   "execution_count": null,
   "metadata": {},
   "outputs": [],
   "source": [
    "# ents.loc[ents.e2_id.str.find('DDI-DrugBank.d493.s0.e0')>=0]"
   ]
  },
  {
   "cell_type": "code",
   "execution_count": null,
   "metadata": {},
   "outputs": [],
   "source": [
    "ents.loc[ents.ddi==False].shape"
   ]
  },
  {
   "cell_type": "code",
   "execution_count": null,
   "metadata": {},
   "outputs": [],
   "source": [
    "ents.loc[ents.ddi==True].shape"
   ]
  },
  {
   "cell_type": "code",
   "execution_count": null,
   "metadata": {},
   "outputs": [],
   "source": [
    "duplicated_ents = ents[ents.duplicated(subset=['e1_name', 'e2_name'])]\n",
    "print(duplicated_ents)"
   ]
  },
  {
   "cell_type": "code",
   "execution_count": null,
   "metadata": {},
   "outputs": [],
   "source": [
    "ents['True_Pair_Exists'] = False\n",
    "ents.loc[ents.ddi==True, 'True_Pair_Exists'] = True"
   ]
  },
  {
   "cell_type": "code",
   "execution_count": null,
   "metadata": {},
   "outputs": [],
   "source": [
    "# ents.loc[ents.ddi==True]\n",
    "# ents.loc[ents.ddi==False]"
   ]
  },
  {
   "cell_type": "code",
   "execution_count": null,
   "metadata": {},
   "outputs": [],
   "source": [
    "# id로는 식별 불가\n",
    "ents.loc[(ents.e1_id=='DDI-MedLine.d8.s6.e1') | (ents.e2_id=='DDI-MedLine.d8.s6.e1')]"
   ]
  },
  {
   "cell_type": "code",
   "execution_count": null,
   "metadata": {},
   "outputs": [],
   "source": [
    "for ind, en in ents.loc[ents.ddi==True].iterrows():\n",
    "#     print(en)\n",
    "    ents.loc[(ents.e1_name==en[2]) & (ents.e2_name==en[4]) & (ents.ddi==False), 'True_Pair_Exists'] = True\n",
    "    ents.loc[(ents.e1_name==en[4]) & (ents.e2_name==en[2]) & (ents.ddi==False), 'True_Pair_Exists'] = True"
   ]
  },
  {
   "cell_type": "code",
   "execution_count": null,
   "metadata": {},
   "outputs": [],
   "source": [
    "ents.head()"
   ]
  },
  {
   "cell_type": "code",
   "execution_count": null,
   "metadata": {},
   "outputs": [],
   "source": [
    "ents.loc[ents.True_Pair_Exists==False].shape"
   ]
  },
  {
   "cell_type": "code",
   "execution_count": null,
   "metadata": {},
   "outputs": [],
   "source": [
    "## MongoDB에 들어있는 DrugBank Data 확인하기"
   ]
  },
  {
   "cell_type": "code",
   "execution_count": null,
   "metadata": {},
   "outputs": [],
   "source": [
    "client = db_con_mongo.get_connection()\n",
    "print(client)"
   ]
  },
  {
   "cell_type": "code",
   "execution_count": null,
   "metadata": {},
   "outputs": [],
   "source": [
    "print(client.ddi)\n",
    "ddi = client.ddi"
   ]
  },
  {
   "cell_type": "code",
   "execution_count": null,
   "metadata": {},
   "outputs": [],
   "source": [
    "drugbank = ddi.get_collection('drugbank')"
   ]
  },
  {
   "cell_type": "code",
   "execution_count": null,
   "metadata": {},
   "outputs": [],
   "source": [
    "# cursor = drugbank.find({'structured_drug_interactions': {'$size': {'$gt':1}}})\n",
    "cursor = drugbank.find({'drugbank_id': 'DB00001'})\n",
    "print(len(list(cursor)))"
   ]
  },
  {
   "cell_type": "code",
   "execution_count": null,
   "metadata": {},
   "outputs": [],
   "source": [
    "pd.DataFrame(sents).to_csv('./ddi_sent.csv', sep=',', index=None)\n",
    "pd.DataFrame(sents).to_csv('./ddi_sent_wo_header.csv', sep=',', header=None, index=None)"
   ]
  },
  {
   "cell_type": "code",
   "execution_count": null,
   "metadata": {},
   "outputs": [],
   "source": [
    "pd.read_csv('./ddi_sent.csv', sep=',').head()"
   ]
  },
  {
   "cell_type": "code",
   "execution_count": null,
   "metadata": {},
   "outputs": [],
   "source": [
    "df_sent = pd.DataFrame(sents)\n",
    "df_sent.loc[df_sent.sent.isnull()]"
   ]
  },
  {
   "cell_type": "code",
   "execution_count": null,
   "metadata": {},
   "outputs": [],
   "source": [
    "df_sent.shape"
   ]
  },
  {
   "cell_type": "code",
   "execution_count": null,
   "metadata": {},
   "outputs": [],
   "source": []
  }
 ],
 "metadata": {
  "kernelspec": {
   "display_name": "Python 3",
   "language": "python",
   "name": "python3"
  },
  "language_info": {
   "codemirror_mode": {
    "name": "ipython",
    "version": 3
   },
   "file_extension": ".py",
   "mimetype": "text/x-python",
   "name": "python",
   "nbconvert_exporter": "python",
   "pygments_lexer": "ipython3",
   "version": "3.5.2"
  }
 },
 "nbformat": 4,
 "nbformat_minor": 2
}
