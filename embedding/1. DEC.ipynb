{
 "cells": [
  {
   "cell_type": "markdown",
   "metadata": {
    "colab_type": "text",
    "id": "HY11HCzbqmQ6"
   },
   "source": [
    "# Document Clustering by DEC(Deep Embedded Clustering)\n",
    "\n",
    "### References\n",
    "\n",
    "* Preprocess: https://towardsdatascience.com/topic-modeling-and-latent-dirichlet-allocation-in-python-9bf156893c24\n",
    "* DEC: \n",
    "    - https://github.com/Tony607/Keras_Deep_Clustering/blob/master/Keras-DEC.ipynb\n",
    "    - https://github.com/XifengGuo/DEC-keras\n",
    "* overall : https://github.com/madigun697/data_analysis/blob/master/Topic_Modeling/Topic_Modeling_DEC_Drug.ipynb"
   ]
  },
  {
   "cell_type": "markdown",
   "metadata": {
    "colab_type": "text",
    "id": "c-or5Us0qmQ8"
   },
   "source": [
    "## Preprocess data"
   ]
  },
  {
   "cell_type": "code",
   "execution_count": 1,
   "metadata": {
    "colab": {},
    "colab_type": "code",
    "id": "7N-v04WuqmQ9"
   },
   "outputs": [],
   "source": [
    "import pandas as pd\n",
    "import numpy as np\n",
    "import nltk\n",
    "import re\n",
    "\n",
    "pd.set_option('display.max_colwidth', 999)\n",
    "drug_data = pd.read_csv('../data/titles_condition_by_t.tsv', sep='\\t', header=None)"
   ]
  },
  {
   "cell_type": "code",
   "execution_count": 2,
   "metadata": {
    "colab": {},
    "colab_type": "code",
    "id": "rwiQGYdEqmRA",
    "outputId": "0928ed24-1177-49fa-9667-f061acc82012"
   },
   "outputs": [
    {
     "data": {
      "text/html": [
       "<div>\n",
       "<style scoped>\n",
       "    .dataframe tbody tr th:only-of-type {\n",
       "        vertical-align: middle;\n",
       "    }\n",
       "\n",
       "    .dataframe tbody tr th {\n",
       "        vertical-align: top;\n",
       "    }\n",
       "\n",
       "    .dataframe thead th {\n",
       "        text-align: right;\n",
       "    }\n",
       "</style>\n",
       "<table border=\"1\" class=\"dataframe\">\n",
       "  <thead>\n",
       "    <tr style=\"text-align: right;\">\n",
       "      <th></th>\n",
       "      <th>id</th>\n",
       "      <th>title</th>\n",
       "    </tr>\n",
       "  </thead>\n",
       "  <tbody>\n",
       "    <tr>\n",
       "      <th>0</th>\n",
       "      <td>4106</td>\n",
       "      <td>Analysis of efficacy</td>\n",
       "    </tr>\n",
       "    <tr>\n",
       "      <th>1</th>\n",
       "      <td>4107</td>\n",
       "      <td>Comparisons of postoperative CA19-9 levels on survival of ESPAC-4 with the CONOKO-01 and JASPAC-1 trials</td>\n",
       "    </tr>\n",
       "    <tr>\n",
       "      <th>2</th>\n",
       "      <td>4108</td>\n",
       "      <td>Pattern of disease relapse</td>\n",
       "    </tr>\n",
       "    <tr>\n",
       "      <th>3</th>\n",
       "      <td>4109</td>\n",
       "      <td>Grade 1–5 adverse events with gemcitabine alone and gemcitabine plus capecitabine</td>\n",
       "    </tr>\n",
       "    <tr>\n",
       "      <th>4</th>\n",
       "      <td>4112</td>\n",
       "      <td>Treatment with zoledronic acid</td>\n",
       "    </tr>\n",
       "  </tbody>\n",
       "</table>\n",
       "</div>"
      ],
      "text/plain": [
       "     id  \\\n",
       "0  4106   \n",
       "1  4107   \n",
       "2  4108   \n",
       "3  4109   \n",
       "4  4112   \n",
       "\n",
       "                                                                                                      title  \n",
       "0                                                                                      Analysis of efficacy  \n",
       "1  Comparisons of postoperative CA19-9 levels on survival of ESPAC-4 with the CONOKO-01 and JASPAC-1 trials  \n",
       "2                                                                                Pattern of disease relapse  \n",
       "3                         Grade 1–5 adverse events with gemcitabine alone and gemcitabine plus capecitabine  \n",
       "4                                                                            Treatment with zoledronic acid  "
      ]
     },
     "execution_count": 2,
     "metadata": {},
     "output_type": "execute_result"
    }
   ],
   "source": [
    "drug_data.columns = ['id', 'title']\n",
    "drug_data.head()"
   ]
  },
  {
   "cell_type": "code",
   "execution_count": 3,
   "metadata": {},
   "outputs": [
    {
     "data": {
      "text/plain": [
       "(32050, 2)"
      ]
     },
     "execution_count": 3,
     "metadata": {},
     "output_type": "execute_result"
    }
   ],
   "source": [
    "drug_data.shape"
   ]
  },
  {
   "cell_type": "code",
   "execution_count": 4,
   "metadata": {
    "colab": {},
    "colab_type": "code",
    "id": "dGsGU1duqmRF",
    "outputId": "71d69ed9-6626-4708-d307-9afb6904288b"
   },
   "outputs": [
    {
     "name": "stdout",
     "output_type": "stream",
     "text": [
      "id       False\n",
      "title    False\n",
      "dtype: bool\n"
     ]
    }
   ],
   "source": [
    "drug_data.title = drug_data.title.str.strip()\n",
    "drug_data['title'].replace('', np.nan, inplace=True)\n",
    "drug_data.dropna(subset=['title'], inplace=True)\n",
    "print(drug_data.isna().any())"
   ]
  },
  {
   "cell_type": "code",
   "execution_count": 5,
   "metadata": {},
   "outputs": [
    {
     "data": {
      "text/plain": [
       "(32049, 2)"
      ]
     },
     "execution_count": 5,
     "metadata": {},
     "output_type": "execute_result"
    }
   ],
   "source": [
    "drug_data.shape"
   ]
  },
  {
   "cell_type": "code",
   "execution_count": 6,
   "metadata": {
    "colab": {},
    "colab_type": "code",
    "id": "A6fpg6hTqmRI"
   },
   "outputs": [],
   "source": [
    "# rep = {'nbsp':'', 'table':'', 'legend':'', 'mg/dl':'', 'g/l':'', 'yrs':'year', '\\n':' ', ';':'', 'kg/m2':'', 'n=':''}\n",
    "rep = {'nbsp':'', 'table':'', 'legend':'', 'yrs':'year', '\\n':' '}\n",
    "# clean_content = [pattern.sub(lambda m: rep[re.escape(m.group(0))], x['content']) for x in train_data]\n",
    "rep = dict((re.escape(k), v) for k, v in rep.items())\n",
    "pattern = re.compile(\"|\".join(rep.keys()))\n",
    "drug_data.title = [pattern.sub(lambda m: rep[re.escape(m.group(0))], str(x)) for x in drug_data.title]"
   ]
  },
  {
   "cell_type": "code",
   "execution_count": 7,
   "metadata": {
    "colab": {},
    "colab_type": "code",
    "id": "tu-XCXG-qmRK",
    "outputId": "afacce6c-5591-43a0-9a65-d50ed9463d62"
   },
   "outputs": [
    {
     "data": {
      "text/plain": [
       "0                                                                                        Analysis of efficacy\n",
       "1    Comparisons of postoperative CA19-9 levels on survival of ESPAC-4 with the CONOKO-01 and JASPAC-1 trials\n",
       "2                                                                                  Pattern of disease relapse\n",
       "3                           Grade 1–5 adverse events with gemcitabine alone and gemcitabine plus capecitabine\n",
       "4                                                                              Treatment with zoledronic acid\n",
       "5                                                                                    Treatment with docetaxel\n",
       "6                                Treatments ever used at relapse, at the discretion of the treating clinician\n",
       "7                                            Worst adverse event  (grade)  reported over entire time on trial\n",
       "8                                                        Chemotherapy delivery and trial drug discontinuation\n",
       "9                                                                                              Adverse events\n",
       "Name: title, dtype: object"
      ]
     },
     "execution_count": 7,
     "metadata": {},
     "output_type": "execute_result"
    }
   ],
   "source": [
    "drug_data.title[:10]"
   ]
  },
  {
   "cell_type": "code",
   "execution_count": 8,
   "metadata": {
    "colab": {},
    "colab_type": "code",
    "id": "XnSsFF3-qmRN"
   },
   "outputs": [],
   "source": [
    "import gensim\n",
    "from gensim.utils import simple_preprocess\n",
    "from gensim.parsing.preprocessing import STOPWORDS\n",
    "from gensim.parsing.preprocessing import strip_numeric\n",
    "from nltk.stem import WordNetLemmatizer, SnowballStemmer\n",
    "from nltk.stem.porter import *"
   ]
  },
  {
   "cell_type": "code",
   "execution_count": 9,
   "metadata": {
    "colab": {},
    "colab_type": "code",
    "id": "VxyWz5kbqmRP",
    "outputId": "63be8c75-fd9c-4260-9f4b-3249cb7ac419"
   },
   "outputs": [
    {
     "name": "stdout",
     "output_type": "stream",
     "text": [
      "[nltk_data] Downloading package wordnet to /Users/grace/nltk_data...\n",
      "[nltk_data]   Package wordnet is already up-to-date!\n"
     ]
    },
    {
     "data": {
      "text/plain": [
       "True"
      ]
     },
     "execution_count": 9,
     "metadata": {},
     "output_type": "execute_result"
    }
   ],
   "source": [
    "np.random.seed(2018)\n",
    "\n",
    "import nltk\n",
    "nltk.download('wordnet')"
   ]
  },
  {
   "cell_type": "code",
   "execution_count": 10,
   "metadata": {
    "colab": {},
    "colab_type": "code",
    "id": "fFnc5P4KqmRS"
   },
   "outputs": [],
   "source": [
    "#stopwords\n",
    "stemmer = SnowballStemmer('english')\n",
    "STOP_WORDS = list(gensim.parsing.preprocessing.STOPWORDS)\n",
    "STOP_WORDS.extend(['table', 'legend'])"
   ]
  },
  {
   "cell_type": "code",
   "execution_count": 11,
   "metadata": {
    "colab": {},
    "colab_type": "code",
    "id": "2S-8id18qmRW"
   },
   "outputs": [],
   "source": [
    "# stemming\n",
    "# -porter stemmer\n",
    "# -lancaster stemmer\n",
    "# -snowball stemmer\n",
    "from nltk.stem.lancaster import LancasterStemmer\n",
    "from nltk.stem.snowball import SnowballStemmer\n",
    "\n",
    "def lemmatize_stemming(text):\n",
    "    return stemmer.stem(WordNetLemmatizer().lemmatize(text, pos='v'))\n",
    "\n",
    "def preprocess(text):\n",
    "    result = []\n",
    "#     deacc=True removes punctuations\n",
    "    for token in gensim.utils.simple_preprocess(text, deacc=True):\n",
    "        if token not in STOP_WORDS and len(token)>1:\n",
    "#             result.append(lemmatize_stemming(strip_numeric(token)))\n",
    "            result.append(lemmatize_stemming(token))\n",
    "    return result\n",
    "\n",
    "def preprocess_token_only(text):\n",
    "    result = []\n",
    "#     deacc=True removes punctuations\n",
    "    for token in gensim.utils.simple_preprocess(text, deacc=True):\n",
    "        if token not in STOP_WORDS and len(token)>1:\n",
    "#             result.append(lemmatize_stemming(strip_numeric(token)))\n",
    "            result.append(token)\n",
    "    return result\n",
    "\n",
    "stemmer = LancasterStemmer()\n",
    "#tokenizing\n",
    "def tokenize_and_stem(text):\n",
    "    tokens = [word.lower() for sent in nltk.sent_tokenize(text) for word in nltk.word_tokenize(sent)]\n",
    "    #filter tokens not containing letters\n",
    "    filtered = []\n",
    "    for token in tokens:\n",
    "        if re.search('[a-zA-Z]', token) and len(token)>2:\n",
    "            filtered.append(token)\n",
    "#     stems = [stemmer.stem(t, pos='v') for t in filtered]\n",
    "    stems = [stemmer.stem(t) for t in filtered]\n",
    "    return stems\n",
    "\n",
    "def tokenize_only(text):\n",
    "    tokens = [word.lower() for sent in nltk.sent_tokenize(text) for word in nltk.word_tokenize(sent)]\n",
    "    filtered = []\n",
    "    for token in tokens:\n",
    "        if re.search('[a-zA-Z]', token) and len(token)>2:\n",
    "            filtered.append(token)\n",
    "    return filtered"
   ]
  },
  {
   "cell_type": "code",
   "execution_count": 12,
   "metadata": {
    "colab": {},
    "colab_type": "code",
    "id": "2meY4pzfqmRY",
    "outputId": "2da30497-7f7b-4dd4-f166-330abeca93e0"
   },
   "outputs": [
    {
     "name": "stdout",
     "output_type": "stream",
     "text": [
      "CPU times: user 12.3 s, sys: 128 ms, total: 12.4 s\n",
      "Wall time: 12.4 s\n"
     ]
    },
    {
     "data": {
      "text/plain": [
       "0                                                        [analys, eff]\n",
       "1    [comparison, postop, ca, level, surv, espac, conoko, jaspac, tri]\n",
       "2                                            [pattern, diseas, relaps]\n",
       "3         [grad, advers, ev, gemcitabin, gemcitabin, plu, capecitabin]\n",
       "4                                                [tre, zoledron, acid]\n",
       "5                                                     [tre, docetaxel]\n",
       "6                                    [tre, relaps, discret, tre, clin]\n",
       "7                   [worst, advers, ev, grad, report, entir, tim, tri]\n",
       "8                      [chemotherapy, delivery, tri, drug, discontinu]\n",
       "9                                                         [advers, ev]\n",
       "Name: processed, dtype: object"
      ]
     },
     "execution_count": 12,
     "metadata": {},
     "output_type": "execute_result"
    }
   ],
   "source": [
    "%time drug_data['processed'] = drug_data['title'].map(preprocess)\n",
    "drug_data.processed[:10]"
   ]
  },
  {
   "cell_type": "code",
   "execution_count": 13,
   "metadata": {},
   "outputs": [
    {
     "name": "stdout",
     "output_type": "stream",
     "text": [
      "CPU times: user 305 ms, sys: 10.3 ms, total: 315 ms\n",
      "Wall time: 316 ms\n"
     ]
    },
    {
     "data": {
      "text/plain": [
       "CountVectorizer(analyzer='word', binary=False, decode_error='strict',\n",
       "        dtype=<class 'numpy.int64'>, encoding='utf-8', input='content',\n",
       "        lowercase=True, max_df=1.0, max_features=None, min_df=1,\n",
       "        ngram_range=(1, 1), preprocessor=None, stop_words=None,\n",
       "        strip_accents=None, token_pattern='(?u)\\\\b\\\\w\\\\w+\\\\b',\n",
       "        tokenizer=None, vocabulary=None)"
      ]
     },
     "execution_count": 13,
     "metadata": {},
     "output_type": "execute_result"
    },
    {
     "name": "stdout",
     "output_type": "stream",
     "text": [
      "CPU times: user 408 ms, sys: 253 ms, total: 661 ms\n",
      "Wall time: 796 ms\n"
     ]
    }
   ],
   "source": [
    "from sklearn.feature_extraction.text import CountVectorizer\n",
    "vect = CountVectorizer()\n",
    "%time vect.fit([' '.join(d) for d in drug_data.processed])\n",
    "%time tsne_data = vect.transform([' '.join(d) for d in drug_data.processed]).toarray()\n",
    "# %time tsne_result = TSNE(learning_rate=300, init='pca').fit_transform(np.array(tsne_data))"
   ]
  },
  {
   "cell_type": "code",
   "execution_count": 14,
   "metadata": {
    "colab": {},
    "colab_type": "code",
    "id": "gXDPyn1AqmRb",
    "outputId": "b7c98c63-9c7f-4113-b629-6e8ffa920ef4"
   },
   "outputs": [
    {
     "data": {
      "text/plain": [
       "TfidfVectorizer(analyzer='word', binary=False, decode_error='strict',\n",
       "        dtype=<class 'numpy.int64'>, encoding='utf-8', input='content',\n",
       "        lowercase=True, max_df=0.8, max_features=10000, min_df=0.01,\n",
       "        ngram_range=(1, 1), norm='l2', preprocessor=None, smooth_idf=True,\n",
       "        stop_words='english', strip_accents=None, sublinear_tf=False,\n",
       "        token_pattern='(?u)\\\\b\\\\w\\\\w+\\\\b',\n",
       "        tokenizer=<function preprocess at 0x123ce4400>, use_idf=True,\n",
       "        vocabulary=None)"
      ]
     },
     "execution_count": 14,
     "metadata": {},
     "output_type": "execute_result"
    },
    {
     "name": "stdout",
     "output_type": "stream",
     "text": [
      "CPU times: user 10.8 s, sys: 51.6 ms, total: 10.8 s\n",
      "Wall time: 10.9 s\n",
      "(32049, 148)\n"
     ]
    }
   ],
   "source": [
    "from sklearn.feature_extraction.text import TfidfVectorizer\n",
    "from sklearn.preprocessing import normalize\n",
    "from sklearn.manifold import TSNE\n",
    "\n",
    "tfidf_vectorizer = TfidfVectorizer(max_df=0.8, \n",
    "                                   max_features=10000, \n",
    "                                   min_df=0.01, \n",
    "                                   stop_words='english', \n",
    "                                   use_idf=True, \n",
    "                                   lowercase=True, \n",
    "                                   tokenizer=preprocess)\n",
    "#                                    tokenizer=preprocess, ngram_range=(1,2))\n",
    "\n",
    "tfidf_vectorizer.fit(drug_data.title)\n",
    "%time tfidf_data = tfidf_vectorizer.transform(drug_data.title).toarray()\n",
    "print(tfidf_data.shape)"
   ]
  },
  {
   "cell_type": "markdown",
   "metadata": {
    "colab_type": "text",
    "id": "MtAuV6y1qmRe"
   },
   "source": [
    "### L2 Normalization\n",
    " - L2 Norm은 n 차원(유클리드 공간)에서의 벡터의 크기를 계산함."
   ]
  },
  {
   "cell_type": "code",
   "execution_count": 15,
   "metadata": {
    "colab": {},
    "colab_type": "code",
    "id": "pnmhkWZ6qmRf",
    "outputId": "bd1a744d-e937-45d5-c1a1-37dd0eccf48a"
   },
   "outputs": [],
   "source": [
    "# %time tfidf_tsne_result = TSNE(learning_rate=300, init='pca')\\\n",
    "#                     .fit_transform(np.array(tfidf_data))\n",
    "# tfidf_vect = normalize(tfidf_tsne_result, norm='l2')\n",
    "# tfidf_tsne_result[:10]"
   ]
  },
  {
   "cell_type": "code",
   "execution_count": 16,
   "metadata": {
    "colab": {},
    "colab_type": "code",
    "id": "HM3N6v8CqmRo"
   },
   "outputs": [
    {
     "name": "stderr",
     "output_type": "stream",
     "text": [
      "/Users/grace/workspace/keras/venv/lib/python3.6/site-packages/h5py/__init__.py:36: FutureWarning: Conversion of the second argument of issubdtype from `float` to `np.floating` is deprecated. In future, it will be treated as `np.float64 == np.dtype(float).type`.\n",
      "  from ._conv import register_converters as _register_converters\n",
      "Using TensorFlow backend.\n",
      "/Users/grace/workspace/keras/venv/lib/python3.6/importlib/_bootstrap.py:219: RuntimeWarning: compiletime version 3.5 of module 'tensorflow.python.framework.fast_tensor_util' does not match runtime version 3.6\n",
      "  return f(*args, **kwds)\n"
     ]
    }
   ],
   "source": [
    "import numpy as np\n",
    "\n",
    "from keras.models import Model\n",
    "from keras import backend as K\n",
    "from keras import layers\n",
    "from keras.layers import Input, Dense, Conv2D, MaxPooling2D, UpSampling2D, Flatten, Reshape, Conv2DTranspose\n",
    "from keras.models import Model\n",
    "from keras.engine.topology import Layer, InputSpec\n",
    "\n",
    "from sklearn.cluster import KMeans\n",
    "from sklearn import metrics\n",
    "\n",
    "np.random.seed(0)"
   ]
  },
  {
   "cell_type": "code",
   "execution_count": 17,
   "metadata": {
    "colab": {},
    "colab_type": "code",
    "id": "JsK_fzStqmRq"
   },
   "outputs": [],
   "source": [
    "class ClusteringLayer(Layer):\n",
    "    \"\"\"\n",
    "    Clustering layer converts input sample (feature) to soft label, i.e. a vector that represents the probability of the\n",
    "    sample belonging to each cluster. The probability is calculated with student's t-distribution.\n",
    "\n",
    "    # Example\n",
    "    ```\n",
    "        model.add(ClusteringLayer(n_clusters=10))\n",
    "    ```\n",
    "    # Arguments\n",
    "        n_clusters: number of clusters.\n",
    "        weights: list of Numpy array with shape `(n_clusters, n_features)` witch represents the initial cluster centers.\n",
    "        alpha: degrees of freedom parameter in Student's t-distribution. Default to 1.0.\n",
    "    # Input shape\n",
    "        2D tensor with shape: `(n_samples, n_features)`.\n",
    "    # Output shape\n",
    "        2D tensor with shape: `(n_samples, n_clusters)`.\n",
    "    \"\"\"\n",
    "\n",
    "    def __init__(self, n_clusters, weights=None, alpha=1.0, **kwargs):\n",
    "        if 'input_shape' not in kwargs and 'input_dim' in kwargs:\n",
    "            kwargs['input_shape'] = (kwargs.pop('input_dim'),)\n",
    "        super(ClusteringLayer, self).__init__(**kwargs)\n",
    "        self.n_clusters = n_clusters\n",
    "        self.alpha = alpha\n",
    "        self.initial_weights = weights\n",
    "        self.input_spec = InputSpec(ndim=2)\n",
    "\n",
    "    def build(self, input_shape):\n",
    "        assert len(input_shape) == 2\n",
    "        input_dim = input_shape[1]\n",
    "        self.input_spec = InputSpec(dtype=K.floatx(), shape=(None, input_dim))\n",
    "        self.clusters = self.add_weight((self.n_clusters, input_dim), initializer='glorot_uniform', name='clusters')\n",
    "        if self.initial_weights is not None:\n",
    "            self.set_weights(self.initial_weights)\n",
    "            del self.initial_weights\n",
    "        self.built = True\n",
    "\n",
    "    def call(self, inputs, **kwargs):\n",
    "        \"\"\" student t-distribution, as same as used in t-SNE algorithm.\n",
    "         Measure the similarity between embedded point z_i and centroid µ_j.\n",
    "                 q_ij = 1/(1+dist(x_i, µ_j)^2), then normalize it.\n",
    "                 q_ij can be interpreted as the probability of assigning sample i to cluster j.\n",
    "                 (i.e., a soft assignment)\n",
    "        Arguments:\n",
    "            inputs: the variable containing data, shape=(n_samples, n_features)\n",
    "        Return:\n",
    "            q: student's t-distribution, or soft labels for each sample. shape=(n_samples, n_clusters)\n",
    "        \"\"\"\n",
    "        q = 1.0 / (1.0 + (K.sum(K.square(K.expand_dims(inputs, axis=1) - self.clusters), axis=2) / self.alpha))\n",
    "        q **= (self.alpha + 1.0) / 2.0\n",
    "        q = K.transpose(K.transpose(q) / K.sum(q, axis=1)) # Make sure each sample's 10 values add up to 1.\n",
    "        return q\n",
    "\n",
    "    def compute_output_shape(self, input_shape):\n",
    "        assert input_shape and len(input_shape) == 2\n",
    "        return input_shape[0], self.n_clusters\n",
    "\n",
    "    def get_config(self):\n",
    "        config = {'n_clusters': self.n_clusters}\n",
    "        base_config = super(ClusteringLayer, self).get_config()\n",
    "        return dict(list(base_config.items()) + list(config.items()))"
   ]
  },
  {
   "cell_type": "code",
   "execution_count": 18,
   "metadata": {
    "colab": {},
    "colab_type": "code",
    "id": "0CXLrqIWqmRt"
   },
   "outputs": [],
   "source": [
    "def autoencoder(dims, act='relu', init='glorot_uniform'):\n",
    "    \"\"\"\n",
    "    Fully connected auto-encoder model, symmetric.\n",
    "    Arguments:\n",
    "        dims: list of number of units in each layer of encoder. dims[0] is input dim, dims[-1] is units in hidden layer.\n",
    "            The decoder is symmetric with encoder. So number of layers of the auto-encoder is 2*len(dims)-1\n",
    "        act: activation, not applied to Input, Hidden and Output layers\n",
    "    return:\n",
    "        (ae_model, encoder_model), Model of autoencoder and model of encoder\n",
    "    \"\"\"\n",
    "    n_stacks = len(dims) - 1\n",
    "    # input\n",
    "    input_img = Input(shape=(dims[0],), name='input')\n",
    "    x = input_img\n",
    "    # internal layers in encoder\n",
    "    for i in range(n_stacks-1):\n",
    "        x = Dense(dims[i + 1], activation=act, kernel_initializer=init, name='encoder_%d' % i)(x)\n",
    "\n",
    "    # hidden layer\n",
    "    encoded = Dense(dims[-1], kernel_initializer=init, name='encoder_%d' % (n_stacks - 1))(x)  # hidden layer, features are extracted from here\n",
    "\n",
    "    x = encoded\n",
    "    # internal layers in decoder\n",
    "    for i in range(n_stacks-1, 0, -1):\n",
    "        x = Dense(dims[i], activation=act, kernel_initializer=init, name='decoder_%d' % i)(x)\n",
    "\n",
    "    # output\n",
    "    x = Dense(dims[0], kernel_initializer=init, name='decoder_0')(x)\n",
    "    decoded = x\n",
    "    return Model(inputs=input_img, outputs=decoded, name='AE'), Model(inputs=input_img, outputs=encoded, name='encoder')"
   ]
  },
  {
   "cell_type": "code",
   "execution_count": 19,
   "metadata": {
    "colab": {},
    "colab_type": "code",
    "id": "yPe1curcqmRx"
   },
   "outputs": [],
   "source": [
    "# computing an auxiliary target distribution\n",
    "def target_distribution(q):\n",
    "    weight = q ** 2 / q.sum(0)\n",
    "    return (weight.T / weight.sum(1)).T"
   ]
  },
  {
   "cell_type": "markdown",
   "metadata": {
    "colab_type": "text",
    "id": "rC57Gqd0qmRz"
   },
   "source": [
    "## Fully Connected DEC"
   ]
  },
  {
   "cell_type": "code",
   "execution_count": 20,
   "metadata": {
    "colab": {},
    "colab_type": "code",
    "id": "hYA_rNxcqmR0"
   },
   "outputs": [],
   "source": [
    "from keras.initializers import VarianceScaling\n",
    "from keras.optimizers import SGD, Adam"
   ]
  },
  {
   "cell_type": "code",
   "execution_count": 21,
   "metadata": {
    "colab": {},
    "colab_type": "code",
    "id": "N10XmtpMqmR1"
   },
   "outputs": [],
   "source": [
    "max_count = max([np.max(t) for t in tfidf_data]) * 1.\n",
    "x = np.divide(tsne_data, max_count)\n",
    "# x = np.divide(tfidf_data, max_count)\n",
    "\n",
    "# max_count = max([np.max(t) for t in tsne_data]) * 1.\n",
    "# x = np.divide(tsne_data, max_count)\n",
    "n_clusters = 8"
   ]
  },
  {
   "cell_type": "code",
   "execution_count": 22,
   "metadata": {
    "colab": {},
    "colab_type": "code",
    "id": "0ZenDmUOqmR3"
   },
   "outputs": [],
   "source": [
    "dims = [x.shape[-1], 500, 500, 2000, 10]\n",
    "init = VarianceScaling(scale=1. / 3., mode='fan_in', distribution='uniform')\n",
    "# pretrain_optimizer = SGD(lr=1, momentum=0.9)\n",
    "pretrain_optimizer = Adam(lr=0.001, beta_1=0.9, beta_2=0.999, epsilon=1e-08, decay=0.0)\n",
    "pretrain_epochs = 300\n",
    "batch_size = 256"
   ]
  },
  {
   "cell_type": "code",
   "execution_count": 23,
   "metadata": {
    "colab": {},
    "colab_type": "code",
    "id": "yoPBkdkbqmR4"
   },
   "outputs": [
    {
     "name": "stdout",
     "output_type": "stream",
     "text": [
      "WARNING:tensorflow:From /Users/grace/workspace/keras/venv/lib/python3.6/site-packages/keras/backend/tensorflow_backend.py:1188: calling reduce_sum (from tensorflow.python.ops.math_ops) with keep_dims is deprecated and will be removed in a future version.\n",
      "Instructions for updating:\n",
      "keep_dims is deprecated, use keepdims instead\n"
     ]
    }
   ],
   "source": [
    "autoencoder, encoder = autoencoder(dims, init=init)\n",
    "clustering_layer = ClusteringLayer(n_clusters, name='clustering')(encoder.output)\n",
    "model = Model(inputs=encoder.input, outputs=[clustering_layer, autoencoder.output])"
   ]
  },
  {
   "cell_type": "code",
   "execution_count": 24,
   "metadata": {
    "colab": {},
    "colab_type": "code",
    "id": "VcAZUZ9oqmR7"
   },
   "outputs": [
    {
     "name": "stdout",
     "output_type": "stream",
     "text": [
      "____________________________________________________________________________________________________\n",
      "Layer (type)                     Output Shape          Param #     Connected to                     \n",
      "====================================================================================================\n",
      "input (InputLayer)               (None, 9209)          0                                            \n",
      "____________________________________________________________________________________________________\n",
      "encoder_0 (Dense)                (None, 500)           4605000     input[0][0]                      \n",
      "____________________________________________________________________________________________________\n",
      "encoder_1 (Dense)                (None, 500)           250500      encoder_0[0][0]                  \n",
      "____________________________________________________________________________________________________\n",
      "encoder_2 (Dense)                (None, 2000)          1002000     encoder_1[0][0]                  \n",
      "____________________________________________________________________________________________________\n",
      "encoder_3 (Dense)                (None, 10)            20010       encoder_2[0][0]                  \n",
      "____________________________________________________________________________________________________\n",
      "decoder_3 (Dense)                (None, 2000)          22000       encoder_3[0][0]                  \n",
      "____________________________________________________________________________________________________\n",
      "decoder_2 (Dense)                (None, 500)           1000500     decoder_3[0][0]                  \n",
      "____________________________________________________________________________________________________\n",
      "decoder_1 (Dense)                (None, 500)           250500      decoder_2[0][0]                  \n",
      "____________________________________________________________________________________________________\n",
      "clustering (ClusteringLayer)     (None, 8)             80          encoder_3[0][0]                  \n",
      "____________________________________________________________________________________________________\n",
      "decoder_0 (Dense)                (None, 9209)          4613709     decoder_1[0][0]                  \n",
      "====================================================================================================\n",
      "Total params: 11,764,299\n",
      "Trainable params: 11,764,299\n",
      "Non-trainable params: 0\n",
      "____________________________________________________________________________________________________\n"
     ]
    }
   ],
   "source": [
    "model.summary()"
   ]
  },
  {
   "cell_type": "code",
   "execution_count": 25,
   "metadata": {
    "colab": {},
    "colab_type": "code",
    "id": "eua0_TENqmR8"
   },
   "outputs": [
    {
     "name": "stdout",
     "output_type": "stream",
     "text": [
      "WARNING:tensorflow:From /Users/grace/workspace/keras/venv/lib/python3.6/site-packages/keras/backend/tensorflow_backend.py:1290: calling reduce_mean (from tensorflow.python.ops.math_ops) with keep_dims is deprecated and will be removed in a future version.\n",
      "Instructions for updating:\n",
      "keep_dims is deprecated, use keepdims instead\n",
      "Epoch 1/300\n",
      "32049/32049 [==============================] - 31s - loss: 8.6049e-04    \n",
      "Epoch 2/300\n",
      "32049/32049 [==============================] - 31s - loss: 8.1468e-04    \n",
      "Epoch 3/300\n",
      "32049/32049 [==============================] - 29s - loss: 7.6648e-04    \n",
      "Epoch 4/300\n",
      "32049/32049 [==============================] - 29s - loss: 7.3031e-04    \n",
      "Epoch 5/300\n",
      "32049/32049 [==============================] - 29s - loss: 7.0547e-04    \n",
      "Epoch 6/300\n",
      "32049/32049 [==============================] - 29s - loss: 6.8837e-04    \n",
      "Epoch 7/300\n",
      "32049/32049 [==============================] - 29s - loss: 6.7442e-04    \n",
      "Epoch 8/300\n",
      "32049/32049 [==============================] - 30s - loss: 6.6302e-04    \n",
      "Epoch 9/300\n",
      "32049/32049 [==============================] - 30s - loss: 6.5430e-04    \n",
      "Epoch 10/300\n",
      "32049/32049 [==============================] - 28s - loss: 6.4661e-04    \n",
      "Epoch 11/300\n",
      "32049/32049 [==============================] - 29s - loss: 6.3949e-04    \n",
      "Epoch 12/300\n",
      "32049/32049 [==============================] - 30s - loss: 6.3356e-04    \n",
      "Epoch 13/300\n",
      "32049/32049 [==============================] - 32s - loss: 6.2771e-04    \n",
      "Epoch 14/300\n",
      "32049/32049 [==============================] - 33s - loss: 6.2070e-04    \n",
      "Epoch 15/300\n",
      "32049/32049 [==============================] - 29s - loss: 6.1518e-04    \n",
      "Epoch 16/300\n",
      "32049/32049 [==============================] - 28s - loss: 6.1009e-04    \n",
      "Epoch 17/300\n",
      "32049/32049 [==============================] - 28s - loss: 6.0507e-04    \n",
      "Epoch 18/300\n",
      "32049/32049 [==============================] - 28s - loss: 6.0067e-04    \n",
      "Epoch 19/300\n",
      "32049/32049 [==============================] - 30s - loss: 5.9713e-04    \n",
      "Epoch 20/300\n",
      "32049/32049 [==============================] - 30s - loss: 5.9322e-04    \n",
      "Epoch 21/300\n",
      "32049/32049 [==============================] - 33s - loss: 5.8983e-04    \n",
      "Epoch 22/300\n",
      "32049/32049 [==============================] - 30s - loss: 5.8606e-04    \n",
      "Epoch 23/300\n",
      "32049/32049 [==============================] - 32s - loss: 5.8279e-04    \n",
      "Epoch 24/300\n",
      "32049/32049 [==============================] - 31s - loss: 5.7841e-04    \n",
      "Epoch 25/300\n",
      "32049/32049 [==============================] - 30s - loss: 5.7530e-04    \n",
      "Epoch 26/300\n",
      "32049/32049 [==============================] - 30s - loss: 5.7232e-04    \n",
      "Epoch 27/300\n",
      "32049/32049 [==============================] - 30s - loss: 5.6869e-04    \n",
      "Epoch 28/300\n",
      "32049/32049 [==============================] - 29s - loss: 5.6582e-04    \n",
      "Epoch 29/300\n",
      "32049/32049 [==============================] - 30s - loss: 5.6383e-04    \n",
      "Epoch 30/300\n",
      "32049/32049 [==============================] - 30s - loss: 5.6252e-04    \n",
      "Epoch 31/300\n",
      "32049/32049 [==============================] - 29s - loss: 5.5872e-04    \n",
      "Epoch 32/300\n",
      "32049/32049 [==============================] - 29s - loss: 5.5718e-04    \n",
      "Epoch 33/300\n",
      "32049/32049 [==============================] - 31s - loss: 5.5446e-04    \n",
      "Epoch 34/300\n",
      "32049/32049 [==============================] - 32s - loss: 5.5151e-04    \n",
      "Epoch 35/300\n",
      "32049/32049 [==============================] - 32s - loss: 5.4957e-04    \n",
      "Epoch 36/300\n",
      "32049/32049 [==============================] - 30s - loss: 5.4736e-04    \n",
      "Epoch 37/300\n",
      "32049/32049 [==============================] - 31s - loss: 5.4498e-04    \n",
      "Epoch 38/300\n",
      "32049/32049 [==============================] - 31s - loss: 5.4182e-04    \n",
      "Epoch 39/300\n",
      "32049/32049 [==============================] - 31s - loss: 5.4044e-04    \n",
      "Epoch 40/300\n",
      "32049/32049 [==============================] - 31s - loss: 5.5210e-04    \n",
      "Epoch 41/300\n",
      "32049/32049 [==============================] - 33s - loss: 5.4240e-04    \n",
      "Epoch 42/300\n",
      "32049/32049 [==============================] - 31s - loss: 5.3673e-04    \n",
      "Epoch 43/300\n",
      "32049/32049 [==============================] - 31s - loss: 5.3295e-04    \n",
      "Epoch 44/300\n",
      "32049/32049 [==============================] - 30s - loss: 5.3075e-04    \n",
      "Epoch 45/300\n",
      "32049/32049 [==============================] - 32s - loss: 5.2919e-04    \n",
      "Epoch 46/300\n",
      "32049/32049 [==============================] - 31s - loss: 5.2657e-04    \n",
      "Epoch 47/300\n",
      "32049/32049 [==============================] - 29s - loss: 5.2468e-04    \n",
      "Epoch 48/300\n",
      "32049/32049 [==============================] - 30s - loss: 5.2222e-04    \n",
      "Epoch 49/300\n",
      "32049/32049 [==============================] - 30s - loss: 5.2104e-04    \n",
      "Epoch 50/300\n",
      "32049/32049 [==============================] - 31s - loss: 5.1878e-04    \n",
      "Epoch 51/300\n",
      "32049/32049 [==============================] - 33s - loss: 5.1678e-04    \n",
      "Epoch 52/300\n",
      "32049/32049 [==============================] - 29s - loss: 5.1506e-04    \n",
      "Epoch 53/300\n",
      "32049/32049 [==============================] - 28s - loss: 5.1398e-04    \n",
      "Epoch 54/300\n",
      "32049/32049 [==============================] - 27s - loss: 5.1201e-04    \n",
      "Epoch 55/300\n",
      "32049/32049 [==============================] - 27s - loss: 5.1030e-04    \n",
      "Epoch 56/300\n",
      "32049/32049 [==============================] - 27s - loss: 5.0847e-04    \n",
      "Epoch 57/300\n",
      "32049/32049 [==============================] - 28s - loss: 5.0642e-04    \n",
      "Epoch 58/300\n",
      "32049/32049 [==============================] - 27s - loss: 5.0540e-04    \n",
      "Epoch 59/300\n",
      "32049/32049 [==============================] - 27s - loss: 5.0386e-04    \n",
      "Epoch 60/300\n",
      "32049/32049 [==============================] - 27s - loss: 5.0197e-04    \n",
      "Epoch 61/300\n",
      "32049/32049 [==============================] - 27s - loss: 4.9958e-04    \n",
      "Epoch 62/300\n",
      "32049/32049 [==============================] - 27s - loss: 4.9850e-04    \n",
      "Epoch 63/300\n",
      "32049/32049 [==============================] - 27s - loss: 4.9761e-04    \n",
      "Epoch 64/300\n",
      "32049/32049 [==============================] - 28s - loss: 4.9628e-04    \n",
      "Epoch 65/300\n",
      "32049/32049 [==============================] - 27s - loss: 4.9452e-04    \n",
      "Epoch 66/300\n",
      "32049/32049 [==============================] - 27s - loss: 4.9302e-04    \n",
      "Epoch 67/300\n",
      "32049/32049 [==============================] - 29s - loss: 4.9184e-04    \n",
      "Epoch 68/300\n",
      "32049/32049 [==============================] - 28s - loss: 4.9193e-04    \n",
      "Epoch 69/300\n",
      "32049/32049 [==============================] - 28s - loss: 4.8998e-04    \n",
      "Epoch 70/300\n",
      "32049/32049 [==============================] - 27s - loss: 4.8881e-04    \n",
      "Epoch 71/300\n",
      "32049/32049 [==============================] - 27s - loss: 4.8876e-04    \n",
      "Epoch 72/300\n",
      "32049/32049 [==============================] - 27s - loss: 4.8665e-04    \n",
      "Epoch 73/300\n",
      "32049/32049 [==============================] - 27s - loss: 4.8584e-04    \n",
      "Epoch 74/300\n",
      "32049/32049 [==============================] - 28s - loss: 4.8435e-04    \n",
      "Epoch 75/300\n",
      "32049/32049 [==============================] - 29s - loss: 4.8255e-04    \n",
      "Epoch 76/300\n",
      "32049/32049 [==============================] - 29s - loss: 4.8107e-04    \n",
      "Epoch 77/300\n",
      "32049/32049 [==============================] - 32s - loss: 4.7957e-04    \n",
      "Epoch 78/300\n",
      "32049/32049 [==============================] - 33s - loss: 4.7855e-04    \n",
      "Epoch 79/300\n",
      "32049/32049 [==============================] - 33s - loss: 4.7929e-04    \n",
      "Epoch 80/300\n",
      "32049/32049 [==============================] - 36s - loss: 4.7791e-04    \n",
      "Epoch 81/300\n",
      "32049/32049 [==============================] - 32s - loss: 4.7694e-04    \n",
      "Epoch 82/300\n",
      "32049/32049 [==============================] - 31s - loss: 4.7606e-04    \n",
      "Epoch 83/300\n",
      "32049/32049 [==============================] - 31s - loss: 4.7467e-04    \n",
      "Epoch 84/300\n",
      "32049/32049 [==============================] - 31s - loss: 4.7439e-04    \n",
      "Epoch 85/300\n",
      "32049/32049 [==============================] - 30s - loss: 4.7266e-04    \n",
      "Epoch 86/300\n",
      "32049/32049 [==============================] - 32s - loss: 4.7225e-04    \n",
      "Epoch 87/300\n",
      "32049/32049 [==============================] - 32s - loss: 4.7165e-04    \n",
      "Epoch 88/300\n",
      "32049/32049 [==============================] - 32s - loss: 4.7164e-04    \n",
      "Epoch 89/300\n",
      "32049/32049 [==============================] - 32s - loss: 4.7102e-04    \n",
      "Epoch 90/300\n",
      "32049/32049 [==============================] - 32s - loss: 4.7042e-04    \n",
      "Epoch 91/300\n"
     ]
    },
    {
     "name": "stdout",
     "output_type": "stream",
     "text": [
      "32049/32049 [==============================] - 30s - loss: 4.6970e-04    \n",
      "Epoch 92/300\n",
      "32049/32049 [==============================] - 31s - loss: 4.6795e-04    \n",
      "Epoch 93/300\n",
      "32049/32049 [==============================] - 31s - loss: 4.6744e-04    \n",
      "Epoch 94/300\n",
      "32049/32049 [==============================] - 32s - loss: 4.6614e-04    \n",
      "Epoch 95/300\n",
      "32049/32049 [==============================] - 32s - loss: 4.6559e-04    \n",
      "Epoch 96/300\n",
      "32049/32049 [==============================] - 32s - loss: 4.6440e-04    \n",
      "Epoch 97/300\n",
      "32049/32049 [==============================] - 31s - loss: 4.6415e-04    \n",
      "Epoch 98/300\n",
      "32049/32049 [==============================] - 33s - loss: 4.6403e-04    \n",
      "Epoch 99/300\n",
      "32049/32049 [==============================] - 31s - loss: 4.6294e-04    \n",
      "Epoch 100/300\n",
      "32049/32049 [==============================] - 28s - loss: 4.6180e-04    \n",
      "Epoch 101/300\n",
      "32049/32049 [==============================] - 27s - loss: 4.6111e-04    \n",
      "Epoch 102/300\n",
      "32049/32049 [==============================] - 27s - loss: 4.6071e-04    \n",
      "Epoch 103/300\n",
      "32049/32049 [==============================] - 28s - loss: 4.6161e-04    \n",
      "Epoch 104/300\n",
      "32049/32049 [==============================] - 29s - loss: 4.6036e-04    \n",
      "Epoch 105/300\n",
      "32049/32049 [==============================] - 29s - loss: 4.5996e-04    \n",
      "Epoch 106/300\n",
      "32049/32049 [==============================] - 27s - loss: 4.5880e-04    \n",
      "Epoch 107/300\n",
      "32049/32049 [==============================] - 27s - loss: 4.5757e-04    \n",
      "Epoch 108/300\n",
      "32049/32049 [==============================] - 29s - loss: 4.5882e-04    \n",
      "Epoch 109/300\n",
      "32049/32049 [==============================] - 29s - loss: 4.5806e-04    \n",
      "Epoch 110/300\n",
      "32049/32049 [==============================] - 27s - loss: 4.5792e-04    \n",
      "Epoch 111/300\n",
      "32049/32049 [==============================] - 29s - loss: 4.5723e-04    \n",
      "Epoch 112/300\n",
      "32049/32049 [==============================] - 28s - loss: 4.5606e-04    \n",
      "Epoch 113/300\n",
      "32049/32049 [==============================] - 30s - loss: 4.5635e-04    \n",
      "Epoch 114/300\n",
      "32049/32049 [==============================] - 29s - loss: 4.5539e-04    \n",
      "Epoch 115/300\n",
      "32049/32049 [==============================] - 28s - loss: 4.5446e-04    \n",
      "Epoch 116/300\n",
      "32049/32049 [==============================] - 28s - loss: 4.5387e-04    \n",
      "Epoch 117/300\n",
      "32049/32049 [==============================] - 29s - loss: 4.5298e-04    \n",
      "Epoch 118/300\n",
      "32049/32049 [==============================] - 29s - loss: 4.5270e-04    \n",
      "Epoch 119/300\n",
      "32049/32049 [==============================] - 32s - loss: 4.5233e-04    \n",
      "Epoch 120/300\n",
      "32049/32049 [==============================] - 32s - loss: 4.5249e-04    \n",
      "Epoch 121/300\n",
      "32049/32049 [==============================] - 30s - loss: 4.5148e-04    \n",
      "Epoch 122/300\n",
      "32049/32049 [==============================] - 31s - loss: 4.5061e-04    \n",
      "Epoch 123/300\n",
      "32049/32049 [==============================] - 29s - loss: 4.5085e-04    \n",
      "Epoch 124/300\n",
      "32049/32049 [==============================] - 28s - loss: 4.4962e-04    \n",
      "Epoch 125/300\n",
      "32049/32049 [==============================] - 29s - loss: 4.4860e-04    \n",
      "Epoch 126/300\n",
      "32049/32049 [==============================] - 28s - loss: 4.4927e-04    \n",
      "Epoch 127/300\n",
      "32049/32049 [==============================] - 28s - loss: 4.4860e-04    \n",
      "Epoch 128/300\n",
      "32049/32049 [==============================] - 29s - loss: 4.4926e-04    \n",
      "Epoch 129/300\n",
      "32049/32049 [==============================] - 29s - loss: 4.4983e-04    \n",
      "Epoch 130/300\n",
      "32049/32049 [==============================] - 29s - loss: 4.4901e-04    \n",
      "Epoch 131/300\n",
      "32049/32049 [==============================] - 29s - loss: 4.4797e-04    \n",
      "Epoch 132/300\n",
      "32049/32049 [==============================] - 28s - loss: 4.4620e-04    \n",
      "Epoch 133/300\n",
      "32049/32049 [==============================] - 29s - loss: 4.4643e-04    \n",
      "Epoch 134/300\n",
      "32049/32049 [==============================] - 29s - loss: 4.4596e-04    \n",
      "Epoch 135/300\n",
      "32049/32049 [==============================] - 31s - loss: 4.4600e-04    \n",
      "Epoch 136/300\n",
      "32049/32049 [==============================] - 28s - loss: 4.4521e-04    \n",
      "Epoch 137/300\n",
      "32049/32049 [==============================] - 29s - loss: 4.4596e-04    \n",
      "Epoch 138/300\n",
      "32049/32049 [==============================] - 28s - loss: 4.4429e-04    \n",
      "Epoch 139/300\n",
      "32049/32049 [==============================] - 28s - loss: 4.4395e-04    \n",
      "Epoch 140/300\n",
      "32049/32049 [==============================] - 28s - loss: 4.4371e-04    \n",
      "Epoch 141/300\n",
      "32049/32049 [==============================] - 30s - loss: 4.4352e-04    \n",
      "Epoch 142/300\n",
      "32049/32049 [==============================] - 31s - loss: 4.4319e-04    \n",
      "Epoch 143/300\n",
      "32049/32049 [==============================] - 34s - loss: 4.4290e-04    \n",
      "Epoch 144/300\n",
      "32049/32049 [==============================] - 29s - loss: 4.4269e-04    \n",
      "Epoch 145/300\n",
      "32049/32049 [==============================] - 28s - loss: 4.4276e-04    \n",
      "Epoch 146/300\n",
      "32049/32049 [==============================] - 29s - loss: 4.4219e-04    \n",
      "Epoch 147/300\n",
      "32049/32049 [==============================] - 29s - loss: 4.4123e-04    \n",
      "Epoch 148/300\n",
      "32049/32049 [==============================] - 30s - loss: 4.3991e-04    \n",
      "Epoch 149/300\n",
      "32049/32049 [==============================] - 28s - loss: 4.4059e-04    \n",
      "Epoch 150/300\n",
      "32049/32049 [==============================] - 29s - loss: 4.4012e-04    \n",
      "Epoch 151/300\n",
      "32049/32049 [==============================] - 30s - loss: 4.3962e-04    \n",
      "Epoch 152/300\n",
      "32049/32049 [==============================] - 31s - loss: 4.3935e-04    \n",
      "Epoch 153/300\n",
      "32049/32049 [==============================] - 32s - loss: 4.3912e-04    \n",
      "Epoch 154/300\n",
      "32049/32049 [==============================] - 31s - loss: 4.3944e-04    \n",
      "Epoch 155/300\n",
      "32049/32049 [==============================] - 31s - loss: 4.3922e-04    \n",
      "Epoch 156/300\n",
      "32049/32049 [==============================] - 29s - loss: 4.3957e-04    \n",
      "Epoch 157/300\n",
      "32049/32049 [==============================] - 31s - loss: 4.3848e-04    \n",
      "Epoch 158/300\n",
      "32049/32049 [==============================] - 30s - loss: 4.3839e-04    \n",
      "Epoch 159/300\n",
      "32049/32049 [==============================] - 32s - loss: 4.3816e-04    \n",
      "Epoch 160/300\n",
      "32049/32049 [==============================] - 31s - loss: 4.3719e-04    \n",
      "Epoch 161/300\n",
      "32049/32049 [==============================] - 34s - loss: 4.3699e-04    \n",
      "Epoch 162/300\n",
      "32049/32049 [==============================] - 34s - loss: 4.3607e-04    \n",
      "Epoch 163/300\n",
      "32049/32049 [==============================] - 34s - loss: 4.3608e-04    \n",
      "Epoch 164/300\n",
      "32049/32049 [==============================] - 35s - loss: 4.3549e-04    \n",
      "Epoch 165/300\n",
      "32049/32049 [==============================] - 35s - loss: 4.3484e-04    \n",
      "Epoch 166/300\n",
      "32049/32049 [==============================] - 32s - loss: 4.3473e-04    \n",
      "Epoch 167/300\n",
      "32049/32049 [==============================] - 31s - loss: 4.3470e-04    \n",
      "Epoch 168/300\n",
      "32049/32049 [==============================] - 32s - loss: 4.3496e-04    \n",
      "Epoch 169/300\n",
      "32049/32049 [==============================] - 32s - loss: 4.3484e-04    \n",
      "Epoch 170/300\n",
      "32049/32049 [==============================] - 34s - loss: 4.3481e-04    \n",
      "Epoch 171/300\n",
      "32049/32049 [==============================] - 33s - loss: 4.3550e-04    \n",
      "Epoch 172/300\n",
      "32049/32049 [==============================] - 33s - loss: 4.3418e-04    \n",
      "Epoch 173/300\n",
      "32049/32049 [==============================] - 29s - loss: 4.3375e-04    \n",
      "Epoch 174/300\n",
      "32049/32049 [==============================] - 29s - loss: 4.3374e-04    \n",
      "Epoch 175/300\n",
      "32049/32049 [==============================] - 30s - loss: 4.3351e-04    \n",
      "Epoch 176/300\n",
      "32049/32049 [==============================] - 34s - loss: 4.3352e-04    \n",
      "Epoch 177/300\n",
      "32049/32049 [==============================] - 32s - loss: 4.3269e-04    \n",
      "Epoch 178/300\n",
      "32049/32049 [==============================] - 31s - loss: 4.3274e-04    \n",
      "Epoch 179/300\n",
      "32049/32049 [==============================] - 31s - loss: 4.3210e-04    \n",
      "Epoch 180/300\n",
      "32049/32049 [==============================] - 32s - loss: 4.3109e-04    \n",
      "Epoch 181/300\n",
      "32049/32049 [==============================] - 33s - loss: 4.3134e-04    \n",
      "Epoch 182/300\n",
      "32049/32049 [==============================] - 35s - loss: 4.3114e-04    \n",
      "Epoch 183/300\n",
      "32049/32049 [==============================] - 31s - loss: 4.3025e-04    \n",
      "Epoch 184/300\n"
     ]
    },
    {
     "name": "stdout",
     "output_type": "stream",
     "text": [
      "32049/32049 [==============================] - 31s - loss: 4.2952e-04    \n",
      "Epoch 185/300\n",
      "32049/32049 [==============================] - 30s - loss: 4.2954e-04    \n",
      "Epoch 186/300\n",
      "32049/32049 [==============================] - 31s - loss: 4.2952e-04    \n",
      "Epoch 187/300\n",
      "32049/32049 [==============================] - 30s - loss: 4.2975e-04    \n",
      "Epoch 188/300\n",
      "32049/32049 [==============================] - 29s - loss: 4.3010e-04    \n",
      "Epoch 189/300\n",
      "32049/32049 [==============================] - 29s - loss: 4.3008e-04    \n",
      "Epoch 190/300\n",
      "32049/32049 [==============================] - 29s - loss: 4.2981e-04    \n",
      "Epoch 191/300\n",
      "32049/32049 [==============================] - 28s - loss: 4.3023e-04    \n",
      "Epoch 192/300\n",
      "32049/32049 [==============================] - 28s - loss: 4.2985e-04    \n",
      "Epoch 193/300\n",
      "32049/32049 [==============================] - 29s - loss: 4.2972e-04    \n",
      "Epoch 194/300\n",
      "32049/32049 [==============================] - 29s - loss: 4.2892e-04    \n",
      "Epoch 195/300\n",
      "32049/32049 [==============================] - 30s - loss: 4.2863e-04    \n",
      "Epoch 196/300\n",
      "32049/32049 [==============================] - 31s - loss: 4.2787e-04    \n",
      "Epoch 197/300\n",
      "32049/32049 [==============================] - 31s - loss: 4.2776e-04    \n",
      "Epoch 198/300\n",
      "32049/32049 [==============================] - 33s - loss: 4.2792e-04    \n",
      "Epoch 199/300\n",
      "32049/32049 [==============================] - 31s - loss: 4.2754e-04    \n",
      "Epoch 200/300\n",
      "32049/32049 [==============================] - 32s - loss: 4.2678e-04    \n",
      "Epoch 201/300\n",
      "32049/32049 [==============================] - 31s - loss: 4.2688e-04    \n",
      "Epoch 202/300\n",
      "32049/32049 [==============================] - 31s - loss: 4.2700e-04    \n",
      "Epoch 203/300\n",
      "32049/32049 [==============================] - 31s - loss: 4.2715e-04    \n",
      "Epoch 204/300\n",
      "32049/32049 [==============================] - 31s - loss: 4.2589e-04    \n",
      "Epoch 205/300\n",
      "32049/32049 [==============================] - 33s - loss: 4.2642e-04    \n",
      "Epoch 206/300\n",
      "32049/32049 [==============================] - 33s - loss: 4.2615e-04    \n",
      "Epoch 207/300\n",
      "32049/32049 [==============================] - 30s - loss: 4.2615e-04    \n",
      "Epoch 208/300\n",
      "32049/32049 [==============================] - 32s - loss: 4.2567e-04    \n",
      "Epoch 209/300\n",
      "32049/32049 [==============================] - 32s - loss: 4.2541e-04    \n",
      "Epoch 210/300\n",
      "32049/32049 [==============================] - 31s - loss: 4.2454e-04    \n",
      "Epoch 211/300\n",
      "32049/32049 [==============================] - 33s - loss: 4.2392e-04    \n",
      "Epoch 212/300\n",
      "32049/32049 [==============================] - 32s - loss: 4.2412e-04    \n",
      "Epoch 213/300\n",
      "32049/32049 [==============================] - 34s - loss: 4.2452e-04    \n",
      "Epoch 214/300\n",
      "32049/32049 [==============================] - 32s - loss: 4.2503e-04    \n",
      "Epoch 215/300\n",
      "32049/32049 [==============================] - 31s - loss: 4.2455e-04    \n",
      "Epoch 216/300\n",
      "32049/32049 [==============================] - 31s - loss: 4.2498e-04    \n",
      "Epoch 217/300\n",
      "32049/32049 [==============================] - 30s - loss: 4.2497e-04    \n",
      "Epoch 218/300\n",
      "32049/32049 [==============================] - 31s - loss: 4.2424e-04    \n",
      "Epoch 219/300\n",
      "32049/32049 [==============================] - 31s - loss: 4.2309e-04    \n",
      "Epoch 220/300\n",
      "32049/32049 [==============================] - 32s - loss: 4.2261e-04    \n",
      "Epoch 221/300\n",
      "32049/32049 [==============================] - 30s - loss: 4.2195e-04    \n",
      "Epoch 222/300\n",
      "32049/32049 [==============================] - 31s - loss: 4.2237e-04    \n",
      "Epoch 223/300\n",
      "32049/32049 [==============================] - 31s - loss: 4.2243e-04    \n",
      "Epoch 224/300\n",
      "32049/32049 [==============================] - 2546s - loss: 4.2299e-04  \n",
      "Epoch 225/300\n",
      "32049/32049 [==============================] - 7361s - loss: 4.2349e-04   \n",
      "Epoch 226/300\n",
      "32049/32049 [==============================] - 19457s - loss: 4.2325e-04  \n",
      "Epoch 227/300\n",
      "32049/32049 [==============================] - 10268s - loss: 4.2213e-04  \n",
      "Epoch 228/300\n",
      "32049/32049 [==============================] - 3657s - loss: 4.2235e-04  \n",
      "Epoch 229/300\n",
      "32049/32049 [==============================] - 1360s - loss: 4.2249e-04  \n",
      "Epoch 230/300\n",
      "32049/32049 [==============================] - 26s - loss: 4.2237e-04    \n",
      "Epoch 231/300\n",
      "32049/32049 [==============================] - 26s - loss: 4.2202e-04    \n",
      "Epoch 232/300\n",
      "32049/32049 [==============================] - 25s - loss: 4.2093e-04    - ETA: 0s - loss: 4.2091e-0\n",
      "Epoch 233/300\n",
      "32049/32049 [==============================] - 25s - loss: 4.2091e-04    \n",
      "Epoch 234/300\n",
      "32049/32049 [==============================] - 25s - loss: 4.2138e-04    \n",
      "Epoch 235/300\n",
      "32049/32049 [==============================] - 25s - loss: 4.2078e-04    \n",
      "Epoch 236/300\n",
      "32049/32049 [==============================] - 26s - loss: 4.2024e-04    \n",
      "Epoch 237/300\n",
      "32049/32049 [==============================] - 25s - loss: 4.2048e-04    - \n",
      "Epoch 238/300\n",
      "32049/32049 [==============================] - 25s - loss: 4.2016e-04    \n",
      "Epoch 239/300\n",
      "32049/32049 [==============================] - 25s - loss: 4.1956e-04    \n",
      "Epoch 240/300\n",
      "32049/32049 [==============================] - 26s - loss: 4.1942e-04    \n",
      "Epoch 241/300\n",
      "32049/32049 [==============================] - 26s - loss: 4.1954e-04    \n",
      "Epoch 242/300\n",
      "32049/32049 [==============================] - 26s - loss: 4.2049e-04    \n",
      "Epoch 243/300\n",
      "32049/32049 [==============================] - 26s - loss: 4.2068e-04    \n",
      "Epoch 244/300\n",
      "32049/32049 [==============================] - 26s - loss: 4.2019e-04    \n",
      "Epoch 245/300\n",
      "32049/32049 [==============================] - 26s - loss: 4.2057e-04    \n",
      "Epoch 246/300\n",
      "32049/32049 [==============================] - 26s - loss: 4.2026e-04    \n",
      "Epoch 247/300\n",
      "32049/32049 [==============================] - 26s - loss: 4.2032e-04    \n",
      "Epoch 248/300\n",
      "32049/32049 [==============================] - 26s - loss: 4.1929e-04    \n",
      "Epoch 249/300\n",
      "32049/32049 [==============================] - 26s - loss: 4.1952e-04    \n",
      "Epoch 250/300\n",
      "32049/32049 [==============================] - 37s - loss: 4.1861e-04    \n",
      "Epoch 251/300\n",
      "32049/32049 [==============================] - 29s - loss: 4.1800e-04    \n",
      "Epoch 252/300\n",
      "32049/32049 [==============================] - 28s - loss: 4.1712e-04    \n",
      "Epoch 253/300\n",
      "32049/32049 [==============================] - 32s - loss: 4.1642e-04    \n",
      "Epoch 254/300\n",
      "32049/32049 [==============================] - 33s - loss: 4.1659e-04    \n",
      "Epoch 255/300\n",
      "32049/32049 [==============================] - 31s - loss: 4.1818e-04    \n",
      "Epoch 256/300\n",
      "32049/32049 [==============================] - 32s - loss: 4.1900e-04    \n",
      "Epoch 257/300\n",
      "32049/32049 [==============================] - 28s - loss: 4.1846e-04    \n",
      "Epoch 258/300\n",
      "32049/32049 [==============================] - 27s - loss: 4.1801e-04    \n",
      "Epoch 259/300\n",
      "32049/32049 [==============================] - 27s - loss: 4.1770e-04    \n",
      "Epoch 260/300\n",
      "32049/32049 [==============================] - 27s - loss: 4.1710e-04    \n",
      "Epoch 261/300\n",
      "32049/32049 [==============================] - 27s - loss: 4.1691e-04    \n",
      "Epoch 262/300\n",
      "32049/32049 [==============================] - 27s - loss: 4.1635e-04    \n",
      "Epoch 263/300\n",
      "32049/32049 [==============================] - 27s - loss: 4.1617e-04    \n",
      "Epoch 264/300\n",
      "32049/32049 [==============================] - 27s - loss: 4.1597e-04    \n",
      "Epoch 265/300\n",
      "32049/32049 [==============================] - 27s - loss: 4.1626e-04    \n",
      "Epoch 266/300\n",
      "32049/32049 [==============================] - 27s - loss: 4.1601e-04    \n",
      "Epoch 267/300\n",
      "32049/32049 [==============================] - 27s - loss: 4.1769e-04    \n",
      "Epoch 268/300\n",
      "32049/32049 [==============================] - 27s - loss: 4.1736e-04    \n",
      "Epoch 269/300\n",
      "32049/32049 [==============================] - 29s - loss: 4.1643e-04    \n",
      "Epoch 270/300\n",
      "32049/32049 [==============================] - 28s - loss: 4.1584e-04    \n",
      "Epoch 271/300\n",
      "32049/32049 [==============================] - 28s - loss: 4.1531e-04    \n",
      "Epoch 272/300\n",
      "32049/32049 [==============================] - 27s - loss: 4.1566e-04    \n",
      "Epoch 273/300\n",
      "32049/32049 [==============================] - 28s - loss: 4.1582e-04    \n",
      "Epoch 274/300\n",
      "32049/32049 [==============================] - 27s - loss: 4.1525e-04    \n",
      "Epoch 275/300\n",
      "32049/32049 [==============================] - 27s - loss: 4.1462e-04    \n",
      "Epoch 276/300\n"
     ]
    },
    {
     "name": "stdout",
     "output_type": "stream",
     "text": [
      "32049/32049 [==============================] - 27s - loss: 4.1473e-04    \n",
      "Epoch 277/300\n",
      "32049/32049 [==============================] - 27s - loss: 4.1443e-04    \n",
      "Epoch 278/300\n",
      "32049/32049 [==============================] - 27s - loss: 4.1466e-04    \n",
      "Epoch 279/300\n",
      "32049/32049 [==============================] - 27s - loss: 4.1436e-04    \n",
      "Epoch 280/300\n",
      "32049/32049 [==============================] - 27s - loss: 4.1424e-04    \n",
      "Epoch 281/300\n",
      "32049/32049 [==============================] - 27s - loss: 4.1508e-04    \n",
      "Epoch 282/300\n",
      "32049/32049 [==============================] - 27s - loss: 4.1503e-04    \n",
      "Epoch 283/300\n",
      "32049/32049 [==============================] - 27s - loss: 4.1527e-04    \n",
      "Epoch 284/300\n",
      "32049/32049 [==============================] - 27s - loss: 4.1449e-04    \n",
      "Epoch 285/300\n",
      "32049/32049 [==============================] - 27s - loss: 4.1467e-04    \n",
      "Epoch 286/300\n",
      "32049/32049 [==============================] - 27s - loss: 4.1427e-04    \n",
      "Epoch 287/300\n",
      "32049/32049 [==============================] - 28s - loss: 4.1357e-04    \n",
      "Epoch 288/300\n",
      "32049/32049 [==============================] - 27s - loss: 4.1314e-04    \n",
      "Epoch 289/300\n",
      "32049/32049 [==============================] - 27s - loss: 4.1328e-04    \n",
      "Epoch 290/300\n",
      "32049/32049 [==============================] - 27s - loss: 4.1278e-04    \n",
      "Epoch 291/300\n",
      "32049/32049 [==============================] - 31s - loss: 4.1272e-04    \n",
      "Epoch 292/300\n",
      "32049/32049 [==============================] - 29s - loss: 4.1271e-04    \n",
      "Epoch 293/300\n",
      "32049/32049 [==============================] - 29s - loss: 4.1303e-04    \n",
      "Epoch 294/300\n",
      "32049/32049 [==============================] - 27s - loss: 4.1277e-04    \n",
      "Epoch 295/300\n",
      "32049/32049 [==============================] - 27s - loss: 4.1281e-04    \n",
      "Epoch 296/300\n",
      "32049/32049 [==============================] - 28s - loss: 4.1303e-04    \n",
      "Epoch 297/300\n",
      "32049/32049 [==============================] - 29s - loss: 4.1339e-04    \n",
      "Epoch 298/300\n",
      "32049/32049 [==============================] - 27s - loss: 4.1302e-04    \n",
      "Epoch 299/300\n",
      "32049/32049 [==============================] - 28s - loss: 4.1285e-04    \n",
      "Epoch 300/300\n",
      "32049/32049 [==============================] - 28s - loss: 4.1256e-04    \n",
      "CPU times: user 10h 34min 26s, sys: 2h 17min 10s, total: 12h 51min 36s\n",
      "Wall time: 14h 51min 23s\n"
     ]
    },
    {
     "data": {
      "text/plain": [
       "<keras.callbacks.History at 0x1c92e6828>"
      ]
     },
     "execution_count": 25,
     "metadata": {},
     "output_type": "execute_result"
    }
   ],
   "source": [
    "autoencoder.compile(optimizer=pretrain_optimizer, loss='mse')\n",
    "%time autoencoder.fit(x, x, batch_size=batch_size, epochs=pretrain_epochs) #, callbacks=cb)"
   ]
  },
  {
   "cell_type": "code",
   "execution_count": 26,
   "metadata": {
    "colab": {},
    "colab_type": "code",
    "id": "36CEPhtBqmR_"
   },
   "outputs": [],
   "source": [
    "autoencoder.save_weights('./model/drug_ae_weights_tfidf_2.h5')\n",
    "# autoencoder.load_weights('./model/drug_ae_weights_tfidf.h5')"
   ]
  },
  {
   "cell_type": "markdown",
   "metadata": {},
   "source": [
    "### K-means"
   ]
  },
  {
   "cell_type": "code",
   "execution_count": 27,
   "metadata": {},
   "outputs": [],
   "source": [
    "kmeans = KMeans(n_clusters=n_clusters, n_init=20)\n",
    "y_pred = kmeans.fit_predict(encoder.predict(x))\n",
    "model.get_layer(name='clustering').set_weights([kmeans.cluster_centers_])\n",
    "y_pred_last = np.copy(y_pred)"
   ]
  },
  {
   "cell_type": "markdown",
   "metadata": {},
   "source": [
    "## Deep Clustering Train"
   ]
  },
  {
   "cell_type": "code",
   "execution_count": 28,
   "metadata": {},
   "outputs": [],
   "source": [
    "loss = 0\n",
    "index = 0\n",
    "maxiter = 8000\n",
    "update_interval = 140\n",
    "index_array = np.arange(x.shape[0])\n",
    "\n",
    "tol = 0.001 # tolerance threshold to stop training"
   ]
  },
  {
   "cell_type": "code",
   "execution_count": 29,
   "metadata": {},
   "outputs": [],
   "source": [
    "model.compile(loss=['kld', 'mse'], loss_weights=[0.1, 1], optimizer=pretrain_optimizer)"
   ]
  },
  {
   "cell_type": "code",
   "execution_count": 30,
   "metadata": {},
   "outputs": [],
   "source": [
    "y = None"
   ]
  },
  {
   "cell_type": "code",
   "execution_count": 31,
   "metadata": {},
   "outputs": [
    {
     "name": "stdout",
     "output_type": "stream",
     "text": [
      "delta_label  0.00046803332397266686 < tol  0.001\n",
      "Reached tolerance threshold. Stopping training.\n"
     ]
    }
   ],
   "source": [
    "for ite in range(int(maxiter)):\n",
    "    if ite % update_interval == 0:\n",
    "        q, _  = model.predict(x, verbose=0)\n",
    "        p = target_distribution(q)  # update the auxiliary target distribution p\n",
    "\n",
    "        # evaluate the clustering performance\n",
    "        y_pred = q.argmax(1)\n",
    "        if y is not None:\n",
    "            acc = np.round(metrics.accuracy_score(y, y_pred), 5)\n",
    "            nmi = np.round(metrics.normalized_mutual_info_score(y, y_pred), 5)\n",
    "            ari = np.round(metrics.adjusted_rand_score(y, y_pred), 5)\n",
    "            loss = np.round(loss, 5)\n",
    "            print('Iter %d: acc = %.5f, nmi = %.5f, ari = %.5f' % (ite, acc, nmi, ari), ' ; loss=', loss)\n",
    "\n",
    "        # check stop criterion\n",
    "        delta_label = np.sum(y_pred != y_pred_last).astype(np.float32) / y_pred.shape[0]\n",
    "        y_pred_last = np.copy(y_pred)\n",
    "        if ite > 0 and delta_label < tol:\n",
    "            print('delta_label ', delta_label, '< tol ', tol)\n",
    "            print('Reached tolerance threshold. Stopping training.')\n",
    "            break\n",
    "    idx = index_array[index * batch_size: min((index+1) * batch_size, x.shape[0])]\n",
    "    loss = model.train_on_batch(x=x[idx], y=[p[idx], x[idx]])\n",
    "    index = index + 1 if (index + 1) * batch_size <= x.shape[0] else 0"
   ]
  },
  {
   "cell_type": "code",
   "execution_count": 32,
   "metadata": {},
   "outputs": [],
   "source": [
    "model.save_weights('./model/drug_DEC_model_final_tfidf_2.h5')\n",
    "# model.load_weights('./model/drug_DEC_model_final_tfidf.h5')"
   ]
  },
  {
   "cell_type": "code",
   "execution_count": 33,
   "metadata": {},
   "outputs": [
    {
     "data": {
      "text/html": [
       "<div>\n",
       "<style scoped>\n",
       "    .dataframe tbody tr th:only-of-type {\n",
       "        vertical-align: middle;\n",
       "    }\n",
       "\n",
       "    .dataframe tbody tr th {\n",
       "        vertical-align: top;\n",
       "    }\n",
       "\n",
       "    .dataframe thead th {\n",
       "        text-align: right;\n",
       "    }\n",
       "</style>\n",
       "<table border=\"1\" class=\"dataframe\">\n",
       "  <thead>\n",
       "    <tr style=\"text-align: right;\">\n",
       "      <th></th>\n",
       "      <th>id</th>\n",
       "      <th>title</th>\n",
       "      <th>processed</th>\n",
       "    </tr>\n",
       "  </thead>\n",
       "  <tbody>\n",
       "    <tr>\n",
       "      <th>0</th>\n",
       "      <td>4106</td>\n",
       "      <td>Analysis of efficacy</td>\n",
       "      <td>[analys, eff]</td>\n",
       "    </tr>\n",
       "    <tr>\n",
       "      <th>1</th>\n",
       "      <td>4107</td>\n",
       "      <td>Comparisons of postoperative CA19-9 levels on survival of ESPAC-4 with the CONOKO-01 and JASPAC-1 trials</td>\n",
       "      <td>[comparison, postop, ca, level, surv, espac, conoko, jaspac, tri]</td>\n",
       "    </tr>\n",
       "    <tr>\n",
       "      <th>2</th>\n",
       "      <td>4108</td>\n",
       "      <td>Pattern of disease relapse</td>\n",
       "      <td>[pattern, diseas, relaps]</td>\n",
       "    </tr>\n",
       "    <tr>\n",
       "      <th>3</th>\n",
       "      <td>4109</td>\n",
       "      <td>Grade 1–5 adverse events with gemcitabine alone and gemcitabine plus capecitabine</td>\n",
       "      <td>[grad, advers, ev, gemcitabin, gemcitabin, plu, capecitabin]</td>\n",
       "    </tr>\n",
       "    <tr>\n",
       "      <th>4</th>\n",
       "      <td>4112</td>\n",
       "      <td>Treatment with zoledronic acid</td>\n",
       "      <td>[tre, zoledron, acid]</td>\n",
       "    </tr>\n",
       "  </tbody>\n",
       "</table>\n",
       "</div>"
      ],
      "text/plain": [
       "     id  \\\n",
       "0  4106   \n",
       "1  4107   \n",
       "2  4108   \n",
       "3  4109   \n",
       "4  4112   \n",
       "\n",
       "                                                                                                      title  \\\n",
       "0                                                                                      Analysis of efficacy   \n",
       "1  Comparisons of postoperative CA19-9 levels on survival of ESPAC-4 with the CONOKO-01 and JASPAC-1 trials   \n",
       "2                                                                                Pattern of disease relapse   \n",
       "3                         Grade 1–5 adverse events with gemcitabine alone and gemcitabine plus capecitabine   \n",
       "4                                                                            Treatment with zoledronic acid   \n",
       "\n",
       "                                                           processed  \n",
       "0                                                      [analys, eff]  \n",
       "1  [comparison, postop, ca, level, surv, espac, conoko, jaspac, tri]  \n",
       "2                                          [pattern, diseas, relaps]  \n",
       "3       [grad, advers, ev, gemcitabin, gemcitabin, plu, capecitabin]  \n",
       "4                                              [tre, zoledron, acid]  "
      ]
     },
     "execution_count": 33,
     "metadata": {},
     "output_type": "execute_result"
    }
   ],
   "source": [
    "drug_data.head()"
   ]
  },
  {
   "cell_type": "code",
   "execution_count": 34,
   "metadata": {},
   "outputs": [
    {
     "data": {
      "text/html": [
       "<div>\n",
       "<style scoped>\n",
       "    .dataframe tbody tr th:only-of-type {\n",
       "        vertical-align: middle;\n",
       "    }\n",
       "\n",
       "    .dataframe tbody tr th {\n",
       "        vertical-align: top;\n",
       "    }\n",
       "\n",
       "    .dataframe thead th {\n",
       "        text-align: right;\n",
       "    }\n",
       "</style>\n",
       "<table border=\"1\" class=\"dataframe\">\n",
       "  <thead>\n",
       "    <tr style=\"text-align: right;\">\n",
       "      <th></th>\n",
       "      <th>id</th>\n",
       "      <th>title</th>\n",
       "    </tr>\n",
       "  </thead>\n",
       "  <tbody>\n",
       "    <tr>\n",
       "      <th>0</th>\n",
       "      <td>4106</td>\n",
       "      <td>Analysis of efficacy</td>\n",
       "    </tr>\n",
       "    <tr>\n",
       "      <th>1</th>\n",
       "      <td>4107</td>\n",
       "      <td>Comparisons of postoperative CA19-9 levels on survival of ESPAC-4 with the CONOKO-01 and JASPAC-1 trials</td>\n",
       "    </tr>\n",
       "    <tr>\n",
       "      <th>2</th>\n",
       "      <td>4108</td>\n",
       "      <td>Pattern of disease relapse</td>\n",
       "    </tr>\n",
       "    <tr>\n",
       "      <th>3</th>\n",
       "      <td>4109</td>\n",
       "      <td>Grade 1–5 adverse events with gemcitabine alone and gemcitabine plus capecitabine</td>\n",
       "    </tr>\n",
       "    <tr>\n",
       "      <th>4</th>\n",
       "      <td>4112</td>\n",
       "      <td>Treatment with zoledronic acid</td>\n",
       "    </tr>\n",
       "  </tbody>\n",
       "</table>\n",
       "</div>"
      ],
      "text/plain": [
       "     id  \\\n",
       "0  4106   \n",
       "1  4107   \n",
       "2  4108   \n",
       "3  4109   \n",
       "4  4112   \n",
       "\n",
       "                                                                                                      title  \n",
       "0                                                                                      Analysis of efficacy  \n",
       "1  Comparisons of postoperative CA19-9 levels on survival of ESPAC-4 with the CONOKO-01 and JASPAC-1 trials  \n",
       "2                                                                                Pattern of disease relapse  \n",
       "3                         Grade 1–5 adverse events with gemcitabine alone and gemcitabine plus capecitabine  \n",
       "4                                                                            Treatment with zoledronic acid  "
      ]
     },
     "execution_count": 34,
     "metadata": {},
     "output_type": "execute_result"
    }
   ],
   "source": [
    "drug_data = drug_data[['id', 'title']]\n",
    "drug_data.columns = ['id', 'title']\n",
    "drug_data.head()"
   ]
  },
  {
   "cell_type": "code",
   "execution_count": 35,
   "metadata": {},
   "outputs": [
    {
     "data": {
      "text/html": [
       "<div>\n",
       "<style scoped>\n",
       "    .dataframe tbody tr th:only-of-type {\n",
       "        vertical-align: middle;\n",
       "    }\n",
       "\n",
       "    .dataframe tbody tr th {\n",
       "        vertical-align: top;\n",
       "    }\n",
       "\n",
       "    .dataframe thead th {\n",
       "        text-align: right;\n",
       "    }\n",
       "</style>\n",
       "<table border=\"1\" class=\"dataframe\">\n",
       "  <thead>\n",
       "    <tr style=\"text-align: right;\">\n",
       "      <th></th>\n",
       "      <th>id</th>\n",
       "      <th>title</th>\n",
       "      <th>topic</th>\n",
       "    </tr>\n",
       "  </thead>\n",
       "  <tbody>\n",
       "    <tr>\n",
       "      <th>0</th>\n",
       "      <td>4106</td>\n",
       "      <td>Analysis of efficacy</td>\n",
       "      <td>1</td>\n",
       "    </tr>\n",
       "    <tr>\n",
       "      <th>1</th>\n",
       "      <td>4107</td>\n",
       "      <td>Comparisons of postoperative CA19-9 levels on survival of ESPAC-4 with the CONOKO-01 and JASPAC-1 trials</td>\n",
       "      <td>1</td>\n",
       "    </tr>\n",
       "    <tr>\n",
       "      <th>2</th>\n",
       "      <td>4108</td>\n",
       "      <td>Pattern of disease relapse</td>\n",
       "      <td>1</td>\n",
       "    </tr>\n",
       "    <tr>\n",
       "      <th>3</th>\n",
       "      <td>4109</td>\n",
       "      <td>Grade 1–5 adverse events with gemcitabine alone and gemcitabine plus capecitabine</td>\n",
       "      <td>2</td>\n",
       "    </tr>\n",
       "    <tr>\n",
       "      <th>4</th>\n",
       "      <td>4112</td>\n",
       "      <td>Treatment with zoledronic acid</td>\n",
       "      <td>7</td>\n",
       "    </tr>\n",
       "  </tbody>\n",
       "</table>\n",
       "</div>"
      ],
      "text/plain": [
       "     id  \\\n",
       "0  4106   \n",
       "1  4107   \n",
       "2  4108   \n",
       "3  4109   \n",
       "4  4112   \n",
       "\n",
       "                                                                                                      title  \\\n",
       "0                                                                                      Analysis of efficacy   \n",
       "1  Comparisons of postoperative CA19-9 levels on survival of ESPAC-4 with the CONOKO-01 and JASPAC-1 trials   \n",
       "2                                                                                Pattern of disease relapse   \n",
       "3                         Grade 1–5 adverse events with gemcitabine alone and gemcitabine plus capecitabine   \n",
       "4                                                                            Treatment with zoledronic acid   \n",
       "\n",
       "   topic  \n",
       "0      1  \n",
       "1      1  \n",
       "2      1  \n",
       "3      2  \n",
       "4      7  "
      ]
     },
     "execution_count": 35,
     "metadata": {},
     "output_type": "execute_result"
    }
   ],
   "source": [
    "drug_data['topic'] = y_pred\n",
    "drug_data.head()"
   ]
  },
  {
   "cell_type": "code",
   "execution_count": 36,
   "metadata": {},
   "outputs": [
    {
     "data": {
      "text/html": [
       "<div>\n",
       "<style scoped>\n",
       "    .dataframe tbody tr th:only-of-type {\n",
       "        vertical-align: middle;\n",
       "    }\n",
       "\n",
       "    .dataframe tbody tr th {\n",
       "        vertical-align: top;\n",
       "    }\n",
       "\n",
       "    .dataframe thead th {\n",
       "        text-align: right;\n",
       "    }\n",
       "</style>\n",
       "<table border=\"1\" class=\"dataframe\">\n",
       "  <thead>\n",
       "    <tr style=\"text-align: right;\">\n",
       "      <th></th>\n",
       "      <th>id</th>\n",
       "      <th>title</th>\n",
       "      <th>topic</th>\n",
       "    </tr>\n",
       "    <tr>\n",
       "      <th>topic</th>\n",
       "      <th></th>\n",
       "      <th></th>\n",
       "      <th></th>\n",
       "    </tr>\n",
       "  </thead>\n",
       "  <tbody>\n",
       "    <tr>\n",
       "      <th>0</th>\n",
       "      <td>3889</td>\n",
       "      <td>3889</td>\n",
       "      <td>3889</td>\n",
       "    </tr>\n",
       "    <tr>\n",
       "      <th>1</th>\n",
       "      <td>4275</td>\n",
       "      <td>4275</td>\n",
       "      <td>4275</td>\n",
       "    </tr>\n",
       "    <tr>\n",
       "      <th>2</th>\n",
       "      <td>3434</td>\n",
       "      <td>3434</td>\n",
       "      <td>3434</td>\n",
       "    </tr>\n",
       "    <tr>\n",
       "      <th>3</th>\n",
       "      <td>4139</td>\n",
       "      <td>4139</td>\n",
       "      <td>4139</td>\n",
       "    </tr>\n",
       "    <tr>\n",
       "      <th>4</th>\n",
       "      <td>4338</td>\n",
       "      <td>4338</td>\n",
       "      <td>4338</td>\n",
       "    </tr>\n",
       "    <tr>\n",
       "      <th>5</th>\n",
       "      <td>3519</td>\n",
       "      <td>3519</td>\n",
       "      <td>3519</td>\n",
       "    </tr>\n",
       "    <tr>\n",
       "      <th>6</th>\n",
       "      <td>3743</td>\n",
       "      <td>3743</td>\n",
       "      <td>3743</td>\n",
       "    </tr>\n",
       "    <tr>\n",
       "      <th>7</th>\n",
       "      <td>4712</td>\n",
       "      <td>4712</td>\n",
       "      <td>4712</td>\n",
       "    </tr>\n",
       "  </tbody>\n",
       "</table>\n",
       "</div>"
      ],
      "text/plain": [
       "         id  title  topic\n",
       "topic                    \n",
       "0      3889   3889   3889\n",
       "1      4275   4275   4275\n",
       "2      3434   3434   3434\n",
       "3      4139   4139   4139\n",
       "4      4338   4338   4338\n",
       "5      3519   3519   3519\n",
       "6      3743   3743   3743\n",
       "7      4712   4712   4712"
      ]
     },
     "execution_count": 36,
     "metadata": {},
     "output_type": "execute_result"
    }
   ],
   "source": [
    "drug_data.groupby(drug_data.topic).count()"
   ]
  },
  {
   "cell_type": "code",
   "execution_count": 37,
   "metadata": {},
   "outputs": [],
   "source": [
    "drug_data.to_csv('./dec_result.tsv', sep='\\t')"
   ]
  },
  {
   "cell_type": "code",
   "execution_count": 39,
   "metadata": {},
   "outputs": [
    {
     "data": {
      "text/plain": [
       "(32049, 3)"
      ]
     },
     "execution_count": 39,
     "metadata": {},
     "output_type": "execute_result"
    }
   ],
   "source": [
    "drug_data.shape"
   ]
  },
  {
   "cell_type": "code",
   "execution_count": 38,
   "metadata": {},
   "outputs": [],
   "source": [
    "import pickle\n",
    "\n",
    "output = open('../data/output/dec.pkl', 'wb')\n",
    "pickle.dump({'label': y_pred}, output)\n",
    "output.close()"
   ]
  },
  {
   "cell_type": "code",
   "execution_count": null,
   "metadata": {},
   "outputs": [],
   "source": []
  }
 ],
 "metadata": {
  "colab": {
   "name": "1. DEC.ipynb",
   "provenance": [],
   "toc_visible": true,
   "version": "0.3.2"
  },
  "kernelspec": {
   "display_name": "Python 3",
   "language": "python",
   "name": "python3"
  },
  "language_info": {
   "codemirror_mode": {
    "name": "ipython",
    "version": 3
   },
   "file_extension": ".py",
   "mimetype": "text/x-python",
   "name": "python",
   "nbconvert_exporter": "python",
   "pygments_lexer": "ipython3",
   "version": "3.6.4"
  }
 },
 "nbformat": 4,
 "nbformat_minor": 1
}
