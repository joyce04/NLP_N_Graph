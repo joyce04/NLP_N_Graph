{
 "cells": [
  {
   "cell_type": "markdown",
   "metadata": {},
   "source": [
    "Spacy for Entity Recognition\n",
    "\n",
    "References :\n",
    "- https://spacy.io/usage/visualizers\n",
    "- https://explosion.ai/blog/deep-learning-formula-nlp\n",
    "- https://spacy.io/usage/training#ner\n",
    "\n",
    "- video \n",
    "https://www.youtube.com/watch?v=l4scwf8KeIA\n",
    "- training \n",
    "https://towardsdatascience.com/a-review-of-named-entity-recognition-ner-using-automatic-summarization-of-resumes-5248a75de175"
   ]
  },
  {
   "cell_type": "markdown",
   "metadata": {},
   "source": [
    "## Creating training dataset\n",
    "\n",
    "- format\n",
    "    - (\"Uber blew through $1 million a week\", {'entities':[(0, 4, 'ORG')]}), "
   ]
  },
  {
   "cell_type": "markdown",
   "metadata": {},
   "source": [
    "### retrieve sample table data"
   ]
  },
  {
   "cell_type": "code",
   "execution_count": 1,
   "metadata": {},
   "outputs": [
    {
     "name": "stderr",
     "output_type": "stream",
     "text": [
      "/home/grace/.local/lib/python3.5/site-packages/psycopg2/__init__.py:144: UserWarning: The psycopg2 wheel package will be renamed from release 2.8; in order to keep installing from binary please use \"pip install psycopg2-binary\" instead. For details see: <http://initd.org/psycopg/docs/install.html#binary-install-from-pypi>.\n",
      "  \"\"\")\n"
     ]
    }
   ],
   "source": [
    "import db_conn\n",
    "import pandas as pd"
   ]
  },
  {
   "cell_type": "code",
   "execution_count": 2,
   "metadata": {},
   "outputs": [],
   "source": [
    "conn = db_conn.get_connection()\n",
    "cur = conn.cursor()"
   ]
  },
  {
   "cell_type": "code",
   "execution_count": 3,
   "metadata": {},
   "outputs": [],
   "source": [
    "cur.execute(\"\"\"\n",
    "select lower(table_title) from article_tables;\n",
    "\"\"\")\n",
    "titles = cur.fetchall()"
   ]
  },
  {
   "cell_type": "code",
   "execution_count": 4,
   "metadata": {},
   "outputs": [
    {
     "data": {
      "text/plain": [
       "46691"
      ]
     },
     "execution_count": 4,
     "metadata": {},
     "output_type": "execute_result"
    }
   ],
   "source": [
    "titles = list(map(lambda x: x[0], titles))\n",
    "len(titles)"
   ]
  },
  {
   "cell_type": "code",
   "execution_count": 5,
   "metadata": {},
   "outputs": [
    {
     "data": {
      "text/plain": [
       "['table 2 comparison between rome iv functional dyspepsia subtypes',\n",
       " 'table 3 characteristics of children included in analyses (n=2449)',\n",
       " 'table 1 univariate association between baseline clinical and laboratory variables and aortic sclerosis',\n",
       " 'table 3 comparisons of responses to graded dobutamine infusion, y versus o',\n",
       " 'table 2 estimated marginal means and f tests of time × condition interactions']"
      ]
     },
     "execution_count": 5,
     "metadata": {},
     "output_type": "execute_result"
    }
   ],
   "source": [
    "titles[:5]"
   ]
  },
  {
   "cell_type": "markdown",
   "metadata": {},
   "source": [
    "## retrieve all drug names"
   ]
  },
  {
   "cell_type": "code",
   "execution_count": 6,
   "metadata": {},
   "outputs": [
    {
     "data": {
      "text/html": [
       "<div>\n",
       "<style scoped>\n",
       "    .dataframe tbody tr th:only-of-type {\n",
       "        vertical-align: middle;\n",
       "    }\n",
       "\n",
       "    .dataframe tbody tr th {\n",
       "        vertical-align: top;\n",
       "    }\n",
       "\n",
       "    .dataframe thead th {\n",
       "        text-align: right;\n",
       "    }\n",
       "</style>\n",
       "<table border=\"1\" class=\"dataframe\">\n",
       "  <thead>\n",
       "    <tr style=\"text-align: right;\">\n",
       "      <th></th>\n",
       "      <th>0</th>\n",
       "    </tr>\n",
       "  </thead>\n",
       "  <tbody>\n",
       "    <tr>\n",
       "      <th>0</th>\n",
       "      <td>indoramin</td>\n",
       "    </tr>\n",
       "    <tr>\n",
       "      <th>1</th>\n",
       "      <td>rescinnamine</td>\n",
       "    </tr>\n",
       "    <tr>\n",
       "      <th>2</th>\n",
       "      <td>rivastigmine</td>\n",
       "    </tr>\n",
       "    <tr>\n",
       "      <th>3</th>\n",
       "      <td>edoxaban</td>\n",
       "    </tr>\n",
       "    <tr>\n",
       "      <th>4</th>\n",
       "      <td>efaproxiral</td>\n",
       "    </tr>\n",
       "  </tbody>\n",
       "</table>\n",
       "</div>"
      ],
      "text/plain": [
       "              0\n",
       "0     indoramin\n",
       "1  rescinnamine\n",
       "2  rivastigmine\n",
       "3      edoxaban\n",
       "4   efaproxiral"
      ]
     },
     "execution_count": 6,
     "metadata": {},
     "output_type": "execute_result"
    }
   ],
   "source": [
    "cur.execute(\"\"\"\n",
    "SELECT distinct(lower(cui1_str)) FROM dict_collapsed_final;\n",
    "\"\"\")\n",
    "d1 = cur.fetchall()\n",
    "d1 = pd.DataFrame(d1)\n",
    "d1.head()"
   ]
  },
  {
   "cell_type": "code",
   "execution_count": 7,
   "metadata": {},
   "outputs": [
    {
     "data": {
      "text/html": [
       "<div>\n",
       "<style scoped>\n",
       "    .dataframe tbody tr th:only-of-type {\n",
       "        vertical-align: middle;\n",
       "    }\n",
       "\n",
       "    .dataframe tbody tr th {\n",
       "        vertical-align: top;\n",
       "    }\n",
       "\n",
       "    .dataframe thead th {\n",
       "        text-align: right;\n",
       "    }\n",
       "</style>\n",
       "<table border=\"1\" class=\"dataframe\">\n",
       "  <thead>\n",
       "    <tr style=\"text-align: right;\">\n",
       "      <th></th>\n",
       "      <th>0</th>\n",
       "    </tr>\n",
       "  </thead>\n",
       "  <tbody>\n",
       "    <tr>\n",
       "      <th>0</th>\n",
       "      <td>digoxin didier</td>\n",
       "    </tr>\n",
       "    <tr>\n",
       "      <th>1</th>\n",
       "      <td>efaproxiral</td>\n",
       "    </tr>\n",
       "    <tr>\n",
       "      <th>2</th>\n",
       "      <td>vitaminum a</td>\n",
       "    </tr>\n",
       "    <tr>\n",
       "      <th>3</th>\n",
       "      <td>urion</td>\n",
       "    </tr>\n",
       "    <tr>\n",
       "      <th>4</th>\n",
       "      <td>klonopin</td>\n",
       "    </tr>\n",
       "  </tbody>\n",
       "</table>\n",
       "</div>"
      ],
      "text/plain": [
       "                0\n",
       "0  digoxin didier\n",
       "1     efaproxiral\n",
       "2     vitaminum a\n",
       "3           urion\n",
       "4        klonopin"
      ]
     },
     "execution_count": 7,
     "metadata": {},
     "output_type": "execute_result"
    }
   ],
   "source": [
    "cur.execute(\"\"\"\n",
    "SELECT distinct(lower(cui2_str)) FROM dict_collapsed_final;\n",
    "\"\"\")\n",
    "d2 = cur.fetchall()\n",
    "d2 = pd.DataFrame(d2)\n",
    "d2.head()"
   ]
  },
  {
   "cell_type": "code",
   "execution_count": 8,
   "metadata": {},
   "outputs": [
    {
     "data": {
      "text/html": [
       "<div>\n",
       "<style scoped>\n",
       "    .dataframe tbody tr th:only-of-type {\n",
       "        vertical-align: middle;\n",
       "    }\n",
       "\n",
       "    .dataframe tbody tr th {\n",
       "        vertical-align: top;\n",
       "    }\n",
       "\n",
       "    .dataframe thead th {\n",
       "        text-align: right;\n",
       "    }\n",
       "</style>\n",
       "<table border=\"1\" class=\"dataframe\">\n",
       "  <thead>\n",
       "    <tr style=\"text-align: right;\">\n",
       "      <th></th>\n",
       "      <th>name</th>\n",
       "    </tr>\n",
       "  </thead>\n",
       "  <tbody>\n",
       "    <tr>\n",
       "      <th>0</th>\n",
       "      <td>indoramin</td>\n",
       "    </tr>\n",
       "    <tr>\n",
       "      <th>1</th>\n",
       "      <td>rescinnamine</td>\n",
       "    </tr>\n",
       "    <tr>\n",
       "      <th>2</th>\n",
       "      <td>rivastigmine</td>\n",
       "    </tr>\n",
       "    <tr>\n",
       "      <th>3</th>\n",
       "      <td>edoxaban</td>\n",
       "    </tr>\n",
       "    <tr>\n",
       "      <th>4</th>\n",
       "      <td>efaproxiral</td>\n",
       "    </tr>\n",
       "    <tr>\n",
       "      <th>5</th>\n",
       "      <td>anidulafungin</td>\n",
       "    </tr>\n",
       "    <tr>\n",
       "      <th>6</th>\n",
       "      <td>methylergometrine</td>\n",
       "    </tr>\n",
       "    <tr>\n",
       "      <th>7</th>\n",
       "      <td>procarbazine</td>\n",
       "    </tr>\n",
       "    <tr>\n",
       "      <th>8</th>\n",
       "      <td>bambuterol</td>\n",
       "    </tr>\n",
       "    <tr>\n",
       "      <th>9</th>\n",
       "      <td>cyproheptadine</td>\n",
       "    </tr>\n",
       "    <tr>\n",
       "      <th>10</th>\n",
       "      <td>isopropanol</td>\n",
       "    </tr>\n",
       "    <tr>\n",
       "      <th>11</th>\n",
       "      <td>metyrapone</td>\n",
       "    </tr>\n",
       "    <tr>\n",
       "      <th>12</th>\n",
       "      <td>cyclobenzaprine</td>\n",
       "    </tr>\n",
       "    <tr>\n",
       "      <th>13</th>\n",
       "      <td>glycerol phenylbutyrate</td>\n",
       "    </tr>\n",
       "    <tr>\n",
       "      <th>14</th>\n",
       "      <td>famotidine</td>\n",
       "    </tr>\n",
       "    <tr>\n",
       "      <th>15</th>\n",
       "      <td>pegaspargase</td>\n",
       "    </tr>\n",
       "    <tr>\n",
       "      <th>16</th>\n",
       "      <td>isepamicin</td>\n",
       "    </tr>\n",
       "    <tr>\n",
       "      <th>17</th>\n",
       "      <td>arbutamine</td>\n",
       "    </tr>\n",
       "    <tr>\n",
       "      <th>18</th>\n",
       "      <td>insulin lispro</td>\n",
       "    </tr>\n",
       "    <tr>\n",
       "      <th>19</th>\n",
       "      <td>metampicillin</td>\n",
       "    </tr>\n",
       "    <tr>\n",
       "      <th>20</th>\n",
       "      <td>benziodarone</td>\n",
       "    </tr>\n",
       "    <tr>\n",
       "      <th>21</th>\n",
       "      <td>guaiazulen</td>\n",
       "    </tr>\n",
       "    <tr>\n",
       "      <th>22</th>\n",
       "      <td>fluperolone</td>\n",
       "    </tr>\n",
       "    <tr>\n",
       "      <th>23</th>\n",
       "      <td>dulaglutide</td>\n",
       "    </tr>\n",
       "    <tr>\n",
       "      <th>24</th>\n",
       "      <td>tegaserod</td>\n",
       "    </tr>\n",
       "    <tr>\n",
       "      <th>25</th>\n",
       "      <td>etanercept</td>\n",
       "    </tr>\n",
       "    <tr>\n",
       "      <th>26</th>\n",
       "      <td>triamterene</td>\n",
       "    </tr>\n",
       "    <tr>\n",
       "      <th>27</th>\n",
       "      <td>iloperidone</td>\n",
       "    </tr>\n",
       "    <tr>\n",
       "      <th>28</th>\n",
       "      <td>ceftazidime</td>\n",
       "    </tr>\n",
       "    <tr>\n",
       "      <th>29</th>\n",
       "      <td>fluorescein</td>\n",
       "    </tr>\n",
       "    <tr>\n",
       "      <th>...</th>\n",
       "      <td>...</td>\n",
       "    </tr>\n",
       "    <tr>\n",
       "      <th>23826</th>\n",
       "      <td>aminomine</td>\n",
       "    </tr>\n",
       "    <tr>\n",
       "      <th>23827</th>\n",
       "      <td>perfudal</td>\n",
       "    </tr>\n",
       "    <tr>\n",
       "      <th>23828</th>\n",
       "      <td>zytopic</td>\n",
       "    </tr>\n",
       "    <tr>\n",
       "      <th>23829</th>\n",
       "      <td>theratears nutrition</td>\n",
       "    </tr>\n",
       "    <tr>\n",
       "      <th>23830</th>\n",
       "      <td>seroquel</td>\n",
       "    </tr>\n",
       "    <tr>\n",
       "      <th>23831</th>\n",
       "      <td>rinatec</td>\n",
       "    </tr>\n",
       "    <tr>\n",
       "      <th>23832</th>\n",
       "      <td>reduced com</td>\n",
       "    </tr>\n",
       "    <tr>\n",
       "      <th>23833</th>\n",
       "      <td>parathar</td>\n",
       "    </tr>\n",
       "    <tr>\n",
       "      <th>23834</th>\n",
       "      <td>muromonab</td>\n",
       "    </tr>\n",
       "    <tr>\n",
       "      <th>23835</th>\n",
       "      <td>lawrencite</td>\n",
       "    </tr>\n",
       "    <tr>\n",
       "      <th>23836</th>\n",
       "      <td>octylonium</td>\n",
       "    </tr>\n",
       "    <tr>\n",
       "      <th>23837</th>\n",
       "      <td>rp 7293</td>\n",
       "    </tr>\n",
       "    <tr>\n",
       "      <th>23838</th>\n",
       "      <td>jardiance</td>\n",
       "    </tr>\n",
       "    <tr>\n",
       "      <th>23839</th>\n",
       "      <td>vesicare</td>\n",
       "    </tr>\n",
       "    <tr>\n",
       "      <th>23840</th>\n",
       "      <td>celocurine</td>\n",
       "    </tr>\n",
       "    <tr>\n",
       "      <th>23841</th>\n",
       "      <td>ultresa</td>\n",
       "    </tr>\n",
       "    <tr>\n",
       "      <th>23842</th>\n",
       "      <td>cyclizine lactate</td>\n",
       "    </tr>\n",
       "    <tr>\n",
       "      <th>23843</th>\n",
       "      <td>parcillin</td>\n",
       "    </tr>\n",
       "    <tr>\n",
       "      <th>23844</th>\n",
       "      <td>heitrin</td>\n",
       "    </tr>\n",
       "    <tr>\n",
       "      <th>23845</th>\n",
       "      <td>somophyllin t</td>\n",
       "    </tr>\n",
       "    <tr>\n",
       "      <th>23846</th>\n",
       "      <td>gaviscon chewable</td>\n",
       "    </tr>\n",
       "    <tr>\n",
       "      <th>23847</th>\n",
       "      <td>buflomedil heumann</td>\n",
       "    </tr>\n",
       "    <tr>\n",
       "      <th>23848</th>\n",
       "      <td>r 2858</td>\n",
       "    </tr>\n",
       "    <tr>\n",
       "      <th>23849</th>\n",
       "      <td>vasotate</td>\n",
       "    </tr>\n",
       "    <tr>\n",
       "      <th>23850</th>\n",
       "      <td>nicobid</td>\n",
       "    </tr>\n",
       "    <tr>\n",
       "      <th>23851</th>\n",
       "      <td>propiverin</td>\n",
       "    </tr>\n",
       "    <tr>\n",
       "      <th>23852</th>\n",
       "      <td>arthur itis</td>\n",
       "    </tr>\n",
       "    <tr>\n",
       "      <th>23853</th>\n",
       "      <td>anthisan</td>\n",
       "    </tr>\n",
       "    <tr>\n",
       "      <th>23854</th>\n",
       "      <td>gascop</td>\n",
       "    </tr>\n",
       "    <tr>\n",
       "      <th>23855</th>\n",
       "      <td>i 2190a</td>\n",
       "    </tr>\n",
       "  </tbody>\n",
       "</table>\n",
       "<p>23856 rows × 1 columns</p>\n",
       "</div>"
      ],
      "text/plain": [
       "                          name\n",
       "0                    indoramin\n",
       "1                 rescinnamine\n",
       "2                 rivastigmine\n",
       "3                     edoxaban\n",
       "4                  efaproxiral\n",
       "5                anidulafungin\n",
       "6            methylergometrine\n",
       "7                 procarbazine\n",
       "8                   bambuterol\n",
       "9               cyproheptadine\n",
       "10                 isopropanol\n",
       "11                  metyrapone\n",
       "12             cyclobenzaprine\n",
       "13     glycerol phenylbutyrate\n",
       "14                  famotidine\n",
       "15                pegaspargase\n",
       "16                  isepamicin\n",
       "17                  arbutamine\n",
       "18              insulin lispro\n",
       "19               metampicillin\n",
       "20                benziodarone\n",
       "21                  guaiazulen\n",
       "22                 fluperolone\n",
       "23                 dulaglutide\n",
       "24                   tegaserod\n",
       "25                  etanercept\n",
       "26                 triamterene\n",
       "27                 iloperidone\n",
       "28                 ceftazidime\n",
       "29                 fluorescein\n",
       "...                        ...\n",
       "23826                aminomine\n",
       "23827                 perfudal\n",
       "23828                  zytopic\n",
       "23829     theratears nutrition\n",
       "23830                 seroquel\n",
       "23831                  rinatec\n",
       "23832              reduced com\n",
       "23833                 parathar\n",
       "23834                muromonab\n",
       "23835               lawrencite\n",
       "23836               octylonium\n",
       "23837                  rp 7293\n",
       "23838                jardiance\n",
       "23839                 vesicare\n",
       "23840               celocurine\n",
       "23841                  ultresa\n",
       "23842        cyclizine lactate\n",
       "23843                parcillin\n",
       "23844                  heitrin\n",
       "23845            somophyllin t\n",
       "23846        gaviscon chewable\n",
       "23847       buflomedil heumann\n",
       "23848                   r 2858\n",
       "23849                 vasotate\n",
       "23850                  nicobid\n",
       "23851               propiverin\n",
       "23852              arthur itis\n",
       "23853                 anthisan\n",
       "23854                   gascop\n",
       "23855                  i 2190a\n",
       "\n",
       "[23856 rows x 1 columns]"
      ]
     },
     "execution_count": 8,
     "metadata": {},
     "output_type": "execute_result"
    }
   ],
   "source": [
    "drugs = d1.append(d2)\n",
    "drugs.columns = ['name']\n",
    "drugs.drop_duplicates(inplace=True)\n",
    "drugs.reset_index(drop=True)"
   ]
  },
  {
   "cell_type": "code",
   "execution_count": null,
   "metadata": {},
   "outputs": [],
   "source": [
    "drugs.to_csv('./drug_dictionary.csv', sep=',', header=None)"
   ]
  },
  {
   "cell_type": "markdown",
   "metadata": {},
   "source": [
    "## find drug names"
   ]
  },
  {
   "cell_type": "code",
   "execution_count": 9,
   "metadata": {},
   "outputs": [],
   "source": [
    "from flashtext import KeywordProcessor"
   ]
  },
  {
   "cell_type": "code",
   "execution_count": 10,
   "metadata": {},
   "outputs": [],
   "source": [
    "keyword_processor = KeywordProcessor(case_sensitive=False)\n",
    "for i, r in drugs.iterrows():\n",
    "    keyword_processor.add_keyword(r['name'].strip())\n",
    "\n",
    "c_entities = []\n",
    "for ti in titles:\n",
    "    found = keyword_processor.extract_keywords(ti.strip())\n",
    "    ents = [] \n",
    "    if len(found)>0:\n",
    "#         print(found) \n",
    "        for f in found:\n",
    "            if ti.find(f)>=0:\n",
    "                ents.append((ti.find(f), ti.find(f)+len(f), 'DRUG'))\n",
    "        c_entities.append((ti, {'entities':ents}))"
   ]
  },
  {
   "cell_type": "code",
   "execution_count": 11,
   "metadata": {},
   "outputs": [
    {
     "data": {
      "text/plain": [
       "[('table 3 comparisons of responses to graded dobutamine infusion, y versus o',\n",
       "  {'entities': [(43, 53, 'DRUG')]}),\n",
       " ('table univariate and multivariate analyses of baseline factors associated with progression-free survival and overall survival in patients treated with dabrafenib and trametinib',\n",
       "  {'entities': [(151, 161, 'DRUG'), (166, 176, 'DRUG')]})]"
      ]
     },
     "execution_count": 11,
     "metadata": {},
     "output_type": "execute_result"
    }
   ],
   "source": [
    "c_entities[:2]"
   ]
  },
  {
   "cell_type": "markdown",
   "metadata": {},
   "source": [
    "Reference : https://spacy.io/usage/training#train-entity  \n",
    "\n",
    "- prediction is based on the examples the model has seen during training.\n",
    "- not memorizing -> why the training data should be representative of the data we want to process"
   ]
  },
  {
   "cell_type": "code",
   "execution_count": 12,
   "metadata": {},
   "outputs": [],
   "source": [
    "from __future__ import unicode_literals, print_function\n",
    "\n",
    "import plac\n",
    "import random\n",
    "from pathlib import Path\n",
    "import spacy\n",
    "from spacy.util import minibatch, compounding"
   ]
  },
  {
   "cell_type": "code",
   "execution_count": 13,
   "metadata": {},
   "outputs": [],
   "source": [
    "import spacy\n",
    "import random\n",
    "nlp = spacy.load('en')"
   ]
  },
  {
   "cell_type": "code",
   "execution_count": 14,
   "metadata": {},
   "outputs": [],
   "source": [
    "# nlp = spacy.load(model)  # load existing spaCy model\n",
    "# print(\"Loaded model '%s'\" % model)"
   ]
  },
  {
   "cell_type": "code",
   "execution_count": 15,
   "metadata": {},
   "outputs": [],
   "source": [
    "# Add entity recognizer to model if it's not in the pipeline\n",
    "# nlp.create_pipe works for built-ins that are registered with spaCy\n",
    "if 'ner' not in nlp.pipe_names:\n",
    "    ner = nlp.create_pipe('ner')\n",
    "    nlp.add_pipe(ner)\n",
    "# otherwise, get it, so we can add labels to it\n",
    "else:\n",
    "    ner = nlp.get_pipe('ner')"
   ]
  },
  {
   "cell_type": "code",
   "execution_count": 16,
   "metadata": {},
   "outputs": [],
   "source": [
    "ner.add_label('DRUG') "
   ]
  },
  {
   "cell_type": "code",
   "execution_count": 17,
   "metadata": {},
   "outputs": [],
   "source": [
    "  # add new entity label to entity recognizer\n",
    "# if model is None:\n",
    "#     optimizer = nlp.begin_training()\n",
    "# else:\n",
    "    # Note that 'begin_training' initializes the models, so it'll zero out\n",
    "    # existing entity types.\n",
    "optimizer = nlp.entity.create_optimizer()"
   ]
  },
  {
   "cell_type": "code",
   "execution_count": 18,
   "metadata": {},
   "outputs": [],
   "source": [
    "# get names of other pipes to disable them during training\n",
    "other_pipes = [pipe for pipe in nlp.pipe_names if pipe != 'ner']"
   ]
  },
  {
   "cell_type": "code",
   "execution_count": null,
   "metadata": {},
   "outputs": [
    {
     "name": "stdout",
     "output_type": "stream",
     "text": [
      "Losses {'ner': 699.0591161333103}\n",
      "Losses {'ner': 614.5265844495248}\n",
      "Losses {'ner': 602.5799704423433}\n",
      "Losses {'ner': 594.6451911860214}\n",
      "Losses {'ner': 593.8750052786496}\n",
      "Losses {'ner': 594.6505455840362}\n",
      "Losses {'ner': 588.652153398819}\n",
      "Losses {'ner': 592.572937130124}\n",
      "Losses {'ner': 587.4335027273939}\n",
      "Losses {'ner': 586.2609388498374}\n",
      "Losses {'ner': 588.1102732083157}\n",
      "Losses {'ner': 588.473771588657}\n",
      "Losses {'ner': 586.2142116063847}\n",
      "Losses {'ner': 589.2023367660195}\n"
     ]
    }
   ],
   "source": [
    "with nlp.disable_pipes(*other_pipes):  # only train NER\n",
    "    for itn in range(100):\n",
    "        random.shuffle(c_entities[50:])\n",
    "        losses = {}\n",
    "        # batch up the examples using spaCy's minibatch\n",
    "        batches = minibatch(c_entities, size=compounding(4., 32., 1.001))\n",
    "        for batch in batches:\n",
    "            texts, annotations = zip(*batch)\n",
    "            nlp.update(texts, annotations, sgd=optimizer, drop=0.35,\n",
    "                       losses=losses)\n",
    "        print('Losses', losses)"
   ]
  },
  {
   "cell_type": "code",
   "execution_count": null,
   "metadata": {},
   "outputs": [],
   "source": [
    "# test the trained model\n",
    "test_text = 'comparisons of responses to graded dobutamine infusion, y versus o'\n",
    "doc = nlp(test_text)\n",
    "print(\"Entities in '%s'\" % test_text)\n",
    "for ent in doc.ents:\n",
    "    print(ent.label_, ent.text)"
   ]
  },
  {
   "cell_type": "code",
   "execution_count": null,
   "metadata": {},
   "outputs": [],
   "source": [
    "# save model to output directory\n",
    "\n",
    "output_dir = Path('./')\n",
    "if not output_dir.exists():\n",
    "    output_dir.mkdir()\n",
    "nlp.meta['name'] = new_model_name  # rename model\n",
    "nlp.to_disk(output_dir)\n",
    "print(\"Saved model to\", output_dir)\n",
    "\n",
    "# test the saved model\n",
    "print(\"Loading from\", output_dir)\n",
    "nlp2 = spacy.load(output_dir)\n",
    "doc2 = nlp2(test_text)\n",
    "for ent in doc2.ents:\n",
    "    print(ent.label_, ent.text)"
   ]
  },
  {
   "cell_type": "code",
   "execution_count": null,
   "metadata": {},
   "outputs": [],
   "source": [
    "# import spacy\n",
    "# import random\n",
    "# nlp = spacy.load('en')\n",
    "\n",
    "# DRUG = nlp.vocab.strings.add('DRUG')\n",
    "\n",
    "# optimizer = nlp.begin_training()\n",
    "# for i in range(10):\n",
    "#     random.shuffle(c_entities)\n",
    "#     for text, annotations in c_entities:\n",
    "#         nlp.update([text], [annotations], drop=0.5, sgd=optimizer)\n",
    "# nlp.to_disk('./model')"
   ]
  },
  {
   "cell_type": "code",
   "execution_count": null,
   "metadata": {},
   "outputs": [],
   "source": []
  }
 ],
 "metadata": {
  "kernelspec": {
   "display_name": "Python 3",
   "language": "python",
   "name": "python3"
  },
  "language_info": {
   "codemirror_mode": {
    "name": "ipython",
    "version": 3
   },
   "file_extension": ".py",
   "mimetype": "text/x-python",
   "name": "python",
   "nbconvert_exporter": "python",
   "pygments_lexer": "ipython3",
   "version": "3.5.2"
  }
 },
 "nbformat": 4,
 "nbformat_minor": 2
}
