{
 "cells": [
  {
   "cell_type": "markdown",
   "metadata": {},
   "source": [
    "# Named Entity Reconition with ELMo\n",
    "\n",
    "\n",
    "Dataset : \n",
    "- https://github.com/nxs5899/Named-Entity-Recognition_DeepLearning-keras/blob/master/Named_Entity_Recognition_ELMo.ipynb\n",
    "\n",
    "References :\n",
    "- https://github.com/nxs5899/Named-Entity-Recognition_DeepLearning-keras/blob/master/Named_Entity_Recognition_ELMo.ipynb"
   ]
  },
  {
   "cell_type": "code",
   "execution_count": 4,
   "metadata": {},
   "outputs": [],
   "source": [
    "import pandas as pd\n",
    "import numpy as np\n",
    "import matplotlib.pyplot as plt"
   ]
  },
  {
   "cell_type": "code",
   "execution_count": 11,
   "metadata": {},
   "outputs": [
    {
     "data": {
      "text/html": [
       "<div>\n",
       "<style scoped>\n",
       "    .dataframe tbody tr th:only-of-type {\n",
       "        vertical-align: middle;\n",
       "    }\n",
       "\n",
       "    .dataframe tbody tr th {\n",
       "        vertical-align: top;\n",
       "    }\n",
       "\n",
       "    .dataframe thead th {\n",
       "        text-align: right;\n",
       "    }\n",
       "</style>\n",
       "<table border=\"1\" class=\"dataframe\">\n",
       "  <thead>\n",
       "    <tr style=\"text-align: right;\">\n",
       "      <th></th>\n",
       "      <th>Sentence #</th>\n",
       "      <th>Word</th>\n",
       "      <th>Tag</th>\n",
       "    </tr>\n",
       "  </thead>\n",
       "  <tbody>\n",
       "    <tr>\n",
       "      <th>1048565</th>\n",
       "      <td>Sentence: 47958</td>\n",
       "      <td>impact</td>\n",
       "      <td>O</td>\n",
       "    </tr>\n",
       "    <tr>\n",
       "      <th>1048566</th>\n",
       "      <td>Sentence: 47958</td>\n",
       "      <td>.</td>\n",
       "      <td>O</td>\n",
       "    </tr>\n",
       "    <tr>\n",
       "      <th>1048567</th>\n",
       "      <td>Sentence: 47959</td>\n",
       "      <td>Indian</td>\n",
       "      <td>B-gpe</td>\n",
       "    </tr>\n",
       "    <tr>\n",
       "      <th>1048568</th>\n",
       "      <td>Sentence: 47959</td>\n",
       "      <td>forces</td>\n",
       "      <td>O</td>\n",
       "    </tr>\n",
       "    <tr>\n",
       "      <th>1048569</th>\n",
       "      <td>Sentence: 47959</td>\n",
       "      <td>said</td>\n",
       "      <td>O</td>\n",
       "    </tr>\n",
       "    <tr>\n",
       "      <th>1048570</th>\n",
       "      <td>Sentence: 47959</td>\n",
       "      <td>they</td>\n",
       "      <td>O</td>\n",
       "    </tr>\n",
       "    <tr>\n",
       "      <th>1048571</th>\n",
       "      <td>Sentence: 47959</td>\n",
       "      <td>responded</td>\n",
       "      <td>O</td>\n",
       "    </tr>\n",
       "    <tr>\n",
       "      <th>1048572</th>\n",
       "      <td>Sentence: 47959</td>\n",
       "      <td>to</td>\n",
       "      <td>O</td>\n",
       "    </tr>\n",
       "    <tr>\n",
       "      <th>1048573</th>\n",
       "      <td>Sentence: 47959</td>\n",
       "      <td>the</td>\n",
       "      <td>O</td>\n",
       "    </tr>\n",
       "    <tr>\n",
       "      <th>1048574</th>\n",
       "      <td>Sentence: 47959</td>\n",
       "      <td>attack</td>\n",
       "      <td>O</td>\n",
       "    </tr>\n",
       "  </tbody>\n",
       "</table>\n",
       "</div>"
      ],
      "text/plain": [
       "              Sentence #       Word    Tag\n",
       "1048565  Sentence: 47958     impact      O\n",
       "1048566  Sentence: 47958          .      O\n",
       "1048567  Sentence: 47959     Indian  B-gpe\n",
       "1048568  Sentence: 47959     forces      O\n",
       "1048569  Sentence: 47959       said      O\n",
       "1048570  Sentence: 47959       they      O\n",
       "1048571  Sentence: 47959  responded      O\n",
       "1048572  Sentence: 47959         to      O\n",
       "1048573  Sentence: 47959        the      O\n",
       "1048574  Sentence: 47959     attack      O"
      ]
     },
     "execution_count": 11,
     "metadata": {},
     "output_type": "execute_result"
    }
   ],
   "source": [
    "data = pd.read_csv('./dataset/ner_dataset.csv', encoding='latin1')\n",
    "data = data.drop(['POS'], axis=1)\n",
    "data = data.fillna(method='ffill')\n",
    "data.tail(10)"
   ]
  },
  {
   "cell_type": "code",
   "execution_count": 13,
   "metadata": {},
   "outputs": [
    {
     "data": {
      "text/plain": [
       "35179"
      ]
     },
     "execution_count": 13,
     "metadata": {},
     "output_type": "execute_result"
    }
   ],
   "source": [
    "words = set(data.Word.unique())\n",
    "words.add('PADword')\n",
    "n_words = len(words)\n",
    "n_words"
   ]
  },
  {
   "cell_type": "code",
   "execution_count": 14,
   "metadata": {},
   "outputs": [
    {
     "data": {
      "text/plain": [
       "17"
      ]
     },
     "execution_count": 14,
     "metadata": {},
     "output_type": "execute_result"
    }
   ],
   "source": [
    "tags = set(data.Tag.unique())\n",
    "n_tags = len(tags)\n",
    "n_tags"
   ]
  },
  {
   "cell_type": "code",
   "execution_count": null,
   "metadata": {},
   "outputs": [],
   "source": [
    "# for ind, grp in data.groupby('Sentence #'):\n",
    "#     for w, t in zip(grp['Word'].values.tolist(), grp['Tag'].values.tolist()):\n",
    "#         print(w)\n",
    "#         print(t)"
   ]
  },
  {
   "cell_type": "code",
   "execution_count": 23,
   "metadata": {},
   "outputs": [],
   "source": [
    "class SentenceGetter(object):\n",
    "    \n",
    "    def __init__(self, data):\n",
    "        self.n_sent = 1\n",
    "        self.data = data\n",
    "        self.empty = False\n",
    "        agg_func = lambda s:[(w, t) for w, t in zip(s[\"Word\"].values.tolist(), s['Tag'].values.tolist())]\n",
    "        self.grouped = self.data.groupby('Sentence #').apply(agg_func)\n",
    "        self.sentences = [s for s in self.grouped]\n",
    "        \n",
    "    def get_next(self):\n",
    "        try:\n",
    "            s = self.grouped['Sentence: {}'.format(self.n_sent)]\n",
    "            self.n_sent += 1\n",
    "            return s\n",
    "        except:\n",
    "            return None"
   ]
  },
  {
   "cell_type": "code",
   "execution_count": 25,
   "metadata": {},
   "outputs": [
    {
     "data": {
      "text/plain": [
       "Sentence #\n",
       "Sentence: 1        [(Thousands, O), (of, O), (demonstrators, O), ...\n",
       "Sentence: 10       [(Iranian, B-gpe), (officials, O), (say, O), (...\n",
       "Sentence: 100      [(Helicopter, O), (gunships, O), (Saturday, B-...\n",
       "Sentence: 1000     [(They, O), (left, O), (after, O), (a, O), (te...\n",
       "Sentence: 10000    [(U.N., B-geo), (relief, O), (coordinator, O),...\n",
       "Sentence: 10001    [(Mr., B-per), (Egeland, I-per), (said, O), (t...\n",
       "Sentence: 10002    [(He, O), (said, O), (last, O), (week, O), ('s...\n",
       "Sentence: 10003    [(Some, O), (1,27,000, O), (people, O), (are, ...\n",
       "Sentence: 10004    [(Aid, O), (is, O), (being, O), (rushed, O), (...\n",
       "Sentence: 10005    [(Lebanese, B-gpe), (politicians, O), (are, O)...\n",
       "Sentence: 10006    [(In, O), (Beirut, B-geo), (,, O), (a, O), (st...\n",
       "Sentence: 10007    [(One, O), (person, O), (was, O), (killed, O),...\n",
       "Sentence: 10008    [(Lebanon, B-geo), (has, O), (suffered, O), (a...\n",
       "Sentence: 10009    [(Syria, B-geo), (is, O), (widely, O), (accuse...\n",
       "Sentence: 1001     [(The, O), (global, O), (financial, O), (crisi...\n",
       "Sentence: 10010    [(Israeli, B-gpe), (officials, O), (say, O), (...\n",
       "Sentence: 10011    [(Doctors, O), (describe, O), (the, O), (tiny,...\n",
       "Sentence: 10012    [(The, O), (procedure, O), (,, O), (known, O),...\n",
       "Sentence: 10013    [(Doctors, O), (say, O), (they, O), (expect, O...\n",
       "Sentence: 10014    [(Mr., B-per), (Sharon, I-per), (returned, O),...\n",
       "Sentence: 10015    [(Doctors, O), (say, O), (the, O), (stroke, O)...\n",
       "Sentence: 10016    [(The, O), (designers, O), (of, O), (the, O), ...\n",
       "Sentence: 10017    [(SpaceShipOne, B-art), (designer, O), (Burt, ...\n",
       "Sentence: 10018    [(To, O), (win, O), (the, O), (money, O), (,, ...\n",
       "Sentence: 10019    [(The, O), (spacecraft, O), (made, O), (its, O...\n",
       "Sentence: 1002     [(Three, O), (major, O), (banks, O), (have, O)...\n",
       "Sentence: 10020    [(The, O), (vehicle, O), (had, O), (to, O), (c...\n",
       "Sentence: 10021    [(SpaceShipOne, B-art), (was, O), (financed, O...\n",
       "Sentence: 10022    [(North, B-geo), (Korea, I-geo), (says, O), (f...\n",
       "Sentence: 10023    [(The, O), (state, O), (news, O), (agency, O),...\n",
       "                                         ...                        \n",
       "Sentence: 9972     [(Ice, O), (Cube, O), ('s, O), (family, O), (c...\n",
       "Sentence: 9973     [(Quentin, B-per), (Tarantino, I-per), (and, O...\n",
       "Sentence: 9974     [(Media, O), (tracker, O), (Paul, B-per), (Der...\n",
       "Sentence: 9975     [(In, O), (Afghanistan, B-geo), (,, O), (a, O)...\n",
       "Sentence: 9976     [(Afghan, B-gpe), (officials, O), (say, O), (t...\n",
       "Sentence: 9977     [(They, O), (say, O), (a, O), (third, O), (Ger...\n",
       "Sentence: 9978     [(The, B-org), (Associated, I-org), (Press, I-...\n",
       "Sentence: 9979     [(The, O), (German, B-gpe), (soldiers, O), (we...\n",
       "Sentence: 998      [(Thousands, O), (of, O), (Icelanders, B-gpe),...\n",
       "Sentence: 9980     [(The, O), (German, B-gpe), (detachment, O), (...\n",
       "Sentence: 9981     [(ISAF, B-org), (has, O), (about, O), (8,000, ...\n",
       "Sentence: 9982     [(Pakistani, B-gpe), (police, O), (reported, O...\n",
       "Sentence: 9983     [(Several, O), (people, O), (are, O), (still, ...\n",
       "Sentence: 9984     [(Liquor, O), (is, O), (banned, O), (for, O), ...\n",
       "Sentence: 9985     [(But, O), (some, O), (Muslims, B-org), (drink...\n",
       "Sentence: 9986     [(Police, O), (say, O), (they, O), (have, O), ...\n",
       "Sentence: 9987     [(In, O), (October, B-tim), (of, I-tim), (last...\n",
       "Sentence: 9988     [(A, O), (former, O), (U.S., B-org), (Senate, ...\n",
       "Sentence: 9989     [(Democrat, O), (Tom, B-per), (Daschle, I-per)...\n",
       "Sentence: 999      [(Hundreds, O), (of, O), (marchers, O), (tried...\n",
       "Sentence: 9990     [(In, O), (an, O), (opinion, O), (piece, O), (...\n",
       "Sentence: 9991     [(President, B-per), (Bush, I-per), (last, O),...\n",
       "Sentence: 9992     [(He, O), (called, O), (it, O), (a, O), (vital...\n",
       "Sentence: 9993     [(Iran, B-geo), ('s, O), (elite, O), (security...\n",
       "Sentence: 9994     [(Opposition, O), (activists, O), (have, O), (...\n",
       "Sentence: 9995     [(Opposition, O), (leader, O), (Mir, O), (Hoss...\n",
       "Sentence: 9996     [(On, O), (Thursday, B-tim), (,, O), (Iranian,...\n",
       "Sentence: 9997     [(Following, O), (Iran, B-geo), ('s, O), (disp...\n",
       "Sentence: 9998     [(Since, O), (then, O), (,, O), (authorities, ...\n",
       "Sentence: 9999     [(The, O), (United, B-org), (Nations, I-org), ...\n",
       "Length: 47959, dtype: object"
      ]
     },
     "execution_count": 25,
     "metadata": {},
     "output_type": "execute_result"
    }
   ],
   "source": [
    "getter.grouped"
   ]
  },
  {
   "cell_type": "code",
   "execution_count": 24,
   "metadata": {},
   "outputs": [
    {
     "name": "stdout",
     "output_type": "stream",
     "text": [
      "[('Thousands', 'O'), ('of', 'O'), ('demonstrators', 'O'), ('have', 'O'), ('marched', 'O'), ('through', 'O'), ('London', 'B-geo'), ('to', 'O'), ('protest', 'O'), ('the', 'O'), ('war', 'O'), ('in', 'O'), ('Iraq', 'B-geo'), ('and', 'O'), ('demand', 'O'), ('the', 'O'), ('withdrawal', 'O'), ('of', 'O'), ('British', 'B-gpe'), ('troops', 'O'), ('from', 'O'), ('that', 'O'), ('country', 'O'), ('.', 'O')]\n"
     ]
    }
   ],
   "source": [
    "getter = SentenceGetter(data)\n",
    "sent = getter.get_next()\n",
    "print(sent)"
   ]
  },
  {
   "cell_type": "code",
   "execution_count": 26,
   "metadata": {},
   "outputs": [
    {
     "data": {
      "text/plain": [
       "47959"
      ]
     },
     "execution_count": 26,
     "metadata": {},
     "output_type": "execute_result"
    }
   ],
   "source": [
    "sentences = getter.sentences\n",
    "len(sentences)"
   ]
  },
  {
   "cell_type": "code",
   "execution_count": 28,
   "metadata": {},
   "outputs": [
    {
     "data": {
      "text/plain": [
       "104"
      ]
     },
     "execution_count": 28,
     "metadata": {},
     "output_type": "execute_result"
    }
   ],
   "source": [
    "largest_sen = max(len(sen) for sen in sentences)\n",
    "largest_sen"
   ]
  },
  {
   "cell_type": "code",
   "execution_count": 29,
   "metadata": {},
   "outputs": [
    {
     "data": {
      "text/plain": [
       "(array([1.300e+01, 1.800e+02, 7.030e+02, 1.363e+03, 2.152e+03, 2.803e+03,\n",
       "        3.496e+03, 3.965e+03, 4.559e+03, 4.849e+03, 4.706e+03, 4.447e+03,\n",
       "        3.814e+03, 3.117e+03, 2.433e+03, 1.699e+03, 1.767e+03, 6.490e+02,\n",
       "        4.720e+02, 2.660e+02, 1.710e+02, 1.050e+02, 7.300e+01, 5.900e+01,\n",
       "        2.400e+01, 1.800e+01, 2.100e+01, 6.000e+00, 9.000e+00, 6.000e+00,\n",
       "        2.000e+00, 4.000e+00, 1.000e+00, 3.000e+00, 2.000e+00, 0.000e+00,\n",
       "        0.000e+00, 0.000e+00, 1.000e+00, 0.000e+00, 0.000e+00, 0.000e+00,\n",
       "        0.000e+00, 0.000e+00, 0.000e+00, 0.000e+00, 0.000e+00, 0.000e+00,\n",
       "        0.000e+00, 1.000e+00]),\n",
       " array([  1.  ,   3.06,   5.12,   7.18,   9.24,  11.3 ,  13.36,  15.42,\n",
       "         17.48,  19.54,  21.6 ,  23.66,  25.72,  27.78,  29.84,  31.9 ,\n",
       "         33.96,  36.02,  38.08,  40.14,  42.2 ,  44.26,  46.32,  48.38,\n",
       "         50.44,  52.5 ,  54.56,  56.62,  58.68,  60.74,  62.8 ,  64.86,\n",
       "         66.92,  68.98,  71.04,  73.1 ,  75.16,  77.22,  79.28,  81.34,\n",
       "         83.4 ,  85.46,  87.52,  89.58,  91.64,  93.7 ,  95.76,  97.82,\n",
       "         99.88, 101.94, 104.  ]),\n",
       " <a list of 50 Patch objects>)"
      ]
     },
     "execution_count": 29,
     "metadata": {},
     "output_type": "execute_result"
    },
    {
     "data": {
      "image/png": "[encoded data removed]",
      "text/plain": [
       "<Figure size 432x288 with 1 Axes>"
      ]
     },
     "metadata": {},
     "output_type": "display_data"
    }
   ],
   "source": [
    "plt.hist([len(sen) for sen in sentences], bins=50)"
   ]
  },
  {
   "cell_type": "code",
   "execution_count": 30,
   "metadata": {},
   "outputs": [],
   "source": [
    "words2index = {w:i for i,w in enumerate(words)}\n",
    "tags2index = {t:i for i,t in enumerate(tags)}"
   ]
  },
  {
   "cell_type": "code",
   "execution_count": 34,
   "metadata": {},
   "outputs": [
    {
     "data": {
      "text/plain": [
       "441"
      ]
     },
     "execution_count": 34,
     "metadata": {},
     "output_type": "execute_result"
    }
   ],
   "source": [
    "words2index['Want']"
   ]
  },
  {
   "cell_type": "code",
   "execution_count": 36,
   "metadata": {},
   "outputs": [
    {
     "data": {
      "text/plain": [
       "10"
      ]
     },
     "execution_count": 36,
     "metadata": {},
     "output_type": "execute_result"
    }
   ],
   "source": [
    "tags2index['B-eve']"
   ]
  },
  {
   "cell_type": "code",
   "execution_count": 95,
   "metadata": {},
   "outputs": [
    {
     "data": {
      "text/plain": [
       "['Israeli',\n",
       " 'officials',\n",
       " 'say',\n",
       " 'Prime',\n",
       " 'Minister',\n",
       " 'Ariel',\n",
       " 'Sharon',\n",
       " 'will',\n",
       " 'undergo',\n",
       " 'a',\n",
       " 'medical',\n",
       " 'procedure',\n",
       " 'Thursday',\n",
       " 'to',\n",
       " 'close',\n",
       " 'a',\n",
       " 'tiny',\n",
       " 'hole',\n",
       " 'in',\n",
       " 'his',\n",
       " 'heart',\n",
       " 'discovered',\n",
       " 'during',\n",
       " 'treatment',\n",
       " 'for',\n",
       " 'a',\n",
       " 'minor',\n",
       " 'stroke',\n",
       " 'suffered',\n",
       " 'last',\n",
       " 'month',\n",
       " '.',\n",
       " 'PADword',\n",
       " 'PADword',\n",
       " 'PADword',\n",
       " 'PADword',\n",
       " 'PADword',\n",
       " 'PADword',\n",
       " 'PADword',\n",
       " 'PADword',\n",
       " 'PADword',\n",
       " 'PADword',\n",
       " 'PADword',\n",
       " 'PADword',\n",
       " 'PADword',\n",
       " 'PADword',\n",
       " 'PADword',\n",
       " 'PADword',\n",
       " 'PADword',\n",
       " 'PADword']"
      ]
     },
     "execution_count": 95,
     "metadata": {},
     "output_type": "execute_result"
    }
   ],
   "source": [
    "# for padding\n",
    "\n",
    "max_len = 50\n",
    "X = [[w[0] for w in s] for s in sentences]\n",
    "\n",
    "X = pad_sequences(maxlen=max_len, \\\n",
    "                  sequences=X,\\\n",
    "                 padding='post',\\\n",
    "                 value='PADword')\n",
    "\n",
    "# new_X = []\n",
    "# for seq in X:\n",
    "#     new_seq = []\n",
    "#     for i in range(max_len):\n",
    "#         try:\n",
    "#             new_seq.append(seq[i])\n",
    "#         except:\n",
    "#             new_seq.append(\"PADword\")\n",
    "#     new_X.append(new_seq)\n",
    "# new_X[15]"
   ]
  },
  {
   "cell_type": "code",
   "execution_count": 96,
   "metadata": {},
   "outputs": [
    {
     "data": {
      "text/plain": [
       "array([ 0, 14, 14,  7,  8,  8,  8, 14, 14, 14, 14, 14, 15, 14, 14, 14, 14,\n",
       "       14, 14, 14, 14, 14, 14, 14, 14, 14, 14, 14, 14, 14, 14, 14, 14, 14,\n",
       "       14, 14, 14, 14, 14, 14, 14, 14, 14, 14, 14, 14, 14, 14, 14, 14],\n",
       "      dtype=int32)"
      ]
     },
     "execution_count": 96,
     "metadata": {},
     "output_type": "execute_result"
    }
   ],
   "source": [
    "from keras.preprocessing.sequence import pad_sequences\n",
    "y = [[tags2index[w[1]] for w in s] for s in sentences]\n",
    "y = pad_sequences(maxlen=max_len, \\\n",
    "                  sequences=y,\\\n",
    "                 padding='post',\\\n",
    "                 value=tags2index['O'])\n",
    "y[15]"
   ]
  },
  {
   "cell_type": "code",
   "execution_count": 97,
   "metadata": {},
   "outputs": [],
   "source": [
    "from sklearn.model_selection import train_test_split\n",
    "X_train, X_test, y_train, y_test = train_test_split(new_X, \\\n",
    "                                                    y, \\\n",
    "                                                    test_size=0.1, \\\n",
    "                                                    random_state=2018)"
   ]
  },
  {
   "cell_type": "code",
   "execution_count": 98,
   "metadata": {},
   "outputs": [],
   "source": [
    "batch_size = 32\n",
    "\n",
    "import tensorflow as tf\n",
    "import tensorflow_hub as hub\n",
    "from keras import backend as K\n",
    "\n",
    "sess = tf.Session()\n",
    "K.set_session(sess)"
   ]
  },
  {
   "cell_type": "code",
   "execution_count": 99,
   "metadata": {},
   "outputs": [],
   "source": [
    "elmo_model = hub.Module('https://tfhub.dev/google/elmo/2', trainable=True)"
   ]
  },
  {
   "cell_type": "code",
   "execution_count": 100,
   "metadata": {},
   "outputs": [],
   "source": [
    "sess.run(tf.global_variables_initializer())\n",
    "sess.run(tf.tables_initializer())"
   ]
  },
  {
   "cell_type": "code",
   "execution_count": 101,
   "metadata": {},
   "outputs": [],
   "source": [
    "def elmo_embedding(x):\n",
    "    return elmo_model(inputs={\n",
    "                        'tokens' : tf.squeeze(tf.cast(x, tf.string)),\n",
    "                        'sequence_len' : tf.constant(batch_size*[max_len])\n",
    "                    },\\\n",
    "                    signature= 'tokens',\\\n",
    "                    as_dict=True)['elmo']"
   ]
  },
  {
   "cell_type": "code",
   "execution_count": 102,
   "metadata": {},
   "outputs": [],
   "source": [
    "from keras.models import Model, Input\n",
    "from keras.layers.merge import add\n",
    "from keras.layers import LSTM, Embedding, Dense, TimeDistributed, Dropout, Bidirectional, Lambda"
   ]
  },
  {
   "cell_type": "code",
   "execution_count": 103,
   "metadata": {},
   "outputs": [
    {
     "name": "stdout",
     "output_type": "stream",
     "text": [
      "INFO:tensorflow:Saver not created because there are no variables in the graph to restore\n"
     ]
    }
   ],
   "source": [
    "input_text = Input(shape=(max_len, ), dtype=tf.string)\n",
    "embedding = Lambda(elmo_embedding,\\\n",
    "                  output_shape=(max_len, 1024))(input_text)"
   ]
  },
  {
   "cell_type": "code",
   "execution_count": 104,
   "metadata": {},
   "outputs": [],
   "source": [
    "x = Bidirectional(LSTM(units=512, return_sequences=True,\\\n",
    "                 recurrent_dropout=0.2, dropout=0.2))(embedding)"
   ]
  },
  {
   "cell_type": "code",
   "execution_count": 105,
   "metadata": {},
   "outputs": [],
   "source": [
    "x_rnn = Bidirectional(LSTM(units=512, return_sequences=True,\\\n",
    "                          recurrent_dropout=0.2, dropout=0.2))(x)"
   ]
  },
  {
   "cell_type": "code",
   "execution_count": 106,
   "metadata": {},
   "outputs": [],
   "source": [
    "x = add([x, x_rnn])"
   ]
  },
  {
   "cell_type": "code",
   "execution_count": 107,
   "metadata": {},
   "outputs": [],
   "source": [
    "out = TimeDistributed(Dense(n_tags, activation=\"softmax\"))(x)"
   ]
  },
  {
   "cell_type": "code",
   "execution_count": 108,
   "metadata": {},
   "outputs": [],
   "source": [
    "model = Model(input_text, out)\n",
    "model.compile(optimizer='adam',\\\n",
    "             loss='sparse_categorical_crossentropy',\\\n",
    "             metrics=['accuracy'])"
   ]
  },
  {
   "cell_type": "code",
   "execution_count": 109,
   "metadata": {},
   "outputs": [],
   "source": [
    "X_train, X_value = X_train[:1213*batch_size], X_train[-135*batch_size:]\n",
    "y_train, y_value = y_train[:1213*batch_size], y_train[-135*batch_size:]\n",
    "y_train = y_train.reshape(y_train.shape[0], y_train.shape[1], 1)\n",
    "y_value = y_value.reshape(y_value.shape[0], y_value.shape[1], 1)"
   ]
  },
  {
   "cell_type": "code",
   "execution_count": 110,
   "metadata": {},
   "outputs": [
    {
     "data": {
      "text/plain": [
       "38816"
      ]
     },
     "execution_count": 110,
     "metadata": {},
     "output_type": "execute_result"
    }
   ],
   "source": [
    "len(X_train)"
   ]
  },
  {
   "cell_type": "code",
   "execution_count": null,
   "metadata": {},
   "outputs": [
    {
     "name": "stdout",
     "output_type": "stream",
     "text": [
      "Train on 38816 samples, validate on 4320 samples\n",
      "Epoch 1/3\n",
      "38816/38816 [==============================] - 105613s - loss: 0.0614 - acc: 0.9822 - val_loss: 0.0455 - val_acc: 0.9859\n",
      "Epoch 2/3\n",
      "12640/38816 [========>.....................] - ETA: 6328s - loss: 0.0411 - acc: 0.9869"
     ]
    }
   ],
   "source": [
    "history = model.fit(np.array(X_train), y_train,\\\n",
    "                    validation_data=(np.array(X_value), y_value),\\\n",
    "                    batch_size=batch_size, epochs=3, verbose=1)"
   ]
  },
  {
   "cell_type": "code",
   "execution_count": null,
   "metadata": {},
   "outputs": [],
   "source": [
    "from seqeval.metrics import precision_score, recall_score, f1_score, classification_report\n",
    "X_te = X_te[:149*batch_size]\n",
    "test_pred = model.predict(np.array(X_te), verbose=1)"
   ]
  },
  {
   "cell_type": "code",
   "execution_count": null,
   "metadata": {},
   "outputs": [],
   "source": [
    "idx2tag = {i: w for w, i in tags2index.items()}\n",
    "\n",
    "def pred2label(pred):\n",
    "    out = []\n",
    "    for pred_i in pred:\n",
    "        out_i = []\n",
    "        for p in pred_i:\n",
    "            p_i = np.argmax(p)\n",
    "            out_i.append(idx2tag[p_i].replace(\"PADword\", \"O\"))\n",
    "        out.append(out_i)\n",
    "    return out\n",
    "\n",
    "def test2label(pred):\n",
    "    out = []\n",
    "    for pred_i in pred:\n",
    "        out_i = []\n",
    "        for p in pred_i:\n",
    "            out_i.append(idx2tag[p].replace(\"PADword\", \"O\"))\n",
    "        out.append(out_i)\n",
    "    return out\n",
    "    \n",
    "pred_labels = pred2label(test_pred)\n",
    "test_labels = test2label(y_te[:149*32])"
   ]
  },
  {
   "cell_type": "code",
   "execution_count": null,
   "metadata": {},
   "outputs": [],
   "source": [
    "print(\"F1-score: {:.1%}\".format(f1_score(test_labels, pred_labels)))"
   ]
  },
  {
   "cell_type": "code",
   "execution_count": null,
   "metadata": {},
   "outputs": [],
   "source": [
    "print(classification_report(test_labels, pred_labels))"
   ]
  },
  {
   "cell_type": "code",
   "execution_count": null,
   "metadata": {},
   "outputs": [],
   "source": [
    "i = 390\n",
    "p = model.predict(np.array(X_te[i:i+batch_size]))[0]\n",
    "p = np.argmax(p, axis=-1)\n",
    "print(\"{:15} {:5}: ({})\".format(\"Word\", \"Pred\", \"True\"))\n",
    "print(\"=\"*30)\n",
    "for w, true, pred in zip(X_te[i], y_te[i], p):\n",
    "    if w != \"PADword\":\n",
    "        print(\"{:15}:{:5} ({})\".format(w, tags[pred], tags[true]))"
   ]
  },
  {
   "cell_type": "code",
   "execution_count": null,
   "metadata": {},
   "outputs": [],
   "source": []
  }
 ],
 "metadata": {
  "kernelspec": {
   "display_name": "Python 3",
   "language": "python",
   "name": "python3"
  },
  "language_info": {
   "codemirror_mode": {
    "name": "ipython",
    "version": 3
   },
   "file_extension": ".py",
   "mimetype": "text/x-python",
   "name": "python",
   "nbconvert_exporter": "python",
   "pygments_lexer": "ipython3",
   "version": "3.6.4"
  }
 },
 "nbformat": 4,
 "nbformat_minor": 2
}
