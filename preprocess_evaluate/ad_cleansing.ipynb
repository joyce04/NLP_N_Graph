{
 "cells": [
  {
   "cell_type": "code",
   "execution_count": 1,
   "metadata": {},
   "outputs": [
    {
     "name": "stderr",
     "output_type": "stream",
     "text": [
      "/home/grace/.local/lib/python3.5/site-packages/psycopg2/__init__.py:144: UserWarning: The psycopg2 wheel package will be renamed from release 2.8; in order to keep installing from binary please use \"pip install psycopg2-binary\" instead. For details see: <http://initd.org/psycopg/docs/install.html#binary-install-from-pypi>.\n",
      "  \"\"\")\n"
     ]
    }
   ],
   "source": [
    "import db_conn\n",
    "import pandas as pd\n",
    "import re\n",
    "pd.options.display.max_columns = None"
   ]
  },
  {
   "cell_type": "code",
   "execution_count": 2,
   "metadata": {},
   "outputs": [],
   "source": [
    "conn = db_conn.get_connection()"
   ]
  },
  {
   "cell_type": "markdown",
   "metadata": {},
   "source": [
    "## 1. 추출된 전체 부작용\n",
    "추출된 전체 부작용 중 식별이 가능한 UNIQUE한 약물만을 추려냈습니다."
   ]
  },
  {
   "cell_type": "code",
   "execution_count": 3,
   "metadata": {},
   "outputs": [],
   "source": [
    "def get_total_ads():\n",
    "    cur = conn.cursor()\n",
    "#     cur.execute(\"\"\"\n",
    "#     SELECT DISTINCT(TRIM(LOWER(d.tt_ad))) AS t_ad\n",
    "#     FROM\n",
    "#     (SELECT id, tt_ad\n",
    "#     FROM \n",
    "#         (SELECT * \n",
    "#         FROM article_table_sentences_m\n",
    "#         WHERE table_id IN \n",
    "#         (SELECT id FROM article_tables WHERE final_topic IS NOT NULL)) M,\n",
    "#         UNNEST(STRING_TO_ARRAY(t_ad, ' , ')) AS tt_ad\n",
    "#     WHERE (tt_ad='') is false) as d;\n",
    "#     \"\"\")\n",
    "    cur.execute(\"\"\"\n",
    "    SELECT id, TRIM(lower(d.tt_ad)) AS tt_ad\n",
    "        FROM\n",
    "        (SELECT id, tt_ad\n",
    "        FROM \n",
    "            (SELECT * \n",
    "            FROM article_table_sentences_m\n",
    "            WHERE table_id IN \n",
    "            (SELECT id FROM article_tables WHERE final_topic IS NOT NULL)) M,\n",
    "            UNNEST(STRING_TO_ARRAY(t_ad, ' , ')) AS tt_ad\n",
    "        WHERE (t_ad='') is false) as d;\n",
    "        \"\"\")\n",
    "    return cur.fetchall()\n",
    "\n",
    "def get_ad_dictionary():\n",
    "    cur = conn.cursor()\n",
    "    cur.execute(\"\"\"\n",
    "    SELECT llt_code, pt_code, TRIM(LOWER(llt_name)) AS t_ad\n",
    "    FROM meddra_llt_181022 M;\n",
    "    \"\"\")\n",
    "    return cur.fetchall()"
   ]
  },
  {
   "cell_type": "code",
   "execution_count": 4,
   "metadata": {},
   "outputs": [
    {
     "data": {
      "text/html": [
       "<div>\n",
       "<style scoped>\n",
       "    .dataframe tbody tr th:only-of-type {\n",
       "        vertical-align: middle;\n",
       "    }\n",
       "\n",
       "    .dataframe tbody tr th {\n",
       "        vertical-align: top;\n",
       "    }\n",
       "\n",
       "    .dataframe thead th {\n",
       "        text-align: right;\n",
       "    }\n",
       "</style>\n",
       "<table border=\"1\" class=\"dataframe\">\n",
       "  <thead>\n",
       "    <tr style=\"text-align: right;\">\n",
       "      <th></th>\n",
       "      <th>0</th>\n",
       "      <th>1</th>\n",
       "    </tr>\n",
       "  </thead>\n",
       "  <tbody>\n",
       "    <tr>\n",
       "      <th>0</th>\n",
       "      <td>2668800</td>\n",
       "      <td>adverse events</td>\n",
       "    </tr>\n",
       "    <tr>\n",
       "      <th>1</th>\n",
       "      <td>2668800</td>\n",
       "      <td>rash</td>\n",
       "    </tr>\n",
       "    <tr>\n",
       "      <th>2</th>\n",
       "      <td>2668803</td>\n",
       "      <td>adverse events</td>\n",
       "    </tr>\n",
       "    <tr>\n",
       "      <th>3</th>\n",
       "      <td>2668803</td>\n",
       "      <td>dry skin</td>\n",
       "    </tr>\n",
       "    <tr>\n",
       "      <th>4</th>\n",
       "      <td>2668802</td>\n",
       "      <td>adverse events</td>\n",
       "    </tr>\n",
       "  </tbody>\n",
       "</table>\n",
       "</div>"
      ],
      "text/plain": [
       "         0               1\n",
       "0  2668800  adverse events\n",
       "1  2668800            rash\n",
       "2  2668803  adverse events\n",
       "3  2668803        dry skin\n",
       "4  2668802  adverse events"
      ]
     },
     "execution_count": 4,
     "metadata": {},
     "output_type": "execute_result"
    }
   ],
   "source": [
    "ads = pd.DataFrame(get_total_ads())\n",
    "ads.head()\n",
    "# ads = pd.read_csv('./distinct_ads.tsv', sep='\\t')"
   ]
  },
  {
   "cell_type": "code",
   "execution_count": 5,
   "metadata": {},
   "outputs": [],
   "source": [
    "# ads.to_csv('./ads.csv', sep=',')"
   ]
  },
  {
   "cell_type": "code",
   "execution_count": 6,
   "metadata": {},
   "outputs": [],
   "source": [
    "ads.columns=['id','name']"
   ]
  },
  {
   "cell_type": "code",
   "execution_count": 7,
   "metadata": {},
   "outputs": [
    {
     "data": {
      "text/html": [
       "<div>\n",
       "<style scoped>\n",
       "    .dataframe tbody tr th:only-of-type {\n",
       "        vertical-align: middle;\n",
       "    }\n",
       "\n",
       "    .dataframe tbody tr th {\n",
       "        vertical-align: top;\n",
       "    }\n",
       "\n",
       "    .dataframe thead th {\n",
       "        text-align: right;\n",
       "    }\n",
       "</style>\n",
       "<table border=\"1\" class=\"dataframe\">\n",
       "  <thead>\n",
       "    <tr style=\"text-align: right;\">\n",
       "      <th></th>\n",
       "      <th>id</th>\n",
       "      <th>name</th>\n",
       "      <th>refined</th>\n",
       "      <th>llt_code</th>\n",
       "      <th>pt_code</th>\n",
       "    </tr>\n",
       "  </thead>\n",
       "  <tbody>\n",
       "    <tr>\n",
       "      <th>0</th>\n",
       "      <td>2668800</td>\n",
       "      <td>adverse events</td>\n",
       "      <td></td>\n",
       "      <td>None</td>\n",
       "      <td>None</td>\n",
       "    </tr>\n",
       "    <tr>\n",
       "      <th>1</th>\n",
       "      <td>2668800</td>\n",
       "      <td>rash</td>\n",
       "      <td></td>\n",
       "      <td>None</td>\n",
       "      <td>None</td>\n",
       "    </tr>\n",
       "    <tr>\n",
       "      <th>2</th>\n",
       "      <td>2668803</td>\n",
       "      <td>adverse events</td>\n",
       "      <td></td>\n",
       "      <td>None</td>\n",
       "      <td>None</td>\n",
       "    </tr>\n",
       "    <tr>\n",
       "      <th>3</th>\n",
       "      <td>2668803</td>\n",
       "      <td>dry skin</td>\n",
       "      <td></td>\n",
       "      <td>None</td>\n",
       "      <td>None</td>\n",
       "    </tr>\n",
       "    <tr>\n",
       "      <th>4</th>\n",
       "      <td>2668802</td>\n",
       "      <td>adverse events</td>\n",
       "      <td></td>\n",
       "      <td>None</td>\n",
       "      <td>None</td>\n",
       "    </tr>\n",
       "  </tbody>\n",
       "</table>\n",
       "</div>"
      ],
      "text/plain": [
       "        id            name refined llt_code pt_code\n",
       "0  2668800  adverse events             None    None\n",
       "1  2668800            rash             None    None\n",
       "2  2668803  adverse events             None    None\n",
       "3  2668803        dry skin             None    None\n",
       "4  2668802  adverse events             None    None"
      ]
     },
     "execution_count": 7,
     "metadata": {},
     "output_type": "execute_result"
    }
   ],
   "source": [
    "ads['refined'] = ''\n",
    "ads['llt_code'] = None\n",
    "ads['pt_code'] = None\n",
    "ads.head()"
   ]
  },
  {
   "cell_type": "markdown",
   "metadata": {},
   "source": [
    "#### 전처리 전 총 부작용의 수는 323398개 입니다"
   ]
  },
  {
   "cell_type": "code",
   "execution_count": 8,
   "metadata": {},
   "outputs": [
    {
     "data": {
      "text/plain": [
       "(323398, 5)"
      ]
     },
     "execution_count": 8,
     "metadata": {},
     "output_type": "execute_result"
    }
   ],
   "source": [
    "ads.shape"
   ]
  },
  {
   "cell_type": "markdown",
   "metadata": {},
   "source": [
    "### 2. 전처리"
   ]
  },
  {
   "cell_type": "markdown",
   "metadata": {},
   "source": [
    "#### A. dictionary를 참고하여, 정확히 일치하는 부작용 명은 전처리 없이 포함합니다."
   ]
  },
  {
   "cell_type": "code",
   "execution_count": 9,
   "metadata": {},
   "outputs": [],
   "source": [
    "dictionary = pd.DataFrame(get_ad_dictionary())\n",
    "dictionary.columns = ['llt_code', 'pt_code', 't_ad']\n",
    "# dictionary = pd.read_csv('./dictionary_ads.tsv', sep='\\t')\n",
    "# dictionary = list(map(lambda x: str(x[0]).lower().replace('\"', ''), dictionary))"
   ]
  },
  {
   "cell_type": "code",
   "execution_count": 10,
   "metadata": {},
   "outputs": [
    {
     "data": {
      "text/plain": [
       "(60939, 3)"
      ]
     },
     "execution_count": 10,
     "metadata": {},
     "output_type": "execute_result"
    }
   ],
   "source": [
    "dictionary.shape"
   ]
  },
  {
   "cell_type": "code",
   "execution_count": 11,
   "metadata": {},
   "outputs": [
    {
     "data": {
      "text/html": [
       "<div>\n",
       "<style scoped>\n",
       "    .dataframe tbody tr th:only-of-type {\n",
       "        vertical-align: middle;\n",
       "    }\n",
       "\n",
       "    .dataframe tbody tr th {\n",
       "        vertical-align: top;\n",
       "    }\n",
       "\n",
       "    .dataframe thead th {\n",
       "        text-align: right;\n",
       "    }\n",
       "</style>\n",
       "<table border=\"1\" class=\"dataframe\">\n",
       "  <thead>\n",
       "    <tr style=\"text-align: right;\">\n",
       "      <th></th>\n",
       "      <th>llt_code</th>\n",
       "      <th>pt_code</th>\n",
       "      <th>t_ad</th>\n",
       "    </tr>\n",
       "  </thead>\n",
       "  <tbody>\n",
       "    <tr>\n",
       "      <th>0</th>\n",
       "      <td>10000002</td>\n",
       "      <td>10000002</td>\n",
       "      <td>11-beta-hydroxylase deficiency</td>\n",
       "    </tr>\n",
       "    <tr>\n",
       "      <th>1</th>\n",
       "      <td>10000007</td>\n",
       "      <td>10000007</td>\n",
       "      <td>17 ketosteroids urine decreased</td>\n",
       "    </tr>\n",
       "    <tr>\n",
       "      <th>2</th>\n",
       "      <td>10000010</td>\n",
       "      <td>10000007</td>\n",
       "      <td>17 ketosteroids urine low</td>\n",
       "    </tr>\n",
       "    <tr>\n",
       "      <th>3</th>\n",
       "      <td>10000008</td>\n",
       "      <td>10000009</td>\n",
       "      <td>17 ketosteroids urine high</td>\n",
       "    </tr>\n",
       "    <tr>\n",
       "      <th>4</th>\n",
       "      <td>10000009</td>\n",
       "      <td>10000009</td>\n",
       "      <td>17 ketosteroids urine increased</td>\n",
       "    </tr>\n",
       "  </tbody>\n",
       "</table>\n",
       "</div>"
      ],
      "text/plain": [
       "   llt_code   pt_code                             t_ad\n",
       "0  10000002  10000002   11-beta-hydroxylase deficiency\n",
       "1  10000007  10000007  17 ketosteroids urine decreased\n",
       "2  10000010  10000007        17 ketosteroids urine low\n",
       "3  10000008  10000009       17 ketosteroids urine high\n",
       "4  10000009  10000009  17 ketosteroids urine increased"
      ]
     },
     "execution_count": 11,
     "metadata": {},
     "output_type": "execute_result"
    }
   ],
   "source": [
    "dictionary.head()"
   ]
  },
  {
   "cell_type": "markdown",
   "metadata": {},
   "source": [
    "### 부작용용어 dictionary와 정확이 매칭하면 추가 전처리 없이 확정"
   ]
  },
  {
   "cell_type": "code",
   "execution_count": 12,
   "metadata": {},
   "outputs": [],
   "source": [
    "def apply_dictionary():\n",
    "    for ind, ad in ads[ads['llt_code'].isnull()].iterrows():\n",
    "    #     print(ad['name'].strip())\n",
    "        name = ad['name'].strip()\n",
    "        exact_mathing = None\n",
    "        exact_mathing = dictionary.loc[dictionary.t_ad==name]\n",
    "\n",
    "        if len(exact_mathing)==0:\n",
    "            if name[0] in ['\"', '.', ':', '-', '(', ')']:\n",
    "                name = name[1:]\n",
    "            if name[len(name)-1] in ['\"', '.', ':', '-', '(', ')']:\n",
    "                name = name[:len(name)-1]\n",
    "    #         print(name)\n",
    "\n",
    "            exact_mathing = dictionary.loc[dictionary.t_ad==name]\n",
    "\n",
    "        if len(exact_mathing)>0:\n",
    "#             print(exact_mathing.values)\n",
    "            ads.loc[ind, 'refined'] = name\n",
    "            ads.loc[ind, 'llt_code'] = exact_mathing.values[0][0]\n",
    "            ads.loc[ind, 'pt_code'] = exact_mathing.values[0][1]"
   ]
  },
  {
   "cell_type": "code",
   "execution_count": null,
   "metadata": {},
   "outputs": [],
   "source": [
    "apply_dictionary()"
   ]
  },
  {
   "cell_type": "code",
   "execution_count": null,
   "metadata": {},
   "outputs": [],
   "source": [
    "# ads[ads.refined=='apnea']"
   ]
  },
  {
   "cell_type": "code",
   "execution_count": null,
   "metadata": {},
   "outputs": [],
   "source": [
    "print(ads[ads['refined'] == ''].shape)\n",
    "print(ads[ads['llt_code'].isnull()].shape)"
   ]
  },
  {
   "cell_type": "markdown",
   "metadata": {},
   "source": [
    "#### A. 부작용을 포함하고 있는 구절이 추출 된 경우, 부작용 외적인 단어들을 제거합니다"
   ]
  },
  {
   "cell_type": "markdown",
   "metadata": {},
   "source": [
    "## 선생님께서 need_to_refined_ads_hyj.xlsx파일을 통해 부작용명이 아니라고 지정해주신 목록을 추가하였습니다."
   ]
  },
  {
   "cell_type": "code",
   "execution_count": null,
   "metadata": {},
   "outputs": [],
   "source": [
    "replace_with_space = ['beverages', '<70%', '%', 'values)', '(', ')', '-1987', '-1993', ':', '±', '↑', 'australia-new',\n",
    "                     'scale-7', 'c-statistics', '-defined', '-derived', '-like', 'like', 'non-beverage',\n",
    "                     'scale-0', '-days', 'fluorine-18-labelled', '-specific', 'co-variate', '-guided', '≥2°',\n",
    "                     '≥1', 'composting', 'daids', 'decentralised', 'dmards', 'forage', 'full-scale', 'glues',\n",
    "                     'granger', 'greyscale', 'grey-scale', 'harvesting', 'immersed', 'invariably',\n",
    "                     '-guidance', 'lifelon', 'mwaura', 'naito', 'nesting', 'nomad', 'nonsystemi', '≥60', 'primers',\n",
    "                     'prohibited', 'sanger', '-1993', '<50', '<02', '>heathly']\n",
    "\n",
    "replace_ends_with = ['-related']"
   ]
  },
  {
   "cell_type": "code",
   "execution_count": null,
   "metadata": {},
   "outputs": [],
   "source": [
    "rep = dict((re.escape(k), ' ') for k in replace_with_space)\n",
    "pattern = re.compile(\"|\".join(rep.keys()))\n",
    "\n",
    "for ind, row in ads[ads['refined'] == ''].iterrows():\n",
    "    refined = ''\n",
    "    refined = pattern.sub(lambda m: rep[re.escape(m.group(0))], row['name'])\n",
    "    if refined.strip() == '':\n",
    "        ads.drop(ind, inplace=True)\n",
    "    elif row['name'].strip() != refined.strip():\n",
    "        ads.loc[ind, 'refined'] = refined.strip()\n",
    "        print(row['name'])\n",
    "        print(ads.loc[ind]['refined'])\n",
    "    \n",
    "    for end in replace_ends_with:\n",
    "        if row['name'].endswith(end):\n",
    "            ads.loc[ind, 'refined'] = row['name'].replace(end, '').strip()\n",
    "\n",
    "ads.reset_index(drop=True)"
   ]
  },
  {
   "cell_type": "markdown",
   "metadata": {},
   "source": [
    "#### B. 약-부작용 관계를 나타는 것이 아닌 경우, 지웁니다"
   ]
  },
  {
   "cell_type": "code",
   "execution_count": null,
   "metadata": {},
   "outputs": [],
   "source": [
    "non_drug_ad_rel = ['-free', 'free-', ' free ', 'variable', 'wrong drug administered', 'exercise-induced',\n",
    "                  'underdose', 'switch', 'massage', 'according', '-defining', 'arizona', 'controller', 'athletics',\n",
    "                  'atopics', 'average', 'bachelor', 'award', '—gasoline', 'cards', 'comer', 'consisting', 'consumer',\n",
    "                  'courage', 'covaria', 'coverage', 'dimers', 'distinguish', 'eavalues', 'emilia', 'multivaria',\n",
    "                  'nsaids', 'preexisting', 'reaches', 'recording', 'restaura', 'spain', 'standard', 'tactics',\n",
    "                  'tattoos', 'tasmania', 'telcagepant', 'testing', 'tragus', 'post-aids', 'scale–parent', 'body-mass-index',\n",
    "                  'mass-cavity', 'non-melanoma skin', 'single-blind', 'non-comatose', 'non-wheezers', 'high-pitched',\n",
    "                  'gadofluorine-m', 'anger-control', 'hiv-1-negative', 'pulmonary-systemic', '1apical', 'pre-infarction',\n",
    "                  'non-trauma', 'stress-mass-heart', 'self-discharge', 'anti-japanese encephalitis', 'non-hypertension',\n",
    "                   'non-infarct', 'post-stress', 'injury-donor', 'rate–pressure', 'non-neutropenic infections', 'non-hypertrophic',\n",
    "                   'anti-tachycardia', 'scale-up', '5-fluorouracil', 'isar-smart', '18f-fluoride', 'post-acute myocardial infarction',\n",
    "                   'hyper-responsiveness', 'pre-aids', 'mid-cavity', 'post-bleeding', 'scale–cognitive', 'double-blind',\n",
    "                   'high-pressure', 'post-endocarditis', 'peri-procedural complications', 'modulation-blind', 'pre-shock',\n",
    "                   'pre-angina', 'diphtheria–pertussis–tetanus', 'australia–new', 'q10values', 'pressure-time', 'non-congenital',\n",
    "                   'anti-hypertensive', 'sepsis-induced', 'snaith-hamilton', 'mass–body', 'pain-to-balloon', 'pain-to-coronary',\n",
    "                   'non-prostate cancer', 'cold-induced', 'non-melanoma', 'post-hypoxic', 'pre-injury', 'scale-16', 'non-atopic',\n",
    "                   'non-hypoxic', 'cancer-norfolk', 'langerhans-cell', 'body-mass', 'double-blinding', 'fluorouracil-based',\n",
    "                   'scale–child', 'fat-mass', 'nifurtimox-eflornithine', 'no adverse events', 'typical'] #'non'\n",
    "\n",
    "rep = dict((re.escape(k), ' ') for k in non_drug_ad_rel)\n",
    "pattern = re.compile(\"|\".join(rep.keys()))"
   ]
  },
  {
   "cell_type": "code",
   "execution_count": null,
   "metadata": {},
   "outputs": [],
   "source": [
    "for ind, row in ads.iterrows():\n",
    "    refined = ''\n",
    "    refined = pattern.sub(lambda m: rep[re.escape(m.group(0))], row['name'])\n",
    "    if row['name'].strip() != refined.strip():\n",
    "        print(row['name'])\n",
    "        ads.drop(ind, inplace=True)\n",
    "        print('===============================')\n",
    "\n",
    "ads.reset_index(drop=True)"
   ]
  },
  {
   "cell_type": "code",
   "execution_count": null,
   "metadata": {},
   "outputs": [],
   "source": [
    "ads.shape"
   ]
  },
  {
   "cell_type": "markdown",
   "metadata": {},
   "source": [
    "### 파일 중에 부작용이 아니라고 표기해주신 것을 추가로 제거"
   ]
  },
  {
   "cell_type": "code",
   "execution_count": null,
   "metadata": {},
   "outputs": [],
   "source": [
    "replace_excel = pd.read_excel('./need_to_refined_ads_hyj.xlsx')\n",
    "replace_excel.columns = ['key', 'replace_with', '-']\n",
    "replace_excel = replace_excel[['key', 'replace_with']]\n",
    "replace_excel.drop_duplicates(inplace=True)\n",
    "replace_excel.head()"
   ]
  },
  {
   "cell_type": "code",
   "execution_count": null,
   "metadata": {},
   "outputs": [],
   "source": [
    "replace_excel.shape"
   ]
  },
  {
   "cell_type": "code",
   "execution_count": null,
   "metadata": {},
   "outputs": [],
   "source": [
    "for ind, cura in replace_excel[(replace_excel.replace_with.str.find('부작용 아님')>=0) | (replace_excel.replace_with.str.find('부작용아님')>=0)].iterrows():\n",
    "#     print(cura['name'])\n",
    "    need_to_drop = ads[ads.name.str.lower().str.find(cura['key'].lower())>=0]\n",
    "    for i_n, d_n in need_to_drop.iterrows():\n",
    "        ads.drop(i_n, inplace=True)\n",
    "        \n",
    "ads.reset_index(drop=True)"
   ]
  },
  {
   "cell_type": "markdown",
   "metadata": {},
   "source": [
    "#### 약-부작용 관계를 나타는 것이 아닌 레코드를 제거하면 274156 남습니다"
   ]
  },
  {
   "cell_type": "code",
   "execution_count": null,
   "metadata": {},
   "outputs": [],
   "source": [
    "ads.shape"
   ]
  },
  {
   "cell_type": "markdown",
   "metadata": {},
   "source": [
    "### 복잡 부작용, 스펠링 미스 등을 선생님께서 주신 파일로 정제"
   ]
  },
  {
   "cell_type": "code",
   "execution_count": null,
   "metadata": {},
   "outputs": [],
   "source": [
    "def replace_with_manual_curation(ads):\n",
    "    for ind, row in replace_excel[(replace_excel.replace_with.str.find('부작용 아님')<0) & (replace_excel.replace_with.str.find('부작용아님')<0)].iterrows():\n",
    "        print(row)\n",
    "        origin_str = ''\n",
    "        for d_ind, d_row in ads[ads.llt_code.isnull()].loc[ads.name.str.strip()==row['key']].iterrows():\n",
    "            origin_str = d_row['name'].replace(row['key'], row['replace_with'].lower()).strip()\n",
    "            ads.loc[d_ind, 'refined'] = origin_str\n",
    "        for d_ind, d_row in ads[ads.llt_code.isnull()].loc[ads.refined.str.strip()==row['key']].iterrows():\n",
    "            origin_str = d_row['refined'].replace(row['key'], row['replace_with'].lower()).strip()\n",
    "            ads.loc[d_ind, 'refined'] = origin_str\n",
    "    return ads\n",
    "\n",
    "ads = replace_with_manual_curation(ads)"
   ]
  },
  {
   "cell_type": "code",
   "execution_count": null,
   "metadata": {},
   "outputs": [],
   "source": [
    "for ind, grp in ads[ads.llt_code.isnull()].groupby('refined'):\n",
    "#     print(ind)\n",
    "    found = dictionary.loc[dictionary.t_ad==ind.strip()]\n",
    "    if len(found)>0:\n",
    "#         print(found['cui_id'].values[0])\n",
    "        ads.ix[grp.index.values, 'llt_code'] = found['llt_code'].values[0]\n",
    "        ads.ix[grp.index.values, 'pt_code'] = found['pt_code'].values[0]"
   ]
  },
  {
   "cell_type": "markdown",
   "metadata": {},
   "source": [
    "### 여러 부작용이 하나의 레코드에 담겨있는 경우, 분리하여 입력"
   ]
  },
  {
   "cell_type": "code",
   "execution_count": null,
   "metadata": {},
   "outputs": [],
   "source": [
    "def separate_unique_ads(ads):\n",
    "    additional_ads = []\n",
    "\n",
    "    for ind, row in ads[(ads.llt_code.isnull()) & (ads.refined.str.find('+')>=0)].iterrows():\n",
    "        processed = None\n",
    "        processed = list(map(lambda x: x.strip(), row['refined'].split('+')))\n",
    "\n",
    "        if len(processed)>0:\n",
    "            ads.loc[ind, 'refined'] = processed[0]\n",
    "            for pro in processed[1:]:\n",
    "\n",
    "                additional_ads.append({'name':row['name'], 'id':row['id'], 'refined':pro})\n",
    "\n",
    "    for ind, row in ads[(ads.llt_code.isnull()) & (ads.refined.str.find(',')>=0)].iterrows():\n",
    "        processed = None\n",
    "        processed = list(map(lambda x: x.strip(), row['refined'].split(',')))\n",
    "\n",
    "        if len(processed)>0:\n",
    "            ads.loc[ind, 'refined'] = processed[0]\n",
    "            for pro in processed[1:]:\n",
    "\n",
    "                additional_ads.append({'name':row['name'], 'id':row['id'], 'refined':pro})\n",
    "\n",
    "\n",
    "    ads = ads.append(pd.DataFrame(additional_ads))\n",
    "#     ads.drop_duplicates(inplace=True)\n",
    "    return ads\n",
    "\n",
    "ads = separate_unique_ads(ads)"
   ]
  },
  {
   "cell_type": "code",
   "execution_count": null,
   "metadata": {},
   "outputs": [],
   "source": [
    "ads.shape"
   ]
  },
  {
   "cell_type": "code",
   "execution_count": null,
   "metadata": {},
   "outputs": [],
   "source": [
    "# ads[ads.refined=='apnea']\n",
    "# ads[ads.llt_code.isnull()]"
   ]
  },
  {
   "cell_type": "markdown",
   "metadata": {},
   "source": [
    "### 추가 전처리가 필요한 약물 갯수"
   ]
  },
  {
   "cell_type": "code",
   "execution_count": null,
   "metadata": {},
   "outputs": [],
   "source": [
    "len(ads[(ads.refined=='')])"
   ]
  },
  {
   "cell_type": "code",
   "execution_count": null,
   "metadata": {},
   "outputs": [],
   "source": [
    "def get_only_string(text):\n",
    "    try:\n",
    "        float(text)\n",
    "        return False\n",
    "    except ValueError:\n",
    "        return True\n",
    "    \n",
    "def remove_comparison(name, spliter):\n",
    "    arrs = list(filter(lambda x: get_only_string(x.strip().replace('%', '')) and x.strip(), name.split(spliter)))\n",
    "    if len(arrs)>0:\n",
    "        return arrs\n",
    "    else:\n",
    "        return None\n",
    "\n",
    "ads = ads[~ads.index.duplicated(keep='first')]\n",
    "for ind, row in ads[ads.refined==''].loc[ads.name.str.find('<')>=0].iterrows():\n",
    "    processed = remove_comparison(row['name'], '<')\n",
    "    if processed is None:\n",
    "        ads.drop(ind, inplace=True)\n",
    "ads.reset_index(drop=True)\n",
    "\n",
    "for ind, row in ads[ads.refined==''].loc[ads.name.str.find('<')>=0].iterrows():\n",
    "    processed = remove_comparison(row['name'], '<')\n",
    "    if processed is not None:\n",
    "        ads.loc[ind, 'refined'] = ''.join(processed)"
   ]
  },
  {
   "cell_type": "code",
   "execution_count": null,
   "metadata": {},
   "outputs": [],
   "source": [
    "ads.loc[ads.name.str.find('<')>=0]"
   ]
  },
  {
   "cell_type": "markdown",
   "metadata": {},
   "source": [
    "여러 부작용이 하나의 레코드에 담겨있는 경우, 분리하여 입력"
   ]
  },
  {
   "cell_type": "code",
   "execution_count": null,
   "metadata": {},
   "outputs": [],
   "source": [
    "additional_ads = []\n",
    "\n",
    "for ind, row in ads[ads.refined==''].loc[ads.name.str.find('>')>=0].iterrows():\n",
    "    processed = remove_comparison(row['name'], '>')\n",
    "    if processed is None:\n",
    "        ads.drop(ind, inplace=True)\n",
    "ads.reset_index(drop=True)\n",
    "\n",
    "for ind, row in ads[ads.refined==''].loc[ads.name.str.find('>')>=0].iterrows():\n",
    "    processed = remove_comparison(row['name'], '>')\n",
    "    if processed is not None:\n",
    "        ads.loc[ind, 'refined'] = processed[0]\n",
    "        for pro in processed[1:]:\n",
    "            print(pro)\n",
    "            additional_ads.append({'name':row['name'], 'id':row['id'], 'refined':pro})\n",
    "\n",
    "ads = ads.append(pd.DataFrame(additional_ads))\n",
    "# ads.drop_duplicates(inplace=True)"
   ]
  },
  {
   "cell_type": "code",
   "execution_count": null,
   "metadata": {},
   "outputs": [],
   "source": [
    "ads.shape"
   ]
  },
  {
   "cell_type": "code",
   "execution_count": null,
   "metadata": {},
   "outputs": [],
   "source": [
    "# ads[ads.refined=='apnea']\n",
    "ads[ads.llt_code.isnull()].shape"
   ]
  },
  {
   "cell_type": "markdown",
   "metadata": {},
   "source": [
    "### 앞 뒤의 -, . 제거"
   ]
  },
  {
   "cell_type": "code",
   "execution_count": null,
   "metadata": {},
   "outputs": [],
   "source": [
    "remove_list = ['.', '-related', '-', ':', '+', '–', ';', '%', 'time', 'invariably', '||']\n",
    "def preprocess(name):\n",
    "    if name[0] in remove_list:\n",
    "        name = name[1:len(name)]\n",
    "    \n",
    "    if name[len(name)-1] in remove_list:\n",
    "        name = name[0:len(name)-1]\n",
    "    return name\n",
    "    \n",
    "ads.name = ads.name.map(lambda x: preprocess(x))"
   ]
  },
  {
   "cell_type": "code",
   "execution_count": null,
   "metadata": {},
   "outputs": [],
   "source": [
    "remove_exact = [\"electrocardiogram changes\", \"discharged\", \"historyshock\", \"alternans\", \"nonmelanoma skin\", \"nonmelanoma\", \"values\",\n",
    "               \"statistics\", 'actuarial', 'dangerous', 'shockable', 'presence of q waves', 'australia', \"topical\", \"systemic\",\n",
    "               \"familial\", \"fluor\", \"variations\", \"towards\", \"slaughter\", \"prestroke\", \"variation\", \"adjusting\", \"storage\", \n",
    "                \"subscale\", \"approached\", \"reached\", \"discharges\", \"accidental\", \"morale\", \"australian\", \"teache\", \"accidents\", \n",
    "                \"overfitting\", \"persisting\", \"confusional\", \"typically\", \"existing\", \"scales\", \"yards\", \"typical\", \"australi\", \n",
    "                \"biomass\", \"onwards\", \"subscales\", \"univariatep\", \"unrestricted\", \"rewards\", \"variant\", \"mutivariate\", \"vegetarian\", \n",
    "                \"intolerance\", \"bivariate\", \"antibiotics\", \"adjusted\", \"cystatin\", \"hazards\", \"intense\", \"anginal\", \"elispot\", \n",
    "                \"blinded\", \"pregnant\", \"pressure\", \"antipsychotic\", \"deaths\", \"fluoropyrimidine\", \"tolerance\", \"variance\", \"cavity\", \n",
    "                \"fluorouracil\", \"transapical\", \"resting\", \"varia\", \"edwards\", \"fluorodeoxyglucose\", \"homocysteine\", \"teriflunomide\", \n",
    "                \"defibrillation\", 'sudden death—not', 'burn—hot', 'beverages'\n",
    "               ]\n",
    "for i, row in ads.iterrows():\n",
    "    if row['name'].strip().lower() in remove_exact:\n",
    "        ads.drop(i, inplace=True)\n",
    "\n",
    "ads.reset_index(drop=True)"
   ]
  },
  {
   "cell_type": "code",
   "execution_count": null,
   "metadata": {},
   "outputs": [],
   "source": [
    "apply_dictionary()"
   ]
  },
  {
   "cell_type": "code",
   "execution_count": null,
   "metadata": {},
   "outputs": [],
   "source": [
    "# ads.drop_duplicates(subset=['id', 'llt_code', 'name', 'pt_code', 'refined'], inplace=True)\n",
    "# ads.reset_index(drop=True)\n",
    "# ads.head()\n",
    "ads[ads.refined=='apnea']"
   ]
  },
  {
   "cell_type": "code",
   "execution_count": null,
   "metadata": {},
   "outputs": [],
   "source": [
    "ads = ads[~ads.index.duplicated(keep='first')]\n",
    "ads = replace_with_manual_curation(ads)"
   ]
  },
  {
   "cell_type": "code",
   "execution_count": null,
   "metadata": {},
   "outputs": [],
   "source": [
    "ads = separate_unique_ads(ads)\n",
    "ads.reset_index(drop=True)"
   ]
  },
  {
   "cell_type": "code",
   "execution_count": null,
   "metadata": {},
   "outputs": [],
   "source": [
    "for ind, grp in ads[ads.llt_code.isnull()].groupby('refined'):\n",
    "#     print(ind)\n",
    "    found = dictionary.loc[dictionary.t_ad==ind.strip()]\n",
    "    if len(found)>0:\n",
    "#         print(found['cui_id'].values[0])\n",
    "        ads.ix[grp.index.values, 'llt_code'] = found['llt_code'].values[0]\n",
    "        ads.ix[grp.index.values, 'pt_code'] = found['pt_code'].values[0]"
   ]
  },
  {
   "cell_type": "code",
   "execution_count": null,
   "metadata": {},
   "outputs": [],
   "source": [
    "for ind, grp in ads[ads.llt_code.isnull()].groupby('name'):\n",
    "#     print(ind)\n",
    "    found = dictionary.loc[dictionary.t_ad==ind.strip()]\n",
    "    if len(found)>0:\n",
    "#         print(found['cui_id'].values[0])\n",
    "        ads.ix[grp.index.values, 'refined'] = ind.strip()\n",
    "        ads.ix[grp.index.values, 'llt_code'] = found['llt_code'].values[0]\n",
    "        ads.ix[grp.index.values, 'pt_code'] = found['pt_code'].values[0]"
   ]
  },
  {
   "cell_type": "code",
   "execution_count": null,
   "metadata": {},
   "outputs": [],
   "source": [
    "# ads[(ads.llt_code=='') | (ads.pt_code=='')]['refined'].tolist()\n",
    "# 'illness', 'wind', 'sting','tics','nstemi','herniation','suffering', 'fasting','carcinomtous rash','apoptosis',\n",
    "irrelevant_words = ['withdrawn', 'non-ischaemia', 'illness', 'wind', 'values', 'sting', 'pressure', 'nstemi', 'rage',\\\n",
    " 'hanging', 'windy', 'tics', 'herniation','suffering', 'fasting','carcinomtous rash','apoptosis', 'term birth']\n",
    "for ind, row in ads[(ads.llt_code.isnull()) | (ads.pt_code.isnull())].iterrows():\n",
    "    refined = row['refined']\n",
    "    if refined.strip() in irrelevant_words:\n",
    "        ads.drop(ind, inplace=True)"
   ]
  },
  {
   "cell_type": "code",
   "execution_count": null,
   "metadata": {},
   "outputs": [],
   "source": [
    "ads.reset_index(drop=True)"
   ]
  },
  {
   "cell_type": "code",
   "execution_count": null,
   "metadata": {},
   "outputs": [],
   "source": [
    "# ads[ads.llt_code.isnull()].refined = ads[ads.llt_code.isnull()].refined.apply(lambda x: x.strip())"
   ]
  },
  {
   "cell_type": "code",
   "execution_count": null,
   "metadata": {},
   "outputs": [],
   "source": [
    "ads[ads.llt_code.isnull()]"
   ]
  },
  {
   "cell_type": "code",
   "execution_count": null,
   "metadata": {},
   "outputs": [],
   "source": [
    "# ads[ads.refined=='apnea']"
   ]
  },
  {
   "cell_type": "code",
   "execution_count": null,
   "metadata": {},
   "outputs": [],
   "source": [
    "ads[ads.llt_code.isnull()].refined.unique()#.shape"
   ]
  },
  {
   "cell_type": "code",
   "execution_count": null,
   "metadata": {},
   "outputs": [],
   "source": [
    "# ads[(ads.llt_code=='') | (ads.pt_code.str=='')]\n",
    "ads.isnull().sum()"
   ]
  },
  {
   "cell_type": "code",
   "execution_count": null,
   "metadata": {},
   "outputs": [],
   "source": [
    "ads.shape"
   ]
  },
  {
   "cell_type": "code",
   "execution_count": null,
   "metadata": {},
   "outputs": [],
   "source": [
    "ads[~ads.llt_code.isnull()].shape"
   ]
  },
  {
   "cell_type": "markdown",
   "metadata": {},
   "source": [
    "## Bulk insert"
   ]
  },
  {
   "cell_type": "code",
   "execution_count": null,
   "metadata": {},
   "outputs": [],
   "source": [
    "import os\n",
    "from io import StringIO"
   ]
  },
  {
   "cell_type": "code",
   "execution_count": null,
   "metadata": {},
   "outputs": [],
   "source": [
    "ads.head()"
   ]
  },
  {
   "cell_type": "code",
   "execution_count": null,
   "metadata": {},
   "outputs": [],
   "source": [
    "ads.columns"
   ]
  },
  {
   "cell_type": "code",
   "execution_count": null,
   "metadata": {},
   "outputs": [],
   "source": [
    "ads.columns = ['sent_id', 'llt_code', 'name', 'pt_code', 'refined']\n",
    "ads.head()"
   ]
  },
  {
   "cell_type": "code",
   "execution_count": null,
   "metadata": {},
   "outputs": [],
   "source": [
    "sio = StringIO()\n",
    "sio.write(ads.to_csv(index=None, header=None))\n",
    "sio.seek(0)\n",
    "\n",
    "with conn.cursor() as c:\n",
    "    c.copy_from(sio, \"table_extracted_ad\", columns = ads.columns, sep=',')\n",
    "    conn.commit()"
   ]
  },
  {
   "cell_type": "code",
   "execution_count": null,
   "metadata": {},
   "outputs": [],
   "source": [
    "# ads[(ads.llt_code=='') | (ads.pt_code.str=='')]\n",
    "#ads[(ads.id.isnull())]\n",
    "ads.shape"
   ]
  },
  {
   "cell_type": "code",
   "execution_count": null,
   "metadata": {},
   "outputs": [],
   "source": [
    "ads[ads.refined=='apnea']"
   ]
  },
  {
   "cell_type": "code",
   "execution_count": null,
   "metadata": {},
   "outputs": [],
   "source": [
    "ads[ads.name=='seizures>healthy']\n",
    "# ads.loc[0, 'id']= 2274584"
   ]
  },
  {
   "cell_type": "markdown",
   "metadata": {},
   "source": [
    "### 추가 전처리 필요없는 부작용들은  refined로 입력"
   ]
  },
  {
   "cell_type": "code",
   "execution_count": null,
   "metadata": {},
   "outputs": [],
   "source": [
    "# remove_list.extend([')', '('])\n",
    "# spe_chars = dict((re.escape(str(k)), ' ') for k in remove_list)\n",
    "# sep_pattern = re.compile(\"|\".join(spe_chars.keys()))\n",
    "# int_pattern = re.compile('[0-9]')\n",
    "\n",
    "# for ind, row in ads.iterrows():\n",
    "#     refined = sep_pattern.sub(lambda m: spe_chars[re.escape(m.group(0))], row['name'])\n",
    "#     int_refined = int_pattern.search(row['name'])\n",
    "    \n",
    "#     if refined.strip() == '':\n",
    "#         ads.drop(ind, inplace=True)\n",
    "#     elif row['name'].strip() == refined.strip() and int_refined is None:\n",
    "#         ads.loc[ind]['refined'] = refined\n",
    "#         print(row['name'])\n",
    "#         print(ads.loc[ind]['refined'])\n",
    "#     print('===============================')"
   ]
  },
  {
   "cell_type": "code",
   "execution_count": null,
   "metadata": {},
   "outputs": [],
   "source": [
    "# ads.loc[ads.refined.str.len()>0].shape"
   ]
  },
  {
   "cell_type": "code",
   "execution_count": null,
   "metadata": {},
   "outputs": [],
   "source": [
    "# ads.reset_index(drop=True)"
   ]
  },
  {
   "cell_type": "code",
   "execution_count": null,
   "metadata": {},
   "outputs": [],
   "source": [
    "ads[ads.name.str.find('sudden death')>=0]"
   ]
  },
  {
   "cell_type": "markdown",
   "metadata": {},
   "source": [
    "## 정체된 목록입니다."
   ]
  },
  {
   "cell_type": "code",
   "execution_count": null,
   "metadata": {},
   "outputs": [],
   "source": [
    "# ads.loc[ads.refined.str.strip()!=''].to_csv('./refined_ads_0226.csv', sep=',')"
   ]
  },
  {
   "cell_type": "markdown",
   "metadata": {},
   "source": [
    "## 선생님께 확인 요청을 드리고 싶은 부분"
   ]
  },
  {
   "cell_type": "code",
   "execution_count": null,
   "metadata": {},
   "outputs": [],
   "source": [
    "# ads[ads['refined'] == ''].to_csv('./need_to_refined_ads_0226.csv', sep=',')"
   ]
  },
  {
   "cell_type": "code",
   "execution_count": null,
   "metadata": {},
   "outputs": [],
   "source": []
  }
 ],
 "metadata": {
  "kernelspec": {
   "display_name": "Python 3",
   "language": "python",
   "name": "python3"
  },
  "language_info": {
   "codemirror_mode": {
    "name": "ipython",
    "version": 3
   },
   "file_extension": ".py",
   "mimetype": "text/x-python",
   "name": "python",
   "nbconvert_exporter": "python",
   "pygments_lexer": "ipython3",
   "version": "3.5.2"
  }
 },
 "nbformat": 4,
 "nbformat_minor": 2
}
