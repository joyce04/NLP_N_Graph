{
 "cells": [
  {
   "cell_type": "markdown",
   "metadata": {},
   "source": [
    "### Create True Graph\n",
    "\n",
    "dataset - http://www.geniaproject.org/genia-corpus/relation-corpus"
   ]
  },
  {
   "cell_type": "code",
   "execution_count": 1,
   "metadata": {},
   "outputs": [],
   "source": [
    "# !pip install networkx --user\n",
    "# !pip install pandarallel --user\n",
    "# !pip install swifter --user"
   ]
  },
  {
   "cell_type": "code",
   "execution_count": 2,
   "metadata": {},
   "outputs": [
    {
     "name": "stderr",
     "output_type": "stream",
     "text": [
      "/Users/grace/.local/lib/python3.7/site-packages/tqdm/autonotebook/__init__.py:14: TqdmExperimentalWarning: Using `tqdm.autonotebook.tqdm` in notebook mode. Use `tqdm.tqdm` instead to force console mode (e.g. in jupyter console)\n",
      "  \" (e.g. in jupyter console)\", TqdmExperimentalWarning)\n"
     ]
    }
   ],
   "source": [
    "import os\n",
    "from xml.dom import minidom\n",
    "import pandas as pd\n",
    "# from pandarallel import pandarallel as pl\n",
    "import swifter\n",
    "from compare_util import iterate_greedy, build_graph, compute_pagerank, iterate_pagerank, iterate_random\n",
    "import networkx as nx\n",
    "import operator\n",
    "from random import *\n",
    "import numpy as np\n",
    "\n",
    "pd.set_option('display.max_colwidth', -1)\n",
    "# pl.initialize()\n",
    "# pl.initialize(progress_bar=True)"
   ]
  },
  {
   "cell_type": "code",
   "execution_count": 3,
   "metadata": {},
   "outputs": [
    {
     "name": "stdout",
     "output_type": "stream",
     "text": [
      "2402\n",
      "2402\n",
      "522\n",
      "522\n"
     ]
    }
   ],
   "source": [
    "# file_locs = ['/home/grace/Documents/DAEB/jupyter/dataset/BioNLP-ST_2011_Entity_Relations_training_data']\n",
    "file_locs = ['/Users/grace/workspace/bio_dataset/GENIA_relation_annotation_training_data/BioNLP-ST_2011_Entity_Relations_training_data',\n",
    "            '/Users/grace/workspace/bio_dataset/GENIA_relation_annotation_test_data/BioNLP-ST_2011_Entity_Relations_test_data/']\n",
    "total_proteins = []\n",
    "total_entities = []\n",
    "sents = []\n",
    "for file_loc in file_locs:\n",
    "    medlines = os.listdir(file_loc)\n",
    "    print(len(medlines))\n",
    "#     medlines = list(filter(lambda x: x.endswith('.txt'), medlines))\n",
    "    print(len(medlines))\n",
    "\n",
    "    for med in medlines:\n",
    "        f = open(file_loc+'/'+med, 'r')\n",
    "        if med.endswith('.txt'):\n",
    "            lines = ' '.join(f.readlines()).replace('\\n', ' ')\n",
    "            sents.append({'id':med.replace('.txt', ''),\n",
    "                          'sent':lines.lower()})\n",
    "            \n",
    "        elif med.endswith('.a1'):\n",
    "            entities = {}\n",
    "            for line in f.readlines():\n",
    "                items = line.split('\\t')\n",
    "#                 print(items)\n",
    "#                 entity_type = items[1]\n",
    "#                 entity_value = items[4]\n",
    "                entities[items[2].strip().lower()] = items[1].split(' ')[0].lower()\n",
    "    \n",
    "            total_proteins.append({'id': med.replace('.a1', ''),\n",
    "                             'protein_val': ' *,* '.join(entities.keys()),\n",
    "                             'protein_type': ' *,* '.join(entities.values())})\n",
    "            \n",
    "        elif med.endswith('.rel'):\n",
    "            entities = {}\n",
    "            for line in f.readlines():\n",
    "                if line.startswith('T'):\n",
    "                    items = line.split('\\t')\n",
    "#                     print(items)\n",
    "    #                 entity_type = items[1]\n",
    "    #                 entity_value = items[4]\n",
    "                    entities[items[2].strip().lower()] = items[1].split(' ')[0].lower()\n",
    "    \n",
    "            total_entities.append({'id': med.replace('.rel', ''),\n",
    "                             'entity_val': ' *,* '.join(entities.keys()),\n",
    "                             'entity_type': ' *,* '.join(entities.values())})\n",
    "        f.close()"
   ]
  },
  {
   "cell_type": "code",
   "execution_count": 4,
   "metadata": {},
   "outputs": [
    {
     "name": "stdout",
     "output_type": "stream",
     "text": [
      "(1060, 2)\n"
     ]
    },
    {
     "data": {
      "text/html": [
       "<div>\n",
       "<style scoped>\n",
       "    .dataframe tbody tr th:only-of-type {\n",
       "        vertical-align: middle;\n",
       "    }\n",
       "\n",
       "    .dataframe tbody tr th {\n",
       "        vertical-align: top;\n",
       "    }\n",
       "\n",
       "    .dataframe thead th {\n",
       "        text-align: right;\n",
       "    }\n",
       "</style>\n",
       "<table border=\"1\" class=\"dataframe\">\n",
       "  <thead>\n",
       "    <tr style=\"text-align: right;\">\n",
       "      <th></th>\n",
       "      <th>id</th>\n",
       "      <th>sent</th>\n",
       "    </tr>\n",
       "  </thead>\n",
       "  <tbody>\n",
       "    <tr>\n",
       "      <th>0</th>\n",
       "      <td>PMID-8709209</td>\n",
       "      <td>various modes of basic helix-loop-helix protein-mediated regulation of murine leukemia virus transcription in lymphoid cell lines.   the transcriptionally regulatory regions of the lymphomagenic akv and sl3-3 murine leukemia retroviruses (mlvs) contain two types of e-box consensus motifs, cagatg. one type, ea/s, is located in the upstream promoter region, and the other, e(gre), is located in a tandem repeat with enhancer properties. we have examined the requirements of the individual e-boxes in mlv transcriptional regulation. in lymphoid cell lines only, the e(gre)-binding protein complexes included alf1 or heb and e2a basic helix-loop-helix proteins. ectopic alf1 and e2a proteins required intact e(gre) motifs for mediating transcriptional activation. alf1 transactivated transcription of akv mlv through the two e(gre) motifs equally, whereas e2a protein required the promoter-proximal e(gre) motif. in t- and b-cell lines, the e(gre) motifs were of major importance for akv mlv transcriptional activity, while the ea/s motif had some effect. in contrast, neither e(gre) nor ea/s motifs contributed pronouncedly to akv mlv transcription in nih 3t3 cells lacking dna-binding alf1 or heb and e2a proteins. the id1 protein was found to repress alf1 activity in vitro and in vivo. moreover, ectopic id1 repressed e(gre)-directed but not ea/s-directed mlv transcription in lymphoid cell lines. in conclusion, e(gre) motifs and interacting basic helix-loop-helix proteins are important determinants for mlv transcriptional activity in lymphocytic cell lines.</td>\n",
       "    </tr>\n",
       "    <tr>\n",
       "      <th>1</th>\n",
       "      <td>PMID-1946356</td>\n",
       "      <td>negative regulation of human immunodeficiency virus type 1 expression in monocytes: role of the 65-kda plus 50-kda nf-kappa b dimer.   although monocytic cells can provide a reservoir for viral production in vivo, their regulation of human immunodeficiency virus type 1 (hiv-1) transcription can be either latent, restricted, or productive. these differences in gene expression have not been molecularly defined. in thp-1 cells with restricted hiv expression, there is an absence of dna-protein binding complex formation with the hiv-1 promoter-enhancer associated with markedly less viral rna production. this absence of binding was localized to the nf-kappa b region of the hiv-1 enhancer; the 65-kda plus 50-kda nf-kappa b heterodimer was preferentially lost. adding purified nf-kappa b protein to nuclear extracts from cells with restricted expression overcomes this lack of binding. in addition, treatment of these nuclear extracts with sodium deoxycholate restored their ability to form the heterodimer, suggesting the presence of an inhibitor of nf-kappa b activity. furthermore, treatment of nuclear extracts from these cells that had restricted expression with lipopolysaccharide increased viral production and nf-kappa b activity. antiserum specific for nf-kappa b binding proteins, but not c-rel-specific antiserum, disrupted heterodimer complex formation. thus, both nf-kappa b-binding complexes are needed for optimal viral transcription. binding of the 65-kda plus 50-kda heterodimer to the hiv-1 enhancer can be negatively regulated in monocytes, providing one mechanism restricting hiv-1 gene expression.</td>\n",
       "    </tr>\n",
       "    <tr>\n",
       "      <th>2</th>\n",
       "      <td>PMID-7543515</td>\n",
       "      <td>costimulation of human cd4+ t cells with lfa-3 and b7 induce distinct effects on ap-1 and nf-kappa b transcription factors.   we have earlier shown that stimulation of human cd4+ t cells with sea presented on chinese hamster ovary (cho)-dr transfectants coexpressing either b7 or lfa-3 resulted in distinct cytokine profiles. we now demonstrate that b7, but not lfa-3, strongly costimulated il-2 transcription and mrna expression in cd4+ t cells. maximal increase in il-2 transcription was recorded with cho-dr/b7/lfa-3, suggesting a cooperative effect of b7 and lfa-3 at the transcriptional level. gel-shift analysis demonstrated that stimulation of cd4+ t cells with cho-dr and staphylococcal enterotoxin a was sufficient to induce significant amounts of nf-kappa b binding proteins, whereas induction of ap-1 binding proteins required costimulation. lfa-3 induced moderate levels of ap-1, but did not influence the levels of nf-kappa b, while b7 costimulation strongly induced both ap-1 and substantially enhanced nf-kappa b binding proteins. the cho-dr/b7/lfa-3 triple transfectant induced a further increase in ap-1 and nf-kappa b binding proteins compared with the double transfectants. the level of oct-1 binding proteins remained similar in all samples. super-shift analysis revealed that the nf-kappa b complex of costimulated cd4+ t cells contained large amounts of p50, substantial amounts of p65, and marginal levels of c-rel proteins. the ap-1 binding proteins contained c-jun, jun-d, and fra-1, but marginal amounts of jun-b and c-fos. our results indicate distinct effects of b7 and lfa-3 costimulation on the activity of ap-1 and nf-kappa b. these may partly account for the differential effects of b7 and lfa-3 costimulation on il-2 expression.</td>\n",
       "    </tr>\n",
       "    <tr>\n",
       "      <th>3</th>\n",
       "      <td>PMID-9075924</td>\n",
       "      <td>the t cell activation factor nf-atc positively regulates hiv-1 replication and gene expression in t cells.   clinical deterioration in human immunodeficiency virus type 1 (hiv-1) infection is associated with increased levels of viral replication and burden in the peripheral blood and lymphoid organs. t cell activation and ensuing cellular gene activation can be critical for hiv-1 replication. the hypothesis that the nuclear factor of activated t cells (nf-at) may influence hiv-1 replication is therefore compelling given the tight correlation of hiv-1 transcriptional induction to t cell activation. we report that certain nf-at(rel) family members productively bind the kappab regulatory elements, synergize with nf-kappab and tat in transcriptional activation of hiv-1, and enhance hiv-1 replication in t cells. these results link regulatory factors critical to t cell commitment directly to hiv-1 replication.</td>\n",
       "    </tr>\n",
       "    <tr>\n",
       "      <th>4</th>\n",
       "      <td>PMID-10477683</td>\n",
       "      <td>c-maf induces monocytic differentiation and apoptosis in bipotent myeloid progenitors.   the transcriptional mechanisms that drive colony-forming unit granulocyte-macrophage (cfu-gm) myeloid progenitors to differentiate into cells of either the granulocytic or monocytic lineage are not fully understood. we have shown that the c-maf and c-myb transcription factors physically interact in myeloid cells to form inhibitory complexes that hinder transactivation of c-myb target genes through direct binding to myb consensus sites. these complexes arise in a developmentally regulated pattern, peaking at the promyelocyte stage, or in cell model systems, appearing soon after the induction of monocytic differentiation. we wished to determine if this developmentally related interaction is a consequence of myeloid differentiation or an intrinsic differentiating stimulus. because the elevated myb:maf status seen in differentiating cells can be recapitulated by overexpression of c-maf in myeloid cell lines, we inducibly expressed the c-maf cdna in 2 bipotent human myeloid progenitor cells. elevated levels of c-maf protein led to marked increases in myb:maf complexes and the accumulation of monocyte/macrophage cells, followed by eventual programmed cell death. analysis of targets that could mediate these phenotypic changes indicated that c-maf likely plays a key role in myeloid cell development through dual mechanisms; inhibition of a select set of c-myb regulated targets, such as bcl-2 and cd13/apn, coupled with the activation of as yet undefined differentiation-promoting genes.</td>\n",
       "    </tr>\n",
       "  </tbody>\n",
       "</table>\n",
       "</div>"
      ],
      "text/plain": [
       "              id  \\\n",
       "0  PMID-8709209    \n",
       "1  PMID-1946356    \n",
       "2  PMID-7543515    \n",
       "3  PMID-9075924    \n",
       "4  PMID-10477683   \n",
       "\n",
       "                                                                                                                                                                                                                                                                                                                                                                                                                                                                                                                                                                                                                                                                                                                                                                                                                                                                                                                                                                                                                                                                                                                                                                                                                                                                                                                                                                                                                                                                                                                                                                                                                                                                                                                                                                                                                                 sent  \n",
       "0  various modes of basic helix-loop-helix protein-mediated regulation of murine leukemia virus transcription in lymphoid cell lines.   the transcriptionally regulatory regions of the lymphomagenic akv and sl3-3 murine leukemia retroviruses (mlvs) contain two types of e-box consensus motifs, cagatg. one type, ea/s, is located in the upstream promoter region, and the other, e(gre), is located in a tandem repeat with enhancer properties. we have examined the requirements of the individual e-boxes in mlv transcriptional regulation. in lymphoid cell lines only, the e(gre)-binding protein complexes included alf1 or heb and e2a basic helix-loop-helix proteins. ectopic alf1 and e2a proteins required intact e(gre) motifs for mediating transcriptional activation. alf1 transactivated transcription of akv mlv through the two e(gre) motifs equally, whereas e2a protein required the promoter-proximal e(gre) motif. in t- and b-cell lines, the e(gre) motifs were of major importance for akv mlv transcriptional activity, while the ea/s motif had some effect. in contrast, neither e(gre) nor ea/s motifs contributed pronouncedly to akv mlv transcription in nih 3t3 cells lacking dna-binding alf1 or heb and e2a proteins. the id1 protein was found to repress alf1 activity in vitro and in vivo. moreover, ectopic id1 repressed e(gre)-directed but not ea/s-directed mlv transcription in lymphoid cell lines. in conclusion, e(gre) motifs and interacting basic helix-loop-helix proteins are important determinants for mlv transcriptional activity in lymphocytic cell lines.                                                                                                                                                                                                         \n",
       "1  negative regulation of human immunodeficiency virus type 1 expression in monocytes: role of the 65-kda plus 50-kda nf-kappa b dimer.   although monocytic cells can provide a reservoir for viral production in vivo, their regulation of human immunodeficiency virus type 1 (hiv-1) transcription can be either latent, restricted, or productive. these differences in gene expression have not been molecularly defined. in thp-1 cells with restricted hiv expression, there is an absence of dna-protein binding complex formation with the hiv-1 promoter-enhancer associated with markedly less viral rna production. this absence of binding was localized to the nf-kappa b region of the hiv-1 enhancer; the 65-kda plus 50-kda nf-kappa b heterodimer was preferentially lost. adding purified nf-kappa b protein to nuclear extracts from cells with restricted expression overcomes this lack of binding. in addition, treatment of these nuclear extracts with sodium deoxycholate restored their ability to form the heterodimer, suggesting the presence of an inhibitor of nf-kappa b activity. furthermore, treatment of nuclear extracts from these cells that had restricted expression with lipopolysaccharide increased viral production and nf-kappa b activity. antiserum specific for nf-kappa b binding proteins, but not c-rel-specific antiserum, disrupted heterodimer complex formation. thus, both nf-kappa b-binding complexes are needed for optimal viral transcription. binding of the 65-kda plus 50-kda heterodimer to the hiv-1 enhancer can be negatively regulated in monocytes, providing one mechanism restricting hiv-1 gene expression.                                                                                                                                                \n",
       "2  costimulation of human cd4+ t cells with lfa-3 and b7 induce distinct effects on ap-1 and nf-kappa b transcription factors.   we have earlier shown that stimulation of human cd4+ t cells with sea presented on chinese hamster ovary (cho)-dr transfectants coexpressing either b7 or lfa-3 resulted in distinct cytokine profiles. we now demonstrate that b7, but not lfa-3, strongly costimulated il-2 transcription and mrna expression in cd4+ t cells. maximal increase in il-2 transcription was recorded with cho-dr/b7/lfa-3, suggesting a cooperative effect of b7 and lfa-3 at the transcriptional level. gel-shift analysis demonstrated that stimulation of cd4+ t cells with cho-dr and staphylococcal enterotoxin a was sufficient to induce significant amounts of nf-kappa b binding proteins, whereas induction of ap-1 binding proteins required costimulation. lfa-3 induced moderate levels of ap-1, but did not influence the levels of nf-kappa b, while b7 costimulation strongly induced both ap-1 and substantially enhanced nf-kappa b binding proteins. the cho-dr/b7/lfa-3 triple transfectant induced a further increase in ap-1 and nf-kappa b binding proteins compared with the double transfectants. the level of oct-1 binding proteins remained similar in all samples. super-shift analysis revealed that the nf-kappa b complex of costimulated cd4+ t cells contained large amounts of p50, substantial amounts of p65, and marginal levels of c-rel proteins. the ap-1 binding proteins contained c-jun, jun-d, and fra-1, but marginal amounts of jun-b and c-fos. our results indicate distinct effects of b7 and lfa-3 costimulation on the activity of ap-1 and nf-kappa b. these may partly account for the differential effects of b7 and lfa-3 costimulation on il-2 expression.   \n",
       "3  the t cell activation factor nf-atc positively regulates hiv-1 replication and gene expression in t cells.   clinical deterioration in human immunodeficiency virus type 1 (hiv-1) infection is associated with increased levels of viral replication and burden in the peripheral blood and lymphoid organs. t cell activation and ensuing cellular gene activation can be critical for hiv-1 replication. the hypothesis that the nuclear factor of activated t cells (nf-at) may influence hiv-1 replication is therefore compelling given the tight correlation of hiv-1 transcriptional induction to t cell activation. we report that certain nf-at(rel) family members productively bind the kappab regulatory elements, synergize with nf-kappab and tat in transcriptional activation of hiv-1, and enhance hiv-1 replication in t cells. these results link regulatory factors critical to t cell commitment directly to hiv-1 replication.                                                                                                                                                                                                                                                                                                                                                                                                                                                                                                                                                                                                                                                                                                                                                                                                                                                                               \n",
       "4  c-maf induces monocytic differentiation and apoptosis in bipotent myeloid progenitors.   the transcriptional mechanisms that drive colony-forming unit granulocyte-macrophage (cfu-gm) myeloid progenitors to differentiate into cells of either the granulocytic or monocytic lineage are not fully understood. we have shown that the c-maf and c-myb transcription factors physically interact in myeloid cells to form inhibitory complexes that hinder transactivation of c-myb target genes through direct binding to myb consensus sites. these complexes arise in a developmentally regulated pattern, peaking at the promyelocyte stage, or in cell model systems, appearing soon after the induction of monocytic differentiation. we wished to determine if this developmentally related interaction is a consequence of myeloid differentiation or an intrinsic differentiating stimulus. because the elevated myb:maf status seen in differentiating cells can be recapitulated by overexpression of c-maf in myeloid cell lines, we inducibly expressed the c-maf cdna in 2 bipotent human myeloid progenitor cells. elevated levels of c-maf protein led to marked increases in myb:maf complexes and the accumulation of monocyte/macrophage cells, followed by eventual programmed cell death. analysis of targets that could mediate these phenotypic changes indicated that c-maf likely plays a key role in myeloid cell development through dual mechanisms; inhibition of a select set of c-myb regulated targets, such as bcl-2 and cd13/apn, coupled with the activation of as yet undefined differentiation-promoting genes.                                                                                                                                                                               "
      ]
     },
     "execution_count": 4,
     "metadata": {},
     "output_type": "execute_result"
    }
   ],
   "source": [
    "df_sent = pd.DataFrame(sents)\n",
    "print(df_sent.shape)\n",
    "df_sent.head()\n",
    "# df_sent.sent.isnull()"
   ]
  },
  {
   "cell_type": "code",
   "execution_count": 5,
   "metadata": {},
   "outputs": [
    {
     "data": {
      "text/html": [
       "<div>\n",
       "<style scoped>\n",
       "    .dataframe tbody tr th:only-of-type {\n",
       "        vertical-align: middle;\n",
       "    }\n",
       "\n",
       "    .dataframe tbody tr th {\n",
       "        vertical-align: top;\n",
       "    }\n",
       "\n",
       "    .dataframe thead th {\n",
       "        text-align: right;\n",
       "    }\n",
       "</style>\n",
       "<table border=\"1\" class=\"dataframe\">\n",
       "  <thead>\n",
       "    <tr style=\"text-align: right;\">\n",
       "      <th></th>\n",
       "      <th>id</th>\n",
       "      <th>protein_type</th>\n",
       "      <th>protein_val</th>\n",
       "    </tr>\n",
       "  </thead>\n",
       "  <tbody>\n",
       "    <tr>\n",
       "      <th>0</th>\n",
       "      <td>PMID-8943338</td>\n",
       "      <td>protein *,* protein *,* protein *,* protein *,* protein *,* protein *,* protein *,* protein *,* protein</td>\n",
       "      <td>elf-1 *,* stat5 *,* interleukin-2 receptor alpha *,* interleukin 2 receptor alpha-chain *,* il-2r alpha *,* interleukin 2 *,* il-2 *,* hmg-i(y) *,* cat</td>\n",
       "    </tr>\n",
       "    <tr>\n",
       "      <th>1</th>\n",
       "      <td>PMID-9224203</td>\n",
       "      <td></td>\n",
       "      <td></td>\n",
       "    </tr>\n",
       "    <tr>\n",
       "      <th>2</th>\n",
       "      <td>PMID-1653056</td>\n",
       "      <td>protein *,* protein</td>\n",
       "      <td>tumor necrosis factor alpha *,* tnf alpha</td>\n",
       "    </tr>\n",
       "    <tr>\n",
       "      <th>3</th>\n",
       "      <td>PMID-9872676</td>\n",
       "      <td>protein *,* protein *,* protein *,* protein *,* protein *,* protein</td>\n",
       "      <td>interleukin-10 *,* inhibitory kappab-alpha *,* il-10 *,* tumor necrosis factor-alpha *,* tnf-alpha *,* ikappab-alpha</td>\n",
       "    </tr>\n",
       "    <tr>\n",
       "      <th>4</th>\n",
       "      <td>PMID-8264604</td>\n",
       "      <td>protein *,* protein *,* protein *,* protein</td>\n",
       "      <td>pu.1 *,* macrophage colony-stimulating factor receptor *,* macrophage colony-stimulating factor (m-csf) receptor *,* m-csf receptor</td>\n",
       "    </tr>\n",
       "  </tbody>\n",
       "</table>\n",
       "</div>"
      ],
      "text/plain": [
       "             id  \\\n",
       "0  PMID-8943338   \n",
       "1  PMID-9224203   \n",
       "2  PMID-1653056   \n",
       "3  PMID-9872676   \n",
       "4  PMID-8264604   \n",
       "\n",
       "                                                                                              protein_type  \\\n",
       "0  protein *,* protein *,* protein *,* protein *,* protein *,* protein *,* protein *,* protein *,* protein   \n",
       "1                                                                                                            \n",
       "2  protein *,* protein                                                                                       \n",
       "3  protein *,* protein *,* protein *,* protein *,* protein *,* protein                                       \n",
       "4  protein *,* protein *,* protein *,* protein                                                               \n",
       "\n",
       "                                                                                                                                               protein_val  \n",
       "0  elf-1 *,* stat5 *,* interleukin-2 receptor alpha *,* interleukin 2 receptor alpha-chain *,* il-2r alpha *,* interleukin 2 *,* il-2 *,* hmg-i(y) *,* cat  \n",
       "1                                                                                                                                                           \n",
       "2  tumor necrosis factor alpha *,* tnf alpha                                                                                                                \n",
       "3  interleukin-10 *,* inhibitory kappab-alpha *,* il-10 *,* tumor necrosis factor-alpha *,* tnf-alpha *,* ikappab-alpha                                     \n",
       "4  pu.1 *,* macrophage colony-stimulating factor receptor *,* macrophage colony-stimulating factor (m-csf) receptor *,* m-csf receptor                      "
      ]
     },
     "execution_count": 5,
     "metadata": {},
     "output_type": "execute_result"
    }
   ],
   "source": [
    "df_proteins = pd.DataFrame(total_proteins)\n",
    "df_proteins.head()"
   ]
  },
  {
   "cell_type": "code",
   "execution_count": 6,
   "metadata": {},
   "outputs": [
    {
     "data": {
      "text/html": [
       "<div>\n",
       "<style scoped>\n",
       "    .dataframe tbody tr th:only-of-type {\n",
       "        vertical-align: middle;\n",
       "    }\n",
       "\n",
       "    .dataframe tbody tr th {\n",
       "        vertical-align: top;\n",
       "    }\n",
       "\n",
       "    .dataframe thead th {\n",
       "        text-align: right;\n",
       "    }\n",
       "</style>\n",
       "<table border=\"1\" class=\"dataframe\">\n",
       "  <thead>\n",
       "    <tr style=\"text-align: right;\">\n",
       "      <th></th>\n",
       "      <th>entity_type</th>\n",
       "      <th>entity_val</th>\n",
       "      <th>id</th>\n",
       "    </tr>\n",
       "  </thead>\n",
       "  <tbody>\n",
       "    <tr>\n",
       "      <th>0</th>\n",
       "      <td>entity *,* entity *,* entity *,* entity *,* entity *,* entity *,* entity *,* entity *,* entity</td>\n",
       "      <td>enhancer *,* promoter *,* promoters *,* enhancers *,* its own promoter. *,* immunoglobulin kappa enhancer *,* immunoglobulin heavy chain enhancer *,* kappa gene promoter *,* genes</td>\n",
       "      <td>PMID-1668145</td>\n",
       "    </tr>\n",
       "    <tr>\n",
       "      <th>1</th>\n",
       "      <td>entity *,* entity *,* entity *,* entity</td>\n",
       "      <td>nf-kappa b *,* transcription factor *,* cytokine promoters *,* nf-kappa b-controlled cytokine promoters</td>\n",
       "      <td>PMID-9247567</td>\n",
       "    </tr>\n",
       "    <tr>\n",
       "      <th>2</th>\n",
       "      <td>entity *,* entity *,* entity *,* entity *,* entity *,* entity</td>\n",
       "      <td>human immunodeficiency virus type 1 enhancer *,* site *,* kappa b sites *,* region *,* cd3 *,* cis-acting negative regulatory element</td>\n",
       "      <td>PMID-1533884</td>\n",
       "    </tr>\n",
       "    <tr>\n",
       "      <th>3</th>\n",
       "      <td>entity *,* entity *,* entity</td>\n",
       "      <td>cytokine gene *,* cytokine genes *,* proinflammatory cytokine gene</td>\n",
       "      <td>PMID-8038234</td>\n",
       "    </tr>\n",
       "    <tr>\n",
       "      <th>4</th>\n",
       "      <td>entity *,* entity *,* entity *,* entity</td>\n",
       "      <td>transcriptional complex *,* promoter *,* regulatory element *,* regulatory elements</td>\n",
       "      <td>PMID-7706710</td>\n",
       "    </tr>\n",
       "  </tbody>\n",
       "</table>\n",
       "</div>"
      ],
      "text/plain": [
       "                                                                                      entity_type  \\\n",
       "0  entity *,* entity *,* entity *,* entity *,* entity *,* entity *,* entity *,* entity *,* entity   \n",
       "1  entity *,* entity *,* entity *,* entity                                                          \n",
       "2  entity *,* entity *,* entity *,* entity *,* entity *,* entity                                    \n",
       "3  entity *,* entity *,* entity                                                                     \n",
       "4  entity *,* entity *,* entity *,* entity                                                          \n",
       "\n",
       "                                                                                                                                                                            entity_val  \\\n",
       "0  enhancer *,* promoter *,* promoters *,* enhancers *,* its own promoter. *,* immunoglobulin kappa enhancer *,* immunoglobulin heavy chain enhancer *,* kappa gene promoter *,* genes   \n",
       "1  nf-kappa b *,* transcription factor *,* cytokine promoters *,* nf-kappa b-controlled cytokine promoters                                                                               \n",
       "2  human immunodeficiency virus type 1 enhancer *,* site *,* kappa b sites *,* region *,* cd3 *,* cis-acting negative regulatory element                                                 \n",
       "3  cytokine gene *,* cytokine genes *,* proinflammatory cytokine gene                                                                                                                    \n",
       "4  transcriptional complex *,* promoter *,* regulatory element *,* regulatory elements                                                                                                   \n",
       "\n",
       "             id  \n",
       "0  PMID-1668145  \n",
       "1  PMID-9247567  \n",
       "2  PMID-1533884  \n",
       "3  PMID-8038234  \n",
       "4  PMID-7706710  "
      ]
     },
     "execution_count": 6,
     "metadata": {},
     "output_type": "execute_result"
    }
   ],
   "source": [
    "df_entities = pd.DataFrame(total_entities)\n",
    "df_entities.head()"
   ]
  },
  {
   "cell_type": "markdown",
   "metadata": {},
   "source": [
    "## True Graph with Protein Entities Only"
   ]
  },
  {
   "cell_type": "code",
   "execution_count": 7,
   "metadata": {},
   "outputs": [],
   "source": [
    "pro_entities = []\n",
    "def reorganize_by_entity(row):\n",
    "    val_list = list(filter(lambda x: x.strip(), row['protein_val'].split(' *,* ')))\n",
    "    pro_entities.extend(list(map(lambda x:{'id':row['id'], 'val': x}, val_list)))\n",
    "\n",
    "# %time df_proteins.apply(reorganize_by_entity, axis=1)"
   ]
  },
  {
   "cell_type": "code",
   "execution_count": 8,
   "metadata": {},
   "outputs": [
    {
     "data": {
      "application/vnd.jupyter.widget-view+json": {
       "model_id": "c5661edee32c43fd82f54bea350b9229",
       "version_major": 2,
       "version_minor": 0
      },
      "text/plain": [
       "HBox(children=(IntProgress(value=0, description='Pandas Apply', max=1060, style=ProgressStyle(description_widt…"
      ]
     },
     "metadata": {},
     "output_type": "display_data"
    },
    {
     "name": "stdout",
     "output_type": "stream",
     "text": [
      "\n",
      "CPU times: user 79.3 ms, sys: 5.27 ms, total: 84.5 ms\n",
      "Wall time: 82.4 ms\n"
     ]
    },
    {
     "data": {
      "text/plain": [
       "0       None\n",
       "1       None\n",
       "2       None\n",
       "3       None\n",
       "4       None\n",
       "5       None\n",
       "6       None\n",
       "7       None\n",
       "8       None\n",
       "9       None\n",
       "        ... \n",
       "1050    None\n",
       "1051    None\n",
       "1052    None\n",
       "1053    None\n",
       "1054    None\n",
       "1055    None\n",
       "1056    None\n",
       "1057    None\n",
       "1058    None\n",
       "1059    None\n",
       "Length: 1060, dtype: object"
      ]
     },
     "execution_count": 8,
     "metadata": {},
     "output_type": "execute_result"
    }
   ],
   "source": [
    "%time df_proteins.swifter.apply(reorganize_by_entity, axis=1)"
   ]
  },
  {
   "cell_type": "code",
   "execution_count": 9,
   "metadata": {},
   "outputs": [
    {
     "data": {
      "text/html": [
       "<div>\n",
       "<style scoped>\n",
       "    .dataframe tbody tr th:only-of-type {\n",
       "        vertical-align: middle;\n",
       "    }\n",
       "\n",
       "    .dataframe tbody tr th {\n",
       "        vertical-align: top;\n",
       "    }\n",
       "\n",
       "    .dataframe thead th {\n",
       "        text-align: right;\n",
       "    }\n",
       "</style>\n",
       "<table border=\"1\" class=\"dataframe\">\n",
       "  <thead>\n",
       "    <tr style=\"text-align: right;\">\n",
       "      <th></th>\n",
       "      <th>id</th>\n",
       "      <th>val</th>\n",
       "    </tr>\n",
       "  </thead>\n",
       "  <tbody>\n",
       "    <tr>\n",
       "      <th>0</th>\n",
       "      <td>PMID-8943338</td>\n",
       "      <td>elf-1</td>\n",
       "    </tr>\n",
       "    <tr>\n",
       "      <th>1</th>\n",
       "      <td>PMID-8943338</td>\n",
       "      <td>stat5</td>\n",
       "    </tr>\n",
       "    <tr>\n",
       "      <th>2</th>\n",
       "      <td>PMID-8943338</td>\n",
       "      <td>interleukin-2 receptor alpha</td>\n",
       "    </tr>\n",
       "    <tr>\n",
       "      <th>3</th>\n",
       "      <td>PMID-8943338</td>\n",
       "      <td>interleukin 2 receptor alpha-chain</td>\n",
       "    </tr>\n",
       "    <tr>\n",
       "      <th>4</th>\n",
       "      <td>PMID-8943338</td>\n",
       "      <td>il-2r alpha</td>\n",
       "    </tr>\n",
       "  </tbody>\n",
       "</table>\n",
       "</div>"
      ],
      "text/plain": [
       "             id                                 val\n",
       "0  PMID-8943338  elf-1                             \n",
       "1  PMID-8943338  stat5                             \n",
       "2  PMID-8943338  interleukin-2 receptor alpha      \n",
       "3  PMID-8943338  interleukin 2 receptor alpha-chain\n",
       "4  PMID-8943338  il-2r alpha                       "
      ]
     },
     "execution_count": 9,
     "metadata": {},
     "output_type": "execute_result"
    }
   ],
   "source": [
    "df_pro_entities = pd.DataFrame(pro_entities)\n",
    "df_pro_entities.head()"
   ]
  },
  {
   "cell_type": "code",
   "execution_count": 10,
   "metadata": {},
   "outputs": [
    {
     "data": {
      "text/html": [
       "<div>\n",
       "<style scoped>\n",
       "    .dataframe tbody tr th:only-of-type {\n",
       "        vertical-align: middle;\n",
       "    }\n",
       "\n",
       "    .dataframe tbody tr th {\n",
       "        vertical-align: top;\n",
       "    }\n",
       "\n",
       "    .dataframe thead th {\n",
       "        text-align: right;\n",
       "    }\n",
       "</style>\n",
       "<table border=\"1\" class=\"dataframe\">\n",
       "  <thead>\n",
       "    <tr style=\"text-align: right;\">\n",
       "      <th></th>\n",
       "      <th>id</th>\n",
       "      <th>val</th>\n",
       "    </tr>\n",
       "  </thead>\n",
       "  <tbody>\n",
       "  </tbody>\n",
       "</table>\n",
       "</div>"
      ],
      "text/plain": [
       "Empty DataFrame\n",
       "Columns: [id, val]\n",
       "Index: []"
      ]
     },
     "execution_count": 10,
     "metadata": {},
     "output_type": "execute_result"
    }
   ],
   "source": [
    "df_pro_entities.loc[df_pro_entities.val=='']"
   ]
  },
  {
   "cell_type": "code",
   "execution_count": 11,
   "metadata": {},
   "outputs": [
    {
     "data": {
      "text/plain": [
       "1016"
      ]
     },
     "execution_count": 11,
     "metadata": {},
     "output_type": "execute_result"
    }
   ],
   "source": [
    "#ids = 800\n",
    "len(df_pro_entities.id.unique())"
   ]
  },
  {
   "cell_type": "code",
   "execution_count": 12,
   "metadata": {},
   "outputs": [
    {
     "data": {
      "text/plain": [
       "1824"
      ]
     },
     "execution_count": 12,
     "metadata": {},
     "output_type": "execute_result"
    }
   ],
   "source": [
    "#values = 1540\n",
    "len(df_pro_entities.val.unique())"
   ]
  },
  {
   "cell_type": "code",
   "execution_count": 13,
   "metadata": {},
   "outputs": [
    {
     "data": {
      "text/plain": [
       "(5239, 2)"
      ]
     },
     "execution_count": 13,
     "metadata": {},
     "output_type": "execute_result"
    }
   ],
   "source": [
    "df_pro_entities.shape"
   ]
  },
  {
   "cell_type": "code",
   "execution_count": 14,
   "metadata": {},
   "outputs": [
    {
     "data": {
      "text/html": [
       "<div>\n",
       "<style scoped>\n",
       "    .dataframe tbody tr th:only-of-type {\n",
       "        vertical-align: middle;\n",
       "    }\n",
       "\n",
       "    .dataframe tbody tr th {\n",
       "        vertical-align: top;\n",
       "    }\n",
       "\n",
       "    .dataframe thead th {\n",
       "        text-align: right;\n",
       "    }\n",
       "</style>\n",
       "<table border=\"1\" class=\"dataframe\">\n",
       "  <thead>\n",
       "    <tr style=\"text-align: right;\">\n",
       "      <th></th>\n",
       "      <th>val</th>\n",
       "      <th>count_</th>\n",
       "    </tr>\n",
       "  </thead>\n",
       "  <tbody>\n",
       "    <tr>\n",
       "      <th>850</th>\n",
       "      <td>il-2</td>\n",
       "      <td>158</td>\n",
       "    </tr>\n",
       "    <tr>\n",
       "      <th>1314</th>\n",
       "      <td>p50</td>\n",
       "      <td>109</td>\n",
       "    </tr>\n",
       "    <tr>\n",
       "      <th>1329</th>\n",
       "      <td>p65</td>\n",
       "      <td>106</td>\n",
       "    </tr>\n",
       "    <tr>\n",
       "      <th>1693</th>\n",
       "      <td>tnf-alpha</td>\n",
       "      <td>91</td>\n",
       "    </tr>\n",
       "    <tr>\n",
       "      <th>872</th>\n",
       "      <td>il-4</td>\n",
       "      <td>69</td>\n",
       "    </tr>\n",
       "  </tbody>\n",
       "</table>\n",
       "</div>"
      ],
      "text/plain": [
       "            val  count_\n",
       "850   il-2       158   \n",
       "1314  p50        109   \n",
       "1329  p65        106   \n",
       "1693  tnf-alpha  91    \n",
       "872   il-4       69    "
      ]
     },
     "execution_count": 14,
     "metadata": {},
     "output_type": "execute_result"
    }
   ],
   "source": [
    "df_sorted = df_pro_entities.groupby(df_pro_entities.val).size().reset_index(name='count_').sort_values(['count_'], ascending=False)\n",
    "df_sorted.head()"
   ]
  },
  {
   "cell_type": "code",
   "execution_count": 15,
   "metadata": {},
   "outputs": [
    {
     "data": {
      "text/plain": [
       "(1824, 2)"
      ]
     },
     "execution_count": 15,
     "metadata": {},
     "output_type": "execute_result"
    }
   ],
   "source": [
    "df_sorted.shape"
   ]
  },
  {
   "cell_type": "code",
   "execution_count": 16,
   "metadata": {},
   "outputs": [
    {
     "data": {
      "text/plain": [
       "572"
      ]
     },
     "execution_count": 16,
     "metadata": {},
     "output_type": "execute_result"
    }
   ],
   "source": [
    "once_appeared_values = df_sorted[df_sorted.count_==1].val.unique()\n",
    "len(df_pro_entities.loc[df_pro_entities.val.isin(once_appeared_values)].id.unique())"
   ]
  },
  {
   "cell_type": "code",
   "execution_count": 17,
   "metadata": {},
   "outputs": [],
   "source": [
    "copy_pro_entities = df_pro_entities.copy(deep=True)"
   ]
  },
  {
   "cell_type": "code",
   "execution_count": 18,
   "metadata": {},
   "outputs": [
    {
     "data": {
      "text/html": [
       "<div>\n",
       "<style scoped>\n",
       "    .dataframe tbody tr th:only-of-type {\n",
       "        vertical-align: middle;\n",
       "    }\n",
       "\n",
       "    .dataframe tbody tr th {\n",
       "        vertical-align: top;\n",
       "    }\n",
       "\n",
       "    .dataframe thead th {\n",
       "        text-align: right;\n",
       "    }\n",
       "</style>\n",
       "<table border=\"1\" class=\"dataframe\">\n",
       "  <thead>\n",
       "    <tr style=\"text-align: right;\">\n",
       "      <th></th>\n",
       "      <th>id</th>\n",
       "      <th>val</th>\n",
       "    </tr>\n",
       "  </thead>\n",
       "  <tbody>\n",
       "    <tr>\n",
       "      <th>0</th>\n",
       "      <td>PMID-8943338</td>\n",
       "      <td>elf-1</td>\n",
       "    </tr>\n",
       "    <tr>\n",
       "      <th>1</th>\n",
       "      <td>PMID-8943338</td>\n",
       "      <td>stat5</td>\n",
       "    </tr>\n",
       "    <tr>\n",
       "      <th>2</th>\n",
       "      <td>PMID-8943338</td>\n",
       "      <td>interleukin-2 receptor alpha</td>\n",
       "    </tr>\n",
       "    <tr>\n",
       "      <th>3</th>\n",
       "      <td>PMID-8943338</td>\n",
       "      <td>interleukin 2 receptor alpha-chain</td>\n",
       "    </tr>\n",
       "    <tr>\n",
       "      <th>4</th>\n",
       "      <td>PMID-8943338</td>\n",
       "      <td>il-2r alpha</td>\n",
       "    </tr>\n",
       "  </tbody>\n",
       "</table>\n",
       "</div>"
      ],
      "text/plain": [
       "             id                                 val\n",
       "0  PMID-8943338  elf-1                             \n",
       "1  PMID-8943338  stat5                             \n",
       "2  PMID-8943338  interleukin-2 receptor alpha      \n",
       "3  PMID-8943338  interleukin 2 receptor alpha-chain\n",
       "4  PMID-8943338  il-2r alpha                       "
      ]
     },
     "execution_count": 18,
     "metadata": {},
     "output_type": "execute_result"
    }
   ],
   "source": [
    "copy_pro_entities.head()"
   ]
  },
  {
   "cell_type": "code",
   "execution_count": 19,
   "metadata": {},
   "outputs": [],
   "source": [
    "# def find_most_effective_recursively(copy_df, ordered_vals, i):\n",
    "# #     print(ordered_vals[i])\n",
    "#     found = copy_df.loc[copy_df.val==ordered_vals[i]]\n",
    "# #     print(found)\n",
    "#     if len(found.id.unique()) > 1:\n",
    "#         return find_most_effective_recursively(copy_df.loc[copy_df.id.isin(found.id.unique())], ordered_vals, i+1)\n",
    "#     elif len(found.id.unique()) ==1:\n",
    "#         return found.iloc[0]\n",
    "#     else:\n",
    "# #         print(type(copy_df.groupby(copy_df.id).count().reset_index().sort_values(['val'], ascending=False).loc[0]))\n",
    "#         return copy_df.groupby(copy_df.id).count().reset_index().sort_values(['val'], ascending=False).loc[0]\n",
    "    \n",
    "# # print(find_most_effective_recursively(copy_pro_entities, 3))"
   ]
  },
  {
   "cell_type": "code",
   "execution_count": 20,
   "metadata": {},
   "outputs": [
    {
     "data": {
      "text/plain": [
       "676"
      ]
     },
     "execution_count": 20,
     "metadata": {},
     "output_type": "execute_result"
    }
   ],
   "source": [
    "# def iterate_greedy(ordered_vals, _copy_pro_entities):\n",
    "\n",
    "#     already_annotated = []\n",
    "#     iter_no = 0\n",
    "    \n",
    "#     # 제일 빈도수 높은 entity를 많이 포함하고 있는 문서 부터 annotate\n",
    "#     while(len(_copy_pro_entities)>0):\n",
    "#         val = ordered_vals[0]\n",
    "\n",
    "#         found_df = find_most_effective_recursively(_copy_pro_entities, ordered_vals, 0)\n",
    "#         found_id = found_df.id\n",
    "        \n",
    "#         annotated_keywords = _copy_pro_entities.loc[_copy_pro_entities.id.eq(found_id)].val.unique()\n",
    "#         if len(annotated_keywords)==0:\n",
    "#             annotated_keywords.remove(val)\n",
    "#             continue\n",
    "\n",
    "#         already_annotated.append({'id': found_id, \n",
    "#                                   'keywords': annotated_keywords})\n",
    "\n",
    "#         _copy_pro_entities = _copy_pro_entities.loc[(_copy_pro_entities.id!=found_id) & (~_copy_pro_entities.val.isin(annotated_keywords))]\n",
    "#         _copy_pro_entities.sort_index(inplace=True)\n",
    "\n",
    "#         for an in annotated_keywords:\n",
    "#             ordered_vals.remove(an)\n",
    "#     #     print(len(ordered_vals))\n",
    "#         iter_no += 1\n",
    "\n",
    "#     print(iter_no)\n",
    "#     return iter_no\n",
    "iterate_greedy(list(df_sorted.val.unique()), copy_pro_entities)"
   ]
  },
  {
   "cell_type": "markdown",
   "metadata": {},
   "source": [
    "## PageRank"
   ]
  },
  {
   "cell_type": "code",
   "execution_count": 21,
   "metadata": {},
   "outputs": [],
   "source": [
    "# def generate_edge_weights(_df_pro_entities):\n",
    "#     p_edges = {}\n",
    "#     for val, grp in _df_pro_entities.groupby('val'):\n",
    "#         if len(grp) > 1:\n",
    "#             id_list = grp.id.unique()\n",
    "#             for i in range(len(id_list)-1):\n",
    "#                 if id_list[i]+'|'+id_list[i+1] not in p_edges.keys():\n",
    "#                     p_edges[id_list[i]+'|'+id_list[i+1]] = 1\n",
    "#                 else:\n",
    "#                     p_edges[id_list[i]+'|'+id_list[i+1]] += 1\n",
    "\n",
    "#                 if id_list[i+1]+'|'+id_list[i] not in p_edges.keys():\n",
    "#                     p_edges[id_list[i+1]+'|'+id_list[i]] = 1\n",
    "#                 else:\n",
    "#                     p_edges[id_list[i+1]+'|'+id_list[i]] += 1\n",
    "#     return p_edges\n",
    "\n",
    "# def build_graph(_df_pro_entities):\n",
    "#     G = nx.DiGraph()\n",
    "\n",
    "#     for k in _df_pro_entities.id.unique():\n",
    "#         G.add_node(k)\n",
    "    \n",
    "#     p_edges = generate_edge_weights(_df_pro_entities)\n",
    "#     for key, val in p_edges.items():\n",
    "#     #     print(key)\n",
    "#         keys = key.split('|')\n",
    "#         G.add_edge(keys[0], keys[1], weight=val)\n",
    "\n",
    "#     return G\n",
    "    \n",
    "G = build_graph(df_pro_entities)"
   ]
  },
  {
   "cell_type": "code",
   "execution_count": 22,
   "metadata": {},
   "outputs": [
    {
     "data": {
      "text/plain": [
       "5176"
      ]
     },
     "execution_count": 22,
     "metadata": {},
     "output_type": "execute_result"
    }
   ],
   "source": [
    "# for u, v, d in G.edges(data=True):\n",
    "#     print(d)\n",
    "len(G.edges)"
   ]
  },
  {
   "cell_type": "code",
   "execution_count": 23,
   "metadata": {},
   "outputs": [
    {
     "data": {
      "text/plain": [
       "True"
      ]
     },
     "execution_count": 23,
     "metadata": {},
     "output_type": "execute_result"
    },
    {
     "data": {
      "text/plain": [
       "AtlasView({'PMID-8455941': {'weight': 1}, 'PMID-8955000': {'weight': 1}, 'PMID-7512079': {'weight': 1}, 'PMID-9024987': {'weight': 3}, 'PMID-9686612': {'weight': 1}, 'PMID-7635572': {'weight': 1}, 'PMID-10225979': {'weight': 1}, 'PMID-8206753': {'weight': 4}, 'PMID-7489741': {'weight': 1}, 'PMID-7481768': {'weight': 1}, 'PMID-8709636': {'weight': 2}, 'PMID-10231345': {'weight': 1}, 'PMID-9467376': {'weight': 1}, 'PMID-10224223': {'weight': 1}, 'PMID-8871061': {'weight': 1}})"
      ]
     },
     "execution_count": 23,
     "metadata": {},
     "output_type": "execute_result"
    }
   ],
   "source": [
    "G.has_edge('PMID-8943338', 'PMID-7802642')\n",
    "# G['PMID-7721885']['PMID-7802642']\n",
    "G['PMID-8283032']"
   ]
  },
  {
   "cell_type": "code",
   "execution_count": 24,
   "metadata": {},
   "outputs": [
    {
     "data": {
      "text/plain": [
       "1"
      ]
     },
     "execution_count": 24,
     "metadata": {},
     "output_type": "execute_result"
    },
    {
     "data": {
      "text/plain": [
       "True"
      ]
     },
     "execution_count": 24,
     "metadata": {},
     "output_type": "execute_result"
    }
   ],
   "source": [
    "G.get_edge_data('PMID-7721885', 'PMID-9388475')['weight']\n",
    "G.get_edge_data('PMID-7721885', 'PMID---') is None"
   ]
  },
  {
   "cell_type": "code",
   "execution_count": 25,
   "metadata": {},
   "outputs": [],
   "source": [
    "# nx.draw_networkx(G, pos=nx.circular_layout(G), with_labels=True)"
   ]
  },
  {
   "cell_type": "code",
   "execution_count": 26,
   "metadata": {},
   "outputs": [
    {
     "data": {
      "text/plain": [
       "('PMID-7721885', 0.0009845714930966205)"
      ]
     },
     "execution_count": 26,
     "metadata": {},
     "output_type": "execute_result"
    }
   ],
   "source": [
    "# pageranked_list = nx.pagerank(G, alpha=0.0001)\n",
    "pageranked_list = compute_pagerank(df_pro_entities)\n",
    "max(pageranked_list.items(), key=operator.itemgetter(1))"
   ]
  },
  {
   "cell_type": "code",
   "execution_count": 27,
   "metadata": {},
   "outputs": [
    {
     "data": {
      "text/plain": [
       "('PMID-8195215', 0.0009841598401946804)"
      ]
     },
     "execution_count": 27,
     "metadata": {},
     "output_type": "execute_result"
    }
   ],
   "source": [
    "min(pageranked_list.items(), key=operator.itemgetter(1))"
   ]
  },
  {
   "cell_type": "code",
   "execution_count": 28,
   "metadata": {},
   "outputs": [
    {
     "data": {
      "text/plain": [
       "[('PMID-7721885', 0.0009845714930966205),\n",
       " ('PMID-10339475', 0.0009845538925006422),\n",
       " ('PMID-10233888', 0.0009845537398208634),\n",
       " ('PMID-10097788', 0.0009845115132501513),\n",
       " ('PMID-8513868', 0.000984501088786421),\n",
       " ('PMID-8641346', 0.0009844867915132654),\n",
       " ('PMID-8871617', 0.0009844771382728054),\n",
       " ('PMID-8083467', 0.0009844733209045816),\n",
       " ('PMID-1423591', 0.000984464444547021),\n",
       " ('PMID-8978306', 0.0009844630906406474)]"
      ]
     },
     "execution_count": 28,
     "metadata": {},
     "output_type": "execute_result"
    }
   ],
   "source": [
    "# sorted_pagedranked = sorted(pageranked_list, key=operator.itemgetter(1))\n",
    "sorted_pagedranked = sorted(pageranked_list.items(), key=operator.itemgetter(1), reverse=True)\n",
    "sorted_pagedranked[:10]"
   ]
  },
  {
   "cell_type": "code",
   "execution_count": 29,
   "metadata": {},
   "outputs": [
    {
     "data": {
      "text/plain": [
       "0.0009843788694108581"
      ]
     },
     "execution_count": 29,
     "metadata": {},
     "output_type": "execute_result"
    }
   ],
   "source": [
    "pageranked_list['PMID-8283032']"
   ]
  },
  {
   "cell_type": "code",
   "execution_count": 30,
   "metadata": {},
   "outputs": [
    {
     "data": {
      "text/plain": [
       "1016"
      ]
     },
     "execution_count": 30,
     "metadata": {},
     "output_type": "execute_result"
    }
   ],
   "source": [
    "len(sorted_pagedranked)"
   ]
  },
  {
   "cell_type": "code",
   "execution_count": 31,
   "metadata": {},
   "outputs": [
    {
     "data": {
      "text/plain": [
       "['PMID-7721885',\n",
       " 'PMID-10339475',\n",
       " 'PMID-10233888',\n",
       " 'PMID-10097788',\n",
       " 'PMID-8513868']"
      ]
     },
     "execution_count": 31,
     "metadata": {},
     "output_type": "execute_result"
    }
   ],
   "source": [
    "sort_ranked = list(map(lambda x: x[0], sorted_pagedranked))\n",
    "sort_ranked[:5]"
   ]
  },
  {
   "cell_type": "markdown",
   "metadata": {},
   "source": [
    "## PageRanked order -> Count the number of iteration"
   ]
  },
  {
   "cell_type": "code",
   "execution_count": 32,
   "metadata": {},
   "outputs": [
    {
     "data": {
      "text/plain": [
       "670"
      ]
     },
     "execution_count": 32,
     "metadata": {},
     "output_type": "execute_result"
    }
   ],
   "source": [
    "# def iterate_pagerank(_ordered_vals, _df_pro_entities):\n",
    "#     pageranked_list = compute_pagerank(_df_pro_entities)\n",
    "\n",
    "#     sort_ranked = list(map(lambda x: x[0], sorted(pageranked_list.items(), key=operator.itemgetter(1), reverse=True)))\n",
    "    \n",
    "#     copy_pro_entities = _df_pro_entities.copy(deep=True)\n",
    "\n",
    "#     already_annotated = []\n",
    "#     iter_no = 0\n",
    "#     i = 0\n",
    "\n",
    "#     while(len(copy_pro_entities)>0):\n",
    "#         found_id = sort_ranked[0]\n",
    "\n",
    "#         if len(copy_pro_entities.loc[copy_pro_entities.id.eq(found_id)])==0:\n",
    "#             sort_ranked.remove(found_id)\n",
    "#             continue\n",
    "#         annotated_keywords = copy_pro_entities.loc[copy_pro_entities.id.eq(found_id)].val.unique()        \n",
    "#         already_annotated.append({'id': found_id, \n",
    "#                                   'keywords': annotated_keywords})\n",
    "\n",
    "#         copy_pro_entities = copy_pro_entities.loc[(copy_pro_entities.id!=found_id) & (~copy_pro_entities.val.isin(annotated_keywords))]\n",
    "#         copy_pro_entities.sort_index(inplace=True)\n",
    "#         sort_ranked.remove(found_id)\n",
    "\n",
    "#         for an in annotated_keywords:\n",
    "#             _ordered_vals.remove(an)\n",
    "\n",
    "#         iter_no += 1\n",
    "#     print(iter_no)\n",
    "#     return iter_no\n",
    "\n",
    "iterate_pagerank(list(df_sorted.val.unique()), df_pro_entities)"
   ]
  },
  {
   "cell_type": "code",
   "execution_count": 33,
   "metadata": {},
   "outputs": [],
   "source": [
    "# 'PMID-8943338' in copy_pro_entities.id.unique()\n",
    "# list(filter(lambda x: x[0] in copy_pro_entities.id.unique(), [('PMID-8513868', 0.000984501088786421), ('PMID-8641346', 0.0009844867915132654), ('PMID-8871617', 0.0009844771382728054), ('PMID-8083467', 0.0009844733209045816), ('PMID-1423591', 0.000984464444547021)]))"
   ]
  },
  {
   "cell_type": "code",
   "execution_count": 34,
   "metadata": {},
   "outputs": [
    {
     "data": {
      "text/plain": [
       "5239"
      ]
     },
     "execution_count": 34,
     "metadata": {},
     "output_type": "execute_result"
    }
   ],
   "source": [
    "len(copy_pro_entities)"
   ]
  },
  {
   "cell_type": "markdown",
   "metadata": {},
   "source": [
    "### Random Order"
   ]
  },
  {
   "cell_type": "code",
   "execution_count": 35,
   "metadata": {},
   "outputs": [
    {
     "data": {
      "text/plain": [
       "(5239, 2)"
      ]
     },
     "execution_count": 35,
     "metadata": {},
     "output_type": "execute_result"
    }
   ],
   "source": [
    "copy_pro_entities = df_pro_entities.copy(deep=True)\n",
    "copy_pro_entities.shape"
   ]
  },
  {
   "cell_type": "code",
   "execution_count": 36,
   "metadata": {},
   "outputs": [
    {
     "data": {
      "text/plain": [
       "1016"
      ]
     },
     "execution_count": 36,
     "metadata": {},
     "output_type": "execute_result"
    }
   ],
   "source": [
    "len(copy_pro_entities.id.unique())"
   ]
  },
  {
   "cell_type": "code",
   "execution_count": 37,
   "metadata": {},
   "outputs": [
    {
     "data": {
      "text/plain": [
       "1060"
      ]
     },
     "execution_count": 37,
     "metadata": {},
     "output_type": "execute_result"
    }
   ],
   "source": [
    "len(df_sent.id.unique())"
   ]
  },
  {
   "cell_type": "code",
   "execution_count": 38,
   "metadata": {},
   "outputs": [
    {
     "data": {
      "text/plain": [
       "713"
      ]
     },
     "execution_count": 38,
     "metadata": {},
     "output_type": "execute_result"
    },
    {
     "data": {
      "text/plain": [
       "692"
      ]
     },
     "execution_count": 38,
     "metadata": {},
     "output_type": "execute_result"
    },
    {
     "data": {
      "text/plain": [
       "688"
      ]
     },
     "execution_count": 38,
     "metadata": {},
     "output_type": "execute_result"
    },
    {
     "data": {
      "text/plain": [
       "701"
      ]
     },
     "execution_count": 38,
     "metadata": {},
     "output_type": "execute_result"
    },
    {
     "data": {
      "text/plain": [
       "707"
      ]
     },
     "execution_count": 38,
     "metadata": {},
     "output_type": "execute_result"
    },
    {
     "data": {
      "text/plain": [
       "685"
      ]
     },
     "execution_count": 38,
     "metadata": {},
     "output_type": "execute_result"
    },
    {
     "data": {
      "text/plain": [
       "695"
      ]
     },
     "execution_count": 38,
     "metadata": {},
     "output_type": "execute_result"
    },
    {
     "data": {
      "text/plain": [
       "698"
      ]
     },
     "execution_count": 38,
     "metadata": {},
     "output_type": "execute_result"
    },
    {
     "data": {
      "text/plain": [
       "693"
      ]
     },
     "execution_count": 38,
     "metadata": {},
     "output_type": "execute_result"
    },
    {
     "data": {
      "text/plain": [
       "692"
      ]
     },
     "execution_count": 38,
     "metadata": {},
     "output_type": "execute_result"
    }
   ],
   "source": [
    "# def iterate_random(_ordered_vals, _df_pro_entities, _id_list):\n",
    "#         copy_pro_entities = _df_pro_entities.copy(deep=True)\n",
    "\n",
    "#         already_annotated = []\n",
    "#         iter_no = 0\n",
    "#         while(len(copy_pro_entities)>0):\n",
    "#             ran_id = choice(_id_list)\n",
    "#             _id_list.remove(ran_id)\n",
    "\n",
    "#             if len(copy_pro_entities.loc[copy_pro_entities.id.eq(ran_id)])==0:\n",
    "#                 continue\n",
    "\n",
    "#             annotated_keywords = copy_pro_entities.loc[copy_pro_entities.id.eq(ran_id)].val.unique()\n",
    "#             already_annotated.append({'id': ran_id, \n",
    "#                                       'keywords': annotated_keywords})\n",
    "\n",
    "#             copy_pro_entities = copy_pro_entities.loc[(copy_pro_entities.id!=ran_id) & (~copy_pro_entities.val.isin(annotated_keywords))]\n",
    "#             copy_pro_entities.sort_index(inplace=True)\n",
    "\n",
    "#             for an in annotated_keywords:\n",
    "#                 _ordered_vals.remove(an)\n",
    "#             iter_no += 1\n",
    "        \n",
    "#         print(iter_no)\n",
    "#         return iter_no\n",
    "    \n",
    "for i in range(10):\n",
    "    iterate_random(list(df_sorted.val.unique()), df_pro_entities, list(df_sent.id.unique()))"
   ]
  },
  {
   "cell_type": "markdown",
   "metadata": {},
   "source": [
    "## DDI Dataset"
   ]
  },
  {
   "cell_type": "code",
   "execution_count": 61,
   "metadata": {},
   "outputs": [],
   "source": [
    "file_locs = ['/Users/grace/workspace/bio_dataset/semeval_task9_train_pair/Train/MedLine',\n",
    "            '/Users/grace/workspace/bio_dataset/semeval_task9_train_pair/Train/DrugBank']\n",
    "\n",
    "entities_ddi = []\n",
    "docs = []\n",
    "# entity_types = set()\n",
    "for file_loc in file_locs:\n",
    "    medlines = os.listdir(file_loc)\n",
    "\n",
    "    for med in medlines:\n",
    "        sents = []\n",
    "        entities = []\n",
    "        ent_types = []\n",
    "        \n",
    "        doc = minidom.parse(file_loc+'/'+med)\n",
    "        items = doc.getElementsByTagName('document')\n",
    "        doc_id = items[0].attributes['id'].value\n",
    "\n",
    "        for sent in doc.getElementsByTagName('sentence'):\n",
    "            sent_id = sent.attributes['id'].value\n",
    "            sent_text = sent.attributes['text'].value\n",
    "            if sent_text.strip():\n",
    "                sents.append(sent_text)\n",
    "\n",
    "            # entity(drug)의 갯수가 1보다 클때만\n",
    "            if len(sent.getElementsByTagName('entity')) > 0:\n",
    "                for en in sent.getElementsByTagName('entity'):\n",
    "                    e_type = en.attributes['type'].value\n",
    "#                     entity_types.add(e_type)\n",
    "                    ent_types.append(e_type)\n",
    "                    e_text = en.attributes['text'].value\n",
    "                    entities.append(e_text)\n",
    "#                     'entity_val': ' *,* '.join(entities.keys())\n",
    "                    \n",
    "        docs.append({'id':doc_id, 'sent':'\\n'.join(sents)})\n",
    "        entities_ddi.append({'id':doc_id, 'drug_type':' *,* '.join(ent_types), 'drug_val':' *,* '.join(entities)})"
   ]
  },
  {
   "cell_type": "code",
   "execution_count": 65,
   "metadata": {},
   "outputs": [
    {
     "data": {
      "text/html": [
       "<div>\n",
       "<style scoped>\n",
       "    .dataframe tbody tr th:only-of-type {\n",
       "        vertical-align: middle;\n",
       "    }\n",
       "\n",
       "    .dataframe tbody tr th {\n",
       "        vertical-align: top;\n",
       "    }\n",
       "\n",
       "    .dataframe thead th {\n",
       "        text-align: right;\n",
       "    }\n",
       "</style>\n",
       "<table border=\"1\" class=\"dataframe\">\n",
       "  <thead>\n",
       "    <tr style=\"text-align: right;\">\n",
       "      <th></th>\n",
       "      <th>id</th>\n",
       "      <th>sent</th>\n",
       "    </tr>\n",
       "  </thead>\n",
       "  <tbody>\n",
       "    <tr>\n",
       "      <th>0</th>\n",
       "      <td>DDI-MedLine.d69</td>\n",
       "      <td>Differential regulation of tyrosine phosphorylation in tumor cells by contortrostatin, a homodimeric disintegrin, and monomeric disintegrins echistatin and flavoridin.\\nThe homodimeric disintegrin contortrostatin was compared directly to the monomeric disintegrins echistatin and flavoridin for the ability to affect protein tyrosine phosphorylation in tumor cells. \\nIt was observed that contortrostatin had a dramatic effect on the tyrosine phosphorylation status of several proteins in T24 human bladder cancer cells, including robust induction of phosphorylation of proteins in the range of 120-140 kDa. \\nEchistatin alone had no effect on tyrosine phosphorylation in T24 cells, but dose-dependently inhibits the effects of contortrostatin when both are added simultaneously. \\nAmong the proteins that undergo tyrosine phosphorylation in response to contortrostatin treatment is CAS, a 130 kDa adapter protein involved in integrin signaling. \\nFlavoridin alone was found to have no effect on CAS, but can completely block contortrostatin-induced phosphorylation of this protein in MDA-MB-435 cells. \\nThese observations strongly suggest that the homodimeric structure of contortrostatin functionally distinguishes it from other monomeric members of the disintegrin family.</td>\n",
       "    </tr>\n",
       "    <tr>\n",
       "      <th>1</th>\n",
       "      <td>DDI-MedLine.d141</td>\n",
       "      <td>Toxicity of cadmium and zinc to encystment and in vitro excystment of Parorchis acanthus (Digenea: Philophthalmidae).\\n\\nThe toxicity of cadmium, zinc and cadmium/zinc mixtures at concentrations ranging from 1000 to 50000 microg/l were investigated against cercariae and metacercariae of Parorchis acanthus obtained from the dog whelk Nucella lapillus. \\nCercarial encystment at concentrations of 25000 microg/l or higher was significantly impaired by all test metals; \\nhowever, at lower concentrations only zinc demonstrated toxicity. \\nMixtures of cadmium and zinc had a synergistic effect compared with single metal toxicity but only at 50000 microg/l. \\nExcystment in vitro was only significantly affected by cercariae exposed to cadmium/zinc mixtures whilst encysting. \\nTwenty-four h exposures of fully formed cysts had no effect on excystment in vitro. \\nEffects on in vitro excystment rates over a 2 h period demonstrated widespread effects for cercariae-exposed P. \\nacanthus. \\nNo effects were evident on excystment rates of cyst-exposed parasites.</td>\n",
       "    </tr>\n",
       "    <tr>\n",
       "      <th>2</th>\n",
       "      <td>DDI-MedLine.d125</td>\n",
       "      <td>The mode of toxic action of the pesticide gliftor: the metabolism of 1,3-difluoroacetone to (-)-erythro-fluorocitrate.\\r\\n\\nThe biochemical toxicology of 1,3-difluoroacetone, a known metabolite of the major ingredient of the pesticide Gliftor (1,3-difluoro-2-propanol), was investigated in vivo and in vitro. \\nRat kidney homogenates supplemented with coenzyme A, ATP, oxaloacetate, and Mg2+ converted 1,3-difluoroacetone to (-)-erythro-fluorocitrate in vitro. \\nAdministration of 1,3-difluoroacetone (100 mg kg(-1) body weight) to rats in vivo resulted in (-)-erythro-fluorocitrate synthesis in the kidney, which was preceded by an elevation in fluoride levels and followed by citrate accumulation. \\nAnimals dosed with 1,3-difluoroacetone did not display the 2-3 hour lag phase in either (-)-erythro-fluorocitrate synthesis or in citrate and fluoride accumulation characteristic of animals dosed with 1,3-difluoro-2-propanol. \\nWe demonstrate that the conversion of 1,3-difluoro-2-propanol to 1,3-difluoroacetone by an NAD+-dependent oxidation is the rate-limiting step in the synthesis of the toxic product, (-)-erythro-fluorocitrate from 1,3-difluoro-2-propanol. \\nPrior administration of 4-methylpyrazole (90 mg kg(-1) body weight) was shown to prevent the conversion of 1,3-difluoro-2-propanol (100 mg kg(-1) body weight) to (-)-erythro-fluorocitrate in vivo and to eliminate the fluoride and citrate elevations seen in 1,3-difluoro-2-propanol-intoxicated animals. \\nHowever, administration of 4-methylpyrazole (90 mg kg(-1) body weight) to rats 2 hours prior to 1,3-difluoroacetone (100 mg kg(-1) body weight) was ineffective in preventing (-)-erythro-fluorocitrate synthesis and did not diminish fluoride or citrate accumulation in vivo. \\nWe conclude that the prophylactic and antidotal properties of 4-methylpyrazole seen in animals treated with 1,3-difluoro-2-propanol derive from its capacity to inhibit the NAD+-dependent oxidation responsible for converting 1,3-difluoro-2-propanol to 1,3-difluoroacetone in the committed step of the toxic pathway.</td>\n",
       "    </tr>\n",
       "    <tr>\n",
       "      <th>3</th>\n",
       "      <td>DDI-MedLine.d63</td>\n",
       "      <td>Differential actions of intrathecal naloxone on blocking the tail-flick inhibition induced by intraventricular beta-endorphin and morphine in rats.\\r\\n\\nIn the present study, it is proposed that the opioids applied to supraspinal brain sites produced their analgesic effects by the activation of different descending pain inhibitory systems. \\nThe blockade of the spinal endorphinergic system by intrathecal naloxone on the production of tail-flick inhibition induced by intraventricular beta-endorphin and morphine was then studied. \\nIntraventricular injection of beta-endorphin and morphine produced an inhibition of the tail-flick response to the heat stimulus in rats. \\nIntrathecal injection of naloxone at doses of 0.4 to 40 micrograms caused a dose-related blockade of the inhibition of the tail-flick response induced by intraventricular injection of beta-endorphin, and a high dose of naloxone (40 micrograms) completely blocked the tail-flick inhibition induced by intraventricular beta-endorphin (16 micrograms). \\nOn the other hand, intrathecal naloxone (12-120 micrograms) had only a very weak effect on the tail-flick inhibition induced by intraventricular morphine (40 micrograms). \\nIntraventricular injection of naloxone at doses of 1.2 to 12 micrograms equally antagonized in a dose-dependent manner the tail-flick inhibition induced by intraventricular beta-endorphin and morphine. \\nThe results indicate that a spinal naloxone-sensitive endorphinergic system is involved in the production of beta-endorphin but not morphine-induced tail-flick inhibition, and suggest that intraventricular beta-endorphin and morphine elicit their pharmacological actions via the activation of different descending pain inhibitory systems; \\ndescending epsilon and mu systems for beta-endorphin and morphine, respectively, are proposed.</td>\n",
       "    </tr>\n",
       "    <tr>\n",
       "      <th>4</th>\n",
       "      <td>DDI-MedLine.d33</td>\n",
       "      <td>Determinants of cellular sensitivity to topoisomerase-targeting antitumor drugs.\\nIt is now clear that topoisomerase activity level is an important determinant of sensitivity to topo drugs. \\nThe regulation of topoisomerases is no doubt complex and multifaceted and is probably accomplished through redundancy at many control levels. \\nThe mechanism(s) of altered topo I expression in certain tumor types is unknown, but may be related to the central importance of topoisomerases in proliferating cell functions (transcription, replication, etc.), and the aberrant and chronic activation of these functions as a result of specific tumorigenic alterations. \\nSmall differences in sensitivity to chemotherapy can have a dramatic effect on cure rates, and therefore subtle cell type-specific differences may be important determinants of drug sensitivity. \\nWhether abnormal topoisomerase quantity and specific activity are associated with resistance or sensitivity to topoisomerase-targeted chemotherapy in the clinic is now being studied. \\nDeterminants downstream of cleavable complex formation that affect the sensitivity of tumor versus normal cells to topo drugs in particular and DNA-damaging agents in general are little known. \\nThe goal of enhancing selective tumor cell killing relative to the normal cells that are dose limiting may be achieved either by overcoming tumor cell resistance or by protecting normal cells. \\nBoth of these strategies will become more feasible as specific molecular differences between tumor and normal cells are being rapidly identified and new combination therapies that take advantage of these differences are being designed and tested.</td>\n",
       "    </tr>\n",
       "  </tbody>\n",
       "</table>\n",
       "</div>"
      ],
      "text/plain": [
       "                 id  \\\n",
       "0  DDI-MedLine.d69    \n",
       "1  DDI-MedLine.d141   \n",
       "2  DDI-MedLine.d125   \n",
       "3  DDI-MedLine.d63    \n",
       "4  DDI-MedLine.d33    \n",
       "\n",
       "                                                                                                                                                                                                                                                                                                                                                                                                                                                                                                                                                                                                                                                                                                                                                                                                                                                                                                                                                                                                                                                                                                                                                                                                                                                                                                                                                                                                                                                                                                                                                                                                                                                                                                                                                                                                                                                                                                                                                                                                                                                                                                                                             sent  \n",
       "0  Differential regulation of tyrosine phosphorylation in tumor cells by contortrostatin, a homodimeric disintegrin, and monomeric disintegrins echistatin and flavoridin.\\nThe homodimeric disintegrin contortrostatin was compared directly to the monomeric disintegrins echistatin and flavoridin for the ability to affect protein tyrosine phosphorylation in tumor cells. \\nIt was observed that contortrostatin had a dramatic effect on the tyrosine phosphorylation status of several proteins in T24 human bladder cancer cells, including robust induction of phosphorylation of proteins in the range of 120-140 kDa. \\nEchistatin alone had no effect on tyrosine phosphorylation in T24 cells, but dose-dependently inhibits the effects of contortrostatin when both are added simultaneously. \\nAmong the proteins that undergo tyrosine phosphorylation in response to contortrostatin treatment is CAS, a 130 kDa adapter protein involved in integrin signaling. \\nFlavoridin alone was found to have no effect on CAS, but can completely block contortrostatin-induced phosphorylation of this protein in MDA-MB-435 cells. \\nThese observations strongly suggest that the homodimeric structure of contortrostatin functionally distinguishes it from other monomeric members of the disintegrin family.                                                                                                                                                                                                                                                                                                                                                                                                                                                                                                                                                                                                                                                                                                                                                                                                                    \n",
       "1  Toxicity of cadmium and zinc to encystment and in vitro excystment of Parorchis acanthus (Digenea: Philophthalmidae).\\n\\nThe toxicity of cadmium, zinc and cadmium/zinc mixtures at concentrations ranging from 1000 to 50000 microg/l were investigated against cercariae and metacercariae of Parorchis acanthus obtained from the dog whelk Nucella lapillus. \\nCercarial encystment at concentrations of 25000 microg/l or higher was significantly impaired by all test metals; \\nhowever, at lower concentrations only zinc demonstrated toxicity. \\nMixtures of cadmium and zinc had a synergistic effect compared with single metal toxicity but only at 50000 microg/l. \\nExcystment in vitro was only significantly affected by cercariae exposed to cadmium/zinc mixtures whilst encysting. \\nTwenty-four h exposures of fully formed cysts had no effect on excystment in vitro. \\nEffects on in vitro excystment rates over a 2 h period demonstrated widespread effects for cercariae-exposed P. \\nacanthus. \\nNo effects were evident on excystment rates of cyst-exposed parasites.                                                                                                                                                                                                                                                                                                                                                                                                                                                                                                                                                                                                                                                                                                                                                                                                                                                                                                                                                                                                                                             \n",
       "2  The mode of toxic action of the pesticide gliftor: the metabolism of 1,3-difluoroacetone to (-)-erythro-fluorocitrate.\\r\\n\\nThe biochemical toxicology of 1,3-difluoroacetone, a known metabolite of the major ingredient of the pesticide Gliftor (1,3-difluoro-2-propanol), was investigated in vivo and in vitro. \\nRat kidney homogenates supplemented with coenzyme A, ATP, oxaloacetate, and Mg2+ converted 1,3-difluoroacetone to (-)-erythro-fluorocitrate in vitro. \\nAdministration of 1,3-difluoroacetone (100 mg kg(-1) body weight) to rats in vivo resulted in (-)-erythro-fluorocitrate synthesis in the kidney, which was preceded by an elevation in fluoride levels and followed by citrate accumulation. \\nAnimals dosed with 1,3-difluoroacetone did not display the 2-3 hour lag phase in either (-)-erythro-fluorocitrate synthesis or in citrate and fluoride accumulation characteristic of animals dosed with 1,3-difluoro-2-propanol. \\nWe demonstrate that the conversion of 1,3-difluoro-2-propanol to 1,3-difluoroacetone by an NAD+-dependent oxidation is the rate-limiting step in the synthesis of the toxic product, (-)-erythro-fluorocitrate from 1,3-difluoro-2-propanol. \\nPrior administration of 4-methylpyrazole (90 mg kg(-1) body weight) was shown to prevent the conversion of 1,3-difluoro-2-propanol (100 mg kg(-1) body weight) to (-)-erythro-fluorocitrate in vivo and to eliminate the fluoride and citrate elevations seen in 1,3-difluoro-2-propanol-intoxicated animals. \\nHowever, administration of 4-methylpyrazole (90 mg kg(-1) body weight) to rats 2 hours prior to 1,3-difluoroacetone (100 mg kg(-1) body weight) was ineffective in preventing (-)-erythro-fluorocitrate synthesis and did not diminish fluoride or citrate accumulation in vivo. \\nWe conclude that the prophylactic and antidotal properties of 4-methylpyrazole seen in animals treated with 1,3-difluoro-2-propanol derive from its capacity to inhibit the NAD+-dependent oxidation responsible for converting 1,3-difluoro-2-propanol to 1,3-difluoroacetone in the committed step of the toxic pathway.  \n",
       "3  Differential actions of intrathecal naloxone on blocking the tail-flick inhibition induced by intraventricular beta-endorphin and morphine in rats.\\r\\n\\nIn the present study, it is proposed that the opioids applied to supraspinal brain sites produced their analgesic effects by the activation of different descending pain inhibitory systems. \\nThe blockade of the spinal endorphinergic system by intrathecal naloxone on the production of tail-flick inhibition induced by intraventricular beta-endorphin and morphine was then studied. \\nIntraventricular injection of beta-endorphin and morphine produced an inhibition of the tail-flick response to the heat stimulus in rats. \\nIntrathecal injection of naloxone at doses of 0.4 to 40 micrograms caused a dose-related blockade of the inhibition of the tail-flick response induced by intraventricular injection of beta-endorphin, and a high dose of naloxone (40 micrograms) completely blocked the tail-flick inhibition induced by intraventricular beta-endorphin (16 micrograms). \\nOn the other hand, intrathecal naloxone (12-120 micrograms) had only a very weak effect on the tail-flick inhibition induced by intraventricular morphine (40 micrograms). \\nIntraventricular injection of naloxone at doses of 1.2 to 12 micrograms equally antagonized in a dose-dependent manner the tail-flick inhibition induced by intraventricular beta-endorphin and morphine. \\nThe results indicate that a spinal naloxone-sensitive endorphinergic system is involved in the production of beta-endorphin but not morphine-induced tail-flick inhibition, and suggest that intraventricular beta-endorphin and morphine elicit their pharmacological actions via the activation of different descending pain inhibitory systems; \\ndescending epsilon and mu systems for beta-endorphin and morphine, respectively, are proposed.                                                                                                                                                                                                                                 \n",
       "4  Determinants of cellular sensitivity to topoisomerase-targeting antitumor drugs.\\nIt is now clear that topoisomerase activity level is an important determinant of sensitivity to topo drugs. \\nThe regulation of topoisomerases is no doubt complex and multifaceted and is probably accomplished through redundancy at many control levels. \\nThe mechanism(s) of altered topo I expression in certain tumor types is unknown, but may be related to the central importance of topoisomerases in proliferating cell functions (transcription, replication, etc.), and the aberrant and chronic activation of these functions as a result of specific tumorigenic alterations. \\nSmall differences in sensitivity to chemotherapy can have a dramatic effect on cure rates, and therefore subtle cell type-specific differences may be important determinants of drug sensitivity. \\nWhether abnormal topoisomerase quantity and specific activity are associated with resistance or sensitivity to topoisomerase-targeted chemotherapy in the clinic is now being studied. \\nDeterminants downstream of cleavable complex formation that affect the sensitivity of tumor versus normal cells to topo drugs in particular and DNA-damaging agents in general are little known. \\nThe goal of enhancing selective tumor cell killing relative to the normal cells that are dose limiting may be achieved either by overcoming tumor cell resistance or by protecting normal cells. \\nBoth of these strategies will become more feasible as specific molecular differences between tumor and normal cells are being rapidly identified and new combination therapies that take advantage of these differences are being designed and tested.                                                                                                                                                                                                                                                                                                                                                                                                     "
      ]
     },
     "execution_count": 65,
     "metadata": {},
     "output_type": "execute_result"
    },
    {
     "data": {
      "text/plain": [
       "(714, 2)"
      ]
     },
     "execution_count": 65,
     "metadata": {},
     "output_type": "execute_result"
    }
   ],
   "source": [
    "df_sent_ddi = pd.DataFrame(docs)\n",
    "df_sent_ddi.head()\n",
    "df_sent_ddi.shape"
   ]
  },
  {
   "cell_type": "code",
   "execution_count": 66,
   "metadata": {},
   "outputs": [
    {
     "data": {
      "text/html": [
       "<div>\n",
       "<style scoped>\n",
       "    .dataframe tbody tr th:only-of-type {\n",
       "        vertical-align: middle;\n",
       "    }\n",
       "\n",
       "    .dataframe tbody tr th {\n",
       "        vertical-align: top;\n",
       "    }\n",
       "\n",
       "    .dataframe thead th {\n",
       "        text-align: right;\n",
       "    }\n",
       "</style>\n",
       "<table border=\"1\" class=\"dataframe\">\n",
       "  <thead>\n",
       "    <tr style=\"text-align: right;\">\n",
       "      <th></th>\n",
       "      <th>drug_type</th>\n",
       "      <th>drug_val</th>\n",
       "      <th>id</th>\n",
       "    </tr>\n",
       "  </thead>\n",
       "  <tbody>\n",
       "    <tr>\n",
       "      <th>0</th>\n",
       "      <td>drug_n *,* drug_n *,* drug_n *,* drug_n *,* drug_n *,* drug_n *,* drug_n *,* drug_n *,* drug_n *,* drug_n *,* drug_n *,* drug_n *,* drug_n</td>\n",
       "      <td>contortrostatin *,* echistatin *,* flavoridin *,* contortrostatin *,* echistatin *,* flavoridin *,* contortrostatin *,* Echistatin *,* contortrostatin *,* contortrostatin *,* Flavoridin *,* contortrostatin *,* contortrostatin</td>\n",
       "      <td>DDI-MedLine.d69</td>\n",
       "    </tr>\n",
       "    <tr>\n",
       "      <th>1</th>\n",
       "      <td>drug *,* drug *,* drug *,* drug</td>\n",
       "      <td>zinc *,* zinc *,* zinc *,* zinc</td>\n",
       "      <td>DDI-MedLine.d141</td>\n",
       "    </tr>\n",
       "    <tr>\n",
       "      <th>2</th>\n",
       "      <td>drug_n *,* drug_n *,* drug_n *,* drug_n *,* drug_n *,* drug_n *,* drug_n *,* drug_n *,* drug_n *,* drug_n *,* drug_n *,* drug_n *,* drug_n *,* drug_n *,* drug_n *,* drug_n *,* drug_n *,* drug *,* drug_n *,* drug_n *,* drug_n *,* drug *,* drug_n *,* drug_n *,* drug *,* drug_n *,* drug_n *,* drug_n</td>\n",
       "      <td>gliftor *,* 1,3-difluoroacetone *,* (-)-erythro-fluorocitrate *,* 1,3-difluoroacetone *,* Gliftor *,* 1,3-difluoro-2-propanol *,* 1,3-difluoroacetone *,* (-)-erythro-fluorocitrate *,* 1,3-difluoroacetone *,* (-)-erythro-fluorocitrate *,* 1,3-difluoroacetone *,* (-)-erythro-fluorocitrate *,* 1,3-difluoro-2-propanol *,* 1,3-difluoro-2-propanol *,* 1,3-difluoroacetone *,* (-)-erythro-fluorocitrate *,* 1,3-difluoro-2-propanol *,* 4-methylpyrazole *,* 1,3-difluoro-2-propanol *,* (-)-erythro-fluorocitrate *,* 1,3-difluoro-2-propanol *,* 4-methylpyrazole *,* 1,3-difluoroacetone *,* (-)-erythro-fluorocitrate *,* 4-methylpyrazole *,* 1,3-difluoro-2-propanol *,* 1,3-difluoro-2-propanol *,* 1,3-difluoroacetone</td>\n",
       "      <td>DDI-MedLine.d125</td>\n",
       "    </tr>\n",
       "    <tr>\n",
       "      <th>3</th>\n",
       "      <td>drug *,* drug_n *,* drug *,* group *,* drug *,* drug_n *,* drug *,* drug_n *,* drug *,* drug *,* drug_n *,* drug *,* drug_n *,* drug *,* drug *,* drug *,* drug_n *,* drug *,* drug *,* drug_n *,* drug *,* drug_n *,* drug *,* drug_n *,* drug</td>\n",
       "      <td>naloxone *,* beta-endorphin *,* morphine *,* opioids *,* naloxone *,* beta-endorphin *,* morphine *,* beta-endorphin *,* morphine *,* naloxone *,* beta-endorphin *,* naloxone *,* beta-endorphin *,* naloxone *,* morphine *,* naloxone *,* beta-endorphin *,* morphine *,* naloxone *,* beta-endorphin *,* morphine *,* beta-endorphin *,* morphine *,* beta-endorphin *,* morphine</td>\n",
       "      <td>DDI-MedLine.d63</td>\n",
       "    </tr>\n",
       "    <tr>\n",
       "      <th>4</th>\n",
       "      <td>group</td>\n",
       "      <td>topoisomerase-targeting antitumor drugs</td>\n",
       "      <td>DDI-MedLine.d33</td>\n",
       "    </tr>\n",
       "  </tbody>\n",
       "</table>\n",
       "</div>"
      ],
      "text/plain": [
       "                                                                                                                                                                                                                                                                                                   drug_type  \\\n",
       "0  drug_n *,* drug_n *,* drug_n *,* drug_n *,* drug_n *,* drug_n *,* drug_n *,* drug_n *,* drug_n *,* drug_n *,* drug_n *,* drug_n *,* drug_n                                                                                                                                                                  \n",
       "1  drug *,* drug *,* drug *,* drug                                                                                                                                                                                                                                                                             \n",
       "2  drug_n *,* drug_n *,* drug_n *,* drug_n *,* drug_n *,* drug_n *,* drug_n *,* drug_n *,* drug_n *,* drug_n *,* drug_n *,* drug_n *,* drug_n *,* drug_n *,* drug_n *,* drug_n *,* drug_n *,* drug *,* drug_n *,* drug_n *,* drug_n *,* drug *,* drug_n *,* drug_n *,* drug *,* drug_n *,* drug_n *,* drug_n   \n",
       "3  drug *,* drug_n *,* drug *,* group *,* drug *,* drug_n *,* drug *,* drug_n *,* drug *,* drug *,* drug_n *,* drug *,* drug_n *,* drug *,* drug *,* drug *,* drug_n *,* drug *,* drug *,* drug_n *,* drug *,* drug_n *,* drug *,* drug_n *,* drug                                                             \n",
       "4  group                                                                                                                                                                                                                                                                                                       \n",
       "\n",
       "                                                                                                                                                                                                                                                                                                                                                                                                                                                                                                                                                                                                                                                                                                                               drug_val  \\\n",
       "0  contortrostatin *,* echistatin *,* flavoridin *,* contortrostatin *,* echistatin *,* flavoridin *,* contortrostatin *,* Echistatin *,* contortrostatin *,* contortrostatin *,* Flavoridin *,* contortrostatin *,* contortrostatin                                                                                                                                                                                                                                                                                                                                                                                                                                                                                                      \n",
       "1  zinc *,* zinc *,* zinc *,* zinc                                                                                                                                                                                                                                                                                                                                                                                                                                                                                                                                                                                                                                                                                                        \n",
       "2  gliftor *,* 1,3-difluoroacetone *,* (-)-erythro-fluorocitrate *,* 1,3-difluoroacetone *,* Gliftor *,* 1,3-difluoro-2-propanol *,* 1,3-difluoroacetone *,* (-)-erythro-fluorocitrate *,* 1,3-difluoroacetone *,* (-)-erythro-fluorocitrate *,* 1,3-difluoroacetone *,* (-)-erythro-fluorocitrate *,* 1,3-difluoro-2-propanol *,* 1,3-difluoro-2-propanol *,* 1,3-difluoroacetone *,* (-)-erythro-fluorocitrate *,* 1,3-difluoro-2-propanol *,* 4-methylpyrazole *,* 1,3-difluoro-2-propanol *,* (-)-erythro-fluorocitrate *,* 1,3-difluoro-2-propanol *,* 4-methylpyrazole *,* 1,3-difluoroacetone *,* (-)-erythro-fluorocitrate *,* 4-methylpyrazole *,* 1,3-difluoro-2-propanol *,* 1,3-difluoro-2-propanol *,* 1,3-difluoroacetone   \n",
       "3  naloxone *,* beta-endorphin *,* morphine *,* opioids *,* naloxone *,* beta-endorphin *,* morphine *,* beta-endorphin *,* morphine *,* naloxone *,* beta-endorphin *,* naloxone *,* beta-endorphin *,* naloxone *,* morphine *,* naloxone *,* beta-endorphin *,* morphine *,* naloxone *,* beta-endorphin *,* morphine *,* beta-endorphin *,* morphine *,* beta-endorphin *,* morphine                                                                                                                                                                                                                                                                                                                                                  \n",
       "4  topoisomerase-targeting antitumor drugs                                                                                                                                                                                                                                                                                                                                                                                                                                                                                                                                                                                                                                                                                                \n",
       "\n",
       "                 id  \n",
       "0  DDI-MedLine.d69   \n",
       "1  DDI-MedLine.d141  \n",
       "2  DDI-MedLine.d125  \n",
       "3  DDI-MedLine.d63   \n",
       "4  DDI-MedLine.d33   "
      ]
     },
     "execution_count": 66,
     "metadata": {},
     "output_type": "execute_result"
    }
   ],
   "source": [
    "df_drugs = pd.DataFrame(entities_ddi)\n",
    "df_drugs.head()"
   ]
  },
  {
   "cell_type": "code",
   "execution_count": 69,
   "metadata": {},
   "outputs": [
    {
     "data": {
      "application/vnd.jupyter.widget-view+json": {
       "model_id": "07b6bf4b90974fc2bb50d69d218f4753",
       "version_major": 2,
       "version_minor": 0
      },
      "text/plain": [
       "HBox(children=(IntProgress(value=0, description='Pandas Apply', max=714, style=ProgressStyle(description_width…"
      ]
     },
     "metadata": {},
     "output_type": "display_data"
    },
    {
     "name": "stdout",
     "output_type": "stream",
     "text": [
      "\n",
      "CPU times: user 149 ms, sys: 5.3 ms, total: 155 ms\n",
      "Wall time: 152 ms\n"
     ]
    },
    {
     "data": {
      "text/plain": [
       "0      None\n",
       "1      None\n",
       "2      None\n",
       "3      None\n",
       "4      None\n",
       "5      None\n",
       "6      None\n",
       "7      None\n",
       "8      None\n",
       "9      None\n",
       "       ... \n",
       "704    None\n",
       "705    None\n",
       "706    None\n",
       "707    None\n",
       "708    None\n",
       "709    None\n",
       "710    None\n",
       "711    None\n",
       "712    None\n",
       "713    None\n",
       "Length: 714, dtype: object"
      ]
     },
     "execution_count": 69,
     "metadata": {},
     "output_type": "execute_result"
    }
   ],
   "source": [
    "drug_entities = []\n",
    "def reorganize_by_entity(row):\n",
    "    val_list = list(filter(lambda x: x.strip(), row['drug_val'].split(' *,* ')))\n",
    "    drug_entities.extend(list(map(lambda x:{'id':row['id'], 'val': x}, val_list)))\n",
    "\n",
    "%time df_drugs.swifter.apply(reorganize_by_entity, axis=1)"
   ]
  },
  {
   "cell_type": "code",
   "execution_count": 70,
   "metadata": {},
   "outputs": [
    {
     "data": {
      "text/html": [
       "<div>\n",
       "<style scoped>\n",
       "    .dataframe tbody tr th:only-of-type {\n",
       "        vertical-align: middle;\n",
       "    }\n",
       "\n",
       "    .dataframe tbody tr th {\n",
       "        vertical-align: top;\n",
       "    }\n",
       "\n",
       "    .dataframe thead th {\n",
       "        text-align: right;\n",
       "    }\n",
       "</style>\n",
       "<table border=\"1\" class=\"dataframe\">\n",
       "  <thead>\n",
       "    <tr style=\"text-align: right;\">\n",
       "      <th></th>\n",
       "      <th>id</th>\n",
       "      <th>val</th>\n",
       "    </tr>\n",
       "  </thead>\n",
       "  <tbody>\n",
       "    <tr>\n",
       "      <th>0</th>\n",
       "      <td>DDI-MedLine.d69</td>\n",
       "      <td>contortrostatin</td>\n",
       "    </tr>\n",
       "    <tr>\n",
       "      <th>1</th>\n",
       "      <td>DDI-MedLine.d69</td>\n",
       "      <td>echistatin</td>\n",
       "    </tr>\n",
       "    <tr>\n",
       "      <th>2</th>\n",
       "      <td>DDI-MedLine.d69</td>\n",
       "      <td>flavoridin</td>\n",
       "    </tr>\n",
       "    <tr>\n",
       "      <th>3</th>\n",
       "      <td>DDI-MedLine.d69</td>\n",
       "      <td>contortrostatin</td>\n",
       "    </tr>\n",
       "    <tr>\n",
       "      <th>4</th>\n",
       "      <td>DDI-MedLine.d69</td>\n",
       "      <td>echistatin</td>\n",
       "    </tr>\n",
       "  </tbody>\n",
       "</table>\n",
       "</div>"
      ],
      "text/plain": [
       "                id              val\n",
       "0  DDI-MedLine.d69  contortrostatin\n",
       "1  DDI-MedLine.d69  echistatin     \n",
       "2  DDI-MedLine.d69  flavoridin     \n",
       "3  DDI-MedLine.d69  contortrostatin\n",
       "4  DDI-MedLine.d69  echistatin     "
      ]
     },
     "execution_count": 70,
     "metadata": {},
     "output_type": "execute_result"
    }
   ],
   "source": [
    "df_drug_entities = pd.DataFrame(drug_entities)\n",
    "df_drug_entities.head()"
   ]
  },
  {
   "cell_type": "code",
   "execution_count": 72,
   "metadata": {},
   "outputs": [
    {
     "data": {
      "text/html": [
       "<div>\n",
       "<style scoped>\n",
       "    .dataframe tbody tr th:only-of-type {\n",
       "        vertical-align: middle;\n",
       "    }\n",
       "\n",
       "    .dataframe tbody tr th {\n",
       "        vertical-align: top;\n",
       "    }\n",
       "\n",
       "    .dataframe thead th {\n",
       "        text-align: right;\n",
       "    }\n",
       "</style>\n",
       "<table border=\"1\" class=\"dataframe\">\n",
       "  <thead>\n",
       "    <tr style=\"text-align: right;\">\n",
       "      <th></th>\n",
       "      <th>val</th>\n",
       "      <th>count_</th>\n",
       "    </tr>\n",
       "  </thead>\n",
       "  <tbody>\n",
       "    <tr>\n",
       "      <th>2956</th>\n",
       "      <td>warfarin</td>\n",
       "      <td>212</td>\n",
       "    </tr>\n",
       "    <tr>\n",
       "      <th>1906</th>\n",
       "      <td>digoxin</td>\n",
       "      <td>209</td>\n",
       "    </tr>\n",
       "    <tr>\n",
       "      <th>2572</th>\n",
       "      <td>phenytoin</td>\n",
       "      <td>176</td>\n",
       "    </tr>\n",
       "    <tr>\n",
       "      <th>2838</th>\n",
       "      <td>theophylline</td>\n",
       "      <td>146</td>\n",
       "    </tr>\n",
       "    <tr>\n",
       "      <th>2278</th>\n",
       "      <td>lithium</td>\n",
       "      <td>120</td>\n",
       "    </tr>\n",
       "  </tbody>\n",
       "</table>\n",
       "</div>"
      ],
      "text/plain": [
       "               val  count_\n",
       "2956  warfarin      212   \n",
       "1906  digoxin       209   \n",
       "2572  phenytoin     176   \n",
       "2838  theophylline  146   \n",
       "2278  lithium       120   "
      ]
     },
     "execution_count": 72,
     "metadata": {},
     "output_type": "execute_result"
    }
   ],
   "source": [
    "df_sorted = df_drug_entities.groupby(df_drug_entities.val).size().reset_index(name='count_').sort_values(['count_'], ascending=False)\n",
    "df_sorted.head()"
   ]
  },
  {
   "cell_type": "code",
   "execution_count": 76,
   "metadata": {},
   "outputs": [
    {
     "name": "stdout",
     "output_type": "stream",
     "text": [
      "greedy\n"
     ]
    },
    {
     "data": {
      "text/plain": [
       "605"
      ]
     },
     "execution_count": 76,
     "metadata": {},
     "output_type": "execute_result"
    },
    {
     "name": "stdout",
     "output_type": "stream",
     "text": [
      "pagerank\n"
     ]
    },
    {
     "data": {
      "text/plain": [
       "596"
      ]
     },
     "execution_count": 76,
     "metadata": {},
     "output_type": "execute_result"
    },
    {
     "name": "stdout",
     "output_type": "stream",
     "text": [
      "random\n"
     ]
    },
    {
     "data": {
      "text/plain": [
       "617"
      ]
     },
     "execution_count": 76,
     "metadata": {},
     "output_type": "execute_result"
    },
    {
     "name": "stdout",
     "output_type": "stream",
     "text": [
      "greedy\n"
     ]
    },
    {
     "data": {
      "text/plain": [
       "605"
      ]
     },
     "execution_count": 76,
     "metadata": {},
     "output_type": "execute_result"
    },
    {
     "name": "stdout",
     "output_type": "stream",
     "text": [
      "pagerank\n"
     ]
    },
    {
     "data": {
      "text/plain": [
       "596"
      ]
     },
     "execution_count": 76,
     "metadata": {},
     "output_type": "execute_result"
    },
    {
     "name": "stdout",
     "output_type": "stream",
     "text": [
      "random\n"
     ]
    },
    {
     "data": {
      "text/plain": [
       "614"
      ]
     },
     "execution_count": 76,
     "metadata": {},
     "output_type": "execute_result"
    },
    {
     "name": "stdout",
     "output_type": "stream",
     "text": [
      "greedy\n"
     ]
    },
    {
     "data": {
      "text/plain": [
       "605"
      ]
     },
     "execution_count": 76,
     "metadata": {},
     "output_type": "execute_result"
    },
    {
     "name": "stdout",
     "output_type": "stream",
     "text": [
      "pagerank\n"
     ]
    },
    {
     "data": {
      "text/plain": [
       "596"
      ]
     },
     "execution_count": 76,
     "metadata": {},
     "output_type": "execute_result"
    },
    {
     "name": "stdout",
     "output_type": "stream",
     "text": [
      "random\n"
     ]
    },
    {
     "data": {
      "text/plain": [
       "614"
      ]
     },
     "execution_count": 76,
     "metadata": {},
     "output_type": "execute_result"
    },
    {
     "name": "stdout",
     "output_type": "stream",
     "text": [
      "greedy\n"
     ]
    },
    {
     "data": {
      "text/plain": [
       "605"
      ]
     },
     "execution_count": 76,
     "metadata": {},
     "output_type": "execute_result"
    },
    {
     "name": "stdout",
     "output_type": "stream",
     "text": [
      "pagerank\n"
     ]
    },
    {
     "data": {
      "text/plain": [
       "596"
      ]
     },
     "execution_count": 76,
     "metadata": {},
     "output_type": "execute_result"
    },
    {
     "name": "stdout",
     "output_type": "stream",
     "text": [
      "random\n"
     ]
    },
    {
     "data": {
      "text/plain": [
       "618"
      ]
     },
     "execution_count": 76,
     "metadata": {},
     "output_type": "execute_result"
    },
    {
     "name": "stdout",
     "output_type": "stream",
     "text": [
      "greedy\n"
     ]
    },
    {
     "data": {
      "text/plain": [
       "605"
      ]
     },
     "execution_count": 76,
     "metadata": {},
     "output_type": "execute_result"
    },
    {
     "name": "stdout",
     "output_type": "stream",
     "text": [
      "pagerank\n"
     ]
    },
    {
     "data": {
      "text/plain": [
       "596"
      ]
     },
     "execution_count": 76,
     "metadata": {},
     "output_type": "execute_result"
    },
    {
     "name": "stdout",
     "output_type": "stream",
     "text": [
      "random\n"
     ]
    },
    {
     "data": {
      "text/plain": [
       "620"
      ]
     },
     "execution_count": 76,
     "metadata": {},
     "output_type": "execute_result"
    },
    {
     "name": "stdout",
     "output_type": "stream",
     "text": [
      "greedy\n"
     ]
    },
    {
     "data": {
      "text/plain": [
       "605"
      ]
     },
     "execution_count": 76,
     "metadata": {},
     "output_type": "execute_result"
    },
    {
     "name": "stdout",
     "output_type": "stream",
     "text": [
      "pagerank\n"
     ]
    },
    {
     "data": {
      "text/plain": [
       "596"
      ]
     },
     "execution_count": 76,
     "metadata": {},
     "output_type": "execute_result"
    },
    {
     "name": "stdout",
     "output_type": "stream",
     "text": [
      "random\n"
     ]
    },
    {
     "data": {
      "text/plain": [
       "615"
      ]
     },
     "execution_count": 76,
     "metadata": {},
     "output_type": "execute_result"
    },
    {
     "name": "stdout",
     "output_type": "stream",
     "text": [
      "greedy\n"
     ]
    },
    {
     "data": {
      "text/plain": [
       "605"
      ]
     },
     "execution_count": 76,
     "metadata": {},
     "output_type": "execute_result"
    },
    {
     "name": "stdout",
     "output_type": "stream",
     "text": [
      "pagerank\n"
     ]
    },
    {
     "data": {
      "text/plain": [
       "596"
      ]
     },
     "execution_count": 76,
     "metadata": {},
     "output_type": "execute_result"
    },
    {
     "name": "stdout",
     "output_type": "stream",
     "text": [
      "random\n"
     ]
    },
    {
     "data": {
      "text/plain": [
       "618"
      ]
     },
     "execution_count": 76,
     "metadata": {},
     "output_type": "execute_result"
    },
    {
     "name": "stdout",
     "output_type": "stream",
     "text": [
      "greedy\n"
     ]
    },
    {
     "data": {
      "text/plain": [
       "605"
      ]
     },
     "execution_count": 76,
     "metadata": {},
     "output_type": "execute_result"
    },
    {
     "name": "stdout",
     "output_type": "stream",
     "text": [
      "pagerank\n"
     ]
    },
    {
     "data": {
      "text/plain": [
       "596"
      ]
     },
     "execution_count": 76,
     "metadata": {},
     "output_type": "execute_result"
    },
    {
     "name": "stdout",
     "output_type": "stream",
     "text": [
      "random\n"
     ]
    },
    {
     "data": {
      "text/plain": [
       "618"
      ]
     },
     "execution_count": 76,
     "metadata": {},
     "output_type": "execute_result"
    },
    {
     "name": "stdout",
     "output_type": "stream",
     "text": [
      "greedy\n"
     ]
    },
    {
     "data": {
      "text/plain": [
       "605"
      ]
     },
     "execution_count": 76,
     "metadata": {},
     "output_type": "execute_result"
    },
    {
     "name": "stdout",
     "output_type": "stream",
     "text": [
      "pagerank\n"
     ]
    },
    {
     "data": {
      "text/plain": [
       "596"
      ]
     },
     "execution_count": 76,
     "metadata": {},
     "output_type": "execute_result"
    },
    {
     "name": "stdout",
     "output_type": "stream",
     "text": [
      "random\n"
     ]
    },
    {
     "data": {
      "text/plain": [
       "618"
      ]
     },
     "execution_count": 76,
     "metadata": {},
     "output_type": "execute_result"
    },
    {
     "name": "stdout",
     "output_type": "stream",
     "text": [
      "greedy\n"
     ]
    },
    {
     "data": {
      "text/plain": [
       "605"
      ]
     },
     "execution_count": 76,
     "metadata": {},
     "output_type": "execute_result"
    },
    {
     "name": "stdout",
     "output_type": "stream",
     "text": [
      "pagerank\n"
     ]
    },
    {
     "data": {
      "text/plain": [
       "596"
      ]
     },
     "execution_count": 76,
     "metadata": {},
     "output_type": "execute_result"
    },
    {
     "name": "stdout",
     "output_type": "stream",
     "text": [
      "random\n"
     ]
    },
    {
     "data": {
      "text/plain": [
       "621"
      ]
     },
     "execution_count": 76,
     "metadata": {},
     "output_type": "execute_result"
    }
   ],
   "source": [
    "for i in range(10):\n",
    "    copy_drug_entities = df_drug_entities.copy(deep=True)\n",
    "    \n",
    "    print('greedy')\n",
    "    iterate_greedy(list(df_sorted.val.unique()), copy_drug_entities)\n",
    "    print('pagerank')    \n",
    "    iterate_pagerank(list(df_sorted.val.unique()), copy_drug_entities)\n",
    "    print('random')\n",
    "    iterate_random(list(df_sorted.val.unique()), copy_drug_entities, list(df_sent_ddi.id.unique()))"
   ]
  },
  {
   "cell_type": "code",
   "execution_count": 110,
   "metadata": {},
   "outputs": [],
   "source": [
    "file_locs = ['/Users/grace/workspace/bio_dataset/CONLL2003']\n",
    "\n",
    "\n",
    "entity_types = set()\n",
    "entities_cornell = []\n",
    "sent_id = 0\n",
    "for file_loc in file_locs:\n",
    "    medlines = list(filter(lambda x: x.endswith('.txt'), os.listdir(file_loc)))\n",
    "\n",
    "    sents = []\n",
    "    for med in medlines:\n",
    "        f = open(file_loc+'/'+med, 'r')\n",
    "        lines = f.readlines()[1:]\n",
    "        \n",
    "        sent = ''\n",
    "        entities = []\n",
    "        ent_types = []\n",
    "        for l in lines:\n",
    "            l = l.replace('\\n', '')\n",
    "            if l.strip():\n",
    "                ll = l.split(' ')\n",
    "                sent += ' '+ll[0]\n",
    "                entity_types.add(ll[3])\n",
    "                \n",
    "                if ll[3].startswith('B'):\n",
    "                    entities.append(ll[0])\n",
    "                    ent_types.append(ll[3].replace('B-', ''))\n",
    "                elif ll[3].startswith('I'):\n",
    "                    entities[len(entities)-1] = entities[len(entities)-1] + ' ' + ll[0]\n",
    "\n",
    "                if ll[0]=='.':\n",
    "                    sents.append({'id':'cor_'+str(sent_id), 'sent':sent.strip()})\n",
    "                    sent = ''\n",
    "                    sent_id += 1\n",
    "                    entities_cornell.append({'id':'cor_'+str(sent_id), 'en_type':' *,* '.join(ent_types), 'en_val':' *,* '.join(entities)})\n",
    "                    \n",
    "                    entities = []\n",
    "                    ent_types = []"
   ]
  },
  {
   "cell_type": "code",
   "execution_count": 111,
   "metadata": {},
   "outputs": [
    {
     "data": {
      "text/plain": [
       "{'B-LOC', 'B-MISC', 'B-ORG', 'B-PER', 'I-LOC', 'I-MISC', 'I-ORG', 'I-PER', 'O'}"
      ]
     },
     "execution_count": 111,
     "metadata": {},
     "output_type": "execute_result"
    }
   ],
   "source": [
    "entity_types"
   ]
  },
  {
   "cell_type": "code",
   "execution_count": 112,
   "metadata": {},
   "outputs": [
    {
     "data": {
      "text/html": [
       "<div>\n",
       "<style scoped>\n",
       "    .dataframe tbody tr th:only-of-type {\n",
       "        vertical-align: middle;\n",
       "    }\n",
       "\n",
       "    .dataframe tbody tr th {\n",
       "        vertical-align: top;\n",
       "    }\n",
       "\n",
       "    .dataframe thead th {\n",
       "        text-align: right;\n",
       "    }\n",
       "</style>\n",
       "<table border=\"1\" class=\"dataframe\">\n",
       "  <thead>\n",
       "    <tr style=\"text-align: right;\">\n",
       "      <th></th>\n",
       "      <th>id</th>\n",
       "      <th>sent</th>\n",
       "    </tr>\n",
       "  </thead>\n",
       "  <tbody>\n",
       "    <tr>\n",
       "      <th>0</th>\n",
       "      <td>cor_0</td>\n",
       "      <td>EU rejects German call to boycott British lamb .</td>\n",
       "    </tr>\n",
       "    <tr>\n",
       "      <th>1</th>\n",
       "      <td>cor_1</td>\n",
       "      <td>Peter Blackburn BRUSSELS 1996-08-22 The European Commission said on Thursday it disagreed with German advice to consumers to shun British lamb until scientists determine whether mad cow disease can be transmitted to sheep .</td>\n",
       "    </tr>\n",
       "    <tr>\n",
       "      <th>2</th>\n",
       "      <td>cor_2</td>\n",
       "      <td>Germany 's representative to the European Union 's veterinary committee Werner Zwingmann said on Wednesday consumers should buy sheepmeat from countries other than Britain until the scientific advice was clearer .</td>\n",
       "    </tr>\n",
       "    <tr>\n",
       "      <th>3</th>\n",
       "      <td>cor_3</td>\n",
       "      <td>\" We do n't support any such recommendation because we do n't see any grounds for it , \" the Commission 's chief spokesman Nikolaus van der Pas told a news briefing .</td>\n",
       "    </tr>\n",
       "    <tr>\n",
       "      <th>4</th>\n",
       "      <td>cor_4</td>\n",
       "      <td>He said further scientific study was required and if it was found that action was needed it should be taken by the European Union .</td>\n",
       "    </tr>\n",
       "  </tbody>\n",
       "</table>\n",
       "</div>"
      ],
      "text/plain": [
       "      id  \\\n",
       "0  cor_0   \n",
       "1  cor_1   \n",
       "2  cor_2   \n",
       "3  cor_3   \n",
       "4  cor_4   \n",
       "\n",
       "                                                                                                                                                                                                                              sent  \n",
       "0  EU rejects German call to boycott British lamb .                                                                                                                                                                                 \n",
       "1  Peter Blackburn BRUSSELS 1996-08-22 The European Commission said on Thursday it disagreed with German advice to consumers to shun British lamb until scientists determine whether mad cow disease can be transmitted to sheep .  \n",
       "2  Germany 's representative to the European Union 's veterinary committee Werner Zwingmann said on Wednesday consumers should buy sheepmeat from countries other than Britain until the scientific advice was clearer .            \n",
       "3  \" We do n't support any such recommendation because we do n't see any grounds for it , \" the Commission 's chief spokesman Nikolaus van der Pas told a news briefing .                                                           \n",
       "4  He said further scientific study was required and if it was found that action was needed it should be taken by the European Union .                                                                                              "
      ]
     },
     "execution_count": 112,
     "metadata": {},
     "output_type": "execute_result"
    },
    {
     "data": {
      "text/plain": [
       "(10874, 2)"
      ]
     },
     "execution_count": 112,
     "metadata": {},
     "output_type": "execute_result"
    }
   ],
   "source": [
    "df_sent_cornell = pd.DataFrame(sents)\n",
    "df_sent_cornell.head()\n",
    "df_sent_cornell.shape"
   ]
  },
  {
   "cell_type": "code",
   "execution_count": 120,
   "metadata": {},
   "outputs": [
    {
     "data": {
      "text/plain": [
       "10874"
      ]
     },
     "execution_count": 120,
     "metadata": {},
     "output_type": "execute_result"
    }
   ],
   "source": [
    "len(df_sent_cornell.id.unique())"
   ]
  },
  {
   "cell_type": "code",
   "execution_count": 113,
   "metadata": {},
   "outputs": [
    {
     "data": {
      "text/html": [
       "<div>\n",
       "<style scoped>\n",
       "    .dataframe tbody tr th:only-of-type {\n",
       "        vertical-align: middle;\n",
       "    }\n",
       "\n",
       "    .dataframe tbody tr th {\n",
       "        vertical-align: top;\n",
       "    }\n",
       "\n",
       "    .dataframe thead th {\n",
       "        text-align: right;\n",
       "    }\n",
       "</style>\n",
       "<table border=\"1\" class=\"dataframe\">\n",
       "  <thead>\n",
       "    <tr style=\"text-align: right;\">\n",
       "      <th></th>\n",
       "      <th>en_type</th>\n",
       "      <th>en_val</th>\n",
       "      <th>id</th>\n",
       "    </tr>\n",
       "  </thead>\n",
       "  <tbody>\n",
       "    <tr>\n",
       "      <th>0</th>\n",
       "      <td>ORG *,* MISC *,* MISC</td>\n",
       "      <td>EU *,* German *,* British</td>\n",
       "      <td>cor_1</td>\n",
       "    </tr>\n",
       "    <tr>\n",
       "      <th>1</th>\n",
       "      <td>PER *,* LOC *,* ORG *,* MISC *,* MISC</td>\n",
       "      <td>Peter Blackburn *,* BRUSSELS *,* European Commission *,* German *,* British</td>\n",
       "      <td>cor_2</td>\n",
       "    </tr>\n",
       "    <tr>\n",
       "      <th>2</th>\n",
       "      <td>LOC *,* ORG *,* PER *,* LOC</td>\n",
       "      <td>Germany *,* European Union *,* Werner Zwingmann *,* Britain</td>\n",
       "      <td>cor_3</td>\n",
       "    </tr>\n",
       "    <tr>\n",
       "      <th>3</th>\n",
       "      <td>ORG *,* PER</td>\n",
       "      <td>Commission *,* Nikolaus van der Pas</td>\n",
       "      <td>cor_4</td>\n",
       "    </tr>\n",
       "    <tr>\n",
       "      <th>4</th>\n",
       "      <td>ORG</td>\n",
       "      <td>European Union</td>\n",
       "      <td>cor_5</td>\n",
       "    </tr>\n",
       "  </tbody>\n",
       "</table>\n",
       "</div>"
      ],
      "text/plain": [
       "                                 en_type  \\\n",
       "0  ORG *,* MISC *,* MISC                   \n",
       "1  PER *,* LOC *,* ORG *,* MISC *,* MISC   \n",
       "2  LOC *,* ORG *,* PER *,* LOC             \n",
       "3  ORG *,* PER                             \n",
       "4  ORG                                     \n",
       "\n",
       "                                                                        en_val  \\\n",
       "0  EU *,* German *,* British                                                     \n",
       "1  Peter Blackburn *,* BRUSSELS *,* European Commission *,* German *,* British   \n",
       "2  Germany *,* European Union *,* Werner Zwingmann *,* Britain                   \n",
       "3  Commission *,* Nikolaus van der Pas                                           \n",
       "4  European Union                                                                \n",
       "\n",
       "      id  \n",
       "0  cor_1  \n",
       "1  cor_2  \n",
       "2  cor_3  \n",
       "3  cor_4  \n",
       "4  cor_5  "
      ]
     },
     "execution_count": 113,
     "metadata": {},
     "output_type": "execute_result"
    }
   ],
   "source": [
    "df_cornell = pd.DataFrame(entities_cornell)\n",
    "df_cornell.head()"
   ]
  },
  {
   "cell_type": "code",
   "execution_count": 114,
   "metadata": {},
   "outputs": [
    {
     "data": {
      "application/vnd.jupyter.widget-view+json": {
       "model_id": "3c64d52c2b3447c3acdaa68f7225c35b",
       "version_major": 2,
       "version_minor": 0
      },
      "text/plain": [
       "HBox(children=(IntProgress(value=0, description='Pandas Apply', max=10874, style=ProgressStyle(description_wid…"
      ]
     },
     "metadata": {},
     "output_type": "display_data"
    },
    {
     "name": "stdout",
     "output_type": "stream",
     "text": [
      "\n",
      "CPU times: user 506 ms, sys: 7.56 ms, total: 513 ms\n",
      "Wall time: 510 ms\n"
     ]
    },
    {
     "data": {
      "text/plain": [
       "0        None\n",
       "1        None\n",
       "2        None\n",
       "3        None\n",
       "4        None\n",
       "5        None\n",
       "6        None\n",
       "7        None\n",
       "8        None\n",
       "9        None\n",
       "         ... \n",
       "10864    None\n",
       "10865    None\n",
       "10866    None\n",
       "10867    None\n",
       "10868    None\n",
       "10869    None\n",
       "10870    None\n",
       "10871    None\n",
       "10872    None\n",
       "10873    None\n",
       "Length: 10874, dtype: object"
      ]
     },
     "execution_count": 114,
     "metadata": {},
     "output_type": "execute_result"
    }
   ],
   "source": [
    "cornell_entities = []\n",
    "def reorganize_by_entity(row):\n",
    "    val_list = list(filter(lambda x: x.strip(), row['en_val'].split(' *,* ')))\n",
    "    cornell_entities.extend(list(map(lambda x:{'id':row['id'], 'val': x}, val_list)))\n",
    "\n",
    "%time df_cornell.swifter.apply(reorganize_by_entity, axis=1)"
   ]
  },
  {
   "cell_type": "code",
   "execution_count": 115,
   "metadata": {},
   "outputs": [
    {
     "data": {
      "text/html": [
       "<div>\n",
       "<style scoped>\n",
       "    .dataframe tbody tr th:only-of-type {\n",
       "        vertical-align: middle;\n",
       "    }\n",
       "\n",
       "    .dataframe tbody tr th {\n",
       "        vertical-align: top;\n",
       "    }\n",
       "\n",
       "    .dataframe thead th {\n",
       "        text-align: right;\n",
       "    }\n",
       "</style>\n",
       "<table border=\"1\" class=\"dataframe\">\n",
       "  <thead>\n",
       "    <tr style=\"text-align: right;\">\n",
       "      <th></th>\n",
       "      <th>id</th>\n",
       "      <th>val</th>\n",
       "    </tr>\n",
       "  </thead>\n",
       "  <tbody>\n",
       "    <tr>\n",
       "      <th>0</th>\n",
       "      <td>cor_1</td>\n",
       "      <td>EU</td>\n",
       "    </tr>\n",
       "    <tr>\n",
       "      <th>1</th>\n",
       "      <td>cor_1</td>\n",
       "      <td>German</td>\n",
       "    </tr>\n",
       "    <tr>\n",
       "      <th>2</th>\n",
       "      <td>cor_1</td>\n",
       "      <td>British</td>\n",
       "    </tr>\n",
       "    <tr>\n",
       "      <th>3</th>\n",
       "      <td>cor_2</td>\n",
       "      <td>Peter Blackburn</td>\n",
       "    </tr>\n",
       "    <tr>\n",
       "      <th>4</th>\n",
       "      <td>cor_2</td>\n",
       "      <td>BRUSSELS</td>\n",
       "    </tr>\n",
       "  </tbody>\n",
       "</table>\n",
       "</div>"
      ],
      "text/plain": [
       "      id              val\n",
       "0  cor_1  EU             \n",
       "1  cor_1  German         \n",
       "2  cor_1  British        \n",
       "3  cor_2  Peter Blackburn\n",
       "4  cor_2  BRUSSELS       "
      ]
     },
     "execution_count": 115,
     "metadata": {},
     "output_type": "execute_result"
    }
   ],
   "source": [
    "df_cor_entities = pd.DataFrame(cornell_entities)\n",
    "df_cor_entities.head()"
   ]
  },
  {
   "cell_type": "code",
   "execution_count": 116,
   "metadata": {},
   "outputs": [
    {
     "data": {
      "text/html": [
       "<div>\n",
       "<style scoped>\n",
       "    .dataframe tbody tr th:only-of-type {\n",
       "        vertical-align: middle;\n",
       "    }\n",
       "\n",
       "    .dataframe tbody tr th {\n",
       "        vertical-align: top;\n",
       "    }\n",
       "\n",
       "    .dataframe thead th {\n",
       "        text-align: right;\n",
       "    }\n",
       "</style>\n",
       "<table border=\"1\" class=\"dataframe\">\n",
       "  <thead>\n",
       "    <tr style=\"text-align: right;\">\n",
       "      <th></th>\n",
       "      <th>val</th>\n",
       "      <th>count_</th>\n",
       "    </tr>\n",
       "  </thead>\n",
       "  <tbody>\n",
       "    <tr>\n",
       "      <th>10252</th>\n",
       "      <td>U.S.</td>\n",
       "      <td>550</td>\n",
       "    </tr>\n",
       "    <tr>\n",
       "      <th>3750</th>\n",
       "      <td>Germany</td>\n",
       "      <td>291</td>\n",
       "    </tr>\n",
       "    <tr>\n",
       "      <th>887</th>\n",
       "      <td>Australia</td>\n",
       "      <td>285</td>\n",
       "    </tr>\n",
       "    <tr>\n",
       "      <th>3471</th>\n",
       "      <td>France</td>\n",
       "      <td>247</td>\n",
       "    </tr>\n",
       "    <tr>\n",
       "      <th>9447</th>\n",
       "      <td>Spain</td>\n",
       "      <td>223</td>\n",
       "    </tr>\n",
       "  </tbody>\n",
       "</table>\n",
       "</div>"
      ],
      "text/plain": [
       "             val  count_\n",
       "10252  U.S.       550   \n",
       "3750   Germany    291   \n",
       "887    Australia  285   \n",
       "3471   France     247   \n",
       "9447   Spain      223   "
      ]
     },
     "execution_count": 116,
     "metadata": {},
     "output_type": "execute_result"
    }
   ],
   "source": [
    "df_sorted = df_cor_entities.groupby(df_cor_entities.val).size().reset_index(name='count_').sort_values(['count_'], ascending=False)\n",
    "df_sorted.head()"
   ]
  },
  {
   "cell_type": "code",
   "execution_count": 130,
   "metadata": {},
   "outputs": [
    {
     "data": {
      "text/plain": [
       "False"
      ]
     },
     "execution_count": 130,
     "metadata": {},
     "output_type": "execute_result"
    }
   ],
   "source": [
    "'cor_10874' in list(df_sent_cornell.id.unique())"
   ]
  },
  {
   "cell_type": "code",
   "execution_count": 133,
   "metadata": {},
   "outputs": [
    {
     "name": "stdout",
     "output_type": "stream",
     "text": [
      "greedy\n"
     ]
    },
    {
     "data": {
      "text/plain": [
       "4738"
      ]
     },
     "execution_count": 133,
     "metadata": {},
     "output_type": "execute_result"
    },
    {
     "name": "stdout",
     "output_type": "stream",
     "text": [
      "pagerank\n"
     ]
    },
    {
     "data": {
      "text/plain": [
       "4500"
      ]
     },
     "execution_count": 133,
     "metadata": {},
     "output_type": "execute_result"
    },
    {
     "name": "stdout",
     "output_type": "stream",
     "text": [
      "random\n"
     ]
    },
    {
     "data": {
      "text/plain": [
       "4860"
      ]
     },
     "execution_count": 133,
     "metadata": {},
     "output_type": "execute_result"
    }
   ],
   "source": [
    "id_list = list(df_sent_cornell.id.unique())\n",
    "for i in range(1):\n",
    "    copy_cor_entities = df_cor_entities.copy(deep=True)\n",
    "    \n",
    "    print('greedy')\n",
    "    iterate_greedy(list(df_sorted.val.unique()), copy_cor_entities)\n",
    "    print('pagerank')    \n",
    "    iterate_pagerank(list(df_sorted.val.unique()), copy_cor_entities)\n",
    "    print('random')\n",
    "    iterate_random(list(df_sorted.val.unique()), df_cor_entities, id_list)"
   ]
  },
  {
   "cell_type": "code",
   "execution_count": null,
   "metadata": {},
   "outputs": [],
   "source": [
    "# Sang, Erik F., and Fien De Meulder. \"Introduction to the CoNLL-2003 shared task: Language-independent named entity recognition.\" arXiv preprint cs/0306050 (2003)."
   ]
  },
  {
   "cell_type": "code",
   "execution_count": null,
   "metadata": {},
   "outputs": [],
   "source": []
  }
 ],
 "metadata": {
  "kernelspec": {
   "display_name": "Python 3",
   "language": "python",
   "name": "python3"
  },
  "language_info": {
   "codemirror_mode": {
    "name": "ipython",
    "version": 3
   },
   "file_extension": ".py",
   "mimetype": "text/x-python",
   "name": "python",
   "nbconvert_exporter": "python",
   "pygments_lexer": "ipython3",
   "version": "3.7.0"
  }
 },
 "nbformat": 4,
 "nbformat_minor": 2
}
