{
 "cells": [
  {
   "cell_type": "markdown",
   "metadata": {},
   "source": [
    "### Create True Graph\n",
    "\n",
    "dataset - http://www.geniaproject.org/genia-corpus/relation-corpus"
   ]
  },
  {
   "cell_type": "code",
   "execution_count": 1,
   "metadata": {},
   "outputs": [],
   "source": [
    "# !pip install networkx --user"
   ]
  },
  {
   "cell_type": "code",
   "execution_count": 2,
   "metadata": {},
   "outputs": [],
   "source": [
    "import os\n",
    "from xml.dom import minidom\n",
    "import pandas as pd\n",
    "pd.set_option('display.max_colwidth', -1)"
   ]
  },
  {
   "cell_type": "code",
   "execution_count": 3,
   "metadata": {},
   "outputs": [
    {
     "name": "stdout",
     "output_type": "stream",
     "text": [
      "2402\n",
      "2402\n",
      "522\n",
      "522\n"
     ]
    }
   ],
   "source": [
    "# file_locs = ['/home/grace/Documents/DAEB/jupyter/dataset/BioNLP-ST_2011_Entity_Relations_training_data']\n",
    "file_locs = ['/Users/grace/workspace/bio_dataset/GENIA_relation_annotation_training_data/BioNLP-ST_2011_Entity_Relations_training_data',\n",
    "            '/Users/grace/workspace/bio_dataset/GENIA_relation_annotation_test_data/BioNLP-ST_2011_Entity_Relations_test_data/']\n",
    "total_proteins = []\n",
    "total_entities = []\n",
    "sents = []\n",
    "for file_loc in file_locs:\n",
    "    medlines = os.listdir(file_loc)\n",
    "    print(len(medlines))\n",
    "#     medlines = list(filter(lambda x: x.endswith('.txt'), medlines))\n",
    "    print(len(medlines))\n",
    "\n",
    "    for med in medlines:\n",
    "        f = open(file_loc+'/'+med, 'r')\n",
    "        if med.endswith('.txt'):\n",
    "            lines = ' '.join(f.readlines()).replace('\\n', ' ')\n",
    "            sents.append({'id':med.replace('.txt', ''),\n",
    "                          'sent':lines.lower()})\n",
    "            \n",
    "        elif med.endswith('.a1'):\n",
    "            entities = {}\n",
    "            for line in f.readlines():\n",
    "                items = line.split('\\t')\n",
    "#                 print(items)\n",
    "#                 entity_type = items[1]\n",
    "#                 entity_value = items[4]\n",
    "                entities[items[2].strip().lower()] = items[1].split(' ')[0].lower()\n",
    "    \n",
    "            total_proteins.append({'id': med.replace('.a1', ''),\n",
    "                             'protein_val': ' *,* '.join(entities.keys()),\n",
    "                             'protein_type': ' *,* '.join(entities.values())})\n",
    "            \n",
    "        elif med.endswith('.rel'):\n",
    "            entities = {}\n",
    "            for line in f.readlines():\n",
    "                if line.startswith('T'):\n",
    "                    items = line.split('\\t')\n",
    "#                     print(items)\n",
    "    #                 entity_type = items[1]\n",
    "    #                 entity_value = items[4]\n",
    "                    entities[items[2].strip().lower()] = items[1].split(' ')[0].lower()\n",
    "    \n",
    "            total_entities.append({'id': med.replace('.rel', ''),\n",
    "                             'entity_val': ' *,* '.join(entities.keys()),\n",
    "                             'entity_type': ' *,* '.join(entities.values())})\n",
    "        f.close()"
   ]
  },
  {
   "cell_type": "code",
   "execution_count": 4,
   "metadata": {},
   "outputs": [
    {
     "name": "stdout",
     "output_type": "stream",
     "text": [
      "(1060, 2)\n"
     ]
    },
    {
     "data": {
      "text/html": [
       "<div>\n",
       "<style scoped>\n",
       "    .dataframe tbody tr th:only-of-type {\n",
       "        vertical-align: middle;\n",
       "    }\n",
       "\n",
       "    .dataframe tbody tr th {\n",
       "        vertical-align: top;\n",
       "    }\n",
       "\n",
       "    .dataframe thead th {\n",
       "        text-align: right;\n",
       "    }\n",
       "</style>\n",
       "<table border=\"1\" class=\"dataframe\">\n",
       "  <thead>\n",
       "    <tr style=\"text-align: right;\">\n",
       "      <th></th>\n",
       "      <th>id</th>\n",
       "      <th>sent</th>\n",
       "    </tr>\n",
       "  </thead>\n",
       "  <tbody>\n",
       "    <tr>\n",
       "      <th>0</th>\n",
       "      <td>PMID-8709209</td>\n",
       "      <td>various modes of basic helix-loop-helix protein-mediated regulation of murine leukemia virus transcription in lymphoid cell lines.   the transcriptionally regulatory regions of the lymphomagenic akv and sl3-3 murine leukemia retroviruses (mlvs) contain two types of e-box consensus motifs, cagatg. one type, ea/s, is located in the upstream promoter region, and the other, e(gre), is located in a tandem repeat with enhancer properties. we have examined the requirements of the individual e-boxes in mlv transcriptional regulation. in lymphoid cell lines only, the e(gre)-binding protein complexes included alf1 or heb and e2a basic helix-loop-helix proteins. ectopic alf1 and e2a proteins required intact e(gre) motifs for mediating transcriptional activation. alf1 transactivated transcription of akv mlv through the two e(gre) motifs equally, whereas e2a protein required the promoter-proximal e(gre) motif. in t- and b-cell lines, the e(gre) motifs were of major importance for akv mlv transcriptional activity, while the ea/s motif had some effect. in contrast, neither e(gre) nor ea/s motifs contributed pronouncedly to akv mlv transcription in nih 3t3 cells lacking dna-binding alf1 or heb and e2a proteins. the id1 protein was found to repress alf1 activity in vitro and in vivo. moreover, ectopic id1 repressed e(gre)-directed but not ea/s-directed mlv transcription in lymphoid cell lines. in conclusion, e(gre) motifs and interacting basic helix-loop-helix proteins are important determinants for mlv transcriptional activity in lymphocytic cell lines.</td>\n",
       "    </tr>\n",
       "    <tr>\n",
       "      <th>1</th>\n",
       "      <td>PMID-1946356</td>\n",
       "      <td>negative regulation of human immunodeficiency virus type 1 expression in monocytes: role of the 65-kda plus 50-kda nf-kappa b dimer.   although monocytic cells can provide a reservoir for viral production in vivo, their regulation of human immunodeficiency virus type 1 (hiv-1) transcription can be either latent, restricted, or productive. these differences in gene expression have not been molecularly defined. in thp-1 cells with restricted hiv expression, there is an absence of dna-protein binding complex formation with the hiv-1 promoter-enhancer associated with markedly less viral rna production. this absence of binding was localized to the nf-kappa b region of the hiv-1 enhancer; the 65-kda plus 50-kda nf-kappa b heterodimer was preferentially lost. adding purified nf-kappa b protein to nuclear extracts from cells with restricted expression overcomes this lack of binding. in addition, treatment of these nuclear extracts with sodium deoxycholate restored their ability to form the heterodimer, suggesting the presence of an inhibitor of nf-kappa b activity. furthermore, treatment of nuclear extracts from these cells that had restricted expression with lipopolysaccharide increased viral production and nf-kappa b activity. antiserum specific for nf-kappa b binding proteins, but not c-rel-specific antiserum, disrupted heterodimer complex formation. thus, both nf-kappa b-binding complexes are needed for optimal viral transcription. binding of the 65-kda plus 50-kda heterodimer to the hiv-1 enhancer can be negatively regulated in monocytes, providing one mechanism restricting hiv-1 gene expression.</td>\n",
       "    </tr>\n",
       "    <tr>\n",
       "      <th>2</th>\n",
       "      <td>PMID-7543515</td>\n",
       "      <td>costimulation of human cd4+ t cells with lfa-3 and b7 induce distinct effects on ap-1 and nf-kappa b transcription factors.   we have earlier shown that stimulation of human cd4+ t cells with sea presented on chinese hamster ovary (cho)-dr transfectants coexpressing either b7 or lfa-3 resulted in distinct cytokine profiles. we now demonstrate that b7, but not lfa-3, strongly costimulated il-2 transcription and mrna expression in cd4+ t cells. maximal increase in il-2 transcription was recorded with cho-dr/b7/lfa-3, suggesting a cooperative effect of b7 and lfa-3 at the transcriptional level. gel-shift analysis demonstrated that stimulation of cd4+ t cells with cho-dr and staphylococcal enterotoxin a was sufficient to induce significant amounts of nf-kappa b binding proteins, whereas induction of ap-1 binding proteins required costimulation. lfa-3 induced moderate levels of ap-1, but did not influence the levels of nf-kappa b, while b7 costimulation strongly induced both ap-1 and substantially enhanced nf-kappa b binding proteins. the cho-dr/b7/lfa-3 triple transfectant induced a further increase in ap-1 and nf-kappa b binding proteins compared with the double transfectants. the level of oct-1 binding proteins remained similar in all samples. super-shift analysis revealed that the nf-kappa b complex of costimulated cd4+ t cells contained large amounts of p50, substantial amounts of p65, and marginal levels of c-rel proteins. the ap-1 binding proteins contained c-jun, jun-d, and fra-1, but marginal amounts of jun-b and c-fos. our results indicate distinct effects of b7 and lfa-3 costimulation on the activity of ap-1 and nf-kappa b. these may partly account for the differential effects of b7 and lfa-3 costimulation on il-2 expression.</td>\n",
       "    </tr>\n",
       "    <tr>\n",
       "      <th>3</th>\n",
       "      <td>PMID-9075924</td>\n",
       "      <td>the t cell activation factor nf-atc positively regulates hiv-1 replication and gene expression in t cells.   clinical deterioration in human immunodeficiency virus type 1 (hiv-1) infection is associated with increased levels of viral replication and burden in the peripheral blood and lymphoid organs. t cell activation and ensuing cellular gene activation can be critical for hiv-1 replication. the hypothesis that the nuclear factor of activated t cells (nf-at) may influence hiv-1 replication is therefore compelling given the tight correlation of hiv-1 transcriptional induction to t cell activation. we report that certain nf-at(rel) family members productively bind the kappab regulatory elements, synergize with nf-kappab and tat in transcriptional activation of hiv-1, and enhance hiv-1 replication in t cells. these results link regulatory factors critical to t cell commitment directly to hiv-1 replication.</td>\n",
       "    </tr>\n",
       "    <tr>\n",
       "      <th>4</th>\n",
       "      <td>PMID-10477683</td>\n",
       "      <td>c-maf induces monocytic differentiation and apoptosis in bipotent myeloid progenitors.   the transcriptional mechanisms that drive colony-forming unit granulocyte-macrophage (cfu-gm) myeloid progenitors to differentiate into cells of either the granulocytic or monocytic lineage are not fully understood. we have shown that the c-maf and c-myb transcription factors physically interact in myeloid cells to form inhibitory complexes that hinder transactivation of c-myb target genes through direct binding to myb consensus sites. these complexes arise in a developmentally regulated pattern, peaking at the promyelocyte stage, or in cell model systems, appearing soon after the induction of monocytic differentiation. we wished to determine if this developmentally related interaction is a consequence of myeloid differentiation or an intrinsic differentiating stimulus. because the elevated myb:maf status seen in differentiating cells can be recapitulated by overexpression of c-maf in myeloid cell lines, we inducibly expressed the c-maf cdna in 2 bipotent human myeloid progenitor cells. elevated levels of c-maf protein led to marked increases in myb:maf complexes and the accumulation of monocyte/macrophage cells, followed by eventual programmed cell death. analysis of targets that could mediate these phenotypic changes indicated that c-maf likely plays a key role in myeloid cell development through dual mechanisms; inhibition of a select set of c-myb regulated targets, such as bcl-2 and cd13/apn, coupled with the activation of as yet undefined differentiation-promoting genes.</td>\n",
       "    </tr>\n",
       "  </tbody>\n",
       "</table>\n",
       "</div>"
      ],
      "text/plain": [
       "              id  \\\n",
       "0  PMID-8709209    \n",
       "1  PMID-1946356    \n",
       "2  PMID-7543515    \n",
       "3  PMID-9075924    \n",
       "4  PMID-10477683   \n",
       "\n",
       "                                                                                                                                                                                                                                                                                                                                                                                                                                                                                                                                                                                                                                                                                                                                                                                                                                                                                                                                                                                                                                                                                                                                                                                                                                                                                                                                                                                                                                                                                                                                                                                                                                                                                                                                                                                                                                 sent  \n",
       "0  various modes of basic helix-loop-helix protein-mediated regulation of murine leukemia virus transcription in lymphoid cell lines.   the transcriptionally regulatory regions of the lymphomagenic akv and sl3-3 murine leukemia retroviruses (mlvs) contain two types of e-box consensus motifs, cagatg. one type, ea/s, is located in the upstream promoter region, and the other, e(gre), is located in a tandem repeat with enhancer properties. we have examined the requirements of the individual e-boxes in mlv transcriptional regulation. in lymphoid cell lines only, the e(gre)-binding protein complexes included alf1 or heb and e2a basic helix-loop-helix proteins. ectopic alf1 and e2a proteins required intact e(gre) motifs for mediating transcriptional activation. alf1 transactivated transcription of akv mlv through the two e(gre) motifs equally, whereas e2a protein required the promoter-proximal e(gre) motif. in t- and b-cell lines, the e(gre) motifs were of major importance for akv mlv transcriptional activity, while the ea/s motif had some effect. in contrast, neither e(gre) nor ea/s motifs contributed pronouncedly to akv mlv transcription in nih 3t3 cells lacking dna-binding alf1 or heb and e2a proteins. the id1 protein was found to repress alf1 activity in vitro and in vivo. moreover, ectopic id1 repressed e(gre)-directed but not ea/s-directed mlv transcription in lymphoid cell lines. in conclusion, e(gre) motifs and interacting basic helix-loop-helix proteins are important determinants for mlv transcriptional activity in lymphocytic cell lines.                                                                                                                                                                                                         \n",
       "1  negative regulation of human immunodeficiency virus type 1 expression in monocytes: role of the 65-kda plus 50-kda nf-kappa b dimer.   although monocytic cells can provide a reservoir for viral production in vivo, their regulation of human immunodeficiency virus type 1 (hiv-1) transcription can be either latent, restricted, or productive. these differences in gene expression have not been molecularly defined. in thp-1 cells with restricted hiv expression, there is an absence of dna-protein binding complex formation with the hiv-1 promoter-enhancer associated with markedly less viral rna production. this absence of binding was localized to the nf-kappa b region of the hiv-1 enhancer; the 65-kda plus 50-kda nf-kappa b heterodimer was preferentially lost. adding purified nf-kappa b protein to nuclear extracts from cells with restricted expression overcomes this lack of binding. in addition, treatment of these nuclear extracts with sodium deoxycholate restored their ability to form the heterodimer, suggesting the presence of an inhibitor of nf-kappa b activity. furthermore, treatment of nuclear extracts from these cells that had restricted expression with lipopolysaccharide increased viral production and nf-kappa b activity. antiserum specific for nf-kappa b binding proteins, but not c-rel-specific antiserum, disrupted heterodimer complex formation. thus, both nf-kappa b-binding complexes are needed for optimal viral transcription. binding of the 65-kda plus 50-kda heterodimer to the hiv-1 enhancer can be negatively regulated in monocytes, providing one mechanism restricting hiv-1 gene expression.                                                                                                                                                \n",
       "2  costimulation of human cd4+ t cells with lfa-3 and b7 induce distinct effects on ap-1 and nf-kappa b transcription factors.   we have earlier shown that stimulation of human cd4+ t cells with sea presented on chinese hamster ovary (cho)-dr transfectants coexpressing either b7 or lfa-3 resulted in distinct cytokine profiles. we now demonstrate that b7, but not lfa-3, strongly costimulated il-2 transcription and mrna expression in cd4+ t cells. maximal increase in il-2 transcription was recorded with cho-dr/b7/lfa-3, suggesting a cooperative effect of b7 and lfa-3 at the transcriptional level. gel-shift analysis demonstrated that stimulation of cd4+ t cells with cho-dr and staphylococcal enterotoxin a was sufficient to induce significant amounts of nf-kappa b binding proteins, whereas induction of ap-1 binding proteins required costimulation. lfa-3 induced moderate levels of ap-1, but did not influence the levels of nf-kappa b, while b7 costimulation strongly induced both ap-1 and substantially enhanced nf-kappa b binding proteins. the cho-dr/b7/lfa-3 triple transfectant induced a further increase in ap-1 and nf-kappa b binding proteins compared with the double transfectants. the level of oct-1 binding proteins remained similar in all samples. super-shift analysis revealed that the nf-kappa b complex of costimulated cd4+ t cells contained large amounts of p50, substantial amounts of p65, and marginal levels of c-rel proteins. the ap-1 binding proteins contained c-jun, jun-d, and fra-1, but marginal amounts of jun-b and c-fos. our results indicate distinct effects of b7 and lfa-3 costimulation on the activity of ap-1 and nf-kappa b. these may partly account for the differential effects of b7 and lfa-3 costimulation on il-2 expression.   \n",
       "3  the t cell activation factor nf-atc positively regulates hiv-1 replication and gene expression in t cells.   clinical deterioration in human immunodeficiency virus type 1 (hiv-1) infection is associated with increased levels of viral replication and burden in the peripheral blood and lymphoid organs. t cell activation and ensuing cellular gene activation can be critical for hiv-1 replication. the hypothesis that the nuclear factor of activated t cells (nf-at) may influence hiv-1 replication is therefore compelling given the tight correlation of hiv-1 transcriptional induction to t cell activation. we report that certain nf-at(rel) family members productively bind the kappab regulatory elements, synergize with nf-kappab and tat in transcriptional activation of hiv-1, and enhance hiv-1 replication in t cells. these results link regulatory factors critical to t cell commitment directly to hiv-1 replication.                                                                                                                                                                                                                                                                                                                                                                                                                                                                                                                                                                                                                                                                                                                                                                                                                                                                               \n",
       "4  c-maf induces monocytic differentiation and apoptosis in bipotent myeloid progenitors.   the transcriptional mechanisms that drive colony-forming unit granulocyte-macrophage (cfu-gm) myeloid progenitors to differentiate into cells of either the granulocytic or monocytic lineage are not fully understood. we have shown that the c-maf and c-myb transcription factors physically interact in myeloid cells to form inhibitory complexes that hinder transactivation of c-myb target genes through direct binding to myb consensus sites. these complexes arise in a developmentally regulated pattern, peaking at the promyelocyte stage, or in cell model systems, appearing soon after the induction of monocytic differentiation. we wished to determine if this developmentally related interaction is a consequence of myeloid differentiation or an intrinsic differentiating stimulus. because the elevated myb:maf status seen in differentiating cells can be recapitulated by overexpression of c-maf in myeloid cell lines, we inducibly expressed the c-maf cdna in 2 bipotent human myeloid progenitor cells. elevated levels of c-maf protein led to marked increases in myb:maf complexes and the accumulation of monocyte/macrophage cells, followed by eventual programmed cell death. analysis of targets that could mediate these phenotypic changes indicated that c-maf likely plays a key role in myeloid cell development through dual mechanisms; inhibition of a select set of c-myb regulated targets, such as bcl-2 and cd13/apn, coupled with the activation of as yet undefined differentiation-promoting genes.                                                                                                                                                                               "
      ]
     },
     "execution_count": 4,
     "metadata": {},
     "output_type": "execute_result"
    }
   ],
   "source": [
    "df_sent = pd.DataFrame(sents)\n",
    "print(df_sent.shape)\n",
    "df_sent.head()\n",
    "# df_sent.sent.isnull()"
   ]
  },
  {
   "cell_type": "code",
   "execution_count": 5,
   "metadata": {},
   "outputs": [
    {
     "data": {
      "text/html": [
       "<div>\n",
       "<style scoped>\n",
       "    .dataframe tbody tr th:only-of-type {\n",
       "        vertical-align: middle;\n",
       "    }\n",
       "\n",
       "    .dataframe tbody tr th {\n",
       "        vertical-align: top;\n",
       "    }\n",
       "\n",
       "    .dataframe thead th {\n",
       "        text-align: right;\n",
       "    }\n",
       "</style>\n",
       "<table border=\"1\" class=\"dataframe\">\n",
       "  <thead>\n",
       "    <tr style=\"text-align: right;\">\n",
       "      <th></th>\n",
       "      <th>id</th>\n",
       "      <th>protein_type</th>\n",
       "      <th>protein_val</th>\n",
       "    </tr>\n",
       "  </thead>\n",
       "  <tbody>\n",
       "    <tr>\n",
       "      <th>0</th>\n",
       "      <td>PMID-8943338</td>\n",
       "      <td>protein *,* protein *,* protein *,* protein *,* protein *,* protein *,* protein *,* protein *,* protein</td>\n",
       "      <td>elf-1 *,* stat5 *,* interleukin-2 receptor alpha *,* interleukin 2 receptor alpha-chain *,* il-2r alpha *,* interleukin 2 *,* il-2 *,* hmg-i(y) *,* cat</td>\n",
       "    </tr>\n",
       "    <tr>\n",
       "      <th>1</th>\n",
       "      <td>PMID-9224203</td>\n",
       "      <td></td>\n",
       "      <td></td>\n",
       "    </tr>\n",
       "    <tr>\n",
       "      <th>2</th>\n",
       "      <td>PMID-1653056</td>\n",
       "      <td>protein *,* protein</td>\n",
       "      <td>tumor necrosis factor alpha *,* tnf alpha</td>\n",
       "    </tr>\n",
       "    <tr>\n",
       "      <th>3</th>\n",
       "      <td>PMID-9872676</td>\n",
       "      <td>protein *,* protein *,* protein *,* protein *,* protein *,* protein</td>\n",
       "      <td>interleukin-10 *,* inhibitory kappab-alpha *,* il-10 *,* tumor necrosis factor-alpha *,* tnf-alpha *,* ikappab-alpha</td>\n",
       "    </tr>\n",
       "    <tr>\n",
       "      <th>4</th>\n",
       "      <td>PMID-8264604</td>\n",
       "      <td>protein *,* protein *,* protein *,* protein</td>\n",
       "      <td>pu.1 *,* macrophage colony-stimulating factor receptor *,* macrophage colony-stimulating factor (m-csf) receptor *,* m-csf receptor</td>\n",
       "    </tr>\n",
       "  </tbody>\n",
       "</table>\n",
       "</div>"
      ],
      "text/plain": [
       "             id  \\\n",
       "0  PMID-8943338   \n",
       "1  PMID-9224203   \n",
       "2  PMID-1653056   \n",
       "3  PMID-9872676   \n",
       "4  PMID-8264604   \n",
       "\n",
       "                                                                                              protein_type  \\\n",
       "0  protein *,* protein *,* protein *,* protein *,* protein *,* protein *,* protein *,* protein *,* protein   \n",
       "1                                                                                                            \n",
       "2  protein *,* protein                                                                                       \n",
       "3  protein *,* protein *,* protein *,* protein *,* protein *,* protein                                       \n",
       "4  protein *,* protein *,* protein *,* protein                                                               \n",
       "\n",
       "                                                                                                                                               protein_val  \n",
       "0  elf-1 *,* stat5 *,* interleukin-2 receptor alpha *,* interleukin 2 receptor alpha-chain *,* il-2r alpha *,* interleukin 2 *,* il-2 *,* hmg-i(y) *,* cat  \n",
       "1                                                                                                                                                           \n",
       "2  tumor necrosis factor alpha *,* tnf alpha                                                                                                                \n",
       "3  interleukin-10 *,* inhibitory kappab-alpha *,* il-10 *,* tumor necrosis factor-alpha *,* tnf-alpha *,* ikappab-alpha                                     \n",
       "4  pu.1 *,* macrophage colony-stimulating factor receptor *,* macrophage colony-stimulating factor (m-csf) receptor *,* m-csf receptor                      "
      ]
     },
     "execution_count": 5,
     "metadata": {},
     "output_type": "execute_result"
    }
   ],
   "source": [
    "df_proteins = pd.DataFrame(total_proteins)\n",
    "df_proteins.head()"
   ]
  },
  {
   "cell_type": "code",
   "execution_count": 6,
   "metadata": {},
   "outputs": [
    {
     "data": {
      "text/html": [
       "<div>\n",
       "<style scoped>\n",
       "    .dataframe tbody tr th:only-of-type {\n",
       "        vertical-align: middle;\n",
       "    }\n",
       "\n",
       "    .dataframe tbody tr th {\n",
       "        vertical-align: top;\n",
       "    }\n",
       "\n",
       "    .dataframe thead th {\n",
       "        text-align: right;\n",
       "    }\n",
       "</style>\n",
       "<table border=\"1\" class=\"dataframe\">\n",
       "  <thead>\n",
       "    <tr style=\"text-align: right;\">\n",
       "      <th></th>\n",
       "      <th>entity_type</th>\n",
       "      <th>entity_val</th>\n",
       "      <th>id</th>\n",
       "    </tr>\n",
       "  </thead>\n",
       "  <tbody>\n",
       "    <tr>\n",
       "      <th>0</th>\n",
       "      <td>entity *,* entity *,* entity *,* entity *,* entity *,* entity *,* entity *,* entity *,* entity</td>\n",
       "      <td>enhancer *,* promoter *,* promoters *,* enhancers *,* its own promoter. *,* immunoglobulin kappa enhancer *,* immunoglobulin heavy chain enhancer *,* kappa gene promoter *,* genes</td>\n",
       "      <td>PMID-1668145</td>\n",
       "    </tr>\n",
       "    <tr>\n",
       "      <th>1</th>\n",
       "      <td>entity *,* entity *,* entity *,* entity</td>\n",
       "      <td>nf-kappa b *,* transcription factor *,* cytokine promoters *,* nf-kappa b-controlled cytokine promoters</td>\n",
       "      <td>PMID-9247567</td>\n",
       "    </tr>\n",
       "    <tr>\n",
       "      <th>2</th>\n",
       "      <td>entity *,* entity *,* entity *,* entity *,* entity *,* entity</td>\n",
       "      <td>human immunodeficiency virus type 1 enhancer *,* site *,* kappa b sites *,* region *,* cd3 *,* cis-acting negative regulatory element</td>\n",
       "      <td>PMID-1533884</td>\n",
       "    </tr>\n",
       "    <tr>\n",
       "      <th>3</th>\n",
       "      <td>entity *,* entity *,* entity</td>\n",
       "      <td>cytokine gene *,* cytokine genes *,* proinflammatory cytokine gene</td>\n",
       "      <td>PMID-8038234</td>\n",
       "    </tr>\n",
       "    <tr>\n",
       "      <th>4</th>\n",
       "      <td>entity *,* entity *,* entity *,* entity</td>\n",
       "      <td>transcriptional complex *,* promoter *,* regulatory element *,* regulatory elements</td>\n",
       "      <td>PMID-7706710</td>\n",
       "    </tr>\n",
       "  </tbody>\n",
       "</table>\n",
       "</div>"
      ],
      "text/plain": [
       "                                                                                      entity_type  \\\n",
       "0  entity *,* entity *,* entity *,* entity *,* entity *,* entity *,* entity *,* entity *,* entity   \n",
       "1  entity *,* entity *,* entity *,* entity                                                          \n",
       "2  entity *,* entity *,* entity *,* entity *,* entity *,* entity                                    \n",
       "3  entity *,* entity *,* entity                                                                     \n",
       "4  entity *,* entity *,* entity *,* entity                                                          \n",
       "\n",
       "                                                                                                                                                                            entity_val  \\\n",
       "0  enhancer *,* promoter *,* promoters *,* enhancers *,* its own promoter. *,* immunoglobulin kappa enhancer *,* immunoglobulin heavy chain enhancer *,* kappa gene promoter *,* genes   \n",
       "1  nf-kappa b *,* transcription factor *,* cytokine promoters *,* nf-kappa b-controlled cytokine promoters                                                                               \n",
       "2  human immunodeficiency virus type 1 enhancer *,* site *,* kappa b sites *,* region *,* cd3 *,* cis-acting negative regulatory element                                                 \n",
       "3  cytokine gene *,* cytokine genes *,* proinflammatory cytokine gene                                                                                                                    \n",
       "4  transcriptional complex *,* promoter *,* regulatory element *,* regulatory elements                                                                                                   \n",
       "\n",
       "             id  \n",
       "0  PMID-1668145  \n",
       "1  PMID-9247567  \n",
       "2  PMID-1533884  \n",
       "3  PMID-8038234  \n",
       "4  PMID-7706710  "
      ]
     },
     "execution_count": 6,
     "metadata": {},
     "output_type": "execute_result"
    }
   ],
   "source": [
    "df_entities = pd.DataFrame(total_entities)\n",
    "df_entities.head()"
   ]
  },
  {
   "cell_type": "markdown",
   "metadata": {},
   "source": [
    "## True Graph with Protein Entities Only"
   ]
  },
  {
   "cell_type": "code",
   "execution_count": 7,
   "metadata": {},
   "outputs": [
    {
     "data": {
      "text/plain": [
       "0       None\n",
       "1       None\n",
       "2       None\n",
       "3       None\n",
       "4       None\n",
       "5       None\n",
       "6       None\n",
       "7       None\n",
       "8       None\n",
       "9       None\n",
       "        ... \n",
       "1050    None\n",
       "1051    None\n",
       "1052    None\n",
       "1053    None\n",
       "1054    None\n",
       "1055    None\n",
       "1056    None\n",
       "1057    None\n",
       "1058    None\n",
       "1059    None\n",
       "Length: 1060, dtype: object"
      ]
     },
     "execution_count": 7,
     "metadata": {},
     "output_type": "execute_result"
    }
   ],
   "source": [
    "pro_entities = []\n",
    "def reorganize_by_entity(row):\n",
    "    val_list = list(filter(lambda x: x.strip(), row['protein_val'].split(' *,* ')))\n",
    "    pro_entities.extend(list(map(lambda x:{'id':row['id'], 'val': x}, val_list)))\n",
    "\n",
    "df_proteins.apply(reorganize_by_entity, axis=1)"
   ]
  },
  {
   "cell_type": "code",
   "execution_count": 8,
   "metadata": {},
   "outputs": [
    {
     "data": {
      "text/html": [
       "<div>\n",
       "<style scoped>\n",
       "    .dataframe tbody tr th:only-of-type {\n",
       "        vertical-align: middle;\n",
       "    }\n",
       "\n",
       "    .dataframe tbody tr th {\n",
       "        vertical-align: top;\n",
       "    }\n",
       "\n",
       "    .dataframe thead th {\n",
       "        text-align: right;\n",
       "    }\n",
       "</style>\n",
       "<table border=\"1\" class=\"dataframe\">\n",
       "  <thead>\n",
       "    <tr style=\"text-align: right;\">\n",
       "      <th></th>\n",
       "      <th>id</th>\n",
       "      <th>val</th>\n",
       "    </tr>\n",
       "  </thead>\n",
       "  <tbody>\n",
       "    <tr>\n",
       "      <th>0</th>\n",
       "      <td>PMID-8943338</td>\n",
       "      <td>elf-1</td>\n",
       "    </tr>\n",
       "    <tr>\n",
       "      <th>1</th>\n",
       "      <td>PMID-8943338</td>\n",
       "      <td>stat5</td>\n",
       "    </tr>\n",
       "    <tr>\n",
       "      <th>2</th>\n",
       "      <td>PMID-8943338</td>\n",
       "      <td>interleukin-2 receptor alpha</td>\n",
       "    </tr>\n",
       "    <tr>\n",
       "      <th>3</th>\n",
       "      <td>PMID-8943338</td>\n",
       "      <td>interleukin 2 receptor alpha-chain</td>\n",
       "    </tr>\n",
       "    <tr>\n",
       "      <th>4</th>\n",
       "      <td>PMID-8943338</td>\n",
       "      <td>il-2r alpha</td>\n",
       "    </tr>\n",
       "  </tbody>\n",
       "</table>\n",
       "</div>"
      ],
      "text/plain": [
       "             id                                 val\n",
       "0  PMID-8943338  elf-1                             \n",
       "1  PMID-8943338  stat5                             \n",
       "2  PMID-8943338  interleukin-2 receptor alpha      \n",
       "3  PMID-8943338  interleukin 2 receptor alpha-chain\n",
       "4  PMID-8943338  il-2r alpha                       "
      ]
     },
     "execution_count": 8,
     "metadata": {},
     "output_type": "execute_result"
    }
   ],
   "source": [
    "df_pro_entities = pd.DataFrame(pro_entities)\n",
    "df_pro_entities.head()"
   ]
  },
  {
   "cell_type": "code",
   "execution_count": 9,
   "metadata": {},
   "outputs": [
    {
     "data": {
      "text/html": [
       "<div>\n",
       "<style scoped>\n",
       "    .dataframe tbody tr th:only-of-type {\n",
       "        vertical-align: middle;\n",
       "    }\n",
       "\n",
       "    .dataframe tbody tr th {\n",
       "        vertical-align: top;\n",
       "    }\n",
       "\n",
       "    .dataframe thead th {\n",
       "        text-align: right;\n",
       "    }\n",
       "</style>\n",
       "<table border=\"1\" class=\"dataframe\">\n",
       "  <thead>\n",
       "    <tr style=\"text-align: right;\">\n",
       "      <th></th>\n",
       "      <th>id</th>\n",
       "      <th>val</th>\n",
       "    </tr>\n",
       "  </thead>\n",
       "  <tbody>\n",
       "  </tbody>\n",
       "</table>\n",
       "</div>"
      ],
      "text/plain": [
       "Empty DataFrame\n",
       "Columns: [id, val]\n",
       "Index: []"
      ]
     },
     "execution_count": 9,
     "metadata": {},
     "output_type": "execute_result"
    }
   ],
   "source": [
    "df_pro_entities.loc[df_pro_entities.val=='']"
   ]
  },
  {
   "cell_type": "code",
   "execution_count": 10,
   "metadata": {},
   "outputs": [
    {
     "data": {
      "text/plain": [
       "1016"
      ]
     },
     "execution_count": 10,
     "metadata": {},
     "output_type": "execute_result"
    }
   ],
   "source": [
    "#ids = 800\n",
    "len(df_pro_entities.id.unique())"
   ]
  },
  {
   "cell_type": "code",
   "execution_count": 11,
   "metadata": {},
   "outputs": [
    {
     "data": {
      "text/plain": [
       "1824"
      ]
     },
     "execution_count": 11,
     "metadata": {},
     "output_type": "execute_result"
    }
   ],
   "source": [
    "#values = 1540\n",
    "len(df_pro_entities.val.unique())"
   ]
  },
  {
   "cell_type": "code",
   "execution_count": 12,
   "metadata": {},
   "outputs": [
    {
     "data": {
      "text/plain": [
       "(4753, 2)"
      ]
     },
     "execution_count": 12,
     "metadata": {},
     "output_type": "execute_result"
    }
   ],
   "source": [
    "df_pro_entities.shape"
   ]
  },
  {
   "cell_type": "code",
   "execution_count": 13,
   "metadata": {},
   "outputs": [
    {
     "data": {
      "text/html": [
       "<div>\n",
       "<style scoped>\n",
       "    .dataframe tbody tr th:only-of-type {\n",
       "        vertical-align: middle;\n",
       "    }\n",
       "\n",
       "    .dataframe tbody tr th {\n",
       "        vertical-align: top;\n",
       "    }\n",
       "\n",
       "    .dataframe thead th {\n",
       "        text-align: right;\n",
       "    }\n",
       "</style>\n",
       "<table border=\"1\" class=\"dataframe\">\n",
       "  <thead>\n",
       "    <tr style=\"text-align: right;\">\n",
       "      <th></th>\n",
       "      <th>val</th>\n",
       "      <th>count_</th>\n",
       "    </tr>\n",
       "  </thead>\n",
       "  <tbody>\n",
       "    <tr>\n",
       "      <th>850</th>\n",
       "      <td>il-2</td>\n",
       "      <td>149</td>\n",
       "    </tr>\n",
       "    <tr>\n",
       "      <th>1314</th>\n",
       "      <td>p50</td>\n",
       "      <td>97</td>\n",
       "    </tr>\n",
       "    <tr>\n",
       "      <th>1329</th>\n",
       "      <td>p65</td>\n",
       "      <td>94</td>\n",
       "    </tr>\n",
       "    <tr>\n",
       "      <th>1693</th>\n",
       "      <td>tnf-alpha</td>\n",
       "      <td>76</td>\n",
       "    </tr>\n",
       "    <tr>\n",
       "      <th>872</th>\n",
       "      <td>il-4</td>\n",
       "      <td>60</td>\n",
       "    </tr>\n",
       "  </tbody>\n",
       "</table>\n",
       "</div>"
      ],
      "text/plain": [
       "            val  count_\n",
       "850   il-2       149   \n",
       "1314  p50        97    \n",
       "1329  p65        94    \n",
       "1693  tnf-alpha  76    \n",
       "872   il-4       60    "
      ]
     },
     "execution_count": 13,
     "metadata": {},
     "output_type": "execute_result"
    }
   ],
   "source": [
    "df_sorted = df_pro_entities.groupby(df_pro_entities.val).size().reset_index(name='count_').sort_values(['count_'], ascending=False)\n",
    "df_sorted.head()"
   ]
  },
  {
   "cell_type": "code",
   "execution_count": 14,
   "metadata": {},
   "outputs": [
    {
     "data": {
      "text/plain": [
       "(1824, 2)"
      ]
     },
     "execution_count": 14,
     "metadata": {},
     "output_type": "execute_result"
    }
   ],
   "source": [
    "df_sorted.shape"
   ]
  },
  {
   "cell_type": "code",
   "execution_count": 15,
   "metadata": {},
   "outputs": [
    {
     "data": {
      "text/plain": [
       "592"
      ]
     },
     "execution_count": 15,
     "metadata": {},
     "output_type": "execute_result"
    }
   ],
   "source": [
    "once_appeared_values = df_sorted[df_sorted.count_==1].val.unique()\n",
    "len(df_pro_entities.loc[df_pro_entities.val.isin(once_appeared_values)].id.unique())"
   ]
  },
  {
   "cell_type": "code",
   "execution_count": 16,
   "metadata": {},
   "outputs": [],
   "source": [
    "copy_pro_entities = df_pro_entities.copy(deep=True)"
   ]
  },
  {
   "cell_type": "code",
   "execution_count": 17,
   "metadata": {},
   "outputs": [
    {
     "data": {
      "text/html": [
       "<div>\n",
       "<style scoped>\n",
       "    .dataframe tbody tr th:only-of-type {\n",
       "        vertical-align: middle;\n",
       "    }\n",
       "\n",
       "    .dataframe tbody tr th {\n",
       "        vertical-align: top;\n",
       "    }\n",
       "\n",
       "    .dataframe thead th {\n",
       "        text-align: right;\n",
       "    }\n",
       "</style>\n",
       "<table border=\"1\" class=\"dataframe\">\n",
       "  <thead>\n",
       "    <tr style=\"text-align: right;\">\n",
       "      <th></th>\n",
       "      <th>id</th>\n",
       "      <th>val</th>\n",
       "    </tr>\n",
       "  </thead>\n",
       "  <tbody>\n",
       "    <tr>\n",
       "      <th>0</th>\n",
       "      <td>PMID-8943338</td>\n",
       "      <td>elf-1</td>\n",
       "    </tr>\n",
       "    <tr>\n",
       "      <th>1</th>\n",
       "      <td>PMID-8943338</td>\n",
       "      <td>stat5</td>\n",
       "    </tr>\n",
       "    <tr>\n",
       "      <th>2</th>\n",
       "      <td>PMID-8943338</td>\n",
       "      <td>interleukin-2 receptor alpha</td>\n",
       "    </tr>\n",
       "    <tr>\n",
       "      <th>3</th>\n",
       "      <td>PMID-8943338</td>\n",
       "      <td>interleukin 2 receptor alpha-chain</td>\n",
       "    </tr>\n",
       "    <tr>\n",
       "      <th>4</th>\n",
       "      <td>PMID-8943338</td>\n",
       "      <td>il-2r alpha</td>\n",
       "    </tr>\n",
       "  </tbody>\n",
       "</table>\n",
       "</div>"
      ],
      "text/plain": [
       "             id                                 val\n",
       "0  PMID-8943338  elf-1                             \n",
       "1  PMID-8943338  stat5                             \n",
       "2  PMID-8943338  interleukin-2 receptor alpha      \n",
       "3  PMID-8943338  interleukin 2 receptor alpha-chain\n",
       "4  PMID-8943338  il-2r alpha                       "
      ]
     },
     "execution_count": 17,
     "metadata": {},
     "output_type": "execute_result"
    }
   ],
   "source": [
    "copy_pro_entities.head()"
   ]
  },
  {
   "cell_type": "code",
   "execution_count": 18,
   "metadata": {},
   "outputs": [],
   "source": [
    "ordered_vals = list(df_sorted.val.unique())\n",
    "# ordered_vals"
   ]
  },
  {
   "cell_type": "code",
   "execution_count": 19,
   "metadata": {},
   "outputs": [
    {
     "name": "stdout",
     "output_type": "stream",
     "text": [
      "id     PMID-8038234\n",
      "val    12          \n",
      "Name: 0, dtype: object\n"
     ]
    }
   ],
   "source": [
    "def find_most_effective_recursively(copy_df, i):\n",
    "#     print(ordered_vals[i])\n",
    "    found = copy_df.loc[copy_df.val==ordered_vals[i]]\n",
    "#     print(found)\n",
    "    if len(found.id.unique()) > 1:\n",
    "        return find_most_effective_recursively(copy_df.loc[copy_df.id.isin(found.id.unique())], i+1)\n",
    "    elif len(found.id.unique()) ==1:\n",
    "        return found.iloc[0]\n",
    "    else:\n",
    "#         print(type(copy_df.groupby(copy_df.id).count().reset_index().sort_values(['val'], ascending=False).loc[0]))\n",
    "        return copy_df.groupby(copy_df.id).count().reset_index().sort_values(['val'], ascending=False).loc[0]\n",
    "    \n",
    "print(find_most_effective_recursively(copy_pro_entities, 3))"
   ]
  },
  {
   "cell_type": "code",
   "execution_count": 20,
   "metadata": {},
   "outputs": [
    {
     "name": "stdout",
     "output_type": "stream",
     "text": [
      "677\n"
     ]
    }
   ],
   "source": [
    "already_annotated = []\n",
    "iter_no = 0\n",
    "while(len(ordered_vals)>1):\n",
    "    val = ordered_vals[0]\n",
    "\n",
    "    found_df = find_most_effective_recursively(copy_pro_entities, 0)\n",
    "    found_id = found_df.id\n",
    "    annotated_keywords = copy_pro_entities.loc[copy_pro_entities.id.eq(found_id)].val.unique()\n",
    "    if len(annotated_keywords)==0:\n",
    "        annotated_keywords.remove(val)\n",
    "        continue\n",
    "        \n",
    "    already_annotated.append({'id': found_id, \n",
    "                              'keywords': annotated_keywords})\n",
    "\n",
    "    copy_pro_entities = copy_pro_entities.loc[(copy_pro_entities.id!=found_id) & (~copy_pro_entities.val.isin(annotated_keywords))]\n",
    "    copy_pro_entities.sort_index(inplace=True)\n",
    "    \n",
    "    for an in annotated_keywords:\n",
    "        ordered_vals.remove(an)\n",
    "#     print(len(ordered_vals))\n",
    "    iter_no += 1\n",
    "    \n",
    "print(iter_no)"
   ]
  },
  {
   "cell_type": "code",
   "execution_count": 21,
   "metadata": {},
   "outputs": [
    {
     "data": {
      "text/plain": [
       "0.6386792452830189"
      ]
     },
     "execution_count": 21,
     "metadata": {},
     "output_type": "execute_result"
    }
   ],
   "source": [
    "677/1060"
   ]
  },
  {
   "cell_type": "code",
   "execution_count": 22,
   "metadata": {},
   "outputs": [
    {
     "data": {
      "text/plain": [
       "85"
      ]
     },
     "execution_count": 22,
     "metadata": {},
     "output_type": "execute_result"
    }
   ],
   "source": [
    "(677-592)"
   ]
  },
  {
   "cell_type": "markdown",
   "metadata": {},
   "source": [
    "## PageRank"
   ]
  },
  {
   "cell_type": "code",
   "execution_count": 23,
   "metadata": {},
   "outputs": [],
   "source": [
    "import networkx as nx"
   ]
  },
  {
   "cell_type": "code",
   "execution_count": 24,
   "metadata": {},
   "outputs": [],
   "source": [
    "G = nx.DiGraph()"
   ]
  },
  {
   "cell_type": "code",
   "execution_count": 25,
   "metadata": {},
   "outputs": [],
   "source": [
    "for k in df_pro_entities.id.unique():\n",
    "    G.add_node(k)"
   ]
  },
  {
   "cell_type": "code",
   "execution_count": 26,
   "metadata": {},
   "outputs": [],
   "source": [
    "for val, grp in df_pro_entities.groupby('val'):\n",
    "#     print(grp)\n",
    "    if len(grp) > 1:\n",
    "#         print(grp)\n",
    "        id_list = grp.id.unique()\n",
    "        for i in range(len(id_list)-1):\n",
    "            G.add_edge(id_list[i], id_list[i+1])\n",
    "            G.add_edge(id_list[i+1], id_list[i])"
   ]
  },
  {
   "cell_type": "code",
   "execution_count": 27,
   "metadata": {},
   "outputs": [
    {
     "data": {
      "text/plain": [
       "('PMID-7721885', 0.004118988562885963)"
      ]
     },
     "execution_count": 27,
     "metadata": {},
     "output_type": "execute_result"
    }
   ],
   "source": [
    "import operator\n",
    "\n",
    "pageranked_list = nx.pagerank(G)\n",
    "max(pageranked_list.items(), key=operator.itemgetter(1))"
   ]
  },
  {
   "cell_type": "code",
   "execution_count": 28,
   "metadata": {},
   "outputs": [
    {
     "data": {
      "text/plain": [
       "('PMID-8195215', 0.00015612802498048405)"
      ]
     },
     "execution_count": 28,
     "metadata": {},
     "output_type": "execute_result"
    }
   ],
   "source": [
    "min(pageranked_list.items(), key=operator.itemgetter(1))"
   ]
  },
  {
   "cell_type": "code",
   "execution_count": 29,
   "metadata": {},
   "outputs": [
    {
     "data": {
      "text/plain": [
       "[('PMID-7721885', 0.004118988562885963),\n",
       " ('PMID-10233888', 0.003392423167119465),\n",
       " ('PMID-10097788', 0.003348454099375892),\n",
       " ('PMID-8513868', 0.0030160294180792066),\n",
       " ('PMID-10339475', 0.0028973685271362582),\n",
       " ('PMID-8038234', 0.002888896679855576),\n",
       " ('PMID-8083467', 0.0028456806977114426),\n",
       " ('PMID-7517211', 0.0028009352354447397),\n",
       " ('PMID-9724088', 0.0026069928206084664),\n",
       " ('PMID-8871617', 0.002594185168450978)]"
      ]
     },
     "execution_count": 29,
     "metadata": {},
     "output_type": "execute_result"
    }
   ],
   "source": [
    "# sorted_pagedranked = sorted(pageranked_list, key=operator.itemgetter(1))\n",
    "sorted_pagedranked = sorted(pageranked_list.items(), key=operator.itemgetter(1), reverse=True)\n",
    "sorted_pagedranked[:10]"
   ]
  },
  {
   "cell_type": "code",
   "execution_count": 30,
   "metadata": {},
   "outputs": [
    {
     "data": {
      "text/plain": [
       "0.004118988562885963"
      ]
     },
     "execution_count": 30,
     "metadata": {},
     "output_type": "execute_result"
    }
   ],
   "source": [
    "pageranked_list['PMID-7721885']"
   ]
  },
  {
   "cell_type": "markdown",
   "metadata": {},
   "source": [
    "## PageRanked order -> Count the number of iteration"
   ]
  },
  {
   "cell_type": "code",
   "execution_count": 31,
   "metadata": {},
   "outputs": [
    {
     "name": "stdout",
     "output_type": "stream",
     "text": [
      "672\n"
     ]
    }
   ],
   "source": [
    "copy_pro_entities = df_pro_entities.copy(deep=True)\n",
    "ordered_vals = list(df_sorted.val.unique())\n",
    "\n",
    "already_annotated = []\n",
    "iter_no = 0\n",
    "i = 0\n",
    "while(len(ordered_vals)>0):\n",
    "    found_id = sorted_pagedranked[i][0]\n",
    "\n",
    "    annotated_keywords = copy_pro_entities.loc[copy_pro_entities.id.eq(found_id)].val.unique()\n",
    "    if len(annotated_keywords)==0:\n",
    "        i += 1\n",
    "        continue\n",
    "        \n",
    "    already_annotated.append({'id': found_id, \n",
    "                              'keywords': annotated_keywords})\n",
    "\n",
    "    copy_pro_entities = copy_pro_entities.loc[(copy_pro_entities.id!=found_id) & (~copy_pro_entities.val.isin(annotated_keywords))]\n",
    "    copy_pro_entities.sort_index(inplace=True)\n",
    "    \n",
    "    for an in annotated_keywords:\n",
    "        ordered_vals.remove(an)\n",
    "#     print(len(ordered_vals))\n",
    "    iter_no += 1\n",
    "print(iter_no)"
   ]
  },
  {
   "cell_type": "code",
   "execution_count": null,
   "metadata": {},
   "outputs": [],
   "source": []
  }
 ],
 "metadata": {
  "kernelspec": {
   "display_name": "Python 3",
   "language": "python",
   "name": "python3"
  },
  "language_info": {
   "codemirror_mode": {
    "name": "ipython",
    "version": 3
   },
   "file_extension": ".py",
   "mimetype": "text/x-python",
   "name": "python",
   "nbconvert_exporter": "python",
   "pygments_lexer": "ipython3",
   "version": "3.7.0"
  }
 },
 "nbformat": 4,
 "nbformat_minor": 2
}
