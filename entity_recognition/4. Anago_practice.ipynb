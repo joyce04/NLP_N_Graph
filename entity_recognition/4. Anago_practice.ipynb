{
 "cells": [
  {
   "cell_type": "markdown",
   "metadata": {},
   "source": [
    "### Anago\n",
    "\n",
    "Reference : \n",
    "- https://github.com/Hironsan/anago"
   ]
  },
  {
   "cell_type": "code",
   "execution_count": 1,
   "metadata": {},
   "outputs": [],
   "source": [
    "# !pip3 install anago --user"
   ]
  },
  {
   "cell_type": "code",
   "execution_count": 2,
   "metadata": {},
   "outputs": [
    {
     "name": "stderr",
     "output_type": "stream",
     "text": [
      "Using TensorFlow backend.\n"
     ]
    }
   ],
   "source": [
    "from anago.utils import load_data_and_labels, load_glove, filter_embeddings"
   ]
  },
  {
   "cell_type": "code",
   "execution_count": 3,
   "metadata": {},
   "outputs": [],
   "source": [
    "x_train, y_train = load_data_and_labels('./conll2003/en/ner/train.txt')\n",
    "x_test, y_test = load_data_and_labels('./conll2003/en/ner/test.txt')"
   ]
  },
  {
   "cell_type": "code",
   "execution_count": 4,
   "metadata": {},
   "outputs": [
    {
     "data": {
      "text/plain": [
       "['EU', 'rejects', 'German', 'call', 'to', 'boycott', 'British', 'lamb', '.']"
      ]
     },
     "execution_count": 4,
     "metadata": {},
     "output_type": "execute_result"
    }
   ],
   "source": [
    "x_train[0]"
   ]
  },
  {
   "cell_type": "code",
   "execution_count": 5,
   "metadata": {},
   "outputs": [
    {
     "data": {
      "text/plain": [
       "['B-ORG', 'O', 'B-MISC', 'O', 'O', 'O', 'B-MISC', 'O', 'O']"
      ]
     },
     "execution_count": 5,
     "metadata": {},
     "output_type": "execute_result"
    }
   ],
   "source": [
    "y_train[0]"
   ]
  },
  {
   "cell_type": "code",
   "execution_count": 6,
   "metadata": {},
   "outputs": [],
   "source": [
    "import anago"
   ]
  },
  {
   "cell_type": "code",
   "execution_count": 7,
   "metadata": {},
   "outputs": [
    {
     "name": "stdout",
     "output_type": "stream",
     "text": [
      "Epoch 1/20\n",
      "439/439 [==============================] - 61s 139ms/step - loss: 9.4389\n",
      "Epoch 2/20\n",
      "439/439 [==============================] - 59s 133ms/step - loss: 9.0347\n",
      "Epoch 3/20\n",
      "439/439 [==============================] - 60s 136ms/step - loss: 8.9553\n",
      "Epoch 4/20\n",
      "439/439 [==============================] - 61s 138ms/step - loss: 8.9292\n",
      "Epoch 5/20\n",
      "439/439 [==============================] - 58s 132ms/step - loss: 8.9175\n",
      "Epoch 6/20\n",
      "439/439 [==============================] - 58s 132ms/step - loss: 8.9120\n",
      "Epoch 7/20\n",
      "439/439 [==============================] - 59s 135ms/step - loss: 8.9076\n",
      "Epoch 8/20\n",
      "439/439 [==============================] - 58s 132ms/step - loss: 8.9053\n",
      "Epoch 9/20\n",
      "439/439 [==============================] - 58s 132ms/step - loss: 8.9044\n",
      "Epoch 10/20\n",
      "439/439 [==============================] - 57s 131ms/step - loss: 8.9025\n",
      "Epoch 11/20\n",
      "439/439 [==============================] - 59s 134ms/step - loss: 8.9027\n",
      "Epoch 12/20\n",
      "439/439 [==============================] - 57s 130ms/step - loss: 8.9023\n",
      "Epoch 13/20\n",
      "439/439 [==============================] - 61s 138ms/step - loss: 8.9011\n",
      "Epoch 14/20\n",
      "439/439 [==============================] - 61s 139ms/step - loss: 8.9005\n",
      "Epoch 15/20\n",
      "439/439 [==============================] - 62s 141ms/step - loss: 8.9002\n",
      "Epoch 16/20\n",
      "439/439 [==============================] - 60s 137ms/step - loss: 8.9002\n",
      "Epoch 17/20\n",
      "439/439 [==============================] - 58s 131ms/step - loss: 8.9000\n",
      "Epoch 18/20\n",
      "439/439 [==============================] - 57s 130ms/step - loss: 8.8999\n",
      "Epoch 19/20\n",
      "439/439 [==============================] - 57s 130ms/step - loss: 8.8989\n",
      "Epoch 20/20\n",
      "439/439 [==============================] - 57s 130ms/step - loss: 8.8993\n"
     ]
    }
   ],
   "source": [
    "model = anago.Sequence()\n",
    "model.fit(x_train, y_train, epochs=20)"
   ]
  },
  {
   "cell_type": "code",
   "execution_count": 8,
   "metadata": {},
   "outputs": [
    {
     "data": {
      "text/plain": [
       "0.7849571389068116"
      ]
     },
     "execution_count": 8,
     "metadata": {},
     "output_type": "execute_result"
    }
   ],
   "source": [
    "model.score(x_test, y_test)"
   ]
  },
  {
   "cell_type": "code",
   "execution_count": 14,
   "metadata": {},
   "outputs": [
    {
     "data": {
      "text/plain": [
       "{'entities': [{'beginOffset': 2,\n",
       "   'endOffset': 3,\n",
       "   'score': 1.0,\n",
       "   'text': 'Lamivudine',\n",
       "   'type': 'ORG'},\n",
       "  {'beginOffset': 13,\n",
       "   'endOffset': 16,\n",
       "   'score': 1.0,\n",
       "   'text': 'Human Immunodeficiency Virus',\n",
       "   'type': 'MISC'}],\n",
       " 'words': ['Abacavir',\n",
       "  '/',\n",
       "  'Lamivudine',\n",
       "  'is',\n",
       "  'indicated',\n",
       "  'in',\n",
       "  'antiretroviral',\n",
       "  'combination',\n",
       "  'therapy',\n",
       "  'for',\n",
       "  'the',\n",
       "  'treatment',\n",
       "  'of',\n",
       "  'Human',\n",
       "  'Immunodeficiency',\n",
       "  'Virus',\n",
       "  '(HIV)',\n",
       "  'infection',\n",
       "  'in',\n",
       "  'adults,',\n",
       "  'adolescents',\n",
       "  'and',\n",
       "  'children',\n",
       "  'weighing',\n",
       "  'at',\n",
       "  'least',\n",
       "  '25',\n",
       "  'kg']}"
      ]
     },
     "execution_count": 14,
     "metadata": {},
     "output_type": "execute_result"
    }
   ],
   "source": [
    "text = 'Abacavir / Lamivudine is indicated in antiretroviral combination therapy for the treatment of Human Immunodeficiency Virus (HIV) infection in adults, adolescents and children weighing at least 25 kg'\n",
    "model.analyze(text)"
   ]
  },
  {
   "cell_type": "markdown",
   "metadata": {},
   "source": [
    "### Download pre-trained model"
   ]
  },
  {
   "cell_type": "code",
   "execution_count": 10,
   "metadata": {},
   "outputs": [],
   "source": [
    "from anago.utils import download"
   ]
  },
  {
   "cell_type": "code",
   "execution_count": 11,
   "metadata": {},
   "outputs": [
    {
     "data": {
      "text/plain": [
       "0.909446369856927"
      ]
     },
     "execution_count": 11,
     "metadata": {},
     "output_type": "execute_result"
    }
   ],
   "source": [
    "url = 'https://s3-ap-northeast-1.amazonaws.com/dev.tech-sketch.jp/chakki/public/conll2003_en.zip'\n",
    "weights, params, preprocessor = download(url)\n",
    "model = anago.Sequence.load(weights, params, preprocessor)\n",
    "model.score(x_test, y_test)"
   ]
  },
  {
   "cell_type": "code",
   "execution_count": 12,
   "metadata": {},
   "outputs": [],
   "source": [
    "# from anago.trainer import Trainer\n",
    "\n",
    "# trainer = Trainer(model)\n",
    "# trainer.train(x_train, y_train, x_test, y_test)"
   ]
  },
  {
   "cell_type": "code",
   "execution_count": 13,
   "metadata": {},
   "outputs": [],
   "source": [
    "# from anago.preprocessing import ELMoTransformer"
   ]
  },
  {
   "cell_type": "code",
   "execution_count": null,
   "metadata": {},
   "outputs": [],
   "source": []
  },
  {
   "cell_type": "code",
   "execution_count": null,
   "metadata": {},
   "outputs": [],
   "source": []
  }
 ],
 "metadata": {
  "kernelspec": {
   "display_name": "Python 3",
   "language": "python",
   "name": "python3"
  },
  "language_info": {
   "codemirror_mode": {
    "name": "ipython",
    "version": 3
   },
   "file_extension": ".py",
   "mimetype": "text/x-python",
   "name": "python",
   "nbconvert_exporter": "python",
   "pygments_lexer": "ipython3",
   "version": "3.5.2"
  }
 },
 "nbformat": 4,
 "nbformat_minor": 2
}
