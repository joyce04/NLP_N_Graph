{
 "cells": [
  {
   "cell_type": "markdown",
   "metadata": {},
   "source": [
    "# matching clusters"
   ]
  },
  {
   "cell_type": "code",
   "execution_count": 7,
   "metadata": {},
   "outputs": [],
   "source": [
    "import json\n",
    "import pandas as pd"
   ]
  },
  {
   "cell_type": "code",
   "execution_count": 3,
   "metadata": {},
   "outputs": [],
   "source": [
    "with open('../data/output/document_table.json', 'rb') as f:\n",
    "    doc_table = json.load(f)"
   ]
  },
  {
   "cell_type": "code",
   "execution_count": 5,
   "metadata": {},
   "outputs": [
    {
     "data": {
      "text/plain": [
       "dict_keys(['lda_km_topic_map', 'km_lda_topic_map', 'lda_dec_topic_map', 'dec_lda_topic_map', 'rows'])"
      ]
     },
     "execution_count": 5,
     "metadata": {},
     "output_type": "execute_result"
    }
   ],
   "source": [
    "doc_table.keys()"
   ]
  },
  {
   "cell_type": "code",
   "execution_count": 9,
   "metadata": {},
   "outputs": [],
   "source": [
    "doc_df = pd.DataFrame(doc_table['rows'])"
   ]
  },
  {
   "cell_type": "code",
   "execution_count": 10,
   "metadata": {},
   "outputs": [
    {
     "data": {
      "text/html": [
       "<div>\n",
       "<style scoped>\n",
       "    .dataframe tbody tr th:only-of-type {\n",
       "        vertical-align: middle;\n",
       "    }\n",
       "\n",
       "    .dataframe tbody tr th {\n",
       "        vertical-align: top;\n",
       "    }\n",
       "\n",
       "    .dataframe thead th {\n",
       "        text-align: right;\n",
       "    }\n",
       "</style>\n",
       "<table border=\"1\" class=\"dataframe\">\n",
       "  <thead>\n",
       "    <tr style=\"text-align: right;\">\n",
       "      <th></th>\n",
       "      <th>document</th>\n",
       "      <th>topic_dec</th>\n",
       "      <th>topic_km</th>\n",
       "      <th>topic_lda</th>\n",
       "    </tr>\n",
       "  </thead>\n",
       "  <tbody>\n",
       "    <tr>\n",
       "      <th>0</th>\n",
       "      <td>Analysis of efficacy</td>\n",
       "      <td>0</td>\n",
       "      <td>3</td>\n",
       "      <td>0</td>\n",
       "    </tr>\n",
       "    <tr>\n",
       "      <th>1</th>\n",
       "      <td>Comparisons of postoperative CA19-9 levels on ...</td>\n",
       "      <td>4</td>\n",
       "      <td>0</td>\n",
       "      <td>7</td>\n",
       "    </tr>\n",
       "    <tr>\n",
       "      <th>2</th>\n",
       "      <td>Pattern of disease relapse</td>\n",
       "      <td>3</td>\n",
       "      <td>4</td>\n",
       "      <td>1</td>\n",
       "    </tr>\n",
       "    <tr>\n",
       "      <th>3</th>\n",
       "      <td>Grade 1–5 adverse events with gemcitabine alon...</td>\n",
       "      <td>2</td>\n",
       "      <td>1</td>\n",
       "      <td>1</td>\n",
       "    </tr>\n",
       "    <tr>\n",
       "      <th>4</th>\n",
       "      <td>Treatment with zoledronic acid</td>\n",
       "      <td>2</td>\n",
       "      <td>0</td>\n",
       "      <td>6</td>\n",
       "    </tr>\n",
       "  </tbody>\n",
       "</table>\n",
       "</div>"
      ],
      "text/plain": [
       "                                            document  topic_dec  topic_km  \\\n",
       "0                               Analysis of efficacy          0         3   \n",
       "1  Comparisons of postoperative CA19-9 levels on ...          4         0   \n",
       "2                         Pattern of disease relapse          3         4   \n",
       "3  Grade 1–5 adverse events with gemcitabine alon...          2         1   \n",
       "4                     Treatment with zoledronic acid          2         0   \n",
       "\n",
       "   topic_lda  \n",
       "0          0  \n",
       "1          7  \n",
       "2          1  \n",
       "3          1  \n",
       "4          6  "
      ]
     },
     "execution_count": 10,
     "metadata": {},
     "output_type": "execute_result"
    }
   ],
   "source": [
    "doc_df.head()"
   ]
  },
  {
   "cell_type": "code",
   "execution_count": 17,
   "metadata": {},
   "outputs": [
    {
     "data": {
      "text/plain": [
       "{'0': [0],\n",
       " '1': [4],\n",
       " '2': [1],\n",
       " '3': [0],\n",
       " '4': [7],\n",
       " '5': [2],\n",
       " '6': [7],\n",
       " '7': [3]}"
      ]
     },
     "execution_count": 17,
     "metadata": {},
     "output_type": "execute_result"
    }
   ],
   "source": [
    "doc_table['dec_lda_topic_map']"
   ]
  },
  {
   "cell_type": "code",
   "execution_count": 27,
   "metadata": {},
   "outputs": [],
   "source": [
    "dec_doc_count = doc_df.groupby('topic_dec').document.count().to_dict()"
   ]
  },
  {
   "cell_type": "code",
   "execution_count": 37,
   "metadata": {},
   "outputs": [],
   "source": [
    "dec_lda_df = doc_df.groupby(['topic_dec', 'topic_lda']).count().reset_index()\n",
    "dec_lda_df['doc_ratio'] = dec_lda_df.apply(lambda x: x.document / dec_doc_count[x.topic_dec], axis=1)"
   ]
  },
  {
   "cell_type": "code",
   "execution_count": 48,
   "metadata": {},
   "outputs": [],
   "source": [
    "dec_lda_df['max_doc_ratio'] = dec_lda_df.groupby('topic_dec')['doc_ratio'].transform('max')"
   ]
  },
  {
   "cell_type": "code",
   "execution_count": 50,
   "metadata": {},
   "outputs": [
    {
     "data": {
      "text/html": [
       "<div>\n",
       "<style scoped>\n",
       "    .dataframe tbody tr th:only-of-type {\n",
       "        vertical-align: middle;\n",
       "    }\n",
       "\n",
       "    .dataframe tbody tr th {\n",
       "        vertical-align: top;\n",
       "    }\n",
       "\n",
       "    .dataframe thead th {\n",
       "        text-align: right;\n",
       "    }\n",
       "</style>\n",
       "<table border=\"1\" class=\"dataframe\">\n",
       "  <thead>\n",
       "    <tr style=\"text-align: right;\">\n",
       "      <th></th>\n",
       "      <th>topic_dec</th>\n",
       "      <th>topic_lda</th>\n",
       "      <th>document</th>\n",
       "      <th>topic_km</th>\n",
       "      <th>doc_ratio</th>\n",
       "      <th>max_doc_ratio</th>\n",
       "    </tr>\n",
       "  </thead>\n",
       "  <tbody>\n",
       "    <tr>\n",
       "      <th>0</th>\n",
       "      <td>0</td>\n",
       "      <td>0</td>\n",
       "      <td>2553</td>\n",
       "      <td>2553</td>\n",
       "      <td>0.728804</td>\n",
       "      <td>0.728804</td>\n",
       "    </tr>\n",
       "    <tr>\n",
       "      <th>12</th>\n",
       "      <td>1</td>\n",
       "      <td>4</td>\n",
       "      <td>1892</td>\n",
       "      <td>1892</td>\n",
       "      <td>0.555164</td>\n",
       "      <td>0.555164</td>\n",
       "    </tr>\n",
       "    <tr>\n",
       "      <th>17</th>\n",
       "      <td>2</td>\n",
       "      <td>1</td>\n",
       "      <td>1827</td>\n",
       "      <td>1827</td>\n",
       "      <td>0.495256</td>\n",
       "      <td>0.495256</td>\n",
       "    </tr>\n",
       "    <tr>\n",
       "      <th>24</th>\n",
       "      <td>3</td>\n",
       "      <td>0</td>\n",
       "      <td>867</td>\n",
       "      <td>867</td>\n",
       "      <td>0.263046</td>\n",
       "      <td>0.263046</td>\n",
       "    </tr>\n",
       "    <tr>\n",
       "      <th>39</th>\n",
       "      <td>4</td>\n",
       "      <td>7</td>\n",
       "      <td>931</td>\n",
       "      <td>931</td>\n",
       "      <td>0.256262</td>\n",
       "      <td>0.256262</td>\n",
       "    </tr>\n",
       "    <tr>\n",
       "      <th>42</th>\n",
       "      <td>5</td>\n",
       "      <td>2</td>\n",
       "      <td>1281</td>\n",
       "      <td>1281</td>\n",
       "      <td>0.391983</td>\n",
       "      <td>0.391983</td>\n",
       "    </tr>\n",
       "    <tr>\n",
       "      <th>55</th>\n",
       "      <td>6</td>\n",
       "      <td>7</td>\n",
       "      <td>1304</td>\n",
       "      <td>1304</td>\n",
       "      <td>0.347178</td>\n",
       "      <td>0.347178</td>\n",
       "    </tr>\n",
       "    <tr>\n",
       "      <th>59</th>\n",
       "      <td>7</td>\n",
       "      <td>3</td>\n",
       "      <td>1727</td>\n",
       "      <td>1727</td>\n",
       "      <td>0.506898</td>\n",
       "      <td>0.506898</td>\n",
       "    </tr>\n",
       "  </tbody>\n",
       "</table>\n",
       "</div>"
      ],
      "text/plain": [
       "    topic_dec  topic_lda  document  topic_km  doc_ratio  max_doc_ratio\n",
       "0           0          0      2553      2553   0.728804       0.728804\n",
       "12          1          4      1892      1892   0.555164       0.555164\n",
       "17          2          1      1827      1827   0.495256       0.495256\n",
       "24          3          0       867       867   0.263046       0.263046\n",
       "39          4          7       931       931   0.256262       0.256262\n",
       "42          5          2      1281      1281   0.391983       0.391983\n",
       "55          6          7      1304      1304   0.347178       0.347178\n",
       "59          7          3      1727      1727   0.506898       0.506898"
      ]
     },
     "execution_count": 50,
     "metadata": {},
     "output_type": "execute_result"
    }
   ],
   "source": [
    "dec_lda_df[dec_lda_df.doc_ratio == dec_lda_df.max_doc_ratio]"
   ]
  },
  {
   "cell_type": "code",
   "execution_count": 72,
   "metadata": {},
   "outputs": [],
   "source": [
    "dec_lda_df['doc_ratio_rank'] = dec_lda_df.groupby('topic_dec').doc_ratio.rank(ascending=False)"
   ]
  },
  {
   "cell_type": "code",
   "execution_count": 73,
   "metadata": {},
   "outputs": [
    {
     "data": {
      "text/html": [
       "<div>\n",
       "<style scoped>\n",
       "    .dataframe tbody tr th:only-of-type {\n",
       "        vertical-align: middle;\n",
       "    }\n",
       "\n",
       "    .dataframe tbody tr th {\n",
       "        vertical-align: top;\n",
       "    }\n",
       "\n",
       "    .dataframe thead th {\n",
       "        text-align: right;\n",
       "    }\n",
       "</style>\n",
       "<table border=\"1\" class=\"dataframe\">\n",
       "  <thead>\n",
       "    <tr style=\"text-align: right;\">\n",
       "      <th></th>\n",
       "      <th>topic_dec</th>\n",
       "      <th>topic_lda</th>\n",
       "      <th>document</th>\n",
       "      <th>topic_km</th>\n",
       "      <th>doc_ratio</th>\n",
       "      <th>max_doc_ratio</th>\n",
       "      <th>doc_ratio_rank</th>\n",
       "    </tr>\n",
       "  </thead>\n",
       "  <tbody>\n",
       "    <tr>\n",
       "      <th>0</th>\n",
       "      <td>0</td>\n",
       "      <td>0</td>\n",
       "      <td>2553</td>\n",
       "      <td>2553</td>\n",
       "      <td>0.728804</td>\n",
       "      <td>0.728804</td>\n",
       "      <td>1.0</td>\n",
       "    </tr>\n",
       "    <tr>\n",
       "      <th>1</th>\n",
       "      <td>0</td>\n",
       "      <td>1</td>\n",
       "      <td>87</td>\n",
       "      <td>87</td>\n",
       "      <td>0.024836</td>\n",
       "      <td>0.728804</td>\n",
       "      <td>8.0</td>\n",
       "    </tr>\n",
       "    <tr>\n",
       "      <th>2</th>\n",
       "      <td>0</td>\n",
       "      <td>2</td>\n",
       "      <td>125</td>\n",
       "      <td>125</td>\n",
       "      <td>0.035684</td>\n",
       "      <td>0.728804</td>\n",
       "      <td>5.0</td>\n",
       "    </tr>\n",
       "    <tr>\n",
       "      <th>3</th>\n",
       "      <td>0</td>\n",
       "      <td>3</td>\n",
       "      <td>88</td>\n",
       "      <td>88</td>\n",
       "      <td>0.025121</td>\n",
       "      <td>0.728804</td>\n",
       "      <td>7.0</td>\n",
       "    </tr>\n",
       "    <tr>\n",
       "      <th>4</th>\n",
       "      <td>0</td>\n",
       "      <td>4</td>\n",
       "      <td>151</td>\n",
       "      <td>151</td>\n",
       "      <td>0.043106</td>\n",
       "      <td>0.728804</td>\n",
       "      <td>4.0</td>\n",
       "    </tr>\n",
       "  </tbody>\n",
       "</table>\n",
       "</div>"
      ],
      "text/plain": [
       "   topic_dec  topic_lda  document  topic_km  doc_ratio  max_doc_ratio  \\\n",
       "0          0          0      2553      2553   0.728804       0.728804   \n",
       "1          0          1        87        87   0.024836       0.728804   \n",
       "2          0          2       125       125   0.035684       0.728804   \n",
       "3          0          3        88        88   0.025121       0.728804   \n",
       "4          0          4       151       151   0.043106       0.728804   \n",
       "\n",
       "   doc_ratio_rank  \n",
       "0             1.0  \n",
       "1             8.0  \n",
       "2             5.0  \n",
       "3             7.0  \n",
       "4             4.0  "
      ]
     },
     "execution_count": 73,
     "metadata": {},
     "output_type": "execute_result"
    }
   ],
   "source": [
    "dec_lda_df.head()"
   ]
  },
  {
   "cell_type": "code",
   "execution_count": 105,
   "metadata": {},
   "outputs": [],
   "source": [
    "dec_lda_matching = {}"
   ]
  },
  {
   "cell_type": "code",
   "execution_count": 111,
   "metadata": {},
   "outputs": [
    {
     "data": {
      "text/html": [
       "<div>\n",
       "<style scoped>\n",
       "    .dataframe tbody tr th:only-of-type {\n",
       "        vertical-align: middle;\n",
       "    }\n",
       "\n",
       "    .dataframe tbody tr th {\n",
       "        vertical-align: top;\n",
       "    }\n",
       "\n",
       "    .dataframe thead th {\n",
       "        text-align: right;\n",
       "    }\n",
       "</style>\n",
       "<table border=\"1\" class=\"dataframe\">\n",
       "  <thead>\n",
       "    <tr style=\"text-align: right;\">\n",
       "      <th></th>\n",
       "      <th>topic_dec</th>\n",
       "      <th>topic_lda</th>\n",
       "      <th>document</th>\n",
       "      <th>topic_km</th>\n",
       "      <th>doc_ratio</th>\n",
       "      <th>max_doc_ratio</th>\n",
       "      <th>doc_ratio_rank</th>\n",
       "    </tr>\n",
       "  </thead>\n",
       "  <tbody>\n",
       "    <tr>\n",
       "      <th>33</th>\n",
       "      <td>4</td>\n",
       "      <td>1</td>\n",
       "      <td>400</td>\n",
       "      <td>400</td>\n",
       "      <td>0.110102</td>\n",
       "      <td>0.256262</td>\n",
       "      <td>5.0</td>\n",
       "    </tr>\n",
       "    <tr>\n",
       "      <th>29</th>\n",
       "      <td>3</td>\n",
       "      <td>5</td>\n",
       "      <td>362</td>\n",
       "      <td>362</td>\n",
       "      <td>0.109830</td>\n",
       "      <td>0.263046</td>\n",
       "      <td>5.0</td>\n",
       "    </tr>\n",
       "    <tr>\n",
       "      <th>46</th>\n",
       "      <td>5</td>\n",
       "      <td>6</td>\n",
       "      <td>337</td>\n",
       "      <td>337</td>\n",
       "      <td>0.103121</td>\n",
       "      <td>0.391983</td>\n",
       "      <td>5.0</td>\n",
       "    </tr>\n",
       "    <tr>\n",
       "      <th>49</th>\n",
       "      <td>6</td>\n",
       "      <td>1</td>\n",
       "      <td>327</td>\n",
       "      <td>327</td>\n",
       "      <td>0.087061</td>\n",
       "      <td>0.347178</td>\n",
       "      <td>5.0</td>\n",
       "    </tr>\n",
       "    <tr>\n",
       "      <th>8</th>\n",
       "      <td>1</td>\n",
       "      <td>0</td>\n",
       "      <td>194</td>\n",
       "      <td>194</td>\n",
       "      <td>0.056925</td>\n",
       "      <td>0.555164</td>\n",
       "      <td>5.0</td>\n",
       "    </tr>\n",
       "    <tr>\n",
       "      <th>20</th>\n",
       "      <td>2</td>\n",
       "      <td>4</td>\n",
       "      <td>178</td>\n",
       "      <td>178</td>\n",
       "      <td>0.048252</td>\n",
       "      <td>0.495256</td>\n",
       "      <td>5.0</td>\n",
       "    </tr>\n",
       "    <tr>\n",
       "      <th>63</th>\n",
       "      <td>7</td>\n",
       "      <td>7</td>\n",
       "      <td>147</td>\n",
       "      <td>147</td>\n",
       "      <td>0.043146</td>\n",
       "      <td>0.506898</td>\n",
       "      <td>5.0</td>\n",
       "    </tr>\n",
       "    <tr>\n",
       "      <th>2</th>\n",
       "      <td>0</td>\n",
       "      <td>2</td>\n",
       "      <td>125</td>\n",
       "      <td>125</td>\n",
       "      <td>0.035684</td>\n",
       "      <td>0.728804</td>\n",
       "      <td>5.0</td>\n",
       "    </tr>\n",
       "  </tbody>\n",
       "</table>\n",
       "</div>"
      ],
      "text/plain": [
       "    topic_dec  topic_lda  document  topic_km  doc_ratio  max_doc_ratio  \\\n",
       "33          4          1       400       400   0.110102       0.256262   \n",
       "29          3          5       362       362   0.109830       0.263046   \n",
       "46          5          6       337       337   0.103121       0.391983   \n",
       "49          6          1       327       327   0.087061       0.347178   \n",
       "8           1          0       194       194   0.056925       0.555164   \n",
       "20          2          4       178       178   0.048252       0.495256   \n",
       "63          7          7       147       147   0.043146       0.506898   \n",
       "2           0          2       125       125   0.035684       0.728804   \n",
       "\n",
       "    doc_ratio_rank  \n",
       "33             5.0  \n",
       "29             5.0  \n",
       "46             5.0  \n",
       "49             5.0  \n",
       "8              5.0  \n",
       "20             5.0  \n",
       "63             5.0  \n",
       "2              5.0  "
      ]
     },
     "execution_count": 111,
     "metadata": {},
     "output_type": "execute_result"
    }
   ],
   "source": [
    "dec_lda_df[dec_lda_df.doc_ratio_rank == 5].sort_values('doc_ratio', ascending=False)"
   ]
  },
  {
   "cell_type": "code",
   "execution_count": 106,
   "metadata": {},
   "outputs": [],
   "source": [
    "for i in range(1, 9, 1):\n",
    "    for idx, row in dec_lda_df[dec_lda_df.doc_ratio_rank == i].sort_values('doc_ratio', ascending=False).iterrows():\n",
    "        if row.topic_lda not in dec_lda_matching.values() and row.topic_dec not in dec_lda_matching.keys():\n",
    "            dec_lda_matching[row.topic_dec] = row.topic_lda\n",
    "    if len(dec_lda_matching) == 8:\n",
    "        break;"
   ]
  },
  {
   "cell_type": "code",
   "execution_count": 107,
   "metadata": {},
   "outputs": [
    {
     "name": "stdout",
     "output_type": "stream",
     "text": [
      "0.0 0.0\n",
      "1.0 4.0\n",
      "7.0 3.0\n",
      "2.0 1.0\n",
      "5.0 2.0\n",
      "6.0 7.0\n",
      "4.0 6.0\n",
      "3.0 5.0\n"
     ]
    }
   ],
   "source": [
    "for k in dec_lda_matching.keys():\n",
    "    print(k, dec_lda_matching[k])"
   ]
  },
  {
   "cell_type": "code",
   "execution_count": 94,
   "metadata": {},
   "outputs": [
    {
     "data": {
      "text/plain": [
       "7"
      ]
     },
     "execution_count": 94,
     "metadata": {},
     "output_type": "execute_result"
    }
   ],
   "source": [
    "len(dec_lda_matching)"
   ]
  },
  {
   "cell_type": "code",
   "execution_count": null,
   "metadata": {},
   "outputs": [],
   "source": [
    "0.0 0.0\n",
    "1.0 4.0\n",
    "7.0 3.0\n",
    "2.0 1.0\n",
    "5.0 2.0\n",
    "6.0 7.0"
   ]
  },
  {
   "cell_type": "code",
   "execution_count": null,
   "metadata": {},
   "outputs": [],
   "source": []
  },
  {
   "cell_type": "code",
   "execution_count": 63,
   "metadata": {},
   "outputs": [
    {
     "name": "stdout",
     "output_type": "stream",
     "text": [
      "    topic_dec  topic_lda  document  topic_km  doc_ratio  max_doc_ratio\n",
      "0           0          0      2553      2553   0.728804       0.728804\n",
      "24          3          0       867       867   0.263046       0.263046\n",
      "0    0\n",
      "Name: topic_dec, dtype: int64\n",
      "[{'dec': 0, 'lda': 0}]\n",
      "    topic_dec  topic_lda  document  topic_km  doc_ratio  max_doc_ratio\n",
      "17          2          1      1827      1827   0.495256       0.495256\n",
      "17    2\n",
      "Name: topic_dec, dtype: int64\n",
      "[{'dec': 0, 'lda': 0}, {'dec': 2, 'lda': 1}]\n",
      "    topic_dec  topic_lda  document  topic_km  doc_ratio  max_doc_ratio\n",
      "42          5          2      1281      1281   0.391983       0.391983\n",
      "42    5\n",
      "Name: topic_dec, dtype: int64\n",
      "[{'dec': 0, 'lda': 0}, {'dec': 2, 'lda': 1}, {'dec': 5, 'lda': 2}]\n",
      "    topic_dec  topic_lda  document  topic_km  doc_ratio  max_doc_ratio\n",
      "59          7          3      1727      1727   0.506898       0.506898\n",
      "59    7\n",
      "Name: topic_dec, dtype: int64\n",
      "[{'dec': 0, 'lda': 0}, {'dec': 2, 'lda': 1}, {'dec': 5, 'lda': 2}, {'dec': 7, 'lda': 3}]\n",
      "    topic_dec  topic_lda  document  topic_km  doc_ratio  max_doc_ratio\n",
      "12          1          4      1892      1892   0.555164       0.555164\n",
      "12    1\n",
      "Name: topic_dec, dtype: int64\n",
      "[{'dec': 0, 'lda': 0}, {'dec': 2, 'lda': 1}, {'dec': 5, 'lda': 2}, {'dec': 7, 'lda': 3}, {'dec': 1, 'lda': 4}]\n",
      "    topic_dec  topic_lda  document  topic_km  doc_ratio  max_doc_ratio\n",
      "39          4          7       931       931   0.256262       0.256262\n",
      "55          6          7      1304      1304   0.347178       0.347178\n",
      "55    6\n",
      "Name: topic_dec, dtype: int64\n",
      "[{'dec': 0, 'lda': 0}, {'dec': 2, 'lda': 1}, {'dec': 5, 'lda': 2}, {'dec': 7, 'lda': 3}, {'dec': 1, 'lda': 4}, {'dec': 6, 'lda': 7}]\n"
     ]
    }
   ],
   "source": [
    "matching = []\n",
    "for ind, grp in dec_lda_df[dec_lda_df.doc_ratio == dec_lda_df.max_doc_ratio].groupby('topic_lda'):#.agg({'topic_dec': 'unique'})\n",
    "    print(grp)\n",
    "    print(grp[grp.doc_ratio == grp.doc_ratio.max()].topic_dec)\n",
    "    matching.append({'dec': grp[grp.doc_ratio == grp.doc_ratio.max()].topic_dec.values[0], 'lda':ind})\n",
    "    print(matching)"
   ]
  },
  {
   "cell_type": "code",
   "execution_count": 64,
   "metadata": {},
   "outputs": [
    {
     "data": {
      "text/plain": [
       "6"
      ]
     },
     "execution_count": 64,
     "metadata": {},
     "output_type": "execute_result"
    }
   ],
   "source": [
    "len(matching)"
   ]
  },
  {
   "cell_type": "code",
   "execution_count": 67,
   "metadata": {},
   "outputs": [
    {
     "data": {
      "text/html": [
       "<div>\n",
       "<style scoped>\n",
       "    .dataframe tbody tr th:only-of-type {\n",
       "        vertical-align: middle;\n",
       "    }\n",
       "\n",
       "    .dataframe tbody tr th {\n",
       "        vertical-align: top;\n",
       "    }\n",
       "\n",
       "    .dataframe thead th {\n",
       "        text-align: right;\n",
       "    }\n",
       "</style>\n",
       "<table border=\"1\" class=\"dataframe\">\n",
       "  <thead>\n",
       "    <tr style=\"text-align: right;\">\n",
       "      <th></th>\n",
       "      <th>topic_dec</th>\n",
       "      <th>topic_lda</th>\n",
       "      <th>document</th>\n",
       "      <th>topic_km</th>\n",
       "      <th>doc_ratio</th>\n",
       "      <th>max_doc_ratio</th>\n",
       "    </tr>\n",
       "  </thead>\n",
       "  <tbody>\n",
       "    <tr>\n",
       "      <th>32</th>\n",
       "      <td>4</td>\n",
       "      <td>0</td>\n",
       "      <td>156</td>\n",
       "      <td>156</td>\n",
       "      <td>0.042940</td>\n",
       "      <td>0.256262</td>\n",
       "    </tr>\n",
       "    <tr>\n",
       "      <th>33</th>\n",
       "      <td>4</td>\n",
       "      <td>1</td>\n",
       "      <td>400</td>\n",
       "      <td>400</td>\n",
       "      <td>0.110102</td>\n",
       "      <td>0.256262</td>\n",
       "    </tr>\n",
       "    <tr>\n",
       "      <th>34</th>\n",
       "      <td>4</td>\n",
       "      <td>2</td>\n",
       "      <td>484</td>\n",
       "      <td>484</td>\n",
       "      <td>0.133223</td>\n",
       "      <td>0.256262</td>\n",
       "    </tr>\n",
       "    <tr>\n",
       "      <th>35</th>\n",
       "      <td>4</td>\n",
       "      <td>3</td>\n",
       "      <td>243</td>\n",
       "      <td>243</td>\n",
       "      <td>0.066887</td>\n",
       "      <td>0.256262</td>\n",
       "    </tr>\n",
       "    <tr>\n",
       "      <th>36</th>\n",
       "      <td>4</td>\n",
       "      <td>4</td>\n",
       "      <td>239</td>\n",
       "      <td>239</td>\n",
       "      <td>0.065786</td>\n",
       "      <td>0.256262</td>\n",
       "    </tr>\n",
       "    <tr>\n",
       "      <th>37</th>\n",
       "      <td>4</td>\n",
       "      <td>5</td>\n",
       "      <td>580</td>\n",
       "      <td>580</td>\n",
       "      <td>0.159648</td>\n",
       "      <td>0.256262</td>\n",
       "    </tr>\n",
       "    <tr>\n",
       "      <th>38</th>\n",
       "      <td>4</td>\n",
       "      <td>6</td>\n",
       "      <td>600</td>\n",
       "      <td>600</td>\n",
       "      <td>0.165153</td>\n",
       "      <td>0.256262</td>\n",
       "    </tr>\n",
       "    <tr>\n",
       "      <th>39</th>\n",
       "      <td>4</td>\n",
       "      <td>7</td>\n",
       "      <td>931</td>\n",
       "      <td>931</td>\n",
       "      <td>0.256262</td>\n",
       "      <td>0.256262</td>\n",
       "    </tr>\n",
       "  </tbody>\n",
       "</table>\n",
       "</div>"
      ],
      "text/plain": [
       "    topic_dec  topic_lda  document  topic_km  doc_ratio  max_doc_ratio\n",
       "32          4          0       156       156   0.042940       0.256262\n",
       "33          4          1       400       400   0.110102       0.256262\n",
       "34          4          2       484       484   0.133223       0.256262\n",
       "35          4          3       243       243   0.066887       0.256262\n",
       "36          4          4       239       239   0.065786       0.256262\n",
       "37          4          5       580       580   0.159648       0.256262\n",
       "38          4          6       600       600   0.165153       0.256262\n",
       "39          4          7       931       931   0.256262       0.256262"
      ]
     },
     "execution_count": 67,
     "metadata": {},
     "output_type": "execute_result"
    }
   ],
   "source": [
    "# 3, 4\n",
    "# 5, 6\n",
    "dec_lda_df[dec_lda_df.topic_dec==4]"
   ]
  },
  {
   "cell_type": "code",
   "execution_count": null,
   "metadata": {},
   "outputs": [],
   "source": []
  }
 ],
 "metadata": {
  "kernelspec": {
   "display_name": "Python 3",
   "language": "python",
   "name": "python3"
  },
  "language_info": {
   "codemirror_mode": {
    "name": "ipython",
    "version": 3
   },
   "file_extension": ".py",
   "mimetype": "text/x-python",
   "name": "python",
   "nbconvert_exporter": "python",
   "pygments_lexer": "ipython3",
   "version": "3.6.4"
  }
 },
 "nbformat": 4,
 "nbformat_minor": 2
}
