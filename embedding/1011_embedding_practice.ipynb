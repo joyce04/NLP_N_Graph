{
 "cells": [
  {
   "cell_type": "code",
   "execution_count": 1,
   "metadata": {},
   "outputs": [],
   "source": [
    "#https://colab.research.google.com/notebooks/mlcc/intro_to_sparse_data_and_embeddings.ipynb?utm_source=mlcc&utm_campaign=colab-external&utm_medium=referral&utm_content=embeddings-colab&hl=en#scrollTo=jGWqDqFFL_NZ"
   ]
  },
  {
   "cell_type": "markdown",
   "metadata": {},
   "source": [
    "### Word Embeddigns, Bias in ML, Why You Don't Like Math, & Why AI Needs You by Rachel Thomas\n",
    "- https://github.com/fastai/word-embeddings-workshop\n",
    "- one-hot-encoding disregard the notion of similarity  \n",
    "\n",
    "- word2vec: not deep learning, although it can be used in deep learning, not an algorithm although algorithms were used to train it\n",
    "    - training Word2vec takes lots of data, time, computational power (already trained version)\n",
    "- GloVe is a similar set of embeddings\n"
   ]
  },
  {
   "cell_type": "code",
   "execution_count": 2,
   "metadata": {},
   "outputs": [],
   "source": [
    "import numpy as np\n",
    "import re\n",
    "import json"
   ]
  },
  {
   "cell_type": "code",
   "execution_count": 3,
   "metadata": {},
   "outputs": [],
   "source": [
    "np.set_printoptions(precision=4, suppress=True)"
   ]
  },
  {
   "cell_type": "code",
   "execution_count": 4,
   "metadata": {},
   "outputs": [],
   "source": [
    "vecs = np.load('./resource/glove_vectors_100d.npy')\n",
    "vecs_50 = np.load('./resource/glove_vectors_50d.npy')"
   ]
  },
  {
   "cell_type": "code",
   "execution_count": 5,
   "metadata": {},
   "outputs": [
    {
     "data": {
      "text/plain": [
       "400000"
      ]
     },
     "execution_count": 5,
     "metadata": {},
     "output_type": "execute_result"
    }
   ],
   "source": [
    "with open('./resource/words.txt', 'r') as f:\n",
    "    content = f.readlines()\n",
    "words = [x.strip() for x in content]\n",
    "len(words)"
   ]
  },
  {
   "cell_type": "code",
   "execution_count": 6,
   "metadata": {},
   "outputs": [
    {
     "data": {
      "text/plain": [
       "['together',\n",
       " 'congress',\n",
       " 'index',\n",
       " 'australia',\n",
       " 'results',\n",
       " 'hard',\n",
       " 'hours',\n",
       " 'land',\n",
       " 'action',\n",
       " 'higher']"
      ]
     },
     "execution_count": 6,
     "metadata": {},
     "output_type": "execute_result"
    }
   ],
   "source": [
    "words[600:610]"
   ]
  },
  {
   "cell_type": "code",
   "execution_count": 7,
   "metadata": {},
   "outputs": [
    {
     "data": {
      "text/plain": [
       "dict"
      ]
     },
     "execution_count": 7,
     "metadata": {},
     "output_type": "execute_result"
    }
   ],
   "source": [
    "wordidx = json.load(open('./resource/wordsidx.txt'))\n",
    "type(wordidx)"
   ]
  },
  {
   "cell_type": "code",
   "execution_count": 8,
   "metadata": {},
   "outputs": [
    {
     "data": {
      "text/plain": [
       "606"
      ]
     },
     "execution_count": 8,
     "metadata": {},
     "output_type": "execute_result"
    }
   ],
   "source": [
    "wordidx['hours']"
   ]
  },
  {
   "cell_type": "code",
   "execution_count": 9,
   "metadata": {},
   "outputs": [
    {
     "data": {
      "text/plain": [
       "780"
      ]
     },
     "execution_count": 9,
     "metadata": {},
     "output_type": "execute_result"
    }
   ],
   "source": [
    "wordidx['drug']"
   ]
  },
  {
   "cell_type": "code",
   "execution_count": 10,
   "metadata": {},
   "outputs": [
    {
     "data": {
      "text/plain": [
       "'hours'"
      ]
     },
     "execution_count": 10,
     "metadata": {},
     "output_type": "execute_result"
    }
   ],
   "source": [
    "words[606]"
   ]
  },
  {
   "cell_type": "markdown",
   "metadata": {},
   "source": [
    "### Words as vectors"
   ]
  },
  {
   "cell_type": "code",
   "execution_count": 11,
   "metadata": {},
   "outputs": [
    {
     "data": {
      "text/plain": [
       "numpy.ndarray"
      ]
     },
     "execution_count": 11,
     "metadata": {},
     "output_type": "execute_result"
    }
   ],
   "source": [
    "type(vecs)"
   ]
  },
  {
   "cell_type": "code",
   "execution_count": 12,
   "metadata": {},
   "outputs": [
    {
     "data": {
      "text/plain": [
       "1226"
      ]
     },
     "execution_count": 12,
     "metadata": {},
     "output_type": "execute_result"
    }
   ],
   "source": [
    "wordidx['intelligence']"
   ]
  },
  {
   "cell_type": "code",
   "execution_count": 13,
   "metadata": {},
   "outputs": [
    {
     "data": {
      "text/plain": [
       "array([-0.311 , -0.4329,  0.7773, -0.3112,  0.0529, -0.8502, -0.3537,\n",
       "       -0.7053,  0.0845,  0.8877,  0.8353, -0.4164,  0.367 ,  0.6083,\n",
       "        0.0085,  0.9429,  0.5314, -0.7532, -0.8676,  0.3483, -0.2986,\n",
       "       -0.4344,  0.3514, -1.1228, -1.2564, -0.0942,  0.294 ,  0.3199,\n",
       "        0.0867,  0.3192,  0.5607,  0.033 , -0.9438, -0.5811,  0.1127,\n",
       "        0.0061, -0.7935,  0.7037,  0.5969,  0.605 , -0.2286, -0.2647,\n",
       "        0.0452,  0.5812,  0.2676, -0.4724,  0.2936, -0.2834, -0.2282,\n",
       "       -0.5953,  1.0845,  0.2154,  0.5789,  1.5825,  0.1532, -1.3246,\n",
       "        0.4259, -0.2483,  1.3285,  0.4874,  0.1711,  0.7304,  0.5175,\n",
       "       -0.5017,  0.2325, -0.3318, -0.3177,  0.3471,  0.9589,  1.5972,\n",
       "        0.7646, -0.1559, -0.1355, -0.9765, -0.2955,  0.0973, -0.1711,\n",
       "        0.1769, -1.1941,  0.4109,  1.0578,  0.5555,  0.0343, -0.186 ,\n",
       "       -1.7366,  0.227 ,  1.0213,  0.8021, -0.0174, -0.4557, -0.1136,\n",
       "        0.0321, -0.3708,  0.2216, -0.003 ,  0.2329,  0.1698, -1.0727,\n",
       "       -0.1842,  0.4582], dtype=float32)"
      ]
     },
     "execution_count": 13,
     "metadata": {},
     "output_type": "execute_result"
    }
   ],
   "source": [
    "vecs[1226]"
   ]
  },
  {
   "cell_type": "code",
   "execution_count": 14,
   "metadata": {},
   "outputs": [],
   "source": [
    "from scipy.spatial.distance import cosine as dist"
   ]
  },
  {
   "cell_type": "code",
   "execution_count": 15,
   "metadata": {},
   "outputs": [
    {
     "name": "stdout",
     "output_type": "stream",
     "text": [
      "0.5097289383411407\n",
      "0.20527541637420654\n",
      "0.3426266312599182\n"
     ]
    }
   ],
   "source": [
    "#small numbers mean two words are closer together, larger numbers mean they are further apart\n",
    "# distance between words\n",
    "\n",
    "print(dist(vecs[wordidx['drug']], vecs[wordidx['medicine']]))\n",
    "print(dist(vecs[wordidx['queen']], vecs[wordidx['princess']]))\n",
    "print(dist(vecs[wordidx['drug']], vecs[wordidx['medication']]))"
   ]
  },
  {
   "cell_type": "code",
   "execution_count": 16,
   "metadata": {},
   "outputs": [],
   "source": [
    "import plotly\n",
    "import plotly.graph_objs as go\n",
    "from IPython.display import IFrame"
   ]
  },
  {
   "cell_type": "code",
   "execution_count": 17,
   "metadata": {},
   "outputs": [],
   "source": [
    "def plotly_3d(Y, cat_labels):\n",
    "    trace_dict = {}\n",
    "    for i, label in enumerate(cat_labels):\n",
    "        trace_dict[i] = go.Scatter3d(\n",
    "            x=Y[i*5:(i+1)*5, 0],\n",
    "            y=Y[i*5:(i+1)*5, 1],\n",
    "            z=Y[i*5:(i+1)*5, 2],\n",
    "            mode='markers',\n",
    "            marker=dict(\n",
    "                size=8,\n",
    "                line=dict(\n",
    "                    color='rgba('+ str(i*40) + ',' + str(i*40) + ',' + str(i*40) + ', 0.14)',\n",
    "                    width=0.5\n",
    "                ),\n",
    "                opacity=0.8\n",
    "            ),\n",
    "            text = my_words[i*5:(i+1)*5],\n",
    "            name = label\n",
    "        )\n",
    "\n",
    "    data = [item for item in trace_dict.values()]\n",
    "    layout = go.Layout(\n",
    "        margin=dict(\n",
    "            l=0,\n",
    "            r=0,\n",
    "            b=0,\n",
    "            t=0\n",
    "        )\n",
    "    )\n",
    "\n",
    "    plotly.offline.plot({\n",
    "        \"data\": data,\n",
    "        \"layout\": layout\n",
    "    })"
   ]
  },
  {
   "cell_type": "code",
   "execution_count": 18,
   "metadata": {},
   "outputs": [],
   "source": [
    "def plotly_2d(Y, cat_labels):\n",
    "    trace_dict = {}\n",
    "    for i, label in enumerate(cat_labels):\n",
    "        trace_dict[i] = go.Scatter(\n",
    "            x=Y[i*5:(i+1)*5, 0],\n",
    "            y=Y[i*5:(i+1)*5, 1],\n",
    "            mode='markers',\n",
    "            marker=dict(\n",
    "                size=8,\n",
    "                line=dict(\n",
    "                    color='rgba('+ str(i*40) + ',' + str(i*40) + ',' + str(i*40) + ', 0.14)',\n",
    "                    width=0.5\n",
    "                ),\n",
    "                opacity=0.8\n",
    "            ),\n",
    "            text = my_words[i*5:(i+1)*5],\n",
    "            name = label\n",
    "        )\n",
    "\n",
    "    data = [item for item in trace_dict.values()]\n",
    "    layout = go.Layout(\n",
    "        margin=dict(\n",
    "            l=0,\n",
    "            r=0,\n",
    "            b=0,\n",
    "            t=0\n",
    "        )\n",
    "    )\n",
    "\n",
    "    plotly.offline.plot({\n",
    "        \"data\": data,\n",
    "        \"layout\": layout\n",
    "    })"
   ]
  },
  {
   "cell_type": "code",
   "execution_count": 19,
   "metadata": {},
   "outputs": [],
   "source": [
    "categories = [\n",
    "              \"bugs\", \"music\", \n",
    "              \"pleasant\", \"unpleasant\", \n",
    "              \"science\", \"arts\"\n",
    "             ]"
   ]
  },
  {
   "cell_type": "code",
   "execution_count": 20,
   "metadata": {},
   "outputs": [],
   "source": [
    "my_words = [\n",
    "            \"maggot\", \"flea\", \"tarantula\", \"bedbug\", \"mosquito\", \n",
    "            \"violin\", \"cello\", \"flute\", \"harp\", \"mandolin\",\n",
    "            \"joy\", \"love\", \"peace\", \"pleasure\", \"wonderful\",\n",
    "            \"agony\", \"terrible\", \"horrible\", \"nasty\", \"failure\", \n",
    "            \"physics\", \"chemistry\", \"science\", \"technology\", \"engineering\",\n",
    "            \"poetry\", \"art\", \"literature\", \"dance\", \"symphony\",\n",
    "           ]"
   ]
  },
  {
   "cell_type": "code",
   "execution_count": 21,
   "metadata": {},
   "outputs": [],
   "source": [
    "X = np.array([wordidx[word] for word in my_words])"
   ]
  },
  {
   "cell_type": "code",
   "execution_count": 22,
   "metadata": {},
   "outputs": [
    {
     "data": {
      "text/plain": [
       "(10030, 100)"
      ]
     },
     "execution_count": 22,
     "metadata": {},
     "output_type": "execute_result"
    }
   ],
   "source": [
    "embeddings = np.concatenate((vecs[X], vecs[:10000,:]), axis=0); embeddings.shape"
   ]
  },
  {
   "cell_type": "markdown",
   "metadata": {},
   "source": [
    "### viewing the words in 3D\n",
    "- TSNE or PCA"
   ]
  },
  {
   "cell_type": "code",
   "execution_count": 23,
   "metadata": {},
   "outputs": [],
   "source": [
    "from sklearn import manifold"
   ]
  },
  {
   "cell_type": "code",
   "execution_count": 24,
   "metadata": {},
   "outputs": [],
   "source": [
    "tsne = manifold.TSNE(n_components=3, init='pca', random_state=0)\n",
    "Y = tsne.fit_transform(embeddings)\n",
    "plotly_3d(Y, categories)"
   ]
  },
  {
   "cell_type": "code",
   "execution_count": 25,
   "metadata": {},
   "outputs": [
    {
     "data": {
      "text/html": [
       "\n",
       "        <iframe\n",
       "            width=\"600\"\n",
       "            height=\"400\"\n",
       "            src=\"temp-plot.html\"\n",
       "            frameborder=\"0\"\n",
       "            allowfullscreen\n",
       "        ></iframe>\n",
       "        "
      ],
      "text/plain": [
       "<IPython.lib.display.IFrame at 0x137c4cc50>"
      ]
     },
     "execution_count": 25,
     "metadata": {},
     "output_type": "execute_result"
    }
   ],
   "source": [
    "IFrame('temp-plot.html', width=600, height=400)"
   ]
  },
  {
   "cell_type": "code",
   "execution_count": 26,
   "metadata": {},
   "outputs": [],
   "source": [
    "from sklearn import decomposition"
   ]
  },
  {
   "cell_type": "code",
   "execution_count": 27,
   "metadata": {},
   "outputs": [],
   "source": [
    "pca = decomposition.PCA(n_components=3).fit(embeddings.T)\n",
    "components = pca.components_\n",
    "plotly_3d(components.T[:len(my_words), :], categories)"
   ]
  },
  {
   "cell_type": "code",
   "execution_count": 28,
   "metadata": {},
   "outputs": [
    {
     "data": {
      "text/html": [
       "\n",
       "        <iframe\n",
       "            width=\"600\"\n",
       "            height=\"400\"\n",
       "            src=\"temp-plot.html\"\n",
       "            frameborder=\"0\"\n",
       "            allowfullscreen\n",
       "        ></iframe>\n",
       "        "
      ],
      "text/plain": [
       "<IPython.lib.display.IFrame at 0x137c51320>"
      ]
     },
     "execution_count": 28,
     "metadata": {},
     "output_type": "execute_result"
    }
   ],
   "source": [
    "IFrame('temp-plot.html', width=600, height=400)"
   ]
  },
  {
   "cell_type": "markdown",
   "metadata": {},
   "source": [
    "### Nearest neighbors"
   ]
  },
  {
   "cell_type": "code",
   "execution_count": 29,
   "metadata": {},
   "outputs": [],
   "source": [
    "from sklearn.neighbors import NearestNeighbors"
   ]
  },
  {
   "cell_type": "code",
   "execution_count": 30,
   "metadata": {},
   "outputs": [
    {
     "data": {
      "text/plain": [
       "NearestNeighbors(algorithm='brute', leaf_size=30, metric='cosine',\n",
       "         metric_params=None, n_jobs=1, n_neighbors=10, p=2, radius=0.5)"
      ]
     },
     "execution_count": 30,
     "metadata": {},
     "output_type": "execute_result"
    }
   ],
   "source": [
    "neigh = NearestNeighbors(n_neighbors=10, radius=0.5, metric='cosine', algorithm='brute')\n",
    "neigh.fit(vecs)"
   ]
  },
  {
   "cell_type": "code",
   "execution_count": 31,
   "metadata": {},
   "outputs": [],
   "source": [
    "distances, indices = neigh.kneighbors([vecs[wordidx['drug']]])"
   ]
  },
  {
   "cell_type": "code",
   "execution_count": 32,
   "metadata": {},
   "outputs": [
    {
     "data": {
      "text/plain": [
       "[('drug', 1.1920929e-07),\n",
       " ('drugs', 0.09482932),\n",
       " ('cocaine', 0.26914638),\n",
       " ('trafficking', 0.2765547),\n",
       " ('narcotics', 0.28780347),\n",
       " ('prescription', 0.31239307),\n",
       " ('traffickers', 0.31349838),\n",
       " ('heroin', 0.32361674),\n",
       " ('treatment', 0.32445478),\n",
       " ('marijuana', 0.33303165)]"
      ]
     },
     "execution_count": 32,
     "metadata": {},
     "output_type": "execute_result"
    }
   ],
   "source": [
    "[(words[int(ind)], dist) for ind, dist in zip(list(indices[0]), list(distances[0]))]"
   ]
  },
  {
   "cell_type": "markdown",
   "metadata": {},
   "source": [
    "#### combine words"
   ]
  },
  {
   "cell_type": "code",
   "execution_count": 33,
   "metadata": {},
   "outputs": [
    {
     "data": {
      "text/plain": [
       "array([ 1.6815, -0.5358, -0.192 ,  0.2729, -0.5727,  1.3718,  0.7215,\n",
       "        0.307 , -0.2641, -0.1579, -0.3427, -0.0422, -1.0191,  0.9318,\n",
       "        1.1623,  1.1909,  0.4329, -1.1958, -0.3869, -0.7594,  0.6601,\n",
       "       -1.2179, -1.2232,  1.5385, -2.5321,  1.8371,  0.9078, -2.8833,\n",
       "       -1.224 , -0.2556,  1.2389,  0.7767, -0.6275,  0.0336,  0.4029,\n",
       "        1.4274, -0.3828, -0.085 , -0.1743,  0.6235,  0.0252,  1.0936,\n",
       "        0.4326, -2.2592,  0.7658,  0.6213, -0.3143, -1.0698, -0.6511,\n",
       "       -0.5507,  0.7336,  1.2444, -0.733 ,  1.5247,  0.6895, -1.9009,\n",
       "       -1.1109, -0.4492,  2.8318,  0.0107,  0.9959,  0.6507,  1.2779,\n",
       "       -0.4184,  0.1191,  0.5387,  1.1988, -0.843 ,  1.1415, -0.396 ,\n",
       "       -0.5024, -1.514 , -0.3846,  1.7065, -0.0007, -0.4634, -1.136 ,\n",
       "       -0.454 , -1.7857, -0.5474,  1.5766,  0.0763, -2.1095,  0.7399,\n",
       "       -4.2753,  0.253 ,  0.4625,  0.1909, -3.2695, -0.6329, -0.5326,\n",
       "       -0.4154,  0.0811, -0.5186,  0.5659,  0.977 ,  0.688 , -0.3712,\n",
       "        1.2955,  0.2288], dtype=float32)"
      ]
     },
     "execution_count": 33,
     "metadata": {},
     "output_type": "execute_result"
    }
   ],
   "source": [
    "new_vec = vecs[wordidx['drug']] + vecs[wordidx['medication']]\n",
    "new_vec"
   ]
  },
  {
   "cell_type": "code",
   "execution_count": 34,
   "metadata": {},
   "outputs": [],
   "source": [
    "distances, indices = neigh.kneighbors([new_vec])"
   ]
  },
  {
   "cell_type": "code",
   "execution_count": 35,
   "metadata": {},
   "outputs": [
    {
     "data": {
      "text/plain": [
       "[('drug', 0.07643634),\n",
       " ('drugs', 0.08592087),\n",
       " ('medication', 0.10392296),\n",
       " ('medications', 0.16097057),\n",
       " ('prescription', 0.20981598),\n",
       " ('treatment', 0.22952163),\n",
       " ('pills', 0.27385557),\n",
       " ('medicines', 0.29003102),\n",
       " ('prescribed', 0.2973038),\n",
       " ('patients', 0.30121684)]"
      ]
     },
     "execution_count": 35,
     "metadata": {},
     "output_type": "execute_result"
    }
   ],
   "source": [
    "[(words[int(ind)], dist) for ind, dist in zip(list(indices[0]), list(distances[0]))]"
   ]
  },
  {
   "cell_type": "markdown",
   "metadata": {},
   "source": [
    "### Movie Reviews Sentiment Analysis\n",
    "\n",
    "- with IMDB dataset"
   ]
  },
  {
   "cell_type": "code",
   "execution_count": 36,
   "metadata": {},
   "outputs": [
    {
     "name": "stderr",
     "output_type": "stream",
     "text": [
      "/Users/grace/workspace/keras/venv/lib/python3.6/site-packages/h5py/__init__.py:36: FutureWarning:\n",
      "\n",
      "Conversion of the second argument of issubdtype from `float` to `np.floating` is deprecated. In future, it will be treated as `np.float64 == np.dtype(float).type`.\n",
      "\n",
      "Using TensorFlow backend.\n",
      "/Users/grace/workspace/keras/venv/lib/python3.6/importlib/_bootstrap.py:219: RuntimeWarning:\n",
      "\n",
      "compiletime version 3.5 of module 'tensorflow.python.framework.fast_tensor_util' does not match runtime version 3.6\n",
      "\n"
     ]
    }
   ],
   "source": [
    "import pickle\n",
    "from keras.datasets import imdb\n",
    "from keras.utils.data_utils import get_file\n",
    "idx = imdb.get_word_index()"
   ]
  },
  {
   "cell_type": "code",
   "execution_count": 37,
   "metadata": {},
   "outputs": [
    {
     "data": {
      "text/plain": [
       "dict"
      ]
     },
     "execution_count": 37,
     "metadata": {},
     "output_type": "execute_result"
    }
   ],
   "source": [
    "type(idx)"
   ]
  },
  {
   "cell_type": "code",
   "execution_count": 38,
   "metadata": {},
   "outputs": [],
   "source": [
    "import keras.backend as K\n",
    "\n",
    "def limit_mem():\n",
    "    K.get_session().close()\n",
    "    cfg = K.tf.ConfigProto()\n",
    "    cfg.gpu_options.allow_growth = True\n",
    "#     cfg.gpu_options.per_process_gpu_memeory_fraction = 0.6\n",
    "    K.set_session(K.tf.Session(config=cfg))\n",
    "    \n",
    "limit_mem()"
   ]
  },
  {
   "cell_type": "code",
   "execution_count": 39,
   "metadata": {},
   "outputs": [
    {
     "data": {
      "text/plain": [
       "['the', 'and', 'a', 'of', 'to', 'is', 'br', 'in', 'it', 'i']"
      ]
     },
     "execution_count": 39,
     "metadata": {},
     "output_type": "execute_result"
    }
   ],
   "source": [
    "idx_arr = sorted(idx, key=idx.get)\n",
    "idx_arr[:10]"
   ]
  },
  {
   "cell_type": "code",
   "execution_count": 40,
   "metadata": {},
   "outputs": [],
   "source": [
    "idx2word = {v: k for k, v in idx.items()}"
   ]
  },
  {
   "cell_type": "markdown",
   "metadata": {},
   "source": [
    "download dataset from https://keras.io/datasets/"
   ]
  },
  {
   "cell_type": "code",
   "execution_count": 41,
   "metadata": {},
   "outputs": [],
   "source": [
    "path = get_file('imdb_full.pkl',\\\n",
    "               origin='https://s3.amazonaws.com/text-datasets/imdb_full.pkl',\\\n",
    "               md5_hash='d091312047c43cf9e4e38fef92437263')\n",
    "f = open(path, 'rb')\n",
    "(x_train, labels_train), (x_test, labels_test) = pickle.load(f)"
   ]
  },
  {
   "cell_type": "code",
   "execution_count": 42,
   "metadata": {},
   "outputs": [
    {
     "data": {
      "text/plain": [
       "25000"
      ]
     },
     "execution_count": 42,
     "metadata": {},
     "output_type": "execute_result"
    }
   ],
   "source": [
    "len(x_train)"
   ]
  },
  {
   "cell_type": "code",
   "execution_count": 43,
   "metadata": {},
   "outputs": [
    {
     "data": {
      "text/plain": [
       "'23022, 309, 6, 3, 1069, 209, 9, 2175, 30, 1, 169, 55, 14, 46, 82, 5869, 41, 393, 110, 138, 14, 5359, 58, 4477, 150, 8, 1, 5032, 5948, 482, 69, 5, 261, 12, 23022, 73935, 2003, 6, 73, 2436, 5, 632, 71, 6, 5359, 1, 25279, 5, 2004, 10471, 1, 5941, 1534, 34, 67, 64, 205, 140, 65, 1232, 63526, 21145, 1, 49265, 4, 1, 223, 901, 29, 3024, 69, 4, 1, 5863, 10, 694, 2, 65, 1534, 51, 10, 216, 1, 387, 8, 60, 3, 1472, 3724, 802, 5, 3521, 177, 1, 393, 10, 1238, 14030, 30, 309, 3, 353, 344, 2989, 143, 130, 5, 7804, 28, 4, 126, 5359, 1472, 2375, 5, 23022, 309, 10, 532, 12, 108, 1470, 4, 58, 556, 101, 12, 23022, 309, 6, 227, 4187, 48, 3, 2237, 12, 9, 215'"
      ]
     },
     "execution_count": 43,
     "metadata": {},
     "output_type": "execute_result"
    }
   ],
   "source": [
    "#check first review\n",
    "', '.join(map(str, x_train[0]))"
   ]
  },
  {
   "cell_type": "code",
   "execution_count": 44,
   "metadata": {},
   "outputs": [
    {
     "data": {
      "text/plain": [
       "'bromwell'"
      ]
     },
     "execution_count": 44,
     "metadata": {},
     "output_type": "execute_result"
    }
   ],
   "source": [
    "idx2word[23022]"
   ]
  },
  {
   "cell_type": "code",
   "execution_count": 45,
   "metadata": {},
   "outputs": [
    {
     "data": {
      "text/plain": [
       "\"bromwell high is a cartoon comedy it ran at the same time as some other programs about school life such as teachers my 35 years in the teaching profession lead me to believe that bromwell high's satire is much closer to reality than is teachers the scramble to survive financially the insightful students who can see right through their pathetic teachers' pomp the pettiness of the whole situation all remind me of the schools i knew and their students when i saw the episode in which a student repeatedly tried to burn down the school i immediately recalled at high a classic line inspector i'm here to sack one of your teachers student welcome to bromwell high i expect that many adults of my age think that bromwell high is far fetched what a pity that it isn't\""
      ]
     },
     "execution_count": 45,
     "metadata": {},
     "output_type": "execute_result"
    }
   ],
   "source": [
    "' '.join(idx2word[o] for o in x_train[0])"
   ]
  },
  {
   "cell_type": "code",
   "execution_count": 46,
   "metadata": {},
   "outputs": [
    {
     "data": {
      "text/plain": [
       "[1, 1, 1, 1, 1, 1, 1, 1, 1, 1]"
      ]
     },
     "execution_count": 46,
     "metadata": {},
     "output_type": "execute_result"
    }
   ],
   "source": [
    "#labels are 1 for positive and 0 for negative\n",
    "labels_train[:10]"
   ]
  },
  {
   "cell_type": "code",
   "execution_count": 47,
   "metadata": {},
   "outputs": [],
   "source": [
    "#reduce vocab size by setting rare words to max index\n",
    "\n",
    "vocab_size = 5000\n",
    "\n",
    "trn = [np.array([i if i<vocab_size-1 else vocab_size-1 for i in s]) for s in x_train]\n",
    "test = [np.array([i if i<vocab_size-1 else vocab_size-1 for i in s]) for s in x_test]"
   ]
  },
  {
   "cell_type": "code",
   "execution_count": 48,
   "metadata": {},
   "outputs": [
    {
     "data": {
      "text/plain": [
       "[array([4999,  309,    6,    3, 1069,  209,    9, 2175,   30,    1,  169,\n",
       "          55,   14,   46,   82, 4999,   41,  393,  110,  138,   14, 4999,\n",
       "          58, 4477,  150,    8,    1, 4999, 4999,  482,   69,    5,  261,\n",
       "          12, 4999, 4999, 2003,    6,   73, 2436,    5,  632,   71,    6,\n",
       "        4999,    1, 4999,    5, 2004, 4999,    1, 4999, 1534,   34,   67,\n",
       "          64,  205,  140,   65, 1232, 4999, 4999,    1, 4999,    4,    1,\n",
       "         223,  901,   29, 3024,   69,    4,    1, 4999,   10,  694,    2,\n",
       "          65, 1534,   51,   10,  216,    1,  387,    8,   60,    3, 1472,\n",
       "        3724,  802,    5, 3521,  177,    1,  393,   10, 1238, 4999,   30,\n",
       "         309,    3,  353,  344, 2989,  143,  130,    5, 4999,   28,    4,\n",
       "         126, 4999, 1472, 2375,    5, 4999,  309,   10,  532,   12,  108,\n",
       "        1470,    4,   58,  556,  101,   12, 4999,  309,    6,  227, 4187,\n",
       "          48,    3, 2237,   12,    9,  215]),\n",
       " array([4999,   39, 4999,   14,  739, 4999, 3428,   44,   74,   32, 1831,\n",
       "          15,  150,   18,  112,    3, 1344,    5,  336,  145,   20,    1,\n",
       "         887,   12,   68,  277, 1189,  403,   34,  119,  282,   36,  167,\n",
       "           5,  393,  154,   39, 2299,   15,    1,  548,   88,   81,  101,\n",
       "           4,    1, 3273,   14,   40,    3,  413, 1200,  134, 4999,   41,\n",
       "         180,  138,   14, 3086,    1,  322,   20, 4930, 4999,  359,    5,\n",
       "        3112, 2128,    1, 4999, 4999,   39, 4999,   45, 3661,   27,  372,\n",
       "           5,  127,   53,   20,    1, 1983,    7,    7,   18,   48,   45,\n",
       "          22,   68,  345,    3, 2131,    5,  409,   20,    1, 1983,   15,\n",
       "           3, 3238,  206,    1, 4999,   22,  277,   66,   36,    3,  341,\n",
       "           1,  719,  729,    3, 3865, 1265,   20,    1, 1510,    3, 1219,\n",
       "           2,  282,   22,  277, 2525,    5,   64,   48,   42,   37,    5,\n",
       "          27, 3273,   12,    6, 4999, 4999, 2034,    7,    7, 3771, 3225,\n",
       "          34, 4186,   34,  378,   14, 4999,  296,    3, 1023,  129,   34,\n",
       "          44,  282,    8,    1,  179,  363, 4999,    5,   94,    3, 2131,\n",
       "          16,    3, 4999, 3005, 4999, 4999,    5,   64,   45,   26,   67,\n",
       "         409,    8,    1, 1983,   15, 3261,  501,  206,    1, 4999,   45,\n",
       "        4999, 2877,   26,   67,   78,   48,   26,  491,   16,    3,  702,\n",
       "        1184,    4,  228,   50, 4505,    1, 4999,   20,  118, 4999,    6,\n",
       "        1373,   20,    1,  887,   16,    3, 4999,   20,   24, 3964,    5,\n",
       "        4999,   24,  172,  844,  118,   26,  188, 1488,  122,    1, 4999,\n",
       "         237,  345,    1, 4999, 4999,   31,    3, 4999,  100,   42,  395,\n",
       "          20,   24, 4999,  118, 4999,  889,   82,  102,  584,    3,  252,\n",
       "          31,    1,  400,    4, 4787, 4999, 1962, 3861,   32, 1230, 3186,\n",
       "          34,  185, 4310,  156, 2325,   38,  341,    2,   38, 4999, 4999,\n",
       "        2231, 4846,    2, 4999, 4999, 2610,   34,   23,  457,  340,    5,\n",
       "           1, 1983,  504, 4355, 4999,  215,  237,   21,  340,    5, 4468,\n",
       "        4999, 4999,   37,   26,  277,  119,   51,  109, 1023,  118,   42,\n",
       "         545,   39, 2814,  513,   39,   27,  553,    7,    7,  134,    1,\n",
       "         116, 2022,  197, 4787,    2, 4999,  283, 1667,    5,  111,   10,\n",
       "         255,  110, 4382,    5,   27,   28,    4, 3771, 4999, 4999,  105,\n",
       "         118, 2597,    5,  109,    3,  209,    9,  284,    3, 4325,  496,\n",
       "        1076,    5,   24, 2761,  154,  138,   14, 4999, 4999,  182, 4999,\n",
       "          39, 4999,   15,    1,  548,    5,  120,   48,   42,   37,  257,\n",
       "         139, 4530,  156, 2325,    9,    1,  372,  248,   39,   20,    1,\n",
       "          82,  505,  228,    3,  376, 2131,   37,   29, 1023,   81,   78,\n",
       "          51,   33,   89,  121,   48,    5,   78,   16,   65,  275,  276,\n",
       "          33,  141,  199,    9,    5,    1, 3273,  302,    4,  769,    9,\n",
       "          37, 4999,  275,    7,    7,   39,  276,   11,   19,   77, 4999,\n",
       "          22,    5,  336,  406]),\n",
       " array([ 527,  117,  113,   31, 4999, 1962, 3861,  115,  902, 4999,  758,\n",
       "          10,   25,  123,  107,    2,  116,  136,    8, 1646, 4999,   23,\n",
       "         330,    5,  597,    1, 4999,   20,  390,    6,    3,  353,   14,\n",
       "          49,   14,  230,    8, 4999, 4999,    1,  190,   20, 4999,    6,\n",
       "          79,  894,  100,  109, 3609,    4,  109,    3, 4999, 3485,   43,\n",
       "          24, 1407,    2,  109, 4999,    1, 2405,    4, 4999, 4999, 4999,\n",
       "        4999,  143,    3, 2405,   26,  557,  286,  160,  712, 4122, 4999,\n",
       "           3,  511,   36,    1,  300, 2793, 4999,  120,    6,  774,  130,\n",
       "          96,   14,    3, 1165, 4999,   34,  491,    5, 4263,    1, 4999,\n",
       "          24,  106,    6,   50, 4999,   71,  641,    1, 1547,  133,    2,\n",
       "           1,  133,  118,    1, 3273, 4999,    3, 4999, 2135,   23,   29,\n",
       "          55, 2236,  165,   15,    1, 2974,  133,    2,    1,  104,  191,\n",
       "        4999,  994,   28, 4999,   11,   17,  211,  125,  254,   55,   10,\n",
       "          64,    9,   60,    6,  176,  397]),\n",
       " array([  11,    6,  711,    1,   88, 2181,   19, 4999,    1, 3225, 4999,\n",
       "         249,   91, 3045,    9,  124,   21,  199,    3,  818,  647,    4,\n",
       "        4999, 1022,  132,   86, 3842, 3558,  517,    3,  818,  647,    4,\n",
       "        4999, 4999,   39, 2743,  517,    3,  818,  647,    4, 4999,   22,\n",
       "        3752,  108,    4,    1,  637,  806, 1032,   18,  128,   11,   19,\n",
       "           6,   52, 3201,    8,    3,   93,  108, 1287,   23,   21,    2,\n",
       "           5, 1595,   12,  122,    8,    3,   62,   41,   46,    4,    1,\n",
       "          88, 4999, 4999, 1063,    4,  923,    6,  368, 1156,   91,   21,\n",
       "           1, 3870,  708,   18,   91,   21,  592,  342,   58,   61, 3303,\n",
       "           6,   12, 3225,  141,   25,  174,  291,  331,    8,    1,  482,\n",
       "          10,  116, 3771,   14,    3,  164,    2,  561,   21,   35,   73,\n",
       "          14,    3,  482]),\n",
       " array([  11,    6,   21,    1,  798, 3771, 3225,   19,    9,   13,   73,\n",
       "         326, 2761,   71,   88,    4,   24,   99,    2,  162,   66,    3,\n",
       "         111,   12,   13, 4999, 2811, 1962, 3861,   90,    1,   17,   56,\n",
       "           6,  138,    3,  774,  464, 1147,  521,   47,   68,   46,  385,\n",
       "          12,   97,   25,   74, 4999,   43,    3,  224,   50,    2,   46,\n",
       "         136,   12,   97,  239,   25,   74,  602,    5,   94,    1,  670,\n",
       "           5,   78,   35,   18,   29,    8,   29,   11,    6,  287,    1,\n",
       "        1863,    5,  848,    2,   64,    9,    1,  113,   13,   49,  441,\n",
       "        3225,  306,  119,    3,   49,  289,  206,   24, 4999, 1383,    5,\n",
       "        2552,    5,    1,  308,  171, 3861,   13,    1,  115,  281,    8,\n",
       "           1,   17,   18, 4999,    2, 4999,  196,  253,   65,  528,   70]),\n",
       " array([  11,  215,    1, 1714, 2160, 1698,  882,    6,    9,    1, 2809,\n",
       "        2137, 2160, 1698,    4, 1133,  705, 2243,   11,    6,    3, 4999,\n",
       "           4,    1,  353,  450,  206,  117, 4999, 1846,   16, 4999,  159,\n",
       "         116,    4,    1,  705,   18,   11,  215,    3,  705, 3110, 4999,\n",
       "          11,    6,   50,    3,  733,  833, 2193,  140,   60, 1698, 1024,\n",
       "           5, 4999,    3, 1192,  427,    2,   24, 4999,    7,    7,   79,\n",
       "        1181, 4602,  446,    2, 4999, 4999,   11,  833,  450,  296,  181,\n",
       "          73,   37,    3, 1633, 4433,  363, 4999,  106,  211,  488,    5,\n",
       "        4999,   24, 3356,    7,    7,   10,  212,  132,   12,   10,   13,\n",
       "         542, 2173,  148,   11,   17,  993,    5, 3333, 3616, 4999,   39,\n",
       "        4999,    9,  418,   50,   37,   10,   13,  146,    3,  229, 1698,\n",
       "          14,   26,   13,  162, 3459,    1, 1726,   36,    3,  837,  412,\n",
       "        1968,    8,   82,  712,    9,  418,  144,    2,   10,   13,  499,\n",
       "           5, 4999,    5,    1,  860,    4,    1,   62,    7,    7,   29,\n",
       "           8,   29,   42,  287,    3,  103,  148,   42,  404,   21, 2550,\n",
       "        2321,  311, 2393,    7,    7,    9, 4999,    3,  690,  690,  155,\n",
       "          36,    7,    7,    1, 4999]),\n",
       " array([ 419,   91,   32,  495,    5, 2973,   94,    3,  547, 1782,  705,\n",
       "           7,    7,    1,   62, 4183,    8,  324, 4999,  134,   22,   89,\n",
       "          57, 1492,    9, 1445,    7,    7,  475,  236,   31, 2160, 1698,\n",
       "           1, 3121, 2442,    8,    1,   19,   67,  303, 1741,    2,   67,\n",
       "         239, 4522,   86,   73,   22,  355,    1,   19,  187,    1, 2023,\n",
       "         111,    6,   52, 1725,    1,   17,  149, 3406, 1643,   22,    2,\n",
       "         128, 4999,   22,  192,    5,  398,   22, 1532,    1,  455,    6,\n",
       "          49,  358,    4, 2687,    5, 2712, 4627, 4999,    4,  833,    2,\n",
       "        4999,    6,   49,    7,    7,   52,  324,  297,   55,  103,   45,\n",
       "          22,   23,  264,    5, 4582,  142,    2,  839,    3, 3014,  343,\n",
       "          62]),\n",
       " array([   8,   11, 4999, 4999, 1984,  705,  445,   20,  280,  684, 4868,\n",
       "        2160, 1698,    3, 4999,  561,    2,  519,  311,  737,  120, 3229,\n",
       "         458, 4999,   31,    1, 4999,   62,    4,    3,  182, 4999,    2,\n",
       "          24, 4999,  449, 4999, 4999,   51, 4999, 1201, 4999,   41,   11,\n",
       "        4999,   62,  187, 4868,  656,  306, 1306,   80,    3, 4999,  733,\n",
       "          12, 4999,    3, 2492, 4999, 1790,    5,  595, 4116, 3932,    7,\n",
       "           7,   22,   63,  141,  567,  883,  131,  792,    2,  103,    1,\n",
       "          19,  147,    7,    7,    1,   86,  119,   26, 1582,   24, 3964,\n",
       "         274,   16, 1560, 4999, 3598,   38,  159,  110,  141,   27, 4999,\n",
       "         122,    2, 1409,    5, 4999,  136, 1538,   42, 4999,    1,  280,\n",
       "         873,    4,   38, 1745,    2, 1749, 4999,  141,   27,  575,   31,\n",
       "           1,   55,  440, 1698, 1744,    5,  159,  779,  866,   38, 4999,\n",
       "          97,   27,    8,  885,   18,    3, 3408,   97,   25,   27,   90,\n",
       "         810,    8,  342,    1, 4999,   39,  371, 2211,  136,    1,   19,\n",
       "          59, 4272,   36,    3,  793,  799,   86,   41,    3, 2027,  602,\n",
       "           7,    7, 1698,    2, 3468, 4999,   14, 4999,   89,  303, 2718,\n",
       "         864,   14,    3,  375,    3,  133,   39,  104, 4999,   65,  646,\n",
       "         235,   25, 1675,  267,    1,  865,  897,    1,  174,    6, 4999,\n",
       "        1698, 1577,   32, 4840,  562, 3585,    2,   21,    3,  989, 4999,\n",
       "        4602,  446,   14, 2244,  911, 4999,   14, 4999,    2, 4999, 4999,\n",
       "        4999, 4999,   23,   29,  401,    7,    7,  115,    4,   29, 4999,\n",
       "        4204, 3243,    8,    1,  945, 2367,    4, 2243, 1560,  446,    6,\n",
       "        2293,    8,  657, 4999,  235,   27,   22,  121,   37,   12,  229,\n",
       "          36, 4999,   47,   25,   74,  447,  150,   51, 4999,  740,  113,\n",
       "        2125,  465,    5, 2098,   15,  369,  685,    5,    3, 4999, 4999,\n",
       "           4,  552,  431,   33,   97,   25, 1922, 4999,   16,   46, 1341,\n",
       "        4999,   56,    6,   12,   49,    2,  164, 2326, 4999,  404, 4999,\n",
       "        2909,   26,   57,  163,  394,    3, 4999,   36,    3, 4999, 1689,\n",
       "        2567,    7,    7,  414,  924, 4999, 4999, 4999,    2, 3970, 2545,\n",
       "        1830, 4999,   36, 2814, 4999, 2584,    7,    7,    1,  311, 4999,\n",
       "         297, 4999, 4999, 2326, 4999, 2160, 1698, 4999, 4999, 4602,  446,\n",
       "        4999, 4999]),\n",
       " array([   1,  311, 4999, 2942,  297,  238, 2160, 1698, 4999, 4999, 3468,\n",
       "        4999, 4999, 4999,  911, 4999, 4602,  446,  305, 4999, 2748, 4999,\n",
       "        4999, 1962, 3368, 4999, 2326, 4999,    7,    7, 4999, 4999,  405,\n",
       "        1698,    3,  756,   43,  361, 1314,  236,    7,    7,   48,    6,\n",
       "           9,   41, 4999,    2,  448,   48,    6,    1,  748, 4578,   28,\n",
       "        4999,   16,    1,   82,    2,  135,    6,    9,  217,    1, 4999,\n",
       "           7,    7,    8,    1, 2481, 4999,  334, 2675,  445,   20,  280,\n",
       "         684,   54,  326, 1698,  378,   14,    3,  737, 1875, 1610,  770,\n",
       "        4868,   54,   28,   34, 4532,  534,  237, 4999,  117,    1, 4999,\n",
       "           2,   44, 4999,   32,  218,  334,    8,    1,  809,    4,    3,\n",
       "         182,  427,  770, 4999, 4999, 4999,   34,   44, 4999,    3, 4999,\n",
       "          41,    1, 4999,    4,   24, 3203, 1937,    5,   54, 2063, 3791,\n",
       "        4999, 4999,   34,  405,    9,    5,   54,   28,    5,  329,   15,\n",
       "         306,    7,    7,   54,   28,    6, 1955, 4011,   18, 1113, 3701,\n",
       "          41,    1, 4999, 2008,    4, 4999,  109, 4999,    2, 3372, 4999,\n",
       "          15,  150,  363,   26,   13,  414, 4999,   31,    3, 3730,  770,\n",
       "        4204, 4999,  740,   32,  318,  236,   34,   44, 4999,    1,  427,\n",
       "          18,   38, 4999,   16,   54,   28, 2669,   12, 4999,    6, 1718,\n",
       "          36, 4419, 1955,   54,   28,  491,    5,  906,    1,  448,   18,\n",
       "           6, 1084,    8,  821,    5,   65,  866, 4999, 4999, 4201,   51,\n",
       "           1, 4446,    6, 4999,   31,   24, 4999, 1458, 4999, 4999,  622,\n",
       "        2114, 4999,   36,   65,  159,  779,  540, 1600,   44,   54,   28,\n",
       "           8,   32,  918, 4999,   12,   44,   61,  147, 2068,   80,    3,\n",
       "        4999,    8,    3, 4999,   51,   26, 1065,    5,   78,   46, 4999,\n",
       "          80, 4204,    2, 4999, 4257, 4999,   46, 4999,   12,   26,  158,\n",
       "        4999,    7,    7,  395,   31, 4999, 4999,   34,  998, 1037,    1,\n",
       "         878,   16,   24, 1135, 1458, 3970, 2545,    2,    1,  595, 4999,\n",
       "         164, 4999,    2,  445,   20,    3,  280,   62,   41,    3, 4999,\n",
       "        4999,  255,   43,   44,   46, 4999,  385,   12,  518,   20,  365,\n",
       "        4999,   37,   98,   49,  151, 3354, 4357, 4999,  124,    9, 1522,\n",
       "          12, 1698,  405,    3,  756,   43,  361, 1314,  236,   14,    1,\n",
       "        4999,   49, 2284, 1610,   34, 2067,  491,    5,  261,   12,   24,\n",
       "         609,   28,  334,    6,    8,  189,  144,    2,  124,  116,   87,\n",
       "           1,   28,  152,   12,   44, 3951,   24,  202,  632,    2,   44,\n",
       "          46, 4330, 2147,  385,   16,    1,  945, 4999,  622,   28, 1745,\n",
       "        4999,   10,   77,  560, 4999,   18, 4999,    1, 4179,    4,   38,\n",
       "         106,   12,   67, 4999,   22,    5,    1, 2023,    7,    7,  187,\n",
       "           1,   19, 1126,   43,    4, 2548,    2,  850,  458,    3,  224,\n",
       "        3608,    2,  724,  463,    3, 4999,  523,  415,    4, 4999,    2,\n",
       "         733,   31, 4999,    9, 4101,    5, 1629,    5,  126,  202, 2416,\n",
       "         541,   27, 4687,    4,   48,   22,  437,   15]),\n",
       " array([  22,  121, 2160, 1698,  555, 4999,   87,    6, 1340, 1202,  306,\n",
       "           8,    1, 2017, 4438,   16,   29,  131,  992, 1287,   26,   44,\n",
       "         221,   11, 2065,   16,  379,    1, 1398,    4,  338,    5, 4999,\n",
       "          60, 4999,   51,    9,  382,   43,   18,    6,  147,    3, 1212,\n",
       "         353,    1, 3284,   26,   44,   90, 4438,   25,   74,  774,  259,\n",
       "        4999,    2,   28,  531, 4880,    1,  311, 4999,  463, 1498,  854,\n",
       "           2,    3, 1602,  285,  763,    6,  790,   24,  115,  154,  807,\n",
       "           7,    7,   11,    6,    3,   52, 2857,   62,   57,  148,    9,\n",
       "         149, 1467,    3, 1432,  452,   39,  256,   12, 3102, 1821,   15,\n",
       "          12,  548,    1, 1117,    4,    1,   19,    6,  445,   20,   32,\n",
       "         776,  417,    4, 4999,   12,  128,   44,  243,    5,   27, 4999,\n",
       "        4999,    8,  309,  393,   10,  329,   32, 4999,   31,    3,  503,\n",
       "         770, 2044, 4999, 2817,   34, 3114, 2990, 2566,    2,  850, 4999,\n",
       "        4419,   14,    3,  956,   10,   13, 1678,   31,    1,   62,  363,\n",
       "          10,  329, 4999, 4689,   12, 2817,  200,   21,  162, 1775,   51,\n",
       "          10,  216,   11,   17,    1, 1468, 1414,   12, 2160, 1698,   35,\n",
       "        2102,  997, 4999,    8,   58,  327,    7,    7, 4999, 4999,  239,\n",
       "         405,   38,  115,  902,  236,   96,   14,    1, 1113, 4999, 4999,\n",
       "          38,  214,   13,    3,  227, 1412,   36,  145,   56,   66,    8,\n",
       "          99,   37,  114,  714, 3903,   47,   68,   57,  208,   56,  607,\n",
       "          80,    1,  367,  118,   10,  194,   56,   13, 4485,  205,   30,\n",
       "          69,    9,  301,    3,   49,  521,    5,  294,   12,  429,    4,\n",
       "         214,    2,   42,   11, 4635,  243,   70, 4999,  214,   12,  163,\n",
       "        4999, 4999,  239,   28,    4,    1,  115, 1504,    4,   11, 2245,\n",
       "          21,    5,   25,   57,   74, 2302,   15,   32, 1806, 1341,   14,\n",
       "           4, 4999,   42, 1045,   12,   47,    6,   30,  219,   28,  252,\n",
       "           8,   11,  179,   34,    6,   37,   11,    2,   42,  626,   96,\n",
       "           7,    7,   11,    6,    3,   49,  462,   19,   12,   10,  542,\n",
       "         383,   27, 2845,    5,   27, 4999,  148,   85,   11,   17,  886,\n",
       "          22,   16,    3,  677,  544,   30,    1,  127])]"
      ]
     },
     "execution_count": 48,
     "metadata": {},
     "output_type": "execute_result"
    }
   ],
   "source": [
    "trn[:10]"
   ]
  },
  {
   "cell_type": "code",
   "execution_count": 49,
   "metadata": {},
   "outputs": [],
   "source": [
    "lens = np.array([len(review) for review in trn])"
   ]
  },
  {
   "cell_type": "code",
   "execution_count": 50,
   "metadata": {},
   "outputs": [
    {
     "data": {
      "text/plain": [
       "(2493, 10, 237.71364)"
      ]
     },
     "execution_count": 50,
     "metadata": {},
     "output_type": "execute_result"
    }
   ],
   "source": [
    "(lens.max(), lens.min(), lens.mean())"
   ]
  },
  {
   "cell_type": "code",
   "execution_count": 51,
   "metadata": {},
   "outputs": [],
   "source": [
    "#pad with zeros or truncate each sentence to make consistent length\n",
    "from keras.preprocessing import sequence"
   ]
  },
  {
   "cell_type": "code",
   "execution_count": 52,
   "metadata": {},
   "outputs": [],
   "source": [
    "seq_len = 500\n",
    "\n",
    "trn = sequence.pad_sequences(trn, maxlen=seq_len, value=0)\n",
    "test = sequence.pad_sequences(test, maxlen=seq_len, value=0)"
   ]
  },
  {
   "cell_type": "code",
   "execution_count": 53,
   "metadata": {},
   "outputs": [
    {
     "data": {
      "text/plain": [
       "(25000, 500)"
      ]
     },
     "execution_count": 53,
     "metadata": {},
     "output_type": "execute_result"
    }
   ],
   "source": [
    "#reviews shorter than 500 words are pre-padded with zeros, those greater are truncated\n",
    "trn.shape"
   ]
  },
  {
   "cell_type": "markdown",
   "metadata": {},
   "source": [
    "#### Create a Model\n",
    "\n",
    "- 1D CNN since a sequence of words is 1D"
   ]
  },
  {
   "cell_type": "code",
   "execution_count": 54,
   "metadata": {},
   "outputs": [],
   "source": [
    "from keras.models import Sequential\n",
    "from keras.layers.embeddings import Embedding\n",
    "from keras.layers.core import Flatten, Dense, Dropout\n",
    "from keras.layers.convolutional import Conv1D, MaxPooling1D\n",
    "from keras.layers import SpatialDropout1D\n",
    "from keras.optimizers import Adam"
   ]
  },
  {
   "cell_type": "code",
   "execution_count": 55,
   "metadata": {},
   "outputs": [
    {
     "name": "stdout",
     "output_type": "stream",
     "text": [
      "WARNING:tensorflow:From /Users/grace/workspace/keras/venv/lib/python3.6/site-packages/keras/backend/tensorflow_backend.py:1205: calling reduce_prod (from tensorflow.python.ops.math_ops) with keep_dims is deprecated and will be removed in a future version.\n",
      "Instructions for updating:\n",
      "keep_dims is deprecated, use keepdims instead\n"
     ]
    }
   ],
   "source": [
    "conv1 = Sequential([\n",
    "    Embedding(vocab_size, 50, input_length=seq_len),\n",
    "    SpatialDropout1D(0.4),\n",
    "    Conv1D(64, 5, padding='same', activation='relu'),\n",
    "    Dropout(0.2),\n",
    "    MaxPooling1D(),\n",
    "    Flatten(),\n",
    "    Dense(100, activation='relu'),\n",
    "    Dropout(0.5),\n",
    "    Dense(1, activation='sigmoid')\n",
    "])"
   ]
  },
  {
   "cell_type": "code",
   "execution_count": 56,
   "metadata": {},
   "outputs": [
    {
     "name": "stdout",
     "output_type": "stream",
     "text": [
      "WARNING:tensorflow:From /Users/grace/workspace/keras/venv/lib/python3.6/site-packages/keras/backend/tensorflow_backend.py:1290: calling reduce_mean (from tensorflow.python.ops.math_ops) with keep_dims is deprecated and will be removed in a future version.\n",
      "Instructions for updating:\n",
      "keep_dims is deprecated, use keepdims instead\n"
     ]
    }
   ],
   "source": [
    "conv1.compile(loss='binary_crossentropy', optimizer=Adam(), metrics=['accuracy'])"
   ]
  },
  {
   "cell_type": "code",
   "execution_count": 57,
   "metadata": {},
   "outputs": [
    {
     "name": "stdout",
     "output_type": "stream",
     "text": [
      "Train on 25000 samples, validate on 25000 samples\n",
      "Epoch 1/4\n",
      "25000/25000 [==============================] - 55s - loss: 0.4601 - acc: 0.7554 - val_loss: 0.2661 - val_acc: 0.8908\n",
      "Epoch 2/4\n",
      "25000/25000 [==============================] - 55s - loss: 0.2428 - acc: 0.9090 - val_loss: 0.2603 - val_acc: 0.8913\n",
      "Epoch 3/4\n",
      "25000/25000 [==============================] - 50s - loss: 0.1967 - acc: 0.9275 - val_loss: 0.2660 - val_acc: 0.8890\n",
      "Epoch 4/4\n",
      "25000/25000 [==============================] - 48s - loss: 0.1670 - acc: 0.9403 - val_loss: 0.2821 - val_acc: 0.8860\n"
     ]
    },
    {
     "data": {
      "text/plain": [
       "<keras.callbacks.History at 0x153e95470>"
      ]
     },
     "execution_count": 57,
     "metadata": {},
     "output_type": "execute_result"
    }
   ],
   "source": [
    "conv1.fit(trn, labels_train, validation_data=(test, labels_test), epochs=4, batch_size=64)"
   ]
  },
  {
   "cell_type": "code",
   "execution_count": 58,
   "metadata": {},
   "outputs": [],
   "source": [
    "# once close to the answer, take smaller steps"
   ]
  },
  {
   "cell_type": "code",
   "execution_count": 59,
   "metadata": {},
   "outputs": [],
   "source": [
    "conv1.optimizer.lr = 1e-4"
   ]
  },
  {
   "cell_type": "code",
   "execution_count": 60,
   "metadata": {},
   "outputs": [
    {
     "name": "stdout",
     "output_type": "stream",
     "text": [
      "Train on 25000 samples, validate on 25000 samples\n",
      "Epoch 1/4\n",
      "25000/25000 [==============================] - 50s - loss: 0.1393 - acc: 0.9488 - val_loss: 0.3087 - val_acc: 0.8854\n",
      "Epoch 2/4\n",
      "25000/25000 [==============================] - 53s - loss: 0.1181 - acc: 0.9574 - val_loss: 0.3776 - val_acc: 0.8758\n",
      "Epoch 3/4\n",
      "25000/25000 [==============================] - 48s - loss: 0.0989 - acc: 0.9648 - val_loss: 0.3497 - val_acc: 0.8810\n",
      "Epoch 4/4\n",
      "25000/25000 [==============================] - 51s - loss: 0.0851 - acc: 0.9710 - val_loss: 0.3925 - val_acc: 0.8807\n"
     ]
    },
    {
     "data": {
      "text/plain": [
       "<keras.callbacks.History at 0x153c53630>"
      ]
     },
     "execution_count": 60,
     "metadata": {},
     "output_type": "execute_result"
    }
   ],
   "source": [
    "conv1.fit(trn, labels_train, validation_data=(test, labels_test), epochs=4, batch_size=64)"
   ]
  },
  {
   "cell_type": "markdown",
   "metadata": {},
   "source": [
    "### Use GloVe word embedding\n",
    "- version of 50 dimensions"
   ]
  },
  {
   "cell_type": "code",
   "execution_count": 61,
   "metadata": {},
   "outputs": [],
   "source": [
    "# gloVe and imdb has differnet indexes\n",
    "def create_emb():\n",
    "    n_fact = vecs_50.shape[1]\n",
    "    emb = np.zeros((vocab_size, n_fact))\n",
    "    \n",
    "    for i in range(1, len(emb)):\n",
    "        word = idx2word[i]\n",
    "        if word and re.match(r\"^[a-zA-Z0-9\\-]*$\", word):\n",
    "            emb[i] = vecs_50[wordidx[word]]\n",
    "        else:\n",
    "            # if we can't find the word in gloVe, randomly initialize\n",
    "            emb[i] = np.random.normal(scale=0.6, size=(n_fact,))\n",
    "    \n",
    "    #rare words\n",
    "    emb[-1] = np.random.normal(scale=0.6, size=(n_fact,))\n",
    "    emb/=3\n",
    "    return emb"
   ]
  },
  {
   "cell_type": "code",
   "execution_count": 62,
   "metadata": {},
   "outputs": [],
   "source": [
    "emb = create_emb()"
   ]
  },
  {
   "cell_type": "code",
   "execution_count": 63,
   "metadata": {},
   "outputs": [],
   "source": [
    "#set to non-trainable\n",
    "model = Sequential([\n",
    "    Embedding(vocab_size, 50, input_length=seq_len, weights=[emb]),\n",
    "    SpatialDropout1D(0.4),\n",
    "    Conv1D(64, 5, padding='same', activation='relu'),\n",
    "    Dropout(0.2),\n",
    "    MaxPooling1D(),\n",
    "    Flatten(),\n",
    "    Dense(100, activation='relu'),\n",
    "    Dropout(0.5),\n",
    "    Dense(1, activation='sigmoid')\n",
    "])"
   ]
  },
  {
   "cell_type": "code",
   "execution_count": 64,
   "metadata": {},
   "outputs": [],
   "source": [
    "model.compile(loss='binary_crossentropy', optimizer=Adam(), metrics=['accuracy'])"
   ]
  },
  {
   "cell_type": "code",
   "execution_count": 65,
   "metadata": {},
   "outputs": [
    {
     "name": "stdout",
     "output_type": "stream",
     "text": [
      "Train on 25000 samples, validate on 25000 samples\n",
      "Epoch 1/4\n",
      "25000/25000 [==============================] - 51s - loss: 0.5905 - acc: 0.6526 - val_loss: 0.3307 - val_acc: 0.8674\n",
      "Epoch 2/4\n",
      "25000/25000 [==============================] - 48s - loss: 0.3148 - acc: 0.8749 - val_loss: 0.2581 - val_acc: 0.8943\n",
      "Epoch 3/4\n",
      "25000/25000 [==============================] - 49s - loss: 0.2539 - acc: 0.9008 - val_loss: 0.2524 - val_acc: 0.8985\n",
      "Epoch 4/4\n",
      "25000/25000 [==============================] - 52s - loss: 0.2170 - acc: 0.9178 - val_loss: 0.2495 - val_acc: 0.8988\n"
     ]
    },
    {
     "data": {
      "text/plain": [
       "<keras.callbacks.History at 0x160128860>"
      ]
     },
     "execution_count": 65,
     "metadata": {},
     "output_type": "execute_result"
    }
   ],
   "source": [
    "model.fit(trn, labels_train, validation_data=(test, labels_test), epochs=4, batch_size=64)"
   ]
  },
  {
   "cell_type": "code",
   "execution_count": 66,
   "metadata": {},
   "outputs": [],
   "source": [
    "model.optimizer.lr = 1e-4"
   ]
  },
  {
   "cell_type": "code",
   "execution_count": 67,
   "metadata": {},
   "outputs": [
    {
     "name": "stdout",
     "output_type": "stream",
     "text": [
      "Train on 25000 samples, validate on 25000 samples\n",
      "Epoch 1/4\n",
      "\r",
      "   64/25000 [..............................] - ETA: 62s - loss: 0.1673 - acc: 0.9375"
     ]
    },
    {
     "name": "stderr",
     "output_type": "stream",
     "text": [
      "/Users/grace/workspace/keras/venv/lib/python3.6/site-packages/keras/models.py:848: UserWarning:\n",
      "\n",
      "The `nb_epoch` argument in `fit` has been renamed `epochs`.\n",
      "\n"
     ]
    },
    {
     "name": "stdout",
     "output_type": "stream",
     "text": [
      "25000/25000 [==============================] - 52s - loss: 0.1905 - acc: 0.9266 - val_loss: 0.2587 - val_acc: 0.8977\n",
      "Epoch 2/4\n",
      "25000/25000 [==============================] - 50s - loss: 0.1669 - acc: 0.9362 - val_loss: 0.2575 - val_acc: 0.9000\n",
      "Epoch 3/4\n",
      "25000/25000 [==============================] - 49s - loss: 0.1458 - acc: 0.9437 - val_loss: 0.2647 - val_acc: 0.8981\n",
      "Epoch 4/4\n",
      "25000/25000 [==============================] - 50s - loss: 0.1310 - acc: 0.9490 - val_loss: 0.2849 - val_acc: 0.8980\n"
     ]
    },
    {
     "data": {
      "text/plain": [
       "<keras.callbacks.History at 0x160128668>"
      ]
     },
     "execution_count": 67,
     "metadata": {},
     "output_type": "execute_result"
    }
   ],
   "source": [
    "model.fit(trn, labels_train, validation_data=(test, labels_test), nb_epoch=4, batch_size=64)"
   ]
  },
  {
   "cell_type": "code",
   "execution_count": null,
   "metadata": {},
   "outputs": [],
   "source": []
  }
 ],
 "metadata": {
  "kernelspec": {
   "display_name": "Python 3",
   "language": "python",
   "name": "python3"
  },
  "language_info": {
   "codemirror_mode": {
    "name": "ipython",
    "version": 3
   },
   "file_extension": ".py",
   "mimetype": "text/x-python",
   "name": "python",
   "nbconvert_exporter": "python",
   "pygments_lexer": "ipython3",
   "version": "3.5.2"
  }
 },
 "nbformat": 4,
 "nbformat_minor": 2
}
