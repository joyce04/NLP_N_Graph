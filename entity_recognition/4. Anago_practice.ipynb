{
 "cells": [
  {
   "cell_type": "markdown",
   "metadata": {},
   "source": [
    "### Anago\n",
    "\n",
    "Reference : \n",
    "- https://github.com/Hironsan/anago"
   ]
  },
  {
   "cell_type": "code",
   "execution_count": 1,
   "metadata": {},
   "outputs": [],
   "source": [
    "# !pip3 install anago --user"
   ]
  },
  {
   "cell_type": "code",
   "execution_count": 25,
   "metadata": {},
   "outputs": [],
   "source": [
    "from anago.utils import load_data_and_labels, load_glove, filter_embeddings"
   ]
  },
  {
   "cell_type": "code",
   "execution_count": 13,
   "metadata": {},
   "outputs": [],
   "source": [
    "x_train, y_train = load_data_and_labels('./conll2003/en/ner/train.txt')\n",
    "x_test, y_test = load_data_and_labels('./conll2003/en/ner/test.txt')"
   ]
  },
  {
   "cell_type": "code",
   "execution_count": 14,
   "metadata": {},
   "outputs": [
    {
     "data": {
      "text/plain": [
       "['EU', 'rejects', 'German', 'call', 'to', 'boycott', 'British', 'lamb', '.']"
      ]
     },
     "execution_count": 14,
     "metadata": {},
     "output_type": "execute_result"
    }
   ],
   "source": [
    "x_train[0]"
   ]
  },
  {
   "cell_type": "code",
   "execution_count": 15,
   "metadata": {},
   "outputs": [
    {
     "data": {
      "text/plain": [
       "['B-ORG', 'O', 'B-MISC', 'O', 'O', 'O', 'B-MISC', 'O', 'O']"
      ]
     },
     "execution_count": 15,
     "metadata": {},
     "output_type": "execute_result"
    }
   ],
   "source": [
    "y_train[0]"
   ]
  },
  {
   "cell_type": "code",
   "execution_count": 16,
   "metadata": {},
   "outputs": [],
   "source": [
    "import anago"
   ]
  },
  {
   "cell_type": "code",
   "execution_count": null,
   "metadata": {},
   "outputs": [],
   "source": [
    "model = anago.Sequence()\n",
    "model.fit(x_train, y_train, epochs=20)"
   ]
  },
  {
   "cell_type": "code",
   "execution_count": null,
   "metadata": {},
   "outputs": [],
   "source": [
    "model.score(x_test, y_test)"
   ]
  },
  {
   "cell_type": "code",
   "execution_count": 27,
   "metadata": {},
   "outputs": [
    {
     "data": {
      "text/plain": [
       "{'entities': [{'beginOffset': 2,\n",
       "   'endOffset': 3,\n",
       "   'score': 1.0,\n",
       "   'text': 'Lamivudine',\n",
       "   'type': 'ORG'},\n",
       "  {'beginOffset': 13,\n",
       "   'endOffset': 16,\n",
       "   'score': 1.0,\n",
       "   'text': 'Human Immunodeficiency Virus',\n",
       "   'type': 'MISC'}],\n",
       " 'words': ['Abacavir',\n",
       "  '/',\n",
       "  'Lamivudine',\n",
       "  'is',\n",
       "  'indicated',\n",
       "  'in',\n",
       "  'antiretroviral',\n",
       "  'combination',\n",
       "  'therapy',\n",
       "  'for',\n",
       "  'the',\n",
       "  'treatment',\n",
       "  'of',\n",
       "  'Human',\n",
       "  'Immunodeficiency',\n",
       "  'Virus',\n",
       "  '(HIV)',\n",
       "  'infection',\n",
       "  'in',\n",
       "  'adults,',\n",
       "  'adolescents',\n",
       "  'and',\n",
       "  'children',\n",
       "  'weighing',\n",
       "  'at',\n",
       "  'least',\n",
       "  '25',\n",
       "  'kg']}"
      ]
     },
     "execution_count": 27,
     "metadata": {},
     "output_type": "execute_result"
    }
   ],
   "source": [
    "text = 'Abacavir / Lamivudine is indicated in antiretroviral combination therapy for the treatment of Human Immunodeficiency Virus (HIV) infection in adults, adolescents and children weighing at least 25 kg'\n",
    "model.analyze(text)"
   ]
  },
  {
   "cell_type": "markdown",
   "metadata": {},
   "source": [
    "### Download pre-trained model"
   ]
  },
  {
   "cell_type": "code",
   "execution_count": 19,
   "metadata": {},
   "outputs": [],
   "source": [
    "from anago.utils import download"
   ]
  },
  {
   "cell_type": "code",
   "execution_count": 20,
   "metadata": {},
   "outputs": [
    {
     "name": "stdout",
     "output_type": "stream",
     "text": [
      "Downloading data from https://s3-ap-northeast-1.amazonaws.com/dev.tech-sketch.jp/chakki/public/conll2003_en.zip\n",
      "154812416/154806031 [==============================] - 33s 0us/step\n"
     ]
    },
    {
     "data": {
      "text/plain": [
       "0.909446369856927"
      ]
     },
     "execution_count": 20,
     "metadata": {},
     "output_type": "execute_result"
    }
   ],
   "source": [
    "url = 'https://s3-ap-northeast-1.amazonaws.com/dev.tech-sketch.jp/chakki/public/conll2003_en.zip'\n",
    "weights, params, preprocessor = download(url)\n",
    "model = anago.Sequence.load(weights, params, preprocessor)\n",
    "model.score(x_test, y_test)"
   ]
  },
  {
   "cell_type": "code",
   "execution_count": 45,
   "metadata": {},
   "outputs": [],
   "source": [
    "# from anago.trainer import Trainer\n",
    "\n",
    "# trainer = Trainer(model)\n",
    "# trainer.train(x_train, y_train, x_test, y_test)"
   ]
  },
  {
   "cell_type": "code",
   "execution_count": 46,
   "metadata": {},
   "outputs": [],
   "source": [
    "# from anago.preprocessing import ELMoTransformer"
   ]
  },
  {
   "cell_type": "code",
   "execution_count": null,
   "metadata": {},
   "outputs": [],
   "source": []
  },
  {
   "cell_type": "code",
   "execution_count": null,
   "metadata": {},
   "outputs": [],
   "source": []
  }
 ],
 "metadata": {
  "kernelspec": {
   "display_name": "Python 3",
   "language": "python",
   "name": "python3"
  },
  "language_info": {
   "codemirror_mode": {
    "name": "ipython",
    "version": 3
   },
   "file_extension": ".py",
   "mimetype": "text/x-python",
   "name": "python",
   "nbconvert_exporter": "python",
   "pygments_lexer": "ipython3",
   "version": "3.5.2"
  }
 },
 "nbformat": 4,
 "nbformat_minor": 2
}
