{
  "nbformat": 4,
  "nbformat_minor": 0,
  "metadata": {
    "colab": {
      "name": "1. DEC.ipynb",
      "version": "0.3.2",
      "provenance": [],
      "toc_visible": true
    },
    "kernelspec": {
      "display_name": "Python 3",
      "language": "python",
      "name": "python3"
    }
  },
  "cells": [
    {
      "metadata": {
        "id": "HY11HCzbqmQ6",
        "colab_type": "text"
      },
      "cell_type": "markdown",
      "source": [
        "# Document Clustering by DEC(Deep Embedded Clustering)\n",
        "\n",
        "### References\n",
        "\n",
        "* Preprocess: https://towardsdatascience.com/topic-modeling-and-latent-dirichlet-allocation-in-python-9bf156893c24\n",
        "* DEC: https://github.com/Tony607/Keras_Deep_Clustering/blob/master/Keras-DEC.ipynb\n",
        "* overall : https://github.com/madigun697/data_analysis/blob/master/Topic_Modeling/Topic_Modeling_DEC_Drug.ipynb"
      ]
    },
    {
      "metadata": {
        "id": "c-or5Us0qmQ8",
        "colab_type": "text"
      },
      "cell_type": "markdown",
      "source": [
        "## Preprocess data"
      ]
    },
    {
      "metadata": {
        "id": "7N-v04WuqmQ9",
        "colab_type": "code",
        "colab": {}
      },
      "cell_type": "code",
      "source": [
        "import pandas as pd\n",
        "import numpy as np\n",
        "import nltk\n",
        "import re\n",
        "\n",
        "pd.set_option('display.max_colwidth', 999)\n",
        "drug_data = pd.read_csv('../data/titles_condition_by_t.tsv', sep='\\t', header=None)"
      ],
      "execution_count": 0,
      "outputs": []
    },
    {
      "metadata": {
        "id": "rwiQGYdEqmRA",
        "colab_type": "code",
        "colab": {},
        "outputId": "0928ed24-1177-49fa-9667-f061acc82012"
      },
      "cell_type": "code",
      "source": [
        "drug_data.columns = ['id', 'title']\n",
        "drug_data.head()"
      ],
      "execution_count": 0,
      "outputs": [
        {
          "output_type": "execute_result",
          "data": {
            "text/html": [
              "<div>\n",
              "<style scoped>\n",
              "    .dataframe tbody tr th:only-of-type {\n",
              "        vertical-align: middle;\n",
              "    }\n",
              "\n",
              "    .dataframe tbody tr th {\n",
              "        vertical-align: top;\n",
              "    }\n",
              "\n",
              "    .dataframe thead th {\n",
              "        text-align: right;\n",
              "    }\n",
              "</style>\n",
              "<table border=\"1\" class=\"dataframe\">\n",
              "  <thead>\n",
              "    <tr style=\"text-align: right;\">\n",
              "      <th></th>\n",
              "      <th>id</th>\n",
              "      <th>title</th>\n",
              "    </tr>\n",
              "  </thead>\n",
              "  <tbody>\n",
              "    <tr>\n",
              "      <th>0</th>\n",
              "      <td>4106</td>\n",
              "      <td>Analysis of efficacy</td>\n",
              "    </tr>\n",
              "    <tr>\n",
              "      <th>1</th>\n",
              "      <td>4107</td>\n",
              "      <td>Comparisons of postoperative CA19-9 levels on survival of ESPAC-4 with the CONOKO-01 and JASPAC-1 trials</td>\n",
              "    </tr>\n",
              "    <tr>\n",
              "      <th>2</th>\n",
              "      <td>4108</td>\n",
              "      <td>Pattern of disease relapse</td>\n",
              "    </tr>\n",
              "    <tr>\n",
              "      <th>3</th>\n",
              "      <td>4109</td>\n",
              "      <td>Grade 1–5 adverse events with gemcitabine alone and gemcitabine plus capecitabine</td>\n",
              "    </tr>\n",
              "    <tr>\n",
              "      <th>4</th>\n",
              "      <td>4112</td>\n",
              "      <td>Treatment with zoledronic acid</td>\n",
              "    </tr>\n",
              "  </tbody>\n",
              "</table>\n",
              "</div>"
            ],
            "text/plain": [
              "     id  \\\n",
              "0  4106   \n",
              "1  4107   \n",
              "2  4108   \n",
              "3  4109   \n",
              "4  4112   \n",
              "\n",
              "                                                                                                      title  \n",
              "0                                                                                      Analysis of efficacy  \n",
              "1  Comparisons of postoperative CA19-9 levels on survival of ESPAC-4 with the CONOKO-01 and JASPAC-1 trials  \n",
              "2                                                                                Pattern of disease relapse  \n",
              "3                         Grade 1–5 adverse events with gemcitabine alone and gemcitabine plus capecitabine  \n",
              "4                                                                            Treatment with zoledronic acid  "
            ]
          },
          "metadata": {
            "tags": []
          },
          "execution_count": 2
        }
      ]
    },
    {
      "metadata": {
        "id": "dGsGU1duqmRF",
        "colab_type": "code",
        "colab": {},
        "outputId": "71d69ed9-6626-4708-d307-9afb6904288b"
      },
      "cell_type": "code",
      "source": [
        "drug_data.title = drug_data.title.str.strip()\n",
        "drug_data['title'].replace('', np.nan, inplace=True)\n",
        "print(drug_data.isna().any())"
      ],
      "execution_count": 0,
      "outputs": [
        {
          "output_type": "stream",
          "text": [
            "id       False\n",
            "title    False\n",
            "dtype: bool\n"
          ],
          "name": "stdout"
        }
      ]
    },
    {
      "metadata": {
        "id": "A6fpg6hTqmRI",
        "colab_type": "code",
        "colab": {}
      },
      "cell_type": "code",
      "source": [
        "# rep = {'nbsp':'', 'table':'', 'legend':'', 'mg/dl':'', 'g/l':'', 'yrs':'year', '\\n':' ', ';':'', 'kg/m2':'', 'n=':''}\n",
        "rep = {'nbsp':'', 'table':'', 'legend':'', 'yrs':'year', '\\n':' '}\n",
        "# clean_content = [pattern.sub(lambda m: rep[re.escape(m.group(0))], x['content']) for x in train_data]\n",
        "rep = dict((re.escape(k), v) for k, v in rep.items())\n",
        "pattern = re.compile(\"|\".join(rep.keys()))\n",
        "drug_data.title = [pattern.sub(lambda m: rep[re.escape(m.group(0))], str(x)) for x in drug_data.title]"
      ],
      "execution_count": 0,
      "outputs": []
    },
    {
      "metadata": {
        "id": "tu-XCXG-qmRK",
        "colab_type": "code",
        "colab": {},
        "outputId": "afacce6c-5591-43a0-9a65-d50ed9463d62"
      },
      "cell_type": "code",
      "source": [
        "drug_data.title[:10]"
      ],
      "execution_count": 0,
      "outputs": [
        {
          "output_type": "execute_result",
          "data": {
            "text/plain": [
              "0                                                                                        Analysis of efficacy\n",
              "1    Comparisons of postoperative CA19-9 levels on survival of ESPAC-4 with the CONOKO-01 and JASPAC-1 trials\n",
              "2                                                                                  Pattern of disease relapse\n",
              "3                           Grade 1–5 adverse events with gemcitabine alone and gemcitabine plus capecitabine\n",
              "4                                                                              Treatment with zoledronic acid\n",
              "5                                                                                    Treatment with docetaxel\n",
              "6                                Treatments ever used at relapse, at the discretion of the treating clinician\n",
              "7                                            Worst adverse event  (grade)  reported over entire time on trial\n",
              "8                                                        Chemotherapy delivery and trial drug discontinuation\n",
              "9                                                                                              Adverse events\n",
              "Name: title, dtype: object"
            ]
          },
          "metadata": {
            "tags": []
          },
          "execution_count": 5
        }
      ]
    },
    {
      "metadata": {
        "id": "XnSsFF3-qmRN",
        "colab_type": "code",
        "colab": {}
      },
      "cell_type": "code",
      "source": [
        "import gensim\n",
        "from gensim.utils import simple_preprocess\n",
        "from gensim.parsing.preprocessing import STOPWORDS\n",
        "from gensim.parsing.preprocessing import strip_numeric\n",
        "from nltk.stem import WordNetLemmatizer, SnowballStemmer\n",
        "from nltk.stem.porter import *"
      ],
      "execution_count": 0,
      "outputs": []
    },
    {
      "metadata": {
        "id": "VxyWz5kbqmRP",
        "colab_type": "code",
        "colab": {},
        "outputId": "63be8c75-fd9c-4260-9f4b-3249cb7ac419"
      },
      "cell_type": "code",
      "source": [
        "np.random.seed(2018)\n",
        "\n",
        "import nltk\n",
        "nltk.download('wordnet')"
      ],
      "execution_count": 0,
      "outputs": [
        {
          "output_type": "stream",
          "text": [
            "[nltk_data] Downloading package wordnet to /Users/grace/nltk_data...\n",
            "[nltk_data]   Package wordnet is already up-to-date!\n"
          ],
          "name": "stdout"
        },
        {
          "output_type": "execute_result",
          "data": {
            "text/plain": [
              "True"
            ]
          },
          "metadata": {
            "tags": []
          },
          "execution_count": 7
        }
      ]
    },
    {
      "metadata": {
        "id": "fFnc5P4KqmRS",
        "colab_type": "code",
        "colab": {}
      },
      "cell_type": "code",
      "source": [
        "#stopwords\n",
        "stemmer = SnowballStemmer('english')\n",
        "STOP_WORDS = list(gensim.parsing.preprocessing.STOPWORDS)\n",
        "STOP_WORDS.extend(['table', 'legend'])"
      ],
      "execution_count": 0,
      "outputs": []
    },
    {
      "metadata": {
        "id": "2S-8id18qmRW",
        "colab_type": "code",
        "colab": {}
      },
      "cell_type": "code",
      "source": [
        "# stemming\n",
        "# -porter stemmer\n",
        "# -lancaster stemmer\n",
        "# -snowball stemmer\n",
        "from nltk.stem.lancaster import LancasterStemmer\n",
        "from nltk.stem.snowball import SnowballStemmer\n",
        "\n",
        "def lemmatize_stemming(text):\n",
        "    return stemmer.stem(WordNetLemmatizer().lemmatize(text, pos='v'))\n",
        "\n",
        "def preprocess(text):\n",
        "    result = []\n",
        "#     deacc=True removes punctuations\n",
        "    for token in gensim.utils.simple_preprocess(text, deacc=True):\n",
        "        if token not in STOP_WORDS and len(token)>1:\n",
        "#             result.append(lemmatize_stemming(strip_numeric(token)))\n",
        "            result.append(lemmatize_stemming(token))\n",
        "    return result\n",
        "\n",
        "def preprocess_token_only(text):\n",
        "    result = []\n",
        "#     deacc=True removes punctuations\n",
        "    for token in gensim.utils.simple_preprocess(text, deacc=True):\n",
        "        if token not in STOP_WORDS and len(token)>1:\n",
        "#             result.append(lemmatize_stemming(strip_numeric(token)))\n",
        "            result.append(token)\n",
        "    return result\n",
        "\n",
        "stemmer = LancasterStemmer()\n",
        "#tokenizing\n",
        "def tokenize_and_stem(text):\n",
        "    tokens = [word.lower() for sent in nltk.sent_tokenize(text) for word in nltk.word_tokenize(sent)]\n",
        "    #filter tokens not containing letters\n",
        "    filtered = []\n",
        "    for token in tokens:\n",
        "        if re.search('[a-zA-Z]', token) and len(token)>2:\n",
        "            filtered.append(token)\n",
        "#     stems = [stemmer.stem(t, pos='v') for t in filtered]\n",
        "    stems = [stemmer.stem(t) for t in filtered]\n",
        "    return stems\n",
        "\n",
        "def tokenize_only(text):\n",
        "    tokens = [word.lower() for sent in nltk.sent_tokenize(text) for word in nltk.word_tokenize(sent)]\n",
        "    filtered = []\n",
        "    for token in tokens:\n",
        "        if re.search('[a-zA-Z]', token) and len(token)>2:\n",
        "            filtered.append(token)\n",
        "    return filtered"
      ],
      "execution_count": 0,
      "outputs": []
    },
    {
      "metadata": {
        "id": "2meY4pzfqmRY",
        "colab_type": "code",
        "colab": {},
        "outputId": "2da30497-7f7b-4dd4-f166-330abeca93e0"
      },
      "cell_type": "code",
      "source": [
        "%time drug_data['processed'] = drug_data['title'].map(preprocess)\n",
        "drug_data.processed[:10]"
      ],
      "execution_count": 0,
      "outputs": [
        {
          "output_type": "stream",
          "text": [
            "CPU times: user 11.2 s, sys: 154 ms, total: 11.4 s\n",
            "Wall time: 12 s\n"
          ],
          "name": "stdout"
        },
        {
          "output_type": "execute_result",
          "data": {
            "text/plain": [
              "0                                                        [analys, eff]\n",
              "1    [comparison, postop, ca, level, surv, espac, conoko, jaspac, tri]\n",
              "2                                            [pattern, diseas, relaps]\n",
              "3         [grad, advers, ev, gemcitabin, gemcitabin, plu, capecitabin]\n",
              "4                                                [tre, zoledron, acid]\n",
              "5                                                     [tre, docetaxel]\n",
              "6                                    [tre, relaps, discret, tre, clin]\n",
              "7                   [worst, advers, ev, grad, report, entir, tim, tri]\n",
              "8                      [chemotherapy, delivery, tri, drug, discontinu]\n",
              "9                                                         [advers, ev]\n",
              "Name: processed, dtype: object"
            ]
          },
          "metadata": {
            "tags": []
          },
          "execution_count": 10
        }
      ]
    },
    {
      "metadata": {
        "id": "gXDPyn1AqmRb",
        "colab_type": "code",
        "colab": {},
        "outputId": "b7c98c63-9c7f-4113-b629-6e8ffa920ef4"
      },
      "cell_type": "code",
      "source": [
        "from sklearn.feature_extraction.text import TfidfVectorizer\n",
        "from sklearn.preprocessing import normalize\n",
        "from sklearn.manifold import TSNE\n",
        "\n",
        "tfidf_vectorizer = TfidfVectorizer(max_df=0.8, \n",
        "                                   max_features=10000, \n",
        "                                   min_df=0.01, \n",
        "                                   stop_words='english', \n",
        "                                   use_idf=True, \n",
        "                                   lowercase=True, \n",
        "                                   tokenizer=preprocess)\n",
        "#                                    tokenizer=preprocess, ngram_range=(1,2))\n",
        "\n",
        "%time tfidf_matrix = tfidf_vectorizer.fit_transform(drug_data.title)\n",
        "print(tfidf_matrix.shape)"
      ],
      "execution_count": 0,
      "outputs": [
        {
          "output_type": "stream",
          "text": [
            "CPU times: user 9.89 s, sys: 123 ms, total: 10 s\n",
            "Wall time: 10.1 s\n",
            "(27960, 147)\n"
          ],
          "name": "stdout"
        }
      ]
    },
    {
      "metadata": {
        "id": "MtAuV6y1qmRe",
        "colab_type": "text"
      },
      "cell_type": "markdown",
      "source": [
        "### L2 Normalization\n",
        " - L2 Norm은 n 차원(유클리드 공간)에서의 벡터의 크기를 계산함."
      ]
    },
    {
      "metadata": {
        "id": "pnmhkWZ6qmRf",
        "colab_type": "code",
        "colab": {},
        "outputId": "bd1a744d-e937-45d5-c1a1-37dd0eccf48a"
      },
      "cell_type": "code",
      "source": [
        "%time tfidf_tsne_result = TSNE(learning_rate=300, init='pca')\\\n",
        "                    .fit_transform(np.array(tfidf_matrix.toarray()))\n",
        "# tfidf_vect = normalize(tfidf_tsne_result, norm='l2')"
      ],
      "execution_count": 0,
      "outputs": [
        {
          "output_type": "stream",
          "text": [
            "CPU times: user 15min 16s, sys: 43.7 s, total: 16min\n",
            "Wall time: 16min 3s\n"
          ],
          "name": "stdout"
        }
      ]
    },
    {
      "metadata": {
        "id": "JCQj84uhqmRi",
        "colab_type": "code",
        "colab": {},
        "outputId": "b863a84c-29f2-4c90-c0b3-ca036d17a4f0"
      },
      "cell_type": "code",
      "source": [
        "tfidf_tsne_result[:10]"
      ],
      "execution_count": 0,
      "outputs": [
        {
          "output_type": "execute_result",
          "data": {
            "text/plain": [
              "array([[ 60.524284,  20.698196],\n",
              "       [ 38.65348 ,  30.628326],\n",
              "       [-21.634258,  37.96718 ],\n",
              "       [ 43.116405,  69.07914 ],\n",
              "       [ 65.26964 ,   6.54224 ],\n",
              "       [ 65.24174 ,   6.496863],\n",
              "       [ 62.44582 ,   4.066565],\n",
              "       [ 35.853405,  54.66684 ],\n",
              "       [ 47.055466,  38.351044],\n",
              "       [ 42.254856,  69.44895 ]], dtype=float32)"
            ]
          },
          "metadata": {
            "tags": []
          },
          "execution_count": 13
        }
      ]
    },
    {
      "metadata": {
        "id": "MHkZBTVtqmRk",
        "colab_type": "code",
        "colab": {},
        "outputId": "fe791caa-980c-4481-a1e7-501afefa05e3"
      },
      "cell_type": "code",
      "source": [
        "from sklearn.feature_extraction.text import CountVectorizer\n",
        "vect = CountVectorizer()\n",
        "%time vect.fit([' '.join(d) for d in drug_data.processed])\n",
        "%time tsne_data = vect.transform([' '.join(d) for d in drug_data.processed]).toarray()\n",
        "%time tsne_result = TSNE(learning_rate=300, init='pca').fit_transform(np.array(tsne_data))"
      ],
      "execution_count": 0,
      "outputs": [
        {
          "output_type": "stream",
          "text": [
            "CPU times: user 286 ms, sys: 10.9 ms, total: 297 ms\n",
            "Wall time: 297 ms\n"
          ],
          "name": "stdout"
        },
        {
          "output_type": "execute_result",
          "data": {
            "text/plain": [
              "CountVectorizer(analyzer='word', binary=False, decode_error='strict',\n",
              "        dtype=<class 'numpy.int64'>, encoding='utf-8', input='content',\n",
              "        lowercase=True, max_df=1.0, max_features=None, min_df=1,\n",
              "        ngram_range=(1, 1), preprocessor=None, stop_words=None,\n",
              "        strip_accents=None, token_pattern='(?u)\\\\b\\\\w\\\\w+\\\\b',\n",
              "        tokenizer=None, vocabulary=None)"
            ]
          },
          "metadata": {
            "tags": []
          },
          "execution_count": 14
        },
        {
          "output_type": "stream",
          "text": [
            "CPU times: user 336 ms, sys: 167 ms, total: 503 ms\n",
            "Wall time: 504 ms\n"
          ],
          "name": "stdout"
        }
      ]
    },
    {
      "metadata": {
        "id": "HM3N6v8CqmRo",
        "colab_type": "code",
        "colab": {}
      },
      "cell_type": "code",
      "source": [
        "import numpy as np\n",
        "\n",
        "from keras.models import Model\n",
        "from keras import backend as K\n",
        "from keras import layers\n",
        "from keras.layers import Input, Dense, Conv2D, MaxPooling2D, UpSampling2D, Flatten, Reshape, Conv2DTranspose\n",
        "from keras.models import Model\n",
        "from keras.engine.topology import Layer, InputSpec\n",
        "\n",
        "# from sklearn.cluster import KMeans\n",
        "# from keras.datasets import mnist\n",
        "from sklearn import metrics\n",
        "\n",
        "np.random.seed(0)"
      ],
      "execution_count": 0,
      "outputs": []
    },
    {
      "metadata": {
        "id": "JsK_fzStqmRq",
        "colab_type": "code",
        "colab": {}
      },
      "cell_type": "code",
      "source": [
        "class ClusteringLayer(Layer):\n",
        "    \"\"\"\n",
        "    Clustering layer converts input sample (feature) to soft label, i.e. a vector that represents the probability of the\n",
        "    sample belonging to each cluster. The probability is calculated with student's t-distribution.\n",
        "\n",
        "    # Example\n",
        "    ```\n",
        "        model.add(ClusteringLayer(n_clusters=10))\n",
        "    ```\n",
        "    # Arguments\n",
        "        n_clusters: number of clusters.\n",
        "        weights: list of Numpy array with shape `(n_clusters, n_features)` witch represents the initial cluster centers.\n",
        "        alpha: degrees of freedom parameter in Student's t-distribution. Default to 1.0.\n",
        "    # Input shape\n",
        "        2D tensor with shape: `(n_samples, n_features)`.\n",
        "    # Output shape\n",
        "        2D tensor with shape: `(n_samples, n_clusters)`.\n",
        "    \"\"\"\n",
        "\n",
        "    def __init__(self, n_clusters, weights=None, alpha=1.0, **kwargs):\n",
        "        if 'input_shape' not in kwargs and 'input_dim' in kwargs:\n",
        "            kwargs['input_shape'] = (kwargs.pop('input_dim'),)\n",
        "        super(ClusteringLayer, self).__init__(**kwargs)\n",
        "        self.n_clusters = n_clusters\n",
        "        self.alpha = alpha\n",
        "        self.initial_weights = weights\n",
        "        self.input_spec = InputSpec(ndim=2)\n",
        "\n",
        "    def build(self, input_shape):\n",
        "        assert len(input_shape) == 2\n",
        "        input_dim = input_shape[1]\n",
        "        self.input_spec = InputSpec(dtype=K.floatx(), shape=(None, input_dim))\n",
        "        self.clusters = self.add_weight((self.n_clusters, input_dim), initializer='glorot_uniform', name='clusters')\n",
        "        if self.initial_weights is not None:\n",
        "            self.set_weights(self.initial_weights)\n",
        "            del self.initial_weights\n",
        "        self.built = True\n",
        "\n",
        "    def call(self, inputs, **kwargs):\n",
        "        \"\"\" student t-distribution, as same as used in t-SNE algorithm.\n",
        "         Measure the similarity between embedded point z_i and centroid µ_j.\n",
        "                 q_ij = 1/(1+dist(x_i, µ_j)^2), then normalize it.\n",
        "                 q_ij can be interpreted as the probability of assigning sample i to cluster j.\n",
        "                 (i.e., a soft assignment)\n",
        "        Arguments:\n",
        "            inputs: the variable containing data, shape=(n_samples, n_features)\n",
        "        Return:\n",
        "            q: student's t-distribution, or soft labels for each sample. shape=(n_samples, n_clusters)\n",
        "        \"\"\"\n",
        "        q = 1.0 / (1.0 + (K.sum(K.square(K.expand_dims(inputs, axis=1) - self.clusters), axis=2) / self.alpha))\n",
        "        q **= (self.alpha + 1.0) / 2.0\n",
        "        q = K.transpose(K.transpose(q) / K.sum(q, axis=1)) # Make sure each sample's 10 values add up to 1.\n",
        "        return q\n",
        "\n",
        "    def compute_output_shape(self, input_shape):\n",
        "        assert input_shape and len(input_shape) == 2\n",
        "        return input_shape[0], self.n_clusters\n",
        "\n",
        "    def get_config(self):\n",
        "        config = {'n_clusters': self.n_clusters}\n",
        "        base_config = super(ClusteringLayer, self).get_config()\n",
        "        return dict(list(base_config.items()) + list(config.items()))"
      ],
      "execution_count": 0,
      "outputs": []
    },
    {
      "metadata": {
        "id": "0CXLrqIWqmRt",
        "colab_type": "code",
        "colab": {}
      },
      "cell_type": "code",
      "source": [
        "def autoencoder(dims, act='relu', init='glorot_uniform'):\n",
        "    \"\"\"\n",
        "    Fully connected auto-encoder model, symmetric.\n",
        "    Arguments:\n",
        "        dims: list of number of units in each layer of encoder. dims[0] is input dim, dims[-1] is units in hidden layer.\n",
        "            The decoder is symmetric with encoder. So number of layers of the auto-encoder is 2*len(dims)-1\n",
        "        act: activation, not applied to Input, Hidden and Output layers\n",
        "    return:\n",
        "        (ae_model, encoder_model), Model of autoencoder and model of encoder\n",
        "    \"\"\"\n",
        "    n_stacks = len(dims) - 1\n",
        "    # input\n",
        "    input_img = Input(shape=(dims[0],), name='input')\n",
        "    x = input_img\n",
        "    # internal layers in encoder\n",
        "    for i in range(n_stacks-1):\n",
        "        x = Dense(dims[i + 1], activation=act, kernel_initializer=init, name='encoder_%d' % i)(x)\n",
        "\n",
        "    # hidden layer\n",
        "    encoded = Dense(dims[-1], kernel_initializer=init, name='encoder_%d' % (n_stacks - 1))(x)  # hidden layer, features are extracted from here\n",
        "\n",
        "    x = encoded\n",
        "    # internal layers in decoder\n",
        "    for i in range(n_stacks-1, 0, -1):\n",
        "        x = Dense(dims[i], activation=act, kernel_initializer=init, name='decoder_%d' % i)(x)\n",
        "\n",
        "    # output\n",
        "    x = Dense(dims[0], kernel_initializer=init, name='decoder_0')(x)\n",
        "    decoded = x\n",
        "    return Model(inputs=input_img, outputs=decoded, name='AE'), Model(inputs=input_img, outputs=encoded, name='encoder')"
      ],
      "execution_count": 0,
      "outputs": []
    },
    {
      "metadata": {
        "id": "yPe1curcqmRx",
        "colab_type": "code",
        "colab": {}
      },
      "cell_type": "code",
      "source": [
        "# computing an auxiliary target distribution\n",
        "def target_distribution(q):\n",
        "    weight = q ** 2 / q.sum(0)\n",
        "    return (weight.T / weight.sum(1)).T"
      ],
      "execution_count": 0,
      "outputs": []
    },
    {
      "metadata": {
        "id": "rC57Gqd0qmRz",
        "colab_type": "text"
      },
      "cell_type": "markdown",
      "source": [
        "## Fully Connected DEC"
      ]
    },
    {
      "metadata": {
        "id": "hYA_rNxcqmR0",
        "colab_type": "code",
        "colab": {}
      },
      "cell_type": "code",
      "source": [
        "from keras.initializers import VarianceScaling\n",
        "from keras.optimizers import SGD, Adam"
      ],
      "execution_count": 0,
      "outputs": []
    },
    {
      "metadata": {
        "id": "N10XmtpMqmR1",
        "colab_type": "code",
        "colab": {}
      },
      "cell_type": "code",
      "source": [
        "# max_count = max([np.max(tfidf_matrix[i]) for i in range(tfidf_matrix.shape[1])]) * 1.\n",
        "# x = np.divide(tfidf_matrix, max_count)\n",
        "# n_clusters = 8\n",
        "\n",
        "max_count = max([np.max(tsne_data[i]) for i in tsne_data]) * 1.\n",
        "x = np.divide(tsne_data, max_count)\n",
        "n_clusters = 8"
      ],
      "execution_count": 0,
      "outputs": []
    },
    {
      "metadata": {
        "id": "0ZenDmUOqmR3",
        "colab_type": "code",
        "colab": {}
      },
      "cell_type": "code",
      "source": [
        "dims = [x.shape[-1], 500, 500, 2000, 10]\n",
        "init = VarianceScaling(scale=1. / 3., mode='fan_in', distribution='uniform')\n",
        "# pretrain_optimizer = SGD(lr=1, momentum=0.9)\n",
        "pretrain_optimizer = Adam(lr=0.001, beta_1=0.9, beta_2=0.999, epsilon=1e-08, decay=0.0)\n",
        "pretrain_epochs = 300\n",
        "batch_size = 256"
      ],
      "execution_count": 0,
      "outputs": []
    },
    {
      "metadata": {
        "id": "yoPBkdkbqmR4",
        "colab_type": "code",
        "colab": {}
      },
      "cell_type": "code",
      "source": [
        "autoencoder, encoder = autoencoder(dims, init=init)\n",
        "clustering_layer = ClusteringLayer(n_clusters, name='clustering')(encoder.output)\n",
        "model = Model(inputs=encoder.input, outputs=[clustering_layer, autoencoder.output])"
      ],
      "execution_count": 0,
      "outputs": []
    },
    {
      "metadata": {
        "id": "VcAZUZ9oqmR7",
        "colab_type": "code",
        "colab": {}
      },
      "cell_type": "code",
      "source": [
        "model.summary()"
      ],
      "execution_count": 0,
      "outputs": []
    },
    {
      "metadata": {
        "id": "eua0_TENqmR8",
        "colab_type": "code",
        "colab": {}
      },
      "cell_type": "code",
      "source": [
        "autoencoder.compile(optimizer=pretrain_optimizer, loss='mse')\n",
        "%time autoencoder.fit(x, x, batch_size=batch_size, epochs=pretrain_epochs) #, callbacks=cb)\n",
        "# autoencoder.save_weights('./data_output/drug_ae_weights.h5')"
      ],
      "execution_count": 0,
      "outputs": []
    },
    {
      "metadata": {
        "id": "36CEPhtBqmR_",
        "colab_type": "code",
        "colab": {}
      },
      "cell_type": "code",
      "source": [
        ""
      ],
      "execution_count": 0,
      "outputs": []
    }
  ]
}
