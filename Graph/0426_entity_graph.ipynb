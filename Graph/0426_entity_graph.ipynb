{
 "cells": [
  {
   "cell_type": "markdown",
   "metadata": {},
   "source": [
    "### Create True Graph"
   ]
  },
  {
   "cell_type": "code",
   "execution_count": null,
   "metadata": {},
   "outputs": [],
   "source": [
    "# !pip install networkx --user"
   ]
  },
  {
   "cell_type": "code",
   "execution_count": 1,
   "metadata": {},
   "outputs": [],
   "source": [
    "import os\n",
    "from xml.dom import minidom\n",
    "import pandas as pd\n",
    "pd.set_option('display.max_colwidth', -1)"
   ]
  },
  {
   "cell_type": "code",
   "execution_count": 2,
   "metadata": {},
   "outputs": [
    {
     "name": "stdout",
     "output_type": "stream",
     "text": [
      "2402\n",
      "2402\n"
     ]
    }
   ],
   "source": [
    "file_locs = ['/home/grace/Documents/DAEB/jupyter/dataset/BioNLP-ST_2011_Entity_Relations_training_data']\n",
    "total_proteins = []\n",
    "total_entities = []\n",
    "sents = []\n",
    "for file_loc in file_locs:\n",
    "    medlines = os.listdir(file_loc)\n",
    "    print(len(medlines))\n",
    "#     medlines = list(filter(lambda x: x.endswith('.txt'), medlines))\n",
    "    print(len(medlines))\n",
    "\n",
    "    for med in medlines:\n",
    "        f = open(file_loc+'/'+med, 'r')\n",
    "        if med.endswith('.txt'):\n",
    "            lines = ' '.join(f.readlines()).replace('\\n', ' ')\n",
    "            sents.append({'id':med.replace('.txt', ''),\n",
    "                          'sent':lines})\n",
    "            \n",
    "        elif med.endswith('.a1'):\n",
    "            entities = {}\n",
    "            for line in f.readlines():\n",
    "                items = line.split('\\t')\n",
    "#                 print(items)\n",
    "#                 entity_type = items[1]\n",
    "#                 entity_value = items[4]\n",
    "                entities[items[2].strip()] = items[1].split(' ')[0]\n",
    "    \n",
    "            total_proteins.append({'id': med.replace('.a1', ''),\n",
    "                             'protein_val': ' , '.join(entities.keys()),\n",
    "                             'protein_type': ' , '.join(entities.values())})\n",
    "            \n",
    "        elif med.endswith('.rel'):\n",
    "            entities = {}\n",
    "            for line in f.readlines():\n",
    "                if line.startswith('T'):\n",
    "                    items = line.split('\\t')\n",
    "#                     print(items)\n",
    "    #                 entity_type = items[1]\n",
    "    #                 entity_value = items[4]\n",
    "                    entities[items[2].strip()] = items[1].split(' ')[0]\n",
    "    \n",
    "            total_entities.append({'id': med.replace('.rel', ''),\n",
    "                             'entity_val': ' , '.join(entities.keys()),\n",
    "                             'entity_type': ' , '.join(entities.values())})\n",
    "        f.close()"
   ]
  },
  {
   "cell_type": "code",
   "execution_count": 9,
   "metadata": {},
   "outputs": [
    {
     "name": "stdout",
     "output_type": "stream",
     "text": [
      "(800, 2)\n"
     ]
    },
    {
     "data": {
      "text/html": [
       "<div>\n",
       "<style scoped>\n",
       "    .dataframe tbody tr th:only-of-type {\n",
       "        vertical-align: middle;\n",
       "    }\n",
       "\n",
       "    .dataframe tbody tr th {\n",
       "        vertical-align: top;\n",
       "    }\n",
       "\n",
       "    .dataframe thead th {\n",
       "        text-align: right;\n",
       "    }\n",
       "</style>\n",
       "<table border=\"1\" class=\"dataframe\">\n",
       "  <thead>\n",
       "    <tr style=\"text-align: right;\">\n",
       "      <th></th>\n",
       "      <th>id</th>\n",
       "      <th>sent</th>\n",
       "    </tr>\n",
       "  </thead>\n",
       "  <tbody>\n",
       "    <tr>\n",
       "      <th>0</th>\n",
       "      <td>PMID-1531086</td>\n",
       "      <td>A novel mitogen-inducible gene product related to p50/p105-NF-kappa B participates in transactivation through a kappa B site.   A Rel-related, mitogen-inducible, kappa B-binding protein has been cloned as an immediate-early activation gene of human peripheral blood T cells. The cDNA has an open reading frame of 900 amino acids capable of encoding a 97-kDa protein. This protein is most similar to the 105-kDa precursor polypeptide of p50-NF-kappa B. Like the 105-kDa precursor, it contains an amino-terminal Rel-related domain of about 300 amino acids and a carboxy-terminal domain containing six full cell cycle or ankyrin repeats. In vitro-translated proteins, truncated downstream of the Rel domain and excluding the repeats, bind kappa B sites. We refer to the kappa B-binding, truncated protein as p50B by analogy with p50-NF-kappa B and to the full-length protein as p97. p50B is able to form heteromeric kappa B-binding complexes with RelB, as well as with p65 and p50, the two subunits of NF-kappa B. Transient-transfection experiments in embryonal carcinoma cells demonstrate a functional cooperation between p50B and RelB or p65 in transactivation of a reporter plasmid dependent on a kappa B site. The data imply the existence of a complex family of NF-kappa B-like transcription factors.</td>\n",
       "    </tr>\n",
       "    <tr>\n",
       "      <th>1</th>\n",
       "      <td>PMID-9446322</td>\n",
       "      <td>[Molecular-biologic aspects of interaction between nervous and immune systems]   The problem of the neuro-immuno interactions on the level of the protein trans-factors, stimulating interleukin-2 (IL-2) gene expression was discussed. The physico-chemical and functional parameters of the low molecular nuclear proteins (SP and BP- 14, 18, 19 kDs) isolated from splenic and brain cells of immunized rats were studied. The binding of these proteins to the regulatory region of IL-2 gene in vitro and stimulation of the IL-2mRNA synthesis in splenic T-lymphocytes culture in normal conditions were shown. The protective effect of SP and BP on the IL-2mRNA synthesis in stressful conditions and by the T-cells treatment with the CsA was demonstrated.</td>\n",
       "    </tr>\n",
       "    <tr>\n",
       "      <th>2</th>\n",
       "      <td>PMID-9322967</td>\n",
       "      <td>Human neutrophils express GH-N gene transcripts and the pituitary transcription factor Pit-1b.   Since GH stimulates the development and function of granulocytes, we investigated the expression of GH in granulocyte subsets. By immunocytochemistry, 25 +/- 7% of the human neutrophils were shown to express immunoreactive GH, whereas eosinophils were negative. Reversed transcription (RT)-PCR analysis demonstrated GH mRNA in neutrophils. Restriction analysis revealed that neutrophils express the GH-N gene but not the GH-V gene. Furthermore, we demonstrated by western blot analysis that neutrophils express an alternatively spliced variant of the pituitary transcription factor Pit-1, designated Pit-1b.</td>\n",
       "    </tr>\n",
       "    <tr>\n",
       "      <th>3</th>\n",
       "      <td>PMID-10080875</td>\n",
       "      <td>Involvement of NF-kappaB p50/p65 heterodimer in activation of the human pro-interleukin-1beta gene at two subregions of the upstream enhancer element.   A region between-3134 and -2729 bp upstream from the transcription site of the human pro-interleukin 1beta (proIL-1beta) gene was identified as an LPS-responsive enhancer element. In this study, the influence of the sequences located between -3134 and -2987 on the transcriptional activity of the proIL-1beta gene in LPS-stimulated Raw 264.7 cells was examined in detail. The results obtained by transient transfection of fos -CAT constructs that contained serial 5'-deletion mutations showed that the region between -3134 and -3059 appears to be required for the induction of transcription by LPS. Gel shift assay studies with synthetic oligonucleotides corresponding to partial sequences of the latter region and nuclear extracts from stimulated cells revealed specific protein binding sites between -3110 and -3090 and between -3079 and -3059. These specific bindings were time and LPS dose dependent. The results of supershift analysis using specific antibodies against transcription factors suggested that both binding complexes contained the NF-kappaB components p50 and p65, and did not contain other NF-kappaB proteins (p52, c-Rel, Rel B), AP-1 proteins (c-Fos, C-Jun), CREB or C/EBPbeta (NF-IL6). Mutation of either of the putative NF-kappaB-binding sites in the enhancer element decreased the LPS-stimulated transcriptional activity. These data indicated that two NF-kappaB-binding sites, which are located between -3134 and -3059, are critical for the activation of proIL-1beta gene transcription. Copyright 1999 Academic Press.</td>\n",
       "    </tr>\n",
       "    <tr>\n",
       "      <th>4</th>\n",
       "      <td>PMID-2083253</td>\n",
       "      <td>Purification of TCF-1 alpha, a T-cell-specific transcription factor that activates the T-cell receptor C alpha gene enhancer in a context-dependent manner.   The differentiation of T cells into functionally diverse subpopulations is controlled in part, by transcriptional activation and silencing; however, little is known in detail about the proteins that influence this developmental process. We have purified a new T-cell-specific factor, TCF-1 alpha, that is implicated in the activation of genes encoding a major component of the human T-cell receptor (TCR). TCF-1 alpha, originally identified and purified through its binding sites on the HIV-1 promoter, was found to bind to the TCR alpha enhancer and to promoters for several genes expressed at significantly earlier stages of T-cell development than the TCR alpha gene (e.g., p56lck and CD3 delta). Sequences related to the TCF-1 alpha binding motif (5'-GGCACCCTTTGA-3') are also found in the human TCR delta (and possibly TCR beta) enhancers. Southwestern and gel renaturation experiments with the use of purified protein fractions revealed that TCF-1 alpha activity is derived from a family of 57- to 53-kD proteins that are abundantly expressed in mature and immature T-cell lines (Jurkat, CCRF-CEM) and not in mature B cells (JY, Namalwa) or nonlymphoid (HeLa) cell lines. A small 95-bp fragment of the TCR alpha control region that contains the TCF-1 alpha binding site juxtaposed between a cAMP-response element (the CRE or T alpha 1 motif) and the binding site for a distinct lymphoid-specific protein (TCF-2 alpha) behaved as a potent T-cell-specific enhancer in vivo. Tandem copies of this enhancer functioned synergistically in mature (Jurkat) T-cell lines as well as resting and activated immature (CCRF-CEM) T-cell lines. Mutation of the TCF-1 alpha binding site diminished enhancer activity and disrupted the synergism observed in vivo between tandem enhancer repeats. The TCF-1 alpha binding site was also required for TCR alpha enhancer activity in transcriptionally active extracts from Jurkat but not HeLa cells, confirming that TCF-1 alpha is a T-cell-specific transcription factor. Curiously, the TCF-1 alpha binding element was inactive in vivo when removed from its neighboring elements on the TCR alpha enhancer and positioned in one or more copies upstream of a heterologous promoter. Thus, the transcriptional activity of TCF-1 alpha appears to depend on the TCF-2 alpha and T alpha 1 (CREB) transcription factors and the context of its binding site within the TCR alpha enhancer.</td>\n",
       "    </tr>\n",
       "  </tbody>\n",
       "</table>\n",
       "</div>"
      ],
      "text/plain": [
       "              id  \\\n",
       "0  PMID-1531086    \n",
       "1  PMID-9446322    \n",
       "2  PMID-9322967    \n",
       "3  PMID-10080875   \n",
       "4  PMID-2083253    \n",
       "\n",
       "                                                                                                                                                                                                                                                                                                                                                                                                                                                                                                                                                                                                                                                                                                                                                                                                                                                                                                                                                                                                                                                                                                                                                                                                                                                                                                                                                                                                                                                                                                                                                                                                                                                                                                                                                                                                                                                                                                                                                                                                                                                                                                                                                                                                                                                                                                                                                                                                                                                                                                                                                                                                                                                                   sent  \n",
       "0  A novel mitogen-inducible gene product related to p50/p105-NF-kappa B participates in transactivation through a kappa B site.   A Rel-related, mitogen-inducible, kappa B-binding protein has been cloned as an immediate-early activation gene of human peripheral blood T cells. The cDNA has an open reading frame of 900 amino acids capable of encoding a 97-kDa protein. This protein is most similar to the 105-kDa precursor polypeptide of p50-NF-kappa B. Like the 105-kDa precursor, it contains an amino-terminal Rel-related domain of about 300 amino acids and a carboxy-terminal domain containing six full cell cycle or ankyrin repeats. In vitro-translated proteins, truncated downstream of the Rel domain and excluding the repeats, bind kappa B sites. We refer to the kappa B-binding, truncated protein as p50B by analogy with p50-NF-kappa B and to the full-length protein as p97. p50B is able to form heteromeric kappa B-binding complexes with RelB, as well as with p65 and p50, the two subunits of NF-kappa B. Transient-transfection experiments in embryonal carcinoma cells demonstrate a functional cooperation between p50B and RelB or p65 in transactivation of a reporter plasmid dependent on a kappa B site. The data imply the existence of a complex family of NF-kappa B-like transcription factors.                                                                                                                                                                                                                                                                                                                                                                                                                                                                                                                                                                                                                                                                                                                                                                                                                                                                                                                                                                                                                                                                                                                                                                                                                                                                                                                 \n",
       "1  [Molecular-biologic aspects of interaction between nervous and immune systems]   The problem of the neuro-immuno interactions on the level of the protein trans-factors, stimulating interleukin-2 (IL-2) gene expression was discussed. The physico-chemical and functional parameters of the low molecular nuclear proteins (SP and BP- 14, 18, 19 kDs) isolated from splenic and brain cells of immunized rats were studied. The binding of these proteins to the regulatory region of IL-2 gene in vitro and stimulation of the IL-2mRNA synthesis in splenic T-lymphocytes culture in normal conditions were shown. The protective effect of SP and BP on the IL-2mRNA synthesis in stressful conditions and by the T-cells treatment with the CsA was demonstrated.                                                                                                                                                                                                                                                                                                                                                                                                                                                                                                                                                                                                                                                                                                                                                                                                                                                                                                                                                                                                                                                                                                                                                                                                                                                                                                                                                                                                                                                                                                                                                                                                                                                                                                                                                                                                                                                                                             \n",
       "2  Human neutrophils express GH-N gene transcripts and the pituitary transcription factor Pit-1b.   Since GH stimulates the development and function of granulocytes, we investigated the expression of GH in granulocyte subsets. By immunocytochemistry, 25 +/- 7% of the human neutrophils were shown to express immunoreactive GH, whereas eosinophils were negative. Reversed transcription (RT)-PCR analysis demonstrated GH mRNA in neutrophils. Restriction analysis revealed that neutrophils express the GH-N gene but not the GH-V gene. Furthermore, we demonstrated by western blot analysis that neutrophils express an alternatively spliced variant of the pituitary transcription factor Pit-1, designated Pit-1b.                                                                                                                                                                                                                                                                                                                                                                                                                                                                                                                                                                                                                                                                                                                                                                                                                                                                                                                                                                                                                                                                                                                                                                                                                                                                                                                                                                                                                                                                                                                                                                                                                                                                                                                                                                                                                                                                                                                                      \n",
       "3  Involvement of NF-kappaB p50/p65 heterodimer in activation of the human pro-interleukin-1beta gene at two subregions of the upstream enhancer element.   A region between-3134 and -2729 bp upstream from the transcription site of the human pro-interleukin 1beta (proIL-1beta) gene was identified as an LPS-responsive enhancer element. In this study, the influence of the sequences located between -3134 and -2987 on the transcriptional activity of the proIL-1beta gene in LPS-stimulated Raw 264.7 cells was examined in detail. The results obtained by transient transfection of fos -CAT constructs that contained serial 5'-deletion mutations showed that the region between -3134 and -3059 appears to be required for the induction of transcription by LPS. Gel shift assay studies with synthetic oligonucleotides corresponding to partial sequences of the latter region and nuclear extracts from stimulated cells revealed specific protein binding sites between -3110 and -3090 and between -3079 and -3059. These specific bindings were time and LPS dose dependent. The results of supershift analysis using specific antibodies against transcription factors suggested that both binding complexes contained the NF-kappaB components p50 and p65, and did not contain other NF-kappaB proteins (p52, c-Rel, Rel B), AP-1 proteins (c-Fos, C-Jun), CREB or C/EBPbeta (NF-IL6). Mutation of either of the putative NF-kappaB-binding sites in the enhancer element decreased the LPS-stimulated transcriptional activity. These data indicated that two NF-kappaB-binding sites, which are located between -3134 and -3059, are critical for the activation of proIL-1beta gene transcription. Copyright 1999 Academic Press.                                                                                                                                                                                                                                                                                                                                                                                                                                                                                                                                                                                                                                                                                                                                                                                                                                                                                                          \n",
       "4  Purification of TCF-1 alpha, a T-cell-specific transcription factor that activates the T-cell receptor C alpha gene enhancer in a context-dependent manner.   The differentiation of T cells into functionally diverse subpopulations is controlled in part, by transcriptional activation and silencing; however, little is known in detail about the proteins that influence this developmental process. We have purified a new T-cell-specific factor, TCF-1 alpha, that is implicated in the activation of genes encoding a major component of the human T-cell receptor (TCR). TCF-1 alpha, originally identified and purified through its binding sites on the HIV-1 promoter, was found to bind to the TCR alpha enhancer and to promoters for several genes expressed at significantly earlier stages of T-cell development than the TCR alpha gene (e.g., p56lck and CD3 delta). Sequences related to the TCF-1 alpha binding motif (5'-GGCACCCTTTGA-3') are also found in the human TCR delta (and possibly TCR beta) enhancers. Southwestern and gel renaturation experiments with the use of purified protein fractions revealed that TCF-1 alpha activity is derived from a family of 57- to 53-kD proteins that are abundantly expressed in mature and immature T-cell lines (Jurkat, CCRF-CEM) and not in mature B cells (JY, Namalwa) or nonlymphoid (HeLa) cell lines. A small 95-bp fragment of the TCR alpha control region that contains the TCF-1 alpha binding site juxtaposed between a cAMP-response element (the CRE or T alpha 1 motif) and the binding site for a distinct lymphoid-specific protein (TCF-2 alpha) behaved as a potent T-cell-specific enhancer in vivo. Tandem copies of this enhancer functioned synergistically in mature (Jurkat) T-cell lines as well as resting and activated immature (CCRF-CEM) T-cell lines. Mutation of the TCF-1 alpha binding site diminished enhancer activity and disrupted the synergism observed in vivo between tandem enhancer repeats. The TCF-1 alpha binding site was also required for TCR alpha enhancer activity in transcriptionally active extracts from Jurkat but not HeLa cells, confirming that TCF-1 alpha is a T-cell-specific transcription factor. Curiously, the TCF-1 alpha binding element was inactive in vivo when removed from its neighboring elements on the TCR alpha enhancer and positioned in one or more copies upstream of a heterologous promoter. Thus, the transcriptional activity of TCF-1 alpha appears to depend on the TCF-2 alpha and T alpha 1 (CREB) transcription factors and the context of its binding site within the TCR alpha enhancer.   "
      ]
     },
     "execution_count": 9,
     "metadata": {},
     "output_type": "execute_result"
    }
   ],
   "source": [
    "df_sent = pd.DataFrame(sents)\n",
    "print(df_sent.shape)\n",
    "df_sent.head()\n",
    "# df_sent.sent.isnull()"
   ]
  },
  {
   "cell_type": "code",
   "execution_count": 5,
   "metadata": {},
   "outputs": [
    {
     "data": {
      "text/html": [
       "<div>\n",
       "<style scoped>\n",
       "    .dataframe tbody tr th:only-of-type {\n",
       "        vertical-align: middle;\n",
       "    }\n",
       "\n",
       "    .dataframe tbody tr th {\n",
       "        vertical-align: top;\n",
       "    }\n",
       "\n",
       "    .dataframe thead th {\n",
       "        text-align: right;\n",
       "    }\n",
       "</style>\n",
       "<table border=\"1\" class=\"dataframe\">\n",
       "  <thead>\n",
       "    <tr style=\"text-align: right;\">\n",
       "      <th></th>\n",
       "      <th>id</th>\n",
       "      <th>protein_type</th>\n",
       "      <th>protein_val</th>\n",
       "    </tr>\n",
       "  </thead>\n",
       "  <tbody>\n",
       "    <tr>\n",
       "      <th>0</th>\n",
       "      <td>PMID-9427533</td>\n",
       "      <td>Protein , Protein , Protein , Protein , Protein , Protein</td>\n",
       "      <td>XPD , XPB , XPG , XPA , XP-D , XP-B</td>\n",
       "    </tr>\n",
       "    <tr>\n",
       "      <th>1</th>\n",
       "      <td>PMID-1419903</td>\n",
       "      <td>Protein , Protein , Protein , Protein , Protein , Protein</td>\n",
       "      <td>Mac-1 cell surface antigen , c-jun , c-myc , c-fos , type 1 , 2A protein phosphatases</td>\n",
       "    </tr>\n",
       "    <tr>\n",
       "      <th>2</th>\n",
       "      <td>PMID-7579328</td>\n",
       "      <td>Protein , Protein , Protein , Protein , Protein , Protein</td>\n",
       "      <td>CD34 , MZF-1 , GAL4 , chloramphenicol acetyl transferase , thymidine kinase , CAT</td>\n",
       "    </tr>\n",
       "    <tr>\n",
       "      <th>3</th>\n",
       "      <td>PMID-8088776</td>\n",
       "      <td>Protein , Protein</td>\n",
       "      <td>GATA3 , GATA1</td>\n",
       "    </tr>\n",
       "    <tr>\n",
       "      <th>4</th>\n",
       "      <td>PMID-10369255</td>\n",
       "      <td>Protein , Protein , Protein</td>\n",
       "      <td>TNF , OCT-1 , tumour necrosis factor</td>\n",
       "    </tr>\n",
       "  </tbody>\n",
       "</table>\n",
       "</div>"
      ],
      "text/plain": [
       "              id                                               protein_type  \\\n",
       "0  PMID-9427533   Protein , Protein , Protein , Protein , Protein , Protein   \n",
       "1  PMID-1419903   Protein , Protein , Protein , Protein , Protein , Protein   \n",
       "2  PMID-7579328   Protein , Protein , Protein , Protein , Protein , Protein   \n",
       "3  PMID-8088776   Protein , Protein                                           \n",
       "4  PMID-10369255  Protein , Protein , Protein                                 \n",
       "\n",
       "                                                                             protein_val  \n",
       "0  XPD , XPB , XPG , XPA , XP-D , XP-B                                                    \n",
       "1  Mac-1 cell surface antigen , c-jun , c-myc , c-fos , type 1 , 2A protein phosphatases  \n",
       "2  CD34 , MZF-1 , GAL4 , chloramphenicol acetyl transferase , thymidine kinase , CAT      \n",
       "3  GATA3 , GATA1                                                                          \n",
       "4  TNF , OCT-1 , tumour necrosis factor                                                   "
      ]
     },
     "execution_count": 5,
     "metadata": {},
     "output_type": "execute_result"
    }
   ],
   "source": [
    "df_proteins = pd.DataFrame(total_proteins)\n",
    "df_proteins.head()"
   ]
  },
  {
   "cell_type": "code",
   "execution_count": 6,
   "metadata": {},
   "outputs": [
    {
     "data": {
      "text/html": [
       "<div>\n",
       "<style scoped>\n",
       "    .dataframe tbody tr th:only-of-type {\n",
       "        vertical-align: middle;\n",
       "    }\n",
       "\n",
       "    .dataframe tbody tr th {\n",
       "        vertical-align: top;\n",
       "    }\n",
       "\n",
       "    .dataframe thead th {\n",
       "        text-align: right;\n",
       "    }\n",
       "</style>\n",
       "<table border=\"1\" class=\"dataframe\">\n",
       "  <thead>\n",
       "    <tr style=\"text-align: right;\">\n",
       "      <th></th>\n",
       "      <th>entity_type</th>\n",
       "      <th>entity_val</th>\n",
       "      <th>id</th>\n",
       "    </tr>\n",
       "  </thead>\n",
       "  <tbody>\n",
       "    <tr>\n",
       "      <th>0</th>\n",
       "      <td>Entity , Entity , Entity , Entity , Entity , Entity , Entity , Entity , Entity , Entity , Entity , Entity , Entity</td>\n",
       "      <td>t(3;12) , exon 2 , 3q21 genes , novel gene , 3q21 , 3q26 , t(3;3)(q21;q26) , 5' ends of the 3q21 genes , ecotropic viral insertion site I , 5' ends , t(3;21) , t(3;3) , exon 2 of the EVI1 gene</td>\n",
       "      <td>PMID-9307271</td>\n",
       "    </tr>\n",
       "    <tr>\n",
       "      <th>1</th>\n",
       "      <td>Entity , Entity , Entity , Entity , Entity , Entity , Entity , Entity , Entity , Entity , Entity , Entity , Entity , Entity</td>\n",
       "      <td>tissue-specific regulatory region , 969-bp promoter fragments , upstream regulatory region , 244-bp deoxycytidine kinase core promoter , promoter , CRE site , binding sites , /AP-2 site , camp response element site , core promoter , 768-bp upstream negative regulatory region , basal promoter , 5' region , reporter gene</td>\n",
       "      <td>PMID-10428853</td>\n",
       "    </tr>\n",
       "    <tr>\n",
       "      <th>2</th>\n",
       "      <td>Entity , Entity , Entity , Entity</td>\n",
       "      <td>regulatory immediate-early genes , gene , viral gene , cycle regulatory genes</td>\n",
       "      <td>PMID-9852211</td>\n",
       "    </tr>\n",
       "    <tr>\n",
       "      <th>3</th>\n",
       "      <td>Entity , Entity , Entity , Entity , Entity , Entity , Entity , Entity , Entity , Entity</td>\n",
       "      <td>Sp binding motifs , nucleotides -170 and -139 , DNA binding motif , 3' portion , Sp binding site , enhancer region , promoter , binding sites , binding site , 5' portion</td>\n",
       "      <td>PMID-9199305</td>\n",
       "    </tr>\n",
       "    <tr>\n",
       "      <th>4</th>\n",
       "      <td>Entity , Entity , Entity</td>\n",
       "      <td>HIV-gene , HIV long terminal repeat , NF-kappa B</td>\n",
       "      <td>PMID-1896645</td>\n",
       "    </tr>\n",
       "  </tbody>\n",
       "</table>\n",
       "</div>"
      ],
      "text/plain": [
       "                                                                                                                   entity_type  \\\n",
       "0  Entity , Entity , Entity , Entity , Entity , Entity , Entity , Entity , Entity , Entity , Entity , Entity , Entity            \n",
       "1  Entity , Entity , Entity , Entity , Entity , Entity , Entity , Entity , Entity , Entity , Entity , Entity , Entity , Entity   \n",
       "2  Entity , Entity , Entity , Entity                                                                                             \n",
       "3  Entity , Entity , Entity , Entity , Entity , Entity , Entity , Entity , Entity , Entity                                       \n",
       "4  Entity , Entity , Entity                                                                                                      \n",
       "\n",
       "                                                                                                                                                                                                                                                                                                                         entity_val  \\\n",
       "0  t(3;12) , exon 2 , 3q21 genes , novel gene , 3q21 , 3q26 , t(3;3)(q21;q26) , 5' ends of the 3q21 genes , ecotropic viral insertion site I , 5' ends , t(3;21) , t(3;3) , exon 2 of the EVI1 gene                                                                                                                                   \n",
       "1  tissue-specific regulatory region , 969-bp promoter fragments , upstream regulatory region , 244-bp deoxycytidine kinase core promoter , promoter , CRE site , binding sites , /AP-2 site , camp response element site , core promoter , 768-bp upstream negative regulatory region , basal promoter , 5' region , reporter gene   \n",
       "2  regulatory immediate-early genes , gene , viral gene , cycle regulatory genes                                                                                                                                                                                                                                                      \n",
       "3  Sp binding motifs , nucleotides -170 and -139 , DNA binding motif , 3' portion , Sp binding site , enhancer region , promoter , binding sites , binding site , 5' portion                                                                                                                                                          \n",
       "4  HIV-gene , HIV long terminal repeat , NF-kappa B                                                                                                                                                                                                                                                                                   \n",
       "\n",
       "              id  \n",
       "0  PMID-9307271   \n",
       "1  PMID-10428853  \n",
       "2  PMID-9852211   \n",
       "3  PMID-9199305   \n",
       "4  PMID-1896645   "
      ]
     },
     "execution_count": 6,
     "metadata": {},
     "output_type": "execute_result"
    }
   ],
   "source": [
    "df_entities = pd.DataFrame(total_entities)\n",
    "df_entities.head()"
   ]
  },
  {
   "cell_type": "markdown",
   "metadata": {},
   "source": [
    "## True Graph with Protein Entities Only"
   ]
  },
  {
   "cell_type": "code",
   "execution_count": 22,
   "metadata": {},
   "outputs": [
    {
     "name": "stdout",
     "output_type": "stream",
     "text": [
      "id              PMID-9427533                                             \n",
      "protein_type    Protein , Protein , Protein , Protein , Protein , Protein\n",
      "protein_val     XPD , XPB , XPG , XPA , XP-D , XP-B                      \n",
      "Name: 0, dtype: object\n",
      "id              PMID-9427533                                             \n",
      "protein_type    Protein , Protein , Protein , Protein , Protein , Protein\n",
      "protein_val     XPD , XPB , XPG , XPA , XP-D , XP-B                      \n",
      "Name: 0, dtype: object\n"
     ]
    },
    {
     "ename": "IndexError",
     "evalue": "('index out of bounds', 'occurred at index 0')",
     "output_type": "error",
     "traceback": [
      "\u001b[0;31m---------------------------------------------------------------------------\u001b[0m",
      "\u001b[0;31mKeyError\u001b[0m                                  Traceback (most recent call last)",
      "\u001b[0;32m~/.local/lib/python3.5/site-packages/pandas/core/indexes/base.py\u001b[0m in \u001b[0;36mget_value\u001b[0;34m(self, series, key)\u001b[0m\n\u001b[1;32m   3117\u001b[0m             return self._engine.get_value(s, k,\n\u001b[0;32m-> 3118\u001b[0;31m                                           tz=getattr(series.dtype, 'tz', None))\n\u001b[0m\u001b[1;32m   3119\u001b[0m         \u001b[0;32mexcept\u001b[0m \u001b[0mKeyError\u001b[0m \u001b[0;32mas\u001b[0m \u001b[0me1\u001b[0m\u001b[0;34m:\u001b[0m\u001b[0;34m\u001b[0m\u001b[0m\n",
      "\u001b[0;32mpandas/_libs/index.pyx\u001b[0m in \u001b[0;36mpandas._libs.index.IndexEngine.get_value\u001b[0;34m()\u001b[0m\n",
      "\u001b[0;32mpandas/_libs/index.pyx\u001b[0m in \u001b[0;36mpandas._libs.index.IndexEngine.get_value\u001b[0;34m()\u001b[0m\n",
      "\u001b[0;32mpandas/_libs/index.pyx\u001b[0m in \u001b[0;36mpandas._libs.index.IndexEngine.get_loc\u001b[0;34m()\u001b[0m\n",
      "\u001b[0;32mpandas/_libs/hashtable_class_helper.pxi\u001b[0m in \u001b[0;36mpandas._libs.hashtable.PyObjectHashTable.get_item\u001b[0;34m()\u001b[0m\n",
      "\u001b[0;32mpandas/_libs/hashtable_class_helper.pxi\u001b[0m in \u001b[0;36mpandas._libs.hashtable.PyObjectHashTable.get_item\u001b[0;34m()\u001b[0m\n",
      "\u001b[0;31mKeyError\u001b[0m: 140618404485328",
      "\nDuring handling of the above exception, another exception occurred:\n",
      "\u001b[0;31mIndexError\u001b[0m                                Traceback (most recent call last)",
      "\u001b[0;32m<ipython-input-22-ede0039a4510>\u001b[0m in \u001b[0;36m<module>\u001b[0;34m()\u001b[0m\n\u001b[1;32m      4\u001b[0m     \u001b[0mpro_entities\u001b[0m\u001b[0;34m.\u001b[0m\u001b[0mextend\u001b[0m\u001b[0;34m(\u001b[0m\u001b[0mlist\u001b[0m\u001b[0;34m(\u001b[0m\u001b[0mmap\u001b[0m\u001b[0;34m(\u001b[0m\u001b[0;32mlambda\u001b[0m \u001b[0mx\u001b[0m\u001b[0;34m:\u001b[0m\u001b[0;34m{\u001b[0m\u001b[0;34m'id'\u001b[0m\u001b[0;34m:\u001b[0m\u001b[0mrow\u001b[0m\u001b[0;34m[\u001b[0m\u001b[0mid\u001b[0m\u001b[0;34m]\u001b[0m\u001b[0;34m,\u001b[0m \u001b[0;34m'val'\u001b[0m\u001b[0;34m:\u001b[0m \u001b[0mx\u001b[0m\u001b[0;34m}\u001b[0m\u001b[0;34m,\u001b[0m \u001b[0mrow\u001b[0m\u001b[0;34m[\u001b[0m\u001b[0;34m'protein_val'\u001b[0m\u001b[0;34m]\u001b[0m\u001b[0;34m.\u001b[0m\u001b[0msplit\u001b[0m\u001b[0;34m(\u001b[0m\u001b[0;34m' , '\u001b[0m\u001b[0;34m)\u001b[0m\u001b[0;34m)\u001b[0m\u001b[0;34m)\u001b[0m\u001b[0;34m)\u001b[0m\u001b[0;34m\u001b[0m\u001b[0m\n\u001b[1;32m      5\u001b[0m \u001b[0;34m\u001b[0m\u001b[0m\n\u001b[0;32m----> 6\u001b[0;31m \u001b[0mdf_proteins\u001b[0m\u001b[0;34m.\u001b[0m\u001b[0mapply\u001b[0m\u001b[0;34m(\u001b[0m\u001b[0mreorganize_by_entity\u001b[0m\u001b[0;34m,\u001b[0m \u001b[0maxis\u001b[0m\u001b[0;34m=\u001b[0m\u001b[0;36m1\u001b[0m\u001b[0;34m)\u001b[0m\u001b[0;34m\u001b[0m\u001b[0m\n\u001b[0m",
      "\u001b[0;32m~/.local/lib/python3.5/site-packages/pandas/core/frame.py\u001b[0m in \u001b[0;36mapply\u001b[0;34m(self, func, axis, broadcast, raw, reduce, result_type, args, **kwds)\u001b[0m\n\u001b[1;32m   6012\u001b[0m                          \u001b[0margs\u001b[0m\u001b[0;34m=\u001b[0m\u001b[0margs\u001b[0m\u001b[0;34m,\u001b[0m\u001b[0;34m\u001b[0m\u001b[0m\n\u001b[1;32m   6013\u001b[0m                          kwds=kwds)\n\u001b[0;32m-> 6014\u001b[0;31m         \u001b[0;32mreturn\u001b[0m \u001b[0mop\u001b[0m\u001b[0;34m.\u001b[0m\u001b[0mget_result\u001b[0m\u001b[0;34m(\u001b[0m\u001b[0;34m)\u001b[0m\u001b[0;34m\u001b[0m\u001b[0m\n\u001b[0m\u001b[1;32m   6015\u001b[0m \u001b[0;34m\u001b[0m\u001b[0m\n\u001b[1;32m   6016\u001b[0m     \u001b[0;32mdef\u001b[0m \u001b[0mapplymap\u001b[0m\u001b[0;34m(\u001b[0m\u001b[0mself\u001b[0m\u001b[0;34m,\u001b[0m \u001b[0mfunc\u001b[0m\u001b[0;34m)\u001b[0m\u001b[0;34m:\u001b[0m\u001b[0;34m\u001b[0m\u001b[0m\n",
      "\u001b[0;32m~/.local/lib/python3.5/site-packages/pandas/core/apply.py\u001b[0m in \u001b[0;36mget_result\u001b[0;34m(self)\u001b[0m\n\u001b[1;32m    140\u001b[0m             \u001b[0;32mreturn\u001b[0m \u001b[0mself\u001b[0m\u001b[0;34m.\u001b[0m\u001b[0mapply_raw\u001b[0m\u001b[0;34m(\u001b[0m\u001b[0;34m)\u001b[0m\u001b[0;34m\u001b[0m\u001b[0m\n\u001b[1;32m    141\u001b[0m \u001b[0;34m\u001b[0m\u001b[0m\n\u001b[0;32m--> 142\u001b[0;31m         \u001b[0;32mreturn\u001b[0m \u001b[0mself\u001b[0m\u001b[0;34m.\u001b[0m\u001b[0mapply_standard\u001b[0m\u001b[0;34m(\u001b[0m\u001b[0;34m)\u001b[0m\u001b[0;34m\u001b[0m\u001b[0m\n\u001b[0m\u001b[1;32m    143\u001b[0m \u001b[0;34m\u001b[0m\u001b[0m\n\u001b[1;32m    144\u001b[0m     \u001b[0;32mdef\u001b[0m \u001b[0mapply_empty_result\u001b[0m\u001b[0;34m(\u001b[0m\u001b[0mself\u001b[0m\u001b[0;34m)\u001b[0m\u001b[0;34m:\u001b[0m\u001b[0;34m\u001b[0m\u001b[0m\n",
      "\u001b[0;32m~/.local/lib/python3.5/site-packages/pandas/core/apply.py\u001b[0m in \u001b[0;36mapply_standard\u001b[0;34m(self)\u001b[0m\n\u001b[1;32m    246\u001b[0m \u001b[0;34m\u001b[0m\u001b[0m\n\u001b[1;32m    247\u001b[0m         \u001b[0;31m# compute the result using the series generator\u001b[0m\u001b[0;34m\u001b[0m\u001b[0;34m\u001b[0m\u001b[0m\n\u001b[0;32m--> 248\u001b[0;31m         \u001b[0mself\u001b[0m\u001b[0;34m.\u001b[0m\u001b[0mapply_series_generator\u001b[0m\u001b[0;34m(\u001b[0m\u001b[0;34m)\u001b[0m\u001b[0;34m\u001b[0m\u001b[0m\n\u001b[0m\u001b[1;32m    249\u001b[0m \u001b[0;34m\u001b[0m\u001b[0m\n\u001b[1;32m    250\u001b[0m         \u001b[0;31m# wrap results\u001b[0m\u001b[0;34m\u001b[0m\u001b[0;34m\u001b[0m\u001b[0m\n",
      "\u001b[0;32m~/.local/lib/python3.5/site-packages/pandas/core/apply.py\u001b[0m in \u001b[0;36mapply_series_generator\u001b[0;34m(self)\u001b[0m\n\u001b[1;32m    275\u001b[0m             \u001b[0;32mtry\u001b[0m\u001b[0;34m:\u001b[0m\u001b[0;34m\u001b[0m\u001b[0m\n\u001b[1;32m    276\u001b[0m                 \u001b[0;32mfor\u001b[0m \u001b[0mi\u001b[0m\u001b[0;34m,\u001b[0m \u001b[0mv\u001b[0m \u001b[0;32min\u001b[0m \u001b[0menumerate\u001b[0m\u001b[0;34m(\u001b[0m\u001b[0mseries_gen\u001b[0m\u001b[0;34m)\u001b[0m\u001b[0;34m:\u001b[0m\u001b[0;34m\u001b[0m\u001b[0m\n\u001b[0;32m--> 277\u001b[0;31m                     \u001b[0mresults\u001b[0m\u001b[0;34m[\u001b[0m\u001b[0mi\u001b[0m\u001b[0;34m]\u001b[0m \u001b[0;34m=\u001b[0m \u001b[0mself\u001b[0m\u001b[0;34m.\u001b[0m\u001b[0mf\u001b[0m\u001b[0;34m(\u001b[0m\u001b[0mv\u001b[0m\u001b[0;34m)\u001b[0m\u001b[0;34m\u001b[0m\u001b[0m\n\u001b[0m\u001b[1;32m    278\u001b[0m                     \u001b[0mkeys\u001b[0m\u001b[0;34m.\u001b[0m\u001b[0mappend\u001b[0m\u001b[0;34m(\u001b[0m\u001b[0mv\u001b[0m\u001b[0;34m.\u001b[0m\u001b[0mname\u001b[0m\u001b[0;34m)\u001b[0m\u001b[0;34m\u001b[0m\u001b[0m\n\u001b[1;32m    279\u001b[0m             \u001b[0;32mexcept\u001b[0m \u001b[0mException\u001b[0m \u001b[0;32mas\u001b[0m \u001b[0me\u001b[0m\u001b[0;34m:\u001b[0m\u001b[0;34m\u001b[0m\u001b[0m\n",
      "\u001b[0;32m<ipython-input-22-ede0039a4510>\u001b[0m in \u001b[0;36mreorganize_by_entity\u001b[0;34m(row)\u001b[0m\n\u001b[1;32m      2\u001b[0m \u001b[0;32mdef\u001b[0m \u001b[0mreorganize_by_entity\u001b[0m\u001b[0;34m(\u001b[0m\u001b[0mrow\u001b[0m\u001b[0;34m)\u001b[0m\u001b[0;34m:\u001b[0m\u001b[0;34m\u001b[0m\u001b[0m\n\u001b[1;32m      3\u001b[0m     \u001b[0mprint\u001b[0m\u001b[0;34m(\u001b[0m\u001b[0mrow\u001b[0m\u001b[0;34m)\u001b[0m\u001b[0;34m\u001b[0m\u001b[0m\n\u001b[0;32m----> 4\u001b[0;31m     \u001b[0mpro_entities\u001b[0m\u001b[0;34m.\u001b[0m\u001b[0mextend\u001b[0m\u001b[0;34m(\u001b[0m\u001b[0mlist\u001b[0m\u001b[0;34m(\u001b[0m\u001b[0mmap\u001b[0m\u001b[0;34m(\u001b[0m\u001b[0;32mlambda\u001b[0m \u001b[0mx\u001b[0m\u001b[0;34m:\u001b[0m\u001b[0;34m{\u001b[0m\u001b[0;34m'id'\u001b[0m\u001b[0;34m:\u001b[0m\u001b[0mrow\u001b[0m\u001b[0;34m[\u001b[0m\u001b[0mid\u001b[0m\u001b[0;34m]\u001b[0m\u001b[0;34m,\u001b[0m \u001b[0;34m'val'\u001b[0m\u001b[0;34m:\u001b[0m \u001b[0mx\u001b[0m\u001b[0;34m}\u001b[0m\u001b[0;34m,\u001b[0m \u001b[0mrow\u001b[0m\u001b[0;34m[\u001b[0m\u001b[0;34m'protein_val'\u001b[0m\u001b[0;34m]\u001b[0m\u001b[0;34m.\u001b[0m\u001b[0msplit\u001b[0m\u001b[0;34m(\u001b[0m\u001b[0;34m' , '\u001b[0m\u001b[0;34m)\u001b[0m\u001b[0;34m)\u001b[0m\u001b[0;34m)\u001b[0m\u001b[0;34m)\u001b[0m\u001b[0;34m\u001b[0m\u001b[0m\n\u001b[0m\u001b[1;32m      5\u001b[0m \u001b[0;34m\u001b[0m\u001b[0m\n\u001b[1;32m      6\u001b[0m \u001b[0mdf_proteins\u001b[0m\u001b[0;34m.\u001b[0m\u001b[0mapply\u001b[0m\u001b[0;34m(\u001b[0m\u001b[0mreorganize_by_entity\u001b[0m\u001b[0;34m,\u001b[0m \u001b[0maxis\u001b[0m\u001b[0;34m=\u001b[0m\u001b[0;36m1\u001b[0m\u001b[0;34m)\u001b[0m\u001b[0;34m\u001b[0m\u001b[0m\n",
      "\u001b[0;32m<ipython-input-22-ede0039a4510>\u001b[0m in \u001b[0;36m<lambda>\u001b[0;34m(x)\u001b[0m\n\u001b[1;32m      2\u001b[0m \u001b[0;32mdef\u001b[0m \u001b[0mreorganize_by_entity\u001b[0m\u001b[0;34m(\u001b[0m\u001b[0mrow\u001b[0m\u001b[0;34m)\u001b[0m\u001b[0;34m:\u001b[0m\u001b[0;34m\u001b[0m\u001b[0m\n\u001b[1;32m      3\u001b[0m     \u001b[0mprint\u001b[0m\u001b[0;34m(\u001b[0m\u001b[0mrow\u001b[0m\u001b[0;34m)\u001b[0m\u001b[0;34m\u001b[0m\u001b[0m\n\u001b[0;32m----> 4\u001b[0;31m     \u001b[0mpro_entities\u001b[0m\u001b[0;34m.\u001b[0m\u001b[0mextend\u001b[0m\u001b[0;34m(\u001b[0m\u001b[0mlist\u001b[0m\u001b[0;34m(\u001b[0m\u001b[0mmap\u001b[0m\u001b[0;34m(\u001b[0m\u001b[0;32mlambda\u001b[0m \u001b[0mx\u001b[0m\u001b[0;34m:\u001b[0m\u001b[0;34m{\u001b[0m\u001b[0;34m'id'\u001b[0m\u001b[0;34m:\u001b[0m\u001b[0mrow\u001b[0m\u001b[0;34m[\u001b[0m\u001b[0mid\u001b[0m\u001b[0;34m]\u001b[0m\u001b[0;34m,\u001b[0m \u001b[0;34m'val'\u001b[0m\u001b[0;34m:\u001b[0m \u001b[0mx\u001b[0m\u001b[0;34m}\u001b[0m\u001b[0;34m,\u001b[0m \u001b[0mrow\u001b[0m\u001b[0;34m[\u001b[0m\u001b[0;34m'protein_val'\u001b[0m\u001b[0;34m]\u001b[0m\u001b[0;34m.\u001b[0m\u001b[0msplit\u001b[0m\u001b[0;34m(\u001b[0m\u001b[0;34m' , '\u001b[0m\u001b[0;34m)\u001b[0m\u001b[0;34m)\u001b[0m\u001b[0;34m)\u001b[0m\u001b[0;34m)\u001b[0m\u001b[0;34m\u001b[0m\u001b[0m\n\u001b[0m\u001b[1;32m      5\u001b[0m \u001b[0;34m\u001b[0m\u001b[0m\n\u001b[1;32m      6\u001b[0m \u001b[0mdf_proteins\u001b[0m\u001b[0;34m.\u001b[0m\u001b[0mapply\u001b[0m\u001b[0;34m(\u001b[0m\u001b[0mreorganize_by_entity\u001b[0m\u001b[0;34m,\u001b[0m \u001b[0maxis\u001b[0m\u001b[0;34m=\u001b[0m\u001b[0;36m1\u001b[0m\u001b[0;34m)\u001b[0m\u001b[0;34m\u001b[0m\u001b[0m\n",
      "\u001b[0;32m~/.local/lib/python3.5/site-packages/pandas/core/series.py\u001b[0m in \u001b[0;36m__getitem__\u001b[0;34m(self, key)\u001b[0m\n\u001b[1;32m    765\u001b[0m         \u001b[0mkey\u001b[0m \u001b[0;34m=\u001b[0m \u001b[0mcom\u001b[0m\u001b[0;34m.\u001b[0m\u001b[0m_apply_if_callable\u001b[0m\u001b[0;34m(\u001b[0m\u001b[0mkey\u001b[0m\u001b[0;34m,\u001b[0m \u001b[0mself\u001b[0m\u001b[0;34m)\u001b[0m\u001b[0;34m\u001b[0m\u001b[0m\n\u001b[1;32m    766\u001b[0m         \u001b[0;32mtry\u001b[0m\u001b[0;34m:\u001b[0m\u001b[0;34m\u001b[0m\u001b[0m\n\u001b[0;32m--> 767\u001b[0;31m             \u001b[0mresult\u001b[0m \u001b[0;34m=\u001b[0m \u001b[0mself\u001b[0m\u001b[0;34m.\u001b[0m\u001b[0mindex\u001b[0m\u001b[0;34m.\u001b[0m\u001b[0mget_value\u001b[0m\u001b[0;34m(\u001b[0m\u001b[0mself\u001b[0m\u001b[0;34m,\u001b[0m \u001b[0mkey\u001b[0m\u001b[0;34m)\u001b[0m\u001b[0;34m\u001b[0m\u001b[0m\n\u001b[0m\u001b[1;32m    768\u001b[0m \u001b[0;34m\u001b[0m\u001b[0m\n\u001b[1;32m    769\u001b[0m             \u001b[0;32mif\u001b[0m \u001b[0;32mnot\u001b[0m \u001b[0mis_scalar\u001b[0m\u001b[0;34m(\u001b[0m\u001b[0mresult\u001b[0m\u001b[0;34m)\u001b[0m\u001b[0;34m:\u001b[0m\u001b[0;34m\u001b[0m\u001b[0m\n",
      "\u001b[0;32m~/.local/lib/python3.5/site-packages/pandas/core/indexes/base.py\u001b[0m in \u001b[0;36mget_value\u001b[0;34m(self, series, key)\u001b[0m\n\u001b[1;32m   3122\u001b[0m \u001b[0;34m\u001b[0m\u001b[0m\n\u001b[1;32m   3123\u001b[0m             \u001b[0;32mtry\u001b[0m\u001b[0;34m:\u001b[0m\u001b[0;34m\u001b[0m\u001b[0m\n\u001b[0;32m-> 3124\u001b[0;31m                 \u001b[0;32mreturn\u001b[0m \u001b[0mlibindex\u001b[0m\u001b[0;34m.\u001b[0m\u001b[0mget_value_box\u001b[0m\u001b[0;34m(\u001b[0m\u001b[0ms\u001b[0m\u001b[0;34m,\u001b[0m \u001b[0mkey\u001b[0m\u001b[0;34m)\u001b[0m\u001b[0;34m\u001b[0m\u001b[0m\n\u001b[0m\u001b[1;32m   3125\u001b[0m             \u001b[0;32mexcept\u001b[0m \u001b[0mIndexError\u001b[0m\u001b[0;34m:\u001b[0m\u001b[0;34m\u001b[0m\u001b[0m\n\u001b[1;32m   3126\u001b[0m                 \u001b[0;32mraise\u001b[0m\u001b[0;34m\u001b[0m\u001b[0m\n",
      "\u001b[0;32mpandas/_libs/index.pyx\u001b[0m in \u001b[0;36mpandas._libs.index.get_value_box\u001b[0;34m()\u001b[0m\n",
      "\u001b[0;32mpandas/_libs/index.pyx\u001b[0m in \u001b[0;36mpandas._libs.index.get_value_box\u001b[0;34m()\u001b[0m\n",
      "\u001b[0;31mIndexError\u001b[0m: ('index out of bounds', 'occurred at index 0')"
     ]
    }
   ],
   "source": [
    "pro_entities = []\n",
    "def reorganize_by_entity(row):\n",
    "    print(row)\n",
    "    pro_entities.extend(list(map(lambda x:{'id':row[id], 'val': x}, row['protein_val'].split(' , '))))\n",
    "\n",
    "df_proteins.apply(reorganize_by_entity, axis=1)"
   ]
  },
  {
   "cell_type": "code",
   "execution_count": 23,
   "metadata": {},
   "outputs": [
    {
     "data": {
      "text/plain": [
       "[]"
      ]
     },
     "execution_count": 23,
     "metadata": {},
     "output_type": "execute_result"
    }
   ],
   "source": [
    "pro_entities"
   ]
  },
  {
   "cell_type": "code",
   "execution_count": null,
   "metadata": {},
   "outputs": [],
   "source": []
  }
 ],
 "metadata": {
  "kernelspec": {
   "display_name": "Python 3",
   "language": "python",
   "name": "python3"
  },
  "language_info": {
   "codemirror_mode": {
    "name": "ipython",
    "version": 3
   },
   "file_extension": ".py",
   "mimetype": "text/x-python",
   "name": "python",
   "nbconvert_exporter": "python",
   "pygments_lexer": "ipython3",
   "version": "3.5.2"
  }
 },
 "nbformat": 4,
 "nbformat_minor": 2
}
